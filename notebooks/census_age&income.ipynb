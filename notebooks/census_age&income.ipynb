{
 "cells": [
  {
   "cell_type": "code",
   "execution_count": 1,
   "metadata": {},
   "outputs": [
    {
     "name": "stdout",
     "output_type": "stream",
     "text": [
      "22/09/15 12:43:04 WARN Utils: Your hostname, hexiangyideMacBook-Pro.local resolves to a loopback address: 127.0.0.1; using 10.13.176.27 instead (on interface en0)\n",
      "22/09/15 12:43:04 WARN Utils: Set SPARK_LOCAL_IP if you need to bind to another address\n"
     ]
    },
    {
     "name": "stderr",
     "output_type": "stream",
     "text": [
      "Setting default log level to \"WARN\".\n",
      "To adjust logging level use sc.setLogLevel(newLevel). For SparkR, use setLogLevel(newLevel).\n"
     ]
    },
    {
     "name": "stdout",
     "output_type": "stream",
     "text": [
      "22/09/15 12:43:04 WARN NativeCodeLoader: Unable to load native-hadoop library for your platform... using builtin-java classes where applicable\n",
      "22/09/15 12:43:05 WARN Utils: Service 'SparkUI' could not bind on port 4040. Attempting port 4041.\n",
      "22/09/15 12:43:05 WARN Utils: Service 'SparkUI' could not bind on port 4041. Attempting port 4042.\n"
     ]
    }
   ],
   "source": [
    "from pyspark.sql import SparkSession\n",
    "from pyspark.sql import functions as F\n",
    "from pyspark.sql.functions import col\n",
    "# Create a spark session (which will run spark jobs)\n",
    "spark = (\n",
    "    SparkSession.builder.appName(\"MAST30034 Tutorial 1\")\n",
    "    .config(\"spark.sql.repl.eagerEval.enabled\", True) \n",
    "    .config(\"spark.sql.parquet.cacheMetadata\", \"true\")\n",
    "    .config(\"spark.sql.session.timeZone\", \"Etc/UTC\")\n",
    "    .getOrCreate()\n",
    ")"
   ]
  },
  {
   "cell_type": "code",
   "execution_count": 2,
   "metadata": {},
   "outputs": [
    {
     "name": "stderr",
     "output_type": "stream",
     "text": [
      "                                                                                \r"
     ]
    }
   ],
   "source": [
    "census_04A_age = spark.read.parquet('../data/curated/census_data_2021_04A.parquet')\n",
    "census_04B_age = spark.read.parquet('../data/curated/census_data_2021_04B.parquet')\n",
    "census_17A_income = spark.read.parquet('../data/curated/census_data_2021_17A.parquet')\n",
    "census_17B_income = spark.read.parquet('../data/curated/census_data_2021_17B.parquet')\n",
    "census_17C_income = spark.read.parquet('../data/curated/census_data_2021_17C.parquet')\n",
    "correspondences = spark.read.parquet('../data/curated/correspondences.parquet')\n",
    "postcode = spark.read.parquet('../data/curated/postcode_SA2.parquet/')\n"
   ]
  },
  {
   "cell_type": "code",
   "execution_count": 3,
   "metadata": {},
   "outputs": [],
   "source": [
    "#Merge the age dataframe\n",
    "Age_Data = census_04A_age.join(census_04B_age, census_04A_age.SA2_CODE_2021 == census_04B_age.SA2_CODE_2021).drop(census_04B_age.SA2_CODE_2021)"
   ]
  },
  {
   "cell_type": "code",
   "execution_count": 4,
   "metadata": {},
   "outputs": [
    {
     "data": {
      "text/html": [
       "<table border='1'>\n",
       "<tr><th>SA2_CODE_2021</th><th>Age_yr_0_4_P</th><th>Age_yr_5_9_P</th><th>Age_yr_10_14_P</th><th>Age_yr_15_19_P</th><th>Age_yr_20_24_P</th><th>Age_yr_25_29_P</th><th>Age_yr_30_34_P</th><th>Age_yr_35_39_P</th><th>Age_yr_40_44_P</th><th>Age_yr_45_49_P</th><th>Age_yr_50_54_P</th><th>Age_yr_55_59_P</th><th>Age_yr_60_64_P</th><th>Age_yr_65_69_P</th><th>Age_yr_70_74_P</th><th>Age_yr_75_79_P</th><th>Tot_P</th><th>result</th></tr>\n",
       "<tr><td>101021007</td><td>207</td><td>254</td><td>229</td><td>173</td><td>122</td><td>172</td><td>192</td><td>246</td><td>202</td><td>291</td><td>351</td><td>353</td><td>435</td><td>338</td><td>302</td><td>249</td><td>4343</td><td>2364.0</td></tr>\n",
       "<tr><td>101021008</td><td>526</td><td>530</td><td>566</td><td>490</td><td>515</td><td>629</td><td>637</td><td>588</td><td>546</td><td>556</td><td>594</td><td>580</td><td>513</td><td>429</td><td>325</td><td>227</td><td>8517</td><td>5158.0</td></tr>\n",
       "<tr><td>101021009</td><td>669</td><td>587</td><td>482</td><td>433</td><td>689</td><td>1130</td><td>1238</td><td>903</td><td>740</td><td>705</td><td>690</td><td>674</td><td>587</td><td>509</td><td>418</td><td>286</td><td>11342</td><td>7356.0</td></tr>\n",
       "</table>\n"
      ],
      "text/plain": [
       "+-------------+------------+------------+--------------+--------------+--------------+--------------+--------------+--------------+--------------+--------------+--------------+--------------+--------------+--------------+--------------+--------------+-----+------+\n",
       "|SA2_CODE_2021|Age_yr_0_4_P|Age_yr_5_9_P|Age_yr_10_14_P|Age_yr_15_19_P|Age_yr_20_24_P|Age_yr_25_29_P|Age_yr_30_34_P|Age_yr_35_39_P|Age_yr_40_44_P|Age_yr_45_49_P|Age_yr_50_54_P|Age_yr_55_59_P|Age_yr_60_64_P|Age_yr_65_69_P|Age_yr_70_74_P|Age_yr_75_79_P|Tot_P|result|\n",
       "+-------------+------------+------------+--------------+--------------+--------------+--------------+--------------+--------------+--------------+--------------+--------------+--------------+--------------+--------------+--------------+--------------+-----+------+\n",
       "|    101021007|         207|         254|           229|           173|           122|           172|           192|           246|           202|           291|           351|           353|           435|           338|           302|           249| 4343|2364.0|\n",
       "|    101021008|         526|         530|           566|           490|           515|           629|           637|           588|           546|           556|           594|           580|           513|           429|           325|           227| 8517|5158.0|\n",
       "|    101021009|         669|         587|           482|           433|           689|          1130|          1238|           903|           740|           705|           690|           674|           587|           509|           418|           286|11342|7356.0|\n",
       "+-------------+------------+------------+--------------+--------------+--------------+--------------+--------------+--------------+--------------+--------------+--------------+--------------+--------------+--------------+--------------+--------------+-----+------+"
      ]
     },
     "execution_count": 4,
     "metadata": {},
     "output_type": "execute_result"
    }
   ],
   "source": [
    "#Select the column in the age dataframe (18-65) and calculate the sum\n",
    "Age_Data_select = Age_Data.select(Age_Data.columns[0::18])\n",
    "Age_Data_total = Age_Data_select.withColumn(\"result\", sum([col(x) for x in Age_Data_select.columns[5:14]]))\n",
    "Age_Data_total.limit(3)\n"
   ]
  },
  {
   "cell_type": "code",
   "execution_count": 5,
   "metadata": {},
   "outputs": [
    {
     "data": {
      "text/html": [
       "<table border='1'>\n",
       "<tr><th>SA2_CODE_2021</th><th>result</th><th>Tot_P</th></tr>\n",
       "<tr><td>101021007</td><td>2364.0</td><td>4343</td></tr>\n",
       "<tr><td>101021008</td><td>5158.0</td><td>8517</td></tr>\n",
       "<tr><td>101021009</td><td>7356.0</td><td>11342</td></tr>\n",
       "</table>\n"
      ],
      "text/plain": [
       "+-------------+------+-----+\n",
       "|SA2_CODE_2021|result|Tot_P|\n",
       "+-------------+------+-----+\n",
       "|    101021007|2364.0| 4343|\n",
       "|    101021008|5158.0| 8517|\n",
       "|    101021009|7356.0|11342|\n",
       "+-------------+------+-----+"
      ]
     },
     "execution_count": 5,
     "metadata": {},
     "output_type": "execute_result"
    }
   ],
   "source": [
    "Age_Data_total = Age_Data_total.select(\"SA2_CODE_2021\",\"result\",\"Tot_P\")\n",
    "Age_Data_total.limit(3)"
   ]
  },
  {
   "cell_type": "code",
   "execution_count": 6,
   "metadata": {},
   "outputs": [
    {
     "data": {
      "text/html": [
       "<table border='1'>\n",
       "<tr><th>SA2_CODE_2021</th><th>age_percentage</th></tr>\n",
       "<tr><td>101021007</td><td>0.5443241998618467</td></tr>\n",
       "<tr><td>101021008</td><td>0.6056123048021604</td></tr>\n",
       "<tr><td>101021009</td><td>0.6485628636924705</td></tr>\n",
       "</table>\n"
      ],
      "text/plain": [
       "+-------------+------------------+\n",
       "|SA2_CODE_2021|    age_percentage|\n",
       "+-------------+------------------+\n",
       "|    101021007|0.5443241998618467|\n",
       "|    101021008|0.6056123048021604|\n",
       "|    101021009|0.6485628636924705|\n",
       "+-------------+------------------+"
      ]
     },
     "execution_count": 6,
     "metadata": {},
     "output_type": "execute_result"
    }
   ],
   "source": [
    "Age_Data_rate = Age_Data_total.withColumn(\"age_percentage\", Age_Data_total.result /Age_Data_total.Tot_P)\n",
    "Age_Data_rate = Age_Data_rate.select(\"SA2_CODE_2021\",\"age_percentage\")\n",
    "Age_Data_rate.limit(3)"
   ]
  },
  {
   "cell_type": "code",
   "execution_count": 7,
   "metadata": {},
   "outputs": [
    {
     "name": "stdout",
     "output_type": "stream",
     "text": [
      "22/09/15 12:43:15 WARN package: Truncated the string representation of a plan since it was too large. This behavior can be adjusted by setting 'spark.sql.debug.maxToStringFields'.\n"
     ]
    },
    {
     "data": {
      "text/html": [
       "<table border='1'>\n",
       "<tr><th>SA2_CODE_2021</th><th>M_Neg_Nil_income_Tot</th><th>M_1_149_Tot</th><th>M_150_299_Tot</th><th>M_300_399_Tot</th><th>M_400_499_Tot</th><th>M_500_649_Tot</th><th>M_650_799_Tot</th><th>M_800_999_Tot</th><th>M_1000_1249_Tot</th><th>M_1250_1499_Tot</th><th>M_1500_1749_Tot</th><th>M_1750_1999_Tot</th><th>M_2000_2999_Tot</th><th>M_3000_3499_Tot</th><th>M_3500_more_Tot</th><th>M_PI_NS_ns_Tot</th><th>M_Tot_Tot</th><th>F_Neg_Nil_income_Tot</th><th>F_1_149_Tot</th><th>F_150_299_Tot</th><th>F_300_399_Tot</th><th>F_400_499_Tot</th><th>F_500_649_Tot</th><th>F_650_799_Tot</th><th>F_800_999_Tot</th><th>F_1000_1249_Tot</th><th>F_1250_1499_Tot</th><th>F_1500_1749_Tot</th><th>F_1750_1999_Tot</th><th>F_2000_2999_Tot</th><th>F_3000_3499_Tot</th><th>F_3500_more_Tot</th><th>F_PI_NS_ns_Tot</th><th>F_Tot_Tot</th><th>P_Neg_Nil_income_Tot</th><th>P_1_149_Tot</th><th>P_150_299_Tot</th><th>P_300_399_Tot</th><th>P_400_499_Tot</th><th>P_500_649_Tot</th><th>P_650_799_Tot</th><th>P_800_999_Tot</th><th>P_1000_1249_Tot</th><th>P_1250_1499_Tot</th><th>P_1500_1749_Tot</th><th>P_1750_1999_Tot</th><th>P_2000_2999_Tot</th><th>P_3000_3499_Tot</th><th>P_3500_more_Tot</th><th>P_PI_NS_ns_Tot</th><th>P_Tot_Tot</th><th>result</th></tr>\n",
       "<tr><td>101021007</td><td>90</td><td>52</td><td>96</td><td>146</td><td>141</td><td>114</td><td>120</td><td>120</td><td>185</td><td>120</td><td>113</td><td>94</td><td>162</td><td>42</td><td>68</td><td>184</td><td>1840</td><td>136</td><td>88</td><td>97</td><td>160</td><td>174</td><td>160</td><td>141</td><td>146</td><td>135</td><td>101</td><td>83</td><td>52</td><td>114</td><td>12</td><td>32</td><td>170</td><td>1807</td><td>225</td><td>140</td><td>196</td><td>307</td><td>312</td><td>274</td><td>264</td><td>266</td><td>323</td><td>217</td><td>192</td><td>146</td><td>277</td><td>57</td><td>98</td><td>355</td><td>3650</td><td>987.0</td></tr>\n",
       "<tr><td>101021008</td><td>226</td><td>56</td><td>116</td><td>204</td><td>177</td><td>150</td><td>194</td><td>265</td><td>377</td><td>312</td><td>322</td><td>227</td><td>361</td><td>59</td><td>93</td><td>246</td><td>3388</td><td>274</td><td>113</td><td>175</td><td>234</td><td>306</td><td>261</td><td>238</td><td>284</td><td>318</td><td>289</td><td>271</td><td>172</td><td>259</td><td>45</td><td>29</td><td>245</td><td>3509</td><td>495</td><td>165</td><td>290</td><td>435</td><td>484</td><td>416</td><td>435</td><td>549</td><td>697</td><td>599</td><td>592</td><td>404</td><td>619</td><td>102</td><td>125</td><td>492</td><td>6895</td><td>2441.0</td></tr>\n",
       "<tr><td>101021009</td><td>222</td><td>90</td><td>132</td><td>248</td><td>276</td><td>266</td><td>317</td><td>469</td><td>611</td><td>487</td><td>368</td><td>290</td><td>542</td><td>83</td><td>110</td><td>321</td><td>4832</td><td>319</td><td>98</td><td>145</td><td>336</td><td>437</td><td>336</td><td>371</td><td>425</td><td>468</td><td>383</td><td>368</td><td>254</td><td>393</td><td>35</td><td>69</td><td>330</td><td>4771</td><td>541</td><td>190</td><td>280</td><td>588</td><td>711</td><td>600</td><td>694</td><td>896</td><td>1080</td><td>866</td><td>738</td><td>545</td><td>939</td><td>117</td><td>179</td><td>643</td><td>9608</td><td>3384.0</td></tr>\n",
       "</table>\n"
      ],
      "text/plain": [
       "+-------------+--------------------+-----------+-------------+-------------+-------------+-------------+-------------+-------------+---------------+---------------+---------------+---------------+---------------+---------------+---------------+--------------+---------+--------------------+-----------+-------------+-------------+-------------+-------------+-------------+-------------+---------------+---------------+---------------+---------------+---------------+---------------+---------------+--------------+---------+--------------------+-----------+-------------+-------------+-------------+-------------+-------------+-------------+---------------+---------------+---------------+---------------+---------------+---------------+---------------+--------------+---------+------+\n",
       "|SA2_CODE_2021|M_Neg_Nil_income_Tot|M_1_149_Tot|M_150_299_Tot|M_300_399_Tot|M_400_499_Tot|M_500_649_Tot|M_650_799_Tot|M_800_999_Tot|M_1000_1249_Tot|M_1250_1499_Tot|M_1500_1749_Tot|M_1750_1999_Tot|M_2000_2999_Tot|M_3000_3499_Tot|M_3500_more_Tot|M_PI_NS_ns_Tot|M_Tot_Tot|F_Neg_Nil_income_Tot|F_1_149_Tot|F_150_299_Tot|F_300_399_Tot|F_400_499_Tot|F_500_649_Tot|F_650_799_Tot|F_800_999_Tot|F_1000_1249_Tot|F_1250_1499_Tot|F_1500_1749_Tot|F_1750_1999_Tot|F_2000_2999_Tot|F_3000_3499_Tot|F_3500_more_Tot|F_PI_NS_ns_Tot|F_Tot_Tot|P_Neg_Nil_income_Tot|P_1_149_Tot|P_150_299_Tot|P_300_399_Tot|P_400_499_Tot|P_500_649_Tot|P_650_799_Tot|P_800_999_Tot|P_1000_1249_Tot|P_1250_1499_Tot|P_1500_1749_Tot|P_1750_1999_Tot|P_2000_2999_Tot|P_3000_3499_Tot|P_3500_more_Tot|P_PI_NS_ns_Tot|P_Tot_Tot|result|\n",
       "+-------------+--------------------+-----------+-------------+-------------+-------------+-------------+-------------+-------------+---------------+---------------+---------------+---------------+---------------+---------------+---------------+--------------+---------+--------------------+-----------+-------------+-------------+-------------+-------------+-------------+-------------+---------------+---------------+---------------+---------------+---------------+---------------+---------------+--------------+---------+--------------------+-----------+-------------+-------------+-------------+-------------+-------------+-------------+---------------+---------------+---------------+---------------+---------------+---------------+---------------+--------------+---------+------+\n",
       "|    101021007|                  90|         52|           96|          146|          141|          114|          120|          120|            185|            120|            113|             94|            162|             42|             68|           184|     1840|                 136|         88|           97|          160|          174|          160|          141|          146|            135|            101|             83|             52|            114|             12|             32|           170|     1807|                 225|        140|          196|          307|          312|          274|          264|          266|            323|            217|            192|            146|            277|             57|             98|           355|     3650| 987.0|\n",
       "|    101021008|                 226|         56|          116|          204|          177|          150|          194|          265|            377|            312|            322|            227|            361|             59|             93|           246|     3388|                 274|        113|          175|          234|          306|          261|          238|          284|            318|            289|            271|            172|            259|             45|             29|           245|     3509|                 495|        165|          290|          435|          484|          416|          435|          549|            697|            599|            592|            404|            619|            102|            125|           492|     6895|2441.0|\n",
       "|    101021009|                 222|         90|          132|          248|          276|          266|          317|          469|            611|            487|            368|            290|            542|             83|            110|           321|     4832|                 319|         98|          145|          336|          437|          336|          371|          425|            468|            383|            368|            254|            393|             35|             69|           330|     4771|                 541|        190|          280|          588|          711|          600|          694|          896|           1080|            866|            738|            545|            939|            117|            179|           643|     9608|3384.0|\n",
       "+-------------+--------------------+-----------+-------------+-------------+-------------+-------------+-------------+-------------+---------------+---------------+---------------+---------------+---------------+---------------+---------------+--------------+---------+--------------------+-----------+-------------+-------------+-------------+-------------+-------------+-------------+---------------+---------------+---------------+---------------+---------------+---------------+---------------+--------------+---------+--------------------+-----------+-------------+-------------+-------------+-------------+-------------+-------------+---------------+---------------+---------------+---------------+---------------+---------------+---------------+--------------+---------+------+"
      ]
     },
     "execution_count": 7,
     "metadata": {},
     "output_type": "execute_result"
    }
   ],
   "source": [
    "income = census_17A_income.join(census_17B_income, census_17A_income.SA2_CODE_2021 == census_17B_income.SA2_CODE_2021).drop(census_17B_income.SA2_CODE_2021)\n",
    "income_data = income.join(census_17C_income, income.SA2_CODE_2021 == census_17C_income.SA2_CODE_2021).drop(census_17C_income.SA2_CODE_2021)\n",
    "\n",
    "income_data_del = income_data.select(income_data.columns[0::10])\n",
    "income_data_select =income_data_del.withColumn(\"result\", sum([col(x) for x in income_data_del.columns[44:50]]))\n",
    "income_data_select.limit(3)"
   ]
  },
  {
   "cell_type": "code",
   "execution_count": 8,
   "metadata": {},
   "outputs": [
    {
     "data": {
      "text/html": [
       "<table border='1'>\n",
       "<tr><th>SA2_CODE_2021</th><th>result</th><th>P_Tot_Tot</th></tr>\n",
       "<tr><td>101021007</td><td>987.0</td><td>3650</td></tr>\n",
       "<tr><td>101021008</td><td>2441.0</td><td>6895</td></tr>\n",
       "<tr><td>101021009</td><td>3384.0</td><td>9608</td></tr>\n",
       "</table>\n"
      ],
      "text/plain": [
       "+-------------+------+---------+\n",
       "|SA2_CODE_2021|result|P_Tot_Tot|\n",
       "+-------------+------+---------+\n",
       "|    101021007| 987.0|     3650|\n",
       "|    101021008|2441.0|     6895|\n",
       "|    101021009|3384.0|     9608|\n",
       "+-------------+------+---------+"
      ]
     },
     "execution_count": 8,
     "metadata": {},
     "output_type": "execute_result"
    }
   ],
   "source": [
    "income_Data_total = income_data_select.select(\"SA2_CODE_2021\",\"result\",\"P_Tot_Tot\")\n",
    "income_Data_total.limit(3)"
   ]
  },
  {
   "cell_type": "code",
   "execution_count": 9,
   "metadata": {},
   "outputs": [],
   "source": [
    "income_Data_total = income_Data_total.withColumn(\"income_percentage\", income_Data_total.result / income_Data_total.P_Tot_Tot)\n",
    "income_Data_total = income_Data_total.select(\"SA2_CODE_2021\",\"income_percentage\")"
   ]
  },
  {
   "cell_type": "code",
   "execution_count": 11,
   "metadata": {},
   "outputs": [],
   "source": [
    "census_data = income_Data_total.join(Age_Data_rate, income_Data_total.SA2_CODE_2021 == Age_Data_rate.SA2_CODE_2021).drop(Age_Data_rate.SA2_CODE_2021)\n",
    "census_data.write.parquet('../data/curated/final_census.parquet')\n"
   ]
  }
 ],
 "metadata": {
  "kernelspec": {
   "display_name": "Python 3.8.13 ('ads')",
   "language": "python",
   "name": "python3"
  },
  "language_info": {
   "codemirror_mode": {
    "name": "ipython",
    "version": 3
   },
   "file_extension": ".py",
   "mimetype": "text/x-python",
   "name": "python",
   "nbconvert_exporter": "python",
   "pygments_lexer": "ipython3",
   "version": "3.8.13"
  },
  "orig_nbformat": 4,
  "vscode": {
   "interpreter": {
    "hash": "6e45bdfcba1031802b2f7a315f02d536e51553942a60e4ee4be74aec82814bfa"
   }
  }
 },
 "nbformat": 4,
 "nbformat_minor": 2
}
