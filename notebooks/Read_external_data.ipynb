{
 "cells": [
  {
   "cell_type": "code",
   "execution_count": 58,
   "id": "4ee2f758-860f-4f97-89dd-24167d16081b",
   "metadata": {},
   "outputs": [],
   "source": [
    "import os\n",
    "import numpy as np\n",
    "import pandas as pd\n",
    "import zipfile\n",
    "import pandas as pd\n",
    "import geopandas as gpd\n",
    "from dbfread import DBF\n",
    "from urllib.request import urlretrieve\n",
    "from urllib.error import HTTPError"
   ]
  },
  {
   "cell_type": "code",
   "execution_count": 1,
   "id": "62f8ed27",
   "metadata": {},
   "outputs": [],
   "source": [
    "#Go back one level from notebook to data \n",
    "output_relative_dir = '../data/'\n",
    "\n",
    "if not os.path.exists(output_relative_dir):\n",
    "    os.makedirs(output_relative_dir)\n",
    "    \n",
    "for target_dir in ('curated','outer'):\n",
    "    if not os.path.exists(output_relative_dir + target_dir):\n",
    "        os.makedirs(output_relative_dir + target_dir)"
   ]
  },
  {
   "cell_type": "markdown",
   "id": "50142b46-ba2c-4b18-ad27-154b22342e9e",
   "metadata": {},
   "source": [
    "### Download census data"
   ]
  },
  {
   "cell_type": "code",
   "execution_count": 2,
   "id": "ce0340c5",
   "metadata": {},
   "outputs": [
    {
     "name": "stdout",
     "output_type": "stream",
     "text": [
      "complete\n"
     ]
    }
   ],
   "source": [
    "url = \"https://www.abs.gov.au/census/find-census-data/datapacks/download/2021_GCP_SA2_for_AUS_short-header.zip\"#year-month.parquet\n",
    "output_dir = \"../data/outer/census.zip\"\n",
    "# download\n",
    "urlretrieve(url, output_dir) \n",
    "print(\"complete\")"
   ]
  },
  {
   "cell_type": "code",
   "execution_count": 3,
   "id": "e098cb87",
   "metadata": {},
   "outputs": [],
   "source": [
    "files = zipfile.ZipFile('../data/outer/census.zip','r')\n",
    "\n",
    "for file in files.namelist():\n",
    "    files.extract(file, f\"../data/outer/census\")"
   ]
  },
  {
   "cell_type": "code",
   "execution_count": null,
   "id": "33a4c2e6-45d2-4763-afb3-3e1a39e591dd",
   "metadata": {},
   "outputs": [],
   "source": []
  },
  {
   "cell_type": "code",
   "execution_count": 4,
   "id": "5da580d7",
   "metadata": {},
   "outputs": [
    {
     "name": "stderr",
     "output_type": "stream",
     "text": [
      "22/09/07 23:13:50 WARN NativeCodeLoader: Unable to load native-hadoop library for your platform... using builtin-java classes where applicable\n",
      "Using Spark's default log4j profile: org/apache/spark/log4j-defaults.properties\n",
      "Setting default log level to \"WARN\".\n",
      "To adjust logging level use sc.setLogLevel(newLevel). For SparkR, use setLogLevel(newLevel).\n"
     ]
    }
   ],
   "source": [
    "from pyspark.sql import SparkSession\n",
    "from pyspark.sql import functions as F\n",
    "# Create a spark session (which will run spark jobs)\n",
    "spark = (\n",
    "    SparkSession.builder.appName(\"MAST30034 Tutorial 1\")\n",
    "    .config(\"spark.sql.repl.eagerEval.enabled\", True) \n",
    "    .config(\"spark.sql.parquet.cacheMetadata\", \"true\")\n",
    "    .config(\"spark.sql.session.timeZone\", \"Etc/UTC\")\n",
    "    .getOrCreate()\n",
    ")"
   ]
  },
  {
   "cell_type": "code",
   "execution_count": 5,
   "id": "dc2ef49a",
   "metadata": {},
   "outputs": [
    {
     "name": "stderr",
     "output_type": "stream",
     "text": [
      "22/09/07 23:14:05 WARN package: Truncated the string representation of a plan since it was too large. This behavior can be adjusted by setting 'spark.sql.debug.maxToStringFields'.\n",
      "[Stage 3:>                                                          (0 + 1) / 1]\r"
     ]
    },
    {
     "name": "stdout",
     "output_type": "stream",
     "text": [
      "2472 2472\n"
     ]
    },
    {
     "name": "stderr",
     "output_type": "stream",
     "text": [
      "                                                                                \r"
     ]
    }
   ],
   "source": [
    "G04= spark.read.option(\"header\",True).csv('../data/outer/census/2021 Census GCP Statistical Area 2 for AUS/2021Census_G17A_AUST_SA2.csv') #read the parquet \n",
    "G = G04.na.drop(subset=G04.columns)\n",
    "print(G04.count(),G.count())"
   ]
  },
  {
   "cell_type": "code",
   "execution_count": 6,
   "id": "0973831e",
   "metadata": {},
   "outputs": [
    {
     "name": "stdout",
     "output_type": "stream",
     "text": [
      "complete\n"
     ]
    }
   ],
   "source": [
    "url = \"http://github.com/matthewproctor/australianpostcodes/zipball/master\"#year-month.parquet\n",
    "output_dir = \"../data/outer/total_pto2.zip\"\n",
    "# download\n",
    "urlretrieve(url, output_dir) \n",
    "print(\"complete\")\n"
   ]
  },
  {
   "cell_type": "code",
   "execution_count": 7,
   "id": "da09bc21",
   "metadata": {},
   "outputs": [],
   "source": [
    "files = zipfile.ZipFile('../data/outer/total_pto2.zip','r')\n",
    "for file in files.namelist():\n",
    "    files.extract(file, f\"../data/outer/total_pto2\")"
   ]
  },
  {
   "cell_type": "markdown",
   "id": "607fedb4-d49f-484c-9a0b-8a53203f5c8f",
   "metadata": {},
   "source": [
    "### Download postcode and SA2 data"
   ]
  },
  {
   "cell_type": "code",
   "execution_count": 42,
   "id": "cc2855ee",
   "metadata": {},
   "outputs": [
    {
     "name": "stdout",
     "output_type": "stream",
     "text": [
      "[('id', 'string'), ('postcode', 'string'), ('locality', 'string'), ('state', 'string'), ('long', 'string'), ('lat', 'string'), ('dc', 'string'), ('type', 'string'), ('status', 'string'), ('sa3', 'string'), ('sa3name', 'string'), ('sa4', 'string'), ('sa4name', 'string'), ('region', 'string'), ('Lat_precise', 'string'), ('Long_precise', 'string'), ('SA1_MAINCODE_2011', 'string'), ('SA1_MAINCODE_2016', 'string'), ('SA2_MAINCODE_2016', 'string'), ('SA2_NAME_2016', 'string'), ('SA3_CODE_2016', 'string'), ('SA3_NAME_2016', 'string'), ('SA4_CODE_2016', 'string'), ('SA4_NAME_2016', 'string'), ('RA_2011', 'string'), ('RA_2016', 'string'), ('MMM_2015', 'string'), ('MMM_2019', 'string'), ('ced', 'string'), ('altitude', 'string'), ('chargezone', 'string'), ('phn_code', 'string'), ('phn_name', 'string'), ('lgaregion', 'string'), ('electorate', 'string'), ('electoraterating', 'string')]\n",
      "177\n"
     ]
    },
    {
     "name": "stderr",
     "output_type": "stream",
     "text": [
      "                                                                                \r"
     ]
    },
    {
     "data": {
      "text/html": [
       "<table border='1'>\n",
       "<tr><th>postcode</th><th>SA2_MAINCODE_2016</th><th>avg_lat</th><th>avg_long</th></tr>\n",
       "<tr><td>1008</td><td>117031337</td><td>-33.8688197</td><td>151.2092955</td></tr>\n",
       "<tr><td>1150</td><td>117031337</td><td>-33.8688197</td><td>151.2092955</td></tr>\n",
       "<tr><td>2100</td><td>122031429</td><td>-33.76930483333334</td><td>151.2682264</td></tr>\n",
       "<tr><td>2200</td><td>119011571</td><td>-33.9047111</td><td>151.0380263</td></tr>\n",
       "<tr><td>2338</td><td>110041201</td><td>-31.7257868</td><td>150.7473282</td></tr>\n",
       "<tr><td>2347</td><td>110041205</td><td>-30.40016681</td><td>150.63909430999996</td></tr>\n",
       "<tr><td>3019</td><td>213031347</td><td>-37.79140793333334</td><td>144.85792546666667</td></tr>\n",
       "<tr><td>3136</td><td>211031265</td><td>-37.771</td><td>145.2765</td></tr>\n",
       "<tr><td>3238</td><td>217031476</td><td>-38.741204075</td><td>143.429911675</td></tr>\n",
       "<tr><td>3335</td><td>213041355</td><td>-37.68226075</td><td>144.6615074</td></tr>\n",
       "<tr><td>3570</td><td>202031032</td><td>-29.209301319999998</td><td>115.44521707999999</td></tr>\n",
       "<tr><td>3869</td><td>205041094</td><td>-38.358266566666664</td><td>146.3683866</td></tr>\n",
       "<tr><td>3938</td><td>214021384</td><td>-38.3562816</td><td>144.9336544</td></tr>\n",
       "<tr><td>4001</td><td>305011105</td><td>-27.468477275</td><td>153.02876405</td></tr>\n",
       "<tr><td>4053</td><td>302021033</td><td>-27.39685</td><td>153.015</td></tr>\n",
       "<tr><td>4055</td><td>302021031</td><td>-27.4</td><td>153.032</td></tr>\n",
       "<tr><td>4154</td><td>301031019</td><td>-27.483333</td><td>153.166667</td></tr>\n",
       "<tr><td>4207</td><td>311021307</td><td>-27.7025667</td><td>153.2130659</td></tr>\n",
       "<tr><td>4287</td><td>311011305</td><td>-28.26634763333333</td><td>152.80495408333334</td></tr>\n",
       "<tr><td>4300</td><td>310041298</td><td>-27.616667</td><td>152.933333</td></tr>\n",
       "</table>\n",
       "only showing top 20 rows\n"
      ],
      "text/plain": [
       "+--------+-----------------+-------------------+------------------+\n",
       "|postcode|SA2_MAINCODE_2016|            avg_lat|          avg_long|\n",
       "+--------+-----------------+-------------------+------------------+\n",
       "|    1008|        117031337|        -33.8688197|       151.2092955|\n",
       "|    1150|        117031337|        -33.8688197|       151.2092955|\n",
       "|    2100|        122031429| -33.76930483333334|       151.2682264|\n",
       "|    2200|        119011571|        -33.9047111|       151.0380263|\n",
       "|    2338|        110041201|        -31.7257868|       150.7473282|\n",
       "|    2347|        110041205|       -30.40016681|150.63909430999996|\n",
       "|    3019|        213031347| -37.79140793333334|144.85792546666667|\n",
       "|    3136|        211031265|            -37.771|          145.2765|\n",
       "|    3238|        217031476|      -38.741204075|     143.429911675|\n",
       "|    3335|        213041355|       -37.68226075|       144.6615074|\n",
       "|    3570|        202031032|-29.209301319999998|115.44521707999999|\n",
       "|    3869|        205041094|-38.358266566666664|       146.3683866|\n",
       "|    3938|        214021384|        -38.3562816|       144.9336544|\n",
       "|    4001|        305011105|      -27.468477275|      153.02876405|\n",
       "|    4053|        302021033|          -27.39685|           153.015|\n",
       "|    4055|        302021031|              -27.4|           153.032|\n",
       "|    4154|        301031019|         -27.483333|        153.166667|\n",
       "|    4207|        311021307|        -27.7025667|       153.2130659|\n",
       "|    4287|        311011305| -28.26634763333333|152.80495408333334|\n",
       "|    4300|        310041298|         -27.616667|        152.933333|\n",
       "+--------+-----------------+-------------------+------------------+\n",
       "only showing top 20 rows"
      ]
     },
     "execution_count": 42,
     "metadata": {},
     "output_type": "execute_result"
    }
   ],
   "source": [
    "post_sa2= spark.read.option(\"header\",True).csv('../data/outer/total_pto2/matthewproctor-australianpostcodes-6f8a994/australian_postcodes.csv') \n",
    "print(post_sa2.dtypes)\n",
    "post_sa2 = post_sa2.select(\"id\", \"postcode\", \"Lat_precise\", \"Long_precise\", \"SA2_MAINCODE_2016\")\n",
    "print(post_sa2.count() - post_sa2.na.drop().count())\n",
    "post_sa2 = post_sa2.na.drop()\n",
    "#177 rows with nulls dropped\n",
    "\n",
    "#get the average latitude and longitude of the postcode if it have duplicates\n",
    "post_sa2 = post_sa2\\\n",
    "    .withColumn(\"Lat_double\", post_sa2[\"Lat_precise\"].cast(\"double\"))\\\n",
    "    .withColumn(\"Long_double\", post_sa2[\"Long_precise\"].cast(\"double\"))\n",
    "post_sa2 = post_sa2\\\n",
    "    .groupBy(\"postcode\", \"SA2_MAINCODE_2016\")\\\n",
    "    .agg(F.avg(\"Lat_double\").alias(\"avg_lat\"), F.avg(\"Long_double\").alias(\"avg_long\"))\n",
    "\n",
    "post_sa2 "
   ]
  },
  {
   "cell_type": "markdown",
   "id": "efd2bfe1-96a0-48bf-bb35-aa9a3f929e41",
   "metadata": {},
   "source": [
    "### Download SA2 2021 information"
   ]
  },
  {
   "cell_type": "code",
   "execution_count": 9,
   "id": "aa60ad1f",
   "metadata": {},
   "outputs": [
    {
     "name": "stdout",
     "output_type": "stream",
     "text": [
      "complete\n"
     ]
    }
   ],
   "source": [
    "url = \"https://www.abs.gov.au/statistics/standards/australian-statistical-geography-standard-asgs-edition-3/jul2021-jun2026/access-and-downloads/digital-boundary-files/SA2_2021_AUST_SHP_GDA2020.zip\" \n",
    "#year-month.parquet\n",
    "output_dir = \"../data/outer/2021sa2_shapefile.zip\"\n",
    "# download\n",
    "urlretrieve(url, output_dir) \n",
    "print(\"complete\")"
   ]
  },
  {
   "cell_type": "code",
   "execution_count": 10,
   "id": "acf29ca9",
   "metadata": {},
   "outputs": [],
   "source": [
    "files = zipfile.ZipFile('../data/outer/2021sa2_shapefile.zip','r')\n",
    "for file in files.namelist():\n",
    "    files.extract(file, f\"../data/outer/2021sa2_shapefile\")"
   ]
  },
  {
   "cell_type": "markdown",
   "id": "6eb33f0b-4040-4f05-bca6-f32ade4d79e2",
   "metadata": {},
   "source": [
    "### Download shapefile for each SA2 region\n",
    "### !!!WARNING!!! THIS CODE IS GOING TO TAKE 30 MINUTES"
   ]
  },
  {
   "cell_type": "code",
   "execution_count": 61,
   "id": "405d8b35",
   "metadata": {},
   "outputs": [],
   "source": [
    "path = r'../data/outer/2021sa2_shapefile/SA2_2021_AUST_GDA2020.dbf' # 文件目录\n",
    "table = DBF(path)\n",
    "geojson_option = \"?_profile=oai&_mediatype=application/geo+json\"\n",
    "sa2_2021_temp = pd.DataFrame(iter(table))\n",
    "\n",
    "shapes_list = []\n",
    "for row in range(len(sa2_2021_temp)):\n",
    "    url = sa2_2021_temp.iat[row,-1]\n",
    "    try:\n",
    "        shape = gpd.read_file(url + geojson_option).iat[0,-1]\n",
    "    except HTTPError:\n",
    "        shape = \"\"\n",
    "    shapes_list.append(shape)\n",
    "\n",
    "sa2_2021_temp[\"geometry\"] = shapes_list\n",
    "sa2_2021_temp.to_csv(\"../data/outer/2021sa2_shapefile/SA2_2021_AUST_GDA2020.csv\",index_label=\"FID\")"
   ]
  },
  {
   "cell_type": "code",
   "execution_count": 60,
   "id": "fc4df311-55d0-4b69-a8db-3ed1eea91a2c",
   "metadata": {},
   "outputs": [
    {
     "name": "stdout",
     "output_type": "stream",
     "text": [
      "['']\n"
     ]
    }
   ],
   "source": []
  },
  {
   "cell_type": "code",
   "execution_count": 62,
   "id": "9e75fd20-c249-4d2e-9eb5-48e74bb8d084",
   "metadata": {},
   "outputs": [
    {
     "data": {
      "text/html": [
       "<div>\n",
       "<style scoped>\n",
       "    .dataframe tbody tr th:only-of-type {\n",
       "        vertical-align: middle;\n",
       "    }\n",
       "\n",
       "    .dataframe tbody tr th {\n",
       "        vertical-align: top;\n",
       "    }\n",
       "\n",
       "    .dataframe thead th {\n",
       "        text-align: right;\n",
       "    }\n",
       "</style>\n",
       "<table border=\"1\" class=\"dataframe\">\n",
       "  <thead>\n",
       "    <tr style=\"text-align: right;\">\n",
       "      <th></th>\n",
       "      <th>SA2_CODE21</th>\n",
       "      <th>SA2_NAME21</th>\n",
       "      <th>CHG_FLAG21</th>\n",
       "      <th>CHG_LBL21</th>\n",
       "      <th>SA3_CODE21</th>\n",
       "      <th>SA3_NAME21</th>\n",
       "      <th>SA4_CODE21</th>\n",
       "      <th>SA4_NAME21</th>\n",
       "      <th>GCC_CODE21</th>\n",
       "      <th>GCC_NAME21</th>\n",
       "      <th>STE_CODE21</th>\n",
       "      <th>STE_NAME21</th>\n",
       "      <th>AUS_CODE21</th>\n",
       "      <th>AUS_NAME21</th>\n",
       "      <th>AREASQKM21</th>\n",
       "      <th>LOCI_URI21</th>\n",
       "      <th>geometry</th>\n",
       "    </tr>\n",
       "  </thead>\n",
       "  <tbody>\n",
       "    <tr>\n",
       "      <th>0</th>\n",
       "      <td>101021007</td>\n",
       "      <td>Braidwood</td>\n",
       "      <td>0</td>\n",
       "      <td>No change</td>\n",
       "      <td>10102</td>\n",
       "      <td>Queanbeyan</td>\n",
       "      <td>101</td>\n",
       "      <td>Capital Region</td>\n",
       "      <td>1RNSW</td>\n",
       "      <td>Rest of NSW</td>\n",
       "      <td>1</td>\n",
       "      <td>New South Wales</td>\n",
       "      <td>AUS</td>\n",
       "      <td>Australia</td>\n",
       "      <td>3418.3525</td>\n",
       "      <td>http://linked.data.gov.au/dataset/asgsed3/SA2/...</td>\n",
       "      <td>POLYGON ((149.5842384630081 -35.4442571811303,...</td>\n",
       "    </tr>\n",
       "    <tr>\n",
       "      <th>1</th>\n",
       "      <td>101021008</td>\n",
       "      <td>Karabar</td>\n",
       "      <td>0</td>\n",
       "      <td>No change</td>\n",
       "      <td>10102</td>\n",
       "      <td>Queanbeyan</td>\n",
       "      <td>101</td>\n",
       "      <td>Capital Region</td>\n",
       "      <td>1RNSW</td>\n",
       "      <td>Rest of NSW</td>\n",
       "      <td>1</td>\n",
       "      <td>New South Wales</td>\n",
       "      <td>AUS</td>\n",
       "      <td>Australia</td>\n",
       "      <td>6.9825</td>\n",
       "      <td>http://linked.data.gov.au/dataset/asgsed3/SA2/...</td>\n",
       "      <td>POLYGON ((149.2189874391411 -35.36738117911253...</td>\n",
       "    </tr>\n",
       "    <tr>\n",
       "      <th>2</th>\n",
       "      <td>101021009</td>\n",
       "      <td>Queanbeyan</td>\n",
       "      <td>0</td>\n",
       "      <td>No change</td>\n",
       "      <td>10102</td>\n",
       "      <td>Queanbeyan</td>\n",
       "      <td>101</td>\n",
       "      <td>Capital Region</td>\n",
       "      <td>1RNSW</td>\n",
       "      <td>Rest of NSW</td>\n",
       "      <td>1</td>\n",
       "      <td>New South Wales</td>\n",
       "      <td>AUS</td>\n",
       "      <td>Australia</td>\n",
       "      <td>4.7620</td>\n",
       "      <td>http://linked.data.gov.au/dataset/asgsed3/SA2/...</td>\n",
       "      <td>POLYGON ((149.2132649330965 -35.34324521846067...</td>\n",
       "    </tr>\n",
       "    <tr>\n",
       "      <th>3</th>\n",
       "      <td>101021010</td>\n",
       "      <td>Queanbeyan - East</td>\n",
       "      <td>0</td>\n",
       "      <td>No change</td>\n",
       "      <td>10102</td>\n",
       "      <td>Queanbeyan</td>\n",
       "      <td>101</td>\n",
       "      <td>Capital Region</td>\n",
       "      <td>1RNSW</td>\n",
       "      <td>Rest of NSW</td>\n",
       "      <td>1</td>\n",
       "      <td>New South Wales</td>\n",
       "      <td>AUS</td>\n",
       "      <td>Australia</td>\n",
       "      <td>13.0032</td>\n",
       "      <td>http://linked.data.gov.au/dataset/asgsed3/SA2/...</td>\n",
       "      <td>POLYGON ((149.2403376383506 -35.34780977080727...</td>\n",
       "    </tr>\n",
       "    <tr>\n",
       "      <th>4</th>\n",
       "      <td>101021012</td>\n",
       "      <td>Queanbeyan West - Jerrabomberra</td>\n",
       "      <td>0</td>\n",
       "      <td>No change</td>\n",
       "      <td>10102</td>\n",
       "      <td>Queanbeyan</td>\n",
       "      <td>101</td>\n",
       "      <td>Capital Region</td>\n",
       "      <td>1RNSW</td>\n",
       "      <td>Rest of NSW</td>\n",
       "      <td>1</td>\n",
       "      <td>New South Wales</td>\n",
       "      <td>AUS</td>\n",
       "      <td>Australia</td>\n",
       "      <td>13.6748</td>\n",
       "      <td>http://linked.data.gov.au/dataset/asgsed3/SA2/...</td>\n",
       "      <td>POLYGON ((149.1957232435019 -35.36126247708308...</td>\n",
       "    </tr>\n",
       "    <tr>\n",
       "      <th>...</th>\n",
       "      <td>...</td>\n",
       "      <td>...</td>\n",
       "      <td>...</td>\n",
       "      <td>...</td>\n",
       "      <td>...</td>\n",
       "      <td>...</td>\n",
       "      <td>...</td>\n",
       "      <td>...</td>\n",
       "      <td>...</td>\n",
       "      <td>...</td>\n",
       "      <td>...</td>\n",
       "      <td>...</td>\n",
       "      <td>...</td>\n",
       "      <td>...</td>\n",
       "      <td>...</td>\n",
       "      <td>...</td>\n",
       "      <td>...</td>\n",
       "    </tr>\n",
       "    <tr>\n",
       "      <th>2468</th>\n",
       "      <td>901031003</td>\n",
       "      <td>Jervis Bay</td>\n",
       "      <td>0</td>\n",
       "      <td>No change</td>\n",
       "      <td>90103</td>\n",
       "      <td>Jervis Bay</td>\n",
       "      <td>901</td>\n",
       "      <td>Other Territories</td>\n",
       "      <td>9OTER</td>\n",
       "      <td>Other Territories</td>\n",
       "      <td>9</td>\n",
       "      <td>Other Territories</td>\n",
       "      <td>AUS</td>\n",
       "      <td>Australia</td>\n",
       "      <td>67.2296</td>\n",
       "      <td>http://linked.data.gov.au/dataset/asgsed3/SA2/...</td>\n",
       "      <td>(POLYGON ((150.6956683280878 -35.1829542884842...</td>\n",
       "    </tr>\n",
       "    <tr>\n",
       "      <th>2469</th>\n",
       "      <td>901041004</td>\n",
       "      <td>Norfolk Island</td>\n",
       "      <td>0</td>\n",
       "      <td>No change</td>\n",
       "      <td>90104</td>\n",
       "      <td>Norfolk Island</td>\n",
       "      <td>901</td>\n",
       "      <td>Other Territories</td>\n",
       "      <td>9OTER</td>\n",
       "      <td>Other Territories</td>\n",
       "      <td>9</td>\n",
       "      <td>Other Territories</td>\n",
       "      <td>AUS</td>\n",
       "      <td>Australia</td>\n",
       "      <td>38.6510</td>\n",
       "      <td>http://linked.data.gov.au/dataset/asgsed3/SA2/...</td>\n",
       "      <td>(POLYGON ((167.9632532375536 -29.0721173752821...</td>\n",
       "    </tr>\n",
       "    <tr>\n",
       "      <th>2470</th>\n",
       "      <td>997979799</td>\n",
       "      <td>Migratory - Offshore - Shipping (OT)</td>\n",
       "      <td>0</td>\n",
       "      <td>No change</td>\n",
       "      <td>99797</td>\n",
       "      <td>Migratory - Offshore - Shipping (OT)</td>\n",
       "      <td>997</td>\n",
       "      <td>Migratory - Offshore - Shipping (OT)</td>\n",
       "      <td>99799</td>\n",
       "      <td>Migratory - Offshore - Shipping (OT)</td>\n",
       "      <td>9</td>\n",
       "      <td>Other Territories</td>\n",
       "      <td>AUS</td>\n",
       "      <td>Australia</td>\n",
       "      <td>NaN</td>\n",
       "      <td>http://linked.data.gov.au/dataset/asgsed3/SA2/...</td>\n",
       "      <td></td>\n",
       "    </tr>\n",
       "    <tr>\n",
       "      <th>2471</th>\n",
       "      <td>999999499</td>\n",
       "      <td>No usual address (OT)</td>\n",
       "      <td>0</td>\n",
       "      <td>No change</td>\n",
       "      <td>99999</td>\n",
       "      <td>No usual address (OT)</td>\n",
       "      <td>999</td>\n",
       "      <td>No usual address (OT)</td>\n",
       "      <td>99499</td>\n",
       "      <td>No usual address (OT)</td>\n",
       "      <td>9</td>\n",
       "      <td>Other Territories</td>\n",
       "      <td>AUS</td>\n",
       "      <td>Australia</td>\n",
       "      <td>NaN</td>\n",
       "      <td>http://linked.data.gov.au/dataset/asgsed3/SA2/...</td>\n",
       "      <td></td>\n",
       "    </tr>\n",
       "    <tr>\n",
       "      <th>2472</th>\n",
       "      <td>ZZZZZZZZZ</td>\n",
       "      <td>Outside Australia</td>\n",
       "      <td>1</td>\n",
       "      <td>New</td>\n",
       "      <td>ZZZZZ</td>\n",
       "      <td>Outside Australia</td>\n",
       "      <td>ZZZ</td>\n",
       "      <td>Outside Australia</td>\n",
       "      <td>ZZZZZ</td>\n",
       "      <td>Outside Australia</td>\n",
       "      <td>Z</td>\n",
       "      <td>Outside Australia</td>\n",
       "      <td>ZZZ</td>\n",
       "      <td>Outside Australia</td>\n",
       "      <td>NaN</td>\n",
       "      <td>http://linked.data.gov.au/dataset/asgsed3/SA2/...</td>\n",
       "      <td></td>\n",
       "    </tr>\n",
       "  </tbody>\n",
       "</table>\n",
       "<p>2473 rows × 17 columns</p>\n",
       "</div>"
      ],
      "text/plain": [
       "     SA2_CODE21                            SA2_NAME21 CHG_FLAG21  CHG_LBL21  \\\n",
       "0     101021007                             Braidwood          0  No change   \n",
       "1     101021008                               Karabar          0  No change   \n",
       "2     101021009                            Queanbeyan          0  No change   \n",
       "3     101021010                     Queanbeyan - East          0  No change   \n",
       "4     101021012       Queanbeyan West - Jerrabomberra          0  No change   \n",
       "...         ...                                   ...        ...        ...   \n",
       "2468  901031003                            Jervis Bay          0  No change   \n",
       "2469  901041004                        Norfolk Island          0  No change   \n",
       "2470  997979799  Migratory - Offshore - Shipping (OT)          0  No change   \n",
       "2471  999999499                 No usual address (OT)          0  No change   \n",
       "2472  ZZZZZZZZZ                     Outside Australia          1        New   \n",
       "\n",
       "     SA3_CODE21                            SA3_NAME21 SA4_CODE21  \\\n",
       "0         10102                            Queanbeyan        101   \n",
       "1         10102                            Queanbeyan        101   \n",
       "2         10102                            Queanbeyan        101   \n",
       "3         10102                            Queanbeyan        101   \n",
       "4         10102                            Queanbeyan        101   \n",
       "...         ...                                   ...        ...   \n",
       "2468      90103                            Jervis Bay        901   \n",
       "2469      90104                        Norfolk Island        901   \n",
       "2470      99797  Migratory - Offshore - Shipping (OT)        997   \n",
       "2471      99999                 No usual address (OT)        999   \n",
       "2472      ZZZZZ                     Outside Australia        ZZZ   \n",
       "\n",
       "                                SA4_NAME21 GCC_CODE21  \\\n",
       "0                           Capital Region      1RNSW   \n",
       "1                           Capital Region      1RNSW   \n",
       "2                           Capital Region      1RNSW   \n",
       "3                           Capital Region      1RNSW   \n",
       "4                           Capital Region      1RNSW   \n",
       "...                                    ...        ...   \n",
       "2468                     Other Territories      9OTER   \n",
       "2469                     Other Territories      9OTER   \n",
       "2470  Migratory - Offshore - Shipping (OT)      99799   \n",
       "2471                 No usual address (OT)      99499   \n",
       "2472                     Outside Australia      ZZZZZ   \n",
       "\n",
       "                                GCC_NAME21 STE_CODE21         STE_NAME21  \\\n",
       "0                              Rest of NSW          1    New South Wales   \n",
       "1                              Rest of NSW          1    New South Wales   \n",
       "2                              Rest of NSW          1    New South Wales   \n",
       "3                              Rest of NSW          1    New South Wales   \n",
       "4                              Rest of NSW          1    New South Wales   \n",
       "...                                    ...        ...                ...   \n",
       "2468                     Other Territories          9  Other Territories   \n",
       "2469                     Other Territories          9  Other Territories   \n",
       "2470  Migratory - Offshore - Shipping (OT)          9  Other Territories   \n",
       "2471                 No usual address (OT)          9  Other Territories   \n",
       "2472                     Outside Australia          Z  Outside Australia   \n",
       "\n",
       "     AUS_CODE21         AUS_NAME21  AREASQKM21  \\\n",
       "0           AUS          Australia   3418.3525   \n",
       "1           AUS          Australia      6.9825   \n",
       "2           AUS          Australia      4.7620   \n",
       "3           AUS          Australia     13.0032   \n",
       "4           AUS          Australia     13.6748   \n",
       "...         ...                ...         ...   \n",
       "2468        AUS          Australia     67.2296   \n",
       "2469        AUS          Australia     38.6510   \n",
       "2470        AUS          Australia         NaN   \n",
       "2471        AUS          Australia         NaN   \n",
       "2472        ZZZ  Outside Australia         NaN   \n",
       "\n",
       "                                             LOCI_URI21  \\\n",
       "0     http://linked.data.gov.au/dataset/asgsed3/SA2/...   \n",
       "1     http://linked.data.gov.au/dataset/asgsed3/SA2/...   \n",
       "2     http://linked.data.gov.au/dataset/asgsed3/SA2/...   \n",
       "3     http://linked.data.gov.au/dataset/asgsed3/SA2/...   \n",
       "4     http://linked.data.gov.au/dataset/asgsed3/SA2/...   \n",
       "...                                                 ...   \n",
       "2468  http://linked.data.gov.au/dataset/asgsed3/SA2/...   \n",
       "2469  http://linked.data.gov.au/dataset/asgsed3/SA2/...   \n",
       "2470  http://linked.data.gov.au/dataset/asgsed3/SA2/...   \n",
       "2471  http://linked.data.gov.au/dataset/asgsed3/SA2/...   \n",
       "2472  http://linked.data.gov.au/dataset/asgsed3/SA2/...   \n",
       "\n",
       "                                               geometry  \n",
       "0     POLYGON ((149.5842384630081 -35.4442571811303,...  \n",
       "1     POLYGON ((149.2189874391411 -35.36738117911253...  \n",
       "2     POLYGON ((149.2132649330965 -35.34324521846067...  \n",
       "3     POLYGON ((149.2403376383506 -35.34780977080727...  \n",
       "4     POLYGON ((149.1957232435019 -35.36126247708308...  \n",
       "...                                                 ...  \n",
       "2468  (POLYGON ((150.6956683280878 -35.1829542884842...  \n",
       "2469  (POLYGON ((167.9632532375536 -29.0721173752821...  \n",
       "2470                                                     \n",
       "2471                                                     \n",
       "2472                                                     \n",
       "\n",
       "[2473 rows x 17 columns]"
      ]
     },
     "execution_count": 62,
     "metadata": {},
     "output_type": "execute_result"
    }
   ],
   "source": [
    "sa2_2021_temp"
   ]
  },
  {
   "cell_type": "code",
   "execution_count": 63,
   "id": "76d58ee4",
   "metadata": {},
   "outputs": [
    {
     "data": {
      "text/html": [
       "<table border='1'>\n",
       "<tr><th>FID</th><th>SA2_CODE21</th><th>SA2_NAME21</th><th>CHG_FLAG21</th><th>CHG_LBL21</th></tr>\n",
       "<tr><td>0</td><td>101021007</td><td>Braidwood</td><td>0</td><td>No change</td></tr>\n",
       "<tr><td>1</td><td>101021008</td><td>Karabar</td><td>0</td><td>No change</td></tr>\n",
       "<tr><td>2</td><td>101021009</td><td>Queanbeyan</td><td>0</td><td>No change</td></tr>\n",
       "<tr><td>3</td><td>101021010</td><td>Queanbeyan - East</td><td>0</td><td>No change</td></tr>\n",
       "<tr><td>4</td><td>101021012</td><td>Queanbeyan West -...</td><td>0</td><td>No change</td></tr>\n",
       "<tr><td>5</td><td>101021610</td><td>Googong</td><td>1</td><td>New</td></tr>\n",
       "<tr><td>6</td><td>101021611</td><td>Queanbeyan Surrounds</td><td>1</td><td>New</td></tr>\n",
       "<tr><td>7</td><td>101031013</td><td>Bombala</td><td>0</td><td>No change</td></tr>\n",
       "<tr><td>8</td><td>101031014</td><td>Cooma</td><td>0</td><td>No change</td></tr>\n",
       "<tr><td>9</td><td>101031015</td><td>Cooma Surrounds</td><td>3</td><td>Name change</td></tr>\n",
       "<tr><td>10</td><td>101031016</td><td>Jindabyne - Berri...</td><td>0</td><td>No change</td></tr>\n",
       "<tr><td>11</td><td>101041017</td><td>Batemans Bay</td><td>0</td><td>No change</td></tr>\n",
       "<tr><td>12</td><td>101041018</td><td>Batemans Bay - South</td><td>0</td><td>No change</td></tr>\n",
       "<tr><td>13</td><td>101041019</td><td>Bega - Tathra</td><td>0</td><td>No change</td></tr>\n",
       "<tr><td>14</td><td>101041020</td><td>Bega-Eden Hinterland</td><td>0</td><td>No change</td></tr>\n",
       "<tr><td>15</td><td>101041021</td><td>Broulee - Tomakin</td><td>0</td><td>No change</td></tr>\n",
       "<tr><td>16</td><td>101041022</td><td>Deua - Wadbilliga</td><td>0</td><td>No change</td></tr>\n",
       "<tr><td>17</td><td>101041023</td><td>Eden</td><td>0</td><td>No change</td></tr>\n",
       "<tr><td>18</td><td>101041024</td><td>Eurobodalla Hinte...</td><td>0</td><td>No change</td></tr>\n",
       "<tr><td>19</td><td>101041025</td><td>Merimbula - Tura ...</td><td>0</td><td>No change</td></tr>\n",
       "</table>\n",
       "only showing top 20 rows\n"
      ],
      "text/plain": [
       "+---+----------+--------------------+----------+-----------+\n",
       "|FID|SA2_CODE21|          SA2_NAME21|CHG_FLAG21|  CHG_LBL21|\n",
       "+---+----------+--------------------+----------+-----------+\n",
       "|  0| 101021007|           Braidwood|         0|  No change|\n",
       "|  1| 101021008|             Karabar|         0|  No change|\n",
       "|  2| 101021009|          Queanbeyan|         0|  No change|\n",
       "|  3| 101021010|   Queanbeyan - East|         0|  No change|\n",
       "|  4| 101021012|Queanbeyan West -...|         0|  No change|\n",
       "|  5| 101021610|             Googong|         1|        New|\n",
       "|  6| 101021611|Queanbeyan Surrounds|         1|        New|\n",
       "|  7| 101031013|             Bombala|         0|  No change|\n",
       "|  8| 101031014|               Cooma|         0|  No change|\n",
       "|  9| 101031015|     Cooma Surrounds|         3|Name change|\n",
       "| 10| 101031016|Jindabyne - Berri...|         0|  No change|\n",
       "| 11| 101041017|        Batemans Bay|         0|  No change|\n",
       "| 12| 101041018|Batemans Bay - South|         0|  No change|\n",
       "| 13| 101041019|       Bega - Tathra|         0|  No change|\n",
       "| 14| 101041020|Bega-Eden Hinterland|         0|  No change|\n",
       "| 15| 101041021|   Broulee - Tomakin|         0|  No change|\n",
       "| 16| 101041022|   Deua - Wadbilliga|         0|  No change|\n",
       "| 17| 101041023|                Eden|         0|  No change|\n",
       "| 18| 101041024|Eurobodalla Hinte...|         0|  No change|\n",
       "| 19| 101041025|Merimbula - Tura ...|         0|  No change|\n",
       "+---+----------+--------------------+----------+-----------+\n",
       "only showing top 20 rows"
      ]
     },
     "execution_count": 63,
     "metadata": {},
     "output_type": "execute_result"
    }
   ],
   "source": [
    "SA2_2021_shapefile= spark.read.option(\"header\",True).csv('../data/outer/2021sa2_shapefile/SA2_2021_AUST_GDA2020.csv') #read the parquet \n",
    "SA2_2021_shapefile = SA2_2021_shapefile.na.drop().select(\"FID\", \"SA2_CODE21\", \"SA2_NAME21\", \"CHG_FLAG21\", \"CHG_LBL21\")\n",
    "SA2_2021_shapefile"
   ]
  },
  {
   "cell_type": "markdown",
   "id": "195196c0-f0b8-423f-b663-08b925186ab3",
   "metadata": {},
   "source": [
    "### Download file with 2016 SA2 info and 2021 SA2 info"
   ]
  },
  {
   "cell_type": "code",
   "execution_count": 23,
   "id": "368d62a4",
   "metadata": {},
   "outputs": [
    {
     "name": "stdout",
     "output_type": "stream",
     "text": [
      "complete\n"
     ]
    }
   ],
   "source": [
    "url = \"https://www.abs.gov.au/statistics/standards/australian-statistical-geography-standard-asgs-edition-3/jul2021-jun2026/access-and-downloads/correspondences/CG_SA2_2016_SA2_2021.csv\"\n",
    "output_dir = \"../data/outer/correspondences.csv\"\n",
    "# download\n",
    "urlretrieve(url, output_dir) \n",
    "print(\"complete\")"
   ]
  },
  {
   "cell_type": "code",
   "execution_count": 24,
   "id": "f2b15f51",
   "metadata": {},
   "outputs": [
    {
     "data": {
      "text/html": [
       "<table border='1'>\n",
       "<tr><th>SA2_MAINCODE_2016</th><th>SA2_NAME_2016</th><th>SA2_CODE_2021</th><th>SA2_NAME_2021</th><th>RATIO_FROM_TO</th><th>INDIV_TO_REGION_QLTY_INDICATOR</th><th>OVERALL_QUALITY_INDICATOR</th><th>BMOS_NULL_FLAG</th></tr>\n",
       "<tr><td>101021007</td><td>Braidwood</td><td>101021007</td><td>Braidwood</td><td>1</td><td>Good</td><td>Good</td><td>0</td></tr>\n",
       "<tr><td>101021008</td><td>Karabar</td><td>101021008</td><td>Karabar</td><td>1</td><td>Good</td><td>Good</td><td>0</td></tr>\n",
       "<tr><td>101021009</td><td>Queanbeyan</td><td>101021009</td><td>Queanbeyan</td><td>1</td><td>Good</td><td>Good</td><td>0</td></tr>\n",
       "<tr><td>101021010</td><td>Queanbeyan - East</td><td>101021010</td><td>Queanbeyan - East</td><td>1</td><td>Good</td><td>Good</td><td>0</td></tr>\n",
       "<tr><td>101021011</td><td>Queanbeyan Region</td><td>101021610</td><td>Googong</td><td>0.0967097</td><td>Poor</td><td>Good</td><td>0</td></tr>\n",
       "<tr><td>101021011</td><td>Queanbeyan Region</td><td>101021611</td><td>Queanbeyan Surrounds</td><td>0.9032903</td><td>Good</td><td>Good</td><td>0</td></tr>\n",
       "<tr><td>101021012</td><td>Queanbeyan West -...</td><td>101021012</td><td>Queanbeyan West -...</td><td>1</td><td>Good</td><td>Good</td><td>0</td></tr>\n",
       "<tr><td>101031013</td><td>Bombala</td><td>101031013</td><td>Bombala</td><td>1</td><td>Good</td><td>Good</td><td>0</td></tr>\n",
       "<tr><td>101031014</td><td>Cooma</td><td>101031014</td><td>Cooma</td><td>1</td><td>Good</td><td>Good</td><td>0</td></tr>\n",
       "<tr><td>101031015</td><td>Cooma Region</td><td>101031015</td><td>Cooma Surrounds</td><td>1</td><td>Good</td><td>Good</td><td>0</td></tr>\n",
       "<tr><td>101031016</td><td>Jindabyne - Berri...</td><td>101031016</td><td>Jindabyne - Berri...</td><td>1</td><td>Good</td><td>Good</td><td>0</td></tr>\n",
       "<tr><td>101041017</td><td>Batemans Bay</td><td>101041017</td><td>Batemans Bay</td><td>1</td><td>Good</td><td>Good</td><td>0</td></tr>\n",
       "<tr><td>101041018</td><td>Batemans Bay - South</td><td>101041018</td><td>Batemans Bay - South</td><td>1</td><td>Good</td><td>Good</td><td>0</td></tr>\n",
       "<tr><td>101041019</td><td>Bega - Tathra</td><td>101041019</td><td>Bega - Tathra</td><td>1</td><td>Good</td><td>Good</td><td>0</td></tr>\n",
       "<tr><td>101041020</td><td>Bega-Eden Hinterland</td><td>101041020</td><td>Bega-Eden Hinterland</td><td>1</td><td>Good</td><td>Good</td><td>0</td></tr>\n",
       "<tr><td>101041021</td><td>Broulee - Tomakin</td><td>101041021</td><td>Broulee - Tomakin</td><td>1</td><td>Good</td><td>Good</td><td>0</td></tr>\n",
       "<tr><td>101041022</td><td>Deua - Wadbilliga</td><td>101041022</td><td>Deua - Wadbilliga</td><td>1</td><td>Good</td><td>Good</td><td>0</td></tr>\n",
       "<tr><td>101041023</td><td>Eden</td><td>101041023</td><td>Eden</td><td>1</td><td>Good</td><td>Good</td><td>0</td></tr>\n",
       "<tr><td>101041024</td><td>Eurobodalla Hinte...</td><td>101041024</td><td>Eurobodalla Hinte...</td><td>1</td><td>Good</td><td>Good</td><td>0</td></tr>\n",
       "<tr><td>101041025</td><td>Merimbula - Tura ...</td><td>101041025</td><td>Merimbula - Tura ...</td><td>1</td><td>Good</td><td>Good</td><td>0</td></tr>\n",
       "</table>\n",
       "only showing top 20 rows\n"
      ],
      "text/plain": [
       "+-----------------+--------------------+-------------+--------------------+-------------+------------------------------+-------------------------+--------------+\n",
       "|SA2_MAINCODE_2016|       SA2_NAME_2016|SA2_CODE_2021|       SA2_NAME_2021|RATIO_FROM_TO|INDIV_TO_REGION_QLTY_INDICATOR|OVERALL_QUALITY_INDICATOR|BMOS_NULL_FLAG|\n",
       "+-----------------+--------------------+-------------+--------------------+-------------+------------------------------+-------------------------+--------------+\n",
       "|        101021007|           Braidwood|    101021007|           Braidwood|            1|                          Good|                     Good|             0|\n",
       "|        101021008|             Karabar|    101021008|             Karabar|            1|                          Good|                     Good|             0|\n",
       "|        101021009|          Queanbeyan|    101021009|          Queanbeyan|            1|                          Good|                     Good|             0|\n",
       "|        101021010|   Queanbeyan - East|    101021010|   Queanbeyan - East|            1|                          Good|                     Good|             0|\n",
       "|        101021011|   Queanbeyan Region|    101021610|             Googong|    0.0967097|                          Poor|                     Good|             0|\n",
       "|        101021011|   Queanbeyan Region|    101021611|Queanbeyan Surrounds|    0.9032903|                          Good|                     Good|             0|\n",
       "|        101021012|Queanbeyan West -...|    101021012|Queanbeyan West -...|            1|                          Good|                     Good|             0|\n",
       "|        101031013|             Bombala|    101031013|             Bombala|            1|                          Good|                     Good|             0|\n",
       "|        101031014|               Cooma|    101031014|               Cooma|            1|                          Good|                     Good|             0|\n",
       "|        101031015|        Cooma Region|    101031015|     Cooma Surrounds|            1|                          Good|                     Good|             0|\n",
       "|        101031016|Jindabyne - Berri...|    101031016|Jindabyne - Berri...|            1|                          Good|                     Good|             0|\n",
       "|        101041017|        Batemans Bay|    101041017|        Batemans Bay|            1|                          Good|                     Good|             0|\n",
       "|        101041018|Batemans Bay - South|    101041018|Batemans Bay - South|            1|                          Good|                     Good|             0|\n",
       "|        101041019|       Bega - Tathra|    101041019|       Bega - Tathra|            1|                          Good|                     Good|             0|\n",
       "|        101041020|Bega-Eden Hinterland|    101041020|Bega-Eden Hinterland|            1|                          Good|                     Good|             0|\n",
       "|        101041021|   Broulee - Tomakin|    101041021|   Broulee - Tomakin|            1|                          Good|                     Good|             0|\n",
       "|        101041022|   Deua - Wadbilliga|    101041022|   Deua - Wadbilliga|            1|                          Good|                     Good|             0|\n",
       "|        101041023|                Eden|    101041023|                Eden|            1|                          Good|                     Good|             0|\n",
       "|        101041024|Eurobodalla Hinte...|    101041024|Eurobodalla Hinte...|            1|                          Good|                     Good|             0|\n",
       "|        101041025|Merimbula - Tura ...|    101041025|Merimbula - Tura ...|            1|                          Good|                     Good|             0|\n",
       "+-----------------+--------------------+-------------+--------------------+-------------+------------------------------+-------------------------+--------------+\n",
       "only showing top 20 rows"
      ]
     },
     "execution_count": 24,
     "metadata": {},
     "output_type": "execute_result"
    }
   ],
   "source": [
    "correspondences= spark.read.option(\"header\",True).csv('../data/outer/correspondences.csv') #read the parquet \n",
    "correspondences = correspondences.na.drop()\n",
    "correspondences"
   ]
  },
  {
   "cell_type": "code",
   "execution_count": null,
   "id": "65a43a9f-cea5-4924-8a01-af53f1944691",
   "metadata": {},
   "outputs": [],
   "source": []
  }
 ],
 "metadata": {
  "kernelspec": {
   "display_name": "Python 3 (ipykernel)",
   "language": "python",
   "name": "python3"
  },
  "language_info": {
   "codemirror_mode": {
    "name": "ipython",
    "version": 3
   },
   "file_extension": ".py",
   "mimetype": "text/x-python",
   "name": "python",
   "nbconvert_exporter": "python",
   "pygments_lexer": "ipython3",
   "version": "3.7.13"
  },
  "vscode": {
   "interpreter": {
    "hash": "6e45bdfcba1031802b2f7a315f02d536e51553942a60e4ee4be74aec82814bfa"
   }
  }
 },
 "nbformat": 4,
 "nbformat_minor": 5
}
