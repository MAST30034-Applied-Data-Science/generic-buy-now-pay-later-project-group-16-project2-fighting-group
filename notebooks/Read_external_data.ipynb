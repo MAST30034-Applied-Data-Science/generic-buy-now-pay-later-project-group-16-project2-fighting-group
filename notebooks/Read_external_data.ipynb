{
 "cells": [
  {
   "cell_type": "code",
   "execution_count": 13,
   "id": "62f8ed27",
   "metadata": {},
   "outputs": [],
   "source": [
    "#Check if the folder exists, if not create a new path, improve code stability\n",
    "import os\n",
    "import numpy as np\n",
    "import pandas as pd\n",
    "import zipfile\n",
    "\n",
    "from urllib.request import urlretrieve\n",
    "\n",
    "#Go back one level from notebook to data \n",
    "output_relative_dir = '../data/'\n",
    "\n",
    "if not os.path.exists(output_relative_dir):\n",
    "    os.makedirs(output_relative_dir)\n",
    "    \n",
    "for target_dir in ('curated','outer'):\n",
    "    if not os.path.exists(output_relative_dir + target_dir):\n",
    "        os.makedirs(output_relative_dir + target_dir)"
   ]
  },
  {
   "cell_type": "code",
   "execution_count": 14,
   "id": "ce0340c5",
   "metadata": {},
   "outputs": [
    {
     "name": "stdout",
     "output_type": "stream",
     "text": [
      "complete\n"
     ]
    }
   ],
   "source": [
    "url = \"https://www.abs.gov.au/census/find-census-data/datapacks/download/2021_GCP_SA2_for_AUS_short-header.zip\"#year-month.parquet\n",
    "output_dir = \"../data/outer/census.zip\"\n",
    "# download\n",
    "urlretrieve(url, output_dir) \n",
    "print(\"complete\")"
   ]
  },
  {
   "cell_type": "code",
   "execution_count": 15,
   "id": "e098cb87",
   "metadata": {},
   "outputs": [],
   "source": [
    "files = zipfile.ZipFile('../data/outer/census.zip','r')\n",
    "\n",
    "for file in files.namelist():\n",
    "    files.extract(file, f\"../data/outer/census\")"
   ]
  },
  {
   "cell_type": "code",
   "execution_count": 16,
   "id": "5da580d7",
   "metadata": {},
   "outputs": [],
   "source": [
    "from pyspark.sql import SparkSession\n",
    "from pyspark.sql import functions as F\n",
    "# Create a spark session (which will run spark jobs)\n",
    "spark = (\n",
    "    SparkSession.builder.appName(\"MAST30034 Tutorial 1\")\n",
    "    .config(\"spark.sql.repl.eagerEval.enabled\", True) \n",
    "    .config(\"spark.sql.parquet.cacheMetadata\", \"true\")\n",
    "    .config(\"spark.sql.session.timeZone\", \"Etc/UTC\")\n",
    "    .getOrCreate()\n",
    ")"
   ]
  },
  {
   "cell_type": "code",
   "execution_count": 17,
   "id": "dc2ef49a",
   "metadata": {},
   "outputs": [
    {
     "name": "stdout",
     "output_type": "stream",
     "text": [
      "2472 2472\n"
     ]
    }
   ],
   "source": [
    "G04= spark.read.option(\"header\",True).csv('../data/outer/census/2021 Census GCP Statistical Area 2 for AUS/2021Census_G17A_AUST_SA2.csv') #read the parquet \n",
    "G = G04.na.drop(subset=G04.columns)\n",
    "print(G04.count(),G.count())"
   ]
  },
  {
   "cell_type": "code",
   "execution_count": 18,
   "id": "0973831e",
   "metadata": {},
   "outputs": [
    {
     "name": "stdout",
     "output_type": "stream",
     "text": [
      "complete\n"
     ]
    }
   ],
   "source": [
    "url = \"http://github.com/matthewproctor/australianpostcodes/zipball/master\"#year-month.parquet\n",
    "output_dir = \"../data/outer/total_pto2.zip\"\n",
    "# download\n",
    "urlretrieve(url, output_dir) \n",
    "print(\"complete\")\n"
   ]
  },
  {
   "cell_type": "code",
   "execution_count": 19,
   "id": "da09bc21",
   "metadata": {},
   "outputs": [],
   "source": [
    "files = zipfile.ZipFile('../data/outer/total_pto2.zip','r')\n",
    "for file in files.namelist():\n",
    "    files.extract(file, f\"../data/outer/total_pto2\")"
   ]
  },
  {
   "cell_type": "code",
   "execution_count": 20,
   "id": "cc2855ee",
   "metadata": {},
   "outputs": [
    {
     "data": {
      "text/html": [
       "<table border='1'>\n",
       "<tr><th>id</th><th>postcode</th><th>locality</th><th>state</th><th>long</th><th>lat</th><th>dc</th><th>type</th><th>status</th><th>sa3</th><th>sa3name</th><th>sa4</th><th>sa4name</th><th>region</th><th>Lat_precise</th><th>Long_precise</th><th>SA1_MAINCODE_2011</th><th>SA1_MAINCODE_2016</th><th>SA2_MAINCODE_2016</th><th>SA2_NAME_2016</th><th>SA3_CODE_2016</th><th>SA3_NAME_2016</th><th>SA4_CODE_2016</th><th>SA4_NAME_2016</th><th>RA_2011</th><th>RA_2016</th><th>MMM_2015</th><th>MMM_2019</th><th>ced</th><th>altitude</th><th>chargezone</th><th>phn_code</th><th>phn_name</th><th>lgaregion</th><th>electorate</th><th>electoraterating</th></tr>\n",
       "<tr><td>230</td><td>0200</td><td>ANU</td><td>ACT</td><td>149.119</td><td>-35.2777</td><td>null</td><td>null</td><td>null</td><td>null</td><td>null</td><td>null</td><td>null</td><td>R1</td><td>-35.2777</td><td>149.119</td><td>80105104901</td><td>80105104901</td><td>801051049</td><td>Acton</td><td>80105</td><td>North Canberra</td><td>801</td><td>Australian Capita...</td><td>1</td><td>1</td><td>1</td><td>1</td><td>null</td><td>null</td><td>N2</td><td>null</td><td>null</td><td>null</td><td>Durack</td><td>null</td></tr>\n",
       "<tr><td>21820</td><td>0200</td><td>Australian Nation...</td><td>ACT</td><td>149.1189</td><td>-35.2777</td><td>null</td><td>null</td><td>Added 19-Jan-2020</td><td>null</td><td>null</td><td>null</td><td>null</td><td>R1</td><td>-35.2776999</td><td>149.118527</td><td>80105104901</td><td>80105104901</td><td>801051049</td><td>Acton</td><td>80105</td><td>North Canberra</td><td>801</td><td>Australian Capita...</td><td>1</td><td>1</td><td>1</td><td>1</td><td>null</td><td>null</td><td>N2</td><td>null</td><td>null</td><td>null</td><td>Durack</td><td>null</td></tr>\n",
       "<tr><td>232</td><td>0800</td><td>DARWIN</td><td>NT</td><td>130.83668</td><td>-12.458684</td><td>null</td><td>null</td><td>Updated 6-Feb-2020</td><td>70101</td><td>Darwin City</td><td>701</td><td>Darwin</td><td>R1</td><td>-12.3932794</td><td>130.7766611</td><td>70101100203</td><td>70101100218</td><td>701011002</td><td>Darwin City</td><td>70101</td><td>Darwin City</td><td>701</td><td>Darwin</td><td>3</td><td>3</td><td>2</td><td>2</td><td>null</td><td>null</td><td>NT1</td><td>PHN701</td><td>Northern Territory</td><td>Darwin</td><td>Solomon</td><td>Inner Metropolitan</td></tr>\n",
       "<tr><td>24049</td><td>0800</td><td>DARWIN CITY</td><td>NT</td><td>130.83668</td><td>-12.458684</td><td>null</td><td>null</td><td>Updated 6-Feb-2020</td><td>70101</td><td>Darwin City</td><td>701</td><td>Darwin</td><td>R1</td><td>-12.3932794</td><td>130.7766611</td><td>70101100203</td><td>70101100218</td><td>701011002</td><td>Darwin City</td><td>70101</td><td>Darwin City</td><td>701</td><td>Darwin</td><td>3</td><td>3</td><td>2</td><td>2</td><td>null</td><td>null</td><td>NT1</td><td>PHN701</td><td>Northern Territory</td><td>Darwin</td><td>Solomon</td><td>Inner Metropolitan</td></tr>\n",
       "<tr><td>233</td><td>0801</td><td>DARWIN</td><td>NT</td><td>130.83668</td><td>-12.458684</td><td>null</td><td>null</td><td>Updated 25-Mar-20...</td><td>70101</td><td>Darwin City</td><td>701</td><td>Darwin</td><td>R1</td><td>-12.4634403</td><td>130.8456418</td><td>70101100208</td><td>70101100208</td><td>701011002</td><td>Darwin City</td><td>70101</td><td>Darwin City</td><td>701</td><td>Darwin</td><td>3</td><td>3</td><td>2</td><td>2</td><td>null</td><td>null</td><td>NT1</td><td>PHN701</td><td>null</td><td>null</td><td>Lingiari</td><td>Rural</td></tr>\n",
       "<tr><td>234</td><td>0804</td><td>PARAP</td><td>NT</td><td>130.873315</td><td>-12.428017</td><td>null</td><td>null</td><td>Updated 25-Mar-20...</td><td>70102</td><td>Darwin Suburbs</td><td>701</td><td>Darwin</td><td>R1</td><td>-12.4324801</td><td>130.8462536</td><td>70101100704</td><td>70101100704</td><td>701011007</td><td>Parap</td><td>70101</td><td>Darwin City</td><td>701</td><td>Darwin</td><td>3</td><td>3</td><td>2</td><td>2</td><td>null</td><td>null</td><td>NT1</td><td>PHN701</td><td>null</td><td>null</td><td>Durack</td><td>null</td></tr>\n",
       "<tr><td>235</td><td>0810</td><td>ALAWA</td><td>NT</td><td>130.866242</td><td>-12.381806</td><td>null</td><td>null</td><td>Updated 6-Feb-2020</td><td>70102</td><td>Darwin Suburbs</td><td>701</td><td>Darwin</td><td>R1</td><td>-12.38</td><td>130.873</td><td>70102101001</td><td>70102101001</td><td>701021010</td><td>Alawa</td><td>70102</td><td>Darwin Suburbs</td><td>701</td><td>Darwin</td><td>3</td><td>3</td><td>2</td><td>2</td><td>null</td><td>9.22142887115479</td><td>NT1</td><td>PHN701</td><td>Northern Territory</td><td>Darwin</td><td>Solomon</td><td>Inner Metropolitan</td></tr>\n",
       "<tr><td>236</td><td>0810</td><td>BRINKIN</td><td>NT</td><td>130.866242</td><td>-12.381806</td><td>null</td><td>null</td><td>Updated 6-Feb-2020</td><td>70102</td><td>Darwin Suburbs</td><td>701</td><td>Darwin</td><td>R1</td><td>-12.37</td><td>130.867</td><td>70102101301</td><td>70102101301</td><td>701021013</td><td>Brinkin - Nakara</td><td>70102</td><td>Darwin Suburbs</td><td>701</td><td>Darwin</td><td>3</td><td>3</td><td>2</td><td>2</td><td>null</td><td>9.22142887115479</td><td>NT1</td><td>PHN701</td><td>Northern Territory</td><td>Darwin</td><td>Solomon</td><td>Inner Metropolitan</td></tr>\n",
       "<tr><td>237</td><td>0810</td><td>CASUARINA</td><td>NT</td><td>130.866242</td><td>-12.381806</td><td>null</td><td>null</td><td>Updated 6-Feb-2020</td><td>70102</td><td>Darwin Suburbs</td><td>701</td><td>Darwin</td><td>R1</td><td>-12.373333</td><td>130.881667</td><td>70102101307</td><td>70102101307</td><td>701021013</td><td>Brinkin - Nakara</td><td>70102</td><td>Darwin Suburbs</td><td>701</td><td>Darwin</td><td>3</td><td>3</td><td>2</td><td>2</td><td>null</td><td>9.22142887115479</td><td>NT1</td><td>PHN701</td><td>Northern Territory</td><td>Darwin</td><td>Solomon</td><td>Inner Metropolitan</td></tr>\n",
       "<tr><td>19972</td><td>0810</td><td>COCONUT GROVE</td><td>NT</td><td>130.8502369</td><td>-12.39614166</td><td>Northern Territor...</td><td>Delivery Area</td><td>Updated 6-Feb-2020</td><td>70102</td><td>Darwin Suburbs</td><td>701</td><td>Darwin</td><td>R1</td><td>-12.3989</td><td>130.852</td><td>70102101604</td><td>70102101604</td><td>701021016</td><td>Coconut Grove</td><td>70102</td><td>Darwin Suburbs</td><td>701</td><td>Darwin</td><td>3</td><td>3</td><td>2</td><td>2</td><td>null</td><td>9.22142887115479</td><td>NT1</td><td>PHN701</td><td>Northern Territory</td><td>Darwin</td><td>Solomon</td><td>Inner Metropolitan</td></tr>\n",
       "<tr><td>239</td><td>0810</td><td>JINGILI</td><td>NT</td><td>130.866242</td><td>-12.381806</td><td>null</td><td>null</td><td>Updated 6-Feb-2020</td><td>70102</td><td>Darwin Suburbs</td><td>701</td><td>Darwin</td><td>R1</td><td>-12.386667</td><td>130.875278</td><td>70102101804</td><td>70102101804</td><td>701021018</td><td>Jingili</td><td>70102</td><td>Darwin Suburbs</td><td>701</td><td>Darwin</td><td>3</td><td>3</td><td>2</td><td>2</td><td>null</td><td>9.22142887115479</td><td>NT1</td><td>PHN701</td><td>Northern Territory</td><td>Darwin</td><td>Solomon</td><td>Inner Metropolitan</td></tr>\n",
       "<tr><td>240</td><td>0810</td><td>LEE POINT</td><td>NT</td><td>130.866242</td><td>-12.381806</td><td>null</td><td>null</td><td>Updated 6-Feb-2020</td><td>70102</td><td>Darwin Suburbs</td><td>701</td><td>Darwin</td><td>R1</td><td>-12.339444</td><td>130.893056</td><td>70102102103</td><td>70102102103</td><td>701021021</td><td>Lyons (NT)</td><td>70102</td><td>Darwin Suburbs</td><td>701</td><td>Darwin</td><td>3</td><td>3</td><td>2</td><td>2</td><td>null</td><td>9.22142887115479</td><td>NT1</td><td>PHN701</td><td>Northern Territory</td><td>Darwin</td><td>Solomon</td><td>Inner Metropolitan</td></tr>\n",
       "<tr><td>19973</td><td>0810</td><td>LYONS</td><td>NT</td><td>130.8885151</td><td>-12.35911956</td><td>Northern Territor...</td><td>Delivery Area</td><td>Updated 6-Feb-2020</td><td>70102</td><td>Darwin Suburbs</td><td>701</td><td>Darwin</td><td>R1</td><td>-12.3603</td><td>130.889</td><td>70102102101</td><td>70102102105</td><td>701021021</td><td>Lyons (NT)</td><td>70102</td><td>Darwin Suburbs</td><td>701</td><td>Darwin</td><td>3</td><td>3</td><td>2</td><td>2</td><td>null</td><td>9.22142887115479</td><td>NT1</td><td>PHN701</td><td>Northern Territory</td><td>Darwin</td><td>Solomon</td><td>Inner Metropolitan</td></tr>\n",
       "<tr><td>241</td><td>0810</td><td>MILLNER</td><td>NT</td><td>130.866242</td><td>-12.381806</td><td>null</td><td>null</td><td>Updated 6-Feb-2020</td><td>70102</td><td>Darwin Suburbs</td><td>701</td><td>Darwin</td><td>R1</td><td>-12.391111</td><td>130.863208</td><td>70102102303</td><td>70102102303</td><td>701021023</td><td>Millner</td><td>70102</td><td>Darwin Suburbs</td><td>701</td><td>Darwin</td><td>3</td><td>3</td><td>2</td><td>2</td><td>null</td><td>9.22142887115479</td><td>NT1</td><td>PHN701</td><td>Northern Territory</td><td>Darwin</td><td>Solomon</td><td>Inner Metropolitan</td></tr>\n",
       "<tr><td>242</td><td>0810</td><td>MOIL</td><td>NT</td><td>130.866242</td><td>-12.381806</td><td>null</td><td>null</td><td>Updated 6-Feb-2020</td><td>70102</td><td>Darwin Suburbs</td><td>701</td><td>Darwin</td><td>R1</td><td>-12.388889</td><td>130.879167</td><td>70102102403</td><td>70102102403</td><td>701021024</td><td>Moil</td><td>70102</td><td>Darwin Suburbs</td><td>701</td><td>Darwin</td><td>3</td><td>3</td><td>2</td><td>2</td><td>null</td><td>9.22142887115479</td><td>NT1</td><td>PHN701</td><td>Northern Territory</td><td>Darwin</td><td>Solomon</td><td>Inner Metropolitan</td></tr>\n",
       "<tr><td>19974</td><td>0810</td><td>MUIRHEAD</td><td>NT</td><td>130.8959029</td><td>-12.35811947</td><td>Northern Territor...</td><td>Delivery Area</td><td>Updated 6-Feb-2020</td><td>70102</td><td>Darwin Suburbs</td><td>701</td><td>Darwin</td><td>R1</td><td>-12.3583</td><td>130.896</td><td>70102102102</td><td>70102102113</td><td>701021021</td><td>Lyons (NT)</td><td>70102</td><td>Darwin Suburbs</td><td>701</td><td>Darwin</td><td>3</td><td>3</td><td>2</td><td>2</td><td>null</td><td>9.22142887115479</td><td>NT1</td><td>PHN701</td><td>Northern Territory</td><td>Darwin</td><td>Solomon</td><td>Inner Metropolitan</td></tr>\n",
       "<tr><td>243</td><td>0810</td><td>NAKARA</td><td>NT</td><td>130.866242</td><td>-12.381806</td><td>null</td><td>null</td><td>Updated 6-Feb-2020</td><td>70102</td><td>Darwin Suburbs</td><td>701</td><td>Darwin</td><td>R1</td><td>-12.369444</td><td>130.878056</td><td>70102101303</td><td>70102101303</td><td>701021013</td><td>Brinkin - Nakara</td><td>70102</td><td>Darwin Suburbs</td><td>701</td><td>Darwin</td><td>3</td><td>3</td><td>2</td><td>2</td><td>null</td><td>9.22142887115479</td><td>NT1</td><td>PHN701</td><td>Northern Territory</td><td>Darwin</td><td>Solomon</td><td>Inner Metropolitan</td></tr>\n",
       "<tr><td>244</td><td>0810</td><td>NIGHTCLIFF</td><td>NT</td><td>130.866242</td><td>-12.381806</td><td>null</td><td>null</td><td>Updated 6-Feb-2020</td><td>70102</td><td>Darwin Suburbs</td><td>701</td><td>Darwin</td><td>R1</td><td>-12.383</td><td>130.849</td><td>70102102509</td><td>70102102509</td><td>701021025</td><td>Nightcliff</td><td>70102</td><td>Darwin Suburbs</td><td>701</td><td>Darwin</td><td>3</td><td>3</td><td>2</td><td>2</td><td>null</td><td>9.22142887115479</td><td>NT1</td><td>PHN701</td><td>Northern Territory</td><td>Darwin</td><td>Solomon</td><td>Inner Metropolitan</td></tr>\n",
       "<tr><td>245</td><td>0810</td><td>RAPID CREEK</td><td>NT</td><td>130.866242</td><td>-12.381806</td><td>null</td><td>null</td><td>Updated 6-Feb-2020</td><td>70102</td><td>Darwin Suburbs</td><td>701</td><td>Darwin</td><td>R1</td><td>-12.380833</td><td>130.862222</td><td>70102102605</td><td>70102102607</td><td>701021026</td><td>Rapid Creek</td><td>70102</td><td>Darwin Suburbs</td><td>701</td><td>Darwin</td><td>3</td><td>3</td><td>2</td><td>2</td><td>null</td><td>9.22142887115479</td><td>NT1</td><td>PHN701</td><td>Northern Territory</td><td>Darwin</td><td>Solomon</td><td>Inner Metropolitan</td></tr>\n",
       "<tr><td>246</td><td>0810</td><td>TIWI</td><td>NT</td><td>130.866242</td><td>-12.381806</td><td>null</td><td>null</td><td>Updated 6-Feb-2020</td><td>70102</td><td>Darwin Suburbs</td><td>701</td><td>Darwin</td><td>R1</td><td>-12.363333</td><td>130.880278</td><td>70102102702</td><td>70102102702</td><td>701021027</td><td>Tiwi</td><td>70102</td><td>Darwin Suburbs</td><td>701</td><td>Darwin</td><td>3</td><td>3</td><td>2</td><td>2</td><td>null</td><td>9.22142887115479</td><td>NT1</td><td>PHN701</td><td>Northern Territory</td><td>Darwin</td><td>Solomon</td><td>Inner Metropolitan</td></tr>\n",
       "</table>\n",
       "only showing top 20 rows\n"
      ],
      "text/plain": [
       "+-----+--------+--------------------+-----+-----------+------------+--------------------+-------------+--------------------+-----+--------------+----+-------+------+-----------+------------+-----------------+-----------------+-----------------+----------------+-------------+--------------+-------------+--------------------+-------+-------+--------+--------+----+----------------+----------+--------+------------------+---------+----------+------------------+\n",
       "|   id|postcode|            locality|state|       long|         lat|                  dc|         type|              status|  sa3|       sa3name| sa4|sa4name|region|Lat_precise|Long_precise|SA1_MAINCODE_2011|SA1_MAINCODE_2016|SA2_MAINCODE_2016|   SA2_NAME_2016|SA3_CODE_2016| SA3_NAME_2016|SA4_CODE_2016|       SA4_NAME_2016|RA_2011|RA_2016|MMM_2015|MMM_2019| ced|        altitude|chargezone|phn_code|          phn_name|lgaregion|electorate|  electoraterating|\n",
       "+-----+--------+--------------------+-----+-----------+------------+--------------------+-------------+--------------------+-----+--------------+----+-------+------+-----------+------------+-----------------+-----------------+-----------------+----------------+-------------+--------------+-------------+--------------------+-------+-------+--------+--------+----+----------------+----------+--------+------------------+---------+----------+------------------+\n",
       "|  230|    0200|                 ANU|  ACT|    149.119|    -35.2777|                null|         null|                null| null|          null|null|   null|    R1|   -35.2777|     149.119|      80105104901|      80105104901|        801051049|           Acton|        80105|North Canberra|          801|Australian Capita...|      1|      1|       1|       1|null|            null|        N2|    null|              null|     null|    Durack|              null|\n",
       "|21820|    0200|Australian Nation...|  ACT|   149.1189|    -35.2777|                null|         null|   Added 19-Jan-2020| null|          null|null|   null|    R1|-35.2776999|  149.118527|      80105104901|      80105104901|        801051049|           Acton|        80105|North Canberra|          801|Australian Capita...|      1|      1|       1|       1|null|            null|        N2|    null|              null|     null|    Durack|              null|\n",
       "|  232|    0800|              DARWIN|   NT|  130.83668|  -12.458684|                null|         null|  Updated 6-Feb-2020|70101|   Darwin City| 701| Darwin|    R1|-12.3932794| 130.7766611|      70101100203|      70101100218|        701011002|     Darwin City|        70101|   Darwin City|          701|              Darwin|      3|      3|       2|       2|null|            null|       NT1|  PHN701|Northern Territory|   Darwin|   Solomon|Inner Metropolitan|\n",
       "|24049|    0800|         DARWIN CITY|   NT|  130.83668|  -12.458684|                null|         null|  Updated 6-Feb-2020|70101|   Darwin City| 701| Darwin|    R1|-12.3932794| 130.7766611|      70101100203|      70101100218|        701011002|     Darwin City|        70101|   Darwin City|          701|              Darwin|      3|      3|       2|       2|null|            null|       NT1|  PHN701|Northern Territory|   Darwin|   Solomon|Inner Metropolitan|\n",
       "|  233|    0801|              DARWIN|   NT|  130.83668|  -12.458684|                null|         null|Updated 25-Mar-20...|70101|   Darwin City| 701| Darwin|    R1|-12.4634403| 130.8456418|      70101100208|      70101100208|        701011002|     Darwin City|        70101|   Darwin City|          701|              Darwin|      3|      3|       2|       2|null|            null|       NT1|  PHN701|              null|     null|  Lingiari|             Rural|\n",
       "|  234|    0804|               PARAP|   NT| 130.873315|  -12.428017|                null|         null|Updated 25-Mar-20...|70102|Darwin Suburbs| 701| Darwin|    R1|-12.4324801| 130.8462536|      70101100704|      70101100704|        701011007|           Parap|        70101|   Darwin City|          701|              Darwin|      3|      3|       2|       2|null|            null|       NT1|  PHN701|              null|     null|    Durack|              null|\n",
       "|  235|    0810|               ALAWA|   NT| 130.866242|  -12.381806|                null|         null|  Updated 6-Feb-2020|70102|Darwin Suburbs| 701| Darwin|    R1|     -12.38|     130.873|      70102101001|      70102101001|        701021010|           Alawa|        70102|Darwin Suburbs|          701|              Darwin|      3|      3|       2|       2|null|9.22142887115479|       NT1|  PHN701|Northern Territory|   Darwin|   Solomon|Inner Metropolitan|\n",
       "|  236|    0810|             BRINKIN|   NT| 130.866242|  -12.381806|                null|         null|  Updated 6-Feb-2020|70102|Darwin Suburbs| 701| Darwin|    R1|     -12.37|     130.867|      70102101301|      70102101301|        701021013|Brinkin - Nakara|        70102|Darwin Suburbs|          701|              Darwin|      3|      3|       2|       2|null|9.22142887115479|       NT1|  PHN701|Northern Territory|   Darwin|   Solomon|Inner Metropolitan|\n",
       "|  237|    0810|           CASUARINA|   NT| 130.866242|  -12.381806|                null|         null|  Updated 6-Feb-2020|70102|Darwin Suburbs| 701| Darwin|    R1| -12.373333|  130.881667|      70102101307|      70102101307|        701021013|Brinkin - Nakara|        70102|Darwin Suburbs|          701|              Darwin|      3|      3|       2|       2|null|9.22142887115479|       NT1|  PHN701|Northern Territory|   Darwin|   Solomon|Inner Metropolitan|\n",
       "|19972|    0810|       COCONUT GROVE|   NT|130.8502369|-12.39614166|Northern Territor...|Delivery Area|  Updated 6-Feb-2020|70102|Darwin Suburbs| 701| Darwin|    R1|   -12.3989|     130.852|      70102101604|      70102101604|        701021016|   Coconut Grove|        70102|Darwin Suburbs|          701|              Darwin|      3|      3|       2|       2|null|9.22142887115479|       NT1|  PHN701|Northern Territory|   Darwin|   Solomon|Inner Metropolitan|\n",
       "|  239|    0810|             JINGILI|   NT| 130.866242|  -12.381806|                null|         null|  Updated 6-Feb-2020|70102|Darwin Suburbs| 701| Darwin|    R1| -12.386667|  130.875278|      70102101804|      70102101804|        701021018|         Jingili|        70102|Darwin Suburbs|          701|              Darwin|      3|      3|       2|       2|null|9.22142887115479|       NT1|  PHN701|Northern Territory|   Darwin|   Solomon|Inner Metropolitan|\n",
       "|  240|    0810|           LEE POINT|   NT| 130.866242|  -12.381806|                null|         null|  Updated 6-Feb-2020|70102|Darwin Suburbs| 701| Darwin|    R1| -12.339444|  130.893056|      70102102103|      70102102103|        701021021|      Lyons (NT)|        70102|Darwin Suburbs|          701|              Darwin|      3|      3|       2|       2|null|9.22142887115479|       NT1|  PHN701|Northern Territory|   Darwin|   Solomon|Inner Metropolitan|\n",
       "|19973|    0810|               LYONS|   NT|130.8885151|-12.35911956|Northern Territor...|Delivery Area|  Updated 6-Feb-2020|70102|Darwin Suburbs| 701| Darwin|    R1|   -12.3603|     130.889|      70102102101|      70102102105|        701021021|      Lyons (NT)|        70102|Darwin Suburbs|          701|              Darwin|      3|      3|       2|       2|null|9.22142887115479|       NT1|  PHN701|Northern Territory|   Darwin|   Solomon|Inner Metropolitan|\n",
       "|  241|    0810|             MILLNER|   NT| 130.866242|  -12.381806|                null|         null|  Updated 6-Feb-2020|70102|Darwin Suburbs| 701| Darwin|    R1| -12.391111|  130.863208|      70102102303|      70102102303|        701021023|         Millner|        70102|Darwin Suburbs|          701|              Darwin|      3|      3|       2|       2|null|9.22142887115479|       NT1|  PHN701|Northern Territory|   Darwin|   Solomon|Inner Metropolitan|\n",
       "|  242|    0810|                MOIL|   NT| 130.866242|  -12.381806|                null|         null|  Updated 6-Feb-2020|70102|Darwin Suburbs| 701| Darwin|    R1| -12.388889|  130.879167|      70102102403|      70102102403|        701021024|            Moil|        70102|Darwin Suburbs|          701|              Darwin|      3|      3|       2|       2|null|9.22142887115479|       NT1|  PHN701|Northern Territory|   Darwin|   Solomon|Inner Metropolitan|\n",
       "|19974|    0810|            MUIRHEAD|   NT|130.8959029|-12.35811947|Northern Territor...|Delivery Area|  Updated 6-Feb-2020|70102|Darwin Suburbs| 701| Darwin|    R1|   -12.3583|     130.896|      70102102102|      70102102113|        701021021|      Lyons (NT)|        70102|Darwin Suburbs|          701|              Darwin|      3|      3|       2|       2|null|9.22142887115479|       NT1|  PHN701|Northern Territory|   Darwin|   Solomon|Inner Metropolitan|\n",
       "|  243|    0810|              NAKARA|   NT| 130.866242|  -12.381806|                null|         null|  Updated 6-Feb-2020|70102|Darwin Suburbs| 701| Darwin|    R1| -12.369444|  130.878056|      70102101303|      70102101303|        701021013|Brinkin - Nakara|        70102|Darwin Suburbs|          701|              Darwin|      3|      3|       2|       2|null|9.22142887115479|       NT1|  PHN701|Northern Territory|   Darwin|   Solomon|Inner Metropolitan|\n",
       "|  244|    0810|          NIGHTCLIFF|   NT| 130.866242|  -12.381806|                null|         null|  Updated 6-Feb-2020|70102|Darwin Suburbs| 701| Darwin|    R1|    -12.383|     130.849|      70102102509|      70102102509|        701021025|      Nightcliff|        70102|Darwin Suburbs|          701|              Darwin|      3|      3|       2|       2|null|9.22142887115479|       NT1|  PHN701|Northern Territory|   Darwin|   Solomon|Inner Metropolitan|\n",
       "|  245|    0810|         RAPID CREEK|   NT| 130.866242|  -12.381806|                null|         null|  Updated 6-Feb-2020|70102|Darwin Suburbs| 701| Darwin|    R1| -12.380833|  130.862222|      70102102605|      70102102607|        701021026|     Rapid Creek|        70102|Darwin Suburbs|          701|              Darwin|      3|      3|       2|       2|null|9.22142887115479|       NT1|  PHN701|Northern Territory|   Darwin|   Solomon|Inner Metropolitan|\n",
       "|  246|    0810|                TIWI|   NT| 130.866242|  -12.381806|                null|         null|  Updated 6-Feb-2020|70102|Darwin Suburbs| 701| Darwin|    R1| -12.363333|  130.880278|      70102102702|      70102102702|        701021027|            Tiwi|        70102|Darwin Suburbs|          701|              Darwin|      3|      3|       2|       2|null|9.22142887115479|       NT1|  PHN701|Northern Territory|   Darwin|   Solomon|Inner Metropolitan|\n",
       "+-----+--------+--------------------+-----+-----------+------------+--------------------+-------------+--------------------+-----+--------------+----+-------+------+-----------+------------+-----------------+-----------------+-----------------+----------------+-------------+--------------+-------------+--------------------+-------+-------+--------+--------+----+----------------+----------+--------+------------------+---------+----------+------------------+\n",
       "only showing top 20 rows"
      ]
     },
     "execution_count": 20,
     "metadata": {},
     "output_type": "execute_result"
    }
   ],
   "source": [
    "post_sa2= spark.read.option(\"header\",True).csv('../data/outer/total_pto2/matthewproctor-australianpostcodes-6f8a994/australian_postcodes.csv') #read the parquet \n",
    "post_sa2"
   ]
  },
  {
   "cell_type": "code",
   "execution_count": 21,
   "id": "aa60ad1f",
   "metadata": {},
   "outputs": [
    {
     "name": "stdout",
     "output_type": "stream",
     "text": [
      "complete\n"
     ]
    }
   ],
   "source": [
    "url = \"https://www.abs.gov.au/statistics/standards/australian-statistical-geography-standard-asgs-edition-3/jul2021-jun2026/access-and-downloads/digital-boundary-files/SA2_2021_AUST_SHP_GDA2020.zip\" \n",
    "#year-month.parquet\n",
    "output_dir = \"../data/outer/2021sa2_shapefile.zip\"\n",
    "# download\n",
    "urlretrieve(url, output_dir) \n",
    "print(\"complete\")"
   ]
  },
  {
   "cell_type": "code",
   "execution_count": 22,
   "id": "acf29ca9",
   "metadata": {},
   "outputs": [],
   "source": [
    "files = zipfile.ZipFile('../data/outer/2021sa2_shapefile.zip','r')\n",
    "for file in files.namelist():\n",
    "    files.extract(file, f\"../data/outer/2021sa2_shapefile\")"
   ]
  },
  {
   "cell_type": "code",
   "execution_count": 23,
   "id": "405d8b35",
   "metadata": {},
   "outputs": [],
   "source": [
    "import pandas as pd\n",
    "from dbfread import DBF\n",
    "path = r'../data/outer/2021sa2_shapefile/SA2_2021_AUST_GDA2020.dbf' # 文件目录\n",
    "table = DBF(path)\n",
    "df = pd.DataFrame(iter(table))\n",
    "df.to_csv(\"../data/outer/2021sa2_shapefile/SA2_2021_AUST_GDA2020.csv\",index_label=\"FID\")"
   ]
  },
  {
   "cell_type": "code",
   "execution_count": 24,
   "id": "76d58ee4",
   "metadata": {},
   "outputs": [
    {
     "data": {
      "text/html": [
       "<table border='1'>\n",
       "<tr><th>FID</th><th>SA2_CODE21</th><th>SA2_NAME21</th><th>CHG_FLAG21</th><th>CHG_LBL21</th><th>SA3_CODE21</th><th>SA3_NAME21</th><th>SA4_CODE21</th><th>SA4_NAME21</th><th>GCC_CODE21</th><th>GCC_NAME21</th><th>STE_CODE21</th><th>STE_NAME21</th><th>AUS_CODE21</th><th>AUS_NAME21</th><th>AREASQKM21</th><th>LOCI_URI21</th></tr>\n",
       "<tr><td>0</td><td>101021007</td><td>Braidwood</td><td>0</td><td>No change</td><td>10102</td><td>Queanbeyan</td><td>101</td><td>Capital Region</td><td>1RNSW</td><td>Rest of NSW</td><td>1</td><td>New South Wales</td><td>AUS</td><td>Australia</td><td>3418.3525</td><td>http://linked.dat...</td></tr>\n",
       "<tr><td>1</td><td>101021008</td><td>Karabar</td><td>0</td><td>No change</td><td>10102</td><td>Queanbeyan</td><td>101</td><td>Capital Region</td><td>1RNSW</td><td>Rest of NSW</td><td>1</td><td>New South Wales</td><td>AUS</td><td>Australia</td><td>6.9825</td><td>http://linked.dat...</td></tr>\n",
       "<tr><td>2</td><td>101021009</td><td>Queanbeyan</td><td>0</td><td>No change</td><td>10102</td><td>Queanbeyan</td><td>101</td><td>Capital Region</td><td>1RNSW</td><td>Rest of NSW</td><td>1</td><td>New South Wales</td><td>AUS</td><td>Australia</td><td>4.762</td><td>http://linked.dat...</td></tr>\n",
       "<tr><td>3</td><td>101021010</td><td>Queanbeyan - East</td><td>0</td><td>No change</td><td>10102</td><td>Queanbeyan</td><td>101</td><td>Capital Region</td><td>1RNSW</td><td>Rest of NSW</td><td>1</td><td>New South Wales</td><td>AUS</td><td>Australia</td><td>13.0032</td><td>http://linked.dat...</td></tr>\n",
       "<tr><td>4</td><td>101021012</td><td>Queanbeyan West -...</td><td>0</td><td>No change</td><td>10102</td><td>Queanbeyan</td><td>101</td><td>Capital Region</td><td>1RNSW</td><td>Rest of NSW</td><td>1</td><td>New South Wales</td><td>AUS</td><td>Australia</td><td>13.6748</td><td>http://linked.dat...</td></tr>\n",
       "<tr><td>5</td><td>101021610</td><td>Googong</td><td>1</td><td>New</td><td>10102</td><td>Queanbeyan</td><td>101</td><td>Capital Region</td><td>1RNSW</td><td>Rest of NSW</td><td>1</td><td>New South Wales</td><td>AUS</td><td>Australia</td><td>6.9164</td><td>http://linked.dat...</td></tr>\n",
       "<tr><td>6</td><td>101021611</td><td>Queanbeyan Surrounds</td><td>1</td><td>New</td><td>10102</td><td>Queanbeyan</td><td>101</td><td>Capital Region</td><td>1RNSW</td><td>Rest of NSW</td><td>1</td><td>New South Wales</td><td>AUS</td><td>Australia</td><td>3047.7057</td><td>http://linked.dat...</td></tr>\n",
       "<tr><td>7</td><td>101031013</td><td>Bombala</td><td>0</td><td>No change</td><td>10103</td><td>Snowy Mountains</td><td>101</td><td>Capital Region</td><td>1RNSW</td><td>Rest of NSW</td><td>1</td><td>New South Wales</td><td>AUS</td><td>Australia</td><td>3990.144</td><td>http://linked.dat...</td></tr>\n",
       "<tr><td>8</td><td>101031014</td><td>Cooma</td><td>0</td><td>No change</td><td>10103</td><td>Snowy Mountains</td><td>101</td><td>Capital Region</td><td>1RNSW</td><td>Rest of NSW</td><td>1</td><td>New South Wales</td><td>AUS</td><td>Australia</td><td>103.6371</td><td>http://linked.dat...</td></tr>\n",
       "<tr><td>9</td><td>101031015</td><td>Cooma Surrounds</td><td>3</td><td>Name change</td><td>10103</td><td>Snowy Mountains</td><td>101</td><td>Capital Region</td><td>1RNSW</td><td>Rest of NSW</td><td>1</td><td>New South Wales</td><td>AUS</td><td>Australia</td><td>6251.0158</td><td>http://linked.dat...</td></tr>\n",
       "<tr><td>10</td><td>101031016</td><td>Jindabyne - Berri...</td><td>0</td><td>No change</td><td>10103</td><td>Snowy Mountains</td><td>101</td><td>Capital Region</td><td>1RNSW</td><td>Rest of NSW</td><td>1</td><td>New South Wales</td><td>AUS</td><td>Australia</td><td>3939.7888</td><td>http://linked.dat...</td></tr>\n",
       "<tr><td>11</td><td>101041017</td><td>Batemans Bay</td><td>0</td><td>No change</td><td>10104</td><td>South Coast</td><td>101</td><td>Capital Region</td><td>1RNSW</td><td>Rest of NSW</td><td>1</td><td>New South Wales</td><td>AUS</td><td>Australia</td><td>63.7073</td><td>http://linked.dat...</td></tr>\n",
       "<tr><td>12</td><td>101041018</td><td>Batemans Bay - South</td><td>0</td><td>No change</td><td>10104</td><td>South Coast</td><td>101</td><td>Capital Region</td><td>1RNSW</td><td>Rest of NSW</td><td>1</td><td>New South Wales</td><td>AUS</td><td>Australia</td><td>30.5948</td><td>http://linked.dat...</td></tr>\n",
       "<tr><td>13</td><td>101041019</td><td>Bega - Tathra</td><td>0</td><td>No change</td><td>10104</td><td>South Coast</td><td>101</td><td>Capital Region</td><td>1RNSW</td><td>Rest of NSW</td><td>1</td><td>New South Wales</td><td>AUS</td><td>Australia</td><td>183.8984</td><td>http://linked.dat...</td></tr>\n",
       "<tr><td>14</td><td>101041020</td><td>Bega-Eden Hinterland</td><td>0</td><td>No change</td><td>10104</td><td>South Coast</td><td>101</td><td>Capital Region</td><td>1RNSW</td><td>Rest of NSW</td><td>1</td><td>New South Wales</td><td>AUS</td><td>Australia</td><td>4709.8265</td><td>http://linked.dat...</td></tr>\n",
       "<tr><td>15</td><td>101041021</td><td>Broulee - Tomakin</td><td>0</td><td>No change</td><td>10104</td><td>South Coast</td><td>101</td><td>Capital Region</td><td>1RNSW</td><td>Rest of NSW</td><td>1</td><td>New South Wales</td><td>AUS</td><td>Australia</td><td>24.2329</td><td>http://linked.dat...</td></tr>\n",
       "<tr><td>16</td><td>101041022</td><td>Deua - Wadbilliga</td><td>0</td><td>No change</td><td>10104</td><td>South Coast</td><td>101</td><td>Capital Region</td><td>1RNSW</td><td>Rest of NSW</td><td>1</td><td>New South Wales</td><td>AUS</td><td>Australia</td><td>2781.9988</td><td>http://linked.dat...</td></tr>\n",
       "<tr><td>17</td><td>101041023</td><td>Eden</td><td>0</td><td>No change</td><td>10104</td><td>South Coast</td><td>101</td><td>Capital Region</td><td>1RNSW</td><td>Rest of NSW</td><td>1</td><td>New South Wales</td><td>AUS</td><td>Australia</td><td>94.8138</td><td>http://linked.dat...</td></tr>\n",
       "<tr><td>18</td><td>101041024</td><td>Eurobodalla Hinte...</td><td>0</td><td>No change</td><td>10104</td><td>South Coast</td><td>101</td><td>Capital Region</td><td>1RNSW</td><td>Rest of NSW</td><td>1</td><td>New South Wales</td><td>AUS</td><td>Australia</td><td>1460.0118</td><td>http://linked.dat...</td></tr>\n",
       "<tr><td>19</td><td>101041025</td><td>Merimbula - Tura ...</td><td>0</td><td>No change</td><td>10104</td><td>South Coast</td><td>101</td><td>Capital Region</td><td>1RNSW</td><td>Rest of NSW</td><td>1</td><td>New South Wales</td><td>AUS</td><td>Australia</td><td>97.3395</td><td>http://linked.dat...</td></tr>\n",
       "</table>\n",
       "only showing top 20 rows\n"
      ],
      "text/plain": [
       "+---+----------+--------------------+----------+-----------+----------+---------------+----------+--------------+----------+-----------+----------+---------------+----------+----------+----------+--------------------+\n",
       "|FID|SA2_CODE21|          SA2_NAME21|CHG_FLAG21|  CHG_LBL21|SA3_CODE21|     SA3_NAME21|SA4_CODE21|    SA4_NAME21|GCC_CODE21| GCC_NAME21|STE_CODE21|     STE_NAME21|AUS_CODE21|AUS_NAME21|AREASQKM21|          LOCI_URI21|\n",
       "+---+----------+--------------------+----------+-----------+----------+---------------+----------+--------------+----------+-----------+----------+---------------+----------+----------+----------+--------------------+\n",
       "|  0| 101021007|           Braidwood|         0|  No change|     10102|     Queanbeyan|       101|Capital Region|     1RNSW|Rest of NSW|         1|New South Wales|       AUS| Australia| 3418.3525|http://linked.dat...|\n",
       "|  1| 101021008|             Karabar|         0|  No change|     10102|     Queanbeyan|       101|Capital Region|     1RNSW|Rest of NSW|         1|New South Wales|       AUS| Australia|    6.9825|http://linked.dat...|\n",
       "|  2| 101021009|          Queanbeyan|         0|  No change|     10102|     Queanbeyan|       101|Capital Region|     1RNSW|Rest of NSW|         1|New South Wales|       AUS| Australia|     4.762|http://linked.dat...|\n",
       "|  3| 101021010|   Queanbeyan - East|         0|  No change|     10102|     Queanbeyan|       101|Capital Region|     1RNSW|Rest of NSW|         1|New South Wales|       AUS| Australia|   13.0032|http://linked.dat...|\n",
       "|  4| 101021012|Queanbeyan West -...|         0|  No change|     10102|     Queanbeyan|       101|Capital Region|     1RNSW|Rest of NSW|         1|New South Wales|       AUS| Australia|   13.6748|http://linked.dat...|\n",
       "|  5| 101021610|             Googong|         1|        New|     10102|     Queanbeyan|       101|Capital Region|     1RNSW|Rest of NSW|         1|New South Wales|       AUS| Australia|    6.9164|http://linked.dat...|\n",
       "|  6| 101021611|Queanbeyan Surrounds|         1|        New|     10102|     Queanbeyan|       101|Capital Region|     1RNSW|Rest of NSW|         1|New South Wales|       AUS| Australia| 3047.7057|http://linked.dat...|\n",
       "|  7| 101031013|             Bombala|         0|  No change|     10103|Snowy Mountains|       101|Capital Region|     1RNSW|Rest of NSW|         1|New South Wales|       AUS| Australia|  3990.144|http://linked.dat...|\n",
       "|  8| 101031014|               Cooma|         0|  No change|     10103|Snowy Mountains|       101|Capital Region|     1RNSW|Rest of NSW|         1|New South Wales|       AUS| Australia|  103.6371|http://linked.dat...|\n",
       "|  9| 101031015|     Cooma Surrounds|         3|Name change|     10103|Snowy Mountains|       101|Capital Region|     1RNSW|Rest of NSW|         1|New South Wales|       AUS| Australia| 6251.0158|http://linked.dat...|\n",
       "| 10| 101031016|Jindabyne - Berri...|         0|  No change|     10103|Snowy Mountains|       101|Capital Region|     1RNSW|Rest of NSW|         1|New South Wales|       AUS| Australia| 3939.7888|http://linked.dat...|\n",
       "| 11| 101041017|        Batemans Bay|         0|  No change|     10104|    South Coast|       101|Capital Region|     1RNSW|Rest of NSW|         1|New South Wales|       AUS| Australia|   63.7073|http://linked.dat...|\n",
       "| 12| 101041018|Batemans Bay - South|         0|  No change|     10104|    South Coast|       101|Capital Region|     1RNSW|Rest of NSW|         1|New South Wales|       AUS| Australia|   30.5948|http://linked.dat...|\n",
       "| 13| 101041019|       Bega - Tathra|         0|  No change|     10104|    South Coast|       101|Capital Region|     1RNSW|Rest of NSW|         1|New South Wales|       AUS| Australia|  183.8984|http://linked.dat...|\n",
       "| 14| 101041020|Bega-Eden Hinterland|         0|  No change|     10104|    South Coast|       101|Capital Region|     1RNSW|Rest of NSW|         1|New South Wales|       AUS| Australia| 4709.8265|http://linked.dat...|\n",
       "| 15| 101041021|   Broulee - Tomakin|         0|  No change|     10104|    South Coast|       101|Capital Region|     1RNSW|Rest of NSW|         1|New South Wales|       AUS| Australia|   24.2329|http://linked.dat...|\n",
       "| 16| 101041022|   Deua - Wadbilliga|         0|  No change|     10104|    South Coast|       101|Capital Region|     1RNSW|Rest of NSW|         1|New South Wales|       AUS| Australia| 2781.9988|http://linked.dat...|\n",
       "| 17| 101041023|                Eden|         0|  No change|     10104|    South Coast|       101|Capital Region|     1RNSW|Rest of NSW|         1|New South Wales|       AUS| Australia|   94.8138|http://linked.dat...|\n",
       "| 18| 101041024|Eurobodalla Hinte...|         0|  No change|     10104|    South Coast|       101|Capital Region|     1RNSW|Rest of NSW|         1|New South Wales|       AUS| Australia| 1460.0118|http://linked.dat...|\n",
       "| 19| 101041025|Merimbula - Tura ...|         0|  No change|     10104|    South Coast|       101|Capital Region|     1RNSW|Rest of NSW|         1|New South Wales|       AUS| Australia|   97.3395|http://linked.dat...|\n",
       "+---+----------+--------------------+----------+-----------+----------+---------------+----------+--------------+----------+-----------+----------+---------------+----------+----------+----------+--------------------+\n",
       "only showing top 20 rows"
      ]
     },
     "execution_count": 24,
     "metadata": {},
     "output_type": "execute_result"
    }
   ],
   "source": [
    "SA2_2021_shapefile= spark.read.option(\"header\",True).csv('../data/outer/2021sa2_shapefile/SA2_2021_AUST_GDA2020.csv') #read the parquet \n",
    "SA2_2021_shapefile = SA2_2021_shapefile.na.drop()\n",
    "SA2_2021_shapefile"
   ]
  },
  {
   "cell_type": "code",
   "execution_count": 25,
   "id": "368d62a4",
   "metadata": {},
   "outputs": [
    {
     "name": "stdout",
     "output_type": "stream",
     "text": [
      "complete\n"
     ]
    }
   ],
   "source": [
    "url = \"https://www.abs.gov.au/statistics/standards/australian-statistical-geography-standard-asgs-edition-3/jul2021-jun2026/access-and-downloads/correspondences/CG_SA2_2016_SA2_2021.csv\"\n",
    "output_dir = \"../data/outer/correspondences.csv\"\n",
    "# download\n",
    "urlretrieve(url, output_dir) \n",
    "print(\"complete\")"
   ]
  },
  {
   "cell_type": "code",
   "execution_count": 28,
   "id": "f2b15f51",
   "metadata": {},
   "outputs": [
    {
     "data": {
      "text/html": [
       "<table border='1'>\n",
       "<tr><th>SA2_MAINCODE_2016</th><th>SA2_NAME_2016</th><th>SA2_CODE_2021</th><th>SA2_NAME_2021</th><th>RATIO_FROM_TO</th><th>INDIV_TO_REGION_QLTY_INDICATOR</th><th>OVERALL_QUALITY_INDICATOR</th><th>BMOS_NULL_FLAG</th></tr>\n",
       "<tr><td>101021007</td><td>Braidwood</td><td>101021007</td><td>Braidwood</td><td>1</td><td>Good</td><td>Good</td><td>0</td></tr>\n",
       "<tr><td>101021008</td><td>Karabar</td><td>101021008</td><td>Karabar</td><td>1</td><td>Good</td><td>Good</td><td>0</td></tr>\n",
       "<tr><td>101021009</td><td>Queanbeyan</td><td>101021009</td><td>Queanbeyan</td><td>1</td><td>Good</td><td>Good</td><td>0</td></tr>\n",
       "<tr><td>101021010</td><td>Queanbeyan - East</td><td>101021010</td><td>Queanbeyan - East</td><td>1</td><td>Good</td><td>Good</td><td>0</td></tr>\n",
       "<tr><td>101021011</td><td>Queanbeyan Region</td><td>101021610</td><td>Googong</td><td>0.0967097</td><td>Poor</td><td>Good</td><td>0</td></tr>\n",
       "<tr><td>101021011</td><td>Queanbeyan Region</td><td>101021611</td><td>Queanbeyan Surrounds</td><td>0.9032903</td><td>Good</td><td>Good</td><td>0</td></tr>\n",
       "<tr><td>101021012</td><td>Queanbeyan West -...</td><td>101021012</td><td>Queanbeyan West -...</td><td>1</td><td>Good</td><td>Good</td><td>0</td></tr>\n",
       "<tr><td>101031013</td><td>Bombala</td><td>101031013</td><td>Bombala</td><td>1</td><td>Good</td><td>Good</td><td>0</td></tr>\n",
       "<tr><td>101031014</td><td>Cooma</td><td>101031014</td><td>Cooma</td><td>1</td><td>Good</td><td>Good</td><td>0</td></tr>\n",
       "<tr><td>101031015</td><td>Cooma Region</td><td>101031015</td><td>Cooma Surrounds</td><td>1</td><td>Good</td><td>Good</td><td>0</td></tr>\n",
       "<tr><td>101031016</td><td>Jindabyne - Berri...</td><td>101031016</td><td>Jindabyne - Berri...</td><td>1</td><td>Good</td><td>Good</td><td>0</td></tr>\n",
       "<tr><td>101041017</td><td>Batemans Bay</td><td>101041017</td><td>Batemans Bay</td><td>1</td><td>Good</td><td>Good</td><td>0</td></tr>\n",
       "<tr><td>101041018</td><td>Batemans Bay - South</td><td>101041018</td><td>Batemans Bay - South</td><td>1</td><td>Good</td><td>Good</td><td>0</td></tr>\n",
       "<tr><td>101041019</td><td>Bega - Tathra</td><td>101041019</td><td>Bega - Tathra</td><td>1</td><td>Good</td><td>Good</td><td>0</td></tr>\n",
       "<tr><td>101041020</td><td>Bega-Eden Hinterland</td><td>101041020</td><td>Bega-Eden Hinterland</td><td>1</td><td>Good</td><td>Good</td><td>0</td></tr>\n",
       "<tr><td>101041021</td><td>Broulee - Tomakin</td><td>101041021</td><td>Broulee - Tomakin</td><td>1</td><td>Good</td><td>Good</td><td>0</td></tr>\n",
       "<tr><td>101041022</td><td>Deua - Wadbilliga</td><td>101041022</td><td>Deua - Wadbilliga</td><td>1</td><td>Good</td><td>Good</td><td>0</td></tr>\n",
       "<tr><td>101041023</td><td>Eden</td><td>101041023</td><td>Eden</td><td>1</td><td>Good</td><td>Good</td><td>0</td></tr>\n",
       "<tr><td>101041024</td><td>Eurobodalla Hinte...</td><td>101041024</td><td>Eurobodalla Hinte...</td><td>1</td><td>Good</td><td>Good</td><td>0</td></tr>\n",
       "<tr><td>101041025</td><td>Merimbula - Tura ...</td><td>101041025</td><td>Merimbula - Tura ...</td><td>1</td><td>Good</td><td>Good</td><td>0</td></tr>\n",
       "</table>\n",
       "only showing top 20 rows\n"
      ],
      "text/plain": [
       "+-----------------+--------------------+-------------+--------------------+-------------+------------------------------+-------------------------+--------------+\n",
       "|SA2_MAINCODE_2016|       SA2_NAME_2016|SA2_CODE_2021|       SA2_NAME_2021|RATIO_FROM_TO|INDIV_TO_REGION_QLTY_INDICATOR|OVERALL_QUALITY_INDICATOR|BMOS_NULL_FLAG|\n",
       "+-----------------+--------------------+-------------+--------------------+-------------+------------------------------+-------------------------+--------------+\n",
       "|        101021007|           Braidwood|    101021007|           Braidwood|            1|                          Good|                     Good|             0|\n",
       "|        101021008|             Karabar|    101021008|             Karabar|            1|                          Good|                     Good|             0|\n",
       "|        101021009|          Queanbeyan|    101021009|          Queanbeyan|            1|                          Good|                     Good|             0|\n",
       "|        101021010|   Queanbeyan - East|    101021010|   Queanbeyan - East|            1|                          Good|                     Good|             0|\n",
       "|        101021011|   Queanbeyan Region|    101021610|             Googong|    0.0967097|                          Poor|                     Good|             0|\n",
       "|        101021011|   Queanbeyan Region|    101021611|Queanbeyan Surrounds|    0.9032903|                          Good|                     Good|             0|\n",
       "|        101021012|Queanbeyan West -...|    101021012|Queanbeyan West -...|            1|                          Good|                     Good|             0|\n",
       "|        101031013|             Bombala|    101031013|             Bombala|            1|                          Good|                     Good|             0|\n",
       "|        101031014|               Cooma|    101031014|               Cooma|            1|                          Good|                     Good|             0|\n",
       "|        101031015|        Cooma Region|    101031015|     Cooma Surrounds|            1|                          Good|                     Good|             0|\n",
       "|        101031016|Jindabyne - Berri...|    101031016|Jindabyne - Berri...|            1|                          Good|                     Good|             0|\n",
       "|        101041017|        Batemans Bay|    101041017|        Batemans Bay|            1|                          Good|                     Good|             0|\n",
       "|        101041018|Batemans Bay - South|    101041018|Batemans Bay - South|            1|                          Good|                     Good|             0|\n",
       "|        101041019|       Bega - Tathra|    101041019|       Bega - Tathra|            1|                          Good|                     Good|             0|\n",
       "|        101041020|Bega-Eden Hinterland|    101041020|Bega-Eden Hinterland|            1|                          Good|                     Good|             0|\n",
       "|        101041021|   Broulee - Tomakin|    101041021|   Broulee - Tomakin|            1|                          Good|                     Good|             0|\n",
       "|        101041022|   Deua - Wadbilliga|    101041022|   Deua - Wadbilliga|            1|                          Good|                     Good|             0|\n",
       "|        101041023|                Eden|    101041023|                Eden|            1|                          Good|                     Good|             0|\n",
       "|        101041024|Eurobodalla Hinte...|    101041024|Eurobodalla Hinte...|            1|                          Good|                     Good|             0|\n",
       "|        101041025|Merimbula - Tura ...|    101041025|Merimbula - Tura ...|            1|                          Good|                     Good|             0|\n",
       "+-----------------+--------------------+-------------+--------------------+-------------+------------------------------+-------------------------+--------------+\n",
       "only showing top 20 rows"
      ]
     },
     "execution_count": 28,
     "metadata": {},
     "output_type": "execute_result"
    }
   ],
   "source": [
    "correspondences= spark.read.option(\"header\",True).csv('../data/outer/correspondences.csv') #read the parquet \n",
    "correspondences = correspondences.na.drop()\n",
    "correspondences"
   ]
  }
 ],
 "metadata": {
  "kernelspec": {
   "display_name": "Python 3.8.13 ('ads')",
   "language": "python",
   "name": "python3"
  },
  "language_info": {
   "codemirror_mode": {
    "name": "ipython",
    "version": 3
   },
   "file_extension": ".py",
   "mimetype": "text/x-python",
   "name": "python",
   "nbconvert_exporter": "python",
   "pygments_lexer": "ipython3",
   "version": "3.8.13"
  },
  "vscode": {
   "interpreter": {
    "hash": "6e45bdfcba1031802b2f7a315f02d536e51553942a60e4ee4be74aec82814bfa"
   }
  }
 },
 "nbformat": 4,
 "nbformat_minor": 5
}
