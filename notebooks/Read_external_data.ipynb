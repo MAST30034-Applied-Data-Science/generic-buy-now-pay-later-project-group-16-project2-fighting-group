{
 "cells": [
  {
   "cell_type": "code",
   "execution_count": 58,
   "id": "4ee2f758-860f-4f97-89dd-24167d16081b",
   "metadata": {},
   "outputs": [],
   "source": [
    "import os\n",
    "import numpy as np\n",
    "import pandas as pd\n",
    "import zipfile\n",
    "import pandas as pd\n",
    "import geopandas as gpd\n",
    "from dbfread import DBF\n",
    "from urllib.request import urlretrieve\n",
    "from urllib.error import HTTPError"
   ]
  },
  {
   "cell_type": "code",
   "execution_count": 1,
   "id": "62f8ed27",
   "metadata": {},
   "outputs": [],
   "source": [
    "#Go back one level from notebook to data \n",
    "output_relative_dir = '../data/'\n",
    "\n",
    "if not os.path.exists(output_relative_dir):\n",
    "    os.makedirs(output_relative_dir)\n",
    "    \n",
    "for target_dir in ('curated','outer'):\n",
    "    if not os.path.exists(output_relative_dir + target_dir):\n",
    "        os.makedirs(output_relative_dir + target_dir)"
   ]
  },
  {
   "cell_type": "markdown",
   "id": "50142b46-ba2c-4b18-ad27-154b22342e9e",
   "metadata": {},
   "source": [
    "### Download census data"
   ]
  },
  {
   "cell_type": "code",
   "execution_count": 2,
   "id": "ce0340c5",
   "metadata": {},
   "outputs": [
    {
     "name": "stdout",
     "output_type": "stream",
     "text": [
      "complete\n"
     ]
    }
   ],
   "source": [
    "url = \"https://www.abs.gov.au/census/find-census-data/datapacks/download/2021_GCP_SA2_for_AUS_short-header.zip\"#year-month.parquet\n",
    "output_dir = \"../data/outer/census.zip\"\n",
    "# download\n",
    "urlretrieve(url, output_dir) \n",
    "print(\"complete\")"
   ]
  },
  {
   "cell_type": "code",
   "execution_count": 3,
   "id": "e098cb87",
   "metadata": {},
   "outputs": [],
   "source": [
    "files = zipfile.ZipFile('../data/outer/census.zip','r')\n",
    "\n",
    "for file in files.namelist():\n",
    "    files.extract(file, f\"../data/outer/census\")"
   ]
  },
  {
   "cell_type": "code",
   "execution_count": null,
   "id": "33a4c2e6-45d2-4763-afb3-3e1a39e591dd",
   "metadata": {},
   "outputs": [],
   "source": []
  },
  {
   "cell_type": "code",
   "execution_count": 4,
   "id": "5da580d7",
   "metadata": {},
   "outputs": [
    {
     "name": "stderr",
     "output_type": "stream",
     "text": [
      "22/09/07 23:13:50 WARN NativeCodeLoader: Unable to load native-hadoop library for your platform... using builtin-java classes where applicable\n",
      "Using Spark's default log4j profile: org/apache/spark/log4j-defaults.properties\n",
      "Setting default log level to \"WARN\".\n",
      "To adjust logging level use sc.setLogLevel(newLevel). For SparkR, use setLogLevel(newLevel).\n"
     ]
    }
   ],
   "source": [
    "from pyspark.sql import SparkSession\n",
    "from pyspark.sql import functions as F\n",
    "# Create a spark session (which will run spark jobs)\n",
    "spark = (\n",
    "    SparkSession.builder.appName(\"MAST30034 Tutorial 1\")\n",
    "    .config(\"spark.sql.repl.eagerEval.enabled\", True) \n",
    "    .config(\"spark.sql.parquet.cacheMetadata\", \"true\")\n",
    "    .config(\"spark.sql.session.timeZone\", \"Etc/UTC\")\n",
    "    .getOrCreate()\n",
    ")"
   ]
  },
  {
   "cell_type": "code",
   "execution_count": 88,
   "id": "dc2ef49a",
   "metadata": {},
   "outputs": [],
   "source": [
    "types = [\"A\", \"B\"]\n",
    "for type in types:\n",
    "    G04= spark.read.option(\"header\",True).csv(f'../data/outer/census/2021 Census GCP Statistical Area 2 for AUS/2021Census_G04{type}_AUST_SA2.csv') #read the parquet \n",
    "    G04 = G04.na.drop(subset=G04.columns)\n",
    "    G04.write.parquet(f\"../data/curated/census_data_2021_04{type}.parquet\")\n"
   ]
  },
  {
   "cell_type": "code",
   "execution_count": 92,
   "id": "bd4d074c-b318-47d2-90b2-7c6d997e0fde",
   "metadata": {},
   "outputs": [
    {
     "ename": "TypeError",
     "evalue": "'str' object is not callable",
     "output_type": "error",
     "traceback": [
      "\u001b[0;31m---------------------------------------------------------------------------\u001b[0m",
      "\u001b[0;31mTypeError\u001b[0m                                 Traceback (most recent call last)",
      "\u001b[0;32m/var/folders/_r/5qlbmxqj2yscq5d1p31h95m80000gn/T/ipykernel_55661/1206215559.py\u001b[0m in \u001b[0;36m<module>\u001b[0;34m\u001b[0m\n\u001b[1;32m      3\u001b[0m     \u001b[0mG17\u001b[0m\u001b[0;34m=\u001b[0m \u001b[0mspark\u001b[0m\u001b[0;34m.\u001b[0m\u001b[0mread\u001b[0m\u001b[0;34m.\u001b[0m\u001b[0moption\u001b[0m\u001b[0;34m(\u001b[0m\u001b[0;34m\"header\"\u001b[0m\u001b[0;34m,\u001b[0m\u001b[0;32mTrue\u001b[0m\u001b[0;34m)\u001b[0m\u001b[0;34m.\u001b[0m\u001b[0mcsv\u001b[0m\u001b[0;34m(\u001b[0m\u001b[0;34mf'../data/outer/census/2021 Census GCP Statistical Area 2 for AUS/2021Census_G17{type}_AUST_SA2.csv'\u001b[0m\u001b[0;34m)\u001b[0m \u001b[0;31m#read the parquet\u001b[0m\u001b[0;34m\u001b[0m\u001b[0;34m\u001b[0m\u001b[0m\n\u001b[1;32m      4\u001b[0m     \u001b[0mG17\u001b[0m \u001b[0;34m=\u001b[0m \u001b[0mG17\u001b[0m\u001b[0;34m.\u001b[0m\u001b[0mna\u001b[0m\u001b[0;34m.\u001b[0m\u001b[0mdrop\u001b[0m\u001b[0;34m(\u001b[0m\u001b[0msubset\u001b[0m\u001b[0;34m=\u001b[0m\u001b[0mG17\u001b[0m\u001b[0;34m.\u001b[0m\u001b[0mcolumns\u001b[0m\u001b[0;34m)\u001b[0m\u001b[0;34m\u001b[0m\u001b[0;34m\u001b[0m\u001b[0m\n\u001b[0;32m----> 5\u001b[0;31m     \u001b[0mprint\u001b[0m\u001b[0;34m(\u001b[0m\u001b[0mtype\u001b[0m\u001b[0;34m(\u001b[0m\u001b[0mG17\u001b[0m\u001b[0;34m)\u001b[0m\u001b[0;34m)\u001b[0m\u001b[0;34m\u001b[0m\u001b[0;34m\u001b[0m\u001b[0m\n\u001b[0m\u001b[1;32m      6\u001b[0m     \u001b[0mG17\u001b[0m\u001b[0;34m.\u001b[0m\u001b[0mwrite\u001b[0m\u001b[0;34m.\u001b[0m\u001b[0mmode\u001b[0m\u001b[0;34m(\u001b[0m\u001b[0;34m\"overwrite\"\u001b[0m\u001b[0;34m)\u001b[0m\u001b[0;34m.\u001b[0m\u001b[0mparquet\u001b[0m\u001b[0;34m(\u001b[0m\u001b[0;34mf\"../data/curated/census_data_2021_17{type}.parquet\"\u001b[0m\u001b[0;34m)\u001b[0m\u001b[0;34m\u001b[0m\u001b[0;34m\u001b[0m\u001b[0m\n",
      "\u001b[0;31mTypeError\u001b[0m: 'str' object is not callable"
     ]
    }
   ],
   "source": [
    "types = [\"A\", \"B\", \"C\"]\n",
    "for type in types:\n",
    "    G17= spark.read.option(\"header\",True).csv(f'../data/outer/census/2021 Census GCP Statistical Area 2 for AUS/2021Census_G17{type}_AUST_SA2.csv') #read the parquet \n",
    "    G17 = G17.na.drop(subset=G17.columns)\n",
    "\n",
    "    G17.write.mode(\"overwrite\").parquet(f\"../data/curated/census_data_2021_17{type}.parquet\")"
   ]
  },
  {
   "cell_type": "code",
   "execution_count": 6,
   "id": "0973831e",
   "metadata": {},
   "outputs": [
    {
     "name": "stdout",
     "output_type": "stream",
     "text": [
      "complete\n"
     ]
    }
   ],
   "source": [
    "url = \"http://github.com/matthewproctor/australianpostcodes/zipball/master\"#year-month.parquet\n",
    "output_dir = \"../data/outer/total_pto2.zip\"\n",
    "# download\n",
    "urlretrieve(url, output_dir) \n",
    "print(\"complete\")\n"
   ]
  },
  {
   "cell_type": "code",
   "execution_count": 7,
   "id": "da09bc21",
   "metadata": {},
   "outputs": [],
   "source": [
    "files = zipfile.ZipFile('../data/outer/total_pto2.zip','r')\n",
    "for file in files.namelist():\n",
    "    files.extract(file, f\"../data/outer/total_pto2\")"
   ]
  },
  {
   "cell_type": "markdown",
   "id": "607fedb4-d49f-484c-9a0b-8a53203f5c8f",
   "metadata": {},
   "source": [
    "### Download postcode and SA2 data"
   ]
  },
  {
   "cell_type": "code",
   "execution_count": 82,
   "id": "cc2855ee",
   "metadata": {},
   "outputs": [
    {
     "name": "stdout",
     "output_type": "stream",
     "text": [
      "[('id', 'string'), ('postcode', 'string'), ('locality', 'string'), ('state', 'string'), ('long', 'string'), ('lat', 'string'), ('dc', 'string'), ('type', 'string'), ('status', 'string'), ('sa3', 'string'), ('sa3name', 'string'), ('sa4', 'string'), ('sa4name', 'string'), ('region', 'string'), ('Lat_precise', 'string'), ('Long_precise', 'string'), ('SA1_MAINCODE_2011', 'string'), ('SA1_MAINCODE_2016', 'string'), ('SA2_MAINCODE_2016', 'string'), ('SA2_NAME_2016', 'string'), ('SA3_CODE_2016', 'string'), ('SA3_NAME_2016', 'string'), ('SA4_CODE_2016', 'string'), ('SA4_NAME_2016', 'string'), ('RA_2011', 'string'), ('RA_2016', 'string'), ('MMM_2015', 'string'), ('MMM_2019', 'string'), ('ced', 'string'), ('altitude', 'string'), ('chargezone', 'string'), ('phn_code', 'string'), ('phn_name', 'string'), ('lgaregion', 'string'), ('electorate', 'string'), ('electoraterating', 'string')]\n",
      "177\n"
     ]
    },
    {
     "name": "stderr",
     "output_type": "stream",
     "text": [
      "                                                                                \r"
     ]
    }
   ],
   "source": [
    "post_sa2= spark.read.option(\"header\",True).csv('../data/outer/total_pto2/matthewproctor-australianpostcodes-6f8a994/australian_postcodes.csv') \n",
    "print(post_sa2.dtypes)\n",
    "post_sa2 = post_sa2.select(\"id\", \"postcode\", \"Lat_precise\", \"Long_precise\", \"SA2_MAINCODE_2016\")\n",
    "print(post_sa2.count() - post_sa2.na.drop().count())\n",
    "post_sa2 = post_sa2.na.drop()\n",
    "#177 rows with nulls dropped\n",
    "\n",
    "#get the average latitude and longitude of the postcode if it have duplicates\n",
    "post_sa2 = post_sa2\\\n",
    "    .withColumn(\"Lat_double\", post_sa2[\"Lat_precise\"].cast(\"double\"))\\\n",
    "    .withColumn(\"Long_double\", post_sa2[\"Long_precise\"].cast(\"double\"))\n",
    "post_sa2 = post_sa2\\\n",
    "    .groupBy(\"postcode\", \"SA2_MAINCODE_2016\")\\\n",
    "    .agg(F.avg(\"Lat_double\").alias(\"avg_lat\"), F.avg(\"Long_double\").alias(\"avg_long\"))\n",
    "\n",
    "post_sa2.write.parquet(\"../data/curated/postcode_SA2.parquet\")"
   ]
  },
  {
   "cell_type": "markdown",
   "id": "efd2bfe1-96a0-48bf-bb35-aa9a3f929e41",
   "metadata": {},
   "source": [
    "### Download SA2 2021 information"
   ]
  },
  {
   "cell_type": "code",
   "execution_count": 9,
   "id": "aa60ad1f",
   "metadata": {},
   "outputs": [
    {
     "name": "stdout",
     "output_type": "stream",
     "text": [
      "complete\n"
     ]
    }
   ],
   "source": [
    "url = \"https://www.abs.gov.au/statistics/standards/australian-statistical-geography-standard-asgs-edition-3/jul2021-jun2026/access-and-downloads/digital-boundary-files/SA2_2021_AUST_SHP_GDA2020.zip\" \n",
    "#year-month.parquet\n",
    "output_dir = \"../data/outer/2021sa2_shapefile.zip\"\n",
    "# download\n",
    "urlretrieve(url, output_dir) \n",
    "print(\"complete\")"
   ]
  },
  {
   "cell_type": "code",
   "execution_count": 10,
   "id": "acf29ca9",
   "metadata": {},
   "outputs": [],
   "source": [
    "files = zipfile.ZipFile('../data/outer/2021sa2_shapefile.zip','r')\n",
    "for file in files.namelist():\n",
    "    files.extract(file, f\"../data/outer/2021sa2_shapefile\")"
   ]
  },
  {
   "cell_type": "markdown",
   "id": "6eb33f0b-4040-4f05-bca6-f32ade4d79e2",
   "metadata": {},
   "source": [
    "### Download shapefile for each SA2 region\n",
    "### !!!WARNING!!! THIS CODE IS GOING TO TAKE 30 MINUTES"
   ]
  },
  {
   "cell_type": "code",
   "execution_count": 70,
   "id": "405d8b35",
   "metadata": {},
   "outputs": [],
   "source": [
    "path = r'../data/outer/2021sa2_shapefile/SA2_2021_AUST_GDA2020.dbf' # 文件目录\n",
    "table = DBF(path)\n",
    "geojson_option = \"?_profile=oai&_mediatype=application/geo+json\"\n",
    "sa2_2021_temp = pd.DataFrame(iter(table))\n",
    "\n",
    "shapes_list = []\n",
    "for row in range(len(sa2_2021_temp)):\n",
    "    url = sa2_2021_temp.iat[row,-1]\n",
    "    try:\n",
    "        shape = str(gpd.read_file(url + geojson_option).iat[0,-1])\n",
    "    except HTTPError:\n",
    "        shape = \"\"\n",
    "    shapes_list.append(shape)\n",
    "\n",
    "sa2_2021_temp[\"geometry\"] = shapes_list\n"
   ]
  },
  {
   "cell_type": "code",
   "execution_count": 79,
   "id": "fc4df311-55d0-4b69-a8db-3ed1eea91a2c",
   "metadata": {},
   "outputs": [],
   "source": [
    "sa2_2021_selected = sa2_2021_temp[[\"SA2_CODE21\", \"SA2_NAME21\", \"geometry\"]]\n",
    "sa2_2021_selected.to_parquet(\"../data/curated/SA2_2021_AUST_GDA2020.parquet\")"
   ]
  },
  {
   "cell_type": "code",
   "execution_count": 62,
   "id": "9e75fd20-c249-4d2e-9eb5-48e74bb8d084",
   "metadata": {},
   "outputs": [
    {
     "data": {
      "text/html": [
       "<div>\n",
       "<style scoped>\n",
       "    .dataframe tbody tr th:only-of-type {\n",
       "        vertical-align: middle;\n",
       "    }\n",
       "\n",
       "    .dataframe tbody tr th {\n",
       "        vertical-align: top;\n",
       "    }\n",
       "\n",
       "    .dataframe thead th {\n",
       "        text-align: right;\n",
       "    }\n",
       "</style>\n",
       "<table border=\"1\" class=\"dataframe\">\n",
       "  <thead>\n",
       "    <tr style=\"text-align: right;\">\n",
       "      <th></th>\n",
       "      <th>SA2_CODE21</th>\n",
       "      <th>SA2_NAME21</th>\n",
       "      <th>CHG_FLAG21</th>\n",
       "      <th>CHG_LBL21</th>\n",
       "      <th>SA3_CODE21</th>\n",
       "      <th>SA3_NAME21</th>\n",
       "      <th>SA4_CODE21</th>\n",
       "      <th>SA4_NAME21</th>\n",
       "      <th>GCC_CODE21</th>\n",
       "      <th>GCC_NAME21</th>\n",
       "      <th>STE_CODE21</th>\n",
       "      <th>STE_NAME21</th>\n",
       "      <th>AUS_CODE21</th>\n",
       "      <th>AUS_NAME21</th>\n",
       "      <th>AREASQKM21</th>\n",
       "      <th>LOCI_URI21</th>\n",
       "      <th>geometry</th>\n",
       "    </tr>\n",
       "  </thead>\n",
       "  <tbody>\n",
       "    <tr>\n",
       "      <th>0</th>\n",
       "      <td>101021007</td>\n",
       "      <td>Braidwood</td>\n",
       "      <td>0</td>\n",
       "      <td>No change</td>\n",
       "      <td>10102</td>\n",
       "      <td>Queanbeyan</td>\n",
       "      <td>101</td>\n",
       "      <td>Capital Region</td>\n",
       "      <td>1RNSW</td>\n",
       "      <td>Rest of NSW</td>\n",
       "      <td>1</td>\n",
       "      <td>New South Wales</td>\n",
       "      <td>AUS</td>\n",
       "      <td>Australia</td>\n",
       "      <td>3418.3525</td>\n",
       "      <td>http://linked.data.gov.au/dataset/asgsed3/SA2/...</td>\n",
       "      <td>POLYGON ((149.5842384630081 -35.4442571811303,...</td>\n",
       "    </tr>\n",
       "    <tr>\n",
       "      <th>1</th>\n",
       "      <td>101021008</td>\n",
       "      <td>Karabar</td>\n",
       "      <td>0</td>\n",
       "      <td>No change</td>\n",
       "      <td>10102</td>\n",
       "      <td>Queanbeyan</td>\n",
       "      <td>101</td>\n",
       "      <td>Capital Region</td>\n",
       "      <td>1RNSW</td>\n",
       "      <td>Rest of NSW</td>\n",
       "      <td>1</td>\n",
       "      <td>New South Wales</td>\n",
       "      <td>AUS</td>\n",
       "      <td>Australia</td>\n",
       "      <td>6.9825</td>\n",
       "      <td>http://linked.data.gov.au/dataset/asgsed3/SA2/...</td>\n",
       "      <td>POLYGON ((149.2189874391411 -35.36738117911253...</td>\n",
       "    </tr>\n",
       "    <tr>\n",
       "      <th>2</th>\n",
       "      <td>101021009</td>\n",
       "      <td>Queanbeyan</td>\n",
       "      <td>0</td>\n",
       "      <td>No change</td>\n",
       "      <td>10102</td>\n",
       "      <td>Queanbeyan</td>\n",
       "      <td>101</td>\n",
       "      <td>Capital Region</td>\n",
       "      <td>1RNSW</td>\n",
       "      <td>Rest of NSW</td>\n",
       "      <td>1</td>\n",
       "      <td>New South Wales</td>\n",
       "      <td>AUS</td>\n",
       "      <td>Australia</td>\n",
       "      <td>4.7620</td>\n",
       "      <td>http://linked.data.gov.au/dataset/asgsed3/SA2/...</td>\n",
       "      <td>POLYGON ((149.2132649330965 -35.34324521846067...</td>\n",
       "    </tr>\n",
       "    <tr>\n",
       "      <th>3</th>\n",
       "      <td>101021010</td>\n",
       "      <td>Queanbeyan - East</td>\n",
       "      <td>0</td>\n",
       "      <td>No change</td>\n",
       "      <td>10102</td>\n",
       "      <td>Queanbeyan</td>\n",
       "      <td>101</td>\n",
       "      <td>Capital Region</td>\n",
       "      <td>1RNSW</td>\n",
       "      <td>Rest of NSW</td>\n",
       "      <td>1</td>\n",
       "      <td>New South Wales</td>\n",
       "      <td>AUS</td>\n",
       "      <td>Australia</td>\n",
       "      <td>13.0032</td>\n",
       "      <td>http://linked.data.gov.au/dataset/asgsed3/SA2/...</td>\n",
       "      <td>POLYGON ((149.2403376383506 -35.34780977080727...</td>\n",
       "    </tr>\n",
       "    <tr>\n",
       "      <th>4</th>\n",
       "      <td>101021012</td>\n",
       "      <td>Queanbeyan West - Jerrabomberra</td>\n",
       "      <td>0</td>\n",
       "      <td>No change</td>\n",
       "      <td>10102</td>\n",
       "      <td>Queanbeyan</td>\n",
       "      <td>101</td>\n",
       "      <td>Capital Region</td>\n",
       "      <td>1RNSW</td>\n",
       "      <td>Rest of NSW</td>\n",
       "      <td>1</td>\n",
       "      <td>New South Wales</td>\n",
       "      <td>AUS</td>\n",
       "      <td>Australia</td>\n",
       "      <td>13.6748</td>\n",
       "      <td>http://linked.data.gov.au/dataset/asgsed3/SA2/...</td>\n",
       "      <td>POLYGON ((149.1957232435019 -35.36126247708308...</td>\n",
       "    </tr>\n",
       "    <tr>\n",
       "      <th>...</th>\n",
       "      <td>...</td>\n",
       "      <td>...</td>\n",
       "      <td>...</td>\n",
       "      <td>...</td>\n",
       "      <td>...</td>\n",
       "      <td>...</td>\n",
       "      <td>...</td>\n",
       "      <td>...</td>\n",
       "      <td>...</td>\n",
       "      <td>...</td>\n",
       "      <td>...</td>\n",
       "      <td>...</td>\n",
       "      <td>...</td>\n",
       "      <td>...</td>\n",
       "      <td>...</td>\n",
       "      <td>...</td>\n",
       "      <td>...</td>\n",
       "    </tr>\n",
       "    <tr>\n",
       "      <th>2468</th>\n",
       "      <td>901031003</td>\n",
       "      <td>Jervis Bay</td>\n",
       "      <td>0</td>\n",
       "      <td>No change</td>\n",
       "      <td>90103</td>\n",
       "      <td>Jervis Bay</td>\n",
       "      <td>901</td>\n",
       "      <td>Other Territories</td>\n",
       "      <td>9OTER</td>\n",
       "      <td>Other Territories</td>\n",
       "      <td>9</td>\n",
       "      <td>Other Territories</td>\n",
       "      <td>AUS</td>\n",
       "      <td>Australia</td>\n",
       "      <td>67.2296</td>\n",
       "      <td>http://linked.data.gov.au/dataset/asgsed3/SA2/...</td>\n",
       "      <td>(POLYGON ((150.6956683280878 -35.1829542884842...</td>\n",
       "    </tr>\n",
       "    <tr>\n",
       "      <th>2469</th>\n",
       "      <td>901041004</td>\n",
       "      <td>Norfolk Island</td>\n",
       "      <td>0</td>\n",
       "      <td>No change</td>\n",
       "      <td>90104</td>\n",
       "      <td>Norfolk Island</td>\n",
       "      <td>901</td>\n",
       "      <td>Other Territories</td>\n",
       "      <td>9OTER</td>\n",
       "      <td>Other Territories</td>\n",
       "      <td>9</td>\n",
       "      <td>Other Territories</td>\n",
       "      <td>AUS</td>\n",
       "      <td>Australia</td>\n",
       "      <td>38.6510</td>\n",
       "      <td>http://linked.data.gov.au/dataset/asgsed3/SA2/...</td>\n",
       "      <td>(POLYGON ((167.9632532375536 -29.0721173752821...</td>\n",
       "    </tr>\n",
       "    <tr>\n",
       "      <th>2470</th>\n",
       "      <td>997979799</td>\n",
       "      <td>Migratory - Offshore - Shipping (OT)</td>\n",
       "      <td>0</td>\n",
       "      <td>No change</td>\n",
       "      <td>99797</td>\n",
       "      <td>Migratory - Offshore - Shipping (OT)</td>\n",
       "      <td>997</td>\n",
       "      <td>Migratory - Offshore - Shipping (OT)</td>\n",
       "      <td>99799</td>\n",
       "      <td>Migratory - Offshore - Shipping (OT)</td>\n",
       "      <td>9</td>\n",
       "      <td>Other Territories</td>\n",
       "      <td>AUS</td>\n",
       "      <td>Australia</td>\n",
       "      <td>NaN</td>\n",
       "      <td>http://linked.data.gov.au/dataset/asgsed3/SA2/...</td>\n",
       "      <td></td>\n",
       "    </tr>\n",
       "    <tr>\n",
       "      <th>2471</th>\n",
       "      <td>999999499</td>\n",
       "      <td>No usual address (OT)</td>\n",
       "      <td>0</td>\n",
       "      <td>No change</td>\n",
       "      <td>99999</td>\n",
       "      <td>No usual address (OT)</td>\n",
       "      <td>999</td>\n",
       "      <td>No usual address (OT)</td>\n",
       "      <td>99499</td>\n",
       "      <td>No usual address (OT)</td>\n",
       "      <td>9</td>\n",
       "      <td>Other Territories</td>\n",
       "      <td>AUS</td>\n",
       "      <td>Australia</td>\n",
       "      <td>NaN</td>\n",
       "      <td>http://linked.data.gov.au/dataset/asgsed3/SA2/...</td>\n",
       "      <td></td>\n",
       "    </tr>\n",
       "    <tr>\n",
       "      <th>2472</th>\n",
       "      <td>ZZZZZZZZZ</td>\n",
       "      <td>Outside Australia</td>\n",
       "      <td>1</td>\n",
       "      <td>New</td>\n",
       "      <td>ZZZZZ</td>\n",
       "      <td>Outside Australia</td>\n",
       "      <td>ZZZ</td>\n",
       "      <td>Outside Australia</td>\n",
       "      <td>ZZZZZ</td>\n",
       "      <td>Outside Australia</td>\n",
       "      <td>Z</td>\n",
       "      <td>Outside Australia</td>\n",
       "      <td>ZZZ</td>\n",
       "      <td>Outside Australia</td>\n",
       "      <td>NaN</td>\n",
       "      <td>http://linked.data.gov.au/dataset/asgsed3/SA2/...</td>\n",
       "      <td></td>\n",
       "    </tr>\n",
       "  </tbody>\n",
       "</table>\n",
       "<p>2473 rows × 17 columns</p>\n",
       "</div>"
      ],
      "text/plain": [
       "     SA2_CODE21                            SA2_NAME21 CHG_FLAG21  CHG_LBL21  \\\n",
       "0     101021007                             Braidwood          0  No change   \n",
       "1     101021008                               Karabar          0  No change   \n",
       "2     101021009                            Queanbeyan          0  No change   \n",
       "3     101021010                     Queanbeyan - East          0  No change   \n",
       "4     101021012       Queanbeyan West - Jerrabomberra          0  No change   \n",
       "...         ...                                   ...        ...        ...   \n",
       "2468  901031003                            Jervis Bay          0  No change   \n",
       "2469  901041004                        Norfolk Island          0  No change   \n",
       "2470  997979799  Migratory - Offshore - Shipping (OT)          0  No change   \n",
       "2471  999999499                 No usual address (OT)          0  No change   \n",
       "2472  ZZZZZZZZZ                     Outside Australia          1        New   \n",
       "\n",
       "     SA3_CODE21                            SA3_NAME21 SA4_CODE21  \\\n",
       "0         10102                            Queanbeyan        101   \n",
       "1         10102                            Queanbeyan        101   \n",
       "2         10102                            Queanbeyan        101   \n",
       "3         10102                            Queanbeyan        101   \n",
       "4         10102                            Queanbeyan        101   \n",
       "...         ...                                   ...        ...   \n",
       "2468      90103                            Jervis Bay        901   \n",
       "2469      90104                        Norfolk Island        901   \n",
       "2470      99797  Migratory - Offshore - Shipping (OT)        997   \n",
       "2471      99999                 No usual address (OT)        999   \n",
       "2472      ZZZZZ                     Outside Australia        ZZZ   \n",
       "\n",
       "                                SA4_NAME21 GCC_CODE21  \\\n",
       "0                           Capital Region      1RNSW   \n",
       "1                           Capital Region      1RNSW   \n",
       "2                           Capital Region      1RNSW   \n",
       "3                           Capital Region      1RNSW   \n",
       "4                           Capital Region      1RNSW   \n",
       "...                                    ...        ...   \n",
       "2468                     Other Territories      9OTER   \n",
       "2469                     Other Territories      9OTER   \n",
       "2470  Migratory - Offshore - Shipping (OT)      99799   \n",
       "2471                 No usual address (OT)      99499   \n",
       "2472                     Outside Australia      ZZZZZ   \n",
       "\n",
       "                                GCC_NAME21 STE_CODE21         STE_NAME21  \\\n",
       "0                              Rest of NSW          1    New South Wales   \n",
       "1                              Rest of NSW          1    New South Wales   \n",
       "2                              Rest of NSW          1    New South Wales   \n",
       "3                              Rest of NSW          1    New South Wales   \n",
       "4                              Rest of NSW          1    New South Wales   \n",
       "...                                    ...        ...                ...   \n",
       "2468                     Other Territories          9  Other Territories   \n",
       "2469                     Other Territories          9  Other Territories   \n",
       "2470  Migratory - Offshore - Shipping (OT)          9  Other Territories   \n",
       "2471                 No usual address (OT)          9  Other Territories   \n",
       "2472                     Outside Australia          Z  Outside Australia   \n",
       "\n",
       "     AUS_CODE21         AUS_NAME21  AREASQKM21  \\\n",
       "0           AUS          Australia   3418.3525   \n",
       "1           AUS          Australia      6.9825   \n",
       "2           AUS          Australia      4.7620   \n",
       "3           AUS          Australia     13.0032   \n",
       "4           AUS          Australia     13.6748   \n",
       "...         ...                ...         ...   \n",
       "2468        AUS          Australia     67.2296   \n",
       "2469        AUS          Australia     38.6510   \n",
       "2470        AUS          Australia         NaN   \n",
       "2471        AUS          Australia         NaN   \n",
       "2472        ZZZ  Outside Australia         NaN   \n",
       "\n",
       "                                             LOCI_URI21  \\\n",
       "0     http://linked.data.gov.au/dataset/asgsed3/SA2/...   \n",
       "1     http://linked.data.gov.au/dataset/asgsed3/SA2/...   \n",
       "2     http://linked.data.gov.au/dataset/asgsed3/SA2/...   \n",
       "3     http://linked.data.gov.au/dataset/asgsed3/SA2/...   \n",
       "4     http://linked.data.gov.au/dataset/asgsed3/SA2/...   \n",
       "...                                                 ...   \n",
       "2468  http://linked.data.gov.au/dataset/asgsed3/SA2/...   \n",
       "2469  http://linked.data.gov.au/dataset/asgsed3/SA2/...   \n",
       "2470  http://linked.data.gov.au/dataset/asgsed3/SA2/...   \n",
       "2471  http://linked.data.gov.au/dataset/asgsed3/SA2/...   \n",
       "2472  http://linked.data.gov.au/dataset/asgsed3/SA2/...   \n",
       "\n",
       "                                               geometry  \n",
       "0     POLYGON ((149.5842384630081 -35.4442571811303,...  \n",
       "1     POLYGON ((149.2189874391411 -35.36738117911253...  \n",
       "2     POLYGON ((149.2132649330965 -35.34324521846067...  \n",
       "3     POLYGON ((149.2403376383506 -35.34780977080727...  \n",
       "4     POLYGON ((149.1957232435019 -35.36126247708308...  \n",
       "...                                                 ...  \n",
       "2468  (POLYGON ((150.6956683280878 -35.1829542884842...  \n",
       "2469  (POLYGON ((167.9632532375536 -29.0721173752821...  \n",
       "2470                                                     \n",
       "2471                                                     \n",
       "2472                                                     \n",
       "\n",
       "[2473 rows x 17 columns]"
      ]
     },
     "execution_count": 62,
     "metadata": {},
     "output_type": "execute_result"
    }
   ],
   "source": [
    "sa2_2021_temp"
   ]
  },
  {
   "cell_type": "markdown",
   "id": "195196c0-f0b8-423f-b663-08b925186ab3",
   "metadata": {},
   "source": [
    "### Download file with 2016 SA2 info and 2021 SA2 info"
   ]
  },
  {
   "cell_type": "code",
   "execution_count": 23,
   "id": "368d62a4",
   "metadata": {},
   "outputs": [
    {
     "name": "stdout",
     "output_type": "stream",
     "text": [
      "complete\n"
     ]
    }
   ],
   "source": [
    "url = \"https://www.abs.gov.au/statistics/standards/australian-statistical-geography-standard-asgs-edition-3/jul2021-jun2026/access-and-downloads/correspondences/CG_SA2_2016_SA2_2021.csv\"\n",
    "output_dir = \"../data/outer/correspondences.csv\"\n",
    "# download\n",
    "urlretrieve(url, output_dir) \n",
    "print(\"complete\")"
   ]
  },
  {
   "cell_type": "code",
   "execution_count": 81,
   "id": "f2b15f51",
   "metadata": {},
   "outputs": [
    {
     "name": "stderr",
     "output_type": "stream",
     "text": [
      "                                                                                \r"
     ]
    }
   ],
   "source": [
    "correspondences= spark.read.option(\"header\",True).csv('../data/outer/correspondences.csv') #read the parquet \n",
    "correspondences = correspondences.na.drop()\n",
    "correspondences.write.parquet(\"../data/curated/correspondences.parquet\")\n"
   ]
  },
  {
   "cell_type": "code",
   "execution_count": null,
   "id": "65a43a9f-cea5-4924-8a01-af53f1944691",
   "metadata": {},
   "outputs": [],
   "source": []
  }
 ],
 "metadata": {
  "kernelspec": {
   "display_name": "Python 3 (ipykernel)",
   "language": "python",
   "name": "python3"
  },
  "language_info": {
   "codemirror_mode": {
    "name": "ipython",
    "version": 3
   },
   "file_extension": ".py",
   "mimetype": "text/x-python",
   "name": "python",
   "nbconvert_exporter": "python",
   "pygments_lexer": "ipython3",
   "version": "3.7.13"
  },
  "vscode": {
   "interpreter": {
    "hash": "6e45bdfcba1031802b2f7a315f02d536e51553942a60e4ee4be74aec82814bfa"
   }
  }
 },
 "nbformat": 4,
 "nbformat_minor": 5
}
