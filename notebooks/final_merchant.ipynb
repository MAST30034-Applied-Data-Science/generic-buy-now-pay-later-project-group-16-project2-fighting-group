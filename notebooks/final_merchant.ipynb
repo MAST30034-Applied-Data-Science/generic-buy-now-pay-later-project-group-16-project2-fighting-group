{
 "cells": [
  {
   "cell_type": "code",
   "execution_count": 13,
   "metadata": {},
   "outputs": [],
   "source": [
    "from pyspark.sql import SparkSession\n",
    "from pyspark.sql import functions as F\n",
    "import numpy as np\n",
    "from pyspark.sql.functions import *\n",
    "import pandas as pd\n",
    "# Create a spark session (which will run spark jobs)\n",
    "spark = (\n",
    "    SparkSession.builder.appName(\"MAST30034 Tutorial 1\")\n",
    "    .config(\"spark.sql.repl.eagerEval.enabled\", True) \n",
    "    .config(\"spark.sql.parquet.cacheMetadata\", \"true\")\n",
    "    .config(\"spark.sql.session.timeZone\", \"Etc/UTC\")\n",
    "    .getOrCreate()\n",
    ")"
   ]
  },
  {
   "cell_type": "code",
   "execution_count": 9,
   "metadata": {},
   "outputs": [],
   "source": [
    "\n",
    "merchant_fraud = spark.read.option(\"header\",True).csv('../data/tables/merchant_fraud_probability.csv')\n",
    "tbl_merchants = spark.read.parquet('../data/tables/tbl_merchants.parquet')\n"
   ]
  },
  {
   "cell_type": "code",
   "execution_count": 7,
   "metadata": {},
   "outputs": [
    {
     "name": "stdout",
     "output_type": "stream",
     "text": [
      "114\n",
      "114\n"
     ]
    }
   ],
   "source": [
    "merchant_fraud = merchant_fraud.select(col(\"merchant_abn\"),col(\"fraud_probability\"),to_date(col(\"order_datetime\"),\"yyyy-MM-dd\").alias(\"date\"))\n",
    "\n",
    "print(merchant_fraud.count())\n",
    "merchant_fraud.filter(\"date > '2021-02-28'\")\n",
    "merchant_fraud.filter(\"date < '2022-08-28'\")\n",
    "print(merchant_fraud.count())"
   ]
  },
  {
   "cell_type": "code",
   "execution_count": 8,
   "metadata": {},
   "outputs": [
    {
     "data": {
      "text/html": [
       "<table border='1'>\n",
       "<tr><th>merchant_abn</th><th>fraud_count_abn</th></tr>\n",
       "<tr><td>67264251405</td><td>1</td></tr>\n",
       "<tr><td>43083074133</td><td>1</td></tr>\n",
       "</table>\n"
      ],
      "text/plain": [
       "+------------+---------------+\n",
       "|merchant_abn|fraud_count_abn|\n",
       "+------------+---------------+\n",
       "| 67264251405|              1|\n",
       "| 43083074133|              1|\n",
       "+------------+---------------+"
      ]
     },
     "execution_count": 8,
     "metadata": {},
     "output_type": "execute_result"
    }
   ],
   "source": [
    "merchant_fraud_group = merchant_fraud.groupBy('merchant_abn').agg(F.count('fraud_probability').alias('fraud_count_abn'))\n",
    "merchant_fraud_group.limit(2)"
   ]
  },
  {
   "cell_type": "code",
   "execution_count": 14,
   "metadata": {},
   "outputs": [
    {
     "name": "stderr",
     "output_type": "stream",
     "text": [
      "/var/folders/4w/p31d1t_x5pqbppcsm7p9kxt00000gn/T/ipykernel_34251/2153331469.py:3: SettingWithCopyWarning: \n",
      "A value is trying to be set on a copy of a slice from a DataFrame\n",
      "\n",
      "See the caveats in the documentation: https://pandas.pydata.org/pandas-docs/stable/user_guide/indexing.html#returning-a-view-versus-a-copy\n",
      "  tbl_merchants_pd['tags'].iloc[i] = tbl_merchants_pd['tags'].iloc[i].replace(r'[', r'(').replace(r']', r')')\n"
     ]
    }
   ],
   "source": [
    "tbl_merchants_pd = tbl_merchants.toPandas()\n",
    "for i in range(int(tbl_merchants_pd['tags'].count())):\n",
    "    tbl_merchants_pd['tags'].iloc[i] = tbl_merchants_pd['tags'].iloc[i].replace(r'[', r'(').replace(r']', r')')"
   ]
  },
  {
   "cell_type": "code",
   "execution_count": 16,
   "metadata": {},
   "outputs": [],
   "source": [
    "merchant_tags = tbl_merchants_pd['tags'].str.split(')', expand=True)\n",
    "\n",
    "for row in range(int(len(merchant_tags))):\n",
    "    for col in range(3):\n",
    "        merchant_tags.iloc[row,col] = merchant_tags.iloc[row,col].replace(r'((', r'').replace(r', (', r'').replace(r'take rate:', r'')\n",
    "merchant_tags.rename(columns = {0 : 'Store type', 1 : 'Revenue levels', 2 : 'Take rate'}, inplace = True)\n",
    "merchant_tags = merchant_tags[['Store type', 'Revenue levels', 'Take rate']]"
   ]
  },
  {
   "cell_type": "code",
   "execution_count": 22,
   "metadata": {},
   "outputs": [
    {
     "name": "stderr",
     "output_type": "stream",
     "text": [
      "/var/folders/4w/p31d1t_x5pqbppcsm7p9kxt00000gn/T/ipykernel_34251/3875288317.py:6: SettingWithCopyWarning: \n",
      "A value is trying to be set on a copy of a slice from a DataFrame\n",
      "\n",
      "See the caveats in the documentation: https://pandas.pydata.org/pandas-docs/stable/user_guide/indexing.html#returning-a-view-versus-a-copy\n",
      "  tbl_merchants_pd['Store type'][i] = ' '.join(tbl_merchants_pd['Store type'][i].split())\n"
     ]
    }
   ],
   "source": [
    "tbl_merchants_pd[['Store type', 'Revenue levels', 'Take rate']] = merchant_tags[['Store type', 'Revenue levels', 'Take rate']]\n",
    "#merchant.drop(columns=['tags'])\n",
    "tbl_merchants_pd['Store type'] = tbl_merchants_pd['Store type'].str.lower()\n",
    "\n",
    "for i in range(len(tbl_merchants_pd)):\n",
    "    tbl_merchants_pd['Store type'][i] = ' '.join(tbl_merchants_pd['Store type'][i].split())\n",
    " "
   ]
  },
  {
   "cell_type": "code",
   "execution_count": 34,
   "metadata": {},
   "outputs": [],
   "source": [
    "merchants = tbl_merchants_pd.drop(columns = ['name','tags'])\n",
    "merchants.to_parquet(f\"../data/curated/final_merchants.parquet\")"
   ]
  }
 ],
 "metadata": {
  "kernelspec": {
   "display_name": "Python 3.8.13 ('ads')",
   "language": "python",
   "name": "python3"
  },
  "language_info": {
   "codemirror_mode": {
    "name": "ipython",
    "version": 3
   },
   "file_extension": ".py",
   "mimetype": "text/x-python",
   "name": "python",
   "nbconvert_exporter": "python",
   "pygments_lexer": "ipython3",
   "version": "3.8.13"
  },
  "orig_nbformat": 4,
  "vscode": {
   "interpreter": {
    "hash": "6e45bdfcba1031802b2f7a315f02d536e51553942a60e4ee4be74aec82814bfa"
   }
  }
 },
 "nbformat": 4,
 "nbformat_minor": 2
}
