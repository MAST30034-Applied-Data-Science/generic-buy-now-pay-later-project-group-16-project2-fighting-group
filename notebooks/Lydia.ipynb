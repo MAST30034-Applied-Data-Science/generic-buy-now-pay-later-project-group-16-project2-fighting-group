{
 "cells": [
  {
   "cell_type": "code",
   "execution_count": 1,
   "metadata": {},
   "outputs": [
    {
     "name": "stdout",
     "output_type": "stream",
     "text": [
      "22/08/30 12:27:46 WARN Utils: Your hostname, hexiangyideMacBook-Pro.local resolves to a loopback address: 127.0.0.1; using 10.13.187.58 instead (on interface en0)\n",
      "22/08/30 12:27:46 WARN Utils: Set SPARK_LOCAL_IP if you need to bind to another address\n"
     ]
    },
    {
     "name": "stderr",
     "output_type": "stream",
     "text": [
      "Setting default log level to \"WARN\".\n",
      "To adjust logging level use sc.setLogLevel(newLevel). For SparkR, use setLogLevel(newLevel).\n"
     ]
    },
    {
     "name": "stdout",
     "output_type": "stream",
     "text": [
      "22/08/30 12:27:47 WARN NativeCodeLoader: Unable to load native-hadoop library for your platform... using builtin-java classes where applicable\n"
     ]
    }
   ],
   "source": [
    "from pyspark.sql import SparkSession\n",
    "from pyspark.sql import functions as F\n",
    "# Create a spark session (which will run spark jobs)\n",
    "spark = (\n",
    "    SparkSession.builder.appName(\"MAST30034 Tutorial 1\")\n",
    "    .config(\"spark.sql.repl.eagerEval.enabled\", True) \n",
    "    .config(\"spark.sql.parquet.cacheMetadata\", \"true\")\n",
    "    .config(\"spark.sql.session.timeZone\", \"Etc/UTC\")\n",
    "    .getOrCreate()\n",
    ")"
   ]
  },
  {
   "cell_type": "code",
   "execution_count": 2,
   "metadata": {},
   "outputs": [
    {
     "data": {
      "text/plain": [
       "'/Users/hexiangyi/Desktop/generic-buy-now-pay-later-project-group-16-project2-fighting-group/notebooks'"
      ]
     },
     "execution_count": 2,
     "metadata": {},
     "output_type": "execute_result"
    }
   ],
   "source": [
    "pwd"
   ]
  },
  {
   "cell_type": "code",
   "execution_count": 21,
   "metadata": {},
   "outputs": [],
   "source": [
    "filename = 'part-00001-cfff5211-ef46-4b99-a6ed-63c9b2c7fe15.c000.snappy'\n",
    "file = spark.read.parquet('../data/tables/transactions_20210228_20210827_snapshot') #read the parquet files\n",
    "file1 = file.drop(F.col('order_id')).groupBy('user_id','merchant_abn').agg(F.avg('dollar_value').alias('avg'), F.sum('dollar_value').alias('sum'), F.count('dollar_value').alias('count')).sort('user_id','merchant_abn')\n",
    "#file2 = file.drop(F.col('order_id')).groupBy('user_id','merchant_abn').agg(F.sum('dollar_value').alias('sum')).sort('user_id','merchant_abn')\n",
    "#file1 = file.drop(F.col('order_id')).groupBy('user_id','merchant_abn').agg(F.avg('dollar_value').alias('count')).sort('user_id','merchant_abn')"
   ]
  },
  {
   "cell_type": "code",
   "execution_count": 22,
   "metadata": {},
   "outputs": [
    {
     "name": "stdout",
     "output_type": "stream",
     "text": [
      "22/08/30 12:34:59 WARN RowBasedKeyValueBatch: Calling spill() on RowBasedKeyValueBatch. Will not spill but return 0.\n",
      "22/08/30 12:34:59 WARN RowBasedKeyValueBatch: Calling spill() on RowBasedKeyValueBatch. Will not spill but return 0.\n",
      "22/08/30 12:34:59 WARN RowBasedKeyValueBatch: Calling spill() on RowBasedKeyValueBatch. Will not spill but return 0.\n",
      "22/08/30 12:34:59 WARN RowBasedKeyValueBatch: Calling spill() on RowBasedKeyValueBatch. Will not spill but return 0.\n",
      "22/08/30 12:35:00 WARN RowBasedKeyValueBatch: Calling spill() on RowBasedKeyValueBatch. Will not spill but return 0.\n",
      "22/08/30 12:35:00 WARN RowBasedKeyValueBatch: Calling spill() on RowBasedKeyValueBatch. Will not spill but return 0.\n",
      "22/08/30 12:35:00 WARN RowBasedKeyValueBatch: Calling spill() on RowBasedKeyValueBatch. Will not spill but return 0.\n",
      "22/08/30 12:35:00 WARN RowBasedKeyValueBatch: Calling spill() on RowBasedKeyValueBatch. Will not spill but return 0.\n"
     ]
    },
    {
     "name": "stderr",
     "output_type": "stream",
     "text": [
      "[Stage 46:>                                                         (0 + 8) / 9]\r"
     ]
    },
    {
     "name": "stdout",
     "output_type": "stream",
     "text": [
      "+-------+------------+------------------+------------------+-----+\n",
      "|user_id|merchant_abn|               avg|               sum|count|\n",
      "+-------+------------+------------------+------------------+-----+\n",
      "|      1| 12771097467| 1536.539158652427| 1536.539158652427|    1|\n",
      "|      1| 13565102775| 43.51150449374441| 43.51150449374441|    1|\n",
      "|      1| 14639241847|  93.6776130220769|  93.6776130220769|    1|\n",
      "|      1| 15061716544| 67.84518399589287| 67.84518399589287|    1|\n",
      "|      1| 17324645993|15.196465529595457|30.392931059190914|    2|\n",
      "|      1| 17431888602| 665.2658070006255| 665.2658070006255|    1|\n",
      "|      1| 17488304283| 249.6960500645783| 249.6960500645783|    1|\n",
      "|      1| 19575005485|14.277862286033697|14.277862286033697|    1|\n",
      "|      1| 20885454195|144.15357878706996|144.15357878706996|    1|\n",
      "|      1| 22033359776| 750.9175201028554|1501.8350402057108|    2|\n",
      "|      1| 23541969839| 76.97058067609302| 76.97058067609302|    1|\n",
      "|      1| 24852446429| 50.42412659704224|201.69650638816896|    4|\n",
      "|      1| 27022400550| 39.05358272941298| 39.05358272941298|    1|\n",
      "|      1| 28000487688|133.22689421562643|133.22689421562643|    1|\n",
      "|      1| 28647642474| 110.5870670565107| 110.5870670565107|    1|\n",
      "|      1| 28687004922| 32.54319607329163| 32.54319607329163|    1|\n",
      "|      1| 29023134283|15.100376385885541|15.100376385885541|    1|\n",
      "|      1| 29102388616|25.760349261463237|25.760349261463237|    1|\n",
      "|      1| 29616684420|55.725336174456494|55.725336174456494|    1|\n",
      "|      1| 31472801314| 31.84406280507853| 31.84406280507853|    1|\n",
      "+-------+------------+------------------+------------------+-----+\n",
      "only showing top 20 rows\n",
      "\n"
     ]
    },
    {
     "name": "stderr",
     "output_type": "stream",
     "text": [
      "\r",
      "                                                                                \r"
     ]
    }
   ],
   "source": [
    "\n",
    "file1.show(20)"
   ]
  },
  {
   "cell_type": "code",
   "execution_count": null,
   "metadata": {},
   "outputs": [],
   "source": []
  }
 ],
 "metadata": {
  "kernelspec": {
   "display_name": "Python 3 (ipykernel)",
   "language": "python",
   "name": "python3"
  },
  "language_info": {
   "codemirror_mode": {
    "name": "ipython",
    "version": 3
   },
   "file_extension": ".py",
   "mimetype": "text/x-python",
   "name": "python",
   "nbconvert_exporter": "python",
   "pygments_lexer": "ipython3",
   "version": "3.9.7"
  },
  "vscode": {
   "interpreter": {
    "hash": "31f2aee4e71d21fbe5cf8b01ff0e069b9275f58929596ceb00d14d90e3e16cd6"
   }
  }
 },
 "nbformat": 4,
 "nbformat_minor": 2
}
