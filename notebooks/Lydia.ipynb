{
 "cells": [
  {
   "cell_type": "code",
   "execution_count": 4,
   "metadata": {},
   "outputs": [
    {
     "name": "stdout",
     "output_type": "stream",
     "text": [
      "22/08/30 11:24:26 WARN Utils: Your hostname, Macintosh.local resolves to a loopback address: 127.0.0.1; using 10.12.244.80 instead (on interface en0)\n",
      "22/08/30 11:24:26 WARN Utils: Set SPARK_LOCAL_IP if you need to bind to another address\n"
     ]
    },
    {
     "name": "stderr",
     "output_type": "stream",
     "text": [
      "Setting default log level to \"WARN\".\n",
      "To adjust logging level use sc.setLogLevel(newLevel). For SparkR, use setLogLevel(newLevel).\n"
     ]
    },
    {
     "name": "stdout",
     "output_type": "stream",
     "text": [
      "22/08/30 11:24:26 WARN NativeCodeLoader: Unable to load native-hadoop library for your platform... using builtin-java classes where applicable\n"
     ]
    }
   ],
   "source": [
    "from pyspark.sql import SparkSession\n",
    "\n",
    "# Create a spark session (which will run spark jobs)\n",
    "spark = (\n",
    "    SparkSession.builder.appName(\"MAST30034 Tutorial 1\")\n",
    "    .config(\"spark.sql.repl.eagerEval.enabled\", True) \n",
    "    .config(\"spark.sql.parquet.cacheMetadata\", \"true\")\n",
    "    .config(\"spark.sql.session.timeZone\", \"Etc/UTC\")\n",
    "    .getOrCreate()\n",
    ")"
   ]
  },
  {
   "cell_type": "code",
   "execution_count": 8,
   "metadata": {},
   "outputs": [
    {
     "data": {
      "text/plain": [
       "'/Users/lydialyu/Documents/个人/1UoM/2 MAST30034 Applied Data Science/MAST30034 Assignment/Assignment 2/generic-buy-now-pay-later-project-group-16-project2-fighting-group/notebooks/.ipynb_checkpoints'"
      ]
     },
     "execution_count": 8,
     "metadata": {},
     "output_type": "execute_result"
    }
   ],
   "source": [
    "pwd"
   ]
  },
  {
   "cell_type": "code",
   "execution_count": 10,
   "metadata": {},
   "outputs": [
    {
     "data": {
      "text/html": [
       "<table border='1'>\n",
       "<tr><th>user_id</th><th>merchant_abn</th><th>dollar_value</th><th>order_id</th></tr>\n",
       "<tr><td>1</td><td>28000487688</td><td>133.22689421562643</td><td>0c37b3f7-c7f1-48c...</td></tr>\n",
       "<tr><td>18485</td><td>62191208634</td><td>79.13140006851712</td><td>9e18b913-0465-4fd...</td></tr>\n",
       "<tr><td>1</td><td>83690644458</td><td>30.441348317517228</td><td>40a2ff69-ea34-465...</td></tr>\n",
       "<tr><td>18488</td><td>39649557865</td><td>962.8133405407585</td><td>f4c1a5ae-5b76-40d...</td></tr>\n",
       "<tr><td>2</td><td>80779820715</td><td>48.12397733548124</td><td>cd09bdd6-f56d-489...</td></tr>\n",
       "<tr><td>18489</td><td>43186523025</td><td>98.14878546968934</td><td>9008a98e-1b02-4de...</td></tr>\n",
       "<tr><td>3</td><td>29566626791</td><td>46.33087226118639</td><td>26b7574e-81c2-455...</td></tr>\n",
       "<tr><td>18490</td><td>93558142492</td><td>232.83335268750145</td><td>2bda0665-796f-4f2...</td></tr>\n",
       "<tr><td>3</td><td>32361057556</td><td>87.34942171371054</td><td>633a7656-2fcc-4b8...</td></tr>\n",
       "<tr><td>18491</td><td>64974914166</td><td>130.12601873970038</td><td>4bc15338-83eb-43d...</td></tr>\n",
       "<tr><td>5</td><td>83177825742</td><td>66.66426160206629</td><td>43e3b3fe-791b-47f...</td></tr>\n",
       "<tr><td>18493</td><td>43186523025</td><td>69.75645555605993</td><td>6c494428-b293-459...</td></tr>\n",
       "<tr><td>6</td><td>21772962346</td><td>113.04510652600983</td><td>000ca5ac-3247-4ef...</td></tr>\n",
       "<tr><td>18493</td><td>67979471799</td><td>53.03432496202065</td><td>dd61feff-5aa3-43d...</td></tr>\n",
       "<tr><td>7</td><td>66079287213</td><td>89.93535555889761</td><td>50a5619d-0647-487...</td></tr>\n",
       "<tr><td>18494</td><td>49891706470</td><td>21.995368431723854</td><td>faac27e9-c054-44d...</td></tr>\n",
       "<tr><td>11</td><td>98269572896</td><td>129.46280909485031</td><td>8f5d0cab-8055-435...</td></tr>\n",
       "<tr><td>18495</td><td>66667026714</td><td>48.3228941934147</td><td>ca150cbf-6e34-489...</td></tr>\n",
       "<tr><td>11</td><td>20692490685</td><td>196.93916081228323</td><td>09bc8dd6-419f-4cb...</td></tr>\n",
       "<tr><td>18496</td><td>60956456424</td><td>82.30827454121753</td><td>d9df2270-6fb9-46e...</td></tr>\n",
       "</table>\n",
       "only showing top 20 rows\n"
      ],
      "text/plain": [
       "+-------+------------+------------------+--------------------+\n",
       "|user_id|merchant_abn|      dollar_value|            order_id|\n",
       "+-------+------------+------------------+--------------------+\n",
       "|      1| 28000487688|133.22689421562643|0c37b3f7-c7f1-48c...|\n",
       "|  18485| 62191208634| 79.13140006851712|9e18b913-0465-4fd...|\n",
       "|      1| 83690644458|30.441348317517228|40a2ff69-ea34-465...|\n",
       "|  18488| 39649557865| 962.8133405407585|f4c1a5ae-5b76-40d...|\n",
       "|      2| 80779820715| 48.12397733548124|cd09bdd6-f56d-489...|\n",
       "|  18489| 43186523025| 98.14878546968934|9008a98e-1b02-4de...|\n",
       "|      3| 29566626791| 46.33087226118639|26b7574e-81c2-455...|\n",
       "|  18490| 93558142492|232.83335268750145|2bda0665-796f-4f2...|\n",
       "|      3| 32361057556| 87.34942171371054|633a7656-2fcc-4b8...|\n",
       "|  18491| 64974914166|130.12601873970038|4bc15338-83eb-43d...|\n",
       "|      5| 83177825742| 66.66426160206629|43e3b3fe-791b-47f...|\n",
       "|  18493| 43186523025| 69.75645555605993|6c494428-b293-459...|\n",
       "|      6| 21772962346|113.04510652600983|000ca5ac-3247-4ef...|\n",
       "|  18493| 67979471799| 53.03432496202065|dd61feff-5aa3-43d...|\n",
       "|      7| 66079287213| 89.93535555889761|50a5619d-0647-487...|\n",
       "|  18494| 49891706470|21.995368431723854|faac27e9-c054-44d...|\n",
       "|     11| 98269572896|129.46280909485031|8f5d0cab-8055-435...|\n",
       "|  18495| 66667026714|  48.3228941934147|ca150cbf-6e34-489...|\n",
       "|     11| 20692490685|196.93916081228323|09bc8dd6-419f-4cb...|\n",
       "|  18496| 60956456424| 82.30827454121753|d9df2270-6fb9-46e...|\n",
       "+-------+------------+------------------+--------------------+\n",
       "only showing top 20 rows"
      ]
     },
     "execution_count": 10,
     "metadata": {},
     "output_type": "execute_result"
    }
   ],
   "source": [
    "filename = 'part-00001-cfff5211-ef46-4b99-a6ed-63c9b2c7fe15.c000.snappy'\n",
    "file = spark.read.parquet('../../data/tables/transactions_20210228_20210827_snapshot/order_datetime=2021-02-28/'+filename+'.parquet') #read the parquet files\n",
    "file"
   ]
  },
  {
   "cell_type": "code",
   "execution_count": 3,
   "metadata": {},
   "outputs": [
    {
     "name": "stdout",
     "output_type": "stream",
     "text": [
      "Collecting pyspark\n",
      "  Using cached pyspark-3.3.0.tar.gz (281.3 MB)\n",
      "  Preparing metadata (setup.py) ... \u001b[?25ldone\n",
      "\u001b[?25hCollecting py4j==0.10.9.5\n",
      "  Using cached py4j-0.10.9.5-py2.py3-none-any.whl (199 kB)\n",
      "Building wheels for collected packages: pyspark\n",
      "  Building wheel for pyspark (setup.py) ... \u001b[?25ldone\n",
      "\u001b[?25h  Created wheel for pyspark: filename=pyspark-3.3.0-py2.py3-none-any.whl size=281764010 sha256=aa0c4f53af1a4c12e02950fa1a119ae8044bdf9006c78a8a160823d48348f30a\n",
      "  Stored in directory: /Users/lydialyu/Library/Caches/pip/wheels/81/9c/6c/d5200fcf351ffa39cbe09911e99703283624cd037df58070d9\n",
      "Successfully built pyspark\n",
      "Installing collected packages: py4j, pyspark\n",
      "Successfully installed py4j-0.10.9.5 pyspark-3.3.0\n",
      "Note: you may need to restart the kernel to use updated packages.\n"
     ]
    }
   ],
   "source": [
    "pip install pyspark"
   ]
  },
  {
   "cell_type": "code",
   "execution_count": null,
   "metadata": {},
   "outputs": [],
   "source": []
  }
 ],
 "metadata": {
  "kernelspec": {
   "display_name": "Python 3.8.9 64-bit",
   "language": "python",
   "name": "python3"
  },
  "language_info": {
   "codemirror_mode": {
    "name": "ipython",
    "version": 3
   },
   "file_extension": ".py",
   "mimetype": "text/x-python",
   "name": "python",
   "nbconvert_exporter": "python",
   "pygments_lexer": "ipython3",
   "version": "3.8.9"
  },
  "orig_nbformat": 4,
  "vscode": {
   "interpreter": {
    "hash": "31f2aee4e71d21fbe5cf8b01ff0e069b9275f58929596ceb00d14d90e3e16cd6"
   }
  }
 },
 "nbformat": 4,
 "nbformat_minor": 2
}
