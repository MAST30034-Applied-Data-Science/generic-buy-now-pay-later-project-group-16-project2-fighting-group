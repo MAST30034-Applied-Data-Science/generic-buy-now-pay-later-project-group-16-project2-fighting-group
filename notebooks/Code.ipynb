{
 "cells": [
  {
   "cell_type": "code",
   "execution_count": 4,
   "metadata": {},
   "outputs": [],
   "source": [
    "from pyspark.sql import SparkSession\n",
    "from pyspark.sql import functions as F\n",
    "# Create a spark session (which will run spark jobs)\n",
    "spark = (\n",
    "    SparkSession.builder.appName(\"MAST30034 Tutorial 1\")\n",
    "    .config(\"spark.sql.repl.eagerEval.enabled\", True) \n",
    "    .config(\"spark.sql.parquet.cacheMetadata\", \"true\")\n",
    "    .config(\"spark.sql.session.timeZone\", \"Etc/UTC\")\n",
    "    .getOrCreate()\n",
    ")"
   ]
  },
  {
   "cell_type": "code",
   "execution_count": 16,
   "metadata": {},
   "outputs": [],
   "source": [
    "filename = 'part-00001-cfff5211-ef46-4b99-a6ed-63c9b2c7fe15.c000.snappy'\n",
    "file = spark.read.parquet('../data/tables/transactions_20210228_20210827_snapshot') #read the parquet files\n",
    "file1 = file.drop(F.col('order_id')).groupBy('user_id','merchant_abn').agg(F.avg('dollar_value').alias('avg'), F.sum('dollar_value').alias('sum'), F.count('dollar_value').alias('count')).sort('user_id','merchant_abn')\n",
    "#file2 = file.drop(F.col('order_id')).groupBy('user_id','merchant_abn').agg(F.sum('dollar_value').alias('sum')).sort('user_id','merchant_abn')\n",
    "#file1 = file.drop(F.col('order_id')).groupBy('user_id','merchant_abn').agg(F.avg('dollar_value').alias('count')).sort('user_id','merchant_abn')"
   ]
  },
  {
   "cell_type": "code",
   "execution_count": 18,
   "metadata": {},
   "outputs": [
    {
     "data": {
      "text/html": [
       "<table border='1'>\n",
       "<tr><th>user_id</th><th>merchant_abn</th><th>dollar_value</th><th>order_datetime</th></tr>\n",
       "<tr><td>18478</td><td>62191208634</td><td>63.255848959735246</td><td>2021-08-20</td></tr>\n",
       "<tr><td>2</td><td>15549624934</td><td>130.3505283105634</td><td>2021-08-20</td></tr>\n",
       "<tr><td>18479</td><td>64403598239</td><td>120.15860593212783</td><td>2021-08-20</td></tr>\n",
       "<tr><td>3</td><td>60956456424</td><td>136.6785200286976</td><td>2021-08-20</td></tr>\n",
       "<tr><td>18479</td><td>94493496784</td><td>72.96316578355305</td><td>2021-08-20</td></tr>\n",
       "<tr><td>3</td><td>76819856970</td><td>448.529684285612</td><td>2021-08-20</td></tr>\n",
       "<tr><td>18479</td><td>67609108741</td><td>86.4040605836911</td><td>2021-08-20</td></tr>\n",
       "<tr><td>3</td><td>34096466752</td><td>301.5793450525113</td><td>2021-08-20</td></tr>\n",
       "<tr><td>18482</td><td>70501974849</td><td>68.75486276223054</td><td>2021-08-20</td></tr>\n",
       "<tr><td>4</td><td>49891706470</td><td>48.89796461900801</td><td>2021-08-20</td></tr>\n",
       "<tr><td>18482</td><td>46804135891</td><td>6.6168976971833615</td><td>2021-08-20</td></tr>\n",
       "<tr><td>7</td><td>33064796871</td><td>373.0873675184212</td><td>2021-08-20</td></tr>\n",
       "<tr><td>18483</td><td>44160392990</td><td>83.98473054761176</td><td>2021-08-20</td></tr>\n",
       "<tr><td>7</td><td>68435002949</td><td>232.5364986739752</td><td>2021-08-20</td></tr>\n",
       "<tr><td>18484</td><td>70033549200</td><td>871.7678061729196</td><td>2021-08-20</td></tr>\n",
       "<tr><td>7</td><td>41944909975</td><td>30.910755230234322</td><td>2021-08-20</td></tr>\n",
       "<tr><td>18485</td><td>41705715409</td><td>309.5417224575787</td><td>2021-08-20</td></tr>\n",
       "<tr><td>8</td><td>29566626791</td><td>74.15732460440282</td><td>2021-08-20</td></tr>\n",
       "<tr><td>18487</td><td>32361057556</td><td>119.19055863068847</td><td>2021-08-20</td></tr>\n",
       "<tr><td>9</td><td>47663262928</td><td>36.69873283148887</td><td>2021-08-20</td></tr>\n",
       "</table>\n",
       "only showing top 20 rows\n"
      ],
      "text/plain": [
       "+-------+------------+------------------+--------------+\n",
       "|user_id|merchant_abn|      dollar_value|order_datetime|\n",
       "+-------+------------+------------------+--------------+\n",
       "|  18478| 62191208634|63.255848959735246|    2021-08-20|\n",
       "|      2| 15549624934| 130.3505283105634|    2021-08-20|\n",
       "|  18479| 64403598239|120.15860593212783|    2021-08-20|\n",
       "|      3| 60956456424| 136.6785200286976|    2021-08-20|\n",
       "|  18479| 94493496784| 72.96316578355305|    2021-08-20|\n",
       "|      3| 76819856970|  448.529684285612|    2021-08-20|\n",
       "|  18479| 67609108741|  86.4040605836911|    2021-08-20|\n",
       "|      3| 34096466752| 301.5793450525113|    2021-08-20|\n",
       "|  18482| 70501974849| 68.75486276223054|    2021-08-20|\n",
       "|      4| 49891706470| 48.89796461900801|    2021-08-20|\n",
       "|  18482| 46804135891|6.6168976971833615|    2021-08-20|\n",
       "|      7| 33064796871| 373.0873675184212|    2021-08-20|\n",
       "|  18483| 44160392990| 83.98473054761176|    2021-08-20|\n",
       "|      7| 68435002949| 232.5364986739752|    2021-08-20|\n",
       "|  18484| 70033549200| 871.7678061729196|    2021-08-20|\n",
       "|      7| 41944909975|30.910755230234322|    2021-08-20|\n",
       "|  18485| 41705715409| 309.5417224575787|    2021-08-20|\n",
       "|      8| 29566626791| 74.15732460440282|    2021-08-20|\n",
       "|  18487| 32361057556|119.19055863068847|    2021-08-20|\n",
       "|      9| 47663262928| 36.69873283148887|    2021-08-20|\n",
       "+-------+------------+------------------+--------------+\n",
       "only showing top 20 rows"
      ]
     },
     "execution_count": 18,
     "metadata": {},
     "output_type": "execute_result"
    }
   ],
   "source": [
    "file.drop(F.col('order_id'))"
   ]
  },
  {
   "cell_type": "code",
   "execution_count": 15,
   "metadata": {},
   "outputs": [
    {
     "name": "stderr",
     "output_type": "stream",
     "text": [
      "                                                                                \r"
     ]
    },
    {
     "data": {
      "text/html": [
       "<table border='1'>\n",
       "<tr><th>user_id</th><th>merchant_abn</th><th>avg</th><th>sum</th><th>count</th></tr>\n",
       "<tr><td>1</td><td>12771097467</td><td>1536.539158652427</td><td>1536.539158652427</td><td>1</td></tr>\n",
       "<tr><td>1</td><td>13565102775</td><td>43.51150449374441</td><td>43.51150449374441</td><td>1</td></tr>\n",
       "<tr><td>1</td><td>14639241847</td><td>93.6776130220769</td><td>93.6776130220769</td><td>1</td></tr>\n",
       "<tr><td>1</td><td>15061716544</td><td>67.84518399589287</td><td>67.84518399589287</td><td>1</td></tr>\n",
       "<tr><td>1</td><td>17324645993</td><td>15.196465529595457</td><td>30.392931059190914</td><td>2</td></tr>\n",
       "<tr><td>1</td><td>17431888602</td><td>665.2658070006255</td><td>665.2658070006255</td><td>1</td></tr>\n",
       "<tr><td>1</td><td>17488304283</td><td>249.6960500645783</td><td>249.6960500645783</td><td>1</td></tr>\n",
       "<tr><td>1</td><td>19575005485</td><td>14.277862286033697</td><td>14.277862286033697</td><td>1</td></tr>\n",
       "<tr><td>1</td><td>20885454195</td><td>144.15357878706996</td><td>144.15357878706996</td><td>1</td></tr>\n",
       "<tr><td>1</td><td>22033359776</td><td>750.9175201028554</td><td>1501.8350402057108</td><td>2</td></tr>\n",
       "<tr><td>1</td><td>23541969839</td><td>76.97058067609302</td><td>76.97058067609302</td><td>1</td></tr>\n",
       "<tr><td>1</td><td>24852446429</td><td>50.42412659704224</td><td>201.69650638816896</td><td>4</td></tr>\n",
       "<tr><td>1</td><td>27022400550</td><td>39.05358272941298</td><td>39.05358272941298</td><td>1</td></tr>\n",
       "<tr><td>1</td><td>28000487688</td><td>133.22689421562643</td><td>133.22689421562643</td><td>1</td></tr>\n",
       "<tr><td>1</td><td>28647642474</td><td>110.5870670565107</td><td>110.5870670565107</td><td>1</td></tr>\n",
       "<tr><td>1</td><td>28687004922</td><td>32.54319607329163</td><td>32.54319607329163</td><td>1</td></tr>\n",
       "<tr><td>1</td><td>29023134283</td><td>15.100376385885541</td><td>15.100376385885541</td><td>1</td></tr>\n",
       "<tr><td>1</td><td>29102388616</td><td>25.760349261463237</td><td>25.760349261463237</td><td>1</td></tr>\n",
       "<tr><td>1</td><td>29616684420</td><td>55.725336174456494</td><td>55.725336174456494</td><td>1</td></tr>\n",
       "<tr><td>1</td><td>31472801314</td><td>31.84406280507853</td><td>31.84406280507853</td><td>1</td></tr>\n",
       "</table>\n",
       "only showing top 20 rows\n"
      ],
      "text/plain": [
       "+-------+------------+------------------+------------------+-----+\n",
       "|user_id|merchant_abn|               avg|               sum|count|\n",
       "+-------+------------+------------------+------------------+-----+\n",
       "|      1| 12771097467| 1536.539158652427| 1536.539158652427|    1|\n",
       "|      1| 13565102775| 43.51150449374441| 43.51150449374441|    1|\n",
       "|      1| 14639241847|  93.6776130220769|  93.6776130220769|    1|\n",
       "|      1| 15061716544| 67.84518399589287| 67.84518399589287|    1|\n",
       "|      1| 17324645993|15.196465529595457|30.392931059190914|    2|\n",
       "|      1| 17431888602| 665.2658070006255| 665.2658070006255|    1|\n",
       "|      1| 17488304283| 249.6960500645783| 249.6960500645783|    1|\n",
       "|      1| 19575005485|14.277862286033697|14.277862286033697|    1|\n",
       "|      1| 20885454195|144.15357878706996|144.15357878706996|    1|\n",
       "|      1| 22033359776| 750.9175201028554|1501.8350402057108|    2|\n",
       "|      1| 23541969839| 76.97058067609302| 76.97058067609302|    1|\n",
       "|      1| 24852446429| 50.42412659704224|201.69650638816896|    4|\n",
       "|      1| 27022400550| 39.05358272941298| 39.05358272941298|    1|\n",
       "|      1| 28000487688|133.22689421562643|133.22689421562643|    1|\n",
       "|      1| 28647642474| 110.5870670565107| 110.5870670565107|    1|\n",
       "|      1| 28687004922| 32.54319607329163| 32.54319607329163|    1|\n",
       "|      1| 29023134283|15.100376385885541|15.100376385885541|    1|\n",
       "|      1| 29102388616|25.760349261463237|25.760349261463237|    1|\n",
       "|      1| 29616684420|55.725336174456494|55.725336174456494|    1|\n",
       "|      1| 31472801314| 31.84406280507853| 31.84406280507853|    1|\n",
       "+-------+------------+------------------+------------------+-----+\n",
       "only showing top 20 rows"
      ]
     },
     "execution_count": 15,
     "metadata": {},
     "output_type": "execute_result"
    }
   ],
   "source": [
    "file1"
   ]
  },
  {
   "cell_type": "code",
   "execution_count": 9,
   "metadata": {},
   "outputs": [
    {
     "data": {
      "text/html": [
       "<table border='1'>\n",
       "<tr><th>user_id</th><th>consumer_id</th></tr>\n",
       "<tr><td>1</td><td>1195503</td></tr>\n",
       "<tr><td>2</td><td>179208</td></tr>\n",
       "<tr><td>3</td><td>1194530</td></tr>\n",
       "<tr><td>4</td><td>154128</td></tr>\n",
       "<tr><td>5</td><td>712975</td></tr>\n",
       "<tr><td>6</td><td>407340</td></tr>\n",
       "<tr><td>7</td><td>511685</td></tr>\n",
       "<tr><td>8</td><td>448088</td></tr>\n",
       "<tr><td>9</td><td>650435</td></tr>\n",
       "<tr><td>10</td><td>1058499</td></tr>\n",
       "<tr><td>11</td><td>428325</td></tr>\n",
       "<tr><td>12</td><td>1494640</td></tr>\n",
       "<tr><td>13</td><td>1146717</td></tr>\n",
       "<tr><td>14</td><td>1343547</td></tr>\n",
       "<tr><td>15</td><td>1463076</td></tr>\n",
       "<tr><td>16</td><td>1356405</td></tr>\n",
       "<tr><td>17</td><td>1331093</td></tr>\n",
       "<tr><td>18</td><td>80965</td></tr>\n",
       "<tr><td>19</td><td>1226530</td></tr>\n",
       "<tr><td>20</td><td>1390367</td></tr>\n",
       "</table>\n",
       "only showing top 20 rows\n"
      ],
      "text/plain": [
       "+-------+-----------+\n",
       "|user_id|consumer_id|\n",
       "+-------+-----------+\n",
       "|      1|    1195503|\n",
       "|      2|     179208|\n",
       "|      3|    1194530|\n",
       "|      4|     154128|\n",
       "|      5|     712975|\n",
       "|      6|     407340|\n",
       "|      7|     511685|\n",
       "|      8|     448088|\n",
       "|      9|     650435|\n",
       "|     10|    1058499|\n",
       "|     11|     428325|\n",
       "|     12|    1494640|\n",
       "|     13|    1146717|\n",
       "|     14|    1343547|\n",
       "|     15|    1463076|\n",
       "|     16|    1356405|\n",
       "|     17|    1331093|\n",
       "|     18|      80965|\n",
       "|     19|    1226530|\n",
       "|     20|    1390367|\n",
       "+-------+-----------+\n",
       "only showing top 20 rows"
      ]
     },
     "execution_count": 9,
     "metadata": {},
     "output_type": "execute_result"
    }
   ],
   "source": [
    "consumer = spark.read.parquet('../data/tables/consumer_user_details.parquet')\n",
    "consumer"
   ]
  },
  {
   "cell_type": "code",
   "execution_count": 14,
   "metadata": {},
   "outputs": [
    {
     "data": {
      "text/html": [
       "<table border='1'>\n",
       "<tr><th>name</th><th>tags</th><th>merchant_abn</th></tr>\n",
       "<tr><td>Felis Limited</td><td>((furniture, home...</td><td>10023283211</td></tr>\n",
       "<tr><td>Arcu Ac Orci Corp...</td><td>([cable, satellit...</td><td>10142254217</td></tr>\n",
       "<tr><td>Nunc Sed Company</td><td>([jewelry, watch,...</td><td>10165489824</td></tr>\n",
       "<tr><td>Ultricies Digniss...</td><td>([wAtch, clock, a...</td><td>10187291046</td></tr>\n",
       "<tr><td>Enim Condimentum PC</td><td>([music shops - m...</td><td>10192359162</td></tr>\n",
       "<tr><td>Fusce Company</td><td>[(gift, card, nov...</td><td>10206519221</td></tr>\n",
       "<tr><td>Aliquam Enim Inco...</td><td>[(computers, comP...</td><td>10255988167</td></tr>\n",
       "<tr><td>Ipsum Primis Ltd</td><td>[[watch, clock, a...</td><td>10264435225</td></tr>\n",
       "<tr><td>Pede Ultrices Ind...</td><td>([computer progra...</td><td>10279061213</td></tr>\n",
       "<tr><td>Nunc Inc.</td><td>[(furniture, home...</td><td>10323485998</td></tr>\n",
       "<tr><td>Facilisis Facilis...</td><td>([computers, comp...</td><td>10342410215</td></tr>\n",
       "<tr><td>Odio Institute</td><td>((equipment, tool...</td><td>10346855916</td></tr>\n",
       "<tr><td>Rutrum Justo Ltd</td><td>([music shops - m...</td><td>10364012396</td></tr>\n",
       "<tr><td>Tellus Foundation</td><td>[[artist supply a...</td><td>10385011947</td></tr>\n",
       "<tr><td>Sed Et Company</td><td>([florists suppli...</td><td>10385163239</td></tr>\n",
       "<tr><td>Id Ltd</td><td>([computers, comp...</td><td>10385250025</td></tr>\n",
       "<tr><td>Consequat Foundation</td><td>[[antique shops -...</td><td>10404542215</td></tr>\n",
       "<tr><td>Sit Amet Nulla Corp.</td><td>[[motor vehicle s...</td><td>10430380319</td></tr>\n",
       "<tr><td>Massa Vestibulum ...</td><td>[(moTor vehicle s...</td><td>10441711491</td></tr>\n",
       "<tr><td>Ut Consulting</td><td>([gift, card, nov...</td><td>10462560289</td></tr>\n",
       "</table>\n",
       "only showing top 20 rows\n"
      ],
      "text/plain": [
       "+--------------------+--------------------+------------+\n",
       "|                name|                tags|merchant_abn|\n",
       "+--------------------+--------------------+------------+\n",
       "|       Felis Limited|((furniture, home...| 10023283211|\n",
       "|Arcu Ac Orci Corp...|([cable, satellit...| 10142254217|\n",
       "|    Nunc Sed Company|([jewelry, watch,...| 10165489824|\n",
       "|Ultricies Digniss...|([wAtch, clock, a...| 10187291046|\n",
       "| Enim Condimentum PC|([music shops - m...| 10192359162|\n",
       "|       Fusce Company|[(gift, card, nov...| 10206519221|\n",
       "|Aliquam Enim Inco...|[(computers, comP...| 10255988167|\n",
       "|    Ipsum Primis Ltd|[[watch, clock, a...| 10264435225|\n",
       "|Pede Ultrices Ind...|([computer progra...| 10279061213|\n",
       "|           Nunc Inc.|[(furniture, home...| 10323485998|\n",
       "|Facilisis Facilis...|([computers, comp...| 10342410215|\n",
       "|      Odio Institute|((equipment, tool...| 10346855916|\n",
       "|    Rutrum Justo Ltd|([music shops - m...| 10364012396|\n",
       "|   Tellus Foundation|[[artist supply a...| 10385011947|\n",
       "|      Sed Et Company|([florists suppli...| 10385163239|\n",
       "|              Id Ltd|([computers, comp...| 10385250025|\n",
       "|Consequat Foundation|[[antique shops -...| 10404542215|\n",
       "|Sit Amet Nulla Corp.|[[motor vehicle s...| 10430380319|\n",
       "|Massa Vestibulum ...|[(moTor vehicle s...| 10441711491|\n",
       "|       Ut Consulting|([gift, card, nov...| 10462560289|\n",
       "+--------------------+--------------------+------------+\n",
       "only showing top 20 rows"
      ]
     },
     "execution_count": 14,
     "metadata": {},
     "output_type": "execute_result"
    }
   ],
   "source": [
    "tbl = spark.read.parquet('../data/tables/tbl_merchants.parquet')\n",
    "tbl"
   ]
  },
  {
   "cell_type": "code",
   "execution_count": 12,
   "metadata": {},
   "outputs": [
    {
     "data": {
      "text/html": [
       "<div>\n",
       "<style scoped>\n",
       "    .dataframe tbody tr th:only-of-type {\n",
       "        vertical-align: middle;\n",
       "    }\n",
       "\n",
       "    .dataframe tbody tr th {\n",
       "        vertical-align: top;\n",
       "    }\n",
       "\n",
       "    .dataframe thead th {\n",
       "        text-align: right;\n",
       "    }\n",
       "</style>\n",
       "<table border=\"1\" class=\"dataframe\">\n",
       "  <thead>\n",
       "    <tr style=\"text-align: right;\">\n",
       "      <th></th>\n",
       "      <th>name|address|state|postcode|gender|consumer_id</th>\n",
       "    </tr>\n",
       "  </thead>\n",
       "  <tbody>\n",
       "    <tr>\n",
       "      <th>0</th>\n",
       "      <td>Yolanda Williams|413 Haney Gardens Apt. 742|WA...</td>\n",
       "    </tr>\n",
       "    <tr>\n",
       "      <th>1</th>\n",
       "      <td>Mary Smith|3764 Amber Oval|NSW|2782|Female|179208</td>\n",
       "    </tr>\n",
       "    <tr>\n",
       "      <th>2</th>\n",
       "      <td>Jill Jones MD|40693 Henry Greens|NT|862|Female...</td>\n",
       "    </tr>\n",
       "    <tr>\n",
       "      <th>3</th>\n",
       "      <td>Lindsay Jimenez|00653 Davenport Crossroad|NSW|...</td>\n",
       "    </tr>\n",
       "    <tr>\n",
       "      <th>4</th>\n",
       "      <td>Rebecca Blanchard|9271 Michael Manors Suite 65...</td>\n",
       "    </tr>\n",
       "    <tr>\n",
       "      <th>...</th>\n",
       "      <td>...</td>\n",
       "    </tr>\n",
       "    <tr>\n",
       "      <th>499994</th>\n",
       "      <td>Jessica Avila|508 Miranda Overpass Apt. 218|QL...</td>\n",
       "    </tr>\n",
       "    <tr>\n",
       "      <th>499995</th>\n",
       "      <td>Steven Thornton|7913 Schwartz Mission Suite 48...</td>\n",
       "    </tr>\n",
       "    <tr>\n",
       "      <th>499996</th>\n",
       "      <td>Christy Smith|5681 Zachary Mountain Apt. 060|N...</td>\n",
       "    </tr>\n",
       "    <tr>\n",
       "      <th>499997</th>\n",
       "      <td>Donna Sutton|54140 Jacob Point|VIC|3989|Female...</td>\n",
       "    </tr>\n",
       "    <tr>\n",
       "      <th>499998</th>\n",
       "      <td>Hannah Wilkins|61055 Long Valley|NSW|1755|Fema...</td>\n",
       "    </tr>\n",
       "  </tbody>\n",
       "</table>\n",
       "<p>499999 rows × 1 columns</p>\n",
       "</div>"
      ],
      "text/plain": [
       "           name|address|state|postcode|gender|consumer_id\n",
       "0       Yolanda Williams|413 Haney Gardens Apt. 742|WA...\n",
       "1       Mary Smith|3764 Amber Oval|NSW|2782|Female|179208\n",
       "2       Jill Jones MD|40693 Henry Greens|NT|862|Female...\n",
       "3       Lindsay Jimenez|00653 Davenport Crossroad|NSW|...\n",
       "4       Rebecca Blanchard|9271 Michael Manors Suite 65...\n",
       "...                                                   ...\n",
       "499994  Jessica Avila|508 Miranda Overpass Apt. 218|QL...\n",
       "499995  Steven Thornton|7913 Schwartz Mission Suite 48...\n",
       "499996  Christy Smith|5681 Zachary Mountain Apt. 060|N...\n",
       "499997  Donna Sutton|54140 Jacob Point|VIC|3989|Female...\n",
       "499998  Hannah Wilkins|61055 Long Valley|NSW|1755|Fema...\n",
       "\n",
       "[499999 rows x 1 columns]"
      ]
     },
     "execution_count": 12,
     "metadata": {},
     "output_type": "execute_result"
    }
   ],
   "source": [
    "import pandas as pd\n",
    "tbl_merchant = pd.read_csv('../data/tables/tbl_consumer.csv')\n",
    "tbl_merchant"
   ]
  },
  {
   "cell_type": "code",
   "execution_count": null,
   "metadata": {},
   "outputs": [],
   "source": []
  }
 ],
 "metadata": {
  "kernelspec": {
   "display_name": "Python 3.10.6 64-bit",
   "language": "python",
   "name": "python3"
  },
  "language_info": {
   "codemirror_mode": {
    "name": "ipython",
    "version": 3
   },
   "file_extension": ".py",
   "mimetype": "text/x-python",
   "name": "python",
   "nbconvert_exporter": "python",
   "pygments_lexer": "ipython3",
   "version": "3.10.6"
  },
  "vscode": {
   "interpreter": {
    "hash": "b0fa6594d8f4cbf19f97940f81e996739fb7646882a419484c72d19e05852a7e"
   }
  }
 },
 "nbformat": 4,
 "nbformat_minor": 2
}
