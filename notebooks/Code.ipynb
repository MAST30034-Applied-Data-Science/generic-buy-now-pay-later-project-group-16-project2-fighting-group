{
 "cells": [
  {
   "cell_type": "code",
   "execution_count": 16,
   "metadata": {},
   "outputs": [],
   "source": [
    "from pyspark.sql import SparkSession\n",
    "from pyspark.sql import functions as F\n",
    "# Create a spark session (which will run spark jobs)\n",
    "spark = (\n",
    "    SparkSession.builder.appName(\"MAST30034 Tutorial 1\")\n",
    "    .config(\"spark.sql.repl.eagerEval.enabled\", True) \n",
    "    .config(\"spark.sql.parquet.cacheMetadata\", \"true\")\n",
    "    .config(\"spark.sql.session.timeZone\", \"Etc/UTC\")\n",
    "    .getOrCreate()\n",
    ")"
   ]
  },
  {
   "cell_type": "markdown",
   "metadata": {},
   "source": [
    "# Read the given datasets"
   ]
  },
  {
   "cell_type": "code",
   "execution_count": 30,
   "metadata": {},
   "outputs": [
    {
     "data": {
      "text/html": [
       "<table border='1'>\n",
       "<tr><th>user_id</th><th>merchant_abn</th><th>dollar_value</th><th>order_id</th><th>order_datetime</th></tr>\n",
       "<tr><td>18478</td><td>62191208634</td><td>63.255848959735246</td><td>949a63c8-29f7-4ab...</td><td>2021-08-20</td></tr>\n",
       "<tr><td>2</td><td>15549624934</td><td>130.3505283105634</td><td>6a84c3cf-612a-457...</td><td>2021-08-20</td></tr>\n",
       "<tr><td>18479</td><td>64403598239</td><td>120.15860593212783</td><td>b10dcc33-e53f-425...</td><td>2021-08-20</td></tr>\n",
       "<tr><td>3</td><td>60956456424</td><td>136.6785200286976</td><td>0f09c5a5-784e-447...</td><td>2021-08-20</td></tr>\n",
       "<tr><td>18479</td><td>94493496784</td><td>72.96316578355305</td><td>f6c78c1a-4600-4c5...</td><td>2021-08-20</td></tr>\n",
       "<tr><td>3</td><td>76819856970</td><td>448.529684285612</td><td>5ace6a24-cdf0-4aa...</td><td>2021-08-20</td></tr>\n",
       "<tr><td>18479</td><td>67609108741</td><td>86.4040605836911</td><td>d0e180f0-cb06-42a...</td><td>2021-08-20</td></tr>\n",
       "<tr><td>3</td><td>34096466752</td><td>301.5793450525113</td><td>6fb1ff48-24bb-4f9...</td><td>2021-08-20</td></tr>\n",
       "<tr><td>18482</td><td>70501974849</td><td>68.75486276223054</td><td>8505fb33-b69a-412...</td><td>2021-08-20</td></tr>\n",
       "<tr><td>4</td><td>49891706470</td><td>48.89796461900801</td><td>ed11e477-b09f-4ae...</td><td>2021-08-20</td></tr>\n",
       "<tr><td>18482</td><td>46804135891</td><td>6.6168976971833615</td><td>05b5edb5-b925-414...</td><td>2021-08-20</td></tr>\n",
       "<tr><td>7</td><td>33064796871</td><td>373.0873675184212</td><td>fe188788-b89f-4dd...</td><td>2021-08-20</td></tr>\n",
       "<tr><td>18483</td><td>44160392990</td><td>83.98473054761176</td><td>7c44302d-98b3-48b...</td><td>2021-08-20</td></tr>\n",
       "<tr><td>7</td><td>68435002949</td><td>232.5364986739752</td><td>b4a89891-a113-45e...</td><td>2021-08-20</td></tr>\n",
       "<tr><td>18484</td><td>70033549200</td><td>871.7678061729196</td><td>4b1d941a-21a1-43e...</td><td>2021-08-20</td></tr>\n",
       "<tr><td>7</td><td>41944909975</td><td>30.910755230234322</td><td>302ae628-8eba-4a5...</td><td>2021-08-20</td></tr>\n",
       "<tr><td>18485</td><td>41705715409</td><td>309.5417224575787</td><td>67f4f98e-3149-4e8...</td><td>2021-08-20</td></tr>\n",
       "<tr><td>8</td><td>29566626791</td><td>74.15732460440282</td><td>71a81652-cc91-4bf...</td><td>2021-08-20</td></tr>\n",
       "<tr><td>18487</td><td>32361057556</td><td>119.19055863068847</td><td>15577921-1104-470...</td><td>2021-08-20</td></tr>\n",
       "<tr><td>9</td><td>47663262928</td><td>36.69873283148887</td><td>c4fcb49a-ce87-4e1...</td><td>2021-08-20</td></tr>\n",
       "</table>\n",
       "only showing top 20 rows\n"
      ],
      "text/plain": [
       "+-------+------------+------------------+--------------------+--------------+\n",
       "|user_id|merchant_abn|      dollar_value|            order_id|order_datetime|\n",
       "+-------+------------+------------------+--------------------+--------------+\n",
       "|  18478| 62191208634|63.255848959735246|949a63c8-29f7-4ab...|    2021-08-20|\n",
       "|      2| 15549624934| 130.3505283105634|6a84c3cf-612a-457...|    2021-08-20|\n",
       "|  18479| 64403598239|120.15860593212783|b10dcc33-e53f-425...|    2021-08-20|\n",
       "|      3| 60956456424| 136.6785200286976|0f09c5a5-784e-447...|    2021-08-20|\n",
       "|  18479| 94493496784| 72.96316578355305|f6c78c1a-4600-4c5...|    2021-08-20|\n",
       "|      3| 76819856970|  448.529684285612|5ace6a24-cdf0-4aa...|    2021-08-20|\n",
       "|  18479| 67609108741|  86.4040605836911|d0e180f0-cb06-42a...|    2021-08-20|\n",
       "|      3| 34096466752| 301.5793450525113|6fb1ff48-24bb-4f9...|    2021-08-20|\n",
       "|  18482| 70501974849| 68.75486276223054|8505fb33-b69a-412...|    2021-08-20|\n",
       "|      4| 49891706470| 48.89796461900801|ed11e477-b09f-4ae...|    2021-08-20|\n",
       "|  18482| 46804135891|6.6168976971833615|05b5edb5-b925-414...|    2021-08-20|\n",
       "|      7| 33064796871| 373.0873675184212|fe188788-b89f-4dd...|    2021-08-20|\n",
       "|  18483| 44160392990| 83.98473054761176|7c44302d-98b3-48b...|    2021-08-20|\n",
       "|      7| 68435002949| 232.5364986739752|b4a89891-a113-45e...|    2021-08-20|\n",
       "|  18484| 70033549200| 871.7678061729196|4b1d941a-21a1-43e...|    2021-08-20|\n",
       "|      7| 41944909975|30.910755230234322|302ae628-8eba-4a5...|    2021-08-20|\n",
       "|  18485| 41705715409| 309.5417224575787|67f4f98e-3149-4e8...|    2021-08-20|\n",
       "|      8| 29566626791| 74.15732460440282|71a81652-cc91-4bf...|    2021-08-20|\n",
       "|  18487| 32361057556|119.19055863068847|15577921-1104-470...|    2021-08-20|\n",
       "|      9| 47663262928| 36.69873283148887|c4fcb49a-ce87-4e1...|    2021-08-20|\n",
       "+-------+------------+------------------+--------------------+--------------+\n",
       "only showing top 20 rows"
      ]
     },
     "execution_count": 30,
     "metadata": {},
     "output_type": "execute_result"
    }
   ],
   "source": [
    "ori_transaction = spark.read.parquet('../data/tables/transactions_20210228_20210827_snapshot') #read the parquet \n",
    "ori_transaction"
   ]
  },
  {
   "cell_type": "code",
   "execution_count": 29,
   "metadata": {},
   "outputs": [
    {
     "data": {
      "text/html": [
       "<table border='1'>\n",
       "<tr><th>user_id</th><th>merchant_abn</th><th>dollar_value</th><th>order_id</th><th>order_datetime</th></tr>\n",
       "</table>\n"
      ],
      "text/plain": [
       "+-------+------------+------------+--------+--------------+\n",
       "|user_id|merchant_abn|dollar_value|order_id|order_datetime|\n",
       "+-------+------------+------------+--------+--------------+\n",
       "+-------+------------+------------+--------+--------------+"
      ]
     },
     "execution_count": 29,
     "metadata": {},
     "output_type": "execute_result"
    }
   ],
   "source": [
    "o = ori_transaction.filter(F.col('dollar_value').isNull())\n",
    "o\n"
   ]
  },
  {
   "cell_type": "code",
   "execution_count": 19,
   "metadata": {},
   "outputs": [
    {
     "data": {
      "text/html": [
       "<table border='1'>\n",
       "<tr><th>user_id</th><th>consumer_id</th></tr>\n",
       "<tr><td>1</td><td>1195503</td></tr>\n",
       "<tr><td>2</td><td>179208</td></tr>\n",
       "<tr><td>3</td><td>1194530</td></tr>\n",
       "<tr><td>4</td><td>154128</td></tr>\n",
       "<tr><td>5</td><td>712975</td></tr>\n",
       "<tr><td>6</td><td>407340</td></tr>\n",
       "<tr><td>7</td><td>511685</td></tr>\n",
       "<tr><td>8</td><td>448088</td></tr>\n",
       "<tr><td>9</td><td>650435</td></tr>\n",
       "<tr><td>10</td><td>1058499</td></tr>\n",
       "<tr><td>11</td><td>428325</td></tr>\n",
       "<tr><td>12</td><td>1494640</td></tr>\n",
       "<tr><td>13</td><td>1146717</td></tr>\n",
       "<tr><td>14</td><td>1343547</td></tr>\n",
       "<tr><td>15</td><td>1463076</td></tr>\n",
       "<tr><td>16</td><td>1356405</td></tr>\n",
       "<tr><td>17</td><td>1331093</td></tr>\n",
       "<tr><td>18</td><td>80965</td></tr>\n",
       "<tr><td>19</td><td>1226530</td></tr>\n",
       "<tr><td>20</td><td>1390367</td></tr>\n",
       "</table>\n",
       "only showing top 20 rows\n"
      ],
      "text/plain": [
       "+-------+-----------+\n",
       "|user_id|consumer_id|\n",
       "+-------+-----------+\n",
       "|      1|    1195503|\n",
       "|      2|     179208|\n",
       "|      3|    1194530|\n",
       "|      4|     154128|\n",
       "|      5|     712975|\n",
       "|      6|     407340|\n",
       "|      7|     511685|\n",
       "|      8|     448088|\n",
       "|      9|     650435|\n",
       "|     10|    1058499|\n",
       "|     11|     428325|\n",
       "|     12|    1494640|\n",
       "|     13|    1146717|\n",
       "|     14|    1343547|\n",
       "|     15|    1463076|\n",
       "|     16|    1356405|\n",
       "|     17|    1331093|\n",
       "|     18|      80965|\n",
       "|     19|    1226530|\n",
       "|     20|    1390367|\n",
       "+-------+-----------+\n",
       "only showing top 20 rows"
      ]
     },
     "execution_count": 19,
     "metadata": {},
     "output_type": "execute_result"
    }
   ],
   "source": [
    "consumer_detail = spark.read.parquet('../data/tables/consumer_user_details.parquet')\n",
    "consumer_detail"
   ]
  },
  {
   "cell_type": "code",
   "execution_count": 32,
   "metadata": {},
   "outputs": [
    {
     "name": "stdout",
     "output_type": "stream",
     "text": [
      "+-------+-----------+\n",
      "|user_id|consumer_id|\n",
      "+-------+-----------+\n",
      "+-------+-----------+\n",
      "\n",
      "+-------+-----------+\n",
      "|user_id|consumer_id|\n",
      "+-------+-----------+\n",
      "+-------+-----------+\n",
      "\n"
     ]
    }
   ],
   "source": [
    "c = consumer_detail.filter(F.col('consumer_id').isNull())\n",
    "u = consumer_detail.filter(F.col('user_id').isNull())\n",
    "c.show()\n",
    "u.show()"
   ]
  },
  {
   "cell_type": "code",
   "execution_count": 20,
   "metadata": {},
   "outputs": [
    {
     "data": {
      "text/html": [
       "<table border='1'>\n",
       "<tr><th>name</th><th>tags</th><th>merchant_abn</th></tr>\n",
       "<tr><td>Felis Limited</td><td>((furniture, home...</td><td>10023283211</td></tr>\n",
       "<tr><td>Arcu Ac Orci Corp...</td><td>([cable, satellit...</td><td>10142254217</td></tr>\n",
       "<tr><td>Nunc Sed Company</td><td>([jewelry, watch,...</td><td>10165489824</td></tr>\n",
       "<tr><td>Ultricies Digniss...</td><td>([wAtch, clock, a...</td><td>10187291046</td></tr>\n",
       "<tr><td>Enim Condimentum PC</td><td>([music shops - m...</td><td>10192359162</td></tr>\n",
       "<tr><td>Fusce Company</td><td>[(gift, card, nov...</td><td>10206519221</td></tr>\n",
       "<tr><td>Aliquam Enim Inco...</td><td>[(computers, comP...</td><td>10255988167</td></tr>\n",
       "<tr><td>Ipsum Primis Ltd</td><td>[[watch, clock, a...</td><td>10264435225</td></tr>\n",
       "<tr><td>Pede Ultrices Ind...</td><td>([computer progra...</td><td>10279061213</td></tr>\n",
       "<tr><td>Nunc Inc.</td><td>[(furniture, home...</td><td>10323485998</td></tr>\n",
       "<tr><td>Facilisis Facilis...</td><td>([computers, comp...</td><td>10342410215</td></tr>\n",
       "<tr><td>Odio Institute</td><td>((equipment, tool...</td><td>10346855916</td></tr>\n",
       "<tr><td>Rutrum Justo Ltd</td><td>([music shops - m...</td><td>10364012396</td></tr>\n",
       "<tr><td>Tellus Foundation</td><td>[[artist supply a...</td><td>10385011947</td></tr>\n",
       "<tr><td>Sed Et Company</td><td>([florists suppli...</td><td>10385163239</td></tr>\n",
       "<tr><td>Id Ltd</td><td>([computers, comp...</td><td>10385250025</td></tr>\n",
       "<tr><td>Consequat Foundation</td><td>[[antique shops -...</td><td>10404542215</td></tr>\n",
       "<tr><td>Sit Amet Nulla Corp.</td><td>[[motor vehicle s...</td><td>10430380319</td></tr>\n",
       "<tr><td>Massa Vestibulum ...</td><td>[(moTor vehicle s...</td><td>10441711491</td></tr>\n",
       "<tr><td>Ut Consulting</td><td>([gift, card, nov...</td><td>10462560289</td></tr>\n",
       "</table>\n",
       "only showing top 20 rows\n"
      ],
      "text/plain": [
       "+--------------------+--------------------+------------+\n",
       "|                name|                tags|merchant_abn|\n",
       "+--------------------+--------------------+------------+\n",
       "|       Felis Limited|((furniture, home...| 10023283211|\n",
       "|Arcu Ac Orci Corp...|([cable, satellit...| 10142254217|\n",
       "|    Nunc Sed Company|([jewelry, watch,...| 10165489824|\n",
       "|Ultricies Digniss...|([wAtch, clock, a...| 10187291046|\n",
       "| Enim Condimentum PC|([music shops - m...| 10192359162|\n",
       "|       Fusce Company|[(gift, card, nov...| 10206519221|\n",
       "|Aliquam Enim Inco...|[(computers, comP...| 10255988167|\n",
       "|    Ipsum Primis Ltd|[[watch, clock, a...| 10264435225|\n",
       "|Pede Ultrices Ind...|([computer progra...| 10279061213|\n",
       "|           Nunc Inc.|[(furniture, home...| 10323485998|\n",
       "|Facilisis Facilis...|([computers, comp...| 10342410215|\n",
       "|      Odio Institute|((equipment, tool...| 10346855916|\n",
       "|    Rutrum Justo Ltd|([music shops - m...| 10364012396|\n",
       "|   Tellus Foundation|[[artist supply a...| 10385011947|\n",
       "|      Sed Et Company|([florists suppli...| 10385163239|\n",
       "|              Id Ltd|([computers, comp...| 10385250025|\n",
       "|Consequat Foundation|[[antique shops -...| 10404542215|\n",
       "|Sit Amet Nulla Corp.|[[motor vehicle s...| 10430380319|\n",
       "|Massa Vestibulum ...|[(moTor vehicle s...| 10441711491|\n",
       "|       Ut Consulting|([gift, card, nov...| 10462560289|\n",
       "+--------------------+--------------------+------------+\n",
       "only showing top 20 rows"
      ]
     },
     "execution_count": 20,
     "metadata": {},
     "output_type": "execute_result"
    }
   ],
   "source": [
    "tbl_merchants = spark.read.parquet('../data/tables/tbl_merchants.parquet')\n",
    "tbl_merchants"
   ]
  },
  {
   "cell_type": "code",
   "execution_count": 37,
   "metadata": {},
   "outputs": [
    {
     "data": {
      "text/plain": [
       "499999"
      ]
     },
     "execution_count": 37,
     "metadata": {},
     "output_type": "execute_result"
    }
   ],
   "source": [
    "import pandas as pd\n",
    "tbl_consumer = spark.read.option(\"delimiter\", \"|\").option(\"header\",True).csv(\"../data/tables/tbl_consumer.csv\")\n",
    "tbl_consumer.count()"
   ]
  },
  {
   "cell_type": "code",
   "execution_count": 38,
   "metadata": {},
   "outputs": [
    {
     "data": {
      "text/plain": [
       "499999"
      ]
     },
     "execution_count": 38,
     "metadata": {},
     "output_type": "execute_result"
    }
   ],
   "source": [
    "n = tbl_consumer.na.drop(subset=[\"name\",\"address\",\"state\",\"postcode\",\"gender\",\"consumer_id\"])\n",
    "n.count()"
   ]
  },
  {
   "cell_type": "markdown",
   "metadata": {},
   "source": [
    "## Group by the user id and merchant abn, add average, sum and count columns"
   ]
  },
  {
   "cell_type": "code",
   "execution_count": 22,
   "metadata": {},
   "outputs": [
    {
     "data": {
      "text/html": [
       "<table border='1'>\n",
       "<tr><th>merchant_abn</th><th>avg</th><th>sum</th><th>count</th></tr>\n",
       "<tr><td>10023283211</td><td>208.7505944404296</td><td>172219.24041335442</td><td>825</td></tr>\n",
       "<tr><td>10142254217</td><td>40.03977013273878</td><td>30870.662772341602</td><td>771</td></tr>\n",
       "<tr><td>10187291046</td><td>110.32619101999413</td><td>9708.704809759483</td><td>88</td></tr>\n",
       "<tr><td>10192359162</td><td>451.1432080236007</td><td>48272.32325852528</td><td>107</td></tr>\n",
       "<tr><td>10206519221</td><td>38.234391654126554</td><td>92986.04050283578</td><td>2432</td></tr>\n",
       "<tr><td>10255988167</td><td>389.5552654520502</td><td>84923.04786854694</td><td>218</td></tr>\n",
       "<tr><td>10264435225</td><td>114.09004324213885</td><td>145464.80513372703</td><td>1275</td></tr>\n",
       "<tr><td>10279061213</td><td>312.3494031465133</td><td>40917.77181219324</td><td>131</td></tr>\n",
       "<tr><td>10323485998</td><td>128.96235067166586</td><td>339042.01991580956</td><td>2629</td></tr>\n",
       "<tr><td>10342410215</td><td>378.01697139409276</td><td>89968.03919179407</td><td>238</td></tr>\n",
       "<tr><td>10346855916</td><td>1331.0255719326199</td><td>6655.127859663099</td><td>5</td></tr>\n",
       "<tr><td>10364012396</td><td>276.08689369891994</td><td>1104.3475747956797</td><td>4</td></tr>\n",
       "<tr><td>10385011947</td><td>526.8134669489664</td><td>3160.8808016937983</td><td>6</td></tr>\n",
       "<tr><td>10385163239</td><td>350.08667638343934</td><td>5951.473498518469</td><td>17</td></tr>\n",
       "<tr><td>10385250025</td><td>473.0931821676329</td><td>87995.33188317972</td><td>186</td></tr>\n",
       "<tr><td>10430380319</td><td>359.1108847340083</td><td>13646.213619892316</td><td>38</td></tr>\n",
       "<tr><td>10441711491</td><td>9734.857620793187</td><td>9734.857620793187</td><td>1</td></tr>\n",
       "<tr><td>10462560289</td><td>37.018373656786224</td><td>15695.790430477358</td><td>424</td></tr>\n",
       "<tr><td>10463252268</td><td>464.0964976850653</td><td>10210.122949071436</td><td>22</td></tr>\n",
       "<tr><td>10487253336</td><td>448.0252025020113</td><td>285392.0539937812</td><td>637</td></tr>\n",
       "</table>\n",
       "only showing top 20 rows\n"
      ],
      "text/plain": [
       "+------------+------------------+------------------+-----+\n",
       "|merchant_abn|               avg|               sum|count|\n",
       "+------------+------------------+------------------+-----+\n",
       "| 10023283211| 208.7505944404296|172219.24041335442|  825|\n",
       "| 10142254217| 40.03977013273878|30870.662772341602|  771|\n",
       "| 10187291046|110.32619101999413| 9708.704809759483|   88|\n",
       "| 10192359162| 451.1432080236007| 48272.32325852528|  107|\n",
       "| 10206519221|38.234391654126554| 92986.04050283578| 2432|\n",
       "| 10255988167| 389.5552654520502| 84923.04786854694|  218|\n",
       "| 10264435225|114.09004324213885|145464.80513372703| 1275|\n",
       "| 10279061213| 312.3494031465133| 40917.77181219324|  131|\n",
       "| 10323485998|128.96235067166586|339042.01991580956| 2629|\n",
       "| 10342410215|378.01697139409276| 89968.03919179407|  238|\n",
       "| 10346855916|1331.0255719326199| 6655.127859663099|    5|\n",
       "| 10364012396|276.08689369891994|1104.3475747956797|    4|\n",
       "| 10385011947| 526.8134669489664|3160.8808016937983|    6|\n",
       "| 10385163239|350.08667638343934| 5951.473498518469|   17|\n",
       "| 10385250025| 473.0931821676329| 87995.33188317972|  186|\n",
       "| 10430380319| 359.1108847340083|13646.213619892316|   38|\n",
       "| 10441711491| 9734.857620793187| 9734.857620793187|    1|\n",
       "| 10462560289|37.018373656786224|15695.790430477358|  424|\n",
       "| 10463252268| 464.0964976850653|10210.122949071436|   22|\n",
       "| 10487253336| 448.0252025020113| 285392.0539937812|  637|\n",
       "+------------+------------------+------------------+-----+\n",
       "only showing top 20 rows"
      ]
     },
     "execution_count": 22,
     "metadata": {},
     "output_type": "execute_result"
    }
   ],
   "source": [
    "grouped_transaction = ori_transaction.groupBy('merchant_abn').agg(F.avg('dollar_value').alias('avg'), F.sum('dollar_value').alias('sum'), F.count('dollar_value').alias('count')).sort('merchant_abn')\n",
    "grouped_transaction.drop(F.col('order_id'))\n",
    "grouped_transaction"
   ]
  },
  {
   "cell_type": "code",
   "execution_count": 23,
   "metadata": {},
   "outputs": [
    {
     "data": {
      "text/html": [
       "<div>\n",
       "<style scoped>\n",
       "    .dataframe tbody tr th:only-of-type {\n",
       "        vertical-align: middle;\n",
       "    }\n",
       "\n",
       "    .dataframe tbody tr th {\n",
       "        vertical-align: top;\n",
       "    }\n",
       "\n",
       "    .dataframe thead th {\n",
       "        text-align: right;\n",
       "    }\n",
       "</style>\n",
       "<table border=\"1\" class=\"dataframe\">\n",
       "  <thead>\n",
       "    <tr style=\"text-align: right;\">\n",
       "      <th></th>\n",
       "      <th>merchant_abn</th>\n",
       "      <th>avg</th>\n",
       "      <th>sum</th>\n",
       "      <th>count</th>\n",
       "      <th>name</th>\n",
       "      <th>tags</th>\n",
       "    </tr>\n",
       "  </thead>\n",
       "  <tbody>\n",
       "    <tr>\n",
       "      <th>0</th>\n",
       "      <td>10023283211</td>\n",
       "      <td>208.750594</td>\n",
       "      <td>172219.240413</td>\n",
       "      <td>825</td>\n",
       "      <td>Felis Limited</td>\n",
       "      <td>((furniture, home furnishings and equipment sh...</td>\n",
       "    </tr>\n",
       "    <tr>\n",
       "      <th>1</th>\n",
       "      <td>10142254217</td>\n",
       "      <td>40.039770</td>\n",
       "      <td>30870.662772</td>\n",
       "      <td>771</td>\n",
       "      <td>Arcu Ac Orci Corporation</td>\n",
       "      <td>([cable, satellite, and otHer pay television a...</td>\n",
       "    </tr>\n",
       "    <tr>\n",
       "      <th>2</th>\n",
       "      <td>10187291046</td>\n",
       "      <td>110.326191</td>\n",
       "      <td>9708.704810</td>\n",
       "      <td>88</td>\n",
       "      <td>Ultricies Dignissim Lacus Foundation</td>\n",
       "      <td>([wAtch, clock, and jewelry repair shops], [b]...</td>\n",
       "    </tr>\n",
       "    <tr>\n",
       "      <th>3</th>\n",
       "      <td>10192359162</td>\n",
       "      <td>451.143208</td>\n",
       "      <td>48272.323259</td>\n",
       "      <td>107</td>\n",
       "      <td>Enim Condimentum PC</td>\n",
       "      <td>([music shops - musical instruments, pianos, a...</td>\n",
       "    </tr>\n",
       "    <tr>\n",
       "      <th>4</th>\n",
       "      <td>10206519221</td>\n",
       "      <td>38.234392</td>\n",
       "      <td>92986.040503</td>\n",
       "      <td>2432</td>\n",
       "      <td>Fusce Company</td>\n",
       "      <td>[(gift, card, novelty, and souvenir shops), (a...</td>\n",
       "    </tr>\n",
       "    <tr>\n",
       "      <th>...</th>\n",
       "      <td>...</td>\n",
       "      <td>...</td>\n",
       "      <td>...</td>\n",
       "      <td>...</td>\n",
       "      <td>...</td>\n",
       "      <td>...</td>\n",
       "    </tr>\n",
       "    <tr>\n",
       "      <th>3976</th>\n",
       "      <td>99938978285</td>\n",
       "      <td>30.029723</td>\n",
       "      <td>132971.614185</td>\n",
       "      <td>4428</td>\n",
       "      <td>Elit Dictum Eu Ltd</td>\n",
       "      <td>[(opticians, optical goods, and eyeglasses), (...</td>\n",
       "    </tr>\n",
       "    <tr>\n",
       "      <th>3977</th>\n",
       "      <td>99974311662</td>\n",
       "      <td>319.209608</td>\n",
       "      <td>10533.917066</td>\n",
       "      <td>33</td>\n",
       "      <td>Mollis LLP</td>\n",
       "      <td>((books, periodicals, and newspapers), (b), (t...</td>\n",
       "    </tr>\n",
       "    <tr>\n",
       "      <th>3978</th>\n",
       "      <td>99976658299</td>\n",
       "      <td>150.166184</td>\n",
       "      <td>907904.749365</td>\n",
       "      <td>6046</td>\n",
       "      <td>Sociosqu Corp.</td>\n",
       "      <td>((shoe  shops), (a), (take rate: 6.57))</td>\n",
       "    </tr>\n",
       "    <tr>\n",
       "      <th>3979</th>\n",
       "      <td>99987905597</td>\n",
       "      <td>353.519570</td>\n",
       "      <td>15908.380664</td>\n",
       "      <td>45</td>\n",
       "      <td>Commodo Hendrerit LLC</td>\n",
       "      <td>[[motor vehicle Supplies and new parts], [a], ...</td>\n",
       "    </tr>\n",
       "    <tr>\n",
       "      <th>3980</th>\n",
       "      <td>99990536339</td>\n",
       "      <td>1799.601053</td>\n",
       "      <td>17996.010526</td>\n",
       "      <td>10</td>\n",
       "      <td>Massa PC</td>\n",
       "      <td>[(motor vehicle supplies and new parts), (e), ...</td>\n",
       "    </tr>\n",
       "  </tbody>\n",
       "</table>\n",
       "<p>3981 rows × 6 columns</p>\n",
       "</div>"
      ],
      "text/plain": [
       "      merchant_abn          avg            sum  count  \\\n",
       "0      10023283211   208.750594  172219.240413    825   \n",
       "1      10142254217    40.039770   30870.662772    771   \n",
       "2      10187291046   110.326191    9708.704810     88   \n",
       "3      10192359162   451.143208   48272.323259    107   \n",
       "4      10206519221    38.234392   92986.040503   2432   \n",
       "...            ...          ...            ...    ...   \n",
       "3976   99938978285    30.029723  132971.614185   4428   \n",
       "3977   99974311662   319.209608   10533.917066     33   \n",
       "3978   99976658299   150.166184  907904.749365   6046   \n",
       "3979   99987905597   353.519570   15908.380664     45   \n",
       "3980   99990536339  1799.601053   17996.010526     10   \n",
       "\n",
       "                                      name  \\\n",
       "0                            Felis Limited   \n",
       "1                 Arcu Ac Orci Corporation   \n",
       "2     Ultricies Dignissim Lacus Foundation   \n",
       "3                      Enim Condimentum PC   \n",
       "4                            Fusce Company   \n",
       "...                                    ...   \n",
       "3976                    Elit Dictum Eu Ltd   \n",
       "3977                            Mollis LLP   \n",
       "3978                        Sociosqu Corp.   \n",
       "3979                 Commodo Hendrerit LLC   \n",
       "3980                              Massa PC   \n",
       "\n",
       "                                                   tags  \n",
       "0     ((furniture, home furnishings and equipment sh...  \n",
       "1     ([cable, satellite, and otHer pay television a...  \n",
       "2     ([wAtch, clock, and jewelry repair shops], [b]...  \n",
       "3     ([music shops - musical instruments, pianos, a...  \n",
       "4     [(gift, card, novelty, and souvenir shops), (a...  \n",
       "...                                                 ...  \n",
       "3976  [(opticians, optical goods, and eyeglasses), (...  \n",
       "3977  ((books, periodicals, and newspapers), (b), (t...  \n",
       "3978            ((shoe  shops), (a), (take rate: 6.57))  \n",
       "3979  [[motor vehicle Supplies and new parts], [a], ...  \n",
       "3980  [(motor vehicle supplies and new parts), (e), ...  \n",
       "\n",
       "[3981 rows x 6 columns]"
      ]
     },
     "execution_count": 23,
     "metadata": {},
     "output_type": "execute_result"
    }
   ],
   "source": [
    "grouped_transaction_pd = grouped_transaction.toPandas()\n",
    "tbl_merchants_pd = tbl_merchants.toPandas()\n",
    "merchant = pd.merge(grouped_transaction_pd, tbl_merchants_pd)\n",
    "merchant"
   ]
  },
  {
   "cell_type": "code",
   "execution_count": 24,
   "metadata": {},
   "outputs": [
    {
     "name": "stderr",
     "output_type": "stream",
     "text": [
      "/var/folders/4w/p31d1t_x5pqbppcsm7p9kxt00000gn/T/ipykernel_52229/3340515154.py:2: SettingWithCopyWarning: \n",
      "A value is trying to be set on a copy of a slice from a DataFrame\n",
      "\n",
      "See the caveats in the documentation: https://pandas.pydata.org/pandas-docs/stable/user_guide/indexing.html#returning-a-view-versus-a-copy\n",
      "  merchant['tags'].iloc[i] = merchant['tags'].iloc[i].replace(r'[', r'(').replace(r']', r')')\n"
     ]
    }
   ],
   "source": [
    "for i in range(int(merchant['tags'].count())):\n",
    "    merchant['tags'].iloc[i] = merchant['tags'].iloc[i].replace(r'[', r'(').replace(r']', r')')\n"
   ]
  },
  {
   "cell_type": "code",
   "execution_count": 25,
   "metadata": {},
   "outputs": [],
   "source": [
    "#merchant['tags'].str.split(pat, n=-1, expand=False)\n",
    "# to split into multiple columns by delimiter\n",
    "merchant_tags = merchant['tags'].str.split(')', expand=True)"
   ]
  },
  {
   "cell_type": "code",
   "execution_count": 26,
   "metadata": {},
   "outputs": [],
   "source": [
    "for row in range(int(len(merchant_tags))):\n",
    "    for col in range(3):\n",
    "        merchant_tags.iloc[row,col] = merchant_tags.iloc[row,col].replace(r'((', r'').replace(r', (', r'').replace(r'take rate:', r'')\n",
    "merchant_tags.rename(columns = {0 : 'Store type', 1 : 'Revenue levels', 2 : 'Take rate'}, inplace = True)\n",
    "merchant_tags = merchant_tags[['Store type', 'Revenue levels', 'Take rate']]"
   ]
  },
  {
   "cell_type": "code",
   "execution_count": 27,
   "metadata": {},
   "outputs": [
    {
     "data": {
      "text/html": [
       "<div>\n",
       "<style scoped>\n",
       "    .dataframe tbody tr th:only-of-type {\n",
       "        vertical-align: middle;\n",
       "    }\n",
       "\n",
       "    .dataframe tbody tr th {\n",
       "        vertical-align: top;\n",
       "    }\n",
       "\n",
       "    .dataframe thead th {\n",
       "        text-align: right;\n",
       "    }\n",
       "</style>\n",
       "<table border=\"1\" class=\"dataframe\">\n",
       "  <thead>\n",
       "    <tr style=\"text-align: right;\">\n",
       "      <th></th>\n",
       "      <th>merchant_abn</th>\n",
       "      <th>avg</th>\n",
       "      <th>sum</th>\n",
       "      <th>count</th>\n",
       "      <th>name</th>\n",
       "      <th>Store type</th>\n",
       "      <th>Revenue levels</th>\n",
       "      <th>Take rate</th>\n",
       "    </tr>\n",
       "  </thead>\n",
       "  <tbody>\n",
       "    <tr>\n",
       "      <th>0</th>\n",
       "      <td>10023283211</td>\n",
       "      <td>208.750594</td>\n",
       "      <td>172219.240413</td>\n",
       "      <td>825</td>\n",
       "      <td>Felis Limited</td>\n",
       "      <td>furniture, home furnishings and equipment shop...</td>\n",
       "      <td>e</td>\n",
       "      <td>0.18</td>\n",
       "    </tr>\n",
       "    <tr>\n",
       "      <th>1</th>\n",
       "      <td>10142254217</td>\n",
       "      <td>40.039770</td>\n",
       "      <td>30870.662772</td>\n",
       "      <td>771</td>\n",
       "      <td>Arcu Ac Orci Corporation</td>\n",
       "      <td>cable, satellite, and otHer pay television and...</td>\n",
       "      <td>b</td>\n",
       "      <td>4.22</td>\n",
       "    </tr>\n",
       "    <tr>\n",
       "      <th>2</th>\n",
       "      <td>10187291046</td>\n",
       "      <td>110.326191</td>\n",
       "      <td>9708.704810</td>\n",
       "      <td>88</td>\n",
       "      <td>Ultricies Dignissim Lacus Foundation</td>\n",
       "      <td>wAtch, clock, and jewelry repair shops</td>\n",
       "      <td>b</td>\n",
       "      <td>3.29</td>\n",
       "    </tr>\n",
       "    <tr>\n",
       "      <th>3</th>\n",
       "      <td>10192359162</td>\n",
       "      <td>451.143208</td>\n",
       "      <td>48272.323259</td>\n",
       "      <td>107</td>\n",
       "      <td>Enim Condimentum PC</td>\n",
       "      <td>music shops - musical instruments, pianos, and...</td>\n",
       "      <td>a</td>\n",
       "      <td>6.33</td>\n",
       "    </tr>\n",
       "    <tr>\n",
       "      <th>4</th>\n",
       "      <td>10206519221</td>\n",
       "      <td>38.234392</td>\n",
       "      <td>92986.040503</td>\n",
       "      <td>2432</td>\n",
       "      <td>Fusce Company</td>\n",
       "      <td>gift, card, novelty, and souvenir shops</td>\n",
       "      <td>a</td>\n",
       "      <td>6.34</td>\n",
       "    </tr>\n",
       "    <tr>\n",
       "      <th>...</th>\n",
       "      <td>...</td>\n",
       "      <td>...</td>\n",
       "      <td>...</td>\n",
       "      <td>...</td>\n",
       "      <td>...</td>\n",
       "      <td>...</td>\n",
       "      <td>...</td>\n",
       "      <td>...</td>\n",
       "    </tr>\n",
       "    <tr>\n",
       "      <th>3976</th>\n",
       "      <td>99938978285</td>\n",
       "      <td>30.029723</td>\n",
       "      <td>132971.614185</td>\n",
       "      <td>4428</td>\n",
       "      <td>Elit Dictum Eu Ltd</td>\n",
       "      <td>opticians, optical goods, and eyeglasses</td>\n",
       "      <td>b</td>\n",
       "      <td>4.50</td>\n",
       "    </tr>\n",
       "    <tr>\n",
       "      <th>3977</th>\n",
       "      <td>99974311662</td>\n",
       "      <td>319.209608</td>\n",
       "      <td>10533.917066</td>\n",
       "      <td>33</td>\n",
       "      <td>Mollis LLP</td>\n",
       "      <td>books, periodicals, and newspapers</td>\n",
       "      <td>b</td>\n",
       "      <td>3.17</td>\n",
       "    </tr>\n",
       "    <tr>\n",
       "      <th>3978</th>\n",
       "      <td>99976658299</td>\n",
       "      <td>150.166184</td>\n",
       "      <td>907904.749365</td>\n",
       "      <td>6046</td>\n",
       "      <td>Sociosqu Corp.</td>\n",
       "      <td>shoe  shops</td>\n",
       "      <td>a</td>\n",
       "      <td>6.57</td>\n",
       "    </tr>\n",
       "    <tr>\n",
       "      <th>3979</th>\n",
       "      <td>99987905597</td>\n",
       "      <td>353.519570</td>\n",
       "      <td>15908.380664</td>\n",
       "      <td>45</td>\n",
       "      <td>Commodo Hendrerit LLC</td>\n",
       "      <td>motor vehicle Supplies and new parts</td>\n",
       "      <td>a</td>\n",
       "      <td>6.82</td>\n",
       "    </tr>\n",
       "    <tr>\n",
       "      <th>3980</th>\n",
       "      <td>99990536339</td>\n",
       "      <td>1799.601053</td>\n",
       "      <td>17996.010526</td>\n",
       "      <td>10</td>\n",
       "      <td>Massa PC</td>\n",
       "      <td>motor vehicle supplies and new parts</td>\n",
       "      <td>e</td>\n",
       "      <td>0.18</td>\n",
       "    </tr>\n",
       "  </tbody>\n",
       "</table>\n",
       "<p>3981 rows × 8 columns</p>\n",
       "</div>"
      ],
      "text/plain": [
       "      merchant_abn          avg            sum  count  \\\n",
       "0      10023283211   208.750594  172219.240413    825   \n",
       "1      10142254217    40.039770   30870.662772    771   \n",
       "2      10187291046   110.326191    9708.704810     88   \n",
       "3      10192359162   451.143208   48272.323259    107   \n",
       "4      10206519221    38.234392   92986.040503   2432   \n",
       "...            ...          ...            ...    ...   \n",
       "3976   99938978285    30.029723  132971.614185   4428   \n",
       "3977   99974311662   319.209608   10533.917066     33   \n",
       "3978   99976658299   150.166184  907904.749365   6046   \n",
       "3979   99987905597   353.519570   15908.380664     45   \n",
       "3980   99990536339  1799.601053   17996.010526     10   \n",
       "\n",
       "                                      name  \\\n",
       "0                            Felis Limited   \n",
       "1                 Arcu Ac Orci Corporation   \n",
       "2     Ultricies Dignissim Lacus Foundation   \n",
       "3                      Enim Condimentum PC   \n",
       "4                            Fusce Company   \n",
       "...                                    ...   \n",
       "3976                    Elit Dictum Eu Ltd   \n",
       "3977                            Mollis LLP   \n",
       "3978                        Sociosqu Corp.   \n",
       "3979                 Commodo Hendrerit LLC   \n",
       "3980                              Massa PC   \n",
       "\n",
       "                                             Store type Revenue levels  \\\n",
       "0     furniture, home furnishings and equipment shop...              e   \n",
       "1     cable, satellite, and otHer pay television and...              b   \n",
       "2                wAtch, clock, and jewelry repair shops              b   \n",
       "3     music shops - musical instruments, pianos, and...              a   \n",
       "4               gift, card, novelty, and souvenir shops              a   \n",
       "...                                                 ...            ...   \n",
       "3976           opticians, optical goods, and eyeglasses              b   \n",
       "3977                 books, periodicals, and newspapers              b   \n",
       "3978                                        shoe  shops              a   \n",
       "3979               motor vehicle Supplies and new parts              a   \n",
       "3980               motor vehicle supplies and new parts              e   \n",
       "\n",
       "     Take rate  \n",
       "0         0.18  \n",
       "1         4.22  \n",
       "2         3.29  \n",
       "3         6.33  \n",
       "4         6.34  \n",
       "...        ...  \n",
       "3976      4.50  \n",
       "3977      3.17  \n",
       "3978      6.57  \n",
       "3979      6.82  \n",
       "3980      0.18  \n",
       "\n",
       "[3981 rows x 8 columns]"
      ]
     },
     "execution_count": 27,
     "metadata": {},
     "output_type": "execute_result"
    }
   ],
   "source": [
    "merchant[['Store type', 'Revenue levels', 'Take rate']] = merchant_tags[['Store type', 'Revenue levels', 'Take rate']]\n",
    "merchant.drop(columns=['tags'])"
   ]
  },
  {
   "cell_type": "code",
   "execution_count": 28,
   "metadata": {},
   "outputs": [
    {
     "ename": "SyntaxError",
     "evalue": "unexpected EOF while parsing (119740809.py, line 1)",
     "output_type": "error",
     "traceback": [
      "\u001b[0;36m  Input \u001b[0;32mIn [28]\u001b[0;36m\u001b[0m\n\u001b[0;31m    merchant.filter(F.col('avg').isNull()\u001b[0m\n\u001b[0m                                         ^\u001b[0m\n\u001b[0;31mSyntaxError\u001b[0m\u001b[0;31m:\u001b[0m unexpected EOF while parsing\n"
     ]
    }
   ],
   "source": [
    "merchant.filter(F.col('avg').isNull()"
   ]
  },
  {
   "cell_type": "code",
   "execution_count": null,
   "metadata": {},
   "outputs": [],
   "source": []
  }
 ],
 "metadata": {
  "kernelspec": {
   "display_name": "Python 3.8.13 ('ads')",
   "language": "python",
   "name": "python3"
  },
  "language_info": {
   "codemirror_mode": {
    "name": "ipython",
    "version": 3
   },
   "file_extension": ".py",
   "mimetype": "text/x-python",
   "name": "python",
   "nbconvert_exporter": "python",
   "pygments_lexer": "ipython3",
   "version": "3.8.13"
  },
  "vscode": {
   "interpreter": {
    "hash": "6e45bdfcba1031802b2f7a315f02d536e51553942a60e4ee4be74aec82814bfa"
   }
  }
 },
 "nbformat": 4,
 "nbformat_minor": 4
}
