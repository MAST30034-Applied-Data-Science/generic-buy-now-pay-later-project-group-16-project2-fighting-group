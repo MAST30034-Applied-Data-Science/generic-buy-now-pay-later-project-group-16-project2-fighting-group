{
 "cells": [
  {
   "cell_type": "code",
   "execution_count": 1,
   "metadata": {},
   "outputs": [
    {
     "name": "stdout",
     "output_type": "stream",
     "text": [
      "22/09/09 16:54:26 WARN Utils: Your hostname, hexiangyideMacBook-Pro.local resolves to a loopback address: 127.0.0.1; using 10.13.178.156 instead (on interface en0)\n",
      "22/09/09 16:54:26 WARN Utils: Set SPARK_LOCAL_IP if you need to bind to another address\n"
     ]
    },
    {
     "name": "stderr",
     "output_type": "stream",
     "text": [
      "Setting default log level to \"WARN\".\n",
      "To adjust logging level use sc.setLogLevel(newLevel). For SparkR, use setLogLevel(newLevel).\n"
     ]
    },
    {
     "name": "stdout",
     "output_type": "stream",
     "text": [
      "22/09/09 16:54:26 WARN NativeCodeLoader: Unable to load native-hadoop library for your platform... using builtin-java classes where applicable\n"
     ]
    }
   ],
   "source": [
    "from pyspark.sql import SparkSession\n",
    "from pyspark.sql import functions as F\n",
    "# Create a spark session (which will run spark jobs)\n",
    "spark = (\n",
    "    SparkSession.builder.appName(\"MAST30034 Tutorial 1\")\n",
    "    .config(\"spark.sql.repl.eagerEval.enabled\", True) \n",
    "    .config(\"spark.sql.parquet.cacheMetadata\", \"true\")\n",
    "    .config(\"spark.sql.session.timeZone\", \"Etc/UTC\")\n",
    "    .getOrCreate()\n",
    ")"
   ]
  },
  {
   "cell_type": "code",
   "execution_count": 2,
   "metadata": {},
   "outputs": [
    {
     "name": "stderr",
     "output_type": "stream",
     "text": [
      "                                                                                \r"
     ]
    }
   ],
   "source": [
    "census_04A_age = spark.read.parquet('../data/curated/census_data_2021_04A.parquet')\n",
    "census_04B_age = spark.read.parquet('../data/curated/census_data_2021_04B.parquet')\n",
    "census_17A_income = spark.read.parquet('../data/curated/census_data_2021_17A.parquet')\n",
    "census_17B_income = spark.read.parquet('../data/curated/census_data_2021_17B.parquet')\n",
    "census_17C_income = spark.read.parquet('../data/curated/census_data_2021_17C.parquet')\n",
    "correspondences = spark.read.parquet('../data/curated/correspondences.parquet')\n",
    "postcode = spark.read.parquet('../data/curated/postcode_SA2.parquet/')\n"
   ]
  },
  {
   "cell_type": "code",
   "execution_count": 3,
   "metadata": {},
   "outputs": [],
   "source": [
    "#Merge the age dataframe\n",
    "Age_Data = census_04A_age.join(census_04B_age).drop(census_04B_age.SA2_CODE_2021)"
   ]
  },
  {
   "cell_type": "code",
   "execution_count": 4,
   "metadata": {},
   "outputs": [],
   "source": [
    "#Select the column in the age dataframe (18-65)\n",
    "Age_Data_select = Age_Data.select(Age_Data.columns[0::18])\n",
    "#Age_Data_select = Age_Data_select.select(Age_Data_select.columns[5:14])\n"
   ]
  },
  {
   "cell_type": "code",
   "execution_count": 5,
   "metadata": {},
   "outputs": [
    {
     "data": {
      "text/html": [
       "<table border='1'>\n",
       "<tr><th>SA2_CODE_2021</th><th>Age_yr_0_4_P</th><th>Age_yr_5_9_P</th><th>Age_yr_10_14_P</th><th>Age_yr_15_19_P</th><th>Age_yr_20_24_P</th><th>Age_yr_25_29_P</th><th>Age_yr_30_34_P</th><th>Age_yr_35_39_P</th><th>Age_yr_40_44_P</th><th>Age_yr_45_49_P</th><th>Age_yr_50_54_P</th><th>Age_yr_55_59_P</th><th>Age_yr_60_64_P</th><th>Age_yr_65_69_P</th><th>Age_yr_70_74_P</th><th>Age_yr_75_79_P</th><th>Tot_P</th></tr>\n",
       "<tr><td>101021007</td><td>207</td><td>254</td><td>229</td><td>173</td><td>122</td><td>172</td><td>192</td><td>246</td><td>202</td><td>291</td><td>351</td><td>353</td><td>435</td><td>338</td><td>302</td><td>249</td><td>4343</td></tr>\n",
       "<tr><td>101021007</td><td>207</td><td>254</td><td>229</td><td>173</td><td>122</td><td>172</td><td>192</td><td>246</td><td>202</td><td>291</td><td>351</td><td>580</td><td>513</td><td>429</td><td>325</td><td>227</td><td>8517</td></tr>\n",
       "<tr><td>101021007</td><td>207</td><td>254</td><td>229</td><td>173</td><td>122</td><td>172</td><td>192</td><td>246</td><td>202</td><td>291</td><td>351</td><td>674</td><td>587</td><td>509</td><td>418</td><td>286</td><td>11342</td></tr>\n",
       "<tr><td>101021007</td><td>207</td><td>254</td><td>229</td><td>173</td><td>122</td><td>172</td><td>192</td><td>246</td><td>202</td><td>291</td><td>351</td><td>323</td><td>296</td><td>216</td><td>168</td><td>126</td><td>5085</td></tr>\n",
       "<tr><td>101021007</td><td>207</td><td>254</td><td>229</td><td>173</td><td>122</td><td>172</td><td>192</td><td>246</td><td>202</td><td>291</td><td>351</td><td>1006</td><td>663</td><td>452</td><td>366</td><td>196</td><td>12744</td></tr>\n",
       "<tr><td>101021007</td><td>207</td><td>254</td><td>229</td><td>173</td><td>122</td><td>172</td><td>192</td><td>246</td><td>202</td><td>291</td><td>351</td><td>182</td><td>108</td><td>100</td><td>63</td><td>33</td><td>6224</td></tr>\n",
       "<tr><td>101021007</td><td>207</td><td>254</td><td>229</td><td>173</td><td>122</td><td>172</td><td>192</td><td>246</td><td>202</td><td>291</td><td>351</td><td>1350</td><td>1206</td><td>947</td><td>804</td><td>441</td><td>16539</td></tr>\n",
       "<tr><td>101021007</td><td>207</td><td>254</td><td>229</td><td>173</td><td>122</td><td>172</td><td>192</td><td>246</td><td>202</td><td>291</td><td>351</td><td>175</td><td>215</td><td>207</td><td>178</td><td>122</td><td>2454</td></tr>\n",
       "<tr><td>101021007</td><td>207</td><td>254</td><td>229</td><td>173</td><td>122</td><td>172</td><td>192</td><td>246</td><td>202</td><td>291</td><td>351</td><td>469</td><td>478</td><td>365</td><td>399</td><td>308</td><td>6761</td></tr>\n",
       "<tr><td>101021007</td><td>207</td><td>254</td><td>229</td><td>173</td><td>122</td><td>172</td><td>192</td><td>246</td><td>202</td><td>291</td><td>351</td><td>307</td><td>327</td><td>264</td><td>212</td><td>170</td><td>3472</td></tr>\n",
       "<tr><td>101021007</td><td>207</td><td>254</td><td>229</td><td>173</td><td>122</td><td>172</td><td>192</td><td>246</td><td>202</td><td>291</td><td>351</td><td>547</td><td>525</td><td>391</td><td>346</td><td>184</td><td>8035</td></tr>\n",
       "<tr><td>101021007</td><td>207</td><td>254</td><td>229</td><td>173</td><td>122</td><td>172</td><td>192</td><td>246</td><td>202</td><td>291</td><td>351</td><td>581</td><td>740</td><td>729</td><td>752</td><td>498</td><td>8581</td></tr>\n",
       "<tr><td>101021007</td><td>207</td><td>254</td><td>229</td><td>173</td><td>122</td><td>172</td><td>192</td><td>246</td><td>202</td><td>291</td><td>351</td><td>634</td><td>798</td><td>840</td><td>857</td><td>613</td><td>8938</td></tr>\n",
       "<tr><td>101021007</td><td>207</td><td>254</td><td>229</td><td>173</td><td>122</td><td>172</td><td>192</td><td>246</td><td>202</td><td>291</td><td>351</td><td>666</td><td>746</td><td>638</td><td>538</td><td>432</td><td>8872</td></tr>\n",
       "<tr><td>101021007</td><td>207</td><td>254</td><td>229</td><td>173</td><td>122</td><td>172</td><td>192</td><td>246</td><td>202</td><td>291</td><td>351</td><td>924</td><td>1075</td><td>944</td><td>694</td><td>338</td><td>9557</td></tr>\n",
       "<tr><td>101021007</td><td>207</td><td>254</td><td>229</td><td>173</td><td>122</td><td>172</td><td>192</td><td>246</td><td>202</td><td>291</td><td>351</td><td>284</td><td>323</td><td>353</td><td>300</td><td>192</td><td>3792</td></tr>\n",
       "<tr><td>101021007</td><td>207</td><td>254</td><td>229</td><td>173</td><td>122</td><td>172</td><td>192</td><td>246</td><td>202</td><td>291</td><td>351</td><td>11</td><td>0</td><td>13</td><td>4</td><td>3</td><td>43</td></tr>\n",
       "<tr><td>101021007</td><td>207</td><td>254</td><td>229</td><td>173</td><td>122</td><td>172</td><td>192</td><td>246</td><td>202</td><td>291</td><td>351</td><td>243</td><td>302</td><td>319</td><td>315</td><td>188</td><td>3425</td></tr>\n",
       "<tr><td>101021007</td><td>207</td><td>254</td><td>229</td><td>173</td><td>122</td><td>172</td><td>192</td><td>246</td><td>202</td><td>291</td><td>351</td><td>360</td><td>330</td><td>334</td><td>333</td><td>179</td><td>3525</td></tr>\n",
       "<tr><td>101021007</td><td>207</td><td>254</td><td>229</td><td>173</td><td>122</td><td>172</td><td>192</td><td>246</td><td>202</td><td>291</td><td>351</td><td>814</td><td>1062</td><td>1085</td><td>1064</td><td>737</td><td>11513</td></tr>\n",
       "</table>\n",
       "only showing top 20 rows\n"
      ],
      "text/plain": [
       "+-------------+------------+------------+--------------+--------------+--------------+--------------+--------------+--------------+--------------+--------------+--------------+--------------+--------------+--------------+--------------+--------------+-----+\n",
       "|SA2_CODE_2021|Age_yr_0_4_P|Age_yr_5_9_P|Age_yr_10_14_P|Age_yr_15_19_P|Age_yr_20_24_P|Age_yr_25_29_P|Age_yr_30_34_P|Age_yr_35_39_P|Age_yr_40_44_P|Age_yr_45_49_P|Age_yr_50_54_P|Age_yr_55_59_P|Age_yr_60_64_P|Age_yr_65_69_P|Age_yr_70_74_P|Age_yr_75_79_P|Tot_P|\n",
       "+-------------+------------+------------+--------------+--------------+--------------+--------------+--------------+--------------+--------------+--------------+--------------+--------------+--------------+--------------+--------------+--------------+-----+\n",
       "|    101021007|         207|         254|           229|           173|           122|           172|           192|           246|           202|           291|           351|           353|           435|           338|           302|           249| 4343|\n",
       "|    101021007|         207|         254|           229|           173|           122|           172|           192|           246|           202|           291|           351|           580|           513|           429|           325|           227| 8517|\n",
       "|    101021007|         207|         254|           229|           173|           122|           172|           192|           246|           202|           291|           351|           674|           587|           509|           418|           286|11342|\n",
       "|    101021007|         207|         254|           229|           173|           122|           172|           192|           246|           202|           291|           351|           323|           296|           216|           168|           126| 5085|\n",
       "|    101021007|         207|         254|           229|           173|           122|           172|           192|           246|           202|           291|           351|          1006|           663|           452|           366|           196|12744|\n",
       "|    101021007|         207|         254|           229|           173|           122|           172|           192|           246|           202|           291|           351|           182|           108|           100|            63|            33| 6224|\n",
       "|    101021007|         207|         254|           229|           173|           122|           172|           192|           246|           202|           291|           351|          1350|          1206|           947|           804|           441|16539|\n",
       "|    101021007|         207|         254|           229|           173|           122|           172|           192|           246|           202|           291|           351|           175|           215|           207|           178|           122| 2454|\n",
       "|    101021007|         207|         254|           229|           173|           122|           172|           192|           246|           202|           291|           351|           469|           478|           365|           399|           308| 6761|\n",
       "|    101021007|         207|         254|           229|           173|           122|           172|           192|           246|           202|           291|           351|           307|           327|           264|           212|           170| 3472|\n",
       "|    101021007|         207|         254|           229|           173|           122|           172|           192|           246|           202|           291|           351|           547|           525|           391|           346|           184| 8035|\n",
       "|    101021007|         207|         254|           229|           173|           122|           172|           192|           246|           202|           291|           351|           581|           740|           729|           752|           498| 8581|\n",
       "|    101021007|         207|         254|           229|           173|           122|           172|           192|           246|           202|           291|           351|           634|           798|           840|           857|           613| 8938|\n",
       "|    101021007|         207|         254|           229|           173|           122|           172|           192|           246|           202|           291|           351|           666|           746|           638|           538|           432| 8872|\n",
       "|    101021007|         207|         254|           229|           173|           122|           172|           192|           246|           202|           291|           351|           924|          1075|           944|           694|           338| 9557|\n",
       "|    101021007|         207|         254|           229|           173|           122|           172|           192|           246|           202|           291|           351|           284|           323|           353|           300|           192| 3792|\n",
       "|    101021007|         207|         254|           229|           173|           122|           172|           192|           246|           202|           291|           351|            11|             0|            13|             4|             3|   43|\n",
       "|    101021007|         207|         254|           229|           173|           122|           172|           192|           246|           202|           291|           351|           243|           302|           319|           315|           188| 3425|\n",
       "|    101021007|         207|         254|           229|           173|           122|           172|           192|           246|           202|           291|           351|           360|           330|           334|           333|           179| 3525|\n",
       "|    101021007|         207|         254|           229|           173|           122|           172|           192|           246|           202|           291|           351|           814|          1062|          1085|          1064|           737|11513|\n",
       "+-------------+------------+------------+--------------+--------------+--------------+--------------+--------------+--------------+--------------+--------------+--------------+--------------+--------------+--------------+--------------+--------------+-----+\n",
       "only showing top 20 rows"
      ]
     },
     "execution_count": 5,
     "metadata": {},
     "output_type": "execute_result"
    }
   ],
   "source": [
    "# add all column together\n",
    "Age_Data_select"
   ]
  },
  {
   "cell_type": "code",
   "execution_count": 6,
   "metadata": {},
   "outputs": [],
   "source": [
    "from functools import reduce\n",
    "from operator import add\n",
    "from pyspark.sql.functions import col\n",
    "\n",
    "Age_Data_total = Age_Data_select.withColumn(\"result\", sum([col(x) for x in Age_Data_select.columns[5:14]]))"
   ]
  },
  {
   "cell_type": "code",
   "execution_count": 7,
   "metadata": {},
   "outputs": [
    {
     "data": {
      "text/html": [
       "<table border='1'>\n",
       "<tr><th>SA2_CODE_2021</th><th>Age_yr_0_4_P</th><th>Age_yr_5_9_P</th><th>Age_yr_10_14_P</th><th>Age_yr_15_19_P</th><th>Age_yr_20_24_P</th><th>Age_yr_25_29_P</th><th>Age_yr_30_34_P</th><th>Age_yr_35_39_P</th><th>Age_yr_40_44_P</th><th>Age_yr_45_49_P</th><th>Age_yr_50_54_P</th><th>Age_yr_55_59_P</th><th>Age_yr_60_64_P</th><th>Age_yr_65_69_P</th><th>Age_yr_70_74_P</th><th>Age_yr_75_79_P</th><th>Tot_P</th><th>result</th></tr>\n",
       "<tr><td>101021007</td><td>207</td><td>254</td><td>229</td><td>173</td><td>122</td><td>172</td><td>192</td><td>246</td><td>202</td><td>291</td><td>351</td><td>353</td><td>435</td><td>338</td><td>302</td><td>249</td><td>4343</td><td>2364.0</td></tr>\n",
       "<tr><td>101021007</td><td>207</td><td>254</td><td>229</td><td>173</td><td>122</td><td>172</td><td>192</td><td>246</td><td>202</td><td>291</td><td>351</td><td>580</td><td>513</td><td>429</td><td>325</td><td>227</td><td>8517</td><td>2669.0</td></tr>\n",
       "<tr><td>101021007</td><td>207</td><td>254</td><td>229</td><td>173</td><td>122</td><td>172</td><td>192</td><td>246</td><td>202</td><td>291</td><td>351</td><td>674</td><td>587</td><td>509</td><td>418</td><td>286</td><td>11342</td><td>2837.0</td></tr>\n",
       "<tr><td>101021007</td><td>207</td><td>254</td><td>229</td><td>173</td><td>122</td><td>172</td><td>192</td><td>246</td><td>202</td><td>291</td><td>351</td><td>323</td><td>296</td><td>216</td><td>168</td><td>126</td><td>5085</td><td>2195.0</td></tr>\n",
       "<tr><td>101021007</td><td>207</td><td>254</td><td>229</td><td>173</td><td>122</td><td>172</td><td>192</td><td>246</td><td>202</td><td>291</td><td>351</td><td>1006</td><td>663</td><td>452</td><td>366</td><td>196</td><td>12744</td><td>3245.0</td></tr>\n",
       "<tr><td>101021007</td><td>207</td><td>254</td><td>229</td><td>173</td><td>122</td><td>172</td><td>192</td><td>246</td><td>202</td><td>291</td><td>351</td><td>182</td><td>108</td><td>100</td><td>63</td><td>33</td><td>6224</td><td>1866.0</td></tr>\n",
       "<tr><td>101021007</td><td>207</td><td>254</td><td>229</td><td>173</td><td>122</td><td>172</td><td>192</td><td>246</td><td>202</td><td>291</td><td>351</td><td>1350</td><td>1206</td><td>947</td><td>804</td><td>441</td><td>16539</td><td>4132.0</td></tr>\n",
       "<tr><td>101021007</td><td>207</td><td>254</td><td>229</td><td>173</td><td>122</td><td>172</td><td>192</td><td>246</td><td>202</td><td>291</td><td>351</td><td>175</td><td>215</td><td>207</td><td>178</td><td>122</td><td>2454</td><td>1966.0</td></tr>\n",
       "<tr><td>101021007</td><td>207</td><td>254</td><td>229</td><td>173</td><td>122</td><td>172</td><td>192</td><td>246</td><td>202</td><td>291</td><td>351</td><td>469</td><td>478</td><td>365</td><td>399</td><td>308</td><td>6761</td><td>2523.0</td></tr>\n",
       "<tr><td>101021007</td><td>207</td><td>254</td><td>229</td><td>173</td><td>122</td><td>172</td><td>192</td><td>246</td><td>202</td><td>291</td><td>351</td><td>307</td><td>327</td><td>264</td><td>212</td><td>170</td><td>3472</td><td>2210.0</td></tr>\n",
       "<tr><td>101021007</td><td>207</td><td>254</td><td>229</td><td>173</td><td>122</td><td>172</td><td>192</td><td>246</td><td>202</td><td>291</td><td>351</td><td>547</td><td>525</td><td>391</td><td>346</td><td>184</td><td>8035</td><td>2648.0</td></tr>\n",
       "<tr><td>101021007</td><td>207</td><td>254</td><td>229</td><td>173</td><td>122</td><td>172</td><td>192</td><td>246</td><td>202</td><td>291</td><td>351</td><td>581</td><td>740</td><td>729</td><td>752</td><td>498</td><td>8581</td><td>2897.0</td></tr>\n",
       "<tr><td>101021007</td><td>207</td><td>254</td><td>229</td><td>173</td><td>122</td><td>172</td><td>192</td><td>246</td><td>202</td><td>291</td><td>351</td><td>634</td><td>798</td><td>840</td><td>857</td><td>613</td><td>8938</td><td>3008.0</td></tr>\n",
       "<tr><td>101021007</td><td>207</td><td>254</td><td>229</td><td>173</td><td>122</td><td>172</td><td>192</td><td>246</td><td>202</td><td>291</td><td>351</td><td>666</td><td>746</td><td>638</td><td>538</td><td>432</td><td>8872</td><td>2988.0</td></tr>\n",
       "<tr><td>101021007</td><td>207</td><td>254</td><td>229</td><td>173</td><td>122</td><td>172</td><td>192</td><td>246</td><td>202</td><td>291</td><td>351</td><td>924</td><td>1075</td><td>944</td><td>694</td><td>338</td><td>9557</td><td>3575.0</td></tr>\n",
       "<tr><td>101021007</td><td>207</td><td>254</td><td>229</td><td>173</td><td>122</td><td>172</td><td>192</td><td>246</td><td>202</td><td>291</td><td>351</td><td>284</td><td>323</td><td>353</td><td>300</td><td>192</td><td>3792</td><td>2183.0</td></tr>\n",
       "<tr><td>101021007</td><td>207</td><td>254</td><td>229</td><td>173</td><td>122</td><td>172</td><td>192</td><td>246</td><td>202</td><td>291</td><td>351</td><td>11</td><td>0</td><td>13</td><td>4</td><td>3</td><td>43</td><td>1587.0</td></tr>\n",
       "<tr><td>101021007</td><td>207</td><td>254</td><td>229</td><td>173</td><td>122</td><td>172</td><td>192</td><td>246</td><td>202</td><td>291</td><td>351</td><td>243</td><td>302</td><td>319</td><td>315</td><td>188</td><td>3425</td><td>2121.0</td></tr>\n",
       "<tr><td>101021007</td><td>207</td><td>254</td><td>229</td><td>173</td><td>122</td><td>172</td><td>192</td><td>246</td><td>202</td><td>291</td><td>351</td><td>360</td><td>330</td><td>334</td><td>333</td><td>179</td><td>3525</td><td>2266.0</td></tr>\n",
       "<tr><td>101021007</td><td>207</td><td>254</td><td>229</td><td>173</td><td>122</td><td>172</td><td>192</td><td>246</td><td>202</td><td>291</td><td>351</td><td>814</td><td>1062</td><td>1085</td><td>1064</td><td>737</td><td>11513</td><td>3452.0</td></tr>\n",
       "</table>\n",
       "only showing top 20 rows\n"
      ],
      "text/plain": [
       "+-------------+------------+------------+--------------+--------------+--------------+--------------+--------------+--------------+--------------+--------------+--------------+--------------+--------------+--------------+--------------+--------------+-----+------+\n",
       "|SA2_CODE_2021|Age_yr_0_4_P|Age_yr_5_9_P|Age_yr_10_14_P|Age_yr_15_19_P|Age_yr_20_24_P|Age_yr_25_29_P|Age_yr_30_34_P|Age_yr_35_39_P|Age_yr_40_44_P|Age_yr_45_49_P|Age_yr_50_54_P|Age_yr_55_59_P|Age_yr_60_64_P|Age_yr_65_69_P|Age_yr_70_74_P|Age_yr_75_79_P|Tot_P|result|\n",
       "+-------------+------------+------------+--------------+--------------+--------------+--------------+--------------+--------------+--------------+--------------+--------------+--------------+--------------+--------------+--------------+--------------+-----+------+\n",
       "|    101021007|         207|         254|           229|           173|           122|           172|           192|           246|           202|           291|           351|           353|           435|           338|           302|           249| 4343|2364.0|\n",
       "|    101021007|         207|         254|           229|           173|           122|           172|           192|           246|           202|           291|           351|           580|           513|           429|           325|           227| 8517|2669.0|\n",
       "|    101021007|         207|         254|           229|           173|           122|           172|           192|           246|           202|           291|           351|           674|           587|           509|           418|           286|11342|2837.0|\n",
       "|    101021007|         207|         254|           229|           173|           122|           172|           192|           246|           202|           291|           351|           323|           296|           216|           168|           126| 5085|2195.0|\n",
       "|    101021007|         207|         254|           229|           173|           122|           172|           192|           246|           202|           291|           351|          1006|           663|           452|           366|           196|12744|3245.0|\n",
       "|    101021007|         207|         254|           229|           173|           122|           172|           192|           246|           202|           291|           351|           182|           108|           100|            63|            33| 6224|1866.0|\n",
       "|    101021007|         207|         254|           229|           173|           122|           172|           192|           246|           202|           291|           351|          1350|          1206|           947|           804|           441|16539|4132.0|\n",
       "|    101021007|         207|         254|           229|           173|           122|           172|           192|           246|           202|           291|           351|           175|           215|           207|           178|           122| 2454|1966.0|\n",
       "|    101021007|         207|         254|           229|           173|           122|           172|           192|           246|           202|           291|           351|           469|           478|           365|           399|           308| 6761|2523.0|\n",
       "|    101021007|         207|         254|           229|           173|           122|           172|           192|           246|           202|           291|           351|           307|           327|           264|           212|           170| 3472|2210.0|\n",
       "|    101021007|         207|         254|           229|           173|           122|           172|           192|           246|           202|           291|           351|           547|           525|           391|           346|           184| 8035|2648.0|\n",
       "|    101021007|         207|         254|           229|           173|           122|           172|           192|           246|           202|           291|           351|           581|           740|           729|           752|           498| 8581|2897.0|\n",
       "|    101021007|         207|         254|           229|           173|           122|           172|           192|           246|           202|           291|           351|           634|           798|           840|           857|           613| 8938|3008.0|\n",
       "|    101021007|         207|         254|           229|           173|           122|           172|           192|           246|           202|           291|           351|           666|           746|           638|           538|           432| 8872|2988.0|\n",
       "|    101021007|         207|         254|           229|           173|           122|           172|           192|           246|           202|           291|           351|           924|          1075|           944|           694|           338| 9557|3575.0|\n",
       "|    101021007|         207|         254|           229|           173|           122|           172|           192|           246|           202|           291|           351|           284|           323|           353|           300|           192| 3792|2183.0|\n",
       "|    101021007|         207|         254|           229|           173|           122|           172|           192|           246|           202|           291|           351|            11|             0|            13|             4|             3|   43|1587.0|\n",
       "|    101021007|         207|         254|           229|           173|           122|           172|           192|           246|           202|           291|           351|           243|           302|           319|           315|           188| 3425|2121.0|\n",
       "|    101021007|         207|         254|           229|           173|           122|           172|           192|           246|           202|           291|           351|           360|           330|           334|           333|           179| 3525|2266.0|\n",
       "|    101021007|         207|         254|           229|           173|           122|           172|           192|           246|           202|           291|           351|           814|          1062|          1085|          1064|           737|11513|3452.0|\n",
       "+-------------+------------+------------+--------------+--------------+--------------+--------------+--------------+--------------+--------------+--------------+--------------+--------------+--------------+--------------+--------------+--------------+-----+------+\n",
       "only showing top 20 rows"
      ]
     },
     "execution_count": 7,
     "metadata": {},
     "output_type": "execute_result"
    }
   ],
   "source": [
    "Age_Data_total"
   ]
  },
  {
   "cell_type": "code",
   "execution_count": 8,
   "metadata": {},
   "outputs": [
    {
     "data": {
      "text/html": [
       "<table border='1'>\n",
       "<tr><th>SA2_CODE_2021</th><th>result</th><th>Tot_P</th></tr>\n",
       "<tr><td>101021007</td><td>2364.0</td><td>4343</td></tr>\n",
       "<tr><td>101021007</td><td>2669.0</td><td>8517</td></tr>\n",
       "<tr><td>101021007</td><td>2837.0</td><td>11342</td></tr>\n",
       "<tr><td>101021007</td><td>2195.0</td><td>5085</td></tr>\n",
       "<tr><td>101021007</td><td>3245.0</td><td>12744</td></tr>\n",
       "<tr><td>101021007</td><td>1866.0</td><td>6224</td></tr>\n",
       "<tr><td>101021007</td><td>4132.0</td><td>16539</td></tr>\n",
       "<tr><td>101021007</td><td>1966.0</td><td>2454</td></tr>\n",
       "<tr><td>101021007</td><td>2523.0</td><td>6761</td></tr>\n",
       "<tr><td>101021007</td><td>2210.0</td><td>3472</td></tr>\n",
       "<tr><td>101021007</td><td>2648.0</td><td>8035</td></tr>\n",
       "<tr><td>101021007</td><td>2897.0</td><td>8581</td></tr>\n",
       "<tr><td>101021007</td><td>3008.0</td><td>8938</td></tr>\n",
       "<tr><td>101021007</td><td>2988.0</td><td>8872</td></tr>\n",
       "<tr><td>101021007</td><td>3575.0</td><td>9557</td></tr>\n",
       "<tr><td>101021007</td><td>2183.0</td><td>3792</td></tr>\n",
       "<tr><td>101021007</td><td>1587.0</td><td>43</td></tr>\n",
       "<tr><td>101021007</td><td>2121.0</td><td>3425</td></tr>\n",
       "<tr><td>101021007</td><td>2266.0</td><td>3525</td></tr>\n",
       "<tr><td>101021007</td><td>3452.0</td><td>11513</td></tr>\n",
       "</table>\n",
       "only showing top 20 rows\n"
      ],
      "text/plain": [
       "+-------------+------+-----+\n",
       "|SA2_CODE_2021|result|Tot_P|\n",
       "+-------------+------+-----+\n",
       "|    101021007|2364.0| 4343|\n",
       "|    101021007|2669.0| 8517|\n",
       "|    101021007|2837.0|11342|\n",
       "|    101021007|2195.0| 5085|\n",
       "|    101021007|3245.0|12744|\n",
       "|    101021007|1866.0| 6224|\n",
       "|    101021007|4132.0|16539|\n",
       "|    101021007|1966.0| 2454|\n",
       "|    101021007|2523.0| 6761|\n",
       "|    101021007|2210.0| 3472|\n",
       "|    101021007|2648.0| 8035|\n",
       "|    101021007|2897.0| 8581|\n",
       "|    101021007|3008.0| 8938|\n",
       "|    101021007|2988.0| 8872|\n",
       "|    101021007|3575.0| 9557|\n",
       "|    101021007|2183.0| 3792|\n",
       "|    101021007|1587.0|   43|\n",
       "|    101021007|2121.0| 3425|\n",
       "|    101021007|2266.0| 3525|\n",
       "|    101021007|3452.0|11513|\n",
       "+-------------+------+-----+\n",
       "only showing top 20 rows"
      ]
     },
     "execution_count": 8,
     "metadata": {},
     "output_type": "execute_result"
    }
   ],
   "source": [
    "Age_Data_total = Age_Data_total.select(\"SA2_CODE_2021\",\"result\",\"Tot_P\")\n",
    "Age_Data_total"
   ]
  },
  {
   "cell_type": "code",
   "execution_count": 10,
   "metadata": {},
   "outputs": [],
   "source": [
    "Age_Data_rate = Age_Data_total.withColumn(\"percentage\", Age_Data_total.result /Age_Data_total.Tot_P)\n",
    "Age_Data_rate = Age_Data_rate.select(\"SA2_CODE_2021\",\"percentage\")"
   ]
  },
  {
   "cell_type": "code",
   "execution_count": 11,
   "metadata": {},
   "outputs": [
    {
     "data": {
      "text/html": [
       "<table border='1'>\n",
       "<tr><th>SA2_CODE_2021</th><th>percentage</th></tr>\n",
       "<tr><td>101021007</td><td>0.5443241998618467</td></tr>\n",
       "<tr><td>101021007</td><td>0.313373253493014</td></tr>\n",
       "<tr><td>101021007</td><td>0.25013225180744136</td></tr>\n",
       "<tr><td>101021007</td><td>0.43166175024582104</td></tr>\n",
       "<tr><td>101021007</td><td>0.25462962962962965</td></tr>\n",
       "<tr><td>101021007</td><td>0.29980719794344474</td></tr>\n",
       "<tr><td>101021007</td><td>0.24983372634379344</td></tr>\n",
       "<tr><td>101021007</td><td>0.8011409942950285</td></tr>\n",
       "<tr><td>101021007</td><td>0.37316964946013903</td></tr>\n",
       "<tr><td>101021007</td><td>0.636520737327189</td></tr>\n",
       "<tr><td>101021007</td><td>0.32955818294959555</td></tr>\n",
       "<tr><td>101021007</td><td>0.33760633958746067</td></tr>\n",
       "<tr><td>101021007</td><td>0.3365406131125531</td></tr>\n",
       "<tr><td>101021007</td><td>0.3367899008115419</td></tr>\n",
       "<tr><td>101021007</td><td>0.3740713613058491</td></tr>\n",
       "<tr><td>101021007</td><td>0.5756856540084389</td></tr>\n",
       "<tr><td>101021007</td><td>36.906976744186046</td></tr>\n",
       "<tr><td>101021007</td><td>0.6192700729927008</td></tr>\n",
       "<tr><td>101021007</td><td>0.6428368794326241</td></tr>\n",
       "<tr><td>101021007</td><td>0.2998349691652914</td></tr>\n",
       "</table>\n",
       "only showing top 20 rows\n"
      ],
      "text/plain": [
       "+-------------+-------------------+\n",
       "|SA2_CODE_2021|         percentage|\n",
       "+-------------+-------------------+\n",
       "|    101021007| 0.5443241998618467|\n",
       "|    101021007|  0.313373253493014|\n",
       "|    101021007|0.25013225180744136|\n",
       "|    101021007|0.43166175024582104|\n",
       "|    101021007|0.25462962962962965|\n",
       "|    101021007|0.29980719794344474|\n",
       "|    101021007|0.24983372634379344|\n",
       "|    101021007| 0.8011409942950285|\n",
       "|    101021007|0.37316964946013903|\n",
       "|    101021007|  0.636520737327189|\n",
       "|    101021007|0.32955818294959555|\n",
       "|    101021007|0.33760633958746067|\n",
       "|    101021007| 0.3365406131125531|\n",
       "|    101021007| 0.3367899008115419|\n",
       "|    101021007| 0.3740713613058491|\n",
       "|    101021007| 0.5756856540084389|\n",
       "|    101021007| 36.906976744186046|\n",
       "|    101021007| 0.6192700729927008|\n",
       "|    101021007| 0.6428368794326241|\n",
       "|    101021007| 0.2998349691652914|\n",
       "+-------------+-------------------+\n",
       "only showing top 20 rows"
      ]
     },
     "execution_count": 11,
     "metadata": {},
     "output_type": "execute_result"
    }
   ],
   "source": [
    "Age_Data_rate"
   ]
  }
 ],
 "metadata": {
  "kernelspec": {
   "display_name": "Python 3.8.13 ('ads')",
   "language": "python",
   "name": "python3"
  },
  "language_info": {
   "codemirror_mode": {
    "name": "ipython",
    "version": 3
   },
   "file_extension": ".py",
   "mimetype": "text/x-python",
   "name": "python",
   "nbconvert_exporter": "python",
   "pygments_lexer": "ipython3",
   "version": "3.8.13"
  },
  "orig_nbformat": 4,
  "vscode": {
   "interpreter": {
    "hash": "6e45bdfcba1031802b2f7a315f02d536e51553942a60e4ee4be74aec82814bfa"
   }
  }
 },
 "nbformat": 4,
 "nbformat_minor": 2
}
