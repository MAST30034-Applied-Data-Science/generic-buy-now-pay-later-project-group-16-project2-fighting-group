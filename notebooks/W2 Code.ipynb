{
 "cells": [
  {
   "cell_type": "code",
   "execution_count": 8,
   "metadata": {},
   "outputs": [
    {
     "name": "stdout",
     "output_type": "stream",
     "text": [
      "22/09/05 13:52:57 WARN SparkSession: Using an existing Spark session; only runtime SQL configurations will take effect.\n"
     ]
    }
   ],
   "source": [
    "from pyspark.sql import SparkSession\n",
    "from pyspark.sql import functions as F\n",
    "# Create a spark session (which will run spark jobs)\n",
    "spark = (\n",
    "    SparkSession.builder.appName(\"MAST30034 Tutorial 1\")\n",
    "    .config(\"spark.sql.repl.eagerEval.enabled\", True) \n",
    "    .config(\"spark.sql.parquet.cacheMetadata\", \"true\")\n",
    "    .config(\"spark.sql.session.timeZone\", \"Etc/UTC\")\n",
    "    .getOrCreate()\n",
    ")"
   ]
  },
  {
   "cell_type": "code",
   "execution_count": 9,
   "metadata": {},
   "outputs": [
    {
     "name": "stderr",
     "output_type": "stream",
     "text": [
      "                                                                                \r"
     ]
    },
    {
     "data": {
      "text/html": [
       "<table border='1'>\n",
       "<tr><th>user_id</th><th>merchant_abn</th><th>dollar_value</th><th>order_id</th><th>order_datetime</th></tr>\n",
       "<tr><td>14</td><td>89022158521</td><td>60.67672336066594</td><td>8053afb6-38b1-40c...</td><td>2021-08-28</td></tr>\n",
       "<tr><td>8</td><td>49891706470</td><td>47.31755694261772</td><td>534645e3-bc80-41a...</td><td>2021-08-28</td></tr>\n",
       "<tr><td>14946</td><td>49505931725</td><td>85.73423012207064</td><td>37b9fa86-8cf1-495...</td><td>2021-08-28</td></tr>\n",
       "<tr><td>14938</td><td>53546629749</td><td>659.4359432661599</td><td>23519a0e-db53-4b8...</td><td>2021-08-28</td></tr>\n",
       "<tr><td>14940</td><td>54705111450</td><td>100.87325296466584</td><td>a44bef39-26db-4da...</td><td>2021-08-28</td></tr>\n",
       "<tr><td>14942</td><td>89536028092</td><td>45.310999359990895</td><td>0f24811f-a13b-4e2...</td><td>2021-08-28</td></tr>\n",
       "<tr><td>14</td><td>43820812476</td><td>163.61700277818517</td><td>62175fef-d6f5-4bc...</td><td>2021-08-28</td></tr>\n",
       "<tr><td>14936</td><td>24852446429</td><td>9.78847188379984</td><td>5a04b94c-c553-47c...</td><td>2021-08-28</td></tr>\n",
       "<tr><td>4</td><td>86223953880</td><td>313.0216678687628</td><td>6161bda6-030c-42c...</td><td>2021-08-28</td></tr>\n",
       "<tr><td>14938</td><td>98269572896</td><td>86.80997844773242</td><td>a79e1147-9922-4d9...</td><td>2021-08-28</td></tr>\n",
       "<tr><td>7</td><td>71350572766</td><td>113.72666484102889</td><td>d6743e55-2463-49c...</td><td>2021-08-28</td></tr>\n",
       "<tr><td>14942</td><td>14246432250</td><td>50.48081941159114</td><td>3085cbaa-1d22-404...</td><td>2021-08-28</td></tr>\n",
       "<tr><td>13</td><td>46012371285</td><td>204.4355091524303</td><td>570e806e-a511-48f...</td><td>2021-08-28</td></tr>\n",
       "<tr><td>14</td><td>71674475255</td><td>94.52879610579734</td><td>1b37852a-cedd-48e...</td><td>2021-08-28</td></tr>\n",
       "<tr><td>14944</td><td>90543168331</td><td>222.41943406185493</td><td>d31e9610-bbe1-4f7...</td><td>2021-08-28</td></tr>\n",
       "<tr><td>1</td><td>45629217853</td><td>43.738114835432796</td><td>809b9b93-0a7d-462...</td><td>2021-08-28</td></tr>\n",
       "<tr><td>14</td><td>64203420245</td><td>38.603410801924696</td><td>59d46ac5-a88b-403...</td><td>2021-08-28</td></tr>\n",
       "<tr><td>3</td><td>32656335530</td><td>100.1602470950455</td><td>8776872a-a340-46f...</td><td>2021-08-28</td></tr>\n",
       "<tr><td>14936</td><td>72472909171</td><td>28.54034460218744</td><td>e997036a-1418-44c...</td><td>2021-08-28</td></tr>\n",
       "<tr><td>7</td><td>17488304283</td><td>67.95495287248738</td><td>e637ca66-ed07-42c...</td><td>2021-08-28</td></tr>\n",
       "</table>\n",
       "only showing top 20 rows\n"
      ],
      "text/plain": [
       "+-------+------------+------------------+--------------------+--------------+\n",
       "|user_id|merchant_abn|      dollar_value|            order_id|order_datetime|\n",
       "+-------+------------+------------------+--------------------+--------------+\n",
       "|     14| 89022158521| 60.67672336066594|8053afb6-38b1-40c...|    2021-08-28|\n",
       "|      8| 49891706470| 47.31755694261772|534645e3-bc80-41a...|    2021-08-28|\n",
       "|  14946| 49505931725| 85.73423012207064|37b9fa86-8cf1-495...|    2021-08-28|\n",
       "|  14938| 53546629749| 659.4359432661599|23519a0e-db53-4b8...|    2021-08-28|\n",
       "|  14940| 54705111450|100.87325296466584|a44bef39-26db-4da...|    2021-08-28|\n",
       "|  14942| 89536028092|45.310999359990895|0f24811f-a13b-4e2...|    2021-08-28|\n",
       "|     14| 43820812476|163.61700277818517|62175fef-d6f5-4bc...|    2021-08-28|\n",
       "|  14936| 24852446429|  9.78847188379984|5a04b94c-c553-47c...|    2021-08-28|\n",
       "|      4| 86223953880| 313.0216678687628|6161bda6-030c-42c...|    2021-08-28|\n",
       "|  14938| 98269572896| 86.80997844773242|a79e1147-9922-4d9...|    2021-08-28|\n",
       "|      7| 71350572766|113.72666484102889|d6743e55-2463-49c...|    2021-08-28|\n",
       "|  14942| 14246432250| 50.48081941159114|3085cbaa-1d22-404...|    2021-08-28|\n",
       "|     13| 46012371285| 204.4355091524303|570e806e-a511-48f...|    2021-08-28|\n",
       "|     14| 71674475255| 94.52879610579734|1b37852a-cedd-48e...|    2021-08-28|\n",
       "|  14944| 90543168331|222.41943406185493|d31e9610-bbe1-4f7...|    2021-08-28|\n",
       "|      1| 45629217853|43.738114835432796|809b9b93-0a7d-462...|    2021-08-28|\n",
       "|     14| 64203420245|38.603410801924696|59d46ac5-a88b-403...|    2021-08-28|\n",
       "|      3| 32656335530| 100.1602470950455|8776872a-a340-46f...|    2021-08-28|\n",
       "|  14936| 72472909171| 28.54034460218744|e997036a-1418-44c...|    2021-08-28|\n",
       "|      7| 17488304283| 67.95495287248738|e637ca66-ed07-42c...|    2021-08-28|\n",
       "+-------+------------+------------------+--------------------+--------------+\n",
       "only showing top 20 rows"
      ]
     },
     "execution_count": 9,
     "metadata": {},
     "output_type": "execute_result"
    }
   ],
   "source": [
    "ori_transaction1 = spark.read.parquet('../data/tables/transactions_20210228_20210827_snapshot').sort('order_datetime')\n",
    "ori_transaction2 = spark.read.parquet('../data/tables/transactions_20210828_20220227_snapshot').sort('order_datetime')\n",
    " #read the parquet ori_transaction\n",
    "ori_transaction = ori_transaction1.union(ori_transaction2)\n",
    "ori_transaction2\n"
   ]
  },
  {
   "cell_type": "code",
   "execution_count": 10,
   "metadata": {},
   "outputs": [
    {
     "data": {
      "text/html": [
       "<table border='1'>\n",
       "<tr><th>user_id</th><th>merchant_abn</th><th>dollar_value</th><th>order_id</th><th>order_datetime</th></tr>\n",
       "<tr><td>14</td><td>89022158521</td><td>60.67672336066594</td><td>8053afb6-38b1-40c...</td><td>2021-08-28</td></tr>\n",
       "<tr><td>8</td><td>49891706470</td><td>47.31755694261772</td><td>534645e3-bc80-41a...</td><td>2021-08-28</td></tr>\n",
       "<tr><td>14946</td><td>49505931725</td><td>85.73423012207064</td><td>37b9fa86-8cf1-495...</td><td>2021-08-28</td></tr>\n",
       "<tr><td>14938</td><td>53546629749</td><td>659.4359432661599</td><td>23519a0e-db53-4b8...</td><td>2021-08-28</td></tr>\n",
       "<tr><td>14940</td><td>54705111450</td><td>100.87325296466584</td><td>a44bef39-26db-4da...</td><td>2021-08-28</td></tr>\n",
       "<tr><td>14942</td><td>89536028092</td><td>45.310999359990895</td><td>0f24811f-a13b-4e2...</td><td>2021-08-28</td></tr>\n",
       "<tr><td>14</td><td>43820812476</td><td>163.61700277818517</td><td>62175fef-d6f5-4bc...</td><td>2021-08-28</td></tr>\n",
       "<tr><td>14936</td><td>24852446429</td><td>9.78847188379984</td><td>5a04b94c-c553-47c...</td><td>2021-08-28</td></tr>\n",
       "<tr><td>4</td><td>86223953880</td><td>313.0216678687628</td><td>6161bda6-030c-42c...</td><td>2021-08-28</td></tr>\n",
       "<tr><td>14938</td><td>98269572896</td><td>86.80997844773242</td><td>a79e1147-9922-4d9...</td><td>2021-08-28</td></tr>\n",
       "<tr><td>7</td><td>71350572766</td><td>113.72666484102889</td><td>d6743e55-2463-49c...</td><td>2021-08-28</td></tr>\n",
       "<tr><td>14942</td><td>14246432250</td><td>50.48081941159114</td><td>3085cbaa-1d22-404...</td><td>2021-08-28</td></tr>\n",
       "<tr><td>13</td><td>46012371285</td><td>204.4355091524303</td><td>570e806e-a511-48f...</td><td>2021-08-28</td></tr>\n",
       "<tr><td>14</td><td>71674475255</td><td>94.52879610579734</td><td>1b37852a-cedd-48e...</td><td>2021-08-28</td></tr>\n",
       "<tr><td>14944</td><td>90543168331</td><td>222.41943406185493</td><td>d31e9610-bbe1-4f7...</td><td>2021-08-28</td></tr>\n",
       "<tr><td>1</td><td>45629217853</td><td>43.738114835432796</td><td>809b9b93-0a7d-462...</td><td>2021-08-28</td></tr>\n",
       "<tr><td>14</td><td>64203420245</td><td>38.603410801924696</td><td>59d46ac5-a88b-403...</td><td>2021-08-28</td></tr>\n",
       "<tr><td>3</td><td>32656335530</td><td>100.1602470950455</td><td>8776872a-a340-46f...</td><td>2021-08-28</td></tr>\n",
       "<tr><td>14936</td><td>72472909171</td><td>28.54034460218744</td><td>e997036a-1418-44c...</td><td>2021-08-28</td></tr>\n",
       "<tr><td>7</td><td>17488304283</td><td>67.95495287248738</td><td>e637ca66-ed07-42c...</td><td>2021-08-28</td></tr>\n",
       "</table>\n",
       "only showing top 20 rows\n"
      ],
      "text/plain": [
       "DataFrame[user_id: bigint, merchant_abn: bigint, dollar_value: double, order_id: string, order_datetime: date]"
      ]
     },
     "execution_count": 10,
     "metadata": {},
     "output_type": "execute_result"
    }
   ],
   "source": [
    "ori_transaction2"
   ]
  },
  {
   "cell_type": "code",
   "execution_count": 11,
   "metadata": {},
   "outputs": [
    {
     "name": "stderr",
     "output_type": "stream",
     "text": [
      "[Stage 26:===========================================>              (6 + 2) / 8]\r"
     ]
    },
    {
     "name": "stdout",
     "output_type": "stream",
     "text": [
      "+-------+------------+------------+--------+\n",
      "|user_id|merchant_abn|dollar_value|order_id|\n",
      "+-------+------------+------------+--------+\n",
      "|      0|           0|           0|       0|\n",
      "+-------+------------+------------+--------+\n",
      "\n"
     ]
    },
    {
     "name": "stderr",
     "output_type": "stream",
     "text": [
      "                                                                                \r"
     ]
    }
   ],
   "source": [
    "df = ori_transaction2['user_id', 'merchant_abn',\t'dollar_value',\t'order_id']\n",
    "from pyspark.sql.functions import col,isnan,when,count\n",
    "df2 = df.select([count(when(col(c).contains('None') | \\\n",
    "                            col(c).contains('NULL') | \\\n",
    "                            (col(c) == '' ) | \\\n",
    "                            col(c).isNull() | \\\n",
    "                            isnan(c), c \n",
    "                           )).alias(c)\n",
    "                    for c in df.columns])\n",
    "df2.show()"
   ]
  },
  {
   "cell_type": "code",
   "execution_count": null,
   "metadata": {},
   "outputs": [],
   "source": []
  }
 ],
 "metadata": {
  "kernelspec": {
   "display_name": "Python 3.8.9 64-bit",
   "language": "python",
   "name": "python3"
  },
  "language_info": {
   "codemirror_mode": {
    "name": "ipython",
    "version": 3
   },
   "file_extension": ".py",
   "mimetype": "text/x-python",
   "name": "python",
   "nbconvert_exporter": "python",
   "pygments_lexer": "ipython3",
   "version": "3.8.9"
  },
  "orig_nbformat": 4,
  "vscode": {
   "interpreter": {
    "hash": "31f2aee4e71d21fbe5cf8b01ff0e069b9275f58929596ceb00d14d90e3e16cd6"
   }
  }
 },
 "nbformat": 4,
 "nbformat_minor": 2
}
