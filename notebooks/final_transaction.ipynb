{
 "cells": [
  {
   "cell_type": "code",
   "execution_count": 1,
   "metadata": {},
   "outputs": [
    {
     "name": "stderr",
     "output_type": "stream",
     "text": [
      "22/10/01 13:22:23 WARN Utils: Your hostname, Zhangs-MacBook-Pro.local resolves to a loopback address: 127.0.0.1; using 10.12.19.38 instead (on interface en0)\n",
      "22/10/01 13:22:23 WARN Utils: Set SPARK_LOCAL_IP if you need to bind to another address\n",
      "22/10/01 13:22:24 WARN NativeCodeLoader: Unable to load native-hadoop library for your platform... using builtin-java classes where applicable\n",
      "Using Spark's default log4j profile: org/apache/spark/log4j-defaults.properties\n",
      "Setting default log level to \"WARN\".\n",
      "To adjust logging level use sc.setLogLevel(newLevel). For SparkR, use setLogLevel(newLevel).\n"
     ]
    }
   ],
   "source": [
    "from pyspark.sql import SparkSession\n",
    "from pyspark.sql import functions as F\n",
    "from pyspark.sql import Window\n",
    "import numpy as np\n",
    "from pyspark.sql.functions import *\n",
    "# Create a spark session (which will run spark jobs)\n",
    "spark = (\n",
    "    SparkSession.builder.appName(\"MAST30034 Tutorial 1\")\n",
    "    .config(\"spark.sql.repl.eagerEval.enabled\", True) \n",
    "    .config(\"spark.sql.parquet.cacheMetadata\", \"true\")\n",
    "    .config(\"spark.sql.session.timeZone\", \"Etc/UTC\")\n",
    "    .getOrCreate()\n",
    ")"
   ]
  },
  {
   "cell_type": "code",
   "execution_count": 2,
   "metadata": {},
   "outputs": [
    {
     "name": "stderr",
     "output_type": "stream",
     "text": [
      "                                                                                \r"
     ]
    }
   ],
   "source": [
    "#transaction\n",
    "ori_transaction1 = spark.read.parquet('../data/tables/transactions_20210228_20210827_snapshot').sort('order_datetime')\n",
    "ori_transaction2 = spark.read.parquet('../data/tables/transactions_20210828_20220227_snapshot').sort('order_datetime')\n",
    "ori_transaction3 = spark.read.parquet('../data/tables/transactions_20220228_20220828_snapshot').sort('order_datetime')\n",
    "#consumer\n",
    "tbl_consumer = spark.read.option(\"delimiter\", \"|\").option(\"header\",True).csv(\"../data/tables/tbl_consumer.csv\")\n",
    "consumer_detail = spark.read.parquet('../data/tables/consumer_user_details.parquet')\n",
    "#fraud\n",
    "consumer_fraud = spark.read.option(\"header\",True).csv('../data/tables/consumer_fraud_probability.csv')\n",
    "\n"
   ]
  },
  {
   "cell_type": "code",
   "execution_count": 3,
   "metadata": {},
   "outputs": [
    {
     "name": "stderr",
     "output_type": "stream",
     "text": [
      "                                                                                \r"
     ]
    },
    {
     "data": {
      "text/html": [
       "<table border='1'>\n",
       "<tr><th>user_id</th><th>merchant_abn</th><th>dollar_value</th><th>order_datetime</th></tr>\n",
       "<tr><td>1</td><td>28000487688</td><td>133.22689421562643</td><td>2021-02-28</td></tr>\n",
       "<tr><td>18485</td><td>62191208634</td><td>79.13140006851712</td><td>2021-02-28</td></tr>\n",
       "<tr><td>1</td><td>83690644458</td><td>30.441348317517228</td><td>2021-02-28</td></tr>\n",
       "</table>\n"
      ],
      "text/plain": [
       "+-------+------------+------------------+--------------+\n",
       "|user_id|merchant_abn|      dollar_value|order_datetime|\n",
       "+-------+------------+------------------+--------------+\n",
       "|      1| 28000487688|133.22689421562643|    2021-02-28|\n",
       "|  18485| 62191208634| 79.13140006851712|    2021-02-28|\n",
       "|      1| 83690644458|30.441348317517228|    2021-02-28|\n",
       "+-------+------------+------------------+--------------+"
      ]
     },
     "execution_count": 3,
     "metadata": {},
     "output_type": "execute_result"
    }
   ],
   "source": [
    "#transaction\n",
    "ori_transaction = ori_transaction1.union(ori_transaction2)\n",
    "ori_transaction = ori_transaction.union(ori_transaction3)\n",
    "ori_transaction = ori_transaction.drop('order_id')\n",
    "ori_transaction.limit(3)"
   ]
  },
  {
   "cell_type": "code",
   "execution_count": 4,
   "metadata": {},
   "outputs": [],
   "source": [
    "#delete outlier\n",
    "wind = Window.partitionBy('merchant_abn')\n",
    "\n",
    "q1= F.expr('percentile_approx(dollar_value, 0.25)')\n",
    "q3= F.expr('percentile_approx(dollar_value, 0.75)')\n",
    "\n",
    "testq = ori_transaction.withColumn('q1', q1.over(wind))\n",
    "testq = testq.withColumn('q3', q3.over(wind))\n",
    "\n",
    "testq = testq.withColumn('IQR', testq['q3']-testq['q1'])"
   ]
  },
  {
   "cell_type": "code",
   "execution_count": 5,
   "metadata": {},
   "outputs": [],
   "source": [
    "dele_out = testq.where((testq[\"dollar_value\"] <= testq[\"q1\"]+1.5*testq[\"IQR\"]) & (testq[\"dollar_value\"] >= testq[\"q1\"]-1.5*testq[\"IQR\"]))\n",
    "ori_transaction = dele_out.drop('q1','q3','IQR','order_id')"
   ]
  },
  {
   "cell_type": "code",
   "execution_count": 6,
   "metadata": {},
   "outputs": [],
   "source": [
    "ori_transaction = ori_transaction.withColumn(\n",
    "    \"whether_bigorder\",\n",
    "    F.when(F.col('dollar_value')>=10000, 1).otherwise(0))"
   ]
  },
  {
   "cell_type": "code",
   "execution_count": 7,
   "metadata": {},
   "outputs": [
    {
     "data": {
      "text/html": [
       "<table border='1'>\n",
       "<tr><th>user_id</th><th>postcode</th></tr>\n",
       "<tr><td>1</td><td>6935</td></tr>\n",
       "<tr><td>2</td><td>2782</td></tr>\n",
       "<tr><td>3</td><td>862</td></tr>\n",
       "</table>\n"
      ],
      "text/plain": [
       "+-------+--------+\n",
       "|user_id|postcode|\n",
       "+-------+--------+\n",
       "|      1|    6935|\n",
       "|      2|    2782|\n",
       "|      3|     862|\n",
       "+-------+--------+"
      ]
     },
     "execution_count": 7,
     "metadata": {},
     "output_type": "execute_result"
    }
   ],
   "source": [
    "#consumer\n",
    "consumer = consumer_detail.join(tbl_consumer, consumer_detail.consumer_id == tbl_consumer.consumer_id).drop(tbl_consumer.consumer_id)\n",
    "consumer = consumer.select('user_id', 'postcode')\n",
    "consumer.limit(3)"
   ]
  },
  {
   "cell_type": "code",
   "execution_count": 8,
   "metadata": {},
   "outputs": [],
   "source": [
    "# fraud\n",
    "consumer_fraud = consumer_fraud.select(col(\"user_id\"),col(\"fraud_probability\"),to_date(col(\"order_datetime\"),\"yyyy-MM-dd\").alias(\"date\"))"
   ]
  },
  {
   "cell_type": "code",
   "execution_count": 9,
   "metadata": {},
   "outputs": [
    {
     "name": "stdout",
     "output_type": "stream",
     "text": [
      "34864\n",
      "34864\n"
     ]
    }
   ],
   "source": [
    "#check 2021/02/28 - 2022/08/28 data\n",
    "print(consumer_fraud.count())\n",
    "consumer_fraud.filter(\"date > '2021-02-28'\")\n",
    "consumer_fraud.filter(\"date < '2022-08-28'\")\n",
    "print(consumer_fraud.count())"
   ]
  },
  {
   "cell_type": "code",
   "execution_count": 10,
   "metadata": {},
   "outputs": [],
   "source": [
    "consumer_fraud_1 = consumer_fraud.groupBy('user_id').agg(F.avg('fraud_probability').alias('average_prob_con'))\n",
    "consumer_fraud_final = consumer_fraud_1.withColumn(\n",
    "    \"whether_fraud\",\n",
    "    F.when(F.col('average_prob_con')>=70, 1).otherwise(0))"
   ]
  },
  {
   "cell_type": "code",
   "execution_count": 11,
   "metadata": {},
   "outputs": [],
   "source": [
    "consumer_final = consumer.join(consumer_fraud_final, consumer.user_id == consumer_fraud_final.user_id,'outer').drop(consumer_fraud_final.user_id).fillna(0).fillna(0)\n"
   ]
  },
  {
   "cell_type": "code",
   "execution_count": 12,
   "metadata": {},
   "outputs": [
    {
     "name": "stderr",
     "output_type": "stream",
     "text": [
      "22/10/01 13:22:40 WARN MemoryManager: Total allocation exceeds 95.00% (956,301,300 bytes) of heap memory\n",
      "Scaling row group sizes to 89.06% for 8 writers\n",
      "                                                                                \r"
     ]
    }
   ],
   "source": [
    "consumer_final.write.parquet(f\"../data/curated/final_consumer.parquet\")\n"
   ]
  },
  {
   "cell_type": "code",
   "execution_count": 13,
   "metadata": {},
   "outputs": [
    {
     "name": "stderr",
     "output_type": "stream",
     "text": [
      "22/10/01 13:23:12 WARN MemoryManager: Total allocation exceeds 95.00% (956,301,300 bytes) of heap memory\n",
      "Scaling row group sizes to 89.06% for 8 writers\n",
      "22/10/01 13:23:12 WARN MemoryManager: Total allocation exceeds 95.00% (956,301,300 bytes) of heap memory\n",
      "Scaling row group sizes to 89.06% for 8 writers\n",
      "22/10/01 13:23:13 WARN MemoryManager: Total allocation exceeds 95.00% (956,301,300 bytes) of heap memory\n",
      "Scaling row group sizes to 89.06% for 8 writers\n",
      "22/10/01 13:23:15 WARN MemoryManager: Total allocation exceeds 95.00% (956,301,300 bytes) of heap memory\n",
      "Scaling row group sizes to 89.06% for 8 writers\n",
      "                                                                                \r"
     ]
    }
   ],
   "source": [
    "transaction = ori_transaction.join(consumer_final, ori_transaction.user_id == consumer_final.user_id).drop(consumer_final.user_id)\n",
    "transaction = transaction.sort(transaction.user_id)\n",
    "\n",
    "transaction.write.parquet(f\"../data/curated/final_transaction.parquet\")\n"
   ]
  },
  {
   "cell_type": "code",
   "execution_count": 14,
   "metadata": {},
   "outputs": [
    {
     "name": "stderr",
     "output_type": "stream",
     "text": [
      "                                                                                \r"
     ]
    },
    {
     "data": {
      "text/html": [
       "<table border='1'>\n",
       "<tr><th>user_id</th><th>merchant_abn</th><th>dollar_value</th><th>order_datetime</th><th>whether_bigorder</th><th>postcode</th><th>average_prob_con</th><th>whether_fraud</th></tr>\n",
       "<tr><td>1</td><td>49891706470</td><td>15.730079162841406</td><td>2022-06-21</td><td>0</td><td>6935</td><td>9.805431136520959</td><td>0</td></tr>\n",
       "<tr><td>1</td><td>49891706470</td><td>6.089109666984375</td><td>2021-03-30</td><td>0</td><td>6935</td><td>9.805431136520959</td><td>0</td></tr>\n",
       "<tr><td>1</td><td>49891706470</td><td>49.7937996752238</td><td>2022-05-29</td><td>0</td><td>6935</td><td>9.805431136520959</td><td>0</td></tr>\n",
       "<tr><td>1</td><td>28510201393</td><td>587.4024261414739</td><td>2021-09-24</td><td>0</td><td>6935</td><td>9.805431136520959</td><td>0</td></tr>\n",
       "<tr><td>1</td><td>49891706470</td><td>5.904950671999753</td><td>2021-03-04</td><td>0</td><td>6935</td><td>9.805431136520959</td><td>0</td></tr>\n",
       "<tr><td>1</td><td>49891706470</td><td>29.031125253031277</td><td>2021-09-11</td><td>0</td><td>6935</td><td>9.805431136520959</td><td>0</td></tr>\n",
       "<tr><td>1</td><td>49891706470</td><td>31.72414306182016</td><td>2021-11-11</td><td>0</td><td>6935</td><td>9.805431136520959</td><td>0</td></tr>\n",
       "<tr><td>1</td><td>81583941068</td><td>60.355511340797705</td><td>2021-08-24</td><td>0</td><td>6935</td><td>9.805431136520959</td><td>0</td></tr>\n",
       "<tr><td>1</td><td>46654841462</td><td>18.503827542784197</td><td>2022-09-03</td><td>0</td><td>6935</td><td>9.805431136520959</td><td>0</td></tr>\n",
       "<tr><td>1</td><td>46007761675</td><td>100.22461641821623</td><td>2022-10-24</td><td>0</td><td>6935</td><td>9.805431136520959</td><td>0</td></tr>\n",
       "<tr><td>1</td><td>83781478969</td><td>11.158164658064516</td><td>2021-10-29</td><td>0</td><td>6935</td><td>9.805431136520959</td><td>0</td></tr>\n",
       "<tr><td>1</td><td>49891706470</td><td>9.8536077372169</td><td>2021-04-20</td><td>0</td><td>6935</td><td>9.805431136520959</td><td>0</td></tr>\n",
       "<tr><td>1</td><td>49891706470</td><td>8.575435297903415</td><td>2021-08-31</td><td>0</td><td>6935</td><td>9.805431136520959</td><td>0</td></tr>\n",
       "<tr><td>1</td><td>49891706470</td><td>53.459655624285546</td><td>2021-10-16</td><td>0</td><td>6935</td><td>9.805431136520959</td><td>0</td></tr>\n",
       "<tr><td>1</td><td>49891706470</td><td>46.15699347673238</td><td>2021-11-04</td><td>0</td><td>6935</td><td>9.805431136520959</td><td>0</td></tr>\n",
       "<tr><td>1</td><td>60654402457</td><td>49.10112294851568</td><td>2022-04-27</td><td>0</td><td>6935</td><td>9.805431136520959</td><td>0</td></tr>\n",
       "<tr><td>1</td><td>62170730910</td><td>100.92907597492842</td><td>2021-10-19</td><td>0</td><td>6935</td><td>9.805431136520959</td><td>0</td></tr>\n",
       "<tr><td>1</td><td>86662713230</td><td>52.76732812907132</td><td>2021-09-09</td><td>0</td><td>6935</td><td>9.805431136520959</td><td>0</td></tr>\n",
       "<tr><td>1</td><td>90568944804</td><td>811.416129781905</td><td>2022-02-24</td><td>0</td><td>6935</td><td>9.805431136520959</td><td>0</td></tr>\n",
       "<tr><td>1</td><td>27093785141</td><td>366.23397381294154</td><td>2021-11-17</td><td>0</td><td>6935</td><td>9.805431136520959</td><td>0</td></tr>\n",
       "</table>\n",
       "only showing top 20 rows\n"
      ],
      "text/plain": [
       "+-------+------------+------------------+--------------+----------------+--------+-----------------+-------------+\n",
       "|user_id|merchant_abn|      dollar_value|order_datetime|whether_bigorder|postcode| average_prob_con|whether_fraud|\n",
       "+-------+------------+------------------+--------------+----------------+--------+-----------------+-------------+\n",
       "|      1| 49891706470|15.730079162841406|    2022-06-21|               0|    6935|9.805431136520959|            0|\n",
       "|      1| 49891706470| 6.089109666984375|    2021-03-30|               0|    6935|9.805431136520959|            0|\n",
       "|      1| 49891706470|  49.7937996752238|    2022-05-29|               0|    6935|9.805431136520959|            0|\n",
       "|      1| 28510201393| 587.4024261414739|    2021-09-24|               0|    6935|9.805431136520959|            0|\n",
       "|      1| 49891706470| 5.904950671999753|    2021-03-04|               0|    6935|9.805431136520959|            0|\n",
       "|      1| 49891706470|29.031125253031277|    2021-09-11|               0|    6935|9.805431136520959|            0|\n",
       "|      1| 49891706470| 31.72414306182016|    2021-11-11|               0|    6935|9.805431136520959|            0|\n",
       "|      1| 81583941068|60.355511340797705|    2021-08-24|               0|    6935|9.805431136520959|            0|\n",
       "|      1| 46654841462|18.503827542784197|    2022-09-03|               0|    6935|9.805431136520959|            0|\n",
       "|      1| 46007761675|100.22461641821623|    2022-10-24|               0|    6935|9.805431136520959|            0|\n",
       "|      1| 83781478969|11.158164658064516|    2021-10-29|               0|    6935|9.805431136520959|            0|\n",
       "|      1| 49891706470|   9.8536077372169|    2021-04-20|               0|    6935|9.805431136520959|            0|\n",
       "|      1| 49891706470| 8.575435297903415|    2021-08-31|               0|    6935|9.805431136520959|            0|\n",
       "|      1| 49891706470|53.459655624285546|    2021-10-16|               0|    6935|9.805431136520959|            0|\n",
       "|      1| 49891706470| 46.15699347673238|    2021-11-04|               0|    6935|9.805431136520959|            0|\n",
       "|      1| 60654402457| 49.10112294851568|    2022-04-27|               0|    6935|9.805431136520959|            0|\n",
       "|      1| 62170730910|100.92907597492842|    2021-10-19|               0|    6935|9.805431136520959|            0|\n",
       "|      1| 86662713230| 52.76732812907132|    2021-09-09|               0|    6935|9.805431136520959|            0|\n",
       "|      1| 90568944804|  811.416129781905|    2022-02-24|               0|    6935|9.805431136520959|            0|\n",
       "|      1| 27093785141|366.23397381294154|    2021-11-17|               0|    6935|9.805431136520959|            0|\n",
       "+-------+------------+------------------+--------------+----------------+--------+-----------------+-------------+\n",
       "only showing top 20 rows"
      ]
     },
     "execution_count": 14,
     "metadata": {},
     "output_type": "execute_result"
    }
   ],
   "source": [
    "transaction"
   ]
  }
 ],
 "metadata": {
  "kernelspec": {
   "display_name": "Python 3.8.13 ('base')",
   "language": "python",
   "name": "python3"
  },
  "language_info": {
   "codemirror_mode": {
    "name": "ipython",
    "version": 3
   },
   "file_extension": ".py",
   "mimetype": "text/x-python",
   "name": "python",
   "nbconvert_exporter": "python",
   "pygments_lexer": "ipython3",
   "version": "3.8.13"
  },
  "orig_nbformat": 4,
  "vscode": {
   "interpreter": {
    "hash": "80d22fffded80c5bd95a70be935aa0a7eaf27817ba3bc2982545179d76b51d91"
   }
  }
 },
 "nbformat": 4,
 "nbformat_minor": 2
}
