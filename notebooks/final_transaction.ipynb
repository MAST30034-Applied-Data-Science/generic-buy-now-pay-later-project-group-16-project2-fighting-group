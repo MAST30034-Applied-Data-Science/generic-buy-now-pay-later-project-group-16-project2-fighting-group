{
 "cells": [
  {
   "cell_type": "code",
   "execution_count": 1,
   "metadata": {},
   "outputs": [
    {
     "name": "stdout",
     "output_type": "stream",
     "text": [
      "22/09/14 14:51:09 WARN Utils: Your hostname, hexiangyideMacBook-Pro.local resolves to a loopback address: 127.0.0.1; using 10.13.179.36 instead (on interface en0)\n",
      "22/09/14 14:51:09 WARN Utils: Set SPARK_LOCAL_IP if you need to bind to another address\n"
     ]
    },
    {
     "name": "stderr",
     "output_type": "stream",
     "text": [
      "Setting default log level to \"WARN\".\n",
      "To adjust logging level use sc.setLogLevel(newLevel). For SparkR, use setLogLevel(newLevel).\n"
     ]
    },
    {
     "name": "stdout",
     "output_type": "stream",
     "text": [
      "22/09/14 14:51:09 WARN NativeCodeLoader: Unable to load native-hadoop library for your platform... using builtin-java classes where applicable\n",
      "22/09/14 14:51:10 WARN Utils: Service 'SparkUI' could not bind on port 4040. Attempting port 4041.\n",
      "22/09/14 14:51:10 WARN Utils: Service 'SparkUI' could not bind on port 4041. Attempting port 4042.\n"
     ]
    }
   ],
   "source": [
    "from pyspark.sql import SparkSession\n",
    "from pyspark.sql import functions as F\n",
    "from pyspark.sql import Window\n",
    "import numpy as np\n",
    "from pyspark.sql.functions import *\n",
    "# Create a spark session (which will run spark jobs)\n",
    "spark = (\n",
    "    SparkSession.builder.appName(\"MAST30034 Tutorial 1\")\n",
    "    .config(\"spark.sql.repl.eagerEval.enabled\", True) \n",
    "    .config(\"spark.sql.parquet.cacheMetadata\", \"true\")\n",
    "    .config(\"spark.sql.session.timeZone\", \"Etc/UTC\")\n",
    "    .getOrCreate()\n",
    ")"
   ]
  },
  {
   "cell_type": "code",
   "execution_count": 2,
   "metadata": {},
   "outputs": [
    {
     "name": "stderr",
     "output_type": "stream",
     "text": [
      "                                                                                \r"
     ]
    }
   ],
   "source": [
    "#transaction\n",
    "ori_transaction1 = spark.read.parquet('../data/tables/transactions_20210228_20210827_snapshot').sort('order_datetime')\n",
    "ori_transaction2 = spark.read.parquet('../data/tables/transactions_20210828_20220227_snapshot').sort('order_datetime')\n",
    "ori_transaction3 = spark.read.parquet('../data/tables/transactions_20220228_20220828_snapshot').sort('order_datetime')\n",
    "#consumer\n",
    "tbl_consumer = spark.read.option(\"delimiter\", \"|\").option(\"header\",True).csv(\"../data/tables/tbl_consumer.csv\")\n",
    "consumer_detail = spark.read.parquet('../data/tables/consumer_user_details.parquet')\n",
    "#fraud\n",
    "consumer_fraud = spark.read.option(\"header\",True).csv('../data/tables/consumer_fraud_probability.csv')\n",
    "\n"
   ]
  },
  {
   "cell_type": "code",
   "execution_count": 3,
   "metadata": {},
   "outputs": [
    {
     "name": "stderr",
     "output_type": "stream",
     "text": [
      "                                                                                \r"
     ]
    },
    {
     "data": {
      "text/html": [
       "<table border='1'>\n",
       "<tr><th>user_id</th><th>merchant_abn</th><th>dollar_value</th><th>order_datetime</th></tr>\n",
       "<tr><td>1</td><td>28000487688</td><td>133.22689421562643</td><td>2021-02-28</td></tr>\n",
       "<tr><td>18485</td><td>62191208634</td><td>79.13140006851712</td><td>2021-02-28</td></tr>\n",
       "<tr><td>1</td><td>83690644458</td><td>30.441348317517228</td><td>2021-02-28</td></tr>\n",
       "</table>\n"
      ],
      "text/plain": [
       "+-------+------------+------------------+--------------+\n",
       "|user_id|merchant_abn|      dollar_value|order_datetime|\n",
       "+-------+------------+------------------+--------------+\n",
       "|      1| 28000487688|133.22689421562643|    2021-02-28|\n",
       "|  18485| 62191208634| 79.13140006851712|    2021-02-28|\n",
       "|      1| 83690644458|30.441348317517228|    2021-02-28|\n",
       "+-------+------------+------------------+--------------+"
      ]
     },
     "execution_count": 3,
     "metadata": {},
     "output_type": "execute_result"
    }
   ],
   "source": [
    "#transaction\n",
    "ori_transaction = ori_transaction1.union(ori_transaction2)\n",
    "ori_transaction = ori_transaction.union(ori_transaction3)\n",
    "ori_transaction = ori_transaction.drop('order_id')\n",
    "ori_transaction.limit(3)"
   ]
  },
  {
   "cell_type": "code",
   "execution_count": 4,
   "metadata": {},
   "outputs": [],
   "source": [
    "#delete outlier\n",
    "wind = Window.partitionBy('merchant_abn')\n",
    "\n",
    "q1= F.expr('percentile_approx(dollar_value, 0.25)')\n",
    "q3= F.expr('percentile_approx(dollar_value, 0.75)')\n",
    "\n",
    "testq = ori_transaction.withColumn('q1', q1.over(wind))\n",
    "testq = testq.withColumn('q3', q3.over(wind))\n",
    "\n",
    "testq = testq.withColumn('IQR', testq['q3']-testq['q1'])"
   ]
  },
  {
   "cell_type": "code",
   "execution_count": 5,
   "metadata": {},
   "outputs": [],
   "source": [
    "dele_out = testq.where((testq[\"dollar_value\"] <= testq[\"q1\"]+1.5*testq[\"IQR\"]) & (testq[\"dollar_value\"] >= testq[\"q1\"]-1.5*testq[\"IQR\"]))\n",
    "ori_transaction = dele_out.drop('q1','q3','IQR','order_id')"
   ]
  },
  {
   "cell_type": "code",
   "execution_count": 6,
   "metadata": {},
   "outputs": [],
   "source": [
    "ori_transaction = ori_transaction.withColumn(\n",
    "    \"whether_bigorder\",\n",
    "    F.when(F.col('dollar_value')>=10000, 1).otherwise(0))"
   ]
  },
  {
   "cell_type": "code",
   "execution_count": 7,
   "metadata": {},
   "outputs": [
    {
     "data": {
      "text/html": [
       "<table border='1'>\n",
       "<tr><th>user_id</th><th>postcode</th></tr>\n",
       "<tr><td>1</td><td>6935</td></tr>\n",
       "<tr><td>2</td><td>2782</td></tr>\n",
       "<tr><td>3</td><td>862</td></tr>\n",
       "</table>\n"
      ],
      "text/plain": [
       "+-------+--------+\n",
       "|user_id|postcode|\n",
       "+-------+--------+\n",
       "|      1|    6935|\n",
       "|      2|    2782|\n",
       "|      3|     862|\n",
       "+-------+--------+"
      ]
     },
     "execution_count": 7,
     "metadata": {},
     "output_type": "execute_result"
    }
   ],
   "source": [
    "#consumer\n",
    "consumer = consumer_detail.join(tbl_consumer, consumer_detail.consumer_id == tbl_consumer.consumer_id).drop(tbl_consumer.consumer_id)\n",
    "consumer = consumer.select('user_id', 'postcode')\n",
    "consumer.limit(3)"
   ]
  },
  {
   "cell_type": "code",
   "execution_count": 8,
   "metadata": {},
   "outputs": [],
   "source": [
    "#加入 sa2"
   ]
  },
  {
   "cell_type": "code",
   "execution_count": 9,
   "metadata": {},
   "outputs": [],
   "source": [
    "# fraud\n",
    "consumer_fraud = consumer_fraud.select(col(\"user_id\"),col(\"fraud_probability\"),to_date(col(\"order_datetime\"),\"yyyy-MM-dd\").alias(\"date\"))"
   ]
  },
  {
   "cell_type": "code",
   "execution_count": 10,
   "metadata": {},
   "outputs": [
    {
     "name": "stdout",
     "output_type": "stream",
     "text": [
      "34864\n",
      "34864\n"
     ]
    }
   ],
   "source": [
    "#check 2021/02/28 - 2022/08/28 data\n",
    "print(consumer_fraud.count())\n",
    "consumer_fraud.filter(\"date > '2021-02-28'\")\n",
    "consumer_fraud.filter(\"date < '2022-08-28'\")\n",
    "print(consumer_fraud.count())"
   ]
  },
  {
   "cell_type": "code",
   "execution_count": 11,
   "metadata": {},
   "outputs": [],
   "source": [
    "consumer_fraud_1 = consumer_fraud.groupBy('user_id').agg(F.avg('fraud_probability').alias('average_prob_con'))\n",
    "consumer_fraud_final = consumer_fraud_1.withColumn(\n",
    "    \"whether_fraud\",\n",
    "    F.when(F.col('average_prob_con')>=70, 1).otherwise(0))"
   ]
  },
  {
   "cell_type": "code",
   "execution_count": 12,
   "metadata": {},
   "outputs": [],
   "source": [
    "#加入 income & age"
   ]
  },
  {
   "cell_type": "code",
   "execution_count": 13,
   "metadata": {},
   "outputs": [],
   "source": [
    "consumer_final = consumer.join(consumer_fraud_final, consumer.user_id == consumer_fraud_final.user_id).drop(consumer_fraud_final.user_id)\n"
   ]
  },
  {
   "cell_type": "code",
   "execution_count": 18,
   "metadata": {},
   "outputs": [
    {
     "name": "stderr",
     "output_type": "stream",
     "text": [
      "                                                                                \r"
     ]
    }
   ],
   "source": [
    "consumer_final.write.parquet(f\"../data/curated/final_consumer.parquet\")\n"
   ]
  },
  {
   "cell_type": "code",
   "execution_count": 15,
   "metadata": {},
   "outputs": [
    {
     "name": "stderr",
     "output_type": "stream",
     "text": [
      "[Stage 93:>                                                         (0 + 8) / 9]\r"
     ]
    },
    {
     "name": "stdout",
     "output_type": "stream",
     "text": [
      "22/09/14 14:52:36 WARN MemoryManager: Total allocation exceeds 95.00% (906,992,014 bytes) of heap memory\n",
      "Scaling row group sizes to 96.54% for 7 writers\n",
      "22/09/14 14:52:36 WARN MemoryManager: Total allocation exceeds 95.00% (906,992,014 bytes) of heap memory\n",
      "Scaling row group sizes to 84.47% for 8 writers\n",
      "22/09/14 14:52:39 WARN MemoryManager: Total allocation exceeds 95.00% (906,992,014 bytes) of heap memory\n",
      "Scaling row group sizes to 96.54% for 7 writers\n"
     ]
    },
    {
     "name": "stderr",
     "output_type": "stream",
     "text": [
      "                                                                                \r"
     ]
    }
   ],
   "source": [
    "transaction = ori_transaction.join(consumer_final, ori_transaction.user_id == consumer_final.user_id).drop(consumer_final.user_id)\n",
    "transaction = transaction.sort(transaction.user_id)\n",
    "\n",
    "transaction.write.parquet(f\"../data/curated/final_transaction.parquet\")\n"
   ]
  }
 ],
 "metadata": {
  "kernelspec": {
   "display_name": "Python 3.8.13 ('ads')",
   "language": "python",
   "name": "python3"
  },
  "language_info": {
   "codemirror_mode": {
    "name": "ipython",
    "version": 3
   },
   "file_extension": ".py",
   "mimetype": "text/x-python",
   "name": "python",
   "nbconvert_exporter": "python",
   "pygments_lexer": "ipython3",
   "version": "3.8.13"
  },
  "orig_nbformat": 4,
  "vscode": {
   "interpreter": {
    "hash": "6e45bdfcba1031802b2f7a315f02d536e51553942a60e4ee4be74aec82814bfa"
   }
  }
 },
 "nbformat": 4,
 "nbformat_minor": 2
}
