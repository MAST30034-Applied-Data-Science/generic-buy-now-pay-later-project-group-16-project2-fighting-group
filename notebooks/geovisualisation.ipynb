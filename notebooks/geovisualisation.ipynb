{
 "cells": [
  {
   "cell_type": "code",
   "execution_count": 74,
   "metadata": {},
   "outputs": [],
   "source": [
    "from pyspark.sql import SparkSession\n",
    "from pyspark.sql import functions as F\n",
    "from pyspark.sql.functions import col\n",
    "import pandas as pd\n",
    "import geopandas as gpd\n",
    "import folium\n",
    "from shapely.wkt import loads\n",
    "# Create a spark session (which will run spark jobs)\n",
    "spark = (\n",
    "    SparkSession.builder.appName(\"MAST30034 Tutorial 1\")\n",
    "    .config(\"spark.sql.repl.eagerEval.enabled\", True) \n",
    "    .config(\"spark.sql.parquet.cacheMetadata\", \"true\")\n",
    "    .config(\"spark.sql.session.timeZone\", \"Etc/UTC\")\n",
    "    .getOrCreate()\n",
    ")"
   ]
  },
  {
   "cell_type": "code",
   "execution_count": 97,
   "metadata": {},
   "outputs": [
    {
     "data": {
      "text/plain": [
       "[('SA2_CODE21', 'string'),\n",
       " ('SA2_NAME21', 'string'),\n",
       " ('geometry', 'string'),\n",
       " ('income_percentage', 'double'),\n",
       " ('age_percentage', 'double'),\n",
       " ('SA2_NAME_2021', 'string'),\n",
       " ('RATIO_FROM_TO', 'string'),\n",
       " ('postcode', 'string'),\n",
       " ('avg_lat', 'double'),\n",
       " ('avg_long', 'double'),\n",
       " ('count_of_bigorder', 'bigint'),\n",
       " ('Avg_amount_monthly', 'double'),\n",
       " ('Avg_count_monthly', 'double'),\n",
       " ('Order_avg_value', 'double'),\n",
       " ('avg_prob_fraud_cus', 'double'),\n",
       " ('num_of_fraud', 'double'),\n",
       " ('count_cus_per_mon', 'double'),\n",
       " ('fix_cus_prob', 'double'),\n",
       " ('merchant_abn', 'bigint')]"
      ]
     },
     "execution_count": 97,
     "metadata": {},
     "output_type": "execute_result"
    }
   ],
   "source": [
    "final = spark.read.parquet('../data/curated/final_merchant_info.parquet')\n",
    "geospark = spark.read.parquet('../data/curated/SA2_2021_VIC_shapefile.parquet/')\n",
    "vic_data = geospark.join(final, geospark.SA2_CODE21 == final.SA2_CODE_2021, \"left\").drop(final.SA2_CODE_2021)\n",
    "\n",
    "vic_data.dtypes"
   ]
  },
  {
   "cell_type": "code",
   "execution_count": 95,
   "metadata": {},
   "outputs": [],
   "source": [
    "def visualisation(col_name, vic_data,geospark, title):\n",
    "    data = vic_data.groupBy(\"SA2_CODE21\").agg(F.avg(col_name).alias(col_name))\n",
    "    pdf = geospark.select(\"SA2_CODE21\", \"geometry\").toPandas()\n",
    "    pdf['geometry'] = gpd.GeoSeries.from_wkt(pdf['geometry'])\n",
    "    gdf = gpd.GeoDataFrame(pdf, geometry='geometry')\n",
    "    print(pdf.columns)\n",
    "    geoJSON = gdf[['SA2_CODE21', 'geometry']].drop_duplicates('SA2_CODE21').to_json()\n",
    "    m = folium.Map(location=[-37.84, 144.95], tiles=\"Stamen Terrain\", zoom_start=10)\n",
    "    print(geoJSON[:300])\n",
    "    # refer to the folium documentations on how to plot aggregated data.\n",
    "    c = folium.Choropleth(\n",
    "        geo_data=geoJSON, # geoJSON \n",
    "        name='choropleth', # name of plot\n",
    "        data=data.toPandas(), # data source\n",
    "        columns=['SA2_CODE21',col_name], # the columns required\n",
    "        key_on='properties.SA2_CODE21', # this is from the geoJSON's properties\n",
    "        fill_color='YlOrRd', # color scheme\n",
    "        nan_fill_color='black',\n",
    "        legend_name=col_name\n",
    "    )\n",
    "\n",
    "    map = c.add_to(m)\n",
    "\n",
    "    map.save('../plots/foliumChoropleth'+col_name+'.html')\n",
    "    map"
   ]
  },
  {
   "cell_type": "code",
   "execution_count": 96,
   "metadata": {},
   "outputs": [
    {
     "name": "stderr",
     "output_type": "stream",
     "text": [
      "                                                                                \r"
     ]
    },
    {
     "name": "stdout",
     "output_type": "stream",
     "text": [
      "Index(['SA2_CODE21', 'geometry'], dtype='object')\n",
      "{\"type\": \"FeatureCollection\", \"features\": [{\"id\": \"0\", \"type\": \"Feature\", \"properties\": {\"SA2_CODE21\": \"216021413\"}, \"geometry\": {\"type\": \"Polygon\", \"coordinates\": [[[144.9840516499428, -36.05297636768364], [144.9840130799277, -36.05318303768235], [144.9839141899028, -36.05357800767813], [144.983900\n"
     ]
    }
   ],
   "source": [
    "visualisation(\"income_percentage\", vic_data, geospark,\"average income percentage by SA2\")"
   ]
  }
 ],
 "metadata": {
  "kernelspec": {
   "display_name": "Python 3.7.13 ('base')",
   "language": "python",
   "name": "python3"
  },
  "language_info": {
   "codemirror_mode": {
    "name": "ipython",
    "version": 3
   },
   "file_extension": ".py",
   "mimetype": "text/x-python",
   "name": "python",
   "nbconvert_exporter": "python",
   "pygments_lexer": "ipython3",
   "version": "3.7.13"
  },
  "orig_nbformat": 4,
  "vscode": {
   "interpreter": {
    "hash": "664b9b2cfc08063ed3ab9f92e6d6cbdfe30eb833d966541c89dc480f035db465"
   }
  }
 },
 "nbformat": 4,
 "nbformat_minor": 2
}
