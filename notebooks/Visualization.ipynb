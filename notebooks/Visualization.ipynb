{
 "cells": [
  {
   "cell_type": "code",
   "execution_count": 1,
   "metadata": {},
   "outputs": [
    {
     "name": "stdout",
     "output_type": "stream",
     "text": [
      "22/09/16 16:44:13 WARN Utils: Your hostname, hexiangyideMacBook-Pro.local resolves to a loopback address: 127.0.0.1; using 10.13.174.166 instead (on interface en0)\n",
      "22/09/16 16:44:13 WARN Utils: Set SPARK_LOCAL_IP if you need to bind to another address\n"
     ]
    },
    {
     "name": "stderr",
     "output_type": "stream",
     "text": [
      "Setting default log level to \"WARN\".\n",
      "To adjust logging level use sc.setLogLevel(newLevel). For SparkR, use setLogLevel(newLevel).\n"
     ]
    },
    {
     "name": "stdout",
     "output_type": "stream",
     "text": [
      "22/09/16 16:44:14 WARN NativeCodeLoader: Unable to load native-hadoop library for your platform... using builtin-java classes where applicable\n"
     ]
    }
   ],
   "source": [
    "from pyspark.sql import SparkSession\n",
    "from pyspark.sql import functions as F\n",
    "# Create a spark session (which will run spark jobs)\n",
    "spark = (\n",
    "    SparkSession.builder.appName(\"MAST30034 Tutorial 1\")\n",
    "    .config(\"spark.sql.repl.eagerEval.enabled\", True) \n",
    "    .config(\"spark.sql.parquet.cacheMetadata\", \"true\")\n",
    "    .config(\"spark.sql.session.timeZone\", \"Etc/UTC\")\n",
    "    .getOrCreate()\n",
    ")"
   ]
  },
  {
   "cell_type": "code",
   "execution_count": 2,
   "metadata": {},
   "outputs": [
    {
     "name": "stderr",
     "output_type": "stream",
     "text": [
      "                                                                                \r"
     ]
    },
    {
     "data": {
      "text/html": [
       "<table border='1'>\n",
       "<tr><th>Store type</th><th>Revenue levels</th><th>Take rate</th><th>count_of_bigorder</th><th>Avg_amount_monthly</th><th>Avg_count_monthly</th><th>Order_avg_value</th><th>merchant_abn</th><th>postcode</th><th>avg_prob_fraud_cus</th><th>num_of_fraud</th><th>count_cus_per_mon</th><th>fix_cus_num</th></tr>\n",
       "<tr><td>furniture, home f...</td><td>e</td><td> 0.18</td><td>0</td><td>28650.29</td><td>159.94</td><td>179.13</td><td>10023283211</td><td>5582</td><td>13.103379067059794</td><td>8.0</td><td>150.11</td><td>0</td></tr>\n",
       "<tr><td>cable, satellite,...</td><td>b</td><td> 4.22</td><td>0</td><td>3741.36</td><td>143.5</td><td>26.07</td><td>10142254217</td><td>6438</td><td>13.235562244148692</td><td>12.0</td><td>135.56</td><td>0</td></tr>\n",
       "<tr><td>jewelry, watch, c...</td><td>b</td><td> 4.40</td><td>3</td><td>3121.14</td><td>0.28</td><td>11236.09</td><td>10165489824</td><td>6421</td><td>18.309874962268612</td><td>0.0</td><td>0.28</td><td>0</td></tr>\n",
       "</table>\n"
      ],
      "text/plain": [
       "+--------------------+--------------+---------+-----------------+------------------+-----------------+---------------+------------+--------+------------------+------------+-----------------+-----------+\n",
       "|          Store type|Revenue levels|Take rate|count_of_bigorder|Avg_amount_monthly|Avg_count_monthly|Order_avg_value|merchant_abn|postcode|avg_prob_fraud_cus|num_of_fraud|count_cus_per_mon|fix_cus_num|\n",
       "+--------------------+--------------+---------+-----------------+------------------+-----------------+---------------+------------+--------+------------------+------------+-----------------+-----------+\n",
       "|furniture, home f...|             e|     0.18|                0|          28650.29|           159.94|         179.13| 10023283211|    5582|13.103379067059794|         8.0|           150.11|          0|\n",
       "|cable, satellite,...|             b|     4.22|                0|           3741.36|            143.5|          26.07| 10142254217|    6438|13.235562244148692|        12.0|           135.56|          0|\n",
       "|jewelry, watch, c...|             b|     4.40|                3|           3121.14|             0.28|       11236.09| 10165489824|    6421|18.309874962268612|         0.0|             0.28|          0|\n",
       "+--------------------+--------------+---------+-----------------+------------------+-----------------+---------------+------------+--------+------------------+------------+-----------------+-----------+"
      ]
     },
     "execution_count": 2,
     "metadata": {},
     "output_type": "execute_result"
    }
   ],
   "source": [
    "merchant_info = spark.read.parquet('../data/curated/merchant_info_del.parquet')\n",
    "merchant_info.limit(3)"
   ]
  }
 ],
 "metadata": {
  "kernelspec": {
   "display_name": "Python 3.8.13 ('ads')",
   "language": "python",
   "name": "python3"
  },
  "language_info": {
   "codemirror_mode": {
    "name": "ipython",
    "version": 3
   },
   "file_extension": ".py",
   "mimetype": "text/x-python",
   "name": "python",
   "nbconvert_exporter": "python",
   "pygments_lexer": "ipython3",
   "version": "3.8.13"
  },
  "orig_nbformat": 4,
  "vscode": {
   "interpreter": {
    "hash": "6e45bdfcba1031802b2f7a315f02d536e51553942a60e4ee4be74aec82814bfa"
   }
  }
 },
 "nbformat": 4,
 "nbformat_minor": 2
}
