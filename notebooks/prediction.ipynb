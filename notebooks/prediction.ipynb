{
 "cells": [
  {
   "cell_type": "code",
   "execution_count": 2,
   "metadata": {},
   "outputs": [
    {
     "name": "stderr",
     "output_type": "stream",
     "text": [
      "22/10/05 16:55:49 WARN Utils: Your hostname, SerennoMacBook-Air.local resolves to a loopback address: 127.0.0.1; using 172.16.5.95 instead (on interface en0)\n",
      "22/10/05 16:55:49 WARN Utils: Set SPARK_LOCAL_IP if you need to bind to another address\n",
      "22/10/05 16:55:50 WARN NativeCodeLoader: Unable to load native-hadoop library for your platform... using builtin-java classes where applicable\n",
      "Using Spark's default log4j profile: org/apache/spark/log4j-defaults.properties\n",
      "Setting default log level to \"WARN\".\n",
      "To adjust logging level use sc.setLogLevel(newLevel). For SparkR, use setLogLevel(newLevel).\n"
     ]
    }
   ],
   "source": [
    "from pyspark.sql import SparkSession\n",
    "from pyspark.sql import functions as F\n",
    "import numpy as np\n",
    "from pyspark.sql.functions import *\n",
    "import pandas as pd\n",
    "# Create a spark session (which will run spark jobs)\n",
    "spark = (\n",
    "    SparkSession.builder.appName(\"MAST30034 Tutorial 1\")\n",
    "    .config(\"spark.sql.repl.eagerEval.enabled\", True) \n",
    "    .config(\"spark.sql.parquet.cacheMetadata\", \"true\")\n",
    "    .config(\"spark.sql.session.timeZone\", \"Etc/UTC\")\n",
    "    .getOrCreate()\n",
    ")"
   ]
  },
  {
   "cell_type": "code",
   "execution_count": 21,
   "metadata": {},
   "outputs": [],
   "source": [
    "from keras.models import Sequential\n",
    "from keras.layers import Dense\n",
    "from numpy import array"
   ]
  },
  {
   "cell_type": "code",
   "execution_count": 3,
   "metadata": {},
   "outputs": [
    {
     "name": "stderr",
     "output_type": "stream",
     "text": [
      "                                                                                \r"
     ]
    }
   ],
   "source": [
    "tbl_transaction = spark.read.parquet(\"../data/curated/final_transaction.parquet\")"
   ]
  },
  {
   "cell_type": "code",
   "execution_count": 58,
   "metadata": {},
   "outputs": [
    {
     "data": {
      "text/plain": [
       "[('user_id', 'bigint'),\n",
       " ('merchant_abn', 'bigint'),\n",
       " ('dollar_value', 'double'),\n",
       " ('order_datetime', 'date'),\n",
       " ('whether_bigorder', 'int'),\n",
       " ('postcode', 'string'),\n",
       " ('average_prob_con', 'double'),\n",
       " ('whether_fraud', 'int')]"
      ]
     },
     "execution_count": 58,
     "metadata": {},
     "output_type": "execute_result"
    }
   ],
   "source": [
    "tbl_transaction.dtypes"
   ]
  },
  {
   "cell_type": "code",
   "execution_count": 4,
   "metadata": {},
   "outputs": [
    {
     "name": "stderr",
     "output_type": "stream",
     "text": [
      "                                                                                \r"
     ]
    },
    {
     "name": "stdout",
     "output_type": "stream",
     "text": [
      "+-------+------------+------------------+--------------+----------------+--------+-----------------+-------------+\n",
      "|user_id|merchant_abn|      dollar_value|order_datetime|whether_bigorder|postcode| average_prob_con|whether_fraud|\n",
      "+-------+------------+------------------+--------------+----------------+--------+-----------------+-------------+\n",
      "|  11813| 11121775571|12.657354867135332|    2021-12-14|               0|    3959|9.132996419186014|            0|\n",
      "|  11813| 49322182190|193.56810952479583|    2021-12-18|               0|    3959|9.132996419186014|            0|\n",
      "|  11813| 11173270682| 165.3629765111036|    2021-10-06|               0|    3959|9.132996419186014|            0|\n",
      "|  11813| 49322182190|   137.01318824084|    2022-07-25|               0|    3959|9.132996419186014|            0|\n",
      "|  11813| 11173270682| 331.5640615872036|    2022-05-15|               0|    3959|9.132996419186014|            0|\n",
      "|  11813| 56030772622| 209.8358230504878|    2021-08-28|               0|    3959|9.132996419186014|            0|\n",
      "|  11813| 11944993446| 35.52909240683687|    2021-06-15|               0|    3959|9.132996419186014|            0|\n",
      "|  11813| 81249812970| 544.4364722547275|    2021-10-24|               0|    3959|9.132996419186014|            0|\n",
      "|  11813| 11944993446|122.34549313116791|    2022-08-24|               0|    3959|9.132996419186014|            0|\n",
      "|  11813| 12870663624| 85.47797553785712|    2022-07-20|               0|    3959|9.132996419186014|            0|\n",
      "|  11813| 14492521225| 9.565075831626897|    2022-04-02|               0|    3959|9.132996419186014|            0|\n",
      "|  11813| 12899341959| 451.4656284031031|    2021-12-26|               0|    3959|9.132996419186014|            0|\n",
      "|  11813| 14492521225| 37.25832215005899|    2022-06-14|               0|    3959|9.132996419186014|            0|\n",
      "|  11813| 17324645993| 3.720662908940404|    2021-08-15|               0|    3959|9.132996419186014|            0|\n",
      "|  11813| 14559784311| 138.4424416536455|    2021-07-01|               0|    3959|9.132996419186014|            0|\n",
      "|  11813| 17324645993| 3.131341439508457|    2022-06-12|               0|    3959|9.132996419186014|            0|\n",
      "|  11813| 15560455575|14.946516211489364|    2021-03-22|               0|    3959|9.132996419186014|            0|\n",
      "|  11813| 18709053174|15.346892422348759|    2021-04-01|               0|    3959|9.132996419186014|            0|\n",
      "|  11813| 15560455575|149.05759931242116|    2022-10-03|               0|    3959|9.132996419186014|            0|\n",
      "|  11813| 19618998054|29.177904120127224|    2022-02-26|               0|    3959|9.132996419186014|            0|\n",
      "+-------+------------+------------------+--------------+----------------+--------+-----------------+-------------+\n",
      "only showing top 20 rows\n",
      "\n"
     ]
    },
    {
     "name": "stderr",
     "output_type": "stream",
     "text": [
      "[Stage 2:>                                                          (0 + 4) / 5]\r"
     ]
    },
    {
     "name": "stdout",
     "output_type": "stream",
     "text": [
      "+-------------------+-------------------+\n",
      "|min(order_datetime)|max(order_datetime)|\n",
      "+-------------------+-------------------+\n",
      "|         2021-02-28|         2022-08-28|\n",
      "+-------------------+-------------------+\n",
      "\n"
     ]
    },
    {
     "name": "stderr",
     "output_type": "stream",
     "text": [
      "                                                                                \r"
     ]
    }
   ],
   "source": [
    "tbl_transaction.show(20)\n",
    "\n",
    "tbl_transaction = tbl_transaction.filter(\"order_datetime >= '2021-02-28'\")\n",
    "tbl_transaction = tbl_transaction.filter(\"order_datetime <= '2022-08-28'\")\n",
    "tbl_transaction.agg(F.min(\"order_datetime\"), F.max(\"order_datetime\")).show()\n"
   ]
  },
  {
   "cell_type": "code",
   "execution_count": 5,
   "metadata": {},
   "outputs": [
    {
     "name": "stderr",
     "output_type": "stream",
     "text": [
      "[Stage 4:=======================>                                   (2 + 3) / 5]\r"
     ]
    },
    {
     "name": "stdout",
     "output_type": "stream",
     "text": [
      "+-------+------------+------------------+--------------+----------------+--------+------------------+-------------+\n",
      "|user_id|merchant_abn|      dollar_value|order_datetime|whether_bigorder|postcode|  average_prob_con|whether_fraud|\n",
      "+-------+------------+------------------+--------------+----------------+--------+------------------+-------------+\n",
      "|   1125| 37935728745|1334.4788819571713|    2021-06-09|               0|    5073|14.921984314779792|            0|\n",
      "|   4109| 37935728745|12036.874087756309|    2021-08-12|               1|    5381|24.360827467633634|            0|\n",
      "|  19024| 37935728745|19184.728145204877|    2021-09-30|               1|    5351| 32.76628104964881|            0|\n",
      "|  12890| 37935728745| 8471.766291167125|    2021-11-23|               0|    6017| 22.23238611786161|            0|\n",
      "|   5577| 37935728745|1736.4273978943363|    2021-12-17|               0|    2425|12.216149932973964|            0|\n",
      "|   2995| 37935728745|16087.205243232016|    2021-12-27|               1|    6904| 46.21549418599374|            0|\n",
      "|   1711| 37935728745| 2626.807212132296|    2022-07-16|               0|    2028|11.241215797700978|            0|\n",
      "+-------+------------+------------------+--------------+----------------+--------+------------------+-------------+\n",
      "\n"
     ]
    },
    {
     "name": "stderr",
     "output_type": "stream",
     "text": [
      "                                                                                \r"
     ]
    }
   ],
   "source": [
    "#tbl_transaction.groupBy(\"merchant_abn\").agg(F.count(F.col(\"order_datetime\"))).show(20)\n",
    "tbl_transaction.filter(F.col(\"merchant_abn\")==\"37935728745\").orderBy(\"order_datetime\").show()"
   ]
  },
  {
   "cell_type": "code",
   "execution_count": 8,
   "metadata": {},
   "outputs": [
    {
     "name": "stderr",
     "output_type": "stream",
     "text": [
      "                                                                                \r"
     ]
    },
    {
     "name": "stdout",
     "output_type": "stream",
     "text": [
      "+-------+------------+------------------+--------------+----------------+--------+-----------------+-------------+---------+\n",
      "|user_id|merchant_abn|      dollar_value|order_datetime|whether_bigorder|postcode| average_prob_con|whether_fraud|month_num|\n",
      "+-------+------------+------------------+--------------+----------------+--------+-----------------+-------------+---------+\n",
      "|  11813| 11121775571|12.657354867135332|    2021-12-14|               0|    3959|9.132996419186014|            0|       11|\n",
      "|  11813| 49322182190|193.56810952479583|    2021-12-18|               0|    3959|9.132996419186014|            0|       11|\n",
      "|  11813| 11173270682| 165.3629765111036|    2021-10-06|               0|    3959|9.132996419186014|            0|        9|\n",
      "|  11813| 49322182190|   137.01318824084|    2022-07-25|               0|    3959|9.132996419186014|            0|       18|\n",
      "|  11813| 11173270682| 331.5640615872036|    2022-05-15|               0|    3959|9.132996419186014|            0|       16|\n",
      "|  11813| 56030772622| 209.8358230504878|    2021-08-28|               0|    3959|9.132996419186014|            0|        7|\n",
      "|  11813| 11944993446| 35.52909240683687|    2021-06-15|               0|    3959|9.132996419186014|            0|        5|\n",
      "|  11813| 81249812970| 544.4364722547275|    2021-10-24|               0|    3959|9.132996419186014|            0|        9|\n",
      "|  11813| 11944993446|122.34549313116791|    2022-08-24|               0|    3959|9.132996419186014|            0|       19|\n",
      "|  11813| 12870663624| 85.47797553785712|    2022-07-20|               0|    3959|9.132996419186014|            0|       18|\n",
      "|  11813| 14492521225| 9.565075831626897|    2022-04-02|               0|    3959|9.132996419186014|            0|       15|\n",
      "|  11813| 12899341959| 451.4656284031031|    2021-12-26|               0|    3959|9.132996419186014|            0|       11|\n",
      "|  11813| 14492521225| 37.25832215005899|    2022-06-14|               0|    3959|9.132996419186014|            0|       17|\n",
      "|  11813| 17324645993| 3.720662908940404|    2021-08-15|               0|    3959|9.132996419186014|            0|        7|\n",
      "|  11813| 14559784311| 138.4424416536455|    2021-07-01|               0|    3959|9.132996419186014|            0|        6|\n",
      "|  11813| 17324645993| 3.131341439508457|    2022-06-12|               0|    3959|9.132996419186014|            0|       17|\n",
      "|  11813| 15560455575|14.946516211489364|    2021-03-22|               0|    3959|9.132996419186014|            0|        2|\n",
      "|  11813| 18709053174|15.346892422348759|    2021-04-01|               0|    3959|9.132996419186014|            0|        3|\n",
      "|  11813| 19618998054|29.177904120127224|    2022-02-26|               0|    3959|9.132996419186014|            0|       13|\n",
      "|  11813| 16570599421|60.847585110999006|    2022-03-25|               0|    3959|9.132996419186014|            0|       14|\n",
      "+-------+------------+------------------+--------------+----------------+--------+-----------------+-------------+---------+\n",
      "only showing top 20 rows\n",
      "\n"
     ]
    }
   ],
   "source": [
    "#Xは18ヶ月分の月\n",
    "#merchant_abnごとに\n",
    "#月のaverageをとってデータにする:Y\n",
    "#計算をする\n",
    "from pyspark.sql.types import IntegerType\n",
    "start_month = tbl_transaction.select(min(\"order_datetime\").alias(\"min_date\")).select(month(\"min_date\").cast(IntegerType())).collect()[0][0]\n",
    "\n",
    "from pyspark.sql.types import IntegerType\n",
    "tbl_transaction2 = tbl_transaction\\\n",
    "    .withColumn('month',month(tbl_transaction.order_datetime).cast(IntegerType()))\\\n",
    "    .withColumn('year',year(tbl_transaction.order_datetime))\n",
    "    \n",
    "# set the start month to be 1, and calculate the number of months passed after that\n",
    "transaction_month_num =  tbl_transaction2.withColumn('month_num',when(tbl_transaction2.year == \"2022\", F.col('month')-start_month+1+12).otherwise(F.col('month')-start_month+1))\\\n",
    "    .drop('month', 'year')\n",
    "\n",
    "\n",
    "transaction_month_num.show()"
   ]
  },
  {
   "cell_type": "markdown",
   "metadata": {},
   "source": [
    "referenced cite: \n",
    "- https://bobrupakroy.medium.com/multi-layer-perception-time-series-8a1bddbb033a\n",
    "- https://machinelearningmastery.com/adam-optimization-algorithm-for-deep-learning/\n",
    "- https://codeit.us/blog/machine-learning-time-series-forecasting#:~:text=Time%20series%20forecasting%20in%20machine%20learning,-Before%20anything%20else&text=Time%20Series%20pertains%20to%20the,%22why%22%20behind%20its%20dataset."
   ]
  },
  {
   "cell_type": "code",
   "execution_count": 20,
   "metadata": {},
   "outputs": [],
   "source": [
    "#group each consecutive values of n months\n",
    "def consec_data(data_list, n_months):\n",
    "    X = []\n",
    "    y = []\n",
    "    for i in range(len(data_list)):\n",
    "        end_month = i + n_months\n",
    "        if end_month > len(data_list)-1:\n",
    "            break\n",
    "        get_x, get_y = data_list[i:end_month], data_list[end_month]\n",
    "        X.append(get_x)\n",
    "        y.append(get_y)\n",
    "    return array(X), array(y)\n"
   ]
  },
  {
   "cell_type": "markdown",
   "metadata": {},
   "source": [
    "Please install tensorflow"
   ]
  },
  {
   "cell_type": "code",
   "execution_count": 16,
   "metadata": {},
   "outputs": [
    {
     "name": "stderr",
     "output_type": "stream",
     "text": [
      "2022-10-05 17:17:42.589315: I tensorflow/core/platform/cpu_feature_guard.cc:193] This TensorFlow binary is optimized with oneAPI Deep Neural Network Library (oneDNN) to use the following CPU instructions in performance-critical operations:  SSE4.1 SSE4.2 AVX AVX2 AVX512F AVX512_VNNI FMA\n",
      "To enable them in other operations, rebuild TensorFlow with the appropriate compiler flags.\n"
     ]
    }
   ],
   "source": [
    "\n",
    "n_months = 3\n",
    "model = Sequential()\n",
    "model.add(Dense(100, activation='relu', input_dim=n_months))\n",
    "model.add(Dense(1))\n",
    "model.compile(optimizer='adam', loss='mse')"
   ]
  },
  {
   "cell_type": "code",
   "execution_count": 44,
   "metadata": {},
   "outputs": [
    {
     "name": "stderr",
     "output_type": "stream",
     "text": [
      "                                                                                \r"
     ]
    }
   ],
   "source": [
    "data = transaction_month_num.select(\"merchant_abn\", \"dollar_value\", \"month_num\").sort(\"merchant_abn\", \"month_num\")\n",
    "distinct_merchants = data.select(\"merchant_abn\").distinct().rdd.flatMap(lambda x: x).collect()\n",
    "MONTH_PERIOD = 18\n",
    "\n",
    "predict_store = []\n",
    "month = [m for m in range(1, MONTH_PERIOD+2)]\n",
    "zeros = [0]*MONTH_PERIOD\n",
    "month_list_initial = zip(month,zeros)\n",
    "initial_df = spark.createDataFrame(data=month_list_initial, schema = [\"month_num\", \"zeros\"])\n",
    "for merchant in distinct_merchants:\n",
    "    one_merchant_data = data.filter(F.col(\"merchant_abn\")==merchant)\\\n",
    "                            .groupBy(F.col(\"month_num\"))\\\n",
    "                            .agg(F.avg(\"dollar_value\").alias(\"avg_dollar_value\"))\n",
    "     \n",
    "    one_merchant_and_missing_values = initial_df.join(one_merchant_data, initial_df.month_num == one_merchant_data.month_num, \"left\")\\\n",
    "                    .na.fill(value=0)\\\n",
    "                    .drop(\"zeros\")   \n",
    "\n",
    "    list_dollar = one_merchant_and_missing_values.select(\"avg_dollar_value\").rdd.flatMap(lambda x: x).collect()\n",
    "    X, y = consec_data(list_dollar, n_months)\n",
    "\n",
    "    #fit\n",
    "    model.fit(X, y, epochs=3000, verbose=0)\n",
    "    #predict\n",
    "    x_input = array(list_dollar[-n_months:])\n",
    "    x_input = x_input.reshape((1, n_months))\n",
    "    ypredict = model.predict(x_input, verbose=0)\n",
    "    predict_store.append((merchant, ypredict[0][0]))\n",
    "    \n",
    "\n",
    "    "
   ]
  },
  {
   "cell_type": "code",
   "execution_count": null,
   "metadata": {},
   "outputs": [
    {
     "name": "stdout",
     "output_type": "stream",
     "text": [
      "[(73256306726, 216.40903), (24406529929, 46.404495), (38700038932, 1133.9017)]\n",
      "+------------+------------------+---------+\n",
      "|merchant_abn|      dollar_value|month_num|\n",
      "+------------+------------------+---------+\n",
      "| 38700038932|1292.1571245407833|        1|\n",
      "| 38700038932| 938.7308650806563|        1|\n",
      "| 38700038932| 336.9310821210983|        1|\n",
      "| 38700038932| 1700.092993601305|        1|\n",
      "| 38700038932|1909.0415231377456|        1|\n",
      "| 38700038932| 1001.077210662485|        1|\n",
      "| 38700038932|  512.586476558845|        1|\n",
      "| 38700038932| 644.5506173895864|        1|\n",
      "| 38700038932|1353.9684306590711|        1|\n",
      "| 38700038932|1008.0417171551393|        1|\n",
      "| 38700038932|  363.962272793618|        1|\n",
      "| 38700038932|1128.2709775543938|        2|\n",
      "| 38700038932|1431.9753412409634|        2|\n",
      "| 38700038932|1264.1416900941354|        2|\n",
      "| 38700038932| 921.7906536652772|        2|\n",
      "| 38700038932|1745.2925231901536|        2|\n",
      "| 38700038932|1459.2458547449419|        2|\n",
      "| 38700038932| 1186.008869610622|        2|\n",
      "| 38700038932| 563.5374102400399|        2|\n",
      "| 38700038932|1021.5665244307403|        2|\n",
      "+------------+------------------+---------+\n",
      "only showing top 20 rows\n",
      "\n"
     ]
    },
    {
     "name": "stderr",
     "output_type": "stream",
     "text": [
      "                                                                                \r"
     ]
    }
   ],
   "source": [
    "save_df = spark.createDataFrame(data=predict_store, schema = [\"merchant_abn\",\"predict_dollar_value\"])\n",
    "save_df.to_parquet(f\"../data/curated/predicted_dollar_value.parquet\")"
   ]
  }
 ],
 "metadata": {
  "kernelspec": {
   "display_name": "Python 3.7.13 ('base')",
   "language": "python",
   "name": "python3"
  },
  "language_info": {
   "codemirror_mode": {
    "name": "ipython",
    "version": 3
   },
   "file_extension": ".py",
   "mimetype": "text/x-python",
   "name": "python",
   "nbconvert_exporter": "python",
   "pygments_lexer": "ipython3",
   "version": "3.7.13"
  },
  "orig_nbformat": 4,
  "vscode": {
   "interpreter": {
    "hash": "664b9b2cfc08063ed3ab9f92e6d6cbdfe30eb833d966541c89dc480f035db465"
   }
  }
 },
 "nbformat": 4,
 "nbformat_minor": 2
}
