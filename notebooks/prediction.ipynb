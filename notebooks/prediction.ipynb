{
 "cells": [
  {
   "cell_type": "code",
   "execution_count": 2,
   "metadata": {},
   "outputs": [
    {
     "name": "stderr",
     "output_type": "stream",
     "text": [
      "22/10/06 12:06:13 WARN Utils: Your hostname, SerennoMacBook-Air.local resolves to a loopback address: 127.0.0.1; using 10.13.240.228 instead (on interface en0)\n",
      "22/10/06 12:06:13 WARN Utils: Set SPARK_LOCAL_IP if you need to bind to another address\n",
      "22/10/06 12:06:14 WARN NativeCodeLoader: Unable to load native-hadoop library for your platform... using builtin-java classes where applicable\n",
      "Using Spark's default log4j profile: org/apache/spark/log4j-defaults.properties\n",
      "Setting default log level to \"WARN\".\n",
      "To adjust logging level use sc.setLogLevel(newLevel). For SparkR, use setLogLevel(newLevel).\n"
     ]
    }
   ],
   "source": [
    "from pyspark.sql import SparkSession\n",
    "from pyspark.sql import functions as F\n",
    "import numpy as np\n",
    "from pyspark.sql.functions import *\n",
    "import pandas as pd\n",
    "# Create a spark session (which will run spark jobs)\n",
    "spark = (\n",
    "    SparkSession.builder.appName(\"MAST30034 Tutorial 1\")\n",
    "    .config(\"spark.sql.repl.eagerEval.enabled\", True) \n",
    "    .config(\"spark.sql.parquet.cacheMetadata\", \"true\")\n",
    "    .config(\"spark.sql.session.timeZone\", \"Etc/UTC\")\n",
    "    .getOrCreate()\n",
    ")"
   ]
  },
  {
   "cell_type": "code",
   "execution_count": 3,
   "metadata": {},
   "outputs": [],
   "source": [
    "from keras.models import Sequential\n",
    "from keras.layers import Dense\n",
    "from numpy import array\n",
    "import os"
   ]
  },
  {
   "cell_type": "code",
   "execution_count": 4,
   "metadata": {},
   "outputs": [
    {
     "name": "stderr",
     "output_type": "stream",
     "text": [
      "                                                                                \r"
     ]
    }
   ],
   "source": [
    "tbl_transaction = spark.read.parquet(\"../data/curated/final_transaction.parquet\")"
   ]
  },
  {
   "cell_type": "code",
   "execution_count": 58,
   "metadata": {},
   "outputs": [
    {
     "data": {
      "text/plain": [
       "[('user_id', 'bigint'),\n",
       " ('merchant_abn', 'bigint'),\n",
       " ('dollar_value', 'double'),\n",
       " ('order_datetime', 'date'),\n",
       " ('whether_bigorder', 'int'),\n",
       " ('postcode', 'string'),\n",
       " ('average_prob_con', 'double'),\n",
       " ('whether_fraud', 'int')]"
      ]
     },
     "execution_count": 58,
     "metadata": {},
     "output_type": "execute_result"
    }
   ],
   "source": [
    "tbl_transaction.dtypes"
   ]
  },
  {
   "cell_type": "code",
   "execution_count": 5,
   "metadata": {},
   "outputs": [
    {
     "name": "stderr",
     "output_type": "stream",
     "text": [
      "                                                                                \r"
     ]
    },
    {
     "name": "stdout",
     "output_type": "stream",
     "text": [
      "+-------+------------+------------------+--------------+----------------+--------+-----------------+-------------+\n",
      "|user_id|merchant_abn|      dollar_value|order_datetime|whether_bigorder|postcode| average_prob_con|whether_fraud|\n",
      "+-------+------------+------------------+--------------+----------------+--------+-----------------+-------------+\n",
      "|  11813| 11121775571|12.657354867135332|    2021-12-14|               0|    3959|9.132996419186014|            0|\n",
      "|  11813| 49322182190|193.56810952479583|    2021-12-18|               0|    3959|9.132996419186014|            0|\n",
      "|  11813| 11173270682| 165.3629765111036|    2021-10-06|               0|    3959|9.132996419186014|            0|\n",
      "|  11813| 49322182190|   137.01318824084|    2022-07-25|               0|    3959|9.132996419186014|            0|\n",
      "|  11813| 11173270682| 331.5640615872036|    2022-05-15|               0|    3959|9.132996419186014|            0|\n",
      "|  11813| 56030772622| 209.8358230504878|    2021-08-28|               0|    3959|9.132996419186014|            0|\n",
      "|  11813| 11944993446| 35.52909240683687|    2021-06-15|               0|    3959|9.132996419186014|            0|\n",
      "|  11813| 81249812970| 544.4364722547275|    2021-10-24|               0|    3959|9.132996419186014|            0|\n",
      "|  11813| 11944993446|122.34549313116791|    2022-08-24|               0|    3959|9.132996419186014|            0|\n",
      "|  11813| 12870663624| 85.47797553785712|    2022-07-20|               0|    3959|9.132996419186014|            0|\n",
      "|  11813| 14492521225| 9.565075831626897|    2022-04-02|               0|    3959|9.132996419186014|            0|\n",
      "|  11813| 12899341959| 451.4656284031031|    2021-12-26|               0|    3959|9.132996419186014|            0|\n",
      "|  11813| 14492521225| 37.25832215005899|    2022-06-14|               0|    3959|9.132996419186014|            0|\n",
      "|  11813| 17324645993| 3.720662908940404|    2021-08-15|               0|    3959|9.132996419186014|            0|\n",
      "|  11813| 14559784311| 138.4424416536455|    2021-07-01|               0|    3959|9.132996419186014|            0|\n",
      "|  11813| 17324645993| 3.131341439508457|    2022-06-12|               0|    3959|9.132996419186014|            0|\n",
      "|  11813| 15560455575|14.946516211489364|    2021-03-22|               0|    3959|9.132996419186014|            0|\n",
      "|  11813| 18709053174|15.346892422348759|    2021-04-01|               0|    3959|9.132996419186014|            0|\n",
      "|  11813| 15560455575|149.05759931242116|    2022-10-03|               0|    3959|9.132996419186014|            0|\n",
      "|  11813| 19618998054|29.177904120127224|    2022-02-26|               0|    3959|9.132996419186014|            0|\n",
      "+-------+------------+------------------+--------------+----------------+--------+-----------------+-------------+\n",
      "only showing top 20 rows\n",
      "\n"
     ]
    },
    {
     "name": "stderr",
     "output_type": "stream",
     "text": [
      "[Stage 2:>                                                          (0 + 4) / 5]\r"
     ]
    },
    {
     "name": "stdout",
     "output_type": "stream",
     "text": [
      "+-------------------+-------------------+\n",
      "|min(order_datetime)|max(order_datetime)|\n",
      "+-------------------+-------------------+\n",
      "|         2021-02-28|         2022-08-28|\n",
      "+-------------------+-------------------+\n",
      "\n"
     ]
    },
    {
     "name": "stderr",
     "output_type": "stream",
     "text": [
      "                                                                                \r"
     ]
    }
   ],
   "source": [
    "tbl_transaction.show(20)\n",
    "\n",
    "tbl_transaction = tbl_transaction.filter(\"order_datetime >= '2021-02-28'\")\n",
    "tbl_transaction = tbl_transaction.filter(\"order_datetime <= '2022-08-28'\")\n",
    "tbl_transaction.agg(F.min(\"order_datetime\"), F.max(\"order_datetime\")).show()\n"
   ]
  },
  {
   "cell_type": "code",
   "execution_count": 5,
   "metadata": {},
   "outputs": [
    {
     "name": "stderr",
     "output_type": "stream",
     "text": [
      "[Stage 4:=======================>                                   (2 + 3) / 5]\r"
     ]
    },
    {
     "name": "stdout",
     "output_type": "stream",
     "text": [
      "+-------+------------+------------------+--------------+----------------+--------+------------------+-------------+\n",
      "|user_id|merchant_abn|      dollar_value|order_datetime|whether_bigorder|postcode|  average_prob_con|whether_fraud|\n",
      "+-------+------------+------------------+--------------+----------------+--------+------------------+-------------+\n",
      "|   1125| 37935728745|1334.4788819571713|    2021-06-09|               0|    5073|14.921984314779792|            0|\n",
      "|   4109| 37935728745|12036.874087756309|    2021-08-12|               1|    5381|24.360827467633634|            0|\n",
      "|  19024| 37935728745|19184.728145204877|    2021-09-30|               1|    5351| 32.76628104964881|            0|\n",
      "|  12890| 37935728745| 8471.766291167125|    2021-11-23|               0|    6017| 22.23238611786161|            0|\n",
      "|   5577| 37935728745|1736.4273978943363|    2021-12-17|               0|    2425|12.216149932973964|            0|\n",
      "|   2995| 37935728745|16087.205243232016|    2021-12-27|               1|    6904| 46.21549418599374|            0|\n",
      "|   1711| 37935728745| 2626.807212132296|    2022-07-16|               0|    2028|11.241215797700978|            0|\n",
      "+-------+------------+------------------+--------------+----------------+--------+------------------+-------------+\n",
      "\n"
     ]
    },
    {
     "name": "stderr",
     "output_type": "stream",
     "text": [
      "                                                                                \r"
     ]
    }
   ],
   "source": [
    "#tbl_transaction.groupBy(\"merchant_abn\").agg(F.count(F.col(\"order_datetime\"))).show(20)\n",
    "tbl_transaction.filter(F.col(\"merchant_abn\")==\"37935728745\").orderBy(\"order_datetime\").show()"
   ]
  },
  {
   "cell_type": "code",
   "execution_count": 6,
   "metadata": {},
   "outputs": [
    {
     "name": "stderr",
     "output_type": "stream",
     "text": [
      "                                                                                \r"
     ]
    },
    {
     "name": "stdout",
     "output_type": "stream",
     "text": [
      "+-------+------------+------------------+--------------+----------------+--------+-----------------+-------------+---------+\n",
      "|user_id|merchant_abn|      dollar_value|order_datetime|whether_bigorder|postcode| average_prob_con|whether_fraud|month_num|\n",
      "+-------+------------+------------------+--------------+----------------+--------+-----------------+-------------+---------+\n",
      "|  11813| 11121775571|12.657354867135332|    2021-12-14|               0|    3959|9.132996419186014|            0|       11|\n",
      "|  11813| 49322182190|193.56810952479583|    2021-12-18|               0|    3959|9.132996419186014|            0|       11|\n",
      "|  11813| 11173270682| 165.3629765111036|    2021-10-06|               0|    3959|9.132996419186014|            0|        9|\n",
      "|  11813| 49322182190|   137.01318824084|    2022-07-25|               0|    3959|9.132996419186014|            0|       18|\n",
      "|  11813| 11173270682| 331.5640615872036|    2022-05-15|               0|    3959|9.132996419186014|            0|       16|\n",
      "|  11813| 56030772622| 209.8358230504878|    2021-08-28|               0|    3959|9.132996419186014|            0|        7|\n",
      "|  11813| 11944993446| 35.52909240683687|    2021-06-15|               0|    3959|9.132996419186014|            0|        5|\n",
      "|  11813| 81249812970| 544.4364722547275|    2021-10-24|               0|    3959|9.132996419186014|            0|        9|\n",
      "|  11813| 11944993446|122.34549313116791|    2022-08-24|               0|    3959|9.132996419186014|            0|       19|\n",
      "|  11813| 12870663624| 85.47797553785712|    2022-07-20|               0|    3959|9.132996419186014|            0|       18|\n",
      "|  11813| 14492521225| 9.565075831626897|    2022-04-02|               0|    3959|9.132996419186014|            0|       15|\n",
      "|  11813| 12899341959| 451.4656284031031|    2021-12-26|               0|    3959|9.132996419186014|            0|       11|\n",
      "|  11813| 14492521225| 37.25832215005899|    2022-06-14|               0|    3959|9.132996419186014|            0|       17|\n",
      "|  11813| 17324645993| 3.720662908940404|    2021-08-15|               0|    3959|9.132996419186014|            0|        7|\n",
      "|  11813| 14559784311| 138.4424416536455|    2021-07-01|               0|    3959|9.132996419186014|            0|        6|\n",
      "|  11813| 17324645993| 3.131341439508457|    2022-06-12|               0|    3959|9.132996419186014|            0|       17|\n",
      "|  11813| 15560455575|14.946516211489364|    2021-03-22|               0|    3959|9.132996419186014|            0|        2|\n",
      "|  11813| 18709053174|15.346892422348759|    2021-04-01|               0|    3959|9.132996419186014|            0|        3|\n",
      "|  11813| 19618998054|29.177904120127224|    2022-02-26|               0|    3959|9.132996419186014|            0|       13|\n",
      "|  11813| 16570599421|60.847585110999006|    2022-03-25|               0|    3959|9.132996419186014|            0|       14|\n",
      "+-------+------------+------------------+--------------+----------------+--------+-----------------+-------------+---------+\n",
      "only showing top 20 rows\n",
      "\n"
     ]
    }
   ],
   "source": [
    "\n",
    "from pyspark.sql.types import IntegerType\n",
    "start_month = tbl_transaction.select(min(\"order_datetime\").alias(\"min_date\")).select(month(\"min_date\").cast(IntegerType())).collect()[0][0]\n",
    "\n",
    "from pyspark.sql.types import IntegerType\n",
    "tbl_transaction2 = tbl_transaction\\\n",
    "    .withColumn('month',month(tbl_transaction.order_datetime).cast(IntegerType()))\\\n",
    "    .withColumn('year',year(tbl_transaction.order_datetime))\n",
    "    \n",
    "# set the start month to be 1, and calculate the number of months passed after that\n",
    "transaction_month_num =  tbl_transaction2.withColumn('month_num',when(tbl_transaction2.year == \"2022\", F.col('month')-start_month+1+12).otherwise(F.col('month')-start_month+1))\\\n",
    "    .drop('month', 'year')\n",
    "\n",
    "\n",
    "transaction_month_num.show()"
   ]
  },
  {
   "cell_type": "markdown",
   "metadata": {},
   "source": [
    "referenced cite: \n",
    "- https://bobrupakroy.medium.com/multi-layer-perception-time-series-8a1bddbb033a\n",
    "- https://machinelearningmastery.com/adam-optimization-algorithm-for-deep-learning/\n",
    "- https://codeit.us/blog/machine-learning-time-series-forecasting#:~:text=Time%20series%20forecasting%20in%20machine%20learning,-Before%20anything%20else&text=Time%20Series%20pertains%20to%20the,%22why%22%20behind%20its%20dataset."
   ]
  },
  {
   "cell_type": "code",
   "execution_count": 7,
   "metadata": {},
   "outputs": [],
   "source": [
    "#group each consecutive values of n months\n",
    "def consec_data(data_list, n_months):\n",
    "    X = []\n",
    "    y = []\n",
    "    for i in range(len(data_list)):\n",
    "        end_month = i + n_months\n",
    "        if end_month > len(data_list)-1:\n",
    "            break\n",
    "        get_x, get_y = data_list[i:end_month], data_list[end_month]\n",
    "        X.append(get_x)\n",
    "        y.append(get_y)\n",
    "    return array(X), array(y)\n"
   ]
  },
  {
   "cell_type": "markdown",
   "metadata": {},
   "source": [
    "Please install tensorflow"
   ]
  },
  {
   "cell_type": "code",
   "execution_count": 14,
   "metadata": {},
   "outputs": [],
   "source": [
    "\n",
    "n_months = 4\n",
    "model = Sequential()\n",
    "model.add(Dense(32, activation='relu', input_dim=n_months))\n",
    "model.add(Dense(1))\n",
    "model.compile(optimizer='adam', loss='mse')"
   ]
  },
  {
   "cell_type": "markdown",
   "metadata": {},
   "source": [
    "### This code will take 10 marchants = 1min which means 442 minutes in total...\n",
    "We should think for a better way"
   ]
  },
  {
   "cell_type": "code",
   "execution_count": 53,
   "metadata": {},
   "outputs": [
    {
     "name": "stderr",
     "output_type": "stream",
     "text": [
      "                                                                                \r"
     ]
    },
    {
     "name": "stdout",
     "output_type": "stream",
     "text": [
      "4401 4422\n"
     ]
    },
    {
     "name": "stderr",
     "output_type": "stream",
     "text": [
      "                                                                                \r"
     ]
    },
    {
     "name": "stdout",
     "output_type": "stream",
     "text": [
      "4402 4422\n"
     ]
    },
    {
     "name": "stderr",
     "output_type": "stream",
     "text": [
      "                                                                                \r"
     ]
    },
    {
     "name": "stdout",
     "output_type": "stream",
     "text": [
      "4403 4422\n"
     ]
    },
    {
     "name": "stderr",
     "output_type": "stream",
     "text": [
      "                                                                                \r"
     ]
    },
    {
     "name": "stdout",
     "output_type": "stream",
     "text": [
      "4404 4422\n"
     ]
    },
    {
     "name": "stderr",
     "output_type": "stream",
     "text": [
      "                                                                                \r"
     ]
    },
    {
     "name": "stdout",
     "output_type": "stream",
     "text": [
      "4405 4422\n"
     ]
    },
    {
     "name": "stderr",
     "output_type": "stream",
     "text": [
      "                                                                                \r"
     ]
    },
    {
     "name": "stdout",
     "output_type": "stream",
     "text": [
      "4406 4422\n"
     ]
    },
    {
     "name": "stderr",
     "output_type": "stream",
     "text": [
      "                                                                                \r"
     ]
    },
    {
     "name": "stdout",
     "output_type": "stream",
     "text": [
      "4407 4422\n"
     ]
    },
    {
     "name": "stderr",
     "output_type": "stream",
     "text": [
      "                                                                                \r"
     ]
    },
    {
     "name": "stdout",
     "output_type": "stream",
     "text": [
      "4408 4422\n"
     ]
    },
    {
     "name": "stderr",
     "output_type": "stream",
     "text": [
      "                                                                                \r"
     ]
    },
    {
     "name": "stdout",
     "output_type": "stream",
     "text": [
      "4409 4422\n"
     ]
    },
    {
     "name": "stderr",
     "output_type": "stream",
     "text": [
      "                                                                                \r"
     ]
    },
    {
     "name": "stdout",
     "output_type": "stream",
     "text": [
      "4410 4422\n"
     ]
    },
    {
     "name": "stderr",
     "output_type": "stream",
     "text": [
      "                                                                                \r"
     ]
    },
    {
     "name": "stdout",
     "output_type": "stream",
     "text": [
      "4411 4422\n"
     ]
    },
    {
     "name": "stderr",
     "output_type": "stream",
     "text": [
      "                                                                                \r"
     ]
    },
    {
     "name": "stdout",
     "output_type": "stream",
     "text": [
      "4412 4422\n"
     ]
    },
    {
     "name": "stderr",
     "output_type": "stream",
     "text": [
      "                                                                                \r"
     ]
    },
    {
     "name": "stdout",
     "output_type": "stream",
     "text": [
      "4413 4422\n"
     ]
    },
    {
     "name": "stderr",
     "output_type": "stream",
     "text": [
      "                                                                                \r"
     ]
    },
    {
     "name": "stdout",
     "output_type": "stream",
     "text": [
      "4414 4422\n"
     ]
    },
    {
     "name": "stderr",
     "output_type": "stream",
     "text": [
      "                                                                                \r"
     ]
    },
    {
     "name": "stdout",
     "output_type": "stream",
     "text": [
      "4415 4422\n"
     ]
    },
    {
     "name": "stderr",
     "output_type": "stream",
     "text": [
      "                                                                                \r"
     ]
    },
    {
     "name": "stdout",
     "output_type": "stream",
     "text": [
      "4416 4422\n"
     ]
    },
    {
     "name": "stderr",
     "output_type": "stream",
     "text": [
      "                                                                                \r"
     ]
    },
    {
     "name": "stdout",
     "output_type": "stream",
     "text": [
      "4417 4422\n"
     ]
    },
    {
     "name": "stderr",
     "output_type": "stream",
     "text": [
      "                                                                                \r"
     ]
    },
    {
     "name": "stdout",
     "output_type": "stream",
     "text": [
      "4418 4422\n"
     ]
    },
    {
     "name": "stderr",
     "output_type": "stream",
     "text": [
      "                                                                                \r"
     ]
    },
    {
     "name": "stdout",
     "output_type": "stream",
     "text": [
      "4419 4422\n"
     ]
    },
    {
     "name": "stderr",
     "output_type": "stream",
     "text": [
      "                                                                                \r"
     ]
    },
    {
     "name": "stdout",
     "output_type": "stream",
     "text": [
      "4420 4422\n"
     ]
    },
    {
     "name": "stderr",
     "output_type": "stream",
     "text": [
      "                                                                                \r"
     ]
    },
    {
     "name": "stdout",
     "output_type": "stream",
     "text": [
      "4421 4422\n"
     ]
    },
    {
     "name": "stderr",
     "output_type": "stream",
     "text": [
      "                                                                                \r"
     ]
    },
    {
     "name": "stdout",
     "output_type": "stream",
     "text": [
      "4422 4422\n"
     ]
    }
   ],
   "source": [
    "# predict the dollar value one month after\n",
    "data = transaction_month_num.select(\"merchant_abn\", \"dollar_value\", \"month_num\")\n",
    "distinct_merchants = sorted(data.select(\"merchant_abn\").distinct().rdd.flatMap(lambda x: x).collect())\n",
    "\n",
    "MONTH_PERIOD = 18\n",
    "predict_store = []\n",
    "counts = 0\n",
    "n_merchnts = len(distinct_merchants)\n",
    "save_freq = 100\n",
    "\n",
    "#create a dataframe with month period as columns\n",
    "month = [m for m in range(1, MONTH_PERIOD+2)]\n",
    "zeros = [0]*MONTH_PERIOD\n",
    "month_list_initial = zip(month,zeros)\n",
    "initial_df = spark.createDataFrame(data=month_list_initial, schema = [\"month_num\", \"zeros\"])\n",
    "\n",
    "for merchant in distinct_merchants:\n",
    "    one_merchant_data = data.filter(F.col(\"merchant_abn\")==merchant)\\\n",
    "                            .groupBy(F.col(\"month_num\"))\\\n",
    "                            .agg(F.avg(\"dollar_value\").alias(\"avg_dollar_value\"))\n",
    "     \n",
    "    one_merchant_and_missing_months = initial_df.join(one_merchant_data, initial_df.month_num == one_merchant_data.month_num, \"left\")\\\n",
    "                    .na.fill(value=0)\\\n",
    "                    .sort(initial_df.month_num)\n",
    "\n",
    "    list_dollar = one_merchant_and_missing_months.select(\"avg_dollar_value\").rdd.flatMap(lambda x: x).collect()\n",
    "    X, y = consec_data(list_dollar, n_months)\n",
    "\n",
    "    #fit\n",
    "    model.fit(X, y, epochs=100, verbose=0)\n",
    "    #predict\n",
    "    x_input = array(list_dollar[-n_months:])\n",
    "    x_input = x_input.reshape((1, n_months))\n",
    "    ypredict = model.predict(x_input, verbose=0)\n",
    "    predict_store.append((merchant, (ypredict[0][0]).item()))\n",
    "    print((counts)*save_freq+len(predict_store),n_merchnts)\n",
    "    #write for each 100 merchant prediction\n",
    "    if len(predict_store)%save_freq == 0:\n",
    "        print(len(predict_store))\n",
    "        save_df = spark.createDataFrame(data=predict_store, schema = [\"merchant_abn\",\"predict_dollar_value\"])\n",
    "        save_df.write.mode(\"overwrite\").parquet(f\"../data/curated/prediction/predicted_dollar_value{counts}.parquet\")\n",
    "        predict_store = []\n",
    "        counts += 1\n",
    "    elif ((counts)*save_freq+len(predict_store)) == n_merchnts: #last remaining data\n",
    "        save_df = spark.createDataFrame(data=predict_store, schema = [\"merchant_abn\",\"predict_dollar_value\"])\n",
    "        save_df.write.mode(\"overwrite\").parquet(f\"../data/curated/prediction/predicted_dollar_value{counts}.parquet\")\n",
    "    else:\n",
    "        continue\n",
    "    "
   ]
  },
  {
   "cell_type": "code",
   "execution_count": 55,
   "metadata": {},
   "outputs": [
    {
     "name": "stdout",
     "output_type": "stream",
     "text": [
      "22\n"
     ]
    }
   ],
   "source": [
    "#\n",
    "print(len(predict_store))\n"
   ]
  }
 ],
 "metadata": {
  "kernelspec": {
   "display_name": "Python 3.7.13 ('base')",
   "language": "python",
   "name": "python3"
  },
  "language_info": {
   "codemirror_mode": {
    "name": "ipython",
    "version": 3
   },
   "file_extension": ".py",
   "mimetype": "text/x-python",
   "name": "python",
   "nbconvert_exporter": "python",
   "pygments_lexer": "ipython3",
   "version": "3.7.13"
  },
  "orig_nbformat": 4,
  "vscode": {
   "interpreter": {
    "hash": "664b9b2cfc08063ed3ab9f92e6d6cbdfe30eb833d966541c89dc480f035db465"
   }
  }
 },
 "nbformat": 4,
 "nbformat_minor": 2
}
