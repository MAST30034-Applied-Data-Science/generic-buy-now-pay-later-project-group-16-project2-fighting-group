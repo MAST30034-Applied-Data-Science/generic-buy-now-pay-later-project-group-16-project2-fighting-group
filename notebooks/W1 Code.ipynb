{
 "cells": [
  {
   "cell_type": "code",
   "execution_count": 1,
   "metadata": {},
   "outputs": [
    {
     "name": "stdout",
     "output_type": "stream",
     "text": [
      "22/09/14 12:05:18 WARN Utils: Your hostname, hexiangyideMacBook-Pro.local resolves to a loopback address: 127.0.0.1; using 10.13.179.36 instead (on interface en0)\n",
      "22/09/14 12:05:18 WARN Utils: Set SPARK_LOCAL_IP if you need to bind to another address\n"
     ]
    },
    {
     "name": "stderr",
     "output_type": "stream",
     "text": [
      "Setting default log level to \"WARN\".\n",
      "To adjust logging level use sc.setLogLevel(newLevel). For SparkR, use setLogLevel(newLevel).\n"
     ]
    },
    {
     "name": "stdout",
     "output_type": "stream",
     "text": [
      "22/09/14 12:05:19 WARN NativeCodeLoader: Unable to load native-hadoop library for your platform... using builtin-java classes where applicable\n"
     ]
    }
   ],
   "source": [
    "from pyspark.sql import SparkSession\n",
    "from pyspark.sql import functions as F\n",
    "from pyspark.sql import Window\n",
    "import numpy as np\n",
    "# Create a spark session (which will run spark jobs)\n",
    "spark = (\n",
    "    SparkSession.builder.appName(\"MAST30034 Tutorial 1\")\n",
    "    .config(\"spark.sql.repl.eagerEval.enabled\", True) \n",
    "    .config(\"spark.sql.parquet.cacheMetadata\", \"true\")\n",
    "    .config(\"spark.sql.session.timeZone\", \"Etc/UTC\")\n",
    "    .config(\"spark.driver.memory\", \"2g\")\n",
    "    .config(\"spark.executor.memory\", \"4g\")\n",
    "    .getOrCreate()\n",
    ")"
   ]
  },
  {
   "cell_type": "markdown",
   "metadata": {},
   "source": [
    "# Read the given datasets"
   ]
  },
  {
   "cell_type": "code",
   "execution_count": 2,
   "metadata": {},
   "outputs": [
    {
     "name": "stderr",
     "output_type": "stream",
     "text": [
      "                                                                                \r"
     ]
    },
    {
     "data": {
      "text/plain": [
       "14195505"
      ]
     },
     "execution_count": 2,
     "metadata": {},
     "output_type": "execute_result"
    }
   ],
   "source": [
    "ori_transaction1 = spark.read.parquet('../data/tables/transactions_20210228_20210827_snapshot').sort('order_datetime')\n",
    "ori_transaction2 = spark.read.parquet('../data/tables/transactions_20210828_20220227_snapshot').sort('order_datetime')\n",
    "ori_transaction3 = spark.read.parquet('../data/tables/transactions_20220228_20220828_snapshot').sort('order_datetime')\n",
    "\n",
    "#read the parquet ori_transaction\n",
    "ori_transaction = ori_transaction1.union(ori_transaction2)\n",
    "ori_transaction = ori_transaction.union(ori_transaction3)\n",
    "ori_transaction.groupby('merchant_abn').count().count()\n",
    "ori_transaction.count()"
   ]
  },
  {
   "cell_type": "code",
   "execution_count": 32,
   "metadata": {},
   "outputs": [
    {
     "name": "stderr",
     "output_type": "stream",
     "text": [
      "                                                                                \r"
     ]
    },
    {
     "data": {
      "text/html": [
       "<table border='1'>\n",
       "<tr><th>user_id</th><th>merchant_abn</th><th>dollar_value</th><th>order_datetime</th><th>whether_bigorder</th></tr>\n",
       "<tr><td>714</td><td>10023283211</td><td>279.6185131488391</td><td>2021-02-28</td><td>0</td></tr>\n",
       "<tr><td>5568</td><td>10023283211</td><td>110.07525568456784</td><td>2021-02-28</td><td>0</td></tr>\n",
       "<tr><td>10285</td><td>10023283211</td><td>311.8728694054186</td><td>2021-02-28</td><td>0</td></tr>\n",
       "<tr><td>23597</td><td>10023283211</td><td>189.25152107635006</td><td>2021-03-01</td><td>0</td></tr>\n",
       "<tr><td>10144</td><td>10023283211</td><td>195.74454412745357</td><td>2021-03-01</td><td>0</td></tr>\n",
       "<tr><td>22956</td><td>10023283211</td><td>230.81574259403658</td><td>2021-03-02</td><td>0</td></tr>\n",
       "<tr><td>23856</td><td>10023283211</td><td>258.59035309253215</td><td>2021-03-02</td><td>0</td></tr>\n",
       "<tr><td>10581</td><td>10023283211</td><td>211.8864214875864</td><td>2021-03-02</td><td>0</td></tr>\n",
       "<tr><td>14842</td><td>10023283211</td><td>167.77961318216884</td><td>2021-03-02</td><td>0</td></tr>\n",
       "<tr><td>13780</td><td>10023283211</td><td>175.9890781564819</td><td>2021-03-03</td><td>0</td></tr>\n",
       "<tr><td>16480</td><td>10023283211</td><td>176.83833738806447</td><td>2021-03-03</td><td>0</td></tr>\n",
       "<tr><td>15</td><td>10023283211</td><td>363.13114430445574</td><td>2021-03-04</td><td>0</td></tr>\n",
       "<tr><td>20553</td><td>10023283211</td><td>90.32112938872741</td><td>2021-03-04</td><td>0</td></tr>\n",
       "<tr><td>22999</td><td>10023283211</td><td>65.23960212771675</td><td>2021-03-04</td><td>0</td></tr>\n",
       "<tr><td>10312</td><td>10023283211</td><td>376.0510937667044</td><td>2021-03-04</td><td>0</td></tr>\n",
       "<tr><td>141</td><td>10023283211</td><td>233.13110796630062</td><td>2021-03-05</td><td>0</td></tr>\n",
       "<tr><td>18886</td><td>10023283211</td><td>124.4583946061434</td><td>2021-03-05</td><td>0</td></tr>\n",
       "<tr><td>16099</td><td>10023283211</td><td>172.8836292205936</td><td>2021-03-05</td><td>0</td></tr>\n",
       "<tr><td>2502</td><td>10023283211</td><td>246.79695046725882</td><td>2021-03-05</td><td>0</td></tr>\n",
       "<tr><td>21926</td><td>10023283211</td><td>287.97722710526716</td><td>2021-03-05</td><td>0</td></tr>\n",
       "</table>\n",
       "only showing top 20 rows\n"
      ],
      "text/plain": [
       "+-------+------------+------------------+--------------+----------------+\n",
       "|user_id|merchant_abn|      dollar_value|order_datetime|whether_bigorder|\n",
       "+-------+------------+------------------+--------------+----------------+\n",
       "|    714| 10023283211| 279.6185131488391|    2021-02-28|               0|\n",
       "|   5568| 10023283211|110.07525568456784|    2021-02-28|               0|\n",
       "|  10285| 10023283211| 311.8728694054186|    2021-02-28|               0|\n",
       "|  23597| 10023283211|189.25152107635006|    2021-03-01|               0|\n",
       "|  10144| 10023283211|195.74454412745357|    2021-03-01|               0|\n",
       "|  22956| 10023283211|230.81574259403658|    2021-03-02|               0|\n",
       "|  23856| 10023283211|258.59035309253215|    2021-03-02|               0|\n",
       "|  10581| 10023283211| 211.8864214875864|    2021-03-02|               0|\n",
       "|  14842| 10023283211|167.77961318216884|    2021-03-02|               0|\n",
       "|  13780| 10023283211| 175.9890781564819|    2021-03-03|               0|\n",
       "|  16480| 10023283211|176.83833738806447|    2021-03-03|               0|\n",
       "|     15| 10023283211|363.13114430445574|    2021-03-04|               0|\n",
       "|  20553| 10023283211| 90.32112938872741|    2021-03-04|               0|\n",
       "|  22999| 10023283211| 65.23960212771675|    2021-03-04|               0|\n",
       "|  10312| 10023283211| 376.0510937667044|    2021-03-04|               0|\n",
       "|    141| 10023283211|233.13110796630062|    2021-03-05|               0|\n",
       "|  18886| 10023283211| 124.4583946061434|    2021-03-05|               0|\n",
       "|  16099| 10023283211| 172.8836292205936|    2021-03-05|               0|\n",
       "|   2502| 10023283211|246.79695046725882|    2021-03-05|               0|\n",
       "|  21926| 10023283211|287.97722710526716|    2021-03-05|               0|\n",
       "+-------+------------+------------------+--------------+----------------+\n",
       "only showing top 20 rows"
      ]
     },
     "execution_count": 32,
     "metadata": {},
     "output_type": "execute_result"
    }
   ],
   "source": [
    "ori_transaction"
   ]
  },
  {
   "cell_type": "code",
   "execution_count": 4,
   "metadata": {},
   "outputs": [],
   "source": [
    "#delete outlier\n",
    "wind = Window.partitionBy('merchant_abn')\n",
    "\n",
    "q1= F.expr('percentile_approx(dollar_value, 0.25)')\n",
    "q3= F.expr('percentile_approx(dollar_value, 0.75)')\n",
    "\n",
    "testq = ori_transaction.withColumn('q1', q1.over(wind))\n",
    "testq = testq.withColumn('q3', q3.over(wind))\n",
    "\n",
    "testq = testq.withColumn('IQR', testq['q3']-testq['q1'])"
   ]
  },
  {
   "cell_type": "code",
   "execution_count": 6,
   "metadata": {},
   "outputs": [],
   "source": [
    "dele_out = testq.where((testq[\"dollar_value\"] <= testq[\"q1\"]+1.5*testq[\"IQR\"]) & (testq[\"dollar_value\"] >= testq[\"q1\"]-1.5*testq[\"IQR\"]))"
   ]
  },
  {
   "cell_type": "code",
   "execution_count": 28,
   "metadata": {},
   "outputs": [],
   "source": [
    "ori_transaction = dele_out.drop('q1','q3','IQR','order_id')"
   ]
  },
  {
   "cell_type": "code",
   "execution_count": 31,
   "metadata": {},
   "outputs": [
    {
     "name": "stderr",
     "output_type": "stream",
     "text": [
      "                                                                                \r"
     ]
    }
   ],
   "source": [
    "ori_transaction = ori_transaction.withColumn(\n",
    "    \"whether_bigorder\",\n",
    "    F.when(F.col('dollar_value')>=10000, 1).otherwise(0))\n",
    "ori_transaction.filter(ori_transaction.whether_bigorder == 1)\n",
    "ori_transaction.write.parquet(\"../data/curated/ori_transaction.parquet\")"
   ]
  },
  {
   "cell_type": "code",
   "execution_count": 10,
   "metadata": {},
   "outputs": [
    {
     "data": {
      "text/plain": [
       "4026"
      ]
     },
     "execution_count": 10,
     "metadata": {},
     "output_type": "execute_result"
    }
   ],
   "source": [
    "tbl_merchants = spark.read.parquet('../data/tables/tbl_merchants.parquet')\n",
    "tbl_merchants.count()"
   ]
  },
  {
   "cell_type": "code",
   "execution_count": 12,
   "metadata": {},
   "outputs": [],
   "source": [
    "consumer_detail = spark.read.parquet('../data/tables/consumer_user_details.parquet')"
   ]
  },
  {
   "cell_type": "code",
   "execution_count": 13,
   "metadata": {},
   "outputs": [],
   "source": [
    "import pandas as pd\n",
    "tbl_consumer = spark.read.option(\"delimiter\", \"|\").option(\"header\",True).csv(\"../data/tables/tbl_consumer.csv\")"
   ]
  },
  {
   "cell_type": "code",
   "execution_count": 14,
   "metadata": {},
   "outputs": [],
   "source": [
    "import pandas as pd\n",
    "tbl_consumer = spark.read.option(\"delimiter\", \"|\").option(\"header\",True).csv(\"../data/tables/tbl_consumer.csv\")"
   ]
  },
  {
   "cell_type": "markdown",
   "metadata": {},
   "source": [
    "# Merchant datasets"
   ]
  },
  {
   "cell_type": "code",
   "execution_count": 15,
   "metadata": {},
   "outputs": [
    {
     "name": "stderr",
     "output_type": "stream",
     "text": [
      "                                                                                \r"
     ]
    },
    {
     "data": {
      "text/html": [
       "<table border='1'>\n",
       "<tr><th>merchant_abn</th><th>Amount</th><th>Count</th><th>Monthly Amount</th><th>Monthly Count</th></tr>\n",
       "<tr><td>10023283211</td><td>515705.29636577313</td><td>2879</td><td>42975.44</td><td>239.92</td></tr>\n",
       "<tr><td>10142254217</td><td>67344.50791712999</td><td>2583</td><td>5612.04</td><td>215.25</td></tr>\n",
       "<tr><td>10165489824</td><td>56180.473857030534</td><td>5</td><td>4681.71</td><td>0.42</td></tr>\n",
       "<tr><td>10187291046</td><td>28350.96112235929</td><td>297</td><td>2362.58</td><td>24.75</td></tr>\n",
       "<tr><td>10192359162</td><td>121996.71300314639</td><td>338</td><td>10166.39</td><td>28.17</td></tr>\n",
       "<tr><td>10206519221</td><td>210045.46392525383</td><td>8253</td><td>17503.79</td><td>687.75</td></tr>\n",
       "<tr><td>10255988167</td><td>218547.72542909696</td><td>714</td><td>18212.31</td><td>59.5</td></tr>\n",
       "<tr><td>10264435225</td><td>406049.91683000245</td><td>4373</td><td>33837.49</td><td>364.42</td></tr>\n",
       "<tr><td>10279061213</td><td>116125.93771237625</td><td>474</td><td>9677.16</td><td>39.5</td></tr>\n",
       "<tr><td>10323485998</td><td>868620.6233827489</td><td>8952</td><td>72385.05</td><td>746.0</td></tr>\n",
       "<tr><td>10342410215</td><td>230922.14401203307</td><td>751</td><td>19243.51</td><td>62.58</td></tr>\n",
       "<tr><td>10346855916</td><td>11916.296812277156</td><td>8</td><td>993.02</td><td>0.67</td></tr>\n",
       "<tr><td>10364012396</td><td>9716.229700740505</td><td>32</td><td>809.69</td><td>2.67</td></tr>\n",
       "<tr><td>10385011947</td><td>16714.578215266047</td><td>26</td><td>1392.88</td><td>2.17</td></tr>\n",
       "<tr><td>10385163239</td><td>18636.672538465304</td><td>65</td><td>1553.06</td><td>5.42</td></tr>\n",
       "<tr><td>10385250025</td><td>246766.3012304359</td><td>591</td><td>20563.86</td><td>49.25</td></tr>\n",
       "<tr><td>10404542215</td><td>22773.975280323484</td><td>1</td><td>1897.83</td><td>0.08</td></tr>\n",
       "<tr><td>10430380319</td><td>41458.00178102209</td><td>139</td><td>3454.83</td><td>11.58</td></tr>\n",
       "<tr><td>10441711491</td><td>14102.027224600944</td><td>3</td><td>1175.17</td><td>0.25</td></tr>\n",
       "<tr><td>10462560289</td><td>31333.852982127963</td><td>1383</td><td>2611.15</td><td>115.25</td></tr>\n",
       "</table>\n",
       "only showing top 20 rows\n"
      ],
      "text/plain": [
       "+------------+------------------+-----+--------------+-------------+\n",
       "|merchant_abn|            Amount|Count|Monthly Amount|Monthly Count|\n",
       "+------------+------------------+-----+--------------+-------------+\n",
       "| 10023283211|515705.29636577313| 2879|      42975.44|       239.92|\n",
       "| 10142254217| 67344.50791712999| 2583|       5612.04|       215.25|\n",
       "| 10165489824|56180.473857030534|    5|       4681.71|         0.42|\n",
       "| 10187291046| 28350.96112235929|  297|       2362.58|        24.75|\n",
       "| 10192359162|121996.71300314639|  338|      10166.39|        28.17|\n",
       "| 10206519221|210045.46392525383| 8253|      17503.79|       687.75|\n",
       "| 10255988167|218547.72542909696|  714|      18212.31|         59.5|\n",
       "| 10264435225|406049.91683000245| 4373|      33837.49|       364.42|\n",
       "| 10279061213|116125.93771237625|  474|       9677.16|         39.5|\n",
       "| 10323485998| 868620.6233827489| 8952|      72385.05|        746.0|\n",
       "| 10342410215|230922.14401203307|  751|      19243.51|        62.58|\n",
       "| 10346855916|11916.296812277156|    8|        993.02|         0.67|\n",
       "| 10364012396| 9716.229700740505|   32|        809.69|         2.67|\n",
       "| 10385011947|16714.578215266047|   26|       1392.88|         2.17|\n",
       "| 10385163239|18636.672538465304|   65|       1553.06|         5.42|\n",
       "| 10385250025| 246766.3012304359|  591|      20563.86|        49.25|\n",
       "| 10404542215|22773.975280323484|    1|       1897.83|         0.08|\n",
       "| 10430380319| 41458.00178102209|  139|       3454.83|        11.58|\n",
       "| 10441711491|14102.027224600944|    3|       1175.17|         0.25|\n",
       "| 10462560289|31333.852982127963| 1383|       2611.15|       115.25|\n",
       "+------------+------------------+-----+--------------+-------------+\n",
       "only showing top 20 rows"
      ]
     },
     "execution_count": 15,
     "metadata": {},
     "output_type": "execute_result"
    }
   ],
   "source": [
    "from pyspark.sql.functions import round\n",
    "grouped_transaction = ori_transaction.groupBy('merchant_abn').agg(F.sum('dollar_value').alias('Amount'), F.count('dollar_value').alias('Count')).sort('merchant_abn')\n",
    "grouped_transaction.drop(F.col('order_id'))\n",
    "grouped_transaction = grouped_transaction.withColumn('Monthly Amount', round(grouped_transaction['Amount']/12, 2))\n",
    "#grouped_transaction = grouped_transaction.withColumn('Round Monthly Amount', round(grouped_transaction['Monthly Amount'], 2))\n",
    "grouped_transaction = grouped_transaction.withColumn('Monthly Count', round(grouped_transaction['Count']/12, 2))\n",
    "grouped_transaction"
   ]
  },
  {
   "cell_type": "code",
   "execution_count": 16,
   "metadata": {},
   "outputs": [
    {
     "name": "stderr",
     "output_type": "stream",
     "text": [
      "                                                                                \r"
     ]
    }
   ],
   "source": [
    "grouped_transaction_pd = grouped_transaction.toPandas()\n",
    "tbl_merchants_pd = tbl_merchants.toPandas()\n",
    "merchant = pd.merge(grouped_transaction_pd, tbl_merchants_pd)"
   ]
  },
  {
   "cell_type": "code",
   "execution_count": 17,
   "metadata": {},
   "outputs": [
    {
     "data": {
      "text/html": [
       "<div>\n",
       "<style scoped>\n",
       "    .dataframe tbody tr th:only-of-type {\n",
       "        vertical-align: middle;\n",
       "    }\n",
       "\n",
       "    .dataframe tbody tr th {\n",
       "        vertical-align: top;\n",
       "    }\n",
       "\n",
       "    .dataframe thead th {\n",
       "        text-align: right;\n",
       "    }\n",
       "</style>\n",
       "<table border=\"1\" class=\"dataframe\">\n",
       "  <thead>\n",
       "    <tr style=\"text-align: right;\">\n",
       "      <th></th>\n",
       "      <th>merchant_abn</th>\n",
       "      <th>Amount</th>\n",
       "      <th>Count</th>\n",
       "      <th>Monthly Amount</th>\n",
       "      <th>Monthly Count</th>\n",
       "      <th>name</th>\n",
       "      <th>tags</th>\n",
       "    </tr>\n",
       "  </thead>\n",
       "  <tbody>\n",
       "    <tr>\n",
       "      <th>0</th>\n",
       "      <td>10023283211</td>\n",
       "      <td>5.157053e+05</td>\n",
       "      <td>2879</td>\n",
       "      <td>42975.44</td>\n",
       "      <td>239.92</td>\n",
       "      <td>Felis Limited</td>\n",
       "      <td>((furniture, home furnishings and equipment sh...</td>\n",
       "    </tr>\n",
       "    <tr>\n",
       "      <th>1</th>\n",
       "      <td>10142254217</td>\n",
       "      <td>6.734451e+04</td>\n",
       "      <td>2583</td>\n",
       "      <td>5612.04</td>\n",
       "      <td>215.25</td>\n",
       "      <td>Arcu Ac Orci Corporation</td>\n",
       "      <td>([cable, satellite, and otHer pay television a...</td>\n",
       "    </tr>\n",
       "    <tr>\n",
       "      <th>2</th>\n",
       "      <td>10165489824</td>\n",
       "      <td>5.618047e+04</td>\n",
       "      <td>5</td>\n",
       "      <td>4681.71</td>\n",
       "      <td>0.42</td>\n",
       "      <td>Nunc Sed Company</td>\n",
       "      <td>([jewelry, watch, clock, and silverware shops]...</td>\n",
       "    </tr>\n",
       "    <tr>\n",
       "      <th>3</th>\n",
       "      <td>10187291046</td>\n",
       "      <td>2.835096e+04</td>\n",
       "      <td>297</td>\n",
       "      <td>2362.58</td>\n",
       "      <td>24.75</td>\n",
       "      <td>Ultricies Dignissim Lacus Foundation</td>\n",
       "      <td>([wAtch, clock, and jewelry repair shops], [b]...</td>\n",
       "    </tr>\n",
       "    <tr>\n",
       "      <th>4</th>\n",
       "      <td>10192359162</td>\n",
       "      <td>1.219967e+05</td>\n",
       "      <td>338</td>\n",
       "      <td>10166.39</td>\n",
       "      <td>28.17</td>\n",
       "      <td>Enim Condimentum PC</td>\n",
       "      <td>([music shops - musical instruments, pianos, a...</td>\n",
       "    </tr>\n",
       "    <tr>\n",
       "      <th>...</th>\n",
       "      <td>...</td>\n",
       "      <td>...</td>\n",
       "      <td>...</td>\n",
       "      <td>...</td>\n",
       "      <td>...</td>\n",
       "      <td>...</td>\n",
       "      <td>...</td>\n",
       "    </tr>\n",
       "    <tr>\n",
       "      <th>4021</th>\n",
       "      <td>99938978285</td>\n",
       "      <td>3.029251e+05</td>\n",
       "      <td>14962</td>\n",
       "      <td>25243.76</td>\n",
       "      <td>1246.83</td>\n",
       "      <td>Elit Dictum Eu Ltd</td>\n",
       "      <td>[(opticians, optical goods, and eyeglasses), (...</td>\n",
       "    </tr>\n",
       "    <tr>\n",
       "      <th>4022</th>\n",
       "      <td>99974311662</td>\n",
       "      <td>2.477399e+04</td>\n",
       "      <td>111</td>\n",
       "      <td>2064.50</td>\n",
       "      <td>9.25</td>\n",
       "      <td>Mollis LLP</td>\n",
       "      <td>((books, periodicals, and newspapers), (b), (t...</td>\n",
       "    </tr>\n",
       "    <tr>\n",
       "      <th>4023</th>\n",
       "      <td>99976658299</td>\n",
       "      <td>2.528178e+06</td>\n",
       "      <td>20200</td>\n",
       "      <td>210681.47</td>\n",
       "      <td>1683.33</td>\n",
       "      <td>Sociosqu Corp.</td>\n",
       "      <td>((shoe  shops), (a), (take rate: 6.57))</td>\n",
       "    </tr>\n",
       "    <tr>\n",
       "      <th>4024</th>\n",
       "      <td>99987905597</td>\n",
       "      <td>5.328183e+04</td>\n",
       "      <td>173</td>\n",
       "      <td>4440.15</td>\n",
       "      <td>14.42</td>\n",
       "      <td>Commodo Hendrerit LLC</td>\n",
       "      <td>[[motor vehicle Supplies and new parts], [a], ...</td>\n",
       "    </tr>\n",
       "    <tr>\n",
       "      <th>4025</th>\n",
       "      <td>99990536339</td>\n",
       "      <td>1.754798e+04</td>\n",
       "      <td>21</td>\n",
       "      <td>1462.33</td>\n",
       "      <td>1.75</td>\n",
       "      <td>Massa PC</td>\n",
       "      <td>[(motor vehicle supplies and new parts), (e), ...</td>\n",
       "    </tr>\n",
       "  </tbody>\n",
       "</table>\n",
       "<p>4026 rows × 7 columns</p>\n",
       "</div>"
      ],
      "text/plain": [
       "      merchant_abn        Amount  Count  Monthly Amount  Monthly Count  \\\n",
       "0      10023283211  5.157053e+05   2879        42975.44         239.92   \n",
       "1      10142254217  6.734451e+04   2583         5612.04         215.25   \n",
       "2      10165489824  5.618047e+04      5         4681.71           0.42   \n",
       "3      10187291046  2.835096e+04    297         2362.58          24.75   \n",
       "4      10192359162  1.219967e+05    338        10166.39          28.17   \n",
       "...            ...           ...    ...             ...            ...   \n",
       "4021   99938978285  3.029251e+05  14962        25243.76        1246.83   \n",
       "4022   99974311662  2.477399e+04    111         2064.50           9.25   \n",
       "4023   99976658299  2.528178e+06  20200       210681.47        1683.33   \n",
       "4024   99987905597  5.328183e+04    173         4440.15          14.42   \n",
       "4025   99990536339  1.754798e+04     21         1462.33           1.75   \n",
       "\n",
       "                                      name  \\\n",
       "0                            Felis Limited   \n",
       "1                 Arcu Ac Orci Corporation   \n",
       "2                         Nunc Sed Company   \n",
       "3     Ultricies Dignissim Lacus Foundation   \n",
       "4                      Enim Condimentum PC   \n",
       "...                                    ...   \n",
       "4021                    Elit Dictum Eu Ltd   \n",
       "4022                            Mollis LLP   \n",
       "4023                        Sociosqu Corp.   \n",
       "4024                 Commodo Hendrerit LLC   \n",
       "4025                              Massa PC   \n",
       "\n",
       "                                                   tags  \n",
       "0     ((furniture, home furnishings and equipment sh...  \n",
       "1     ([cable, satellite, and otHer pay television a...  \n",
       "2     ([jewelry, watch, clock, and silverware shops]...  \n",
       "3     ([wAtch, clock, and jewelry repair shops], [b]...  \n",
       "4     ([music shops - musical instruments, pianos, a...  \n",
       "...                                                 ...  \n",
       "4021  [(opticians, optical goods, and eyeglasses), (...  \n",
       "4022  ((books, periodicals, and newspapers), (b), (t...  \n",
       "4023            ((shoe  shops), (a), (take rate: 6.57))  \n",
       "4024  [[motor vehicle Supplies and new parts], [a], ...  \n",
       "4025  [(motor vehicle supplies and new parts), (e), ...  \n",
       "\n",
       "[4026 rows x 7 columns]"
      ]
     },
     "execution_count": 17,
     "metadata": {},
     "output_type": "execute_result"
    }
   ],
   "source": [
    "merchant"
   ]
  },
  {
   "cell_type": "code",
   "execution_count": 18,
   "metadata": {},
   "outputs": [
    {
     "name": "stderr",
     "output_type": "stream",
     "text": [
      "/var/folders/4w/p31d1t_x5pqbppcsm7p9kxt00000gn/T/ipykernel_31146/1970225334.py:2: SettingWithCopyWarning: \n",
      "A value is trying to be set on a copy of a slice from a DataFrame\n",
      "\n",
      "See the caveats in the documentation: https://pandas.pydata.org/pandas-docs/stable/user_guide/indexing.html#returning-a-view-versus-a-copy\n",
      "  merchant['tags'].iloc[i] = merchant['tags'].iloc[i].replace(r'[', r'(').replace(r']', r')')\n"
     ]
    }
   ],
   "source": [
    "for i in range(int(merchant['tags'].count())):\n",
    "    merchant['tags'].iloc[i] = merchant['tags'].iloc[i].replace(r'[', r'(').replace(r']', r')')"
   ]
  },
  {
   "cell_type": "code",
   "execution_count": 19,
   "metadata": {},
   "outputs": [],
   "source": [
    "#merchant['tags'].str.split(pat, n=-1, expand=False)\n",
    "# to split into multiple columns by delimiter\n",
    "merchant_tags = merchant['tags'].str.split(')', expand=True)"
   ]
  },
  {
   "cell_type": "code",
   "execution_count": 20,
   "metadata": {},
   "outputs": [],
   "source": [
    "for row in range(int(len(merchant_tags))):\n",
    "    for col in range(3):\n",
    "        merchant_tags.iloc[row,col] = merchant_tags.iloc[row,col].replace(r'((', r'').replace(r', (', r'').replace(r'take rate:', r'')\n",
    "merchant_tags.rename(columns = {0 : 'Store type', 1 : 'Revenue levels', 2 : 'Take rate'}, inplace = True)\n",
    "merchant_tags = merchant_tags[['Store type', 'Revenue levels', 'Take rate']]"
   ]
  },
  {
   "cell_type": "code",
   "execution_count": 21,
   "metadata": {},
   "outputs": [
    {
     "name": "stderr",
     "output_type": "stream",
     "text": [
      "/var/folders/4w/p31d1t_x5pqbppcsm7p9kxt00000gn/T/ipykernel_31146/203541969.py:7: SettingWithCopyWarning: \n",
      "A value is trying to be set on a copy of a slice from a DataFrame\n",
      "\n",
      "See the caveats in the documentation: https://pandas.pydata.org/pandas-docs/stable/user_guide/indexing.html#returning-a-view-versus-a-copy\n",
      "  merchant['Store type'][i] = ' '.join(merchant['Store type'][i].split())\n"
     ]
    }
   ],
   "source": [
    "import pyspark.sql.functions as f\n",
    "merchant[['Store type', 'Revenue levels', 'Take rate']] = merchant_tags[['Store type', 'Revenue levels', 'Take rate']]\n",
    "#merchant.drop(columns=['tags'])\n",
    "merchant['Store type'] = merchant['Store type'].str.lower()\n",
    "\n",
    "for i in range(len(merchant)):\n",
    "    merchant['Store type'][i] = ' '.join(merchant['Store type'][i].split())\n",
    "\n",
    "#merchant\n",
    "merchant.to_parquet(\"../data/curated/merchant.parquet\")"
   ]
  },
  {
   "cell_type": "markdown",
   "metadata": {},
   "source": [
    "# Consumer datasets"
   ]
  },
  {
   "cell_type": "code",
   "execution_count": 22,
   "metadata": {},
   "outputs": [
    {
     "name": "stderr",
     "output_type": "stream",
     "text": [
      "                                                                                \r"
     ]
    },
    {
     "data": {
      "text/html": [
       "<div>\n",
       "<style scoped>\n",
       "    .dataframe tbody tr th:only-of-type {\n",
       "        vertical-align: middle;\n",
       "    }\n",
       "\n",
       "    .dataframe tbody tr th {\n",
       "        vertical-align: top;\n",
       "    }\n",
       "\n",
       "    .dataframe thead th {\n",
       "        text-align: right;\n",
       "    }\n",
       "</style>\n",
       "<table border=\"1\" class=\"dataframe\">\n",
       "  <thead>\n",
       "    <tr style=\"text-align: right;\">\n",
       "      <th></th>\n",
       "      <th>name</th>\n",
       "      <th>address</th>\n",
       "      <th>state</th>\n",
       "      <th>postcode</th>\n",
       "      <th>gender</th>\n",
       "      <th>consumer_id</th>\n",
       "      <th>user_id</th>\n",
       "    </tr>\n",
       "  </thead>\n",
       "  <tbody>\n",
       "    <tr>\n",
       "      <th>0</th>\n",
       "      <td>Yolanda Williams</td>\n",
       "      <td>413 Haney Gardens Apt. 742</td>\n",
       "      <td>WA</td>\n",
       "      <td>6935</td>\n",
       "      <td>Female</td>\n",
       "      <td>1195503</td>\n",
       "      <td>1</td>\n",
       "    </tr>\n",
       "    <tr>\n",
       "      <th>1</th>\n",
       "      <td>Mary Smith</td>\n",
       "      <td>3764 Amber Oval</td>\n",
       "      <td>NSW</td>\n",
       "      <td>2782</td>\n",
       "      <td>Female</td>\n",
       "      <td>179208</td>\n",
       "      <td>2</td>\n",
       "    </tr>\n",
       "    <tr>\n",
       "      <th>2</th>\n",
       "      <td>Jill Jones MD</td>\n",
       "      <td>40693 Henry Greens</td>\n",
       "      <td>NT</td>\n",
       "      <td>862</td>\n",
       "      <td>Female</td>\n",
       "      <td>1194530</td>\n",
       "      <td>3</td>\n",
       "    </tr>\n",
       "    <tr>\n",
       "      <th>3</th>\n",
       "      <td>Lindsay Jimenez</td>\n",
       "      <td>00653 Davenport Crossroad</td>\n",
       "      <td>NSW</td>\n",
       "      <td>2780</td>\n",
       "      <td>Female</td>\n",
       "      <td>154128</td>\n",
       "      <td>4</td>\n",
       "    </tr>\n",
       "    <tr>\n",
       "      <th>4</th>\n",
       "      <td>Rebecca Blanchard</td>\n",
       "      <td>9271 Michael Manors Suite 651</td>\n",
       "      <td>WA</td>\n",
       "      <td>6355</td>\n",
       "      <td>Female</td>\n",
       "      <td>712975</td>\n",
       "      <td>5</td>\n",
       "    </tr>\n",
       "    <tr>\n",
       "      <th>...</th>\n",
       "      <td>...</td>\n",
       "      <td>...</td>\n",
       "      <td>...</td>\n",
       "      <td>...</td>\n",
       "      <td>...</td>\n",
       "      <td>...</td>\n",
       "      <td>...</td>\n",
       "    </tr>\n",
       "    <tr>\n",
       "      <th>499994</th>\n",
       "      <td>Jessica Avila</td>\n",
       "      <td>508 Miranda Overpass Apt. 218</td>\n",
       "      <td>QLD</td>\n",
       "      <td>4400</td>\n",
       "      <td>Female</td>\n",
       "      <td>1385608</td>\n",
       "      <td>499995</td>\n",
       "    </tr>\n",
       "    <tr>\n",
       "      <th>499995</th>\n",
       "      <td>Steven Thornton</td>\n",
       "      <td>7913 Schwartz Mission Suite 483</td>\n",
       "      <td>VIC</td>\n",
       "      <td>3097</td>\n",
       "      <td>Undisclosed</td>\n",
       "      <td>1466964</td>\n",
       "      <td>499996</td>\n",
       "    </tr>\n",
       "    <tr>\n",
       "      <th>499996</th>\n",
       "      <td>Christy Smith</td>\n",
       "      <td>5681 Zachary Mountain Apt. 060</td>\n",
       "      <td>NSW</td>\n",
       "      <td>2756</td>\n",
       "      <td>Undisclosed</td>\n",
       "      <td>1253484</td>\n",
       "      <td>499997</td>\n",
       "    </tr>\n",
       "    <tr>\n",
       "      <th>499997</th>\n",
       "      <td>Donna Sutton</td>\n",
       "      <td>54140 Jacob Point</td>\n",
       "      <td>VIC</td>\n",
       "      <td>3989</td>\n",
       "      <td>Female</td>\n",
       "      <td>175005</td>\n",
       "      <td>499998</td>\n",
       "    </tr>\n",
       "    <tr>\n",
       "      <th>499998</th>\n",
       "      <td>Hannah Wilkins</td>\n",
       "      <td>61055 Long Valley</td>\n",
       "      <td>NSW</td>\n",
       "      <td>1755</td>\n",
       "      <td>Female</td>\n",
       "      <td>746835</td>\n",
       "      <td>499999</td>\n",
       "    </tr>\n",
       "  </tbody>\n",
       "</table>\n",
       "<p>499999 rows × 7 columns</p>\n",
       "</div>"
      ],
      "text/plain": [
       "                     name                          address state postcode  \\\n",
       "0        Yolanda Williams       413 Haney Gardens Apt. 742    WA     6935   \n",
       "1              Mary Smith                  3764 Amber Oval   NSW     2782   \n",
       "2           Jill Jones MD               40693 Henry Greens    NT      862   \n",
       "3         Lindsay Jimenez        00653 Davenport Crossroad   NSW     2780   \n",
       "4       Rebecca Blanchard    9271 Michael Manors Suite 651    WA     6355   \n",
       "...                   ...                              ...   ...      ...   \n",
       "499994      Jessica Avila    508 Miranda Overpass Apt. 218   QLD     4400   \n",
       "499995    Steven Thornton  7913 Schwartz Mission Suite 483   VIC     3097   \n",
       "499996      Christy Smith   5681 Zachary Mountain Apt. 060   NSW     2756   \n",
       "499997       Donna Sutton                54140 Jacob Point   VIC     3989   \n",
       "499998     Hannah Wilkins                61055 Long Valley   NSW     1755   \n",
       "\n",
       "             gender  consumer_id  user_id  \n",
       "0            Female      1195503        1  \n",
       "1            Female       179208        2  \n",
       "2            Female      1194530        3  \n",
       "3            Female       154128        4  \n",
       "4            Female       712975        5  \n",
       "...             ...          ...      ...  \n",
       "499994       Female      1385608   499995  \n",
       "499995  Undisclosed      1466964   499996  \n",
       "499996  Undisclosed      1253484   499997  \n",
       "499997       Female       175005   499998  \n",
       "499998       Female       746835   499999  \n",
       "\n",
       "[499999 rows x 7 columns]"
      ]
     },
     "execution_count": 22,
     "metadata": {},
     "output_type": "execute_result"
    }
   ],
   "source": [
    "consumer_detail_pd = consumer_detail.toPandas()\n",
    "tbl_consumer_pd = tbl_consumer.toPandas()\n",
    "tbl_consumer_pd['consumer_id']=tbl_consumer_pd['consumer_id'].astype(int)\n",
    "consumer = pd.merge(tbl_consumer_pd, consumer_detail_pd)\n",
    "consumer"
   ]
  },
  {
   "cell_type": "code",
   "execution_count": 23,
   "metadata": {},
   "outputs": [
    {
     "name": "stderr",
     "output_type": "stream",
     "text": [
      "                                                                                \r"
     ]
    }
   ],
   "source": [
    "grouped_transaction = ori_transaction.groupBy('user_id').agg(F.avg('dollar_value').alias('avg'), F.sum('dollar_value').alias('sum'), F.count('dollar_value').alias('count')).sort('user_id')\n",
    "grouped_transaction.drop(F.col('order_id'))\n",
    "grouped_transaction_df = grouped_transaction.toPandas()\n",
    "consumer_transaction = pd.merge(consumer, grouped_transaction_df)\n",
    "\n",
    "consumer_transaction.to_parquet(\"../data/curated/consumer_transaction.parquet\")"
   ]
  },
  {
   "cell_type": "markdown",
   "metadata": {},
   "source": [
    "## Guess postcode for the merchant"
   ]
  },
  {
   "cell_type": "code",
   "execution_count": 24,
   "metadata": {},
   "outputs": [
    {
     "name": "stderr",
     "output_type": "stream",
     "text": [
      "[Stage 253:==================================================>      (8 + 1) / 9]\r"
     ]
    },
    {
     "name": "stdout",
     "output_type": "stream",
     "text": [
      "22/09/14 12:07:57 WARN RowBasedKeyValueBatch: Calling spill() on RowBasedKeyValueBatch. Will not spill but return 0.\n",
      "22/09/14 12:07:57 WARN RowBasedKeyValueBatch: Calling spill() on RowBasedKeyValueBatch. Will not spill but return 0.\n",
      "22/09/14 12:07:57 WARN RowBasedKeyValueBatch: Calling spill() on RowBasedKeyValueBatch. Will not spill but return 0.\n",
      "22/09/14 12:07:57 WARN RowBasedKeyValueBatch: Calling spill() on RowBasedKeyValueBatch. Will not spill but return 0.\n",
      "22/09/14 12:07:57 WARN RowBasedKeyValueBatch: Calling spill() on RowBasedKeyValueBatch. Will not spill but return 0.\n",
      "22/09/14 12:07:57 WARN RowBasedKeyValueBatch: Calling spill() on RowBasedKeyValueBatch. Will not spill but return 0.\n",
      "22/09/14 12:07:57 WARN RowBasedKeyValueBatch: Calling spill() on RowBasedKeyValueBatch. Will not spill but return 0.\n",
      "22/09/14 12:07:57 WARN RowBasedKeyValueBatch: Calling spill() on RowBasedKeyValueBatch. Will not spill but return 0.\n"
     ]
    },
    {
     "name": "stderr",
     "output_type": "stream",
     "text": [
      "[Stage 293:==================================================>      (8 + 1) / 9]\r"
     ]
    },
    {
     "name": "stdout",
     "output_type": "stream",
     "text": [
      "22/09/14 12:08:20 WARN RowBasedKeyValueBatch: Calling spill() on RowBasedKeyValueBatch. Will not spill but return 0.\n",
      "22/09/14 12:08:20 WARN RowBasedKeyValueBatch: Calling spill() on RowBasedKeyValueBatch. Will not spill but return 0.\n",
      "22/09/14 12:08:20 WARN RowBasedKeyValueBatch: Calling spill() on RowBasedKeyValueBatch. Will not spill but return 0.\n",
      "22/09/14 12:08:20 WARN RowBasedKeyValueBatch: Calling spill() on RowBasedKeyValueBatch. Will not spill but return 0.\n",
      "22/09/14 12:08:20 WARN RowBasedKeyValueBatch: Calling spill() on RowBasedKeyValueBatch. Will not spill but return 0.\n",
      "22/09/14 12:08:20 WARN RowBasedKeyValueBatch: Calling spill() on RowBasedKeyValueBatch. Will not spill but return 0.\n",
      "22/09/14 12:08:20 WARN RowBasedKeyValueBatch: Calling spill() on RowBasedKeyValueBatch. Will not spill but return 0.\n",
      "22/09/14 12:08:20 WARN RowBasedKeyValueBatch: Calling spill() on RowBasedKeyValueBatch. Will not spill but return 0.\n"
     ]
    },
    {
     "name": "stderr",
     "output_type": "stream",
     "text": [
      "                                                                                \r"
     ]
    },
    {
     "data": {
      "text/html": [
       "<table border='1'>\n",
       "<tr><th>merchant_abn</th><th>postcode</th></tr>\n",
       "<tr><td>10023283211</td><td>5582</td></tr>\n",
       "<tr><td>10142254217</td><td>6438</td></tr>\n",
       "<tr><td>10165489824</td><td>6421</td></tr>\n",
       "<tr><td>10187291046</td><td>5356</td></tr>\n",
       "<tr><td>10192359162</td><td>9015</td></tr>\n",
       "<tr><td>10206519221</td><td>5273</td></tr>\n",
       "<tr><td>10255988167</td><td>3287</td></tr>\n",
       "<tr><td>10264435225</td><td>6001</td></tr>\n",
       "<tr><td>10279061213</td><td>6321</td></tr>\n",
       "<tr><td>10323485998</td><td>4856</td></tr>\n",
       "<tr><td>10342410215</td><td>6335</td></tr>\n",
       "<tr><td>10346855916</td><td>8003</td></tr>\n",
       "<tr><td>10364012396</td><td>6958</td></tr>\n",
       "<tr><td>10385011947</td><td>907</td></tr>\n",
       "<tr><td>10385163239</td><td>832</td></tr>\n",
       "<tr><td>10385250025</td><td>5670</td></tr>\n",
       "<tr><td>10404542215</td><td>5267</td></tr>\n",
       "<tr><td>10430380319</td><td>7250</td></tr>\n",
       "<tr><td>10441711491</td><td>4124</td></tr>\n",
       "<tr><td>10462560289</td><td>3122</td></tr>\n",
       "</table>\n",
       "only showing top 20 rows\n"
      ],
      "text/plain": [
       "+------------+--------+\n",
       "|merchant_abn|postcode|\n",
       "+------------+--------+\n",
       "| 10023283211|    5582|\n",
       "| 10142254217|    6438|\n",
       "| 10165489824|    6421|\n",
       "| 10187291046|    5356|\n",
       "| 10192359162|    9015|\n",
       "| 10206519221|    5273|\n",
       "| 10255988167|    3287|\n",
       "| 10264435225|    6001|\n",
       "| 10279061213|    6321|\n",
       "| 10323485998|    4856|\n",
       "| 10342410215|    6335|\n",
       "| 10346855916|    8003|\n",
       "| 10364012396|    6958|\n",
       "| 10385011947|     907|\n",
       "| 10385163239|     832|\n",
       "| 10385250025|    5670|\n",
       "| 10404542215|    5267|\n",
       "| 10430380319|    7250|\n",
       "| 10441711491|    4124|\n",
       "| 10462560289|    3122|\n",
       "+------------+--------+\n",
       "only showing top 20 rows"
      ]
     },
     "execution_count": 24,
     "metadata": {},
     "output_type": "execute_result"
    }
   ],
   "source": [
    "merchant_abn_and_consumer_id = ori_transaction['merchant_abn', 'user_id']\n",
    "#merchant_and_consumer_postcode['consumer postcode'] = c\n",
    "merchant_abn_and_consumer_id\n",
    "user_id_and_postcode = consumer[['postcode','user_id']]\n",
    "\n",
    "user_id_and_postcode=spark.createDataFrame(user_id_and_postcode) \n",
    "#merchant_and_consumer_postcode = spark.merge(merchant_abn_and_consumer_id, user_id_and_postcode)\n",
    "merchant_and_consumer_postcode = merchant_abn_and_consumer_id.join(user_id_and_postcode,['user_id'])\n",
    "merchant_and_consumer_postcode = merchant_and_consumer_postcode['merchant_abn', 'postcode']\n",
    "#merchant_and_consumer_postcode\n",
    "\n",
    "#https://stackoverflow.com/questions/36654162/mode-of-grouped-data-in-pyspark\n",
    "counts = merchant_and_consumer_postcode.groupBy(['merchant_abn', 'postcode']).count().alias('counts')\n",
    "merchant_postcode = (counts\n",
    "          .groupBy('merchant_abn')\n",
    "          .agg(F.max(F.struct(F.col('count'),\n",
    "                              F.col('postcode'))).alias('max'))\n",
    "          .select(F.col('merchant_abn'), F.col('max.postcode'))\n",
    "         )\n",
    "merchant_postcode\n"
   ]
  },
  {
   "cell_type": "markdown",
   "metadata": {},
   "source": [
    "## Percentage of regular customer"
   ]
  },
  {
   "cell_type": "code",
   "execution_count": 25,
   "metadata": {},
   "outputs": [
    {
     "name": "stderr",
     "output_type": "stream",
     "text": [
      "[Stage 342:>                                                        (0 + 3) / 3]\r"
     ]
    },
    {
     "name": "stdout",
     "output_type": "stream",
     "text": [
      "22/09/14 12:08:46 WARN RowBasedKeyValueBatch: Calling spill() on RowBasedKeyValueBatch. Will not spill but return 0.\n",
      "22/09/14 12:08:46 WARN RowBasedKeyValueBatch: Calling spill() on RowBasedKeyValueBatch. Will not spill but return 0.\n",
      "22/09/14 12:08:46 WARN RowBasedKeyValueBatch: Calling spill() on RowBasedKeyValueBatch. Will not spill but return 0.\n",
      "22/09/14 12:08:46 WARN RowBasedKeyValueBatch: Calling spill() on RowBasedKeyValueBatch. Will not spill but return 0.\n",
      "22/09/14 12:08:47 WARN RowBasedKeyValueBatch: Calling spill() on RowBasedKeyValueBatch. Will not spill but return 0.\n",
      "22/09/14 12:08:47 WARN RowBasedKeyValueBatch: Calling spill() on RowBasedKeyValueBatch. Will not spill but return 0.\n"
     ]
    },
    {
     "name": "stderr",
     "output_type": "stream",
     "text": [
      "[Stage 367:>                                                        (0 + 3) / 3]\r"
     ]
    },
    {
     "name": "stdout",
     "output_type": "stream",
     "text": [
      "22/09/14 12:09:08 WARN RowBasedKeyValueBatch: Calling spill() on RowBasedKeyValueBatch. Will not spill but return 0.\n",
      "22/09/14 12:09:08 WARN RowBasedKeyValueBatch: Calling spill() on RowBasedKeyValueBatch. Will not spill but return 0.\n",
      "22/09/14 12:09:08 WARN RowBasedKeyValueBatch: Calling spill() on RowBasedKeyValueBatch. Will not spill but return 0.\n",
      "22/09/14 12:09:08 WARN RowBasedKeyValueBatch: Calling spill() on RowBasedKeyValueBatch. Will not spill but return 0.\n"
     ]
    },
    {
     "name": "stderr",
     "output_type": "stream",
     "text": [
      "                                                                                \r"
     ]
    },
    {
     "data": {
      "text/html": [
       "<table border='1'>\n",
       "<tr><th>merchant_abn</th><th>fix_cus_num</th><th>total_cus_num</th><th>fix_cus_prob</th></tr>\n",
       "<tr><td>32234779638</td><td>84</td><td>101568.0</td><td>8.270321361058601E-4</td></tr>\n",
       "<tr><td>49891706470</td><td>10883</td><td>247281.0</td><td>0.04401065993748003</td></tr>\n",
       "<tr><td>89726005175</td><td>4112</td><td>189258.0</td><td>0.02172695473903349</td></tr>\n",
       "<tr><td>43186523025</td><td>2868</td><td>176115.0</td><td>0.016284813900008518</td></tr>\n",
       "<tr><td>49505931725</td><td>1</td><td>59813.0</td><td>1.671877351077525E-5</td></tr>\n",
       "<tr><td>60956456424</td><td>41</td><td>90705.0</td><td>4.520147731657571...</td></tr>\n",
       "<tr><td>19933438190</td><td>2</td><td>57985.0</td><td>3.44916788824696E-5</td></tr>\n",
       "<tr><td>45629217853</td><td>4698</td><td>195335.0</td><td>0.024050989326029643</td></tr>\n",
       "<tr><td>48534649627</td><td>1</td><td>56805.0</td><td>1.760408414752222...</td></tr>\n",
       "<tr><td>63290521567</td><td>1516</td><td>155454.0</td><td>0.009752081001453807</td></tr>\n",
       "<tr><td>80324045558</td><td>2372</td><td>168380.0</td><td>0.014087183751039315</td></tr>\n",
       "<tr><td>86578477987</td><td>9598</td><td>237017.0</td><td>0.040494985591750805</td></tr>\n",
       "<tr><td>46804135891</td><td>5331</td><td>200647.0</td><td>0.02656904912607714</td></tr>\n",
       "<tr><td>64203420245</td><td>12584</td><td>260780.0</td><td>0.04825523429710867</td></tr>\n",
       "<tr><td>64403598239</td><td>240</td><td>113541.0</td><td>0.00211377387903929</td></tr>\n",
       "<tr><td>79417999332</td><td>33</td><td>86751.0</td><td>3.803990732095307...</td></tr>\n",
       "<tr><td>32361057556</td><td>11</td><td>75323.0</td><td>1.460377308391859E-4</td></tr>\n",
       "<tr><td>72472909171</td><td>38</td><td>88483.0</td><td>4.294610264118531...</td></tr>\n",
       "<tr><td>21439773999</td><td>123</td><td>105122.0</td><td>0.001170069062612964</td></tr>\n",
       "<tr><td>24852446429</td><td>11479</td><td>251959.0</td><td>0.045558999678519126</td></tr>\n",
       "</table>\n",
       "only showing top 20 rows\n"
      ],
      "text/plain": [
       "+------------+-----------+-------------+--------------------+\n",
       "|merchant_abn|fix_cus_num|total_cus_num|        fix_cus_prob|\n",
       "+------------+-----------+-------------+--------------------+\n",
       "| 32234779638|         84|     101568.0|8.270321361058601E-4|\n",
       "| 49891706470|      10883|     247281.0| 0.04401065993748003|\n",
       "| 89726005175|       4112|     189258.0| 0.02172695473903349|\n",
       "| 43186523025|       2868|     176115.0|0.016284813900008518|\n",
       "| 49505931725|          1|      59813.0|1.671877351077525E-5|\n",
       "| 60956456424|         41|      90705.0|4.520147731657571...|\n",
       "| 19933438190|          2|      57985.0| 3.44916788824696E-5|\n",
       "| 45629217853|       4698|     195335.0|0.024050989326029643|\n",
       "| 48534649627|          1|      56805.0|1.760408414752222...|\n",
       "| 63290521567|       1516|     155454.0|0.009752081001453807|\n",
       "| 80324045558|       2372|     168380.0|0.014087183751039315|\n",
       "| 86578477987|       9598|     237017.0|0.040494985591750805|\n",
       "| 46804135891|       5331|     200647.0| 0.02656904912607714|\n",
       "| 64203420245|      12584|     260780.0| 0.04825523429710867|\n",
       "| 64403598239|        240|     113541.0| 0.00211377387903929|\n",
       "| 79417999332|         33|      86751.0|3.803990732095307...|\n",
       "| 32361057556|         11|      75323.0|1.460377308391859E-4|\n",
       "| 72472909171|         38|      88483.0|4.294610264118531...|\n",
       "| 21439773999|        123|     105122.0|0.001170069062612964|\n",
       "| 24852446429|      11479|     251959.0|0.045558999678519126|\n",
       "+------------+-----------+-------------+--------------------+\n",
       "only showing top 20 rows"
      ]
     },
     "execution_count": 25,
     "metadata": {},
     "output_type": "execute_result"
    }
   ],
   "source": [
    "ori_transaction_1 = ori_transaction.groupby('merchant_abn', 'user_id').count()\n",
    "o_t = ori_transaction.groupby('merchant_abn').agg(F.count('user_id').alias('cnt'))\n",
    "ori_con = ori_transaction_1.join(o_t, ori_transaction_1.merchant_abn == o_t.merchant_abn).drop(o_t.merchant_abn)\n",
    "ori_con_drop = ori_con.filter(F.col(\"count\") > 10)\n",
    "ori_con_fix = ori_con_drop.groupby('merchant_abn').agg(F.count('user_id').alias('fix_cus_num'), F.avg('cnt').alias('total_cus_num'))\n",
    "ori_con_fix_prob = ori_con_fix.withColumn(\"fix_cus_prob\", ori_con_fix.fix_cus_num /ori_con_fix.total_cus_num)\n",
    "ori_con_fix_prob"
   ]
  },
  {
   "cell_type": "markdown",
   "metadata": {},
   "source": [
    "## Monthly new customer"
   ]
  },
  {
   "cell_type": "code",
   "execution_count": null,
   "metadata": {},
   "outputs": [],
   "source": []
  }
 ],
 "metadata": {
  "kernelspec": {
   "display_name": "Python 3.8.13 ('ads')",
   "language": "python",
   "name": "python3"
  },
  "language_info": {
   "codemirror_mode": {
    "name": "ipython",
    "version": 3
   },
   "file_extension": ".py",
   "mimetype": "text/x-python",
   "name": "python",
   "nbconvert_exporter": "python",
   "pygments_lexer": "ipython3",
   "version": "3.8.13"
  },
  "vscode": {
   "interpreter": {
    "hash": "6e45bdfcba1031802b2f7a315f02d536e51553942a60e4ee4be74aec82814bfa"
   }
  }
 },
 "nbformat": 4,
 "nbformat_minor": 4
}
