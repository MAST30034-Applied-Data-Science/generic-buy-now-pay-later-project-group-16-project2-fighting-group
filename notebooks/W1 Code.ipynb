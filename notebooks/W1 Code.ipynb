{
 "cells": [
  {
   "cell_type": "code",
   "execution_count": 1,
   "metadata": {},
   "outputs": [
    {
     "name": "stdout",
     "output_type": "stream",
     "text": [
      "22/09/14 10:32:06 WARN Utils: Your hostname, Macintosh.local resolves to a loopback address: 127.0.0.1; using 10.12.247.25 instead (on interface en0)\n",
      "22/09/14 10:32:06 WARN Utils: Set SPARK_LOCAL_IP if you need to bind to another address\n"
     ]
    },
    {
     "name": "stderr",
     "output_type": "stream",
     "text": [
      "Setting default log level to \"WARN\".\n",
      "To adjust logging level use sc.setLogLevel(newLevel). For SparkR, use setLogLevel(newLevel).\n"
     ]
    },
    {
     "name": "stdout",
     "output_type": "stream",
     "text": [
      "22/09/14 10:32:07 WARN NativeCodeLoader: Unable to load native-hadoop library for your platform... using builtin-java classes where applicable\n"
     ]
    }
   ],
   "source": [
    "from pyspark.sql import SparkSession\n",
    "from pyspark.sql import functions as F\n",
    "# Create a spark session (which will run spark jobs)\n",
    "spark = (\n",
    "    SparkSession.builder.appName(\"MAST30034 Tutorial 1\")\n",
    "    .config(\"spark.sql.repl.eagerEval.enabled\", True) \n",
    "    .config(\"spark.sql.parquet.cacheMetadata\", \"true\")\n",
    "    .config(\"spark.sql.session.timeZone\", \"Etc/UTC\")\n",
    "    .config(\"spark.driver.memory\", \"2g\")\n",
    "    .config(\"spark.executor.memory\", \"4g\")\n",
    "    .getOrCreate()\n",
    ")"
   ]
  },
  {
   "cell_type": "markdown",
   "metadata": {},
   "source": [
    "# Read the given datasets"
   ]
  },
  {
   "cell_type": "code",
   "execution_count": 2,
   "metadata": {},
   "outputs": [
    {
     "name": "stderr",
     "output_type": "stream",
     "text": [
      "                                                                                \r"
     ]
    },
    {
     "data": {
      "text/plain": [
       "4422"
      ]
     },
     "execution_count": 2,
     "metadata": {},
     "output_type": "execute_result"
    }
   ],
   "source": [
    "ori_transaction1 = spark.read.parquet('../data/tables/transactions_20210228_20210827_snapshot').sort('order_datetime')\n",
    "ori_transaction2 = spark.read.parquet('../data/tables/transactions_20210828_20220227_snapshot').sort('order_datetime')\n",
    "ori_transaction3 = spark.read.parquet('../data/tables/transactions_20220228_20220828_snapshot').sort('order_datetime')\n",
    "\n",
    "#read the parquet ori_transaction\n",
    "ori_transaction = ori_transaction1.union(ori_transaction2)\n",
    "ori_transaction = ori_transaction.union(ori_transaction3)\n",
    "ori_transaction.groupby('merchant_abn').count().count()"
   ]
  },
  {
   "cell_type": "code",
   "execution_count": 3,
   "metadata": {},
   "outputs": [
    {
     "data": {
      "text/plain": [
       "4026"
      ]
     },
     "execution_count": 3,
     "metadata": {},
     "output_type": "execute_result"
    }
   ],
   "source": [
    "tbl_merchants = spark.read.parquet('../data/tables/tbl_merchants.parquet')\n",
    "tbl_merchants.count()"
   ]
  },
  {
   "cell_type": "code",
   "execution_count": 4,
   "metadata": {},
   "outputs": [],
   "source": [
    "consumer_detail = spark.read.parquet('../data/tables/consumer_user_details.parquet')"
   ]
  },
  {
   "cell_type": "code",
   "execution_count": 5,
   "metadata": {},
   "outputs": [],
   "source": [
    "import pandas as pd\n",
    "tbl_consumer = spark.read.option(\"delimiter\", \"|\").option(\"header\",True).csv(\"../data/tables/tbl_consumer.csv\")"
   ]
  },
  {
   "cell_type": "code",
   "execution_count": 6,
   "metadata": {},
   "outputs": [],
   "source": [
    "import pandas as pd\n",
    "tbl_consumer = spark.read.option(\"delimiter\", \"|\").option(\"header\",True).csv(\"../data/tables/tbl_consumer.csv\")"
   ]
  },
  {
   "cell_type": "markdown",
   "metadata": {},
   "source": [
    "# Merchant datasets"
   ]
  },
  {
   "cell_type": "code",
   "execution_count": 7,
   "metadata": {},
   "outputs": [
    {
     "name": "stdout",
     "output_type": "stream",
     "text": [
      "22/09/14 10:32:17 WARN RowBasedKeyValueBatch: Calling spill() on RowBasedKeyValueBatch. Will not spill but return 0.\n",
      "22/09/14 10:32:17 WARN RowBasedKeyValueBatch: Calling spill() on RowBasedKeyValueBatch. Will not spill but return 0.\n",
      "22/09/14 10:32:17 WARN RowBasedKeyValueBatch: Calling spill() on RowBasedKeyValueBatch. Will not spill but return 0.\n",
      "22/09/14 10:32:17 WARN RowBasedKeyValueBatch: Calling spill() on RowBasedKeyValueBatch. Will not spill but return 0.\n",
      "22/09/14 10:32:17 WARN RowBasedKeyValueBatch: Calling spill() on RowBasedKeyValueBatch. Will not spill but return 0.\n",
      "22/09/14 10:32:17 WARN RowBasedKeyValueBatch: Calling spill() on RowBasedKeyValueBatch. Will not spill but return 0.\n",
      "22/09/14 10:32:17 WARN RowBasedKeyValueBatch: Calling spill() on RowBasedKeyValueBatch. Will not spill but return 0.\n",
      "22/09/14 10:32:17 WARN RowBasedKeyValueBatch: Calling spill() on RowBasedKeyValueBatch. Will not spill but return 0.\n"
     ]
    },
    {
     "name": "stderr",
     "output_type": "stream",
     "text": [
      "                                                                                \r"
     ]
    },
    {
     "name": "stdout",
     "output_type": "stream",
     "text": [
      "22/09/14 10:32:20 WARN RowBasedKeyValueBatch: Calling spill() on RowBasedKeyValueBatch. Will not spill but return 0.\n",
      "22/09/14 10:32:20 WARN RowBasedKeyValueBatch: Calling spill() on RowBasedKeyValueBatch. Will not spill but return 0.\n",
      "22/09/14 10:32:20 WARN RowBasedKeyValueBatch: Calling spill() on RowBasedKeyValueBatch. Will not spill but return 0.\n",
      "22/09/14 10:32:20 WARN RowBasedKeyValueBatch: Calling spill() on RowBasedKeyValueBatch. Will not spill but return 0.\n",
      "22/09/14 10:32:20 WARN RowBasedKeyValueBatch: Calling spill() on RowBasedKeyValueBatch. Will not spill but return 0.\n",
      "22/09/14 10:32:20 WARN RowBasedKeyValueBatch: Calling spill() on RowBasedKeyValueBatch. Will not spill but return 0.\n",
      "22/09/14 10:32:20 WARN RowBasedKeyValueBatch: Calling spill() on RowBasedKeyValueBatch. Will not spill but return 0.\n",
      "22/09/14 10:32:20 WARN RowBasedKeyValueBatch: Calling spill() on RowBasedKeyValueBatch. Will not spill but return 0.\n"
     ]
    },
    {
     "name": "stderr",
     "output_type": "stream",
     "text": [
      "                                                                                \r"
     ]
    },
    {
     "data": {
      "text/html": [
       "<table border='1'>\n",
       "<tr><th>merchant_abn</th><th>Amount</th><th>Count</th><th>Monthly Amount</th><th>Monthly Count</th></tr>\n",
       "<tr><td>10023283211</td><td>703277.7114509274</td><td>3261</td><td>58606.48</td><td>271.75</td></tr>\n",
       "<tr><td>10142254217</td><td>118356.1460726035</td><td>3036</td><td>9863.01</td><td>253.0</td></tr>\n",
       "<tr><td>10165489824</td><td>56180.473857030534</td><td>5</td><td>4681.71</td><td>0.42</td></tr>\n",
       "<tr><td>10187291046</td><td>39693.730387434036</td><td>336</td><td>3307.81</td><td>28.0</td></tr>\n",
       "<tr><td>10192359162</td><td>177980.50545638183</td><td>385</td><td>14831.71</td><td>32.08</td></tr>\n",
       "<tr><td>10206519221</td><td>358222.999801654</td><td>9621</td><td>29851.92</td><td>801.75</td></tr>\n",
       "<tr><td>10255988167</td><td>322474.116585636</td><td>832</td><td>26872.84</td><td>69.33</td></tr>\n",
       "<tr><td>10264435225</td><td>587225.9354689713</td><td>5026</td><td>48935.49</td><td>418.83</td></tr>\n",
       "<tr><td>10279061213</td><td>166058.19172755213</td><td>555</td><td>13838.18</td><td>46.25</td></tr>\n",
       "<tr><td>10323485998</td><td>1327030.2646789101</td><td>10335</td><td>110585.86</td><td>861.25</td></tr>\n",
       "<tr><td>10342410215</td><td>329459.6496262456</td><td>857</td><td>27454.97</td><td>71.42</td></tr>\n",
       "<tr><td>10346855916</td><td>17902.686559108326</td><td>9</td><td>1491.89</td><td>0.75</td></tr>\n",
       "<tr><td>10364012396</td><td>18297.594140397938</td><td>40</td><td>1524.8</td><td>3.33</td></tr>\n",
       "<tr><td>10385011947</td><td>16714.578215266047</td><td>26</td><td>1392.88</td><td>2.17</td></tr>\n",
       "<tr><td>10385163239</td><td>25193.463105449715</td><td>74</td><td>2099.46</td><td>6.17</td></tr>\n",
       "<tr><td>10385250025</td><td>334918.458591324</td><td>667</td><td>27909.87</td><td>55.58</td></tr>\n",
       "<tr><td>10404542215</td><td>22773.975280323484</td><td>1</td><td>1897.83</td><td>0.08</td></tr>\n",
       "<tr><td>10430380319</td><td>53673.33102873634</td><td>156</td><td>4472.78</td><td>13.0</td></tr>\n",
       "<tr><td>10441711491</td><td>23836.884845394132</td><td>4</td><td>1986.41</td><td>0.33</td></tr>\n",
       "<tr><td>10462560289</td><td>59610.28750314465</td><td>1650</td><td>4967.52</td><td>137.5</td></tr>\n",
       "</table>\n",
       "only showing top 20 rows\n"
      ],
      "text/plain": [
       "+------------+------------------+-----+--------------+-------------+\n",
       "|merchant_abn|            Amount|Count|Monthly Amount|Monthly Count|\n",
       "+------------+------------------+-----+--------------+-------------+\n",
       "| 10023283211| 703277.7114509273| 3261|      58606.48|       271.75|\n",
       "| 10142254217|118356.14607260349| 3036|       9863.01|        253.0|\n",
       "| 10165489824|56180.473857030534|    5|       4681.71|         0.42|\n",
       "| 10187291046|39693.730387434036|  336|       3307.81|         28.0|\n",
       "| 10192359162| 177980.5054563818|  385|      14831.71|        32.08|\n",
       "| 10206519221|  358222.999801654| 9621|      29851.92|       801.75|\n",
       "| 10255988167|322474.11658563605|  832|      26872.84|        69.33|\n",
       "| 10264435225| 587225.9354689714| 5026|      48935.49|       418.83|\n",
       "| 10279061213|166058.19172755213|  555|      13838.18|        46.25|\n",
       "| 10323485998|1327030.2646789104|10335|     110585.86|       861.25|\n",
       "| 10342410215| 329459.6496262456|  857|      27454.97|        71.42|\n",
       "| 10346855916|17902.686559108326|    9|       1491.89|         0.75|\n",
       "| 10364012396|18297.594140397938|   40|        1524.8|         3.33|\n",
       "| 10385011947|16714.578215266047|   26|       1392.88|         2.17|\n",
       "| 10385163239|25193.463105449715|   74|       2099.46|         6.17|\n",
       "| 10385250025|  334918.458591324|  667|      27909.87|        55.58|\n",
       "| 10404542215|22773.975280323484|    1|       1897.83|         0.08|\n",
       "| 10430380319| 53673.33102873634|  156|       4472.78|         13.0|\n",
       "| 10441711491|23836.884845394132|    4|       1986.41|         0.33|\n",
       "| 10462560289| 59610.28750314465| 1650|       4967.52|        137.5|\n",
       "+------------+------------------+-----+--------------+-------------+\n",
       "only showing top 20 rows"
      ]
     },
     "execution_count": 7,
     "metadata": {},
     "output_type": "execute_result"
    }
   ],
   "source": [
    "from pyspark.sql.functions import round\n",
    "grouped_transaction = ori_transaction.groupBy('merchant_abn').agg(F.sum('dollar_value').alias('Amount'), F.count('dollar_value').alias('Count')).sort('merchant_abn')\n",
    "grouped_transaction.drop(F.col('order_id'))\n",
    "grouped_transaction = grouped_transaction.withColumn('Monthly Amount', round(grouped_transaction['Amount']/12, 2))\n",
    "#grouped_transaction = grouped_transaction.withColumn('Round Monthly Amount', round(grouped_transaction['Monthly Amount'], 2))\n",
    "grouped_transaction = grouped_transaction.withColumn('Monthly Count', round(grouped_transaction['Count']/12, 2))\n",
    "grouped_transaction"
   ]
  },
  {
   "cell_type": "code",
   "execution_count": 11,
   "metadata": {},
   "outputs": [],
   "source": [
    "grouped_transaction_pd = grouped_transaction.toPandas()\n",
    "tbl_merchants_pd = tbl_merchants.toPandas()\n",
    "merchant = pd.merge(grouped_transaction_pd, tbl_merchants_pd)\n",
    "merchant.to_parquet(\"../data/curated/merchant.parquet\")"
   ]
  },
  {
   "cell_type": "code",
   "execution_count": 12,
   "metadata": {},
   "outputs": [
    {
     "name": "stderr",
     "output_type": "stream",
     "text": [
      "/var/folders/63/097df8mn6r1d0btnhwhjpkr40000gn/T/ipykernel_4878/3340515154.py:2: SettingWithCopyWarning: \n",
      "A value is trying to be set on a copy of a slice from a DataFrame\n",
      "\n",
      "See the caveats in the documentation: https://pandas.pydata.org/pandas-docs/stable/user_guide/indexing.html#returning-a-view-versus-a-copy\n",
      "  merchant['tags'].iloc[i] = merchant['tags'].iloc[i].replace(r'[', r'(').replace(r']', r')')\n"
     ]
    }
   ],
   "source": [
    "for i in range(int(merchant['tags'].count())):\n",
    "    merchant['tags'].iloc[i] = merchant['tags'].iloc[i].replace(r'[', r'(').replace(r']', r')')\n"
   ]
  },
  {
   "cell_type": "code",
   "execution_count": 13,
   "metadata": {},
   "outputs": [],
   "source": [
    "#merchant['tags'].str.split(pat, n=-1, expand=False)\n",
    "# to split into multiple columns by delimiter\n",
    "merchant_tags = merchant['tags'].str.split(')', expand=True)"
   ]
  },
  {
   "cell_type": "code",
   "execution_count": 14,
   "metadata": {},
   "outputs": [],
   "source": [
    "for row in range(int(len(merchant_tags))):\n",
    "    for col in range(3):\n",
    "        merchant_tags.iloc[row,col] = merchant_tags.iloc[row,col].replace(r'((', r'').replace(r', (', r'').replace(r'take rate:', r'')\n",
    "merchant_tags.rename(columns = {0 : 'Store type', 1 : 'Revenue levels', 2 : 'Take rate'}, inplace = True)\n",
    "merchant_tags = merchant_tags[['Store type', 'Revenue levels', 'Take rate']]"
   ]
  },
  {
   "cell_type": "code",
   "execution_count": 15,
   "metadata": {},
   "outputs": [
    {
     "name": "stderr",
     "output_type": "stream",
     "text": [
      "/var/folders/63/097df8mn6r1d0btnhwhjpkr40000gn/T/ipykernel_4878/697679775.py:7: SettingWithCopyWarning: \n",
      "A value is trying to be set on a copy of a slice from a DataFrame\n",
      "\n",
      "See the caveats in the documentation: https://pandas.pydata.org/pandas-docs/stable/user_guide/indexing.html#returning-a-view-versus-a-copy\n",
      "  merchant['Store type'][i] = ' '.join(merchant['Store type'][i].split())\n"
     ]
    },
    {
     "data": {
      "text/html": [
       "<div>\n",
       "<style scoped>\n",
       "    .dataframe tbody tr th:only-of-type {\n",
       "        vertical-align: middle;\n",
       "    }\n",
       "\n",
       "    .dataframe tbody tr th {\n",
       "        vertical-align: top;\n",
       "    }\n",
       "\n",
       "    .dataframe thead th {\n",
       "        text-align: right;\n",
       "    }\n",
       "</style>\n",
       "<table border=\"1\" class=\"dataframe\">\n",
       "  <thead>\n",
       "    <tr style=\"text-align: right;\">\n",
       "      <th></th>\n",
       "      <th>merchant_abn</th>\n",
       "      <th>Amount</th>\n",
       "      <th>Count</th>\n",
       "      <th>Monthly Amount</th>\n",
       "      <th>Monthly Count</th>\n",
       "      <th>name</th>\n",
       "      <th>tags</th>\n",
       "      <th>Revenue levels</th>\n",
       "      <th>Take rate</th>\n",
       "    </tr>\n",
       "    <tr>\n",
       "      <th>Store type</th>\n",
       "      <th></th>\n",
       "      <th></th>\n",
       "      <th></th>\n",
       "      <th></th>\n",
       "      <th></th>\n",
       "      <th></th>\n",
       "      <th></th>\n",
       "      <th></th>\n",
       "      <th></th>\n",
       "    </tr>\n",
       "  </thead>\n",
       "  <tbody>\n",
       "    <tr>\n",
       "      <th>antique shops - sales, repairs, and restoration services</th>\n",
       "      <td>129</td>\n",
       "      <td>129</td>\n",
       "      <td>129</td>\n",
       "      <td>129</td>\n",
       "      <td>129</td>\n",
       "      <td>129</td>\n",
       "      <td>129</td>\n",
       "      <td>129</td>\n",
       "      <td>129</td>\n",
       "    </tr>\n",
       "    <tr>\n",
       "      <th>art dealers and galleries</th>\n",
       "      <td>112</td>\n",
       "      <td>112</td>\n",
       "      <td>112</td>\n",
       "      <td>112</td>\n",
       "      <td>112</td>\n",
       "      <td>112</td>\n",
       "      <td>112</td>\n",
       "      <td>112</td>\n",
       "      <td>112</td>\n",
       "    </tr>\n",
       "    <tr>\n",
       "      <th>artist supply and craft shops</th>\n",
       "      <td>193</td>\n",
       "      <td>193</td>\n",
       "      <td>193</td>\n",
       "      <td>193</td>\n",
       "      <td>193</td>\n",
       "      <td>193</td>\n",
       "      <td>193</td>\n",
       "      <td>193</td>\n",
       "      <td>193</td>\n",
       "    </tr>\n",
       "    <tr>\n",
       "      <th>bicycle shops - sales and service</th>\n",
       "      <td>170</td>\n",
       "      <td>170</td>\n",
       "      <td>170</td>\n",
       "      <td>170</td>\n",
       "      <td>170</td>\n",
       "      <td>170</td>\n",
       "      <td>170</td>\n",
       "      <td>170</td>\n",
       "      <td>170</td>\n",
       "    </tr>\n",
       "    <tr>\n",
       "      <th>books, periodicals, and newspapers</th>\n",
       "      <td>164</td>\n",
       "      <td>164</td>\n",
       "      <td>164</td>\n",
       "      <td>164</td>\n",
       "      <td>164</td>\n",
       "      <td>164</td>\n",
       "      <td>164</td>\n",
       "      <td>164</td>\n",
       "      <td>164</td>\n",
       "    </tr>\n",
       "    <tr>\n",
       "      <th>cable, satellite, and other pay television and radio services</th>\n",
       "      <td>175</td>\n",
       "      <td>175</td>\n",
       "      <td>175</td>\n",
       "      <td>175</td>\n",
       "      <td>175</td>\n",
       "      <td>175</td>\n",
       "      <td>175</td>\n",
       "      <td>175</td>\n",
       "      <td>175</td>\n",
       "    </tr>\n",
       "    <tr>\n",
       "      <th>computer programming , data processing, and integrated systems design services</th>\n",
       "      <td>191</td>\n",
       "      <td>191</td>\n",
       "      <td>191</td>\n",
       "      <td>191</td>\n",
       "      <td>191</td>\n",
       "      <td>191</td>\n",
       "      <td>191</td>\n",
       "      <td>191</td>\n",
       "      <td>191</td>\n",
       "    </tr>\n",
       "    <tr>\n",
       "      <th>computers, computer peripheral equipment, and software</th>\n",
       "      <td>181</td>\n",
       "      <td>181</td>\n",
       "      <td>181</td>\n",
       "      <td>181</td>\n",
       "      <td>181</td>\n",
       "      <td>181</td>\n",
       "      <td>181</td>\n",
       "      <td>181</td>\n",
       "      <td>181</td>\n",
       "    </tr>\n",
       "    <tr>\n",
       "      <th>digital goods: books, movies, music</th>\n",
       "      <td>195</td>\n",
       "      <td>195</td>\n",
       "      <td>195</td>\n",
       "      <td>195</td>\n",
       "      <td>195</td>\n",
       "      <td>195</td>\n",
       "      <td>195</td>\n",
       "      <td>195</td>\n",
       "      <td>195</td>\n",
       "    </tr>\n",
       "    <tr>\n",
       "      <th>equipment, tool, furniture, and appliance rent al and leasing</th>\n",
       "      <td>134</td>\n",
       "      <td>134</td>\n",
       "      <td>134</td>\n",
       "      <td>134</td>\n",
       "      <td>134</td>\n",
       "      <td>134</td>\n",
       "      <td>134</td>\n",
       "      <td>134</td>\n",
       "      <td>134</td>\n",
       "    </tr>\n",
       "    <tr>\n",
       "      <th>florists supplies, nursery stock, and flowers</th>\n",
       "      <td>180</td>\n",
       "      <td>180</td>\n",
       "      <td>180</td>\n",
       "      <td>180</td>\n",
       "      <td>180</td>\n",
       "      <td>180</td>\n",
       "      <td>180</td>\n",
       "      <td>180</td>\n",
       "      <td>180</td>\n",
       "    </tr>\n",
       "    <tr>\n",
       "      <th>furniture, home furnishings and equipment shops, and manufacturers, except appliances</th>\n",
       "      <td>182</td>\n",
       "      <td>182</td>\n",
       "      <td>182</td>\n",
       "      <td>182</td>\n",
       "      <td>182</td>\n",
       "      <td>182</td>\n",
       "      <td>182</td>\n",
       "      <td>182</td>\n",
       "      <td>182</td>\n",
       "    </tr>\n",
       "    <tr>\n",
       "      <th>gift, card, novelty, and souvenir shops</th>\n",
       "      <td>182</td>\n",
       "      <td>182</td>\n",
       "      <td>182</td>\n",
       "      <td>182</td>\n",
       "      <td>182</td>\n",
       "      <td>182</td>\n",
       "      <td>182</td>\n",
       "      <td>182</td>\n",
       "      <td>182</td>\n",
       "    </tr>\n",
       "    <tr>\n",
       "      <th>health and beauty spas</th>\n",
       "      <td>164</td>\n",
       "      <td>164</td>\n",
       "      <td>164</td>\n",
       "      <td>164</td>\n",
       "      <td>164</td>\n",
       "      <td>164</td>\n",
       "      <td>164</td>\n",
       "      <td>164</td>\n",
       "      <td>164</td>\n",
       "    </tr>\n",
       "    <tr>\n",
       "      <th>hobby, toy and game shops</th>\n",
       "      <td>142</td>\n",
       "      <td>142</td>\n",
       "      <td>142</td>\n",
       "      <td>142</td>\n",
       "      <td>142</td>\n",
       "      <td>142</td>\n",
       "      <td>142</td>\n",
       "      <td>142</td>\n",
       "      <td>142</td>\n",
       "    </tr>\n",
       "    <tr>\n",
       "      <th>jewelry, watch, clock, and silverware shops</th>\n",
       "      <td>91</td>\n",
       "      <td>91</td>\n",
       "      <td>91</td>\n",
       "      <td>91</td>\n",
       "      <td>91</td>\n",
       "      <td>91</td>\n",
       "      <td>91</td>\n",
       "      <td>91</td>\n",
       "      <td>91</td>\n",
       "    </tr>\n",
       "    <tr>\n",
       "      <th>lawn and garden supply outlets, including nurseries</th>\n",
       "      <td>153</td>\n",
       "      <td>153</td>\n",
       "      <td>153</td>\n",
       "      <td>153</td>\n",
       "      <td>153</td>\n",
       "      <td>153</td>\n",
       "      <td>153</td>\n",
       "      <td>153</td>\n",
       "      <td>153</td>\n",
       "    </tr>\n",
       "    <tr>\n",
       "      <th>motor vehicle supplies and new parts</th>\n",
       "      <td>151</td>\n",
       "      <td>151</td>\n",
       "      <td>151</td>\n",
       "      <td>151</td>\n",
       "      <td>151</td>\n",
       "      <td>151</td>\n",
       "      <td>151</td>\n",
       "      <td>151</td>\n",
       "      <td>151</td>\n",
       "    </tr>\n",
       "    <tr>\n",
       "      <th>music shops - musical instruments, pianos, and sheet music</th>\n",
       "      <td>167</td>\n",
       "      <td>167</td>\n",
       "      <td>167</td>\n",
       "      <td>167</td>\n",
       "      <td>167</td>\n",
       "      <td>167</td>\n",
       "      <td>167</td>\n",
       "      <td>167</td>\n",
       "      <td>167</td>\n",
       "    </tr>\n",
       "    <tr>\n",
       "      <th>opticians, optical goods, and eyeglasses</th>\n",
       "      <td>151</td>\n",
       "      <td>151</td>\n",
       "      <td>151</td>\n",
       "      <td>151</td>\n",
       "      <td>151</td>\n",
       "      <td>151</td>\n",
       "      <td>151</td>\n",
       "      <td>151</td>\n",
       "      <td>151</td>\n",
       "    </tr>\n",
       "    <tr>\n",
       "      <th>shoe shops</th>\n",
       "      <td>185</td>\n",
       "      <td>185</td>\n",
       "      <td>185</td>\n",
       "      <td>185</td>\n",
       "      <td>185</td>\n",
       "      <td>185</td>\n",
       "      <td>185</td>\n",
       "      <td>185</td>\n",
       "      <td>185</td>\n",
       "    </tr>\n",
       "    <tr>\n",
       "      <th>stationery, office supplies and printing and writing paper</th>\n",
       "      <td>161</td>\n",
       "      <td>161</td>\n",
       "      <td>161</td>\n",
       "      <td>161</td>\n",
       "      <td>161</td>\n",
       "      <td>161</td>\n",
       "      <td>161</td>\n",
       "      <td>161</td>\n",
       "      <td>161</td>\n",
       "    </tr>\n",
       "    <tr>\n",
       "      <th>telecom</th>\n",
       "      <td>125</td>\n",
       "      <td>125</td>\n",
       "      <td>125</td>\n",
       "      <td>125</td>\n",
       "      <td>125</td>\n",
       "      <td>125</td>\n",
       "      <td>125</td>\n",
       "      <td>125</td>\n",
       "      <td>125</td>\n",
       "    </tr>\n",
       "    <tr>\n",
       "      <th>tent and awning shops</th>\n",
       "      <td>178</td>\n",
       "      <td>178</td>\n",
       "      <td>178</td>\n",
       "      <td>178</td>\n",
       "      <td>178</td>\n",
       "      <td>178</td>\n",
       "      <td>178</td>\n",
       "      <td>178</td>\n",
       "      <td>178</td>\n",
       "    </tr>\n",
       "    <tr>\n",
       "      <th>watch, clock, and jewelry repair shops</th>\n",
       "      <td>170</td>\n",
       "      <td>170</td>\n",
       "      <td>170</td>\n",
       "      <td>170</td>\n",
       "      <td>170</td>\n",
       "      <td>170</td>\n",
       "      <td>170</td>\n",
       "      <td>170</td>\n",
       "      <td>170</td>\n",
       "    </tr>\n",
       "  </tbody>\n",
       "</table>\n",
       "</div>"
      ],
      "text/plain": [
       "                                                    merchant_abn  Amount  \\\n",
       "Store type                                                                 \n",
       "antique shops - sales, repairs, and restoration...           129     129   \n",
       "art dealers and galleries                                    112     112   \n",
       "artist supply and craft shops                                193     193   \n",
       "bicycle shops - sales and service                            170     170   \n",
       "books, periodicals, and newspapers                           164     164   \n",
       "cable, satellite, and other pay television and ...           175     175   \n",
       "computer programming , data processing, and int...           191     191   \n",
       "computers, computer peripheral equipment, and s...           181     181   \n",
       "digital goods: books, movies, music                          195     195   \n",
       "equipment, tool, furniture, and appliance rent ...           134     134   \n",
       "florists supplies, nursery stock, and flowers                180     180   \n",
       "furniture, home furnishings and equipment shops...           182     182   \n",
       "gift, card, novelty, and souvenir shops                      182     182   \n",
       "health and beauty spas                                       164     164   \n",
       "hobby, toy and game shops                                    142     142   \n",
       "jewelry, watch, clock, and silverware shops                   91      91   \n",
       "lawn and garden supply outlets, including nurse...           153     153   \n",
       "motor vehicle supplies and new parts                         151     151   \n",
       "music shops - musical instruments, pianos, and ...           167     167   \n",
       "opticians, optical goods, and eyeglasses                     151     151   \n",
       "shoe shops                                                   185     185   \n",
       "stationery, office supplies and printing and wr...           161     161   \n",
       "telecom                                                      125     125   \n",
       "tent and awning shops                                        178     178   \n",
       "watch, clock, and jewelry repair shops                       170     170   \n",
       "\n",
       "                                                    Count  Monthly Amount  \\\n",
       "Store type                                                                  \n",
       "antique shops - sales, repairs, and restoration...    129             129   \n",
       "art dealers and galleries                             112             112   \n",
       "artist supply and craft shops                         193             193   \n",
       "bicycle shops - sales and service                     170             170   \n",
       "books, periodicals, and newspapers                    164             164   \n",
       "cable, satellite, and other pay television and ...    175             175   \n",
       "computer programming , data processing, and int...    191             191   \n",
       "computers, computer peripheral equipment, and s...    181             181   \n",
       "digital goods: books, movies, music                   195             195   \n",
       "equipment, tool, furniture, and appliance rent ...    134             134   \n",
       "florists supplies, nursery stock, and flowers         180             180   \n",
       "furniture, home furnishings and equipment shops...    182             182   \n",
       "gift, card, novelty, and souvenir shops               182             182   \n",
       "health and beauty spas                                164             164   \n",
       "hobby, toy and game shops                             142             142   \n",
       "jewelry, watch, clock, and silverware shops            91              91   \n",
       "lawn and garden supply outlets, including nurse...    153             153   \n",
       "motor vehicle supplies and new parts                  151             151   \n",
       "music shops - musical instruments, pianos, and ...    167             167   \n",
       "opticians, optical goods, and eyeglasses              151             151   \n",
       "shoe shops                                            185             185   \n",
       "stationery, office supplies and printing and wr...    161             161   \n",
       "telecom                                               125             125   \n",
       "tent and awning shops                                 178             178   \n",
       "watch, clock, and jewelry repair shops                170             170   \n",
       "\n",
       "                                                    Monthly Count  name  tags  \\\n",
       "Store type                                                                      \n",
       "antique shops - sales, repairs, and restoration...            129   129   129   \n",
       "art dealers and galleries                                     112   112   112   \n",
       "artist supply and craft shops                                 193   193   193   \n",
       "bicycle shops - sales and service                             170   170   170   \n",
       "books, periodicals, and newspapers                            164   164   164   \n",
       "cable, satellite, and other pay television and ...            175   175   175   \n",
       "computer programming , data processing, and int...            191   191   191   \n",
       "computers, computer peripheral equipment, and s...            181   181   181   \n",
       "digital goods: books, movies, music                           195   195   195   \n",
       "equipment, tool, furniture, and appliance rent ...            134   134   134   \n",
       "florists supplies, nursery stock, and flowers                 180   180   180   \n",
       "furniture, home furnishings and equipment shops...            182   182   182   \n",
       "gift, card, novelty, and souvenir shops                       182   182   182   \n",
       "health and beauty spas                                        164   164   164   \n",
       "hobby, toy and game shops                                     142   142   142   \n",
       "jewelry, watch, clock, and silverware shops                    91    91    91   \n",
       "lawn and garden supply outlets, including nurse...            153   153   153   \n",
       "motor vehicle supplies and new parts                          151   151   151   \n",
       "music shops - musical instruments, pianos, and ...            167   167   167   \n",
       "opticians, optical goods, and eyeglasses                      151   151   151   \n",
       "shoe shops                                                    185   185   185   \n",
       "stationery, office supplies and printing and wr...            161   161   161   \n",
       "telecom                                                       125   125   125   \n",
       "tent and awning shops                                         178   178   178   \n",
       "watch, clock, and jewelry repair shops                        170   170   170   \n",
       "\n",
       "                                                    Revenue levels  Take rate  \n",
       "Store type                                                                     \n",
       "antique shops - sales, repairs, and restoration...             129        129  \n",
       "art dealers and galleries                                      112        112  \n",
       "artist supply and craft shops                                  193        193  \n",
       "bicycle shops - sales and service                              170        170  \n",
       "books, periodicals, and newspapers                             164        164  \n",
       "cable, satellite, and other pay television and ...             175        175  \n",
       "computer programming , data processing, and int...             191        191  \n",
       "computers, computer peripheral equipment, and s...             181        181  \n",
       "digital goods: books, movies, music                            195        195  \n",
       "equipment, tool, furniture, and appliance rent ...             134        134  \n",
       "florists supplies, nursery stock, and flowers                  180        180  \n",
       "furniture, home furnishings and equipment shops...             182        182  \n",
       "gift, card, novelty, and souvenir shops                        182        182  \n",
       "health and beauty spas                                         164        164  \n",
       "hobby, toy and game shops                                      142        142  \n",
       "jewelry, watch, clock, and silverware shops                     91         91  \n",
       "lawn and garden supply outlets, including nurse...             153        153  \n",
       "motor vehicle supplies and new parts                           151        151  \n",
       "music shops - musical instruments, pianos, and ...             167        167  \n",
       "opticians, optical goods, and eyeglasses                       151        151  \n",
       "shoe shops                                                     185        185  \n",
       "stationery, office supplies and printing and wr...             161        161  \n",
       "telecom                                                        125        125  \n",
       "tent and awning shops                                          178        178  \n",
       "watch, clock, and jewelry repair shops                         170        170  "
      ]
     },
     "execution_count": 15,
     "metadata": {},
     "output_type": "execute_result"
    }
   ],
   "source": [
    "import pyspark.sql.functions as f\n",
    "merchant[['Store type', 'Revenue levels', 'Take rate']] = merchant_tags[['Store type', 'Revenue levels', 'Take rate']]\n",
    "#merchant.drop(columns=['tags'])\n",
    "merchant['Store type'] = merchant['Store type'].str.lower()\n",
    "\n",
    "for i in range(len(merchant)):\n",
    "    merchant['Store type'][i] = ' '.join(merchant['Store type'][i].split())\n",
    "\n",
    "#merchant\n",
    "merchant.groupby('Store type').count()"
   ]
  },
  {
   "cell_type": "markdown",
   "metadata": {},
   "source": [
    "# Consumer datasets"
   ]
  },
  {
   "cell_type": "code",
   "execution_count": 17,
   "metadata": {},
   "outputs": [
    {
     "name": "stderr",
     "output_type": "stream",
     "text": [
      "                                                                                \r"
     ]
    },
    {
     "data": {
      "text/html": [
       "<div>\n",
       "<style scoped>\n",
       "    .dataframe tbody tr th:only-of-type {\n",
       "        vertical-align: middle;\n",
       "    }\n",
       "\n",
       "    .dataframe tbody tr th {\n",
       "        vertical-align: top;\n",
       "    }\n",
       "\n",
       "    .dataframe thead th {\n",
       "        text-align: right;\n",
       "    }\n",
       "</style>\n",
       "<table border=\"1\" class=\"dataframe\">\n",
       "  <thead>\n",
       "    <tr style=\"text-align: right;\">\n",
       "      <th></th>\n",
       "      <th>name</th>\n",
       "      <th>address</th>\n",
       "      <th>state</th>\n",
       "      <th>postcode</th>\n",
       "      <th>gender</th>\n",
       "      <th>consumer_id</th>\n",
       "      <th>user_id</th>\n",
       "    </tr>\n",
       "  </thead>\n",
       "  <tbody>\n",
       "    <tr>\n",
       "      <th>0</th>\n",
       "      <td>Yolanda Williams</td>\n",
       "      <td>413 Haney Gardens Apt. 742</td>\n",
       "      <td>WA</td>\n",
       "      <td>6935</td>\n",
       "      <td>Female</td>\n",
       "      <td>1195503</td>\n",
       "      <td>1</td>\n",
       "    </tr>\n",
       "    <tr>\n",
       "      <th>1</th>\n",
       "      <td>Mary Smith</td>\n",
       "      <td>3764 Amber Oval</td>\n",
       "      <td>NSW</td>\n",
       "      <td>2782</td>\n",
       "      <td>Female</td>\n",
       "      <td>179208</td>\n",
       "      <td>2</td>\n",
       "    </tr>\n",
       "    <tr>\n",
       "      <th>2</th>\n",
       "      <td>Jill Jones MD</td>\n",
       "      <td>40693 Henry Greens</td>\n",
       "      <td>NT</td>\n",
       "      <td>862</td>\n",
       "      <td>Female</td>\n",
       "      <td>1194530</td>\n",
       "      <td>3</td>\n",
       "    </tr>\n",
       "    <tr>\n",
       "      <th>3</th>\n",
       "      <td>Lindsay Jimenez</td>\n",
       "      <td>00653 Davenport Crossroad</td>\n",
       "      <td>NSW</td>\n",
       "      <td>2780</td>\n",
       "      <td>Female</td>\n",
       "      <td>154128</td>\n",
       "      <td>4</td>\n",
       "    </tr>\n",
       "    <tr>\n",
       "      <th>4</th>\n",
       "      <td>Rebecca Blanchard</td>\n",
       "      <td>9271 Michael Manors Suite 651</td>\n",
       "      <td>WA</td>\n",
       "      <td>6355</td>\n",
       "      <td>Female</td>\n",
       "      <td>712975</td>\n",
       "      <td>5</td>\n",
       "    </tr>\n",
       "    <tr>\n",
       "      <th>...</th>\n",
       "      <td>...</td>\n",
       "      <td>...</td>\n",
       "      <td>...</td>\n",
       "      <td>...</td>\n",
       "      <td>...</td>\n",
       "      <td>...</td>\n",
       "      <td>...</td>\n",
       "    </tr>\n",
       "    <tr>\n",
       "      <th>499994</th>\n",
       "      <td>Jessica Avila</td>\n",
       "      <td>508 Miranda Overpass Apt. 218</td>\n",
       "      <td>QLD</td>\n",
       "      <td>4400</td>\n",
       "      <td>Female</td>\n",
       "      <td>1385608</td>\n",
       "      <td>499995</td>\n",
       "    </tr>\n",
       "    <tr>\n",
       "      <th>499995</th>\n",
       "      <td>Steven Thornton</td>\n",
       "      <td>7913 Schwartz Mission Suite 483</td>\n",
       "      <td>VIC</td>\n",
       "      <td>3097</td>\n",
       "      <td>Undisclosed</td>\n",
       "      <td>1466964</td>\n",
       "      <td>499996</td>\n",
       "    </tr>\n",
       "    <tr>\n",
       "      <th>499996</th>\n",
       "      <td>Christy Smith</td>\n",
       "      <td>5681 Zachary Mountain Apt. 060</td>\n",
       "      <td>NSW</td>\n",
       "      <td>2756</td>\n",
       "      <td>Undisclosed</td>\n",
       "      <td>1253484</td>\n",
       "      <td>499997</td>\n",
       "    </tr>\n",
       "    <tr>\n",
       "      <th>499997</th>\n",
       "      <td>Donna Sutton</td>\n",
       "      <td>54140 Jacob Point</td>\n",
       "      <td>VIC</td>\n",
       "      <td>3989</td>\n",
       "      <td>Female</td>\n",
       "      <td>175005</td>\n",
       "      <td>499998</td>\n",
       "    </tr>\n",
       "    <tr>\n",
       "      <th>499998</th>\n",
       "      <td>Hannah Wilkins</td>\n",
       "      <td>61055 Long Valley</td>\n",
       "      <td>NSW</td>\n",
       "      <td>1755</td>\n",
       "      <td>Female</td>\n",
       "      <td>746835</td>\n",
       "      <td>499999</td>\n",
       "    </tr>\n",
       "  </tbody>\n",
       "</table>\n",
       "<p>499999 rows × 7 columns</p>\n",
       "</div>"
      ],
      "text/plain": [
       "                     name                          address state postcode  \\\n",
       "0        Yolanda Williams       413 Haney Gardens Apt. 742    WA     6935   \n",
       "1              Mary Smith                  3764 Amber Oval   NSW     2782   \n",
       "2           Jill Jones MD               40693 Henry Greens    NT      862   \n",
       "3         Lindsay Jimenez        00653 Davenport Crossroad   NSW     2780   \n",
       "4       Rebecca Blanchard    9271 Michael Manors Suite 651    WA     6355   \n",
       "...                   ...                              ...   ...      ...   \n",
       "499994      Jessica Avila    508 Miranda Overpass Apt. 218   QLD     4400   \n",
       "499995    Steven Thornton  7913 Schwartz Mission Suite 483   VIC     3097   \n",
       "499996      Christy Smith   5681 Zachary Mountain Apt. 060   NSW     2756   \n",
       "499997       Donna Sutton                54140 Jacob Point   VIC     3989   \n",
       "499998     Hannah Wilkins                61055 Long Valley   NSW     1755   \n",
       "\n",
       "             gender  consumer_id  user_id  \n",
       "0            Female      1195503        1  \n",
       "1            Female       179208        2  \n",
       "2            Female      1194530        3  \n",
       "3            Female       154128        4  \n",
       "4            Female       712975        5  \n",
       "...             ...          ...      ...  \n",
       "499994       Female      1385608   499995  \n",
       "499995  Undisclosed      1466964   499996  \n",
       "499996  Undisclosed      1253484   499997  \n",
       "499997       Female       175005   499998  \n",
       "499998       Female       746835   499999  \n",
       "\n",
       "[499999 rows x 7 columns]"
      ]
     },
     "execution_count": 17,
     "metadata": {},
     "output_type": "execute_result"
    }
   ],
   "source": [
    "consumer_detail_pd = consumer_detail.toPandas()\n",
    "tbl_consumer_pd = tbl_consumer.toPandas()\n",
    "tbl_consumer_pd['consumer_id']=tbl_consumer_pd['consumer_id'].astype(int)\n",
    "consumer = pd.merge(tbl_consumer_pd, consumer_detail_pd)\n",
    "consumer"
   ]
  },
  {
   "cell_type": "code",
   "execution_count": 18,
   "metadata": {},
   "outputs": [
    {
     "name": "stdout",
     "output_type": "stream",
     "text": [
      "22/09/14 10:34:31 WARN RowBasedKeyValueBatch: Calling spill() on RowBasedKeyValueBatch. Will not spill but return 0.\n",
      "22/09/14 10:34:31 WARN RowBasedKeyValueBatch: Calling spill() on RowBasedKeyValueBatch. Will not spill but return 0.\n",
      "22/09/14 10:34:31 WARN RowBasedKeyValueBatch: Calling spill() on RowBasedKeyValueBatch. Will not spill but return 0.\n",
      "22/09/14 10:34:31 WARN RowBasedKeyValueBatch: Calling spill() on RowBasedKeyValueBatch. Will not spill but return 0.\n",
      "22/09/14 10:34:31 WARN RowBasedKeyValueBatch: Calling spill() on RowBasedKeyValueBatch. Will not spill but return 0.\n",
      "22/09/14 10:34:31 WARN RowBasedKeyValueBatch: Calling spill() on RowBasedKeyValueBatch. Will not spill but return 0.\n",
      "22/09/14 10:34:31 WARN RowBasedKeyValueBatch: Calling spill() on RowBasedKeyValueBatch. Will not spill but return 0.\n",
      "22/09/14 10:34:31 WARN RowBasedKeyValueBatch: Calling spill() on RowBasedKeyValueBatch. Will not spill but return 0.\n"
     ]
    },
    {
     "name": "stderr",
     "output_type": "stream",
     "text": [
      "                                                                                \r"
     ]
    }
   ],
   "source": [
    "grouped_transaction = ori_transaction.groupBy('user_id').agg(F.avg('dollar_value').alias('avg'), F.sum('dollar_value').alias('sum'), F.count('dollar_value').alias('count')).sort('user_id')\n",
    "grouped_transaction.drop(F.col('order_id'))\n",
    "grouped_transaction_df = grouped_transaction.toPandas()\n",
    "consumer_transaction = pd.merge(consumer, grouped_transaction_df)\n",
    "consumer_transaction.to_parquet(\"../data/curated/consumer_transaction.parquet\")"
   ]
  },
  {
   "cell_type": "markdown",
   "metadata": {},
   "source": [
    "## Guess postcode for the merchant"
   ]
  },
  {
   "cell_type": "code",
   "execution_count": 19,
   "metadata": {},
   "outputs": [
    {
     "name": "stderr",
     "output_type": "stream",
     "text": [
      "[Stage 136:==============>                                          (2 + 6) / 8]\r"
     ]
    },
    {
     "name": "stdout",
     "output_type": "stream",
     "text": [
      "22/09/14 10:34:42 WARN RowBasedKeyValueBatch: Calling spill() on RowBasedKeyValueBatch. Will not spill but return 0.\n",
      "22/09/14 10:34:42 WARN RowBasedKeyValueBatch: Calling spill() on RowBasedKeyValueBatch. Will not spill but return 0.\n",
      "22/09/14 10:34:42 WARN RowBasedKeyValueBatch: Calling spill() on RowBasedKeyValueBatch. Will not spill but return 0.\n",
      "22/09/14 10:34:42 WARN RowBasedKeyValueBatch: Calling spill() on RowBasedKeyValueBatch. Will not spill but return 0.\n",
      "22/09/14 10:34:42 WARN RowBasedKeyValueBatch: Calling spill() on RowBasedKeyValueBatch. Will not spill but return 0.\n",
      "22/09/14 10:34:42 WARN RowBasedKeyValueBatch: Calling spill() on RowBasedKeyValueBatch. Will not spill but return 0.\n",
      "22/09/14 10:34:42 WARN RowBasedKeyValueBatch: Calling spill() on RowBasedKeyValueBatch. Will not spill but return 0.\n",
      "22/09/14 10:34:42 WARN RowBasedKeyValueBatch: Calling spill() on RowBasedKeyValueBatch. Will not spill but return 0.\n"
     ]
    },
    {
     "name": "stderr",
     "output_type": "stream",
     "text": [
      "[Stage 168:=====================>                                   (3 + 5) / 8]\r"
     ]
    },
    {
     "name": "stdout",
     "output_type": "stream",
     "text": [
      "22/09/14 10:34:49 WARN RowBasedKeyValueBatch: Calling spill() on RowBasedKeyValueBatch. Will not spill but return 0.\n",
      "22/09/14 10:34:49 WARN RowBasedKeyValueBatch: Calling spill() on RowBasedKeyValueBatch. Will not spill but return 0.\n",
      "22/09/14 10:34:49 WARN RowBasedKeyValueBatch: Calling spill() on RowBasedKeyValueBatch. Will not spill but return 0.\n",
      "22/09/14 10:34:49 WARN RowBasedKeyValueBatch: Calling spill() on RowBasedKeyValueBatch. Will not spill but return 0.\n",
      "22/09/14 10:34:49 WARN RowBasedKeyValueBatch: Calling spill() on RowBasedKeyValueBatch. Will not spill but return 0.\n",
      "22/09/14 10:34:49 WARN RowBasedKeyValueBatch: Calling spill() on RowBasedKeyValueBatch. Will not spill but return 0.\n",
      "22/09/14 10:34:49 WARN RowBasedKeyValueBatch: Calling spill() on RowBasedKeyValueBatch. Will not spill but return 0.\n",
      "22/09/14 10:34:49 WARN RowBasedKeyValueBatch: Calling spill() on RowBasedKeyValueBatch. Will not spill but return 0.\n"
     ]
    },
    {
     "name": "stderr",
     "output_type": "stream",
     "text": [
      "                                                                                \r"
     ]
    },
    {
     "data": {
      "text/html": [
       "<table border='1'>\n",
       "<tr><th>merchant_abn</th><th>postcode</th></tr>\n",
       "<tr><td>10023283211</td><td>5582</td></tr>\n",
       "<tr><td>10142254217</td><td>6438</td></tr>\n",
       "<tr><td>10165489824</td><td>6421</td></tr>\n",
       "<tr><td>10187291046</td><td>7054</td></tr>\n",
       "<tr><td>10192359162</td><td>9015</td></tr>\n",
       "<tr><td>10206519221</td><td>5273</td></tr>\n",
       "<tr><td>10255988167</td><td>3287</td></tr>\n",
       "<tr><td>10264435225</td><td>6001</td></tr>\n",
       "<tr><td>10279061213</td><td>6321</td></tr>\n",
       "<tr><td>10323485998</td><td>4856</td></tr>\n",
       "<tr><td>10342410215</td><td>6335</td></tr>\n",
       "<tr><td>10346855916</td><td>8003</td></tr>\n",
       "<tr><td>10364012396</td><td>6958</td></tr>\n",
       "<tr><td>10385011947</td><td>907</td></tr>\n",
       "<tr><td>10385163239</td><td>3984</td></tr>\n",
       "<tr><td>10385250025</td><td>7184</td></tr>\n",
       "<tr><td>10404542215</td><td>5267</td></tr>\n",
       "<tr><td>10430380319</td><td>7250</td></tr>\n",
       "<tr><td>10441711491</td><td>4124</td></tr>\n",
       "<tr><td>10462560289</td><td>3122</td></tr>\n",
       "</table>\n",
       "only showing top 20 rows\n"
      ],
      "text/plain": [
       "+------------+--------+\n",
       "|merchant_abn|postcode|\n",
       "+------------+--------+\n",
       "| 10023283211|    5582|\n",
       "| 10142254217|    6438|\n",
       "| 10165489824|    6421|\n",
       "| 10187291046|    7054|\n",
       "| 10192359162|    9015|\n",
       "| 10206519221|    5273|\n",
       "| 10255988167|    3287|\n",
       "| 10264435225|    6001|\n",
       "| 10279061213|    6321|\n",
       "| 10323485998|    4856|\n",
       "| 10342410215|    6335|\n",
       "| 10346855916|    8003|\n",
       "| 10364012396|    6958|\n",
       "| 10385011947|     907|\n",
       "| 10385163239|    3984|\n",
       "| 10385250025|    7184|\n",
       "| 10404542215|    5267|\n",
       "| 10430380319|    7250|\n",
       "| 10441711491|    4124|\n",
       "| 10462560289|    3122|\n",
       "+------------+--------+\n",
       "only showing top 20 rows"
      ]
     },
     "execution_count": 19,
     "metadata": {},
     "output_type": "execute_result"
    }
   ],
   "source": [
    "merchant_abn_and_consumer_id = ori_transaction['merchant_abn', 'user_id']\n",
    "#merchant_and_consumer_postcode['consumer postcode'] = c\n",
    "merchant_abn_and_consumer_id\n",
    "user_id_and_postcode = consumer[['postcode','user_id']]\n",
    "\n",
    "user_id_and_postcode=spark.createDataFrame(user_id_and_postcode) \n",
    "#merchant_and_consumer_postcode = spark.merge(merchant_abn_and_consumer_id, user_id_and_postcode)\n",
    "merchant_and_consumer_postcode = merchant_abn_and_consumer_id.join(user_id_and_postcode,['user_id'])\n",
    "merchant_and_consumer_postcode = merchant_and_consumer_postcode['merchant_abn', 'postcode']\n",
    "#merchant_and_consumer_postcode\n",
    "\n",
    "#https://stackoverflow.com/questions/36654162/mode-of-grouped-data-in-pyspark\n",
    "counts = merchant_and_consumer_postcode.groupBy(['merchant_abn', 'postcode']).count().alias('counts')\n",
    "merchant_postcode = (counts\n",
    "          .groupBy('merchant_abn')\n",
    "          .agg(F.max(F.struct(F.col('count'),\n",
    "                              F.col('postcode'))).alias('max'))\n",
    "          .select(F.col('merchant_abn'), F.col('max.postcode'))\n",
    "         )\n",
    "merchant_postcode\n"
   ]
  },
  {
   "cell_type": "markdown",
   "metadata": {},
   "source": [
    "## Percentage of regular customer"
   ]
  },
  {
   "cell_type": "code",
   "execution_count": 20,
   "metadata": {},
   "outputs": [
    {
     "name": "stdout",
     "output_type": "stream",
     "text": [
      "22/09/14 10:34:54 WARN RowBasedKeyValueBatch: Calling spill() on RowBasedKeyValueBatch. Will not spill but return 0.\n",
      "22/09/14 10:34:54 WARN RowBasedKeyValueBatch: Calling spill() on RowBasedKeyValueBatch. Will not spill but return 0.\n",
      "22/09/14 10:34:54 WARN RowBasedKeyValueBatch: Calling spill() on RowBasedKeyValueBatch. Will not spill but return 0.\n",
      "22/09/14 10:34:54 WARN RowBasedKeyValueBatch: Calling spill() on RowBasedKeyValueBatch. Will not spill but return 0.\n",
      "22/09/14 10:34:54 WARN RowBasedKeyValueBatch: Calling spill() on RowBasedKeyValueBatch. Will not spill but return 0.\n",
      "22/09/14 10:34:54 WARN RowBasedKeyValueBatch: Calling spill() on RowBasedKeyValueBatch. Will not spill but return 0.\n",
      "22/09/14 10:34:54 WARN RowBasedKeyValueBatch: Calling spill() on RowBasedKeyValueBatch. Will not spill but return 0.\n",
      "22/09/14 10:34:54 WARN RowBasedKeyValueBatch: Calling spill() on RowBasedKeyValueBatch. Will not spill but return 0.\n"
     ]
    },
    {
     "name": "stderr",
     "output_type": "stream",
     "text": [
      "[Stage 199:>                (0 + 8) / 8][Stage 200:>                (0 + 0) / 8]\r"
     ]
    },
    {
     "name": "stdout",
     "output_type": "stream",
     "text": [
      "22/09/14 10:34:55 WARN RowBasedKeyValueBatch: Calling spill() on RowBasedKeyValueBatch. Will not spill but return 0.\n",
      "22/09/14 10:34:55 WARN RowBasedKeyValueBatch: Calling spill() on RowBasedKeyValueBatch. Will not spill but return 0.\n",
      "22/09/14 10:34:55 WARN RowBasedKeyValueBatch: Calling spill() on RowBasedKeyValueBatch. Will not spill but return 0.\n",
      "22/09/14 10:34:55 WARN RowBasedKeyValueBatch: Calling spill() on RowBasedKeyValueBatch. Will not spill but return 0.\n",
      "22/09/14 10:34:55 WARN RowBasedKeyValueBatch: Calling spill() on RowBasedKeyValueBatch. Will not spill but return 0.\n",
      "22/09/14 10:34:55 WARN RowBasedKeyValueBatch: Calling spill() on RowBasedKeyValueBatch. Will not spill but return 0.\n",
      "22/09/14 10:34:55 WARN RowBasedKeyValueBatch: Calling spill() on RowBasedKeyValueBatch. Will not spill but return 0.\n",
      "22/09/14 10:34:55 WARN RowBasedKeyValueBatch: Calling spill() on RowBasedKeyValueBatch. Will not spill but return 0.\n",
      "22/09/14 10:34:55 WARN RowBasedKeyValueBatch: Calling spill() on RowBasedKeyValueBatch. Will not spill but return 0.\n",
      "22/09/14 10:34:55 WARN RowBasedKeyValueBatch: Calling spill() on RowBasedKeyValueBatch. Will not spill but return 0.\n",
      "22/09/14 10:34:55 WARN RowBasedKeyValueBatch: Calling spill() on RowBasedKeyValueBatch. Will not spill but return 0.\n"
     ]
    },
    {
     "name": "stderr",
     "output_type": "stream",
     "text": [
      "                                                                                \r"
     ]
    },
    {
     "name": "stdout",
     "output_type": "stream",
     "text": [
      "22/09/14 10:35:03 WARN RowBasedKeyValueBatch: Calling spill() on RowBasedKeyValueBatch. Will not spill but return 0.\n",
      "22/09/14 10:35:03 WARN RowBasedKeyValueBatch: Calling spill() on RowBasedKeyValueBatch. Will not spill but return 0.\n",
      "22/09/14 10:35:03 WARN RowBasedKeyValueBatch: Calling spill() on RowBasedKeyValueBatch. Will not spill but return 0.\n",
      "22/09/14 10:35:03 WARN RowBasedKeyValueBatch: Calling spill() on RowBasedKeyValueBatch. Will not spill but return 0.\n",
      "22/09/14 10:35:03 WARN RowBasedKeyValueBatch: Calling spill() on RowBasedKeyValueBatch. Will not spill but return 0.\n",
      "22/09/14 10:35:03 WARN RowBasedKeyValueBatch: Calling spill() on RowBasedKeyValueBatch. Will not spill but return 0.\n",
      "22/09/14 10:35:03 WARN RowBasedKeyValueBatch: Calling spill() on RowBasedKeyValueBatch. Will not spill but return 0.\n",
      "22/09/14 10:35:03 WARN RowBasedKeyValueBatch: Calling spill() on RowBasedKeyValueBatch. Will not spill but return 0.\n"
     ]
    },
    {
     "name": "stderr",
     "output_type": "stream",
     "text": [
      "[Stage 223:>                (0 + 8) / 8][Stage 224:>                (0 + 0) / 8]\r"
     ]
    },
    {
     "name": "stdout",
     "output_type": "stream",
     "text": [
      "22/09/14 10:35:04 WARN RowBasedKeyValueBatch: Calling spill() on RowBasedKeyValueBatch. Will not spill but return 0.\n",
      "22/09/14 10:35:04 WARN RowBasedKeyValueBatch: Calling spill() on RowBasedKeyValueBatch. Will not spill but return 0.\n",
      "22/09/14 10:35:04 WARN RowBasedKeyValueBatch: Calling spill() on RowBasedKeyValueBatch. Will not spill but return 0.\n",
      "22/09/14 10:35:04 WARN RowBasedKeyValueBatch: Calling spill() on RowBasedKeyValueBatch. Will not spill but return 0.\n",
      "22/09/14 10:35:04 WARN RowBasedKeyValueBatch: Calling spill() on RowBasedKeyValueBatch. Will not spill but return 0.\n",
      "22/09/14 10:35:04 WARN RowBasedKeyValueBatch: Calling spill() on RowBasedKeyValueBatch. Will not spill but return 0.\n",
      "22/09/14 10:35:04 WARN RowBasedKeyValueBatch: Calling spill() on RowBasedKeyValueBatch. Will not spill but return 0.\n",
      "22/09/14 10:35:04 WARN RowBasedKeyValueBatch: Calling spill() on RowBasedKeyValueBatch. Will not spill but return 0.\n",
      "22/09/14 10:35:04 WARN RowBasedKeyValueBatch: Calling spill() on RowBasedKeyValueBatch. Will not spill but return 0.\n",
      "22/09/14 10:35:04 WARN RowBasedKeyValueBatch: Calling spill() on RowBasedKeyValueBatch. Will not spill but return 0.\n",
      "22/09/14 10:35:04 WARN RowBasedKeyValueBatch: Calling spill() on RowBasedKeyValueBatch. Will not spill but return 0.\n"
     ]
    },
    {
     "name": "stderr",
     "output_type": "stream",
     "text": [
      "[Stage 231:============>                                            (2 + 7) / 9]\r"
     ]
    },
    {
     "name": "stdout",
     "output_type": "stream",
     "text": [
      "22/09/14 10:35:09 WARN RowBasedKeyValueBatch: Calling spill() on RowBasedKeyValueBatch. Will not spill but return 0.\n"
     ]
    },
    {
     "name": "stderr",
     "output_type": "stream",
     "text": [
      "                                                                                \r"
     ]
    },
    {
     "data": {
      "text/html": [
       "<table border='1'>\n",
       "<tr><th>merchant_abn</th><th>fix_cus_num</th><th>total_cus_num</th><th>fix_cus_prob</th></tr>\n",
       "<tr><td>49891706470</td><td>10913</td><td>247526.0</td><td>0.044088297794979116</td></tr>\n",
       "<tr><td>89726005175</td><td>6971</td><td>215963.0</td><td>0.032278677366030295</td></tr>\n",
       "<tr><td>32234779638</td><td>246</td><td>116773.0</td><td>0.00210665136632612</td></tr>\n",
       "<tr><td>43186523025</td><td>5280</td><td>200913.0</td><td>0.026280031655492676</td></tr>\n",
       "<tr><td>49505931725</td><td>2</td><td>68240.0</td><td>2.930832356389214...</td></tr>\n",
       "<tr><td>60956456424</td><td>41</td><td>90705.0</td><td>4.520147731657571...</td></tr>\n",
       "<tr><td>45629217853</td><td>8441</td><td>228255.0</td><td>0.0369805699765613</td></tr>\n",
       "<tr><td>86578477987</td><td>13959</td><td>272674.0</td><td>0.05119299969927459</td></tr>\n",
       "<tr><td>63290521567</td><td>3411</td><td>181876.0</td><td>0.018754536057533706</td></tr>\n",
       "<tr><td>80324045558</td><td>4865</td><td>196840.0</td><td>0.024715504978662872</td></tr>\n",
       "<tr><td>64403598239</td><td>240</td><td>113541.0</td><td>0.00211377387903929</td></tr>\n",
       "<tr><td>46804135891</td><td>9252</td><td>234434.0</td><td>0.03946526527722088</td></tr>\n",
       "<tr><td>79417999332</td><td>90</td><td>99226.0</td><td>9.070203374115655E-4</td></tr>\n",
       "<tr><td>64203420245</td><td>12584</td><td>260780.0</td><td>0.04825523429710867</td></tr>\n",
       "<tr><td>72472909171</td><td>109</td><td>101791.0</td><td>0.001070821585405...</td></tr>\n",
       "<tr><td>32361057556</td><td>28</td><td>85780.0</td><td>3.264164140825367E-4</td></tr>\n",
       "<tr><td>94493496784</td><td>73</td><td>99176.0</td><td>7.360651770589658E-4</td></tr>\n",
       "<tr><td>24852446429</td><td>15840</td><td>289513.0</td><td>0.05471256903835061</td></tr>\n",
       "<tr><td>21439773999</td><td>358</td><td>120624.0</td><td>0.002967900252022815</td></tr>\n",
       "<tr><td>68216911708</td><td>3328</td><td>180825.0</td><td>0.018404534771187614</td></tr>\n",
       "</table>\n",
       "only showing top 20 rows\n"
      ],
      "text/plain": [
       "+------------+-----------+-------------+--------------------+\n",
       "|merchant_abn|fix_cus_num|total_cus_num|        fix_cus_prob|\n",
       "+------------+-----------+-------------+--------------------+\n",
       "| 49891706470|      10913|     247526.0|0.044088297794979116|\n",
       "| 89726005175|       6971|     215963.0|0.032278677366030295|\n",
       "| 32234779638|        246|     116773.0| 0.00210665136632612|\n",
       "| 43186523025|       5280|     200913.0|0.026280031655492676|\n",
       "| 49505931725|          2|      68240.0|2.930832356389214...|\n",
       "| 60956456424|         41|      90705.0|4.520147731657571...|\n",
       "| 45629217853|       8441|     228255.0|  0.0369805699765613|\n",
       "| 86578477987|      13959|     272674.0| 0.05119299969927459|\n",
       "| 63290521567|       3411|     181876.0|0.018754536057533706|\n",
       "| 80324045558|       4865|     196840.0|0.024715504978662872|\n",
       "| 64403598239|        240|     113541.0| 0.00211377387903929|\n",
       "| 46804135891|       9252|     234434.0| 0.03946526527722088|\n",
       "| 79417999332|         90|      99226.0|9.070203374115655E-4|\n",
       "| 64203420245|      12584|     260780.0| 0.04825523429710867|\n",
       "| 72472909171|        109|     101791.0|0.001070821585405...|\n",
       "| 32361057556|         28|      85780.0|3.264164140825367E-4|\n",
       "| 94493496784|         73|      99176.0|7.360651770589658E-4|\n",
       "| 24852446429|      15840|     289513.0| 0.05471256903835061|\n",
       "| 21439773999|        358|     120624.0|0.002967900252022815|\n",
       "| 68216911708|       3328|     180825.0|0.018404534771187614|\n",
       "+------------+-----------+-------------+--------------------+\n",
       "only showing top 20 rows"
      ]
     },
     "execution_count": 20,
     "metadata": {},
     "output_type": "execute_result"
    }
   ],
   "source": [
    "ori_transaction_1 = ori_transaction.groupby('merchant_abn', 'user_id').count()\n",
    "o_t = ori_transaction.groupby('merchant_abn').agg(F.count('user_id').alias('cnt'))\n",
    "ori_con = ori_transaction_1.join(o_t, ori_transaction_1.merchant_abn == o_t.merchant_abn).drop(o_t.merchant_abn)\n",
    "ori_con_drop = ori_con.filter(F.col(\"count\") > 10)\n",
    "ori_con_fix = ori_con_drop.groupby('merchant_abn').agg(F.count('user_id').alias('fix_cus_num'), F.avg('cnt').alias('total_cus_num'))\n",
    "ori_con_fix_prob = ori_con_fix.withColumn(\"fix_cus_prob\", ori_con_fix.fix_cus_num /ori_con_fix.total_cus_num)\n",
    "ori_con_fix_prob"
   ]
  },
  {
   "cell_type": "code",
   "execution_count": null,
   "metadata": {},
   "outputs": [],
   "source": []
  }
 ],
 "metadata": {
  "kernelspec": {
   "display_name": "Python 3.10.6 64-bit",
   "language": "python",
   "name": "python3"
  },
  "language_info": {
   "codemirror_mode": {
    "name": "ipython",
    "version": 3
   },
   "file_extension": ".py",
   "mimetype": "text/x-python",
   "name": "python",
   "nbconvert_exporter": "python",
   "pygments_lexer": "ipython3",
   "version": "3.10.6"
  },
  "vscode": {
   "interpreter": {
    "hash": "b0fa6594d8f4cbf19f97940f81e996739fb7646882a419484c72d19e05852a7e"
   }
  }
 },
 "nbformat": 4,
 "nbformat_minor": 4
}
