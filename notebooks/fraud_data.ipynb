{
 "cells": [
  {
   "cell_type": "code",
   "execution_count": 1,
   "metadata": {},
   "outputs": [
    {
     "name": "stdout",
     "output_type": "stream",
     "text": [
      "22/09/12 12:40:12 WARN Utils: Your hostname, hexiangyideMacBook-Pro.local resolves to a loopback address: 127.0.0.1; using 10.13.178.184 instead (on interface en0)\n",
      "22/09/12 12:40:12 WARN Utils: Set SPARK_LOCAL_IP if you need to bind to another address\n"
     ]
    },
    {
     "name": "stderr",
     "output_type": "stream",
     "text": [
      "Setting default log level to \"WARN\".\n",
      "To adjust logging level use sc.setLogLevel(newLevel). For SparkR, use setLogLevel(newLevel).\n"
     ]
    },
    {
     "name": "stdout",
     "output_type": "stream",
     "text": [
      "22/09/12 12:40:13 WARN NativeCodeLoader: Unable to load native-hadoop library for your platform... using builtin-java classes where applicable\n"
     ]
    }
   ],
   "source": [
    "from pyspark.sql import SparkSession\n",
    "from pyspark.sql import functions as F\n",
    "# Create a spark session (which will run spark jobs)\n",
    "spark = (\n",
    "    SparkSession.builder.appName(\"MAST30034 Tutorial 1\")\n",
    "    .config(\"spark.sql.repl.eagerEval.enabled\", True) \n",
    "    .config(\"spark.sql.parquet.cacheMetadata\", \"true\")\n",
    "    .config(\"spark.sql.session.timeZone\", \"Etc/UTC\")\n",
    "    .getOrCreate()\n",
    ")"
   ]
  },
  {
   "cell_type": "code",
   "execution_count": 2,
   "metadata": {},
   "outputs": [],
   "source": [
    "cunsumer_fraud = spark.read.option(\"header\",True).csv('../data/tables/consumer_fraud_probability.csv')\n",
    "merchant_fraud = spark.read.option(\"header\",True).csv('../data/tables/merchant_fraud_probability.csv')\n",
    "consumer_transaction = spark.read.option(\"header\",True).parquet('../data/curated/consumer_transaction.parquet')\n",
    "merchant = spark.read.option(\"header\",True).parquet('../data/curated/merchant.parquet')"
   ]
  },
  {
   "cell_type": "code",
   "execution_count": 3,
   "metadata": {},
   "outputs": [
    {
     "data": {
      "text/html": [
       "<table border='1'>\n",
       "<tr><th>user_id</th><th>order_datetime</th><th>fraud_probability</th></tr>\n",
       "<tr><td>6228</td><td>2021-12-19</td><td>97.6298077657765</td></tr>\n",
       "<tr><td>21419</td><td>2021-12-10</td><td>99.24738020302328</td></tr>\n",
       "<tr><td>5606</td><td>2021-10-17</td><td>84.05825045251777</td></tr>\n",
       "</table>\n"
      ],
      "text/plain": [
       "+-------+--------------+-----------------+\n",
       "|user_id|order_datetime|fraud_probability|\n",
       "+-------+--------------+-----------------+\n",
       "|   6228|    2021-12-19| 97.6298077657765|\n",
       "|  21419|    2021-12-10|99.24738020302328|\n",
       "|   5606|    2021-10-17|84.05825045251777|\n",
       "+-------+--------------+-----------------+"
      ]
     },
     "execution_count": 3,
     "metadata": {},
     "output_type": "execute_result"
    }
   ],
   "source": [
    "cunsumer_fraud.limit(3)"
   ]
  },
  {
   "cell_type": "code",
   "execution_count": 4,
   "metadata": {},
   "outputs": [],
   "source": [
    "from pyspark.sql.functions import *\n",
    "merchant_fraud = merchant_fraud.select(col(\"merchant_abn\"),col(\"fraud_probability\"),to_date(col(\"order_datetime\"),\"yyyy-MM-dd\").alias(\"date\"))\n",
    "cunsumer_fraud = cunsumer_fraud.select(col(\"user_id\"),col(\"fraud_probability\"),to_date(col(\"order_datetime\"),\"yyyy-MM-dd\").alias(\"date\"))"
   ]
  },
  {
   "cell_type": "code",
   "execution_count": 5,
   "metadata": {},
   "outputs": [
    {
     "data": {
      "text/html": [
       "<table border='1'>\n",
       "<tr><th>user_id</th><th>fraud_probability</th><th>date</th></tr>\n",
       "<tr><td>6228</td><td>97.6298077657765</td><td>2021-12-19</td></tr>\n",
       "<tr><td>21419</td><td>99.24738020302328</td><td>2021-12-10</td></tr>\n",
       "<tr><td>5606</td><td>84.05825045251777</td><td>2021-10-17</td></tr>\n",
       "</table>\n"
      ],
      "text/plain": [
       "+-------+-----------------+----------+\n",
       "|user_id|fraud_probability|      date|\n",
       "+-------+-----------------+----------+\n",
       "|   6228| 97.6298077657765|2021-12-19|\n",
       "|  21419|99.24738020302328|2021-12-10|\n",
       "|   5606|84.05825045251777|2021-10-17|\n",
       "+-------+-----------------+----------+"
      ]
     },
     "execution_count": 5,
     "metadata": {},
     "output_type": "execute_result"
    }
   ],
   "source": [
    "cunsumer_fraud.limit(3)"
   ]
  },
  {
   "cell_type": "code",
   "execution_count": 6,
   "metadata": {},
   "outputs": [
    {
     "name": "stdout",
     "output_type": "stream",
     "text": [
      "114\n",
      "114\n",
      "34864\n",
      "34864\n"
     ]
    }
   ],
   "source": [
    "#筛选2021/02/28 - 2022/08/28的数据\n",
    "print(merchant_fraud.count())\n",
    "merchant_fraud.filter(\"date > '2021-02-28'\")\n",
    "merchant_fraud.filter(\"date < '2022-08-28'\")\n",
    "print(merchant_fraud.count())\n",
    "\n",
    "print(cunsumer_fraud.count())\n",
    "cunsumer_fraud.filter(\"date > '2021-02-28'\")\n",
    "cunsumer_fraud.filter(\"date < '2022-08-28'\")\n",
    "print(cunsumer_fraud.count())"
   ]
  },
  {
   "cell_type": "code",
   "execution_count": 7,
   "metadata": {},
   "outputs": [
    {
     "data": {
      "text/html": [
       "<table border='1'>\n",
       "<tr><th>user_id</th><th>average_prob_con</th><th>fraud_count_con</th></tr>\n",
       "<tr><td>7252</td><td>37.3984071738018</td><td>2</td></tr>\n",
       "<tr><td>1512</td><td>21.912915980669464</td><td>3</td></tr>\n",
       "</table>\n"
      ],
      "text/plain": [
       "+-------+------------------+---------------+\n",
       "|user_id|  average_prob_con|fraud_count_con|\n",
       "+-------+------------------+---------------+\n",
       "|   7252|  37.3984071738018|              2|\n",
       "|   1512|21.912915980669464|              3|\n",
       "+-------+------------------+---------------+"
      ]
     },
     "execution_count": 7,
     "metadata": {},
     "output_type": "execute_result"
    }
   ],
   "source": [
    "consumer_fraud_group = cunsumer_fraud.groupBy('user_id').agg(F.avg('fraud_probability').alias('average_prob_con'), F.count('fraud_probability').alias('fraud_count_con'))\n",
    "consumer_fraud_group.limit(2)"
   ]
  },
  {
   "cell_type": "code",
   "execution_count": 8,
   "metadata": {},
   "outputs": [
    {
     "data": {
      "text/html": [
       "<table border='1'>\n",
       "<tr><th>name</th><th>address</th><th>state</th><th>postcode</th><th>gender</th><th>consumer_id</th><th>user_id</th><th>avg</th><th>sum</th><th>count</th><th>__index_level_0__</th><th>average_prob_con</th><th>fraud_count_con</th></tr>\n",
       "<tr><td>Yolanda Williams</td><td>413 Haney Gardens...</td><td>WA</td><td>6935</td><td>Female</td><td>1195503</td><td>1</td><td>155.62835909878035</td><td>55092.43912096824</td><td>354</td><td>0</td><td>9.805431136520959</td><td>1</td></tr>\n",
       "<tr><td>Mary Smith</td><td>3764 Amber Oval</td><td>NSW</td><td>2782</td><td>Female</td><td>179208</td><td>2</td><td>149.62808995795854</td><td>48629.12923633652</td><td>325</td><td>1</td><td>9.834682425100517</td><td>2</td></tr>\n",
       "</table>\n"
      ],
      "text/plain": [
       "+----------------+--------------------+-----+--------+------+-----------+-------+------------------+-----------------+-----+-----------------+-----------------+---------------+\n",
       "|            name|             address|state|postcode|gender|consumer_id|user_id|               avg|              sum|count|__index_level_0__| average_prob_con|fraud_count_con|\n",
       "+----------------+--------------------+-----+--------+------+-----------+-------+------------------+-----------------+-----+-----------------+-----------------+---------------+\n",
       "|Yolanda Williams|413 Haney Gardens...|   WA|    6935|Female|    1195503|      1|155.62835909878035|55092.43912096824|  354|                0|9.805431136520959|              1|\n",
       "|      Mary Smith|     3764 Amber Oval|  NSW|    2782|Female|     179208|      2|149.62808995795854|48629.12923633652|  325|                1|9.834682425100517|              2|\n",
       "+----------------+--------------------+-----+--------+------+-----------+-------+------------------+-----------------+-----+-----------------+-----------------+---------------+"
      ]
     },
     "execution_count": 8,
     "metadata": {},
     "output_type": "execute_result"
    }
   ],
   "source": [
    "consumer_transaction = consumer_transaction.join(consumer_fraud_group, consumer_transaction.user_id == consumer_fraud_group.user_id).drop(consumer_fraud_group.user_id)\n",
    "consumer_transaction = consumer_transaction.withColumn(\n",
    "    \"whether_fraud\",\n",
    "    F.when(F.col('average_prob_con')>=70, 1).otherwise(0))\n",
    "consumer_transaction.limit(2)"
   ]
  },
  {
   "cell_type": "code",
   "execution_count": 9,
   "metadata": {},
   "outputs": [
    {
     "data": {
      "text/html": [
       "<table border='1'>\n",
       "<tr><th>merchant_abn</th><th>average_prob_abn</th><th>fraud_count_abn</th></tr>\n",
       "<tr><td>67264251405</td><td>18.21089142894488</td><td>1</td></tr>\n",
       "<tr><td>43083074133</td><td>48.66890735193894</td><td>1</td></tr>\n",
       "</table>\n"
      ],
      "text/plain": [
       "+------------+-----------------+---------------+\n",
       "|merchant_abn| average_prob_abn|fraud_count_abn|\n",
       "+------------+-----------------+---------------+\n",
       "| 67264251405|18.21089142894488|              1|\n",
       "| 43083074133|48.66890735193894|              1|\n",
       "+------------+-----------------+---------------+"
      ]
     },
     "execution_count": 9,
     "metadata": {},
     "output_type": "execute_result"
    }
   ],
   "source": [
    "merchant_fraud_group = merchant_fraud.groupBy('merchant_abn').agg(F.avg('fraud_probability').alias('average_prob_abn'), F.count('fraud_probability').alias('fraud_count_abn'))\n",
    "merchant_fraud_group.limit(2)"
   ]
  },
  {
   "cell_type": "code",
   "execution_count": 10,
   "metadata": {},
   "outputs": [
    {
     "data": {
      "text/html": [
       "<table border='1'>\n",
       "<tr><th>merchant_abn</th><th>Amount</th><th>Count</th><th>Monthly Amount</th><th>Monthly Count</th><th>name</th><th>tags</th><th>Store type</th><th>Revenue levels</th><th>Take rate</th><th>__index_level_0__</th><th>average_prob_abn</th><th>fraud_count_abn</th></tr>\n",
       "<tr><td>11149063370</td><td>839262.3593570334</td><td>46</td><td>69938.53</td><td>3.83</td><td>Et Arcu Limited</td><td>((art dealers and...</td><td>art dealers and g...</td><td>b</td><td> 4.84</td><td>51</td><td>53.28693336242285</td><td>3</td></tr>\n",
       "<tr><td>11470993597</td><td>16389.683012932896</td><td>262</td><td>1365.81</td><td>21.83</td><td>Sed Associates</td><td>((watch, clock, a...</td><td>watch, clock, and...</td><td>d</td><td> 1.35</td><td>67</td><td>63.37734364737917</td><td>1</td></tr>\n",
       "</table>\n"
      ],
      "text/plain": [
       "+------------+------------------+-----+--------------+-------------+---------------+--------------------+--------------------+--------------+---------+-----------------+-----------------+---------------+\n",
       "|merchant_abn|            Amount|Count|Monthly Amount|Monthly Count|           name|                tags|          Store type|Revenue levels|Take rate|__index_level_0__| average_prob_abn|fraud_count_abn|\n",
       "+------------+------------------+-----+--------------+-------------+---------------+--------------------+--------------------+--------------+---------+-----------------+-----------------+---------------+\n",
       "| 11149063370| 839262.3593570334|   46|      69938.53|         3.83|Et Arcu Limited|((art dealers and...|art dealers and g...|             b|     4.84|               51|53.28693336242285|              3|\n",
       "| 11470993597|16389.683012932896|  262|       1365.81|        21.83| Sed Associates|((watch, clock, a...|watch, clock, and...|             d|     1.35|               67|63.37734364737917|              1|\n",
       "+------------+------------------+-----+--------------+-------------+---------------+--------------------+--------------------+--------------+---------+-----------------+-----------------+---------------+"
      ]
     },
     "execution_count": 10,
     "metadata": {},
     "output_type": "execute_result"
    }
   ],
   "source": [
    "merchant = merchant.join(merchant_fraud_group, merchant.merchant_abn == merchant_fraud_group.merchant_abn).drop(merchant_fraud_group.merchant_abn)\n",
    "merchant.limit(2)"
   ]
  }
 ],
 "metadata": {
  "kernelspec": {
   "display_name": "Python 3.8.13 ('ads')",
   "language": "python",
   "name": "python3"
  },
  "language_info": {
   "codemirror_mode": {
    "name": "ipython",
    "version": 3
   },
   "file_extension": ".py",
   "mimetype": "text/x-python",
   "name": "python",
   "nbconvert_exporter": "python",
   "pygments_lexer": "ipython3",
   "version": "3.8.13"
  },
  "orig_nbformat": 4,
  "vscode": {
   "interpreter": {
    "hash": "6e45bdfcba1031802b2f7a315f02d536e51553942a60e4ee4be74aec82814bfa"
   }
  }
 },
 "nbformat": 4,
 "nbformat_minor": 2
}
