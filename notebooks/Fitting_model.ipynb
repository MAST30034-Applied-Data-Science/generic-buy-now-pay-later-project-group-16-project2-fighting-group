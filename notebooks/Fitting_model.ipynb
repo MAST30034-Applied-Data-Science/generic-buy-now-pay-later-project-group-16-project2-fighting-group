{
 "cells": [
  {
   "cell_type": "code",
   "execution_count": 1,
   "metadata": {},
   "outputs": [
    {
     "name": "stdout",
     "output_type": "stream",
     "text": [
      "22/09/27 16:53:54 WARN Utils: Your hostname, hexiangyideMacBook-Pro.local resolves to a loopback address: 127.0.0.1; using 10.13.178.12 instead (on interface en0)\n",
      "22/09/27 16:53:54 WARN Utils: Set SPARK_LOCAL_IP if you need to bind to another address\n"
     ]
    },
    {
     "name": "stderr",
     "output_type": "stream",
     "text": [
      "Setting default log level to \"WARN\".\n",
      "To adjust logging level use sc.setLogLevel(newLevel). For SparkR, use setLogLevel(newLevel).\n"
     ]
    },
    {
     "name": "stdout",
     "output_type": "stream",
     "text": [
      "22/09/27 16:53:55 WARN NativeCodeLoader: Unable to load native-hadoop library for your platform... using builtin-java classes where applicable\n",
      "22/09/27 16:53:56 WARN Utils: Service 'SparkUI' could not bind on port 4040. Attempting port 4041.\n",
      "22/09/27 16:53:56 WARN Utils: Service 'SparkUI' could not bind on port 4041. Attempting port 4042.\n"
     ]
    }
   ],
   "source": [
    "from pyspark.sql import SparkSession\n",
    "from pyspark.sql import functions as F\n",
    "import numpy as np\n",
    "from pyspark.sql.functions import round\n",
    "from pyspark.sql import Window\n",
    "from pyspark.sql.functions import col, when, log\n",
    "from pyspark.sql.functions import regexp_replace\n",
    "\n",
    "# Create a spark session (which will run spark jobs)\n",
    "spark = (\n",
    "    SparkSession.builder.appName(\"MAST30034 Tutorial 1\")\n",
    "    .config(\"spark.sql.repl.eagerEval.enabled\", True) \n",
    "    .config(\"spark.sql.parquet.cacheMetadata\", \"true\")\n",
    "    .config(\"spark.sql.session.timeZone\", \"Etc/UTC\")\n",
    "    .getOrCreate()\n",
    ")"
   ]
  },
  {
   "cell_type": "code",
   "execution_count": 2,
   "metadata": {},
   "outputs": [
    {
     "name": "stderr",
     "output_type": "stream",
     "text": [
      "                                                                                \r"
     ]
    }
   ],
   "source": [
    "final = spark.read.parquet('../data/curated/merchant_info.parquet')\n",
    "final_1 = final"
   ]
  },
  {
   "cell_type": "code",
   "execution_count": 3,
   "metadata": {},
   "outputs": [],
   "source": [
    "col_list_1 = final.columns\n",
    "\n",
    "del_col_list = ['Store_type', 'Revenue_levels', 'merchant_abn','postcode']\n",
    "\n",
    "for i in del_col_list:\n",
    "    col_list_1.remove(i)"
   ]
  },
  {
   "cell_type": "code",
   "execution_count": 4,
   "metadata": {},
   "outputs": [
    {
     "name": "stderr",
     "output_type": "stream",
     "text": [
      "                                                                                \r"
     ]
    },
    {
     "data": {
      "text/plain": [
       "[0.1, 0.0, 165.96, 0.06, 5.19, 3.7259495856741, 0.0, 0.06, 0.0, 0.0, 0.0]"
      ]
     },
     "execution_count": 4,
     "metadata": {},
     "output_type": "execute_result"
    }
   ],
   "source": [
    "max_num_list = []\n",
    "min_num_list = []\n",
    "\n",
    "for i in col_list_1:\n",
    "    max_num = float(final.agg({i: \"max\"}).collect()[0][0])\n",
    "    min_num = float(final.agg({i: \"min\"}).collect()[0][0])\n",
    "    max_num_list.append(max_num)\n",
    "    min_num_list.append(min_num)\n",
    "\n",
    "min_num_list"
   ]
  },
  {
   "cell_type": "code",
   "execution_count": 5,
   "metadata": {},
   "outputs": [],
   "source": [
    "for i in range(0,len(min_num_list)):\n",
    "    final_1 = final_1.withColumn(col_list_1[i], (col(col_list_1[i]) - min_num_list[i])*1000/(max_num_list[i]-min_num_list[i]))\n",
    "\n",
    "final_1 = final_1.withColumn('avg_prob_fraud_cus', (final_1.avg_prob_fraud_cus *(-1)))\\\n",
    "    .withColumn('num_of_fraud', (final_1.num_of_fraud*(-1)))\n",
    "    \n",
    "final_1 = final_1.select('merchant_abn','Store_type', 'Revenue_levels', 'Take_rate', 'count_of_bigorder', 'Avg_amount_monthly', 'Avg_count_monthly', 'Order_avg_value',\t'avg_prob_fraud_cus', 'num_of_fraud', 'count_cus_per_mon', 'fix_cus_num', 'avg_income_percentage', 'avg_age_percentage')"
   ]
  },
  {
   "cell_type": "code",
   "execution_count": 6,
   "metadata": {},
   "outputs": [],
   "source": [
    "from operator import add\n",
    "from functools import reduce\n",
    "final_df1 = final_1.withColumn('score',reduce(add, [F.col(x) for x in final_1.columns[3:14]]))"
   ]
  },
  {
   "cell_type": "code",
   "execution_count": 7,
   "metadata": {},
   "outputs": [],
   "source": [
    "final_df1 = final_df1.sort(final_df1.score.desc())"
   ]
  },
  {
   "cell_type": "code",
   "execution_count": null,
   "metadata": {},
   "outputs": [],
   "source": []
  },
  {
   "cell_type": "code",
   "execution_count": 8,
   "metadata": {},
   "outputs": [],
   "source": [
    "col_list_2 = final_df1.columns\n",
    "\n",
    "del_col_list = ['Store_type', 'Revenue_levels', 'merchant_abn','score']\n",
    "\n",
    "for i in del_col_list:\n",
    "    col_list_2.remove(i)"
   ]
  },
  {
   "cell_type": "code",
   "execution_count": 9,
   "metadata": {},
   "outputs": [],
   "source": [
    "final_df2 = final_df1.withColumn('avg_prob_fraud_cus', (final_df1.avg_prob_fraud_cus *(-1)))\\\n",
    "    .withColumn('num_of_fraud', (final_df1.num_of_fraud*(-1)))"
   ]
  },
  {
   "cell_type": "code",
   "execution_count": 10,
   "metadata": {},
   "outputs": [],
   "source": [
    "sum_num_list = []\n",
    "\n",
    "for i in col_list_2:\n",
    "    sum_num = float(final_df2.agg({i: \"sum\"}).collect()[0][0])\n",
    "    sum_num_list.append(sum_num)"
   ]
  },
  {
   "cell_type": "code",
   "execution_count": 11,
   "metadata": {},
   "outputs": [],
   "source": [
    "for i in range(0,len(sum_num_list)):\n",
    "    final_df2 = final_df2.withColumn(col_list_2[i], (col(col_list_2[i])/sum_num_list[i]))"
   ]
  },
  {
   "cell_type": "code",
   "execution_count": 12,
   "metadata": {},
   "outputs": [],
   "source": [
    "col_list_2 = final_df2.columns\n",
    "\n",
    "del_col_list = ['Store_type', 'Revenue_levels', 'merchant_abn', 'score']\n",
    "\n",
    "for i in del_col_list:\n",
    "    col_list_2.remove(i)\n",
    "\n",
    "k = 1/np.log(final_df2.count())\n",
    "\n",
    "for i in col_list_2:\n",
    "    final_df2 = final_df2.withColumn(i, when((col(i) != 0), (col(i) * log(col(i)) *(-k))).otherwise(0))\n"
   ]
  },
  {
   "cell_type": "code",
   "execution_count": 13,
   "metadata": {},
   "outputs": [],
   "source": [
    "weight_num = []\n",
    "\n",
    "for i in col_list_2:\n",
    "    a = 1 - float(final_df2.agg({i: \"sum\"}).collect()[0][0])\n",
    "    weight_num.append(a)\n",
    "\n",
    "entropy = []\n",
    "total = sum(weight_num)\n",
    "for i in weight_num:\n",
    "    a = i/total\n",
    "    entropy.append(a)"
   ]
  },
  {
   "cell_type": "code",
   "execution_count": 14,
   "metadata": {},
   "outputs": [],
   "source": [
    "final_df2 = final_1.withColumn('score', final_1.Take_rate * 0.006151820886695801 + final_1.count_of_bigorder * 0.26032576022118487 +\\\n",
    "                            final_1.Avg_amount_monthly * 0.07286776498637058+ final_1.Avg_count_monthly * 0.11264572734132011 +\\\n",
    "                            final_1.Order_avg_value * 0.08240722365270821 + final_1.avg_prob_fraud_cus * 0.0014478393241986918+ final_1.num_of_fraud * 0.07544702789455915+\\\n",
    "                            final_1.count_cus_per_mon * 0.07105607854405234 + final_1.fix_cus_num  * 0.3127293357155681+\\\n",
    "                            final_1.avg_income_percentage * 0.003982393709074386 + final_1.avg_age_percentage * 0.0009390277242678707)"
   ]
  },
  {
   "cell_type": "code",
   "execution_count": 22,
   "metadata": {},
   "outputs": [],
   "source": [
    "final_df2 = final_df2.sort(final_df2.score.desc())"
   ]
  },
  {
   "cell_type": "code",
   "execution_count": null,
   "metadata": {},
   "outputs": [],
   "source": []
  },
  {
   "cell_type": "code",
   "execution_count": 15,
   "metadata": {},
   "outputs": [],
   "source": [
    "#从这开始接着改"
   ]
  },
  {
   "cell_type": "code",
   "execution_count": 16,
   "metadata": {},
   "outputs": [],
   "source": [
    "col_list_3 = final.columns\n",
    "\n",
    "del_col_list = ['Store_type', 'Revenue_levels', 'merchant_abn','postcode']\n",
    "\n",
    "for i in del_col_list:\n",
    "    col_list_3.remove(i)\n",
    "\n",
    "mean_num_list = []\n",
    "sd_num_list = []\n",
    "\n",
    "for i in col_list_3:\n",
    "    mean_num = float(final.agg({i: \"mean\"}).collect()[0][0])\n",
    "    sd_num = float(final.agg({i: \"stddev_pop\"}).collect()[0][0])\n",
    "    mean_num_list.append(mean_num)\n",
    "    sd_num_list.append(sd_num)\n"
   ]
  },
  {
   "cell_type": "code",
   "execution_count": 17,
   "metadata": {},
   "outputs": [],
   "source": [
    "final_3 = final\n",
    "\n",
    "for i in range(0,len(mean_num_list)):\n",
    "    final_3 = final_3.withColumn(col_list_3[i], (col(col_list_3[i]) - mean_num_list[i])/(sd_num_list[i]))\n",
    "\n",
    "\n",
    "final_3 = final_3.withColumn('avg_prob_fraud_cus', (final_3.avg_prob_fraud_cus *(-1)))\\\n",
    "    .withColumn('num_of_fraud', (final_3.num_of_fraud*(-1)))\n",
    "    \n",
    "final_3 = final_3.select('merchant_abn','Store_type', 'Revenue_levels', 'Take_rate', 'count_of_bigorder', 'Avg_amount_monthly', 'Avg_count_monthly', 'Order_avg_value',\t'avg_prob_fraud_cus', 'num_of_fraud', 'count_cus_per_mon', 'fix_cus_num', 'avg_income_percentage', 'avg_age_percentage')"
   ]
  },
  {
   "cell_type": "code",
   "execution_count": 18,
   "metadata": {},
   "outputs": [],
   "source": [
    "final_df3 = final_3.withColumn('score',reduce(add, [F.col(x) for x in final_1.columns[3:14]]))\n",
    "final_df3 = final_df3.sort(final_df3.score.desc())"
   ]
  },
  {
   "cell_type": "code",
   "execution_count": null,
   "metadata": {},
   "outputs": [],
   "source": []
  },
  {
   "cell_type": "code",
   "execution_count": 19,
   "metadata": {},
   "outputs": [],
   "source": [
    "final_df_weight = final_df1.withColumn('weight_score', 0.05*11*final_df1.Take_rate + 0.025*11*final_df1.count_of_bigorder +\\\n",
    "                            0.15*11*final_df1.Avg_amount_monthly + 0.15*11*final_df1.Avg_count_monthly +\\\n",
    "                            0.025*11*final_df1.Order_avg_value + 0.25*11*final_df1.avg_prob_fraud_cus + 0.25*11*final_df1.num_of_fraud +\\\n",
    "                            0.1*11*final_df1.count_cus_per_mon + 0.05*11*final_df1.fix_cus_num +\\\n",
    "                            0.02*11*final_df1.avg_income_percentage + 0.02*11*final_df1.avg_age_percentage)"
   ]
  },
  {
   "cell_type": "code",
   "execution_count": 20,
   "metadata": {},
   "outputs": [],
   "source": [
    "final_df_weight = final_df_weight.sort(final_df_weight.weight_score.desc())"
   ]
  },
  {
   "cell_type": "code",
   "execution_count": 23,
   "metadata": {},
   "outputs": [
    {
     "data": {
      "text/html": [
       "<table border='1'>\n",
       "<tr><th>merchant_abn</th><th>Store_type</th><th>Revenue_levels</th><th>Take_rate</th><th>count_of_bigorder</th><th>Avg_amount_monthly</th><th>Avg_count_monthly</th><th>Order_avg_value</th><th>avg_prob_fraud_cus</th><th>num_of_fraud</th><th>count_cus_per_mon</th><th>fix_cus_num</th><th>avg_income_percentage</th><th>avg_age_percentage</th><th>score</th></tr>\n",
       "<tr><td>64203420245</td><td>tent and awning s...</td><td>c</td><td>400.0</td><td>0.0</td><td>815.055972932642</td><td>1000.0</td><td>0.45805544283030447</td><td>-103.00261844375468</td><td>-1000.0</td><td>1000.0</td><td>1000.0</td><td>520.2931741035037</td><td>671.5831110113019</td><td>485.42741240711126</td></tr>\n",
       "<tr><td>49891706470</td><td>tent and awning s...</td><td>a</td><td>826.0869565217391</td><td>0.0</td><td>772.880493678027</td><td>948.293451281499</td><td>0.45805544283030447</td><td>-103.00308583547395</td><td>-1000.0</td><td>999.880397975736</td><td>991.051831841972</td><td>414.5546579090338</td><td>518.2701782093046</td><td>475.77895703901345</td></tr>\n",
       "<tr><td>24852446429</td><td>florists supplies...</td><td>c</td><td>411.5942028985507</td><td>0.0</td><td>648.6277491354721</td><td>966.1320069686604</td><td>0.35973546141470886</td><td>-103.00004568869595</td><td>-1000.0</td><td>999.9177736083184</td><td>994.4284990714165</td><td>403.7962238931629</td><td>534.3330702446725</td><td>467.20726912318673</td></tr>\n",
       "<tr><td>86578477987</td><td>watch, clock, and...</td><td>a</td><td>917.391304347826</td><td>0.0</td><td>708.2852802422059</td><td>908.8227823287583</td><td>0.43357183961504836</td><td>-103.00085255309655</td><td>-1000.0</td><td>999.9626243674174</td><td>985.3959142326523</td><td>327.7999166601939</td><td>567.8988503398783</td><td>465.123702087357</td></tr>\n",
       "<tr><td>89726005175</td><td>tent and awning s...</td><td>a</td><td>856.5217391304348</td><td>0.0</td><td>708.5812293496131</td><td>725.7408343065713</td><td>0.5685208337148856</td><td>-102.99941866865252</td><td>-1000.0</td><td>999.6262436741742</td><td>905.8754009792335</td><td>403.7962238931629</td><td>534.3330702446725</td><td>419.5373610639217</td></tr>\n",
       "<tr><td>45629217853</td><td>gift, card, novel...</td><td>a</td><td>997.1014492753624</td><td>0.0</td><td>522.7214766824259</td><td>749.0743885166197</td><td>0.3778571834795441</td><td>-102.99720668418355</td><td>-1000.0</td><td>999.8355472166367</td><td>924.826945804491</td><td>353.96825075035065</td><td>597.2427375677006</td><td>415.2739294371393</td></tr>\n",
       "<tr><td>46804135891</td><td>opticians, optica...</td><td>c</td><td>410.1449275362319</td><td>0.0</td><td>438.41565998672814</td><td>769.421275397371</td><td>0.2903331215919354</td><td>-103.00587786087313</td><td>-1000.0</td><td>999.6262436741742</td><td>933.6062806010468</td><td>520.2931741035037</td><td>671.5831110113019</td><td>411.2675285616749</td></tr>\n",
       "<tr><td>43186523025</td><td>florists supplies...</td><td>b</td><td>633.3333333333333</td><td>0.0</td><td>719.4837743952911</td><td>675.2801683080567</td><td>0.6296334496143834</td><td>-103.03426592884686</td><td>-1000.0</td><td>999.2524873483484</td><td>868.0145196690867</td><td>520.2931741035037</td><td>671.5831110113019</td><td>402.00564969636355</td></tr>\n",
       "<tr><td>80324045558</td><td>gift, card, novel...</td><td>c</td><td>198.55072463768113</td><td>0.0</td><td>448.04966563758114</td><td>645.6461058054683</td><td>0.3753509878748329</td><td>-103.02503940015356</td><td>-1000.0</td><td>998.9235817816218</td><td>840.8745568124261</td><td>520.2931741035037</td><td>671.5831110113019</td><td>367.68222294363756</td></tr>\n",
       "<tr><td>68216911708</td><td>computers, comput...</td><td>c</td><td>427.5362318840579</td><td>0.0</td><td>487.93955382857985</td><td>599.5229062958148</td><td>0.4574770899984481</td><td>-103.01124803083016</td><td>-1000.0</td><td>998.549825455796</td><td>790.0135066689178</td><td>327.7999166601939</td><td>567.8988503398783</td><td>350.01254774673737</td></tr>\n",
       "<tr><td>63290521567</td><td>artist supply and...</td><td>a</td><td>924.6376811594204</td><td>0.0</td><td>272.29555531215533</td><td>596.1331389618242</td><td>0.21302662640045722</td><td>-103.03746123343109</td><td>-1000.0</td><td>998.1312183708709</td><td>783.5978389329731</td><td>327.7999166601939</td><td>567.8988503398783</td><td>334.9189932900544</td></tr>\n",
       "<tr><td>19492220327</td><td>jewelry, watch, c...</td><td>b</td><td>700.0</td><td>1000.0</td><td>597.3107999086589</td><td>2.7181640727457452</td><td>150.146371462529</td><td>-135.09921587755105</td><td>-0.0</td><td>28.898839112851984</td><td>0.0</td><td>549.4475276974022</td><td>805.4845980465816</td><td>325.63839798742373</td></tr>\n",
       "<tr><td>64403598239</td><td>music shops - mus...</td><td>a</td><td>900.0</td><td>0.0</td><td>958.0535736510851</td><td>435.3873487339622</td><td>1.406554087074875</td><td>-103.0317131520297</td><td>-987.8048780487804</td><td>991.4484552651055</td><td>513.9709606618268</td><td>369.926513640861</td><td>543.3243836953868</td><td>282.9978067781624</td></tr>\n",
       "<tr><td>90918180829</td><td>jewelry, watch, c...</td><td>c</td><td>365.2173913043478</td><td>745.3703703703703</td><td>408.1326379238903</td><td>1.8443205694201712</td><td>151.16022397677338</td><td>-138.98445865825823</td><td>-0.0</td><td>19.891311660449855</td><td>0.0</td><td>306.008409687829</td><td>555.1397205588822</td><td>241.64213164227232</td></tr>\n",
       "<tr><td>21439773999</td><td>cable, satellite,...</td><td>a</td><td>869.5652173913043</td><td>0.0</td><td>705.7184762876586</td><td>403.08827061815106</td><td>1.0988703805272457</td><td>-102.82623299221905</td><td>-987.8048780487804</td><td>987.0904565059764</td><td>450.57403342900557</td><td>403.7962238931629</td><td>534.3330702446725</td><td>240.75077005614057</td></tr>\n",
       "<tr><td>60956456424</td><td>gift, card, novel...</td><td>b</td><td>665.2173913043479</td><td>0.0</td><td>866.6311753252437</td><td>347.8193946321436</td><td>1.6060858140653482</td><td>-102.88667122251665</td><td>-975.609756097561</td><td>975.8329159721028</td><td>326.60813776802297</td><td>520.2931741035037</td><td>671.5831110113019</td><td>206.9801306795851</td></tr>\n",
       "<tr><td>15043504837</td><td>jewelry, watch, c...</td><td>b</td><td>655.072463768116</td><td>560.1851851851852</td><td>243.12105444122153</td><td>0.6398522334777315</td><td>258.5524406971465</td><td>-172.7973769186336</td><td>-0.0</td><td>6.929442280810603</td><td>0.0</td><td>420.5690670957125</td><td>890.7143933573808</td><td>191.70834922221326</td></tr>\n",
       "<tr><td>79417999332</td><td>gift, card, novel...</td><td>b</td><td>702.8985507246377</td><td>0.0</td><td>708.0236249156216</td><td>332.65689839395014</td><td>1.3573940963670768</td><td>-103.11712396529352</td><td>-975.609756097561</td><td>974.3827414278987</td><td>299.0460915076819</td><td>403.7962238931629</td><td>534.3330702446725</td><td>184.61042019586932</td></tr>\n",
       "<tr><td>94493496784</td><td>gift, card, novel...</td><td>a</td><td>804.3478260869566</td><td>0.0</td><td>706.2158527551028</td><td>332.51885044713725</td><td>1.354309547930509</td><td>-103.01954768906299</td><td>-975.609756097561</td><td>972.0131263221632</td><td>296.3025493837582</td><td>327.7999166601939</td><td>567.8988503398783</td><td>183.789636543626</td></tr>\n",
       "<tr><td>72472909171</td><td>digital goods: bo...</td><td>a</td><td>902.8985507246376</td><td>0.0</td><td>530.2989441753627</td><td>339.29493391644786</td><td>0.9702832675778296</td><td>-102.79963301332201</td><td>-951.219512195122</td><td>975.7506895804213</td><td>313.1436771906129</td><td>403.7962238931629</td><td>534.3330702446725</td><td>179.95279044078632</td></tr>\n",
       "</table>\n",
       "only showing top 20 rows\n"
      ],
      "text/plain": [
       "+------------+--------------------+--------------+------------------+-----------------+------------------+------------------+-------------------+-------------------+------------------+------------------+------------------+---------------------+------------------+------------------+\n",
       "|merchant_abn|          Store_type|Revenue_levels|         Take_rate|count_of_bigorder|Avg_amount_monthly| Avg_count_monthly|    Order_avg_value| avg_prob_fraud_cus|      num_of_fraud| count_cus_per_mon|       fix_cus_num|avg_income_percentage|avg_age_percentage|             score|\n",
       "+------------+--------------------+--------------+------------------+-----------------+------------------+------------------+-------------------+-------------------+------------------+------------------+------------------+---------------------+------------------+------------------+\n",
       "| 64203420245|tent and awning s...|             c|             400.0|              0.0|  815.055972932642|            1000.0|0.45805544283030447|-103.00261844375468|           -1000.0|            1000.0|            1000.0|    520.2931741035037| 671.5831110113019|485.42741240711126|\n",
       "| 49891706470|tent and awning s...|             a| 826.0869565217391|              0.0|  772.880493678027|  948.293451281499|0.45805544283030447|-103.00308583547395|           -1000.0|  999.880397975736|  991.051831841972|    414.5546579090338| 518.2701782093046|475.77895703901345|\n",
       "| 24852446429|florists supplies...|             c| 411.5942028985507|              0.0| 648.6277491354721| 966.1320069686604|0.35973546141470886|-103.00004568869595|           -1000.0| 999.9177736083184| 994.4284990714165|    403.7962238931629| 534.3330702446725|467.20726912318673|\n",
       "| 86578477987|watch, clock, and...|             a|  917.391304347826|              0.0| 708.2852802422059| 908.8227823287583|0.43357183961504836|-103.00085255309655|           -1000.0| 999.9626243674174| 985.3959142326523|    327.7999166601939| 567.8988503398783|  465.123702087357|\n",
       "| 89726005175|tent and awning s...|             a| 856.5217391304348|              0.0| 708.5812293496131| 725.7408343065713| 0.5685208337148856|-102.99941866865252|           -1000.0| 999.6262436741742| 905.8754009792335|    403.7962238931629| 534.3330702446725| 419.5373610639217|\n",
       "| 45629217853|gift, card, novel...|             a| 997.1014492753624|              0.0| 522.7214766824259| 749.0743885166197| 0.3778571834795441|-102.99720668418355|           -1000.0| 999.8355472166367|  924.826945804491|   353.96825075035065| 597.2427375677006| 415.2739294371393|\n",
       "| 46804135891|opticians, optica...|             c| 410.1449275362319|              0.0|438.41565998672814|  769.421275397371| 0.2903331215919354|-103.00587786087313|           -1000.0| 999.6262436741742| 933.6062806010468|    520.2931741035037| 671.5831110113019| 411.2675285616749|\n",
       "| 43186523025|florists supplies...|             b| 633.3333333333333|              0.0| 719.4837743952911| 675.2801683080567| 0.6296334496143834|-103.03426592884686|           -1000.0| 999.2524873483484| 868.0145196690867|    520.2931741035037| 671.5831110113019|402.00564969636355|\n",
       "| 80324045558|gift, card, novel...|             c|198.55072463768113|              0.0|448.04966563758114| 645.6461058054683| 0.3753509878748329|-103.02503940015356|           -1000.0| 998.9235817816218| 840.8745568124261|    520.2931741035037| 671.5831110113019|367.68222294363756|\n",
       "| 68216911708|computers, comput...|             c| 427.5362318840579|              0.0|487.93955382857985| 599.5229062958148| 0.4574770899984481|-103.01124803083016|           -1000.0|  998.549825455796| 790.0135066689178|    327.7999166601939| 567.8988503398783|350.01254774673737|\n",
       "| 63290521567|artist supply and...|             a| 924.6376811594204|              0.0|272.29555531215533| 596.1331389618242|0.21302662640045722|-103.03746123343109|           -1000.0| 998.1312183708709| 783.5978389329731|    327.7999166601939| 567.8988503398783| 334.9189932900544|\n",
       "| 19492220327|jewelry, watch, c...|             b|             700.0|           1000.0| 597.3107999086589|2.7181640727457452|   150.146371462529|-135.09921587755105|              -0.0|28.898839112851984|               0.0|    549.4475276974022| 805.4845980465816|325.63839798742373|\n",
       "| 64403598239|music shops - mus...|             a|             900.0|              0.0| 958.0535736510851| 435.3873487339622|  1.406554087074875| -103.0317131520297|-987.8048780487804| 991.4484552651055| 513.9709606618268|     369.926513640861| 543.3243836953868| 282.9978067781624|\n",
       "| 90918180829|jewelry, watch, c...|             c| 365.2173913043478|745.3703703703703| 408.1326379238903|1.8443205694201712| 151.16022397677338|-138.98445865825823|              -0.0|19.891311660449855|               0.0|     306.008409687829| 555.1397205588822|241.64213164227232|\n",
       "| 21439773999|cable, satellite,...|             a| 869.5652173913043|              0.0| 705.7184762876586|403.08827061815106| 1.0988703805272457|-102.82623299221905|-987.8048780487804| 987.0904565059764|450.57403342900557|    403.7962238931629| 534.3330702446725|240.75077005614057|\n",
       "| 60956456424|gift, card, novel...|             b| 665.2173913043479|              0.0| 866.6311753252437| 347.8193946321436| 1.6060858140653482|-102.88667122251665| -975.609756097561| 975.8329159721028|326.60813776802297|    520.2931741035037| 671.5831110113019| 206.9801306795851|\n",
       "| 15043504837|jewelry, watch, c...|             b|  655.072463768116|560.1851851851852|243.12105444122153|0.6398522334777315|  258.5524406971465| -172.7973769186336|              -0.0| 6.929442280810603|               0.0|    420.5690670957125| 890.7143933573808|191.70834922221326|\n",
       "| 79417999332|gift, card, novel...|             b| 702.8985507246377|              0.0| 708.0236249156216|332.65689839395014| 1.3573940963670768|-103.11712396529352| -975.609756097561| 974.3827414278987| 299.0460915076819|    403.7962238931629| 534.3330702446725|184.61042019586932|\n",
       "| 94493496784|gift, card, novel...|             a| 804.3478260869566|              0.0| 706.2158527551028|332.51885044713725|  1.354309547930509|-103.01954768906299| -975.609756097561| 972.0131263221632| 296.3025493837582|    327.7999166601939| 567.8988503398783|  183.789636543626|\n",
       "| 72472909171|digital goods: bo...|             a| 902.8985507246376|              0.0| 530.2989441753627|339.29493391644786| 0.9702832675778296|-102.79963301332201| -951.219512195122| 975.7506895804213| 313.1436771906129|    403.7962238931629| 534.3330702446725|179.95279044078632|\n",
       "+------------+--------------------+--------------+------------------+-----------------+------------------+------------------+-------------------+-------------------+------------------+------------------+------------------+---------------------+------------------+------------------+\n",
       "only showing top 20 rows"
      ]
     },
     "execution_count": 23,
     "metadata": {},
     "output_type": "execute_result"
    }
   ],
   "source": [
    "final_df2"
   ]
  }
 ],
 "metadata": {
  "kernelspec": {
   "display_name": "Python 3.8.13 ('ads')",
   "language": "python",
   "name": "python3"
  },
  "language_info": {
   "codemirror_mode": {
    "name": "ipython",
    "version": 3
   },
   "file_extension": ".py",
   "mimetype": "text/x-python",
   "name": "python",
   "nbconvert_exporter": "python",
   "pygments_lexer": "ipython3",
   "version": "3.8.13"
  },
  "orig_nbformat": 4,
  "vscode": {
   "interpreter": {
    "hash": "6e45bdfcba1031802b2f7a315f02d536e51553942a60e4ee4be74aec82814bfa"
   }
  }
 },
 "nbformat": 4,
 "nbformat_minor": 2
}
