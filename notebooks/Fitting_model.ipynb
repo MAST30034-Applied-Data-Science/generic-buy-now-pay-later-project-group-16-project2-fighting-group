{
 "cells": [
  {
   "cell_type": "code",
   "execution_count": 2,
   "metadata": {},
   "outputs": [
    {
     "name": "stderr",
     "output_type": "stream",
     "text": [
      "22/09/29 10:39:31 WARN NativeCodeLoader: Unable to load native-hadoop library for your platform... using builtin-java classes where applicable\n",
      "Using Spark's default log4j profile: org/apache/spark/log4j-defaults.properties\n",
      "Setting default log level to \"WARN\".\n",
      "To adjust logging level use sc.setLogLevel(newLevel). For SparkR, use setLogLevel(newLevel).\n"
     ]
    }
   ],
   "source": [
    "from pyspark.sql import SparkSession\n",
    "from pyspark.sql import functions as F\n",
    "import numpy as np\n",
    "from pyspark.sql.functions import round\n",
    "from pyspark.sql import Window\n",
    "from pyspark.sql.functions import col\n",
    "# Create a spark session (which will run spark jobs)\n",
    "spark = (\n",
    "    SparkSession.builder.appName(\"MAST30034 Tutorial 1\")\n",
    "    .config(\"spark.sql.repl.eagerEval.enabled\", True) \n",
    "    .config(\"spark.sql.parquet.cacheMetadata\", \"true\")\n",
    "    .config(\"spark.sql.session.timeZone\", \"Etc/UTC\")\n",
    "    .getOrCreate()\n",
    ")"
   ]
  },
  {
   "cell_type": "code",
   "execution_count": 3,
   "metadata": {},
   "outputs": [
    {
     "name": "stderr",
     "output_type": "stream",
     "text": [
      "                                                                                \r"
     ]
    }
   ],
   "source": [
    "final = spark.read.parquet('../data/curated/merchant_info.parquet')"
   ]
  },
  {
   "cell_type": "code",
   "execution_count": 4,
   "metadata": {},
   "outputs": [
    {
     "name": "stderr",
     "output_type": "stream",
     "text": [
      "                                                                                \r"
     ]
    }
   ],
   "source": [
    "max_Take_rate = float(final.agg({\"Take_rate\": \"max\"}).collect()[0][0])\n",
    "min_Take_rate = float(final.agg({\"Take_rate\": \"min\"}).collect()[0][0])\n",
    "\n",
    "max_Avg_amount_monthly= float(final.agg({\"Avg_amount_monthly\": \"max\"}).collect()[0][0])\n",
    "min_Avg_amount_monthly = float(final.agg({\"Avg_amount_monthly\": \"min\"}).collect()[0][0])\n",
    "\n",
    "max_Avg_count_monthly= float(final.agg({\"Avg_count_monthly\": \"max\"}).collect()[0][0])\n",
    "min_Avg_count_monthly = float(final.agg({\"Avg_count_monthly\": \"min\"}).collect()[0][0])\n",
    "\n",
    "max_Order_avg_value = float(final.agg({\"Order_avg_value\": \"max\"}).collect()[0][0])\n",
    "min_Order_avg_value = float(final.agg({\"Order_avg_value\": \"min\"}).collect()[0][0])\n",
    "\n",
    "max_avg_prob_fraud_cus = float(final.agg({\"avg_prob_fraud_cus\": \"max\"}).collect()[0][0])\n",
    "min_avg_prob_fraud_cus = float(final.agg({\"avg_prob_fraud_cus\": \"min\"}).collect()[0][0])\n",
    "\n",
    "max_num_of_fraud = float(final.agg({\"num_of_fraud\": \"max\"}).collect()[0][0])\n",
    "min_num_of_fraud = float(final.agg({\"num_of_fraud\": \"min\"}).collect()[0][0])\n",
    "\n",
    "max_count_cus_per_mon = float(final.agg({\"count_cus_per_mon\": \"max\"}).collect()[0][0])\n",
    "min_count_cus_per_mon = float(final.agg({\"count_cus_per_mon\": \"min\"}).collect()[0][0])\n",
    "\n",
    "max_fix_cus_num = float(final.agg({\"fix_cus_num\": \"max\"}).collect()[0][0])\n",
    "min_fix_cus_num = float(final.agg({\"fix_cus_num\": \"min\"}).collect()[0][0])\n",
    "\n",
    "max_avg_income_percentage = float(final.agg({\"avg_income_percentage\": \"max\"}).collect()[0][0])\n",
    "min_avg_income_percentage = float(final.agg({\"avg_income_percentage\": \"min\"}).collect()[0][0])\n",
    "\n",
    "max_avg_age_percentage = float(final.agg({\"avg_age_percentage\": \"max\"}).collect()[0][0])\n",
    "min_avg_age_percentage = float(final.agg({\"avg_age_percentage\": \"min\"}).collect()[0][0])\n",
    "\n",
    "max_count_of_bigorder = float(final.agg({\"count_of_bigorder\": \"max\"}).collect()[0][0])\n",
    "min_count_of_bigorder = float(final.agg({\"count_of_bigorder\": \"min\"}).collect()[0][0])\n",
    "\n",
    "max_fix_cus_num = float(final.agg({\"fix_cus_num\": \"max\"}).collect()[0][0])\n",
    "min_fix_cus_num = float(final.agg({\"fix_cus_num\": \"min\"}).collect()[0][0])\n"
   ]
  },
  {
   "cell_type": "code",
   "execution_count": 5,
   "metadata": {},
   "outputs": [],
   "source": [
    "final_1 = final.withColumn('Take_rate', (final.Take_rate - min_Take_rate)*1000/(max_Take_rate-min_Take_rate))\\\n",
    "    .withColumn('Avg_amount_monthly', (final.Avg_amount_monthly - min_Avg_amount_monthly)*1000/(max_Avg_amount_monthly - min_Avg_amount_monthly))\\\n",
    "    .withColumn('Avg_count_monthly', (final.Avg_count_monthly - min_Avg_count_monthly)*1000/(max_Avg_count_monthly - min_Avg_count_monthly))\\\n",
    "    .withColumn('Order_avg_value', (final.Order_avg_value - min_Order_avg_value)*1000/(max_Order_avg_value - min_Order_avg_value))\\\n",
    "    .withColumn('avg_prob_fraud_cus', -(final.avg_prob_fraud_cus - min_avg_prob_fraud_cus)*1000/(max_avg_prob_fraud_cus - min_avg_prob_fraud_cus))\\\n",
    "    .withColumn('num_of_fraud', -(final.num_of_fraud - min_num_of_fraud)*1000/(max_num_of_fraud - min_num_of_fraud))\\\n",
    "    .withColumn('count_cus_per_mon', (final.count_cus_per_mon - min_count_cus_per_mon)*1000/(max_count_cus_per_mon - min_count_cus_per_mon))\\\n",
    "    .withColumn('avg_income_percentage', (final.avg_income_percentage - min_avg_income_percentage)*1000/(max_avg_income_percentage - min_avg_income_percentage))\\\n",
    "    .withColumn('avg_age_percentage', (final.avg_age_percentage - min_avg_age_percentage)*1000/(max_avg_age_percentage - min_avg_age_percentage))\\\n",
    "    .withColumn('count_of_bigorder', (final.count_of_bigorder - min_count_of_bigorder)*1000/(max_count_of_bigorder - min_count_of_bigorder))\\\n",
    "    .withColumn('fix_cus_num', (final.fix_cus_num - min_fix_cus_num)*1000/(max_fix_cus_num - min_fix_cus_num))"
   ]
  },
  {
   "cell_type": "code",
   "execution_count": 6,
   "metadata": {},
   "outputs": [],
   "source": [
    "final_1 = final_1.drop('postcode')\n"
   ]
  },
  {
   "cell_type": "code",
   "execution_count": 7,
   "metadata": {},
   "outputs": [],
   "source": [
    "final_df = final_1.withColumn('score', final_1.Take_rate + final_1.count_of_bigorder +\\\n",
    "                            final_1.Avg_amount_monthly + final_1.Avg_count_monthly +\\\n",
    "                            final_1.Order_avg_value + final_1.avg_prob_fraud_cus + final_1.num_of_fraud +\\\n",
    "                            final_1.count_cus_per_mon + final_1.fix_cus_num +\\\n",
    "                            final_1.avg_income_percentage + final_1.avg_age_percentage)"
   ]
  },
  {
   "cell_type": "code",
   "execution_count": 8,
   "metadata": {},
   "outputs": [],
   "source": [
    "final_df = final_df.sort(final_df.score.desc())"
   ]
  },
  {
   "cell_type": "code",
   "execution_count": 9,
   "metadata": {},
   "outputs": [
    {
     "name": "stderr",
     "output_type": "stream",
     "text": [
      "                                                                                \r"
     ]
    }
   ],
   "source": [
    "mean_Take_rate = float(final.agg({\"Take_rate\": \"mean\"}).collect()[0][0])\n",
    "sd_Take_rate = float(final.agg({\"Take_rate\": \"stddev_pop\"}).collect()[0][0])\n",
    "\n",
    "mean_Avg_amount_monthly= float(final.agg({\"Avg_amount_monthly\": \"mean\"}).collect()[0][0])\n",
    "sd_Avg_amount_monthly = float(final.agg({\"Avg_amount_monthly\": \"stddev_pop\"}).collect()[0][0])\n",
    "\n",
    "mean_Avg_count_monthly= float(final.agg({\"Avg_count_monthly\": \"mean\"}).collect()[0][0])\n",
    "sd_Avg_count_monthly = float(final.agg({\"Avg_count_monthly\": \"stddev_pop\"}).collect()[0][0])\n",
    "\n",
    "mean_Order_avg_value = float(final.agg({\"Order_avg_value\": \"mean\"}).collect()[0][0])\n",
    "sd_Order_avg_value = float(final.agg({\"Order_avg_value\": \"stddev_pop\"}).collect()[0][0])\n",
    "\n",
    "mean_avg_prob_fraud_cus = float(final.agg({\"avg_prob_fraud_cus\": \"mean\"}).collect()[0][0])\n",
    "sd_avg_prob_fraud_cus = float(final.agg({\"avg_prob_fraud_cus\": \"stddev_pop\"}).collect()[0][0])\n",
    "\n",
    "mean_num_of_fraud = float(final.agg({\"num_of_fraud\": \"mean\"}).collect()[0][0])\n",
    "sd_num_of_fraud = float(final.agg({\"num_of_fraud\": \"stddev_pop\"}).collect()[0][0])\n",
    "\n",
    "mean_count_cus_per_mon = float(final.agg({\"count_cus_per_mon\": \"mean\"}).collect()[0][0])\n",
    "sd_count_cus_per_mon = float(final.agg({\"count_cus_per_mon\": \"stddev_pop\"}).collect()[0][0])\n",
    "\n",
    "mean_fix_cus_num = float(final.agg({\"fix_cus_num\": \"mean\"}).collect()[0][0])\n",
    "sd_fix_cus_num = float(final.agg({\"fix_cus_num\": \"stddev_pop\"}).collect()[0][0])\n",
    "\n",
    "mean_avg_income_percentage = float(final.agg({\"avg_income_percentage\": \"mean\"}).collect()[0][0])\n",
    "sd_avg_income_percentage = float(final.agg({\"avg_income_percentage\": \"stddev_pop\"}).collect()[0][0])\n",
    "\n",
    "mean_avg_age_percentage = float(final.agg({\"avg_age_percentage\": \"mean\"}).collect()[0][0])\n",
    "sd_avg_age_percentage = float(final.agg({\"avg_age_percentage\": \"stddev_pop\"}).collect()[0][0])\n",
    "\n",
    "mean_count_of_bigorder = float(final.agg({\"count_of_bigorder\": \"mean\"}).collect()[0][0])\n",
    "sd_count_of_bigorder = float(final.agg({\"count_of_bigorder\": \"stddev_pop\"}).collect()[0][0])\n",
    "\n",
    "mean_fix_cus_num = float(final.agg({\"fix_cus_num\": \"mean\"}).collect()[0][0])\n",
    "sd_fix_cus_num = float(final.agg({\"fix_cus_num\": \"stddev_pop\"}).collect()[0][0])\n"
   ]
  },
  {
   "cell_type": "code",
   "execution_count": 10,
   "metadata": {},
   "outputs": [],
   "source": [
    "final_2 = final.withColumn('Take_rate', (final.Take_rate - mean_Take_rate)/(sd_Take_rate))\\\n",
    "    .withColumn('Avg_amount_monthly', (final.Avg_amount_monthly - mean_Avg_amount_monthly)/(sd_Avg_amount_monthly))\\\n",
    "    .withColumn('Avg_count_monthly', (final.Avg_count_monthly - mean_Avg_count_monthly)/(sd_Avg_count_monthly))\\\n",
    "    .withColumn('Order_avg_value', (final.Order_avg_value - mean_Order_avg_value)/(sd_Order_avg_value))\\\n",
    "    .withColumn('avg_prob_fraud_cus', -(final.avg_prob_fraud_cus - mean_avg_prob_fraud_cus)/(sd_avg_prob_fraud_cus))\\\n",
    "    .withColumn('num_of_fraud', -(final.num_of_fraud - mean_num_of_fraud)/(sd_num_of_fraud))\\\n",
    "    .withColumn('count_cus_per_mon', (final.count_cus_per_mon - mean_count_cus_per_mon)/(sd_count_cus_per_mon))\\\n",
    "    .withColumn('avg_income_percentage', (final.avg_income_percentage - mean_avg_income_percentage)/(sd_avg_income_percentage))\\\n",
    "    .withColumn('avg_age_percentage', (final.avg_age_percentage - mean_avg_age_percentage)/(sd_avg_age_percentage))\\\n",
    "    .withColumn('count_of_bigorder', (final.count_of_bigorder - mean_count_of_bigorder)/(sd_count_of_bigorder))\\\n",
    "    .withColumn('fix_cus_num', (final.fix_cus_num - mean_fix_cus_num)/(sd_fix_cus_num))"
   ]
  },
  {
   "cell_type": "code",
   "execution_count": 11,
   "metadata": {},
   "outputs": [],
   "source": [
    "final_2 = final_2.drop('postcode')"
   ]
  },
  {
   "cell_type": "code",
   "execution_count": 12,
   "metadata": {},
   "outputs": [],
   "source": [
    "final_df2 = final_2.withColumn('score', final_2.Take_rate + final_2.count_of_bigorder +\\\n",
    "                            final_2.Avg_amount_monthly + final_2.Avg_count_monthly +\\\n",
    "                            final_2.Order_avg_value + final_2.avg_prob_fraud_cus + final_2.num_of_fraud +\\\n",
    "                            final_2.count_cus_per_mon + final_2.fix_cus_num +\\\n",
    "                            final_2.avg_income_percentage + final_2.avg_age_percentage)"
   ]
  },
  {
   "cell_type": "code",
   "execution_count": 13,
   "metadata": {},
   "outputs": [],
   "source": [
    "final_df2 = final_df2.sort(final_df2.score.desc())"
   ]
  },
  {
   "cell_type": "code",
   "execution_count": 14,
   "metadata": {},
   "outputs": [
    {
     "data": {
      "text/plain": [
       "3667"
      ]
     },
     "execution_count": 14,
     "metadata": {},
     "output_type": "execute_result"
    }
   ],
   "source": [
    "final_df.count()"
   ]
  },
  {
   "cell_type": "code",
   "execution_count": 15,
   "metadata": {},
   "outputs": [
    {
     "data": {
      "text/plain": [
       "3667"
      ]
     },
     "execution_count": 15,
     "metadata": {},
     "output_type": "execute_result"
    }
   ],
   "source": [
    "final_df2.count()"
   ]
  },
  {
   "cell_type": "markdown",
   "metadata": {},
   "source": [
    "### rank inside each column and add up the rank"
   ]
  },
  {
   "cell_type": "code",
   "execution_count": 25,
   "metadata": {},
   "outputs": [
    {
     "name": "stdout",
     "output_type": "stream",
     "text": [
      "['merchant_abn', 'rank_count_of_bigorder', 'rank_Avg_amount_monthly', 'rank_Avg_count_monthly', 'rank_Order_avg_value', 'rank_avg_prob_fraud_cus', 'rank_num_of_fraud', 'rank_count_cus_per_mon', 'rank_fix_cus_num', 'rank_avg_income_percentage', 'rank_avg_age_percentage']\n"
     ]
    },
    {
     "name": "stderr",
     "output_type": "stream",
     "text": [
      "22/09/29 10:49:32 WARN WindowExec: No Partition Defined for Window operation! Moving all data to a single partition, this can cause serious performance degradation.\n",
      "22/09/29 10:49:32 WARN WindowExec: No Partition Defined for Window operation! Moving all data to a single partition, this can cause serious performance degradation.\n",
      "22/09/29 10:49:32 WARN WindowExec: No Partition Defined for Window operation! Moving all data to a single partition, this can cause serious performance degradation.\n",
      "22/09/29 10:49:32 WARN WindowExec: No Partition Defined for Window operation! Moving all data to a single partition, this can cause serious performance degradation.\n",
      "22/09/29 10:49:32 WARN WindowExec: No Partition Defined for Window operation! Moving all data to a single partition, this can cause serious performance degradation.\n",
      "22/09/29 10:49:32 WARN WindowExec: No Partition Defined for Window operation! Moving all data to a single partition, this can cause serious performance degradation.\n",
      "22/09/29 10:49:32 WARN WindowExec: No Partition Defined for Window operation! Moving all data to a single partition, this can cause serious performance degradation.\n",
      "22/09/29 10:49:32 WARN WindowExec: No Partition Defined for Window operation! Moving all data to a single partition, this can cause serious performance degradation.\n",
      "22/09/29 10:49:32 WARN WindowExec: No Partition Defined for Window operation! Moving all data to a single partition, this can cause serious performance degradation.\n",
      "22/09/29 10:49:32 WARN WindowExec: No Partition Defined for Window operation! Moving all data to a single partition, this can cause serious performance degradation.\n",
      "22/09/29 10:49:32 WARN WindowExec: No Partition Defined for Window operation! Moving all data to a single partition, this can cause serious performance degradation.\n"
     ]
    },
    {
     "name": "stdout",
     "output_type": "stream",
     "text": [
      "+------------+----------------------+-----------------------+----------------------+--------------------+-----------------------+-----------------+----------------------+----------------+--------------------------+-----------------------+------------+----+\n",
      "|merchant_abn|rank_count_of_bigorder|rank_Avg_amount_monthly|rank_Avg_count_monthly|rank_Order_avg_value|rank_avg_prob_fraud_cus|rank_num_of_fraud|rank_count_cus_per_mon|rank_fix_cus_num|rank_avg_income_percentage|rank_avg_age_percentage|sum_of_ranks|rank|\n",
      "+------------+----------------------+-----------------------+----------------------+--------------------+-----------------------+-----------------+----------------------+----------------+--------------------------+-----------------------+------------+----+\n",
      "| 19492220327|                     1|                     36|                  1278|                 103|                    179|               78|                  1277|             121|                       192|                     16|        3281|   1|\n",
      "| 38700038932|                    36|                     11|                   388|                 580|                   1817|               54|                   385|             121|                         6|                     73|        3471|   2|\n",
      "| 27326652377|                    36|                     56|                   421|                 710|                   1277|               58|                   420|             121|                       392|                     18|        3509|   3|\n",
      "| 99291944648|                    36|                     43|                   178|                1239|                   1578|               45|                   177|             109|                        35|                    149|        3589|   4|\n",
      "| 31334588839|                     5|                     38|                  1047|                 164|                    725|               76|                  1041|             121|                       312|                    170|        3699|   5|\n",
      "| 40515428545|                    36|                     46|                   217|                1127|                   1367|               52|                   213|             116|                       406|                    153|        3733|   6|\n",
      "| 50315283629|                    36|                     10|                    67|                1656|                   1657|               26|                    65|              65|                        36|                    121|        3739|   7|\n",
      "| 99514198047|                    36|                    234|                   785|                1254|                    679|               69|                   782|             121|                       124|                     10|        4094|   8|\n",
      "| 63817709749|                    36|                    109|                   408|                1242|                   1017|               53|                   403|             121|                       322|                    452|        4163|   9|\n",
      "| 15043504837|                     3|                    108|                  1666|                  41|                     68|               78|                  1667|             121|                       432|                      5|        4189|  10|\n",
      "| 34096466752|                    36|                     21|                   137|                1233|                   1903|               34|                   135|             108|                       334|                    306|        4247|  11|\n",
      "| 25732256442|                    36|                    115|                   201|                2079|                   1174|               39|                   200|             119|                       224|                     82|        4269|  12|\n",
      "| 77590625261|                    36|                     41|                    91|                1737|                   1869|               28|                    89|              81|                       224|                     82|        4278|  13|\n",
      "| 80551528183|                    36|                     32|                   353|                 659|                   2087|               60|                   350|             121|                       170|                    454|        4322|  14|\n",
      "| 66228393506|                     9|                    374|                  1745|                  73|                    148|               78|                  1746|             121|                        75|                      7|        4376|  15|\n",
      "| 41271931352|                    36|                    116|                   355|                1518|                   1531|               50|                   353|             121|                       224|                     82|        4386|  16|\n",
      "| 48256546416|                    36|                    306|                   604|                1717|                    795|               62|                   602|             121|                       119|                     25|        4387|  17|\n",
      "| 98518649381|                    36|                    104|                   657|                 802|                    873|               61|                   651|             121|                       660|                    473|        4438|  18|\n",
      "| 32709545238|                    36|                      8|                   220|                 918|                   1350|               38|                   217|             114|                       788|                    798|        4487|  19|\n",
      "| 20269486864|                    36|                     78|                   981|                 324|                   1838|               73|                   980|             121|                        13|                     50|        4494|  20|\n",
      "+------------+----------------------+-----------------------+----------------------+--------------------+-----------------------+-----------------+----------------------+----------------+--------------------------+-----------------------+------------+----+\n",
      "only showing top 20 rows\n",
      "\n"
     ]
    }
   ],
   "source": [
    "\n",
    "final_rank_coldf = final_1.drop(\"Take_rate\", \"Store_type\", \"Revenue_levels\")\n",
    "for col in final_rank_coldf.columns:\n",
    "    if col == \"merchant_abn\":\n",
    "        continue\n",
    "    elif col in [\"avg_prob_fraud_cus\", \"num_of_fraud\"]: #columns that have number smaller = higher rank\n",
    "        final_rank_coldf = final_rank_coldf.withColumn(\"rank_\"+col, F.dense_rank().over(Window.orderBy(col))).drop(col)\n",
    "    else: #columns that have number bigger = higher rank\n",
    "        final_rank_coldf = final_rank_coldf.withColumn(\"rank_\"+col, F.dense_rank().over(Window.orderBy(F.desc(col)))).drop(col)\n",
    "\n",
    "numeric_col = final_rank_coldf.columns\n",
    "numeric_col.remove(\"merchant_abn\")\n",
    "expression = '+'.join(numeric_col)\n",
    "\n",
    "final_rank_coldf = final_rank_coldf.withColumn(\"sum_of_ranks\", F.expr(expression))\\\n",
    "    .withColumn(\"rank\", F.dense_rank().over(Window.orderBy(\"sum_of_ranks\")))\n",
    "final_rank_coldf.orderBy(\"rank\").show(20)    "
   ]
  }
 ],
 "metadata": {
  "kernelspec": {
   "display_name": "Python 3.7.13 ('base')",
   "language": "python",
   "name": "python3"
  },
  "language_info": {
   "codemirror_mode": {
    "name": "ipython",
    "version": 3
   },
   "file_extension": ".py",
   "mimetype": "text/x-python",
   "name": "python",
   "nbconvert_exporter": "python",
   "pygments_lexer": "ipython3",
   "version": "3.7.13"
  },
  "orig_nbformat": 4,
  "vscode": {
   "interpreter": {
    "hash": "664b9b2cfc08063ed3ab9f92e6d6cbdfe30eb833d966541c89dc480f035db465"
   }
  }
 },
 "nbformat": 4,
 "nbformat_minor": 2
}
