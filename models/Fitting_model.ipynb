{
 "cells": [
  {
   "cell_type": "code",
   "execution_count": 1,
   "metadata": {},
   "outputs": [
    {
     "name": "stdout",
     "output_type": "stream",
     "text": [
      "22/10/18 15:30:07 WARN Utils: Your hostname, hexiangyideMacBook-Pro.local resolves to a loopback address: 127.0.0.1; using 10.13.177.117 instead (on interface en0)\n",
      "22/10/18 15:30:07 WARN Utils: Set SPARK_LOCAL_IP if you need to bind to another address\n"
     ]
    },
    {
     "name": "stderr",
     "output_type": "stream",
     "text": [
      "Setting default log level to \"WARN\".\n",
      "To adjust logging level use sc.setLogLevel(newLevel). For SparkR, use setLogLevel(newLevel).\n"
     ]
    },
    {
     "name": "stdout",
     "output_type": "stream",
     "text": [
      "22/10/18 15:30:08 WARN NativeCodeLoader: Unable to load native-hadoop library for your platform... using builtin-java classes where applicable\n",
      "22/10/18 15:30:09 WARN Utils: Service 'SparkUI' could not bind on port 4040. Attempting port 4041.\n",
      "22/10/18 15:30:09 WARN Utils: Service 'SparkUI' could not bind on port 4041. Attempting port 4042.\n",
      "22/10/18 15:30:09 WARN Utils: Service 'SparkUI' could not bind on port 4042. Attempting port 4043.\n",
      "22/10/18 15:30:09 WARN Utils: Service 'SparkUI' could not bind on port 4043. Attempting port 4044.\n"
     ]
    }
   ],
   "source": [
    "from pyspark.sql import SparkSession\n",
    "from pyspark.sql import functions as F\n",
    "import numpy as np\n",
    "from pyspark.sql.functions import round\n",
    "from pyspark.sql import Window\n",
    "from pyspark.sql.functions import col\n",
    "from pyspark.sql.functions import when\n",
    "from pyspark.sql.functions import log\n",
    "from pyspark.sql.functions import regexp_replace\n",
    "import matplotlib.pyplot as plt  \n",
    "import scipy.stats as st\n",
    "import seaborn as sns\n",
    "import pandas as pd\n",
    "from operator import add\n",
    "from functools import reduce\n",
    "\n",
    "# Create a spark session (which will run spark jobs)\n",
    "spark = (\n",
    "    SparkSession.builder.appName(\"MAST30034 Tutorial 1\")\n",
    "    .config(\"spark.sql.repl.eagerEval.enabled\", True) \n",
    "    .config(\"spark.sql.parquet.cacheMetadata\", \"true\")\n",
    "    .config(\"spark.sql.session.timeZone\", \"Etc/UTC\")\n",
    "    .getOrCreate()\n",
    ")"
   ]
  },
  {
   "cell_type": "code",
   "execution_count": 2,
   "metadata": {},
   "outputs": [
    {
     "name": "stderr",
     "output_type": "stream",
     "text": [
      "                                                                                \r"
     ]
    }
   ],
   "source": [
    "# Read processed Dataframe for ranking\n",
    "final = spark.read.parquet('../data/curated/merchant_info.parquet')\n",
    "final_pd = final.toPandas()"
   ]
  },
  {
   "cell_type": "code",
   "execution_count": 3,
   "metadata": {},
   "outputs": [],
   "source": [
    "# Select all the numeric features\n",
    "col_list_1 = final.columns\n",
    "\n",
    "del_col_list = ['Store_type', 'Revenue_levels', 'merchant_abn','postcode']\n",
    "\n",
    "for i in del_col_list:\n",
    "    col_list_1.remove(i)"
   ]
  },
  {
   "cell_type": "code",
   "execution_count": 4,
   "metadata": {},
   "outputs": [
    {
     "data": {
      "text/html": [
       "<table border='1'>\n",
       "<tr><th>Store_type</th><th>Revenue_levels</th><th>Take_rate</th><th>count_of_bigorder</th><th>Avg_amount_monthly</th><th>Avg_count_monthly</th><th>Order_avg_value</th><th>postcode</th><th>avg_prob_fraud_cus</th><th>prob_of_fraud</th><th>count_cus_per_mon</th><th>merchant_abn</th><th>fix_cus_num</th><th>avg_income_percentage</th><th>avg_age_percentage</th><th>predict_dollar_value</th></tr>\n",
       "<tr><td>furniture, home f...</td><td>e</td><td>3795.4763999999996</td><td>0</td><td>21085.98</td><td>117.83</td><td>178.95</td><td>2388</td><td>15.755309718035436</td><td>0.00399800099950025</td><td>111.17</td><td>10023283211</td><td>0</td><td>0.2217391304347826</td><td>0.5576256499133448</td><td>142.6988983154297</td></tr>\n",
       "<tr><td>cable, satellite,...</td><td>b</td><td>11460.253999999999</td><td>0</td><td>2715.7</td><td>104.17</td><td>26.07</td><td>6438</td><td>15.956177986359188</td><td>0.005056179775280...</td><td>98.89</td><td>10142254217</td><td>0</td><td>0.30401763841254287</td><td>0.7375104079933389</td><td>36.930999755859375</td></tr>\n",
       "<tr><td>jewelry, watch, c...</td><td>b</td><td>8707.996000000001</td><td>2</td><td>1979.09</td><td>0.17</td><td>11874.56</td><td>6421</td><td>23.896671077076075</td><td>0.0</td><td>0.17</td><td>10165489824</td><td>0</td><td>0.27759516139635787</td><td>0.5837680097854485</td><td>29.307025909423828</td></tr>\n",
       "</table>\n"
      ],
      "text/plain": [
       "+--------------------+--------------+------------------+-----------------+------------------+-----------------+---------------+--------+------------------+--------------------+-----------------+------------+-----------+---------------------+------------------+--------------------+\n",
       "|          Store_type|Revenue_levels|         Take_rate|count_of_bigorder|Avg_amount_monthly|Avg_count_monthly|Order_avg_value|postcode|avg_prob_fraud_cus|       prob_of_fraud|count_cus_per_mon|merchant_abn|fix_cus_num|avg_income_percentage|avg_age_percentage|predict_dollar_value|\n",
       "+--------------------+--------------+------------------+-----------------+------------------+-----------------+---------------+--------+------------------+--------------------+-----------------+------------+-----------+---------------------+------------------+--------------------+\n",
       "|furniture, home f...|             e|3795.4763999999996|                0|          21085.98|           117.83|         178.95|    2388|15.755309718035436| 0.00399800099950025|           111.17| 10023283211|          0|   0.2217391304347826|0.5576256499133448|   142.6988983154297|\n",
       "|cable, satellite,...|             b|11460.253999999999|                0|            2715.7|           104.17|          26.07|    6438|15.956177986359188|0.005056179775280...|            98.89| 10142254217|          0|  0.30401763841254287|0.7375104079933389|  36.930999755859375|\n",
       "|jewelry, watch, c...|             b| 8707.996000000001|                2|           1979.09|             0.17|       11874.56|    6421|23.896671077076075|                 0.0|             0.17| 10165489824|          0|  0.27759516139635787|0.5837680097854485|  29.307025909423828|\n",
       "+--------------------+--------------+------------------+-----------------+------------------+-----------------+---------------+--------+------------------+--------------------+-----------------+------------+-----------+---------------------+------------------+--------------------+"
      ]
     },
     "execution_count": 4,
     "metadata": {},
     "output_type": "execute_result"
    }
   ],
   "source": [
    "final.limit(3)"
   ]
  },
  {
   "cell_type": "code",
   "execution_count": 5,
   "metadata": {},
   "outputs": [],
   "source": [
    "# Input origginal dataframe, return new dataframe that mapping numeric and ordinal data to 0-100 \n",
    "# in order to make all the features in same scale for calculating the score\n",
    "def get_map_df(unsort_df, col_list_1):\n",
    "    max_list = []\n",
    "    min_list = []\n",
    "    # Calculate max and min value in each numeric features\n",
    "    for i in col_list_1:\n",
    "        max_num = float(final.agg({i: \"max\"}).collect()[0][0])\n",
    "        min_num = float(final.agg({i: \"min\"}).collect()[0][0])\n",
    "        max_list.append(max_num)\n",
    "        min_list.append(min_num)\n",
    "    # Map each feature to 0-100\n",
    "    for i in range(0,12):\n",
    "        unsort_df = unsort_df.withColumn(col_list_1[i], (col(col_list_1[i]) - min_list[i])*100/(max_list[i]-min_list[i]))\n",
    "    # Times -1 to fraud features because for fraud less is better\n",
    "    unsort_df = unsort_df.withColumn('avg_prob_fraud_cus', (unsort_df.avg_prob_fraud_cus *(-1))) \\\n",
    "        .withColumn('prob_of_fraud', (unsort_df.prob_of_fraud*(-1)))\n",
    "    unsort_df = unsort_df.select('merchant_abn','Store_type', 'Revenue_levels', 'Take_rate', \\\n",
    "        'count_of_bigorder', 'Avg_amount_monthly', 'Avg_count_monthly', 'Order_avg_value',\t\\\n",
    "        'avg_prob_fraud_cus', 'prob_of_fraud', 'count_cus_per_mon', 'fix_cus_num', \\\n",
    "        'avg_income_percentage', 'avg_age_percentage','predict_dollar_value')\n",
    "    # Assign a value to the each revenue level, also in the range 0-100\n",
    "    reve_list = ['a', 'b', 'c', 'd', 'e']\n",
    "    reve_num = [0, 25, 50, 75, 100]\n",
    "    for i in range(len(reve_list)):\n",
    "        unsort_df = unsort_df.withColumn('Revenue_levels', when(col('Revenue_levels') == reve_list[i], reve_num[i]).otherwise(col('Revenue_levels')))\n",
    "    return unsort_df"
   ]
  },
  {
   "cell_type": "code",
   "execution_count": 6,
   "metadata": {},
   "outputs": [],
   "source": [
    "# final_1 is the dataframe after mapping\n",
    "final_1 = get_map_df(final, col_list_1)"
   ]
  },
  {
   "cell_type": "markdown",
   "metadata": {},
   "source": [
    "### Baseline Model"
   ]
  },
  {
   "cell_type": "code",
   "execution_count": 7,
   "metadata": {},
   "outputs": [],
   "source": [
    "# purely add all the scores together without weighting as baseline\n",
    "pure_add = final_1.withColumn('pure_add_score',reduce(add, [F.col(x) for x in final_1.columns[2:15]]))\n",
    "pure_add_rank = pure_add.sort(pure_add.pure_add_score.desc())"
   ]
  },
  {
   "cell_type": "code",
   "execution_count": 8,
   "metadata": {},
   "outputs": [
    {
     "data": {
      "text/html": [
       "<table border='1'>\n",
       "<tr><th>merchant_abn</th><th>Store_type</th><th>Revenue_levels</th><th>Take_rate</th><th>count_of_bigorder</th><th>Avg_amount_monthly</th><th>Avg_count_monthly</th><th>Order_avg_value</th><th>avg_prob_fraud_cus</th><th>prob_of_fraud</th><th>count_cus_per_mon</th><th>fix_cus_num</th><th>avg_income_percentage</th><th>avg_age_percentage</th><th>predict_dollar_value</th><th>pure_add_score</th></tr>\n",
       "<tr><td>24852446429</td><td>florists supplies...</td><td>50</td><td>31.63246698074998</td><td>0.0</td><td>64.93905829985881</td><td>96.61908031223416</td><td>0.036050652902386016</td><td>-8.515757029502156</td><td>-0.4074534161490683</td><td>99.98569077770622</td><td>99.14878250103177</td><td>52.02931741035037</td><td>67.15831110113018</td><td>5.704521267340093</td><td>558.3300688576527</td></tr>\n",
       "<tr><td>64203420245</td><td>tent and awning s...</td><td>50</td><td>38.597423859332736</td><td>0.0</td><td>81.46057277941684</td><td>100.0</td><td>0.045805535452443404</td><td>-8.515942727507571</td><td>-0.4073926868044515</td><td>100.0</td><td>100.0</td><td>32.77999166601939</td><td>56.78988503398783</td><td>5.706711918291284</td><td>556.4570553781884</td></tr>\n",
       "<tr><td>49891706470</td><td>tent and awning s...</td><td>0</td><td>74.08777025492307</td><td>0.0</td><td>77.10084124650936</td><td>94.72489216578857</td><td>0.045766978604419466</td><td>-8.516445437031965</td><td>-0.4074534161490683</td><td>99.98569077770622</td><td>98.38010730499381</td><td>32.77999166601939</td><td>56.78988503398783</td><td>5.723079183129754</td><td>530.6941257584814</td></tr>\n",
       "<tr><td>86578477987</td><td>watch, clock, and...</td><td>0</td><td>75.4894451865309</td><td>0.0</td><td>70.86012404562787</td><td>90.94491126998105</td><td>0.043395732450947015</td><td>-8.514694327549998</td><td>-0.4074331710225578</td><td>99.99016240967303</td><td>97.41023524556336</td><td>32.77999166601939</td><td>56.78988503398783</td><td>5.824660754111644</td><td>521.2106838453734</td></tr>\n",
       "<tr><td>43186523025</td><td>florists supplies...</td><td>25</td><td>53.214050581540704</td><td>0.0</td><td>71.85393720684161</td><td>67.54302174594407</td><td>0.06288621912704982</td><td>-8.518055429014124</td><td>-0.4080007960991143</td><td>99.85154181870215</td><td>80.42199752373091</td><td>36.9926513640861</td><td>54.332438369538686</td><td>5.81587419744553</td><td>486.1623428018436</td></tr>\n",
       "<tr><td>89726005175</td><td>tent and awning s...</td><td>0</td><td>70.56382161892961</td><td>0.0</td><td>70.86548168471381</td><td>72.61906538708377</td><td>0.05685207241130286</td><td>-8.513617942528438</td><td>-0.4076762454012131</td><td>99.93024254131788</td><td>85.62216260833678</td><td>32.77999166601939</td><td>56.78988503398783</td><td>5.78488757486859</td><td>486.09109599973937</td></tr>\n",
       "<tr><td>64403598239</td><td>music shops - mus...</td><td>0</td><td>100.0</td><td>0.0</td><td>95.66210084636779</td><td>43.4985112162505</td><td>0.14063610316732938</td><td>-8.508302420256879</td><td>-0.403368123834014</td><td>98.5341990412821</td><td>42.07078002476269</td><td>36.9926513640861</td><td>54.332438369538686</td><td>5.8530141215530325</td><td>468.17266054291736</td></tr>\n",
       "<tr><td>46804135891</td><td>opticians, optica...</td><td>50</td><td>21.27721909227452</td><td>0.0</td><td>43.82131979503459</td><td>77.02254443963523</td><td>0.02899474971400458</td><td>-8.517276461187056</td><td>-0.40769651469199025</td><td>99.92577090935109</td><td>89.23854725546843</td><td>32.77999166601939</td><td>56.78988503398783</td><td>5.728513805708602</td><td>467.6878137713146</td></tr>\n",
       "<tr><td>45629217853</td><td>gift, card, novel...</td><td>0</td><td>60.55158772943581</td><td>0.0</td><td>52.35257740389978</td><td>74.97966448261967</td><td>0.03784354633549933</td><td>-8.51413612938101</td><td>-0.40759518838850783</td><td>99.95081204836518</td><td>87.88175815105241</td><td>30.615285941352266</td><td>62.39168007180277</td><td>5.739301974271463</td><td>465.57878003136534</td></tr>\n",
       "<tr><td>60956456424</td><td>gift, card, novel...</td><td>25</td><td>67.18551883563603</td><td>0.0</td><td>86.4691327896888</td><td>34.705079028671214</td><td>0.1606663857157674</td><td>-8.497809581724685</td><td>-0.40732147460685747</td><td>96.35830292623595</td><td>25.092860090796535</td><td>52.02931741035037</td><td>67.15831110113018</td><td>5.886602830284622</td><td>451.1406603421779</td></tr>\n",
       "<tr><td>68216911708</td><td>computers, comput...</td><td>50</td><td>24.628027104672366</td><td>0.0</td><td>48.72957114489044</td><td>59.921307144669484</td><td>0.04572842175639552</td><td>-8.522728900994142</td><td>-0.4086107235399641</td><td>99.70218931101095</td><td>70.79034255055716</td><td>32.77999166601939</td><td>56.78988503398783</td><td>5.778495862059169</td><td>440.2341986150891</td></tr>\n",
       "<tr><td>80324045558</td><td>gift, card, novel...</td><td>50</td><td>10.903412378830907</td><td>0.0</td><td>44.76220000733787</td><td>64.54763734869628</td><td>0.03753509155130779</td><td>-8.519085740653175</td><td>-0.40812263587497516</td><td>99.82113472132791</td><td>76.92942633099463</td><td>32.77999166601939</td><td>56.78988503398783</td><td>5.861219920262084</td><td>433.5052341224801</td></tr>\n",
       "<tr><td>19492220327</td><td>jewelry, watch, c...</td><td>25</td><td>52.79157317229449</td><td>100.0</td><td>64.6294891861439</td><td>0.29225310069998955</td><td>15.110660081671115</td><td>-11.590796562369448</td><td>-0.0</td><td>2.7518423123703224</td><td>0.0</td><td>54.94475276974021</td><td>80.54845980465815</td><td>32.48272732864141</td><td>416.96096119385015</td></tr>\n",
       "<tr><td>21439773999</td><td>cable, satellite,...</td><td>0</td><td>71.20748362207426</td><td>0.0</td><td>70.4566307914076</td><td>40.303036521842955</td><td>0.10977134632416362</td><td>-8.491235945703554</td><td>-0.4064834103958132</td><td>97.77938756528583</td><td>35.87494841106067</td><td>32.77999166601939</td><td>56.78988503398783</td><td>5.660617546349071</td><td>402.06403314825235</td></tr>\n",
       "<tr><td>79417999332</td><td>gift, card, novel...</td><td>25</td><td>57.83276176943814</td><td>0.0</td><td>70.5174452476205</td><td>33.26489530007015</td><td>0.13521886601996547</td><td>-8.535702430933128</td><td>-0.4079735591819872</td><td>96.20447878657794</td><td>22.637226578621544</td><td>30.615285941352266</td><td>62.39168007180277</td><td>5.871626006933598</td><td>395.5269425783218</td></tr>\n",
       "<tr><td>94493496784</td><td>gift, card, novel...</td><td>0</td><td>65.84158165673117</td><td>0.0</td><td>70.33607865938635</td><td>33.14362845330667</td><td>0.13537309341206127</td><td>-8.520741250541247</td><td>-0.40977229109393637</td><td>95.78235672891178</td><td>22.286421791167975</td><td>32.77999166601939</td><td>56.78988503398783</td><td>5.894176752976819</td><td>374.05898029426487</td></tr>\n",
       "<tr><td>63290521567</td><td>artist supply and...</td><td>0</td><td>29.210947545877282</td><td>0.0</td><td>27.19153898524162</td><td>59.55134997985105</td><td>0.0213026585332281</td><td>-8.523476351034866</td><td>-0.4089775561097257</td><td>99.6127566716749</td><td>70.37247214197276</td><td>32.77999166601939</td><td>56.78988503398783</td><td>5.743176262303037</td><td>372.34096703831653</td></tr>\n",
       "<tr><td>49322182190</td><td>watch, clock, and...</td><td>0</td><td>88.95310196995996</td><td>0.0</td><td>84.55526592497158</td><td>19.865934836793482</td><td>0.2815421042708264</td><td>-8.542628727268339</td><td>-0.4195559699318221</td><td>85.25881805823853</td><td>4.560462236896409</td><td>32.77999166601939</td><td>56.78988503398783</td><td>6.098086716758567</td><td>370.18090385069644</td></tr>\n",
       "<tr><td>32361057556</td><td>gift, card, novel...</td><td>0</td><td>82.1488344177972</td><td>0.0</td><td>75.01282222226833</td><td>28.86253563379651</td><td>0.16803074368834037</td><td>-8.544890537022923</td><td>-0.42386351594786476</td><td>93.7701223438506</td><td>15.146512587701197</td><td>23.555263724420485</td><td>52.166716822148665</td><td>5.746709553769096</td><td>367.6087939964697</td></tr>\n",
       "<tr><td>72472909171</td><td>digital goods: bo...</td><td>0</td><td>55.64355761196438</td><td>0.0</td><td>53.049695542966916</td><td>33.912180415217684</td><td>0.09718253544434646</td><td>-8.482098812527225</td><td>-0.39713239465676414</td><td>96.32879015525506</td><td>23.58646306231944</td><td>32.77999166601939</td><td>56.78988503398783</td><td>5.8610389120503665</td><td>349.1695537280415</td></tr>\n",
       "</table>\n",
       "only showing top 20 rows\n"
      ],
      "text/plain": [
       "+------------+--------------------+--------------+------------------+-----------------+------------------+-------------------+--------------------+-------------------+--------------------+------------------+------------------+---------------------+------------------+--------------------+------------------+\n",
       "|merchant_abn|          Store_type|Revenue_levels|         Take_rate|count_of_bigorder|Avg_amount_monthly|  Avg_count_monthly|     Order_avg_value| avg_prob_fraud_cus|       prob_of_fraud| count_cus_per_mon|       fix_cus_num|avg_income_percentage|avg_age_percentage|predict_dollar_value|    pure_add_score|\n",
       "+------------+--------------------+--------------+------------------+-----------------+------------------+-------------------+--------------------+-------------------+--------------------+------------------+------------------+---------------------+------------------+--------------------+------------------+\n",
       "| 24852446429|florists supplies...|            50| 31.63246698074998|              0.0| 64.93905829985881|  96.61908031223416|0.036050652902386016| -8.515757029502156| -0.4074534161490683| 99.98569077770622| 99.14878250103177|    52.02931741035037| 67.15831110113018|   5.704521267340093| 558.3300688576527|\n",
       "| 64203420245|tent and awning s...|            50|38.597423859332736|              0.0| 81.46057277941684|              100.0|0.045805535452443404| -8.515942727507571| -0.4073926868044515|             100.0|             100.0|    32.77999166601939| 56.78988503398783|   5.706711918291284| 556.4570553781884|\n",
       "| 49891706470|tent and awning s...|             0| 74.08777025492307|              0.0| 77.10084124650936|  94.72489216578857|0.045766978604419466| -8.516445437031965| -0.4074534161490683| 99.98569077770622| 98.38010730499381|    32.77999166601939| 56.78988503398783|   5.723079183129754| 530.6941257584814|\n",
       "| 86578477987|watch, clock, and...|             0|  75.4894451865309|              0.0| 70.86012404562787|  90.94491126998105|0.043395732450947015| -8.514694327549998| -0.4074331710225578| 99.99016240967303| 97.41023524556336|    32.77999166601939| 56.78988503398783|   5.824660754111644| 521.2106838453734|\n",
       "| 43186523025|florists supplies...|            25|53.214050581540704|              0.0| 71.85393720684161|  67.54302174594407| 0.06288621912704982| -8.518055429014124| -0.4080007960991143| 99.85154181870215| 80.42199752373091|     36.9926513640861|54.332438369538686|    5.81587419744553| 486.1623428018436|\n",
       "| 89726005175|tent and awning s...|             0| 70.56382161892961|              0.0| 70.86548168471381|  72.61906538708377| 0.05685207241130286| -8.513617942528438| -0.4076762454012131| 99.93024254131788| 85.62216260833678|    32.77999166601939| 56.78988503398783|    5.78488757486859|486.09109599973937|\n",
       "| 64403598239|music shops - mus...|             0|             100.0|              0.0| 95.66210084636779|   43.4985112162505| 0.14063610316732938| -8.508302420256879|  -0.403368123834014|  98.5341990412821| 42.07078002476269|     36.9926513640861|54.332438369538686|  5.8530141215530325|468.17266054291736|\n",
       "| 46804135891|opticians, optica...|            50| 21.27721909227452|              0.0| 43.82131979503459|  77.02254443963523| 0.02899474971400458| -8.517276461187056|-0.40769651469199025| 99.92577090935109| 89.23854725546843|    32.77999166601939| 56.78988503398783|   5.728513805708602| 467.6878137713146|\n",
       "| 45629217853|gift, card, novel...|             0| 60.55158772943581|              0.0| 52.35257740389978|  74.97966448261967| 0.03784354633549933|  -8.51413612938101|-0.40759518838850783| 99.95081204836518| 87.88175815105241|   30.615285941352266| 62.39168007180277|   5.739301974271463|465.57878003136534|\n",
       "| 60956456424|gift, card, novel...|            25| 67.18551883563603|              0.0|  86.4691327896888| 34.705079028671214|  0.1606663857157674| -8.497809581724685|-0.40732147460685747| 96.35830292623595|25.092860090796535|    52.02931741035037| 67.15831110113018|   5.886602830284622| 451.1406603421779|\n",
       "| 68216911708|computers, comput...|            50|24.628027104672366|              0.0| 48.72957114489044| 59.921307144669484| 0.04572842175639552| -8.522728900994142| -0.4086107235399641| 99.70218931101095| 70.79034255055716|    32.77999166601939| 56.78988503398783|   5.778495862059169| 440.2341986150891|\n",
       "| 80324045558|gift, card, novel...|            50|10.903412378830907|              0.0| 44.76220000733787|  64.54763734869628| 0.03753509155130779| -8.519085740653175|-0.40812263587497516| 99.82113472132791| 76.92942633099463|    32.77999166601939| 56.78988503398783|   5.861219920262084| 433.5052341224801|\n",
       "| 19492220327|jewelry, watch, c...|            25| 52.79157317229449|            100.0|  64.6294891861439|0.29225310069998955|  15.110660081671115|-11.590796562369448|                -0.0|2.7518423123703224|               0.0|    54.94475276974021| 80.54845980465815|   32.48272732864141|416.96096119385015|\n",
       "| 21439773999|cable, satellite,...|             0| 71.20748362207426|              0.0|  70.4566307914076| 40.303036521842955| 0.10977134632416362| -8.491235945703554| -0.4064834103958132| 97.77938756528583| 35.87494841106067|    32.77999166601939| 56.78988503398783|   5.660617546349071|402.06403314825235|\n",
       "| 79417999332|gift, card, novel...|            25| 57.83276176943814|              0.0|  70.5174452476205|  33.26489530007015| 0.13521886601996547| -8.535702430933128| -0.4079735591819872| 96.20447878657794|22.637226578621544|   30.615285941352266| 62.39168007180277|   5.871626006933598| 395.5269425783218|\n",
       "| 94493496784|gift, card, novel...|             0| 65.84158165673117|              0.0| 70.33607865938635|  33.14362845330667| 0.13537309341206127| -8.520741250541247|-0.40977229109393637| 95.78235672891178|22.286421791167975|    32.77999166601939| 56.78988503398783|   5.894176752976819|374.05898029426487|\n",
       "| 63290521567|artist supply and...|             0|29.210947545877282|              0.0| 27.19153898524162|  59.55134997985105|  0.0213026585332281| -8.523476351034866| -0.4089775561097257|  99.6127566716749| 70.37247214197276|    32.77999166601939| 56.78988503398783|   5.743176262303037|372.34096703831653|\n",
       "| 49322182190|watch, clock, and...|             0| 88.95310196995996|              0.0| 84.55526592497158| 19.865934836793482|  0.2815421042708264| -8.542628727268339| -0.4195559699318221| 85.25881805823853| 4.560462236896409|    32.77999166601939| 56.78988503398783|   6.098086716758567|370.18090385069644|\n",
       "| 32361057556|gift, card, novel...|             0|  82.1488344177972|              0.0| 75.01282222226833|  28.86253563379651| 0.16803074368834037| -8.544890537022923|-0.42386351594786476|  93.7701223438506|15.146512587701197|   23.555263724420485|52.166716822148665|   5.746709553769096| 367.6087939964697|\n",
       "| 72472909171|digital goods: bo...|             0| 55.64355761196438|              0.0|53.049695542966916| 33.912180415217684| 0.09718253544434646| -8.482098812527225|-0.39713239465676414| 96.32879015525506| 23.58646306231944|    32.77999166601939| 56.78988503398783|  5.8610389120503665| 349.1695537280415|\n",
       "+------------+--------------------+--------------+------------------+-----------------+------------------+-------------------+--------------------+-------------------+--------------------+------------------+------------------+---------------------+------------------+--------------------+------------------+\n",
       "only showing top 20 rows"
      ]
     },
     "execution_count": 8,
     "metadata": {},
     "output_type": "execute_result"
    }
   ],
   "source": [
    "pure_add_rank"
   ]
  },
  {
   "cell_type": "markdown",
   "metadata": {},
   "source": [
    "### Entropy Model"
   ]
  },
  {
   "cell_type": "code",
   "execution_count": 9,
   "metadata": {},
   "outputs": [],
   "source": [
    "# All the features' name list without 2 categorical features which are useless for ranking\n",
    "col_list_2 = final_1.columns\n",
    "del_col_list = ['Store_type', 'merchant_abn']\n",
    "\n",
    "for i in del_col_list:\n",
    "    col_list_2.remove(i)"
   ]
  },
  {
   "cell_type": "code",
   "execution_count": 10,
   "metadata": {},
   "outputs": [],
   "source": [
    "# Input the mapped dataframe and return the entropy of each feature as list\n",
    "def get_entropy(df,col_list_2):\n",
    "    sum_num_list = []\n",
    "    for i in col_list_2:\n",
    "        sum_num = float(df.agg({i: \"sum\"}).collect()[0][0])\n",
    "        sum_num_list.append(sum_num)\n",
    "    for i in range(0,len(sum_num_list)):\n",
    "        df = df.withColumn(col_list_2[i], (col(col_list_2[i])/sum_num_list[i]))\n",
    "\n",
    "    k = 1/np.log(df.count())\n",
    "\n",
    "    for i in col_list_2:\n",
    "        df = df.withColumn(i, when((col(i) != 0), (col(i) * log(col(i)) *(-k))).otherwise(0))\n",
    "    \n",
    "    weight_num = []\n",
    "    for i in col_list_2:\n",
    "        a = 1 - float(df.agg({i: \"sum\"}).collect()[0][0])\n",
    "        weight_num.append(a)\n",
    "\n",
    "    entropy = []\n",
    "    total = sum(weight_num)\n",
    "    for i in weight_num:\n",
    "        a = i/total\n",
    "        entropy.append(a)\n",
    "    return entropy"
   ]
  },
  {
   "cell_type": "code",
   "execution_count": 11,
   "metadata": {},
   "outputs": [],
   "source": [
    "# Return the the dataframe with the scores sorted of 4026 companies that weighted by entropy\n",
    "# Link about how to calculate the entropy https://www.hindawi.com/journals/mpe/2020/3564835/\n",
    "def get_rank_df(unsort_df,col_list_1,col_list_2):\n",
    "    unsort_map = get_map_df(unsort_df, col_list_1)\n",
    "    unsort_entropy = unsort_map.withColumn('avg_prob_fraud_cus', (unsort_map.avg_prob_fraud_cus *(-1)))\\\n",
    "    .withColumn('prob_of_fraud', (unsort_map.prob_of_fraud*(-1)))\n",
    "    entropy = get_entropy(unsort_entropy,col_list_2)\n",
    "    # Use the entropy weight to add the sum scores\n",
    "    unsorted_entropy_score = unsort_map.withColumn('entropy_score', unsort_map.Revenue_levels * entropy[0]*13+unsort_map.Take_rate * entropy[1]*13 + unsort_map.count_of_bigorder * entropy[2]*13 +\\\n",
    "                            unsort_map.Avg_amount_monthly *entropy[3]*13+ unsort_map.Avg_count_monthly *entropy[4]*13 +\\\n",
    "                            unsort_map.Order_avg_value *entropy[5]*13 + unsort_map.avg_prob_fraud_cus * entropy[6]*13+ unsort_map.prob_of_fraud * entropy[7]*13+\\\n",
    "                            unsort_map.count_cus_per_mon * entropy[8]*13 + unsort_map.fix_cus_num  * entropy[9]*13+\\\n",
    "                            unsort_map.avg_income_percentage * entropy[10]*13 + unsort_map.avg_age_percentage * entropy[11]*13 +\\\n",
    "                                unsort_map.predict_dollar_value * entropy[12]*13)\n",
    "    # Rank all the scores\n",
    "    sorted_entropy_rank_pd = unsorted_entropy_score.toPandas()\n",
    "    sorted_entropy_rank_pd['entropy_rank'] = sorted_entropy_rank_pd.entropy_score.rank(axis=0,method='min', ascending=False)\n",
    "    sorted_entropy_rank_pd['entropy_rank'] = sorted_entropy_rank_pd.entropy_rank.astype(int)\n",
    "    sorted_entropy = spark.createDataFrame(sorted_entropy_rank_pd)\n",
    "    sorted_entropy = sorted_entropy.sort(sorted_entropy.entropy_rank)\n",
    "    return sorted_entropy"
   ]
  },
  {
   "cell_type": "code",
   "execution_count": 12,
   "metadata": {},
   "outputs": [
    {
     "name": "stderr",
     "output_type": "stream",
     "text": [
      "                                                                                \r"
     ]
    },
    {
     "data": {
      "text/html": [
       "<table border='1'>\n",
       "<tr><th>merchant_abn</th><th>Store_type</th><th>Revenue_levels</th><th>Take_rate</th><th>count_of_bigorder</th><th>Avg_amount_monthly</th><th>Avg_count_monthly</th><th>Order_avg_value</th><th>avg_prob_fraud_cus</th><th>prob_of_fraud</th><th>count_cus_per_mon</th><th>fix_cus_num</th><th>avg_income_percentage</th><th>avg_age_percentage</th><th>predict_dollar_value</th><th>entropy_score</th><th>entropy_rank</th></tr>\n",
       "<tr><td>64203420245</td><td>tent and awning s...</td><td>50</td><td>38.597423859332736</td><td>0.0</td><td>81.46057277941684</td><td>100.0</td><td>0.045805535452443404</td><td>-8.515942727507571</td><td>-0.4073926868044515</td><td>100.0</td><td>100.0</td><td>32.77999166601939</td><td>56.78988503398783</td><td>5.706711918291284</td><td>700.9795187642497</td><td>1</td></tr>\n",
       "<tr><td>49891706470</td><td>tent and awning s...</td><td>0</td><td>74.08777025492307</td><td>0.0</td><td>77.10084124650936</td><td>94.72489216578857</td><td>0.045766978604419466</td><td>-8.516445437031965</td><td>-0.4074534161490683</td><td>99.98569077770622</td><td>98.38010730499381</td><td>32.77999166601939</td><td>56.78988503398783</td><td>5.723079183129754</td><td>694.606215768148</td><td>2</td></tr>\n",
       "<tr><td>86578477987</td><td>watch, clock, and...</td><td>0</td><td>75.4894451865309</td><td>0.0</td><td>70.86012404562787</td><td>90.94491126998105</td><td>0.043395732450947015</td><td>-8.514694327549998</td><td>-0.4074331710225578</td><td>99.99016240967303</td><td>97.41023524556336</td><td>32.77999166601939</td><td>56.78988503398783</td><td>5.824660754111644</td><td>682.3089686987938</td><td>3</td></tr>\n",
       "<tr><td>24852446429</td><td>florists supplies...</td><td>50</td><td>31.63246698074998</td><td>0.0</td><td>64.93905829985881</td><td>96.61908031223416</td><td>0.036050652902386016</td><td>-8.515757029502156</td><td>-0.4074534161490683</td><td>99.98569077770622</td><td>99.14878250103177</td><td>52.02931741035037</td><td>67.15831110113018</td><td>5.704521267340093</td><td>674.7182970597565</td><td>4</td></tr>\n",
       "<tr><td>89726005175</td><td>tent and awning s...</td><td>0</td><td>70.56382161892961</td><td>0.0</td><td>70.86548168471381</td><td>72.61906538708377</td><td>0.05685207241130286</td><td>-8.513617942528438</td><td>-0.4076762454012131</td><td>99.93024254131788</td><td>85.62216260833678</td><td>32.77999166601939</td><td>56.78988503398783</td><td>5.78488757486859</td><td>611.3319202469546</td><td>5</td></tr>\n",
       "<tr><td>45629217853</td><td>gift, card, novel...</td><td>0</td><td>60.55158772943581</td><td>0.0</td><td>52.35257740389978</td><td>74.97966448261967</td><td>0.03784354633549933</td><td>-8.51413612938101</td><td>-0.40759518838850783</td><td>99.95081204836518</td><td>87.88175815105241</td><td>30.615285941352266</td><td>62.39168007180277</td><td>5.739301974271463</td><td>598.519088100186</td><td>6</td></tr>\n",
       "<tr><td>46804135891</td><td>opticians, optica...</td><td>50</td><td>21.27721909227452</td><td>0.0</td><td>43.82131979503459</td><td>77.02254443963523</td><td>0.02899474971400458</td><td>-8.517276461187056</td><td>-0.40769651469199025</td><td>99.92577090935109</td><td>89.23854725546843</td><td>32.77999166601939</td><td>56.78988503398783</td><td>5.728513805708602</td><td>585.8288036893797</td><td>7</td></tr>\n",
       "<tr><td>43186523025</td><td>florists supplies...</td><td>25</td><td>53.214050581540704</td><td>0.0</td><td>71.85393720684161</td><td>67.54302174594407</td><td>0.06288621912704982</td><td>-8.518055429014124</td><td>-0.4080007960991143</td><td>99.85154181870215</td><td>80.42199752373091</td><td>36.9926513640861</td><td>54.332438369538686</td><td>5.81587419744553</td><td>582.1055601779414</td><td>8</td></tr>\n",
       "<tr><td>80324045558</td><td>gift, card, novel...</td><td>50</td><td>10.903412378830907</td><td>0.0</td><td>44.76220000733787</td><td>64.54763734869628</td><td>0.03753509155130779</td><td>-8.519085740653175</td><td>-0.40812263587497516</td><td>99.82113472132791</td><td>76.92942633099463</td><td>32.77999166601939</td><td>56.78988503398783</td><td>5.861219920262084</td><td>516.3950096363969</td><td>9</td></tr>\n",
       "<tr><td>68216911708</td><td>computers, comput...</td><td>50</td><td>24.628027104672366</td><td>0.0</td><td>48.72957114489044</td><td>59.921307144669484</td><td>0.04572842175639552</td><td>-8.522728900994142</td><td>-0.4086107235399641</td><td>99.70218931101095</td><td>70.79034255055716</td><td>32.77999166601939</td><td>56.78988503398783</td><td>5.778495862059169</td><td>503.2419972339768</td><td>10</td></tr>\n",
       "<tr><td>63290521567</td><td>artist supply and...</td><td>0</td><td>29.210947545877282</td><td>0.0</td><td>27.19153898524162</td><td>59.55134997985105</td><td>0.0213026585332281</td><td>-8.523476351034866</td><td>-0.4089775561097257</td><td>99.6127566716749</td><td>70.37247214197276</td><td>32.77999166601939</td><td>56.78988503398783</td><td>5.743176262303037</td><td>466.1333332264225</td><td>11</td></tr>\n",
       "<tr><td>64403598239</td><td>music shops - mus...</td><td>0</td><td>100.0</td><td>0.0</td><td>95.66210084636779</td><td>43.4985112162505</td><td>0.14063610316732938</td><td>-8.508302420256879</td><td>-0.403368123834014</td><td>98.5341990412821</td><td>42.07078002476269</td><td>36.9926513640861</td><td>54.332438369538686</td><td>5.8530141215530325</td><td>460.0793239604429</td><td>12</td></tr>\n",
       "<tr><td>19492220327</td><td>jewelry, watch, c...</td><td>25</td><td>52.79157317229449</td><td>100.0</td><td>64.6294891861439</td><td>0.29225310069998955</td><td>15.110660081671115</td><td>-11.590796562369448</td><td>-0.0</td><td>2.7518423123703224</td><td>0.0</td><td>54.94475276974021</td><td>80.54845980465815</td><td>32.48272732864141</td><td>429.302992095816</td><td>13</td></tr>\n",
       "<tr><td>21439773999</td><td>cable, satellite,...</td><td>0</td><td>71.20748362207426</td><td>0.0</td><td>70.4566307914076</td><td>40.303036521842955</td><td>0.10977134632416362</td><td>-8.491235945703554</td><td>-0.4064834103958132</td><td>97.77938756528583</td><td>35.87494841106067</td><td>32.77999166601939</td><td>56.78988503398783</td><td>5.660617546349071</td><td>386.39678124955</td><td>14</td></tr>\n",
       "<tr><td>60956456424</td><td>gift, card, novel...</td><td>25</td><td>67.18551883563603</td><td>0.0</td><td>86.4691327896888</td><td>34.705079028671214</td><td>0.1606663857157674</td><td>-8.497809581724685</td><td>-0.40732147460685747</td><td>96.35830292623595</td><td>25.092860090796535</td><td>52.02931741035037</td><td>67.15831110113018</td><td>5.886602830284622</td><td>359.91626782933884</td><td>15</td></tr>\n",
       "<tr><td>90918180829</td><td>jewelry, watch, c...</td><td>50</td><td>19.592858781693046</td><td>78.48837209302326</td><td>45.1278588749541</td><td>0.1979448067939285</td><td>15.568117805051179</td><td>-12.658051003867609</td><td>-0.0</td><td>1.8977606067110255</td><td>0.0</td><td>30.6008409687829</td><td>55.513972055888225</td><td>28.789647325462514</td><td>328.84173819482584</td><td>16</td></tr>\n",
       "<tr><td>79417999332</td><td>gift, card, novel...</td><td>25</td><td>57.83276176943814</td><td>0.0</td><td>70.5174452476205</td><td>33.26489530007015</td><td>0.13521886601996547</td><td>-8.535702430933128</td><td>-0.4079735591819872</td><td>96.20447878657794</td><td>22.637226578621544</td><td>30.615285941352266</td><td>62.39168007180277</td><td>5.871626006933598</td><td>326.5712588580523</td><td>17</td></tr>\n",
       "<tr><td>94493496784</td><td>gift, card, novel...</td><td>0</td><td>65.84158165673117</td><td>0.0</td><td>70.33607865938635</td><td>33.14362845330667</td><td>0.13537309341206127</td><td>-8.520741250541247</td><td>-0.40977229109393637</td><td>95.78235672891178</td><td>22.286421791167975</td><td>32.77999166601939</td><td>56.78988503398783</td><td>5.894176752976819</td><td>321.0718215916151</td><td>18</td></tr>\n",
       "<tr><td>32361057556</td><td>gift, card, novel...</td><td>0</td><td>82.1488344177972</td><td>0.0</td><td>75.01282222226833</td><td>28.86253563379651</td><td>0.16803074368834037</td><td>-8.544890537022923</td><td>-0.42386351594786476</td><td>93.7701223438506</td><td>15.146512587701197</td><td>23.555263724420485</td><td>52.166716822148665</td><td>5.746709553769096</td><td>305.538879367458</td><td>19</td></tr>\n",
       "<tr><td>72472909171</td><td>digital goods: bo...</td><td>0</td><td>55.64355761196438</td><td>0.0</td><td>53.049695542966916</td><td>33.912180415217684</td><td>0.09718253544434646</td><td>-8.482098812527225</td><td>-0.39713239465676414</td><td>96.32879015525506</td><td>23.58646306231944</td><td>32.77999166601939</td><td>56.78988503398783</td><td>5.8610389120503665</td><td>304.024596906178</td><td>20</td></tr>\n",
       "</table>\n",
       "only showing top 20 rows\n"
      ],
      "text/plain": [
       "+------------+--------------------+--------------+------------------+-----------------+------------------+-------------------+--------------------+-------------------+--------------------+------------------+------------------+---------------------+------------------+--------------------+------------------+------------+\n",
       "|merchant_abn|          Store_type|Revenue_levels|         Take_rate|count_of_bigorder|Avg_amount_monthly|  Avg_count_monthly|     Order_avg_value| avg_prob_fraud_cus|       prob_of_fraud| count_cus_per_mon|       fix_cus_num|avg_income_percentage|avg_age_percentage|predict_dollar_value|     entropy_score|entropy_rank|\n",
       "+------------+--------------------+--------------+------------------+-----------------+------------------+-------------------+--------------------+-------------------+--------------------+------------------+------------------+---------------------+------------------+--------------------+------------------+------------+\n",
       "| 64203420245|tent and awning s...|            50|38.597423859332736|              0.0| 81.46057277941684|              100.0|0.045805535452443404| -8.515942727507571| -0.4073926868044515|             100.0|             100.0|    32.77999166601939| 56.78988503398783|   5.706711918291284| 700.9795187642497|           1|\n",
       "| 49891706470|tent and awning s...|             0| 74.08777025492307|              0.0| 77.10084124650936|  94.72489216578857|0.045766978604419466| -8.516445437031965| -0.4074534161490683| 99.98569077770622| 98.38010730499381|    32.77999166601939| 56.78988503398783|   5.723079183129754|  694.606215768148|           2|\n",
       "| 86578477987|watch, clock, and...|             0|  75.4894451865309|              0.0| 70.86012404562787|  90.94491126998105|0.043395732450947015| -8.514694327549998| -0.4074331710225578| 99.99016240967303| 97.41023524556336|    32.77999166601939| 56.78988503398783|   5.824660754111644| 682.3089686987938|           3|\n",
       "| 24852446429|florists supplies...|            50| 31.63246698074998|              0.0| 64.93905829985881|  96.61908031223416|0.036050652902386016| -8.515757029502156| -0.4074534161490683| 99.98569077770622| 99.14878250103177|    52.02931741035037| 67.15831110113018|   5.704521267340093| 674.7182970597565|           4|\n",
       "| 89726005175|tent and awning s...|             0| 70.56382161892961|              0.0| 70.86548168471381|  72.61906538708377| 0.05685207241130286| -8.513617942528438| -0.4076762454012131| 99.93024254131788| 85.62216260833678|    32.77999166601939| 56.78988503398783|    5.78488757486859| 611.3319202469546|           5|\n",
       "| 45629217853|gift, card, novel...|             0| 60.55158772943581|              0.0| 52.35257740389978|  74.97966448261967| 0.03784354633549933|  -8.51413612938101|-0.40759518838850783| 99.95081204836518| 87.88175815105241|   30.615285941352266| 62.39168007180277|   5.739301974271463|  598.519088100186|           6|\n",
       "| 46804135891|opticians, optica...|            50| 21.27721909227452|              0.0| 43.82131979503459|  77.02254443963523| 0.02899474971400458| -8.517276461187056|-0.40769651469199025| 99.92577090935109| 89.23854725546843|    32.77999166601939| 56.78988503398783|   5.728513805708602| 585.8288036893797|           7|\n",
       "| 43186523025|florists supplies...|            25|53.214050581540704|              0.0| 71.85393720684161|  67.54302174594407| 0.06288621912704982| -8.518055429014124| -0.4080007960991143| 99.85154181870215| 80.42199752373091|     36.9926513640861|54.332438369538686|    5.81587419744553| 582.1055601779414|           8|\n",
       "| 80324045558|gift, card, novel...|            50|10.903412378830907|              0.0| 44.76220000733787|  64.54763734869628| 0.03753509155130779| -8.519085740653175|-0.40812263587497516| 99.82113472132791| 76.92942633099463|    32.77999166601939| 56.78988503398783|   5.861219920262084| 516.3950096363969|           9|\n",
       "| 68216911708|computers, comput...|            50|24.628027104672366|              0.0| 48.72957114489044| 59.921307144669484| 0.04572842175639552| -8.522728900994142| -0.4086107235399641| 99.70218931101095| 70.79034255055716|    32.77999166601939| 56.78988503398783|   5.778495862059169| 503.2419972339768|          10|\n",
       "| 63290521567|artist supply and...|             0|29.210947545877282|              0.0| 27.19153898524162|  59.55134997985105|  0.0213026585332281| -8.523476351034866| -0.4089775561097257|  99.6127566716749| 70.37247214197276|    32.77999166601939| 56.78988503398783|   5.743176262303037| 466.1333332264225|          11|\n",
       "| 64403598239|music shops - mus...|             0|             100.0|              0.0| 95.66210084636779|   43.4985112162505| 0.14063610316732938| -8.508302420256879|  -0.403368123834014|  98.5341990412821| 42.07078002476269|     36.9926513640861|54.332438369538686|  5.8530141215530325| 460.0793239604429|          12|\n",
       "| 19492220327|jewelry, watch, c...|            25| 52.79157317229449|            100.0|  64.6294891861439|0.29225310069998955|  15.110660081671115|-11.590796562369448|                -0.0|2.7518423123703224|               0.0|    54.94475276974021| 80.54845980465815|   32.48272732864141|  429.302992095816|          13|\n",
       "| 21439773999|cable, satellite,...|             0| 71.20748362207426|              0.0|  70.4566307914076| 40.303036521842955| 0.10977134632416362| -8.491235945703554| -0.4064834103958132| 97.77938756528583| 35.87494841106067|    32.77999166601939| 56.78988503398783|   5.660617546349071|   386.39678124955|          14|\n",
       "| 60956456424|gift, card, novel...|            25| 67.18551883563603|              0.0|  86.4691327896888| 34.705079028671214|  0.1606663857157674| -8.497809581724685|-0.40732147460685747| 96.35830292623595|25.092860090796535|    52.02931741035037| 67.15831110113018|   5.886602830284622|359.91626782933884|          15|\n",
       "| 90918180829|jewelry, watch, c...|            50|19.592858781693046|78.48837209302326|  45.1278588749541| 0.1979448067939285|  15.568117805051179|-12.658051003867609|                -0.0|1.8977606067110255|               0.0|     30.6008409687829|55.513972055888225|  28.789647325462514|328.84173819482584|          16|\n",
       "| 79417999332|gift, card, novel...|            25| 57.83276176943814|              0.0|  70.5174452476205|  33.26489530007015| 0.13521886601996547| -8.535702430933128| -0.4079735591819872| 96.20447878657794|22.637226578621544|   30.615285941352266| 62.39168007180277|   5.871626006933598| 326.5712588580523|          17|\n",
       "| 94493496784|gift, card, novel...|             0| 65.84158165673117|              0.0| 70.33607865938635|  33.14362845330667| 0.13537309341206127| -8.520741250541247|-0.40977229109393637| 95.78235672891178|22.286421791167975|    32.77999166601939| 56.78988503398783|   5.894176752976819| 321.0718215916151|          18|\n",
       "| 32361057556|gift, card, novel...|             0|  82.1488344177972|              0.0| 75.01282222226833|  28.86253563379651| 0.16803074368834037| -8.544890537022923|-0.42386351594786476|  93.7701223438506|15.146512587701197|   23.555263724420485|52.166716822148665|   5.746709553769096|  305.538879367458|          19|\n",
       "| 72472909171|digital goods: bo...|             0| 55.64355761196438|              0.0|53.049695542966916| 33.912180415217684| 0.09718253544434646| -8.482098812527225|-0.39713239465676414| 96.32879015525506| 23.58646306231944|    32.77999166601939| 56.78988503398783|  5.8610389120503665|  304.024596906178|          20|\n",
       "+------------+--------------------+--------------+------------------+-----------------+------------------+-------------------+--------------------+-------------------+--------------------+------------------+------------------+---------------------+------------------+--------------------+------------------+------------+\n",
       "only showing top 20 rows"
      ]
     },
     "execution_count": 12,
     "metadata": {},
     "output_type": "execute_result"
    }
   ],
   "source": [
    "# Sort the original dataframe use entropy weight method and the mapping method is min_max 0-100\n",
    "entropy_score = get_rank_df(final,col_list_1,col_list_2)\n",
    "entropy_score"
   ]
  },
  {
   "cell_type": "code",
   "execution_count": 13,
   "metadata": {},
   "outputs": [],
   "source": [
    "# Sort the original dataframe use subjective weight method and the mapping method is min_max 0-100\n",
    "# Subjective weighting\n",
    "self_weight_score = final_1.withColumn('weight_score', 0.05*13*final_1.Revenue_levels + 0.05*13*final_1.Take_rate + 0.025*13*final_1.count_of_bigorder +\\\n",
    "                            0.1*13*final_1.Avg_amount_monthly + 0.1*13*final_1.Avg_count_monthly +\\\n",
    "                            0.015*13*final_1.Order_avg_value + 0.25*13*final_1.avg_prob_fraud_cus + 0.25*13*final_1.prob_of_fraud +\\\n",
    "                            0.02*13*final_1.count_cus_per_mon + 0.09*13*final_1.fix_cus_num +\\\n",
    "                            0.01*13*final_1.avg_income_percentage + 0.01*13*final_1.avg_age_percentage + 0.03*13*final_1.predict_dollar_value )\n",
    "\n",
    "self_weight_score_pd = self_weight_score.toPandas()\n",
    "self_weight_score_pd['weight_score'] = self_weight_score_pd.weight_score.rank(axis=0,method='min', ascending=False)\n",
    "self_weight_score_pd['weight_score'] = self_weight_score_pd.weight_score.astype(int)\n",
    "unsorted_self_weight_score = spark.createDataFrame(self_weight_score_pd)\n",
    "sorted_self_weight_score= unsorted_self_weight_score.sort(unsorted_self_weight_score.weight_score)"
   ]
  },
  {
   "cell_type": "code",
   "execution_count": 14,
   "metadata": {},
   "outputs": [
    {
     "data": {
      "text/html": [
       "<table border='1'>\n",
       "<tr><th>merchant_abn</th><th>Store_type</th><th>Revenue_levels</th><th>Take_rate</th><th>count_of_bigorder</th><th>Avg_amount_monthly</th><th>Avg_count_monthly</th><th>Order_avg_value</th><th>avg_prob_fraud_cus</th><th>prob_of_fraud</th><th>count_cus_per_mon</th><th>fix_cus_num</th><th>avg_income_percentage</th><th>avg_age_percentage</th><th>predict_dollar_value</th><th>weight_score</th></tr>\n",
       "<tr><td>64203420245</td><td>tent and awning s...</td><td>50</td><td>38.597423859332736</td><td>0.0</td><td>81.46057277941684</td><td>100.0</td><td>0.045805535452443404</td><td>-8.515942727507571</td><td>-0.4073926868044515</td><td>100.0</td><td>100.0</td><td>32.77999166601939</td><td>56.78988503398783</td><td>5.706711918291284</td><td>1</td></tr>\n",
       "<tr><td>49891706470</td><td>tent and awning s...</td><td>0</td><td>74.08777025492307</td><td>0.0</td><td>77.10084124650936</td><td>94.72489216578857</td><td>0.045766978604419466</td><td>-8.516445437031965</td><td>-0.4074534161490683</td><td>99.98569077770622</td><td>98.38010730499381</td><td>32.77999166601939</td><td>56.78988503398783</td><td>5.723079183129754</td><td>2</td></tr>\n",
       "<tr><td>24852446429</td><td>florists supplies...</td><td>50</td><td>31.63246698074998</td><td>0.0</td><td>64.93905829985881</td><td>96.61908031223416</td><td>0.036050652902386016</td><td>-8.515757029502156</td><td>-0.4074534161490683</td><td>99.98569077770622</td><td>99.14878250103177</td><td>52.02931741035037</td><td>67.15831110113018</td><td>5.704521267340093</td><td>3</td></tr>\n",
       "<tr><td>86578477987</td><td>watch, clock, and...</td><td>0</td><td>75.4894451865309</td><td>0.0</td><td>70.86012404562787</td><td>90.94491126998105</td><td>0.043395732450947015</td><td>-8.514694327549998</td><td>-0.4074331710225578</td><td>99.99016240967303</td><td>97.41023524556336</td><td>32.77999166601939</td><td>56.78988503398783</td><td>5.824660754111644</td><td>4</td></tr>\n",
       "<tr><td>89726005175</td><td>tent and awning s...</td><td>0</td><td>70.56382161892961</td><td>0.0</td><td>70.86548168471381</td><td>72.61906538708377</td><td>0.05685207241130286</td><td>-8.513617942528438</td><td>-0.4076762454012131</td><td>99.93024254131788</td><td>85.62216260833678</td><td>32.77999166601939</td><td>56.78988503398783</td><td>5.78488757486859</td><td>5</td></tr>\n",
       "<tr><td>43186523025</td><td>florists supplies...</td><td>25</td><td>53.214050581540704</td><td>0.0</td><td>71.85393720684161</td><td>67.54302174594407</td><td>0.06288621912704982</td><td>-8.518055429014124</td><td>-0.4080007960991143</td><td>99.85154181870215</td><td>80.42199752373091</td><td>36.9926513640861</td><td>54.332438369538686</td><td>5.81587419744553</td><td>6</td></tr>\n",
       "<tr><td>45629217853</td><td>gift, card, novel...</td><td>0</td><td>60.55158772943581</td><td>0.0</td><td>52.35257740389978</td><td>74.97966448261967</td><td>0.03784354633549933</td><td>-8.51413612938101</td><td>-0.40759518838850783</td><td>99.95081204836518</td><td>87.88175815105241</td><td>30.615285941352266</td><td>62.39168007180277</td><td>5.739301974271463</td><td>7</td></tr>\n",
       "<tr><td>46804135891</td><td>opticians, optica...</td><td>50</td><td>21.27721909227452</td><td>0.0</td><td>43.82131979503459</td><td>77.02254443963523</td><td>0.02899474971400458</td><td>-8.517276461187056</td><td>-0.40769651469199025</td><td>99.92577090935109</td><td>89.23854725546843</td><td>32.77999166601939</td><td>56.78988503398783</td><td>5.728513805708602</td><td>8</td></tr>\n",
       "<tr><td>64403598239</td><td>music shops - mus...</td><td>0</td><td>100.0</td><td>0.0</td><td>95.66210084636779</td><td>43.4985112162505</td><td>0.14063610316732938</td><td>-8.508302420256879</td><td>-0.403368123834014</td><td>98.5341990412821</td><td>42.07078002476269</td><td>36.9926513640861</td><td>54.332438369538686</td><td>5.8530141215530325</td><td>9</td></tr>\n",
       "<tr><td>68216911708</td><td>computers, comput...</td><td>50</td><td>24.628027104672366</td><td>0.0</td><td>48.72957114489044</td><td>59.921307144669484</td><td>0.04572842175639552</td><td>-8.522728900994142</td><td>-0.4086107235399641</td><td>99.70218931101095</td><td>70.79034255055716</td><td>32.77999166601939</td><td>56.78988503398783</td><td>5.778495862059169</td><td>10</td></tr>\n",
       "<tr><td>80324045558</td><td>gift, card, novel...</td><td>50</td><td>10.903412378830907</td><td>0.0</td><td>44.76220000733787</td><td>64.54763734869628</td><td>0.03753509155130779</td><td>-8.519085740653175</td><td>-0.40812263587497516</td><td>99.82113472132791</td><td>76.92942633099463</td><td>32.77999166601939</td><td>56.78988503398783</td><td>5.861219920262084</td><td>11</td></tr>\n",
       "<tr><td>60956456424</td><td>gift, card, novel...</td><td>25</td><td>67.18551883563603</td><td>0.0</td><td>86.4691327896888</td><td>34.705079028671214</td><td>0.1606663857157674</td><td>-8.497809581724685</td><td>-0.40732147460685747</td><td>96.35830292623595</td><td>25.092860090796535</td><td>52.02931741035037</td><td>67.15831110113018</td><td>5.886602830284622</td><td>12</td></tr>\n",
       "<tr><td>21439773999</td><td>cable, satellite,...</td><td>0</td><td>71.20748362207426</td><td>0.0</td><td>70.4566307914076</td><td>40.303036521842955</td><td>0.10977134632416362</td><td>-8.491235945703554</td><td>-0.4064834103958132</td><td>97.77938756528583</td><td>35.87494841106067</td><td>32.77999166601939</td><td>56.78988503398783</td><td>5.660617546349071</td><td>13</td></tr>\n",
       "<tr><td>79417999332</td><td>gift, card, novel...</td><td>25</td><td>57.83276176943814</td><td>0.0</td><td>70.5174452476205</td><td>33.26489530007015</td><td>0.13521886601996547</td><td>-8.535702430933128</td><td>-0.4079735591819872</td><td>96.20447878657794</td><td>22.637226578621544</td><td>30.615285941352266</td><td>62.39168007180277</td><td>5.871626006933598</td><td>14</td></tr>\n",
       "<tr><td>63290521567</td><td>artist supply and...</td><td>0</td><td>29.210947545877282</td><td>0.0</td><td>27.19153898524162</td><td>59.55134997985105</td><td>0.0213026585332281</td><td>-8.523476351034866</td><td>-0.4089775561097257</td><td>99.6127566716749</td><td>70.37247214197276</td><td>32.77999166601939</td><td>56.78988503398783</td><td>5.743176262303037</td><td>15</td></tr>\n",
       "<tr><td>32361057556</td><td>gift, card, novel...</td><td>0</td><td>82.1488344177972</td><td>0.0</td><td>75.01282222226833</td><td>28.86253563379651</td><td>0.16803074368834037</td><td>-8.544890537022923</td><td>-0.42386351594786476</td><td>93.7701223438506</td><td>15.146512587701197</td><td>23.555263724420485</td><td>52.166716822148665</td><td>5.746709553769096</td><td>16</td></tr>\n",
       "<tr><td>94493496784</td><td>gift, card, novel...</td><td>0</td><td>65.84158165673117</td><td>0.0</td><td>70.33607865938635</td><td>33.14362845330667</td><td>0.13537309341206127</td><td>-8.520741250541247</td><td>-0.40977229109393637</td><td>95.78235672891178</td><td>22.286421791167975</td><td>32.77999166601939</td><td>56.78988503398783</td><td>5.894176752976819</td><td>17</td></tr>\n",
       "<tr><td>49322182190</td><td>watch, clock, and...</td><td>0</td><td>88.95310196995996</td><td>0.0</td><td>84.55526592497158</td><td>19.865934836793482</td><td>0.2815421042708264</td><td>-8.542628727268339</td><td>-0.4195559699318221</td><td>85.25881805823853</td><td>4.560462236896409</td><td>32.77999166601939</td><td>56.78988503398783</td><td>6.098086716758567</td><td>18</td></tr>\n",
       "<tr><td>72472909171</td><td>digital goods: bo...</td><td>0</td><td>55.64355761196438</td><td>0.0</td><td>53.049695542966916</td><td>33.912180415217684</td><td>0.09718253544434646</td><td>-8.482098812527225</td><td>-0.39713239465676414</td><td>96.32879015525506</td><td>23.58646306231944</td><td>32.77999166601939</td><td>56.78988503398783</td><td>5.8610389120503665</td><td>19</td></tr>\n",
       "<tr><td>28057731482</td><td>music shops - mus...</td><td>50</td><td>24.35157608877529</td><td>0.0</td><td>100.0</td><td>4.801420874315308</td><td>1.416366533735507</td><td>-8.609865358443722</td><td>-0.49267643142476697</td><td>37.30771982542748</td><td>0.005158893933140734</td><td>40.506935810481</td><td>56.93166458767364</td><td>7.651751567674505</td><td>20</td></tr>\n",
       "</table>\n",
       "only showing top 20 rows\n"
      ],
      "text/plain": [
       "+------------+--------------------+--------------+------------------+-----------------+------------------+------------------+--------------------+------------------+--------------------+-----------------+--------------------+---------------------+------------------+--------------------+------------+\n",
       "|merchant_abn|          Store_type|Revenue_levels|         Take_rate|count_of_bigorder|Avg_amount_monthly| Avg_count_monthly|     Order_avg_value|avg_prob_fraud_cus|       prob_of_fraud|count_cus_per_mon|         fix_cus_num|avg_income_percentage|avg_age_percentage|predict_dollar_value|weight_score|\n",
       "+------------+--------------------+--------------+------------------+-----------------+------------------+------------------+--------------------+------------------+--------------------+-----------------+--------------------+---------------------+------------------+--------------------+------------+\n",
       "| 64203420245|tent and awning s...|            50|38.597423859332736|              0.0| 81.46057277941684|             100.0|0.045805535452443404|-8.515942727507571| -0.4073926868044515|            100.0|               100.0|    32.77999166601939| 56.78988503398783|   5.706711918291284|           1|\n",
       "| 49891706470|tent and awning s...|             0| 74.08777025492307|              0.0| 77.10084124650936| 94.72489216578857|0.045766978604419466|-8.516445437031965| -0.4074534161490683|99.98569077770622|   98.38010730499381|    32.77999166601939| 56.78988503398783|   5.723079183129754|           2|\n",
       "| 24852446429|florists supplies...|            50| 31.63246698074998|              0.0| 64.93905829985881| 96.61908031223416|0.036050652902386016|-8.515757029502156| -0.4074534161490683|99.98569077770622|   99.14878250103177|    52.02931741035037| 67.15831110113018|   5.704521267340093|           3|\n",
       "| 86578477987|watch, clock, and...|             0|  75.4894451865309|              0.0| 70.86012404562787| 90.94491126998105|0.043395732450947015|-8.514694327549998| -0.4074331710225578|99.99016240967303|   97.41023524556336|    32.77999166601939| 56.78988503398783|   5.824660754111644|           4|\n",
       "| 89726005175|tent and awning s...|             0| 70.56382161892961|              0.0| 70.86548168471381| 72.61906538708377| 0.05685207241130286|-8.513617942528438| -0.4076762454012131|99.93024254131788|   85.62216260833678|    32.77999166601939| 56.78988503398783|    5.78488757486859|           5|\n",
       "| 43186523025|florists supplies...|            25|53.214050581540704|              0.0| 71.85393720684161| 67.54302174594407| 0.06288621912704982|-8.518055429014124| -0.4080007960991143|99.85154181870215|   80.42199752373091|     36.9926513640861|54.332438369538686|    5.81587419744553|           6|\n",
       "| 45629217853|gift, card, novel...|             0| 60.55158772943581|              0.0| 52.35257740389978| 74.97966448261967| 0.03784354633549933| -8.51413612938101|-0.40759518838850783|99.95081204836518|   87.88175815105241|   30.615285941352266| 62.39168007180277|   5.739301974271463|           7|\n",
       "| 46804135891|opticians, optica...|            50| 21.27721909227452|              0.0| 43.82131979503459| 77.02254443963523| 0.02899474971400458|-8.517276461187056|-0.40769651469199025|99.92577090935109|   89.23854725546843|    32.77999166601939| 56.78988503398783|   5.728513805708602|           8|\n",
       "| 64403598239|music shops - mus...|             0|             100.0|              0.0| 95.66210084636779|  43.4985112162505| 0.14063610316732938|-8.508302420256879|  -0.403368123834014| 98.5341990412821|   42.07078002476269|     36.9926513640861|54.332438369538686|  5.8530141215530325|           9|\n",
       "| 68216911708|computers, comput...|            50|24.628027104672366|              0.0| 48.72957114489044|59.921307144669484| 0.04572842175639552|-8.522728900994142| -0.4086107235399641|99.70218931101095|   70.79034255055716|    32.77999166601939| 56.78988503398783|   5.778495862059169|          10|\n",
       "| 80324045558|gift, card, novel...|            50|10.903412378830907|              0.0| 44.76220000733787| 64.54763734869628| 0.03753509155130779|-8.519085740653175|-0.40812263587497516|99.82113472132791|   76.92942633099463|    32.77999166601939| 56.78988503398783|   5.861219920262084|          11|\n",
       "| 60956456424|gift, card, novel...|            25| 67.18551883563603|              0.0|  86.4691327896888|34.705079028671214|  0.1606663857157674|-8.497809581724685|-0.40732147460685747|96.35830292623595|  25.092860090796535|    52.02931741035037| 67.15831110113018|   5.886602830284622|          12|\n",
       "| 21439773999|cable, satellite,...|             0| 71.20748362207426|              0.0|  70.4566307914076|40.303036521842955| 0.10977134632416362|-8.491235945703554| -0.4064834103958132|97.77938756528583|   35.87494841106067|    32.77999166601939| 56.78988503398783|   5.660617546349071|          13|\n",
       "| 79417999332|gift, card, novel...|            25| 57.83276176943814|              0.0|  70.5174452476205| 33.26489530007015| 0.13521886601996547|-8.535702430933128| -0.4079735591819872|96.20447878657794|  22.637226578621544|   30.615285941352266| 62.39168007180277|   5.871626006933598|          14|\n",
       "| 63290521567|artist supply and...|             0|29.210947545877282|              0.0| 27.19153898524162| 59.55134997985105|  0.0213026585332281|-8.523476351034866| -0.4089775561097257| 99.6127566716749|   70.37247214197276|    32.77999166601939| 56.78988503398783|   5.743176262303037|          15|\n",
       "| 32361057556|gift, card, novel...|             0|  82.1488344177972|              0.0| 75.01282222226833| 28.86253563379651| 0.16803074368834037|-8.544890537022923|-0.42386351594786476| 93.7701223438506|  15.146512587701197|   23.555263724420485|52.166716822148665|   5.746709553769096|          16|\n",
       "| 94493496784|gift, card, novel...|             0| 65.84158165673117|              0.0| 70.33607865938635| 33.14362845330667| 0.13537309341206127|-8.520741250541247|-0.40977229109393637|95.78235672891178|  22.286421791167975|    32.77999166601939| 56.78988503398783|   5.894176752976819|          17|\n",
       "| 49322182190|watch, clock, and...|             0| 88.95310196995996|              0.0| 84.55526592497158|19.865934836793482|  0.2815421042708264|-8.542628727268339| -0.4195559699318221|85.25881805823853|   4.560462236896409|    32.77999166601939| 56.78988503398783|   6.098086716758567|          18|\n",
       "| 72472909171|digital goods: bo...|             0| 55.64355761196438|              0.0|53.049695542966916|33.912180415217684| 0.09718253544434646|-8.482098812527225|-0.39713239465676414|96.32879015525506|   23.58646306231944|    32.77999166601939| 56.78988503398783|  5.8610389120503665|          19|\n",
       "| 28057731482|music shops - mus...|            50| 24.35157608877529|              0.0|             100.0| 4.801420874315308|   1.416366533735507|-8.609865358443722|-0.49267643142476697|37.30771982542748|0.005158893933140734|      40.506935810481| 56.93166458767364|   7.651751567674505|          20|\n",
       "+------------+--------------------+--------------+------------------+-----------------+------------------+------------------+--------------------+------------------+--------------------+-----------------+--------------------+---------------------+------------------+--------------------+------------+\n",
       "only showing top 20 rows"
      ]
     },
     "execution_count": 14,
     "metadata": {},
     "output_type": "execute_result"
    }
   ],
   "source": [
    "sorted_self_weight_score"
   ]
  },
  {
   "cell_type": "markdown",
   "metadata": {},
   "source": [
    "### Z-score Model"
   ]
  },
  {
   "cell_type": "code",
   "execution_count": 15,
   "metadata": {},
   "outputs": [],
   "source": [
    "# Calculate the mean and standard deviation for each feature as list\n",
    "mean_num_list = []\n",
    "sd_num_list = []\n",
    "\n",
    "for i in col_list_1:\n",
    "    mean_num = float(final.agg({i: \"mean\"}).collect()[0][0])\n",
    "    sd_num = float(final.agg({i: \"stddev_pop\"}).collect()[0][0])\n",
    "    mean_num_list.append(mean_num)\n",
    "    sd_num_list.append(sd_num)\n"
   ]
  },
  {
   "cell_type": "code",
   "execution_count": 16,
   "metadata": {},
   "outputs": [],
   "source": [
    "# Use z-score to map the data\n",
    "final_3 = final\n",
    "\n",
    "for i in range(0,len(mean_num_list)):\n",
    "    final_3 = final_3.withColumn(col_list_1[i], (col(col_list_1[i]) - mean_num_list[i])/(sd_num_list[i]))\n",
    "\n",
    "\n",
    "final_3 = final_3.withColumn('avg_prob_fraud_cus', (final_3.avg_prob_fraud_cus *(-1)))\\\n",
    "    .withColumn('prob_of_fraud', (final_3.prob_of_fraud*(-1)))\n",
    "    \n",
    "final_3 = final_3.select('merchant_abn','Store_type', 'Revenue_levels', 'Take_rate', 'count_of_bigorder', 'Avg_amount_monthly',\\\n",
    "    'Avg_count_monthly', 'Order_avg_value',\t'avg_prob_fraud_cus', 'prob_of_fraud', 'count_cus_per_mon',\\\n",
    "     'fix_cus_num', 'avg_income_percentage', 'avg_age_percentage', 'predict_dollar_value')"
   ]
  },
  {
   "cell_type": "code",
   "execution_count": 17,
   "metadata": {},
   "outputs": [],
   "source": [
    "# Use pure add method to calculate the scores and sort\n",
    "z_score = final_3.withColumn('z_score',reduce(add, [F.col(x) for x in final_1.columns[3:15]]))\n",
    "z_score = z_score.sort(z_score.z_score.desc())"
   ]
  },
  {
   "cell_type": "code",
   "execution_count": 18,
   "metadata": {},
   "outputs": [
    {
     "data": {
      "text/html": [
       "<table border='1'>\n",
       "<tr><th>merchant_abn</th><th>Store_type</th><th>Revenue_levels</th><th>Take_rate</th><th>count_of_bigorder</th><th>Avg_amount_monthly</th><th>Avg_count_monthly</th><th>Order_avg_value</th><th>avg_prob_fraud_cus</th><th>prob_of_fraud</th><th>count_cus_per_mon</th><th>fix_cus_num</th><th>avg_income_percentage</th><th>avg_age_percentage</th><th>predict_dollar_value</th><th>z_score</th></tr>\n",
       "<tr><td>49891706470</td><td>tent and awning s...</td><td>a</td><td>9.335570342841297</td><td>-0.0929012279966622</td><td>7.657822106879991</td><td>19.308249016453654</td><td>-0.34818660107559174</td><td>0.08392165597961145</td><td>0.024964505961477666</td><td>6.571641767450407</td><td>20.740813796573573</td><td>-0.7131009734685626</td><td>-0.3578390827176271</td><td>-0.34638153487955753</td><td>61.86457377200202</td></tr>\n",
       "<tr><td>86578477987</td><td>watch, clock, and...</td><td>a</td><td>9.519746756430008</td><td>-0.0929012279966622</td><td>7.003339452408436</td><td>18.52836586744267</td><td>-0.34862508092605804</td><td>0.08447654615086275</td><td>0.02497245126855697</td><td>6.571957653211282</td><td>20.53568715078681</td><td>-0.7131009734685626</td><td>-0.3578390827176271</td><td>-0.323756452821597</td><td>60.43232305976812</td></tr>\n",
       "<tr><td>64203420245</td><td>tent and awning s...</td><td>c</td><td>4.672231812085788</td><td>-0.0929012279966622</td><td>8.115040175668238</td><td>20.396605762827754</td><td>-0.3481794713219256</td><td>0.0840809541713884</td><td>0.024988339514281407</td><td>6.572652601885207</td><td>21.083418939004655</td><td>-0.7131009734685626</td><td>-0.3578390827176271</td><td>-0.350026986573751</td><td>59.08697084307879</td></tr>\n",
       "<tr><td>24852446429</td><td>florists supplies...</td><td>c</td><td>3.757054726607096</td><td>-0.0929012279966622</td><td>6.382379600863785</td><td>19.699056657335575</td><td>-0.3499832989994537</td><td>0.08413979800673244</td><td>0.024964505961477666</td><td>6.571641767450407</td><td>20.90338757435138</td><td>0.5448776576748686</td><td>0.6485445991973589</td><td>-0.35051490635144256</td><td>57.82264745410112</td></tr>\n",
       "<tr><td>19492220327</td><td>jewelry, watch, c...</td><td>b</td><td>6.537305842770812</td><td>34.94604166596013</td><td>6.349914163196151</td><td>-0.17503038455663203</td><td>2.4375436215966944</td><td>-0.8902762682468386</td><td>0.1848717562393713</td><td>-0.29716774846828276</td><td>-0.06644756062626189</td><td>0.7354066887331381</td><td>1.9482237468695451</td><td>5.613747150689722</td><td>57.32413267415755</td></tr>\n",
       "<tr><td>89726005175</td><td>tent and awning s...</td><td>a</td><td>8.872532724908282</td><td>-0.0929012279966622</td><td>7.003901324023157</td><td>14.747389510843727</td><td>-0.3461367968965826</td><td>0.08481763017507586</td><td>0.024877055441787047</td><td>6.56772478401556</td><td>18.04252552513387</td><td>-0.7131009734685626</td><td>-0.3578390827176271</td><td>-0.3326150620691395</td><td>53.50117541139289</td></tr>\n",
       "<tr><td>45629217853</td><td>gift, card, novel...</td><td>a</td><td>7.556951424140427</td><td>-0.0929012279966622</td><td>5.062397752290479</td><td>15.234426749106202</td><td>-0.3496517654539792</td><td>0.08465342753993163</td><td>0.024908866695549363</td><td>6.569177858515584</td><td>18.520426965849836</td><td>-0.8545684503305552</td><td>0.18588424413858334</td><td>-0.34276826155406676</td><td>51.59893758294133</td></tr>\n",
       "<tr><td>43186523025</td><td>florists supplies...</td><td>b</td><td>6.59281826744403</td><td>-0.0929012279966622</td><td>7.107563607239241</td><td>13.700103556631648</td><td>-0.34502099044783496</td><td>0.08341148300876451</td><td>0.024749683802183047</td><td>6.562165194624162</td><td>16.942697551979307</td><td>-0.4377959601484068</td><td>-0.5963646030099905</td><td>-0.32571346691043396</td><td>49.21571309621601</td></tr>\n",
       "<tr><td>46804135891</td><td>opticians, optica...</td><td>c</td><td>2.396402285078594</td><td>-0.0929012279966622</td><td>4.167699283171887</td><td>15.655912385633043</td><td>-0.3512880439203534</td><td>0.08365832171040608</td><td>0.024869100651313356</td><td>6.567408898254685</td><td>18.807386050115362</td><td>-0.7131009734685626</td><td>-0.3578390827176271</td><td>-0.34517109108929195</td><td>45.843035905422795</td></tr>\n",
       "<tr><td>64403598239</td><td>music shops - mus...</td><td>a</td><td>12.740369440632584</td><td>-0.0929012279966622</td><td>9.604396845362785</td><td>8.739256106549696</td><td>-0.33064384218010634</td><td>0.08650200861853137</td><td>0.02656780055857768</td><td>6.469105249470439</td><td>8.83146624996444</td><td>-0.4377959601484068</td><td>-0.5963646030099905</td><td>-0.3174413578808494</td><td>44.72251670994103</td></tr>\n",
       "<tr><td>80324045558</td><td>gift, card, novel...</td><td>c</td><td>1.0333112625738794</td><td>-0.0929012279966622</td><td>4.266372201534704</td><td>13.082097836334235</td><td>-0.34970880348330813</td><td>0.08308499868112937</td><td>0.024701867137111207</td><td>6.560017171450214</td><td>16.20402340731102</td><td>-0.7131009734685626</td><td>-0.3578390827176271</td><td>-0.3156136949755722</td><td>39.424444962380555</td></tr>\n",
       "<tr><td>68216911708</td><td>computers, comput...</td><td>c</td><td>2.8366896787040528</td><td>-0.0929012279966622</td><td>4.682442263644308</td><td>12.127596459916491</td><td>-0.34819373082925786</td><td>0.08193055694786594</td><td>0.024510314548988138</td><td>6.551614610210944</td><td>14.905615383447998</td><td>-0.7131009734685626</td><td>-0.3578390827176271</td><td>-0.33403867685877353</td><td>39.36432557554976</td></tr>\n",
       "<tr><td>15043504837</td><td>jewelry, watch, c...</td><td>b</td><td>2.2972498264120493</td><td>20.278577198722402</td><td>2.382103792006454</td><td>-0.22079718107082494</td><td>4.425147829622639</td><td>-2.272937854203356</td><td>0.1848717562393713</td><td>-0.4438650958185509</td><td>-0.06644756062626189</td><td>1.592394279612063</td><td>1.5297096915654276</td><td>8.832528949787537</td><td>38.51853563224895</td></tr>\n",
       "<tr><td>90918180829</td><td>jewelry, watch, c...</td><td>c</td><td>2.1750817533357467</td><td>27.40859464807408</td><td>4.304719939239391</td><td>-0.19448800914698064</td><td>2.522134583968361</td><td>-1.2284670015564028</td><td>0.1848717562393713</td><td>-0.35750192879537407</td><td>-0.06644756062626189</td><td>-0.8555124556978633</td><td>-0.4816821802512234</td><td>4.791194030956692</td><td>38.20249757573954</td></tr>\n",
       "<tr><td>63290521567</td><td>artist supply and...</td><td>a</td><td>3.4388734173083435</td><td>-0.0929012279966622</td><td>2.4236844949138825</td><td>12.051267143274233</td><td>-0.3527104297767441</td><td>0.08169370557713806</td><td>0.024366349164926946</td><td>6.545296894993448</td><td>14.817236349890935</td><td>-0.7131009734685626</td><td>-0.3578390827176271</td><td>-0.34190534829348956</td><td>37.52396129286983</td></tr>\n",
       "<tr><td>21439773999</td><td>cable, satellite,...</td><td>a</td><td>8.957108225710403</td><td>-0.0929012279966622</td><td>6.961023909565677</td><td>8.079967888976023</td><td>-0.3363512099898345</td><td>0.09191001941687064</td><td>0.025345189854676434</td><td>6.41578373303477</td><td>7.521056135124533</td><td>-0.7131009734685626</td><td>-0.3578390827176271</td><td>-0.3602935037925944</td><td>36.19170910371767</td></tr>\n",
       "<tr><td>60956456424</td><td>gift, card, novel...</td><td>b</td><td>8.428632590424137</td><td>-0.0929012279966622</td><td>8.640302824989995</td><td>6.925001015295103</td><td>-0.3269399351505576</td><td>0.08982697089530589</td><td>0.025016287118233622</td><td>6.31539523822875</td><td>5.24065884951637</td><td>0.5448776576748686</td><td>0.6485445991973589</td><td>-0.3099602047156888</td><td>36.12845466547721</td></tr>\n",
       "<tr><td>94493496784</td><td>gift, card, novel...</td><td>a</td><td>8.252042766266191</td><td>-0.0929012279966622</td><td>6.9483812473799365</td><td>6.602843569184474</td><td>-0.33161705355553156</td><td>0.08256040203268443</td><td>0.024054451212945402</td><td>6.2747091522280725</td><td>4.647100895750418</td><td>-0.7131009734685626</td><td>-0.3578390827176271</td><td>-0.3082732784282211</td><td>31.027960867888112</td></tr>\n",
       "<tr><td>79417999332</td><td>gift, card, novel...</td><td>b</td><td>7.199704816391037</td><td>-0.0929012279966622</td><td>6.967401703247281</td><td>6.627863264503419</td><td>-0.331645572570196</td><td>0.07781951516337815</td><td>0.024760373074505303</td><td>6.304528768054656</td><td>4.721295639971162</td><td>-0.8545684503305552</td><td>0.18588424413858334</td><td>-0.31329596585827757</td><td>30.516847107788333</td></tr>\n",
       "<tr><td>32361057556</td><td>gift, card, novel...</td><td>a</td><td>10.394773053646455</td><td>-0.0929012279966622</td><td>7.438845314696659</td><td>5.719571340747818</td><td>-0.3255781522003289</td><td>0.07490799545878758</td><td>0.01852427541828517</td><td>6.132560559834402</td><td>3.137019631022334</td><td>-1.3159538101223731</td><td>-0.8065746012055696</td><td>-0.3411183845895266</td><td>30.034075994710278</td></tr>\n",
       "</table>\n",
       "only showing top 20 rows\n"
      ],
      "text/plain": [
       "+------------+--------------------+--------------+------------------+-------------------+------------------+--------------------+--------------------+-------------------+--------------------+--------------------+--------------------+---------------------+-------------------+--------------------+------------------+\n",
       "|merchant_abn|          Store_type|Revenue_levels|         Take_rate|  count_of_bigorder|Avg_amount_monthly|   Avg_count_monthly|     Order_avg_value| avg_prob_fraud_cus|       prob_of_fraud|   count_cus_per_mon|         fix_cus_num|avg_income_percentage| avg_age_percentage|predict_dollar_value|           z_score|\n",
       "+------------+--------------------+--------------+------------------+-------------------+------------------+--------------------+--------------------+-------------------+--------------------+--------------------+--------------------+---------------------+-------------------+--------------------+------------------+\n",
       "| 49891706470|tent and awning s...|             a| 9.335570342841297|-0.0929012279966622| 7.657822106879991|  19.308249016453654|-0.34818660107559174|0.08392165597961145|0.024964505961477666|   6.571641767450407|  20.740813796573573|  -0.7131009734685626|-0.3578390827176271|-0.34638153487955753| 61.86457377200202|\n",
       "| 86578477987|watch, clock, and...|             a| 9.519746756430008|-0.0929012279966622| 7.003339452408436|   18.52836586744267|-0.34862508092605804|0.08447654615086275| 0.02497245126855697|   6.571957653211282|   20.53568715078681|  -0.7131009734685626|-0.3578390827176271|  -0.323756452821597| 60.43232305976812|\n",
       "| 64203420245|tent and awning s...|             c| 4.672231812085788|-0.0929012279966622| 8.115040175668238|  20.396605762827754| -0.3481794713219256| 0.0840809541713884|0.024988339514281407|   6.572652601885207|  21.083418939004655|  -0.7131009734685626|-0.3578390827176271|  -0.350026986573751| 59.08697084307879|\n",
       "| 24852446429|florists supplies...|             c| 3.757054726607096|-0.0929012279966622| 6.382379600863785|  19.699056657335575| -0.3499832989994537|0.08413979800673244|0.024964505961477666|   6.571641767450407|   20.90338757435138|   0.5448776576748686| 0.6485445991973589|-0.35051490635144256| 57.82264745410112|\n",
       "| 19492220327|jewelry, watch, c...|             b| 6.537305842770812|  34.94604166596013| 6.349914163196151|-0.17503038455663203|  2.4375436215966944|-0.8902762682468386|  0.1848717562393713|-0.29716774846828276|-0.06644756062626189|   0.7354066887331381| 1.9482237468695451|   5.613747150689722| 57.32413267415755|\n",
       "| 89726005175|tent and awning s...|             a| 8.872532724908282|-0.0929012279966622| 7.003901324023157|  14.747389510843727| -0.3461367968965826|0.08481763017507586|0.024877055441787047|    6.56772478401556|   18.04252552513387|  -0.7131009734685626|-0.3578390827176271| -0.3326150620691395| 53.50117541139289|\n",
       "| 45629217853|gift, card, novel...|             a| 7.556951424140427|-0.0929012279966622| 5.062397752290479|  15.234426749106202| -0.3496517654539792|0.08465342753993163|0.024908866695549363|   6.569177858515584|  18.520426965849836|  -0.8545684503305552|0.18588424413858334|-0.34276826155406676| 51.59893758294133|\n",
       "| 43186523025|florists supplies...|             b|  6.59281826744403|-0.0929012279966622| 7.107563607239241|  13.700103556631648|-0.34502099044783496|0.08341148300876451|0.024749683802183047|   6.562165194624162|  16.942697551979307|  -0.4377959601484068|-0.5963646030099905|-0.32571346691043396| 49.21571309621601|\n",
       "| 46804135891|opticians, optica...|             c| 2.396402285078594|-0.0929012279966622| 4.167699283171887|  15.655912385633043| -0.3512880439203534|0.08365832171040608|0.024869100651313356|   6.567408898254685|  18.807386050115362|  -0.7131009734685626|-0.3578390827176271|-0.34517109108929195|45.843035905422795|\n",
       "| 64403598239|music shops - mus...|             a|12.740369440632584|-0.0929012279966622| 9.604396845362785|   8.739256106549696|-0.33064384218010634|0.08650200861853137| 0.02656780055857768|   6.469105249470439|    8.83146624996444|  -0.4377959601484068|-0.5963646030099905| -0.3174413578808494| 44.72251670994103|\n",
       "| 80324045558|gift, card, novel...|             c|1.0333112625738794|-0.0929012279966622| 4.266372201534704|  13.082097836334235|-0.34970880348330813|0.08308499868112937|0.024701867137111207|   6.560017171450214|   16.20402340731102|  -0.7131009734685626|-0.3578390827176271| -0.3156136949755722|39.424444962380555|\n",
       "| 68216911708|computers, comput...|             c|2.8366896787040528|-0.0929012279966622| 4.682442263644308|  12.127596459916491|-0.34819373082925786|0.08193055694786594|0.024510314548988138|   6.551614610210944|  14.905615383447998|  -0.7131009734685626|-0.3578390827176271|-0.33403867685877353| 39.36432557554976|\n",
       "| 15043504837|jewelry, watch, c...|             b|2.2972498264120493| 20.278577198722402| 2.382103792006454|-0.22079718107082494|   4.425147829622639| -2.272937854203356|  0.1848717562393713| -0.4438650958185509|-0.06644756062626189|    1.592394279612063| 1.5297096915654276|   8.832528949787537| 38.51853563224895|\n",
       "| 90918180829|jewelry, watch, c...|             c|2.1750817533357467|  27.40859464807408| 4.304719939239391|-0.19448800914698064|   2.522134583968361|-1.2284670015564028|  0.1848717562393713|-0.35750192879537407|-0.06644756062626189|  -0.8555124556978633|-0.4816821802512234|   4.791194030956692| 38.20249757573954|\n",
       "| 63290521567|artist supply and...|             a|3.4388734173083435|-0.0929012279966622|2.4236844949138825|  12.051267143274233| -0.3527104297767441|0.08169370557713806|0.024366349164926946|   6.545296894993448|  14.817236349890935|  -0.7131009734685626|-0.3578390827176271|-0.34190534829348956| 37.52396129286983|\n",
       "| 21439773999|cable, satellite,...|             a| 8.957108225710403|-0.0929012279966622| 6.961023909565677|   8.079967888976023| -0.3363512099898345|0.09191001941687064|0.025345189854676434|    6.41578373303477|   7.521056135124533|  -0.7131009734685626|-0.3578390827176271| -0.3602935037925944| 36.19170910371767|\n",
       "| 60956456424|gift, card, novel...|             b| 8.428632590424137|-0.0929012279966622| 8.640302824989995|   6.925001015295103| -0.3269399351505576|0.08982697089530589|0.025016287118233622|    6.31539523822875|    5.24065884951637|   0.5448776576748686| 0.6485445991973589| -0.3099602047156888| 36.12845466547721|\n",
       "| 94493496784|gift, card, novel...|             a| 8.252042766266191|-0.0929012279966622|6.9483812473799365|   6.602843569184474|-0.33161705355553156|0.08256040203268443|0.024054451212945402|  6.2747091522280725|   4.647100895750418|  -0.7131009734685626|-0.3578390827176271| -0.3082732784282211|31.027960867888112|\n",
       "| 79417999332|gift, card, novel...|             b| 7.199704816391037|-0.0929012279966622| 6.967401703247281|   6.627863264503419|  -0.331645572570196|0.07781951516337815|0.024760373074505303|   6.304528768054656|   4.721295639971162|  -0.8545684503305552|0.18588424413858334|-0.31329596585827757|30.516847107788333|\n",
       "| 32361057556|gift, card, novel...|             a|10.394773053646455|-0.0929012279966622| 7.438845314696659|   5.719571340747818| -0.3255781522003289|0.07490799545878758| 0.01852427541828517|   6.132560559834402|   3.137019631022334|  -1.3159538101223731|-0.8065746012055696| -0.3411183845895266|30.034075994710278|\n",
       "+------------+--------------------+--------------+------------------+-------------------+------------------+--------------------+--------------------+-------------------+--------------------+--------------------+--------------------+---------------------+-------------------+--------------------+------------------+\n",
       "only showing top 20 rows"
      ]
     },
     "execution_count": 18,
     "metadata": {},
     "output_type": "execute_result"
    }
   ],
   "source": [
    "z_score"
   ]
  },
  {
   "cell_type": "markdown",
   "metadata": {},
   "source": [
    "### rank inside each column and add up the rank"
   ]
  },
  {
   "cell_type": "code",
   "execution_count": 19,
   "metadata": {},
   "outputs": [],
   "source": [
    "# Rank each feature individually and summarize their rank as final rank\n",
    "final_rank_coldf = final_1.drop(\"Take_rate\", \"Store_type\", \"Revenue_levels\")\n",
    "for col in final_rank_coldf.columns:\n",
    "    if col == \"merchant_abn\":\n",
    "        continue\n",
    "    else: # Columns that have number bigger = higher rank\n",
    "        final_rank_coldf = final_rank_coldf.withColumn(\"rank_\"+col, F.dense_rank().over(Window.orderBy(F.desc(col)))).drop(col)\n",
    "\n",
    "numeric_col = final_rank_coldf.columns\n",
    "numeric_col.remove(\"merchant_abn\")\n",
    "expression = '+'.join(numeric_col)\n",
    "\n",
    "final_rank_coldf = final_rank_coldf.withColumn(\"sum_of_ranks\", F.expr(expression))\\\n",
    "    .withColumn(\"rank\", F.dense_rank().over(Window.orderBy(\"sum_of_ranks\")))\n",
    "sum_rank = final_rank_coldf.orderBy(\"rank\")\n",
    "\n"
   ]
  },
  {
   "cell_type": "markdown",
   "metadata": {},
   "source": [
    "### Study-score Model"
   ]
  },
  {
   "cell_type": "code",
   "execution_count": 20,
   "metadata": {},
   "outputs": [],
   "source": [
    "\n",
    "def features_score(table_name, col_name):\n",
    "    # sort the columns to give the largest value rank 1\n",
    "    sorted_col = table_name[['merchant_abn', col_name]].sort_values(by=col_name, ascending=False)\n",
    "    # a rank list, from 1 to the length of the table\n",
    "    rank_list = [i for i in range(1, len(table_name)+1)]\n",
    "    # as the target column has been sorted, add the rank list directly will be in the right position\n",
    "    sorted_col['rank'] = rank_list\n",
    "    # get the percentage, which is above % of merchant. Add 1 to the denominator, to avoid the last one get 0, \n",
    "    # z score will become -inifity\n",
    "    sorted_col['percentage above the merchants'] = 1-sorted_col['rank']/(len(table_name)+1)\n",
    "    sorted_col['z score'] = st.norm.ppf(sorted_col['percentage above the merchants'])\n",
    "    mean = 30\n",
    "    # adjust the sd from 7 to 5.75, to let the rank 1 merchant get a 50 study score, if sd = 7, \n",
    "    # the first one will become 54\n",
    "    sd = 5.75\n",
    "    sorted_col[col_name+'_raw_score'] = sorted_col['z score']*sd+mean\n",
    "    return sorted_col[['merchant_abn', col_name+'_raw_score']]"
   ]
  },
  {
   "cell_type": "code",
   "execution_count": 21,
   "metadata": {},
   "outputs": [],
   "source": [
    "\n",
    "def final_study_score(table_name):\n",
    "    table_name = table_name.toPandas()\n",
    "    # take the features that are numeric\n",
    "    numeric_features_list = ['Take_rate', 'count_of_bigorder', 'Avg_amount_monthly', 'Avg_count_monthly', 'Order_avg_value', \n",
    "    'avg_prob_fraud_cus', 'prob_of_fraud', 'count_cus_per_mon', 'fix_cus_num', 'avg_income_percentage', 'avg_age_percentage', 'predict_dollar_value']\n",
    "    # for these two features, if the value is smaller, the merchant is better\n",
    "    table_name[['prob_of_fraud']] = -abs(table_name[['prob_of_fraud']])\n",
    "    table_name[['avg_prob_fraud_cus']] = -abs(table_name[['avg_prob_fraud_cus']])\n",
    "    raw_score_ori = table_name[['merchant_abn', 'Store_type']]\n",
    "    # change the level of revenue Level from character to score\n",
    "    reve = table_name[['merchant_abn', 'Revenue_levels']]\n",
    "    reve[['Revenue_levels_raw_score']] = reve[['Revenue_levels']].replace(to_replace = ['a', 'b', 'c', 'd', 'e'], value = [10, 20, 30, 40, 50])\n",
    "    reve = reve[['merchant_abn', 'Revenue_levels_raw_score']]\n",
    "     # take the identification features\n",
    "    raw_score_ori = pd.merge(raw_score_ori, reve, how='inner', on = 'merchant_abn')\n",
    "    # merge the tables, take each feature's score\n",
    "    for feature in numeric_features_list:\n",
    "        feature_raw_score = features_score(table_name, feature)\n",
    "        raw_score_ori = pd.merge(raw_score_ori, feature_raw_score, how='inner', on = 'merchant_abn')\n",
    "    # sum the scores from numeric features\n",
    "    raw_score_ori['raw_score_sum']= raw_score_ori.iloc[:, 2:].sum(axis=1)\n",
    "    # add the rank column\n",
    "    raw_score_ori['study_rank'] = raw_score_ori.raw_score_sum.rank(axis=0,method='min', ascending=False)\n",
    "    raw_score_ori['study_rank'] = raw_score_ori.study_rank.astype(int)\n",
    "    raw_score_spark = spark.createDataFrame(raw_score_ori)\n",
    "    raw_score_spark= raw_score_spark.sort(raw_score_spark.study_rank)\n",
    "    return raw_score_spark"
   ]
  },
  {
   "cell_type": "code",
   "execution_count": 22,
   "metadata": {},
   "outputs": [
    {
     "name": "stderr",
     "output_type": "stream",
     "text": [
      "/var/folders/4w/p31d1t_x5pqbppcsm7p9kxt00000gn/T/ipykernel_51877/4003237133.py:12: SettingWithCopyWarning: \n",
      "A value is trying to be set on a copy of a slice from a DataFrame.\n",
      "Try using .loc[row_indexer,col_indexer] = value instead\n",
      "\n",
      "See the caveats in the documentation: https://pandas.pydata.org/pandas-docs/stable/user_guide/indexing.html#returning-a-view-versus-a-copy\n",
      "  reve[['Revenue_levels_raw_score']] = reve[['Revenue_levels']].replace(to_replace = ['a', 'b', 'c', 'd', 'e'], value = [10, 20, 30, 40, 50])\n"
     ]
    },
    {
     "data": {
      "text/html": [
       "<table border='1'>\n",
       "<tr><th>merchant_abn</th><th>Store_type</th><th>Revenue_levels_raw_score</th><th>Take_rate_raw_score</th><th>count_of_bigorder_raw_score</th><th>Avg_amount_monthly_raw_score</th><th>Avg_count_monthly_raw_score</th><th>Order_avg_value_raw_score</th><th>avg_prob_fraud_cus_raw_score</th><th>prob_of_fraud_raw_score</th><th>count_cus_per_mon_raw_score</th><th>fix_cus_num_raw_score</th><th>avg_income_percentage_raw_score</th><th>avg_age_percentage_raw_score</th><th>predict_dollar_value_raw_score</th><th>raw_score_sum</th><th>study_rank</th></tr>\n",
       "<tr><td>57223200264</td><td>art dealers and g...</td><td>50</td><td>30.6546004653252</td><td>34.88743354029564</td><td>40.0021247880924</td><td>30.759183668482347</td><td>37.94833746148449</td><td>35.97820170402947</td><td>42.310175520510526</td><td>30.748353653324788</td><td>38.33854804999941</td><td>26.72657258708235</td><td>27.114934810750015</td><td>41.18966209763083</td><td>466.6581283470075</td><td>1</td></tr>\n",
       "<tr><td>60956456424</td><td>gift, card, novel...</td><td>20</td><td>45.51973178482304</td><td>35.65579385285441</td><td>48.26565278725761</td><td>45.51973178482304</td><td>25.703470273655327</td><td>30.048318676388533</td><td>27.93611374281935</td><td>45.51973178482304</td><td>45.51973178482304</td><td>33.57255721107289</td><td>35.32272523688725</td><td>26.26980804803454</td><td>464.85336696826204</td><td>2</td></tr>\n",
       "<tr><td>18158387243</td><td>health and beauty...</td><td>30</td><td>41.59722781762685</td><td>26.19884524276418</td><td>45.144468178065836</td><td>40.01841413012835</td><td>32.72381441501778</td><td>30.80253106630412</td><td>29.28772745116895</td><td>40.0021247880924</td><td>40.151718833933444</td><td>39.42141135479067</td><td>34.76525998647066</td><td>34.04050544733956</td><td>464.15404871170284</td><td>3</td></tr>\n",
       "<tr><td>90543168331</td><td>furniture, home f...</td><td>30</td><td>42.455680247608214</td><td>32.796104729533454</td><td>44.92601602282011</td><td>42.69012159086522</td><td>29.32378053121853</td><td>30.998196699995525</td><td>28.859779952842576</td><td>42.77318227880038</td><td>42.815732880709604</td><td>32.10593168744649</td><td>31.23894777698769</td><td>31.34171976797985</td><td>462.32519416680765</td><td>4</td></tr>\n",
       "<tr><td>66228393506</td><td>jewelry, watch, c...</td><td>30</td><td>34.24465540625352</td><td>46.15290073650031</td><td>38.45286475486511</td><td>26.56533952335523</td><td>41.59722781762685</td><td>20.263267794824866</td><td>39.6187058603061</td><td>26.58670656837752</td><td>33.44750348742459</td><td>38.400490810181935</td><td>40.117880505242624</td><td>45.51973178482304</td><td>460.96727504978156</td><td>5</td></tr>\n",
       "<tr><td>70009327857</td><td>lawn and garden s...</td><td>30</td><td>41.18966209763083</td><td>39.93775721255277</td><td>42.493333928661855</td><td>36.30751118927931</td><td>35.394556565704455</td><td>30.80976000231593</td><td>28.713387864272445</td><td>36.294462616606914</td><td>36.91757339614054</td><td>38.4952745680137</td><td>27.248124448287417</td><td>36.85889317093914</td><td>460.66029706040524</td><td>6</td></tr>\n",
       "<tr><td>64203420245</td><td>tent and awning s...</td><td>30</td><td>42.99334815524945</td><td>34.14656837492791</td><td>47.07638029706966</td><td>50.02470848195272</td><td>20.68652596795065</td><td>29.73325998820788</td><td>27.9322960215154</td><td>50.02470848195272</td><td>50.02470848195272</td><td>26.216639870669518</td><td>29.1938546249609</td><td>19.865244204127453</td><td>457.918242950537</td><td>7</td></tr>\n",
       "<tr><td>19492220327</td><td>jewelry, watch, c...</td><td>20</td><td>44.14315419304224</td><td>50.02470848195272</td><td>43.50121689964395</td><td>31.896777482328428</td><td>40.89558294826355</td><td>20.424527126835333</td><td>31.79127251384012</td><td>31.877891439607474</td><td>26.881126238920633</td><td>34.34399347955905</td><td>37.84721944290555</td><td>44.14315419304224</td><td>457.7706244399413</td><td>8</td></tr>\n",
       "<tr><td>24852446429</td><td>florists supplies...</td><td>30</td><td>42.38193686783794</td><td>29.847869692055035</td><td>43.61662115002113</td><td>48.93140892503064</td><td>19.082789387265386</td><td>29.744008445267443</td><td>27.9170159978072</td><td>47.7803208709254</td><td>48.93140892503064</td><td>33.63353447708392</td><td>35.25714895174481</td><td>19.796854802078755</td><td>456.92091849214825</td><td>9</td></tr>\n",
       "<tr><td>74874670528</td><td>telecom</td><td>30</td><td>34.49791438359392</td><td>37.72193356978537</td><td>38.98359610816117</td><td>30.116329305580425</td><td>37.957652594746754</td><td>34.06804031922743</td><td>33.83238332835609</td><td>30.11990917999106</td><td>36.63100987973675</td><td>30.77723969979281</td><td>42.073053582736</td><td>39.63323842081445</td><td>456.4123003725223</td><td>10</td></tr>\n",
       "<tr><td>99291944648</td><td>books, periodical...</td><td>20</td><td>42.77318227880038</td><td>32.31791090650948</td><td>43.18430153295259</td><td>39.76688910928258</td><td>32.13658093438183</td><td>28.588299191386078</td><td>28.794000627627142</td><td>39.76688910928258</td><td>40.62751677595718</td><td>40.417470195419945</td><td>33.64665413264317</td><td>33.4047598099523</td><td>455.42445460419526</td><td>11</td></tr>\n",
       "<tr><td>60829135130</td><td>equipment, tool, ...</td><td>40</td><td>36.45996986941053</td><td>35.684895579554855</td><td>41.41183565987207</td><td>32.76793991913409</td><td>37.72193356978537</td><td>34.32022480649708</td><td>31.242611203430712</td><td>32.788050822597725</td><td>34.7099780272836</td><td>26.646285683983223</td><td>30.32049703432781</td><td>40.117880505242624</td><td>454.19210268111965</td><td>12</td></tr>\n",
       "<tr><td>28057731482</td><td>music shops - mus...</td><td>30</td><td>41.5699982787024</td><td>28.287460375323544</td><td>50.02470848195272</td><td>39.60423448329359</td><td>34.104899308059714</td><td>28.279976054787063</td><td>25.839493512422642</td><td>39.6187058603061</td><td>38.94738724924405</td><td>29.790575240671814</td><td>29.812062791127975</td><td>35.377905635916555</td><td>451.2574072718081</td><td>13</td></tr>\n",
       "<tr><td>50315283629</td><td>lawn and garden s...</td><td>30</td><td>41.386297823233676</td><td>24.046322753302128</td><td>45.9756661473744</td><td>42.24028183700362</td><td>30.35276439838577</td><td>28.958172649880012</td><td>28.42169649604201</td><td>42.24028183700362</td><td>42.20600233899415</td><td>33.391973416232815</td><td>31.8100674900831</td><td>28.92905234421992</td><td>449.9585795317552</td><td>14</td></tr>\n",
       "<tr><td>90918180829</td><td>jewelry, watch, c...</td><td>30</td><td>41.0960568207942</td><td>48.93140892503064</td><td>42.1056878760878</td><td>31.034551476088858</td><td>40.938993841989934</td><td>19.67357974624276</td><td>35.690733416358306</td><td>31.06730613039688</td><td>32.54887399308117</td><td>24.961928436556633</td><td>27.631532092135682</td><td>43.865376487355235</td><td>449.54602924211804</td><td>15</td></tr>\n",
       "<tr><td>15043504837</td><td>jewelry, watch, c...</td><td>20</td><td>41.213533213322805</td><td>48.26565278725761</td><td>41.14249035717753</td><td>28.2762328022426</td><td>43.03975201579331</td><td>18.022582737926914</td><td>32.148090023689996</td><td>28.287460375323544</td><td>27.514151842953783</td><td>38.138757983284215</td><td>37.12115235752187</td><td>45.81242252003619</td><td>448.9822790165303</td><td>16</td></tr>\n",
       "<tr><td>27093785141</td><td>stationery, offic...</td><td>30</td><td>42.27500197246281</td><td>28.32483877114252</td><td>43.865376487355235</td><td>41.5699982787024</td><td>30.496323628246664</td><td>29.872930930361367</td><td>29.45695727358747</td><td>41.59722781762685</td><td>41.54302575869148</td><td>25.029877553692586</td><td>33.4047598099523</td><td>31.187711868392658</td><td>448.62403015021437</td><td>17</td></tr>\n",
       "<tr><td>77590625261</td><td>computer programm...</td><td>20</td><td>42.493333928661855</td><td>31.103740903412337</td><td>43.285508944157826</td><td>41.48983038979789</td><td>30.037581018011384</td><td>29.561132180758154</td><td>27.078343131152682</td><td>41.46359726857943</td><td>41.70883037385366</td><td>33.60735171141407</td><td>35.31723414537313</td><td>31.23894777698769</td><td>448.3854317721601</td><td>18</td></tr>\n",
       "<tr><td>20269486864</td><td>motor vehicle sup...</td><td>30</td><td>41.005302962321224</td><td>26.671709407243892</td><td>41.88498389142028</td><td>33.62043371071621</td><td>37.53215656838552</td><td>30.89298777395254</td><td>27.252137181350818</td><td>33.60735171141407</td><td>26.760186699789827</td><td>42.172151245899556</td><td>36.229700287615046</td><td>40.05123615926409</td><td>447.6803375993731</td><td>19</td></tr>\n",
       "<tr><td>68216911708</td><td>computers, comput...</td><td>30</td><td>41.62471994335686</td><td>38.58150877350802</td><td>42.418553239399245</td><td>46.15290073650031</td><td>20.64643510194185</td><td>29.600607299577312</td><td>27.855747293430987</td><td>46.15290073650031</td><td>46.15290073650031</td><td>26.172084801427598</td><td>29.150457648568523</td><td>22.90957024407355</td><td>447.41838655478495</td><td>20</td></tr>\n",
       "</table>\n",
       "only showing top 20 rows\n"
      ],
      "text/plain": [
       "+------------+--------------------+------------------------+-------------------+---------------------------+----------------------------+---------------------------+-------------------------+----------------------------+-----------------------+---------------------------+---------------------+-------------------------------+----------------------------+------------------------------+------------------+----------+\n",
       "|merchant_abn|          Store_type|Revenue_levels_raw_score|Take_rate_raw_score|count_of_bigorder_raw_score|Avg_amount_monthly_raw_score|Avg_count_monthly_raw_score|Order_avg_value_raw_score|avg_prob_fraud_cus_raw_score|prob_of_fraud_raw_score|count_cus_per_mon_raw_score|fix_cus_num_raw_score|avg_income_percentage_raw_score|avg_age_percentage_raw_score|predict_dollar_value_raw_score|     raw_score_sum|study_rank|\n",
       "+------------+--------------------+------------------------+-------------------+---------------------------+----------------------------+---------------------------+-------------------------+----------------------------+-----------------------+---------------------------+---------------------+-------------------------------+----------------------------+------------------------------+------------------+----------+\n",
       "| 57223200264|art dealers and g...|                      50|   30.6546004653252|          34.88743354029564|            40.0021247880924|         30.759183668482347|        37.94833746148449|           35.97820170402947|     42.310175520510526|         30.748353653324788|    38.33854804999941|              26.72657258708235|          27.114934810750015|             41.18966209763083| 466.6581283470075|         1|\n",
       "| 60956456424|gift, card, novel...|                      20|  45.51973178482304|          35.65579385285441|           48.26565278725761|          45.51973178482304|       25.703470273655327|          30.048318676388533|      27.93611374281935|          45.51973178482304|    45.51973178482304|              33.57255721107289|           35.32272523688725|             26.26980804803454|464.85336696826204|         2|\n",
       "| 18158387243|health and beauty...|                      30|  41.59722781762685|          26.19884524276418|          45.144468178065836|          40.01841413012835|        32.72381441501778|           30.80253106630412|      29.28772745116895|           40.0021247880924|   40.151718833933444|              39.42141135479067|           34.76525998647066|             34.04050544733956|464.15404871170284|         3|\n",
       "| 90543168331|furniture, home f...|                      30| 42.455680247608214|         32.796104729533454|           44.92601602282011|          42.69012159086522|        29.32378053121853|          30.998196699995525|     28.859779952842576|          42.77318227880038|   42.815732880709604|              32.10593168744649|           31.23894777698769|             31.34171976797985|462.32519416680765|         4|\n",
       "| 66228393506|jewelry, watch, c...|                      30|  34.24465540625352|          46.15290073650031|           38.45286475486511|          26.56533952335523|        41.59722781762685|          20.263267794824866|       39.6187058603061|          26.58670656837752|    33.44750348742459|             38.400490810181935|          40.117880505242624|             45.51973178482304|460.96727504978156|         5|\n",
       "| 70009327857|lawn and garden s...|                      30|  41.18966209763083|          39.93775721255277|          42.493333928661855|          36.30751118927931|       35.394556565704455|           30.80976000231593|     28.713387864272445|         36.294462616606914|    36.91757339614054|               38.4952745680137|          27.248124448287417|             36.85889317093914|460.66029706040524|         6|\n",
       "| 64203420245|tent and awning s...|                      30|  42.99334815524945|          34.14656837492791|           47.07638029706966|          50.02470848195272|        20.68652596795065|           29.73325998820788|       27.9322960215154|          50.02470848195272|    50.02470848195272|             26.216639870669518|            29.1938546249609|            19.865244204127453|  457.918242950537|         7|\n",
       "| 19492220327|jewelry, watch, c...|                      20|  44.14315419304224|          50.02470848195272|           43.50121689964395|         31.896777482328428|        40.89558294826355|          20.424527126835333|      31.79127251384012|         31.877891439607474|   26.881126238920633|              34.34399347955905|           37.84721944290555|             44.14315419304224| 457.7706244399413|         8|\n",
       "| 24852446429|florists supplies...|                      30|  42.38193686783794|         29.847869692055035|           43.61662115002113|          48.93140892503064|       19.082789387265386|          29.744008445267443|       27.9170159978072|           47.7803208709254|    48.93140892503064|              33.63353447708392|           35.25714895174481|            19.796854802078755|456.92091849214825|         9|\n",
       "| 74874670528|             telecom|                      30|  34.49791438359392|          37.72193356978537|           38.98359610816117|         30.116329305580425|       37.957652594746754|           34.06804031922743|      33.83238332835609|          30.11990917999106|    36.63100987973675|              30.77723969979281|             42.073053582736|             39.63323842081445| 456.4123003725223|        10|\n",
       "| 99291944648|books, periodical...|                      20|  42.77318227880038|          32.31791090650948|           43.18430153295259|          39.76688910928258|        32.13658093438183|          28.588299191386078|     28.794000627627142|          39.76688910928258|    40.62751677595718|             40.417470195419945|           33.64665413264317|              33.4047598099523|455.42445460419526|        11|\n",
       "| 60829135130|equipment, tool, ...|                      40|  36.45996986941053|         35.684895579554855|           41.41183565987207|          32.76793991913409|        37.72193356978537|           34.32022480649708|     31.242611203430712|         32.788050822597725|     34.7099780272836|             26.646285683983223|           30.32049703432781|            40.117880505242624|454.19210268111965|        12|\n",
       "| 28057731482|music shops - mus...|                      30|   41.5699982787024|         28.287460375323544|           50.02470848195272|          39.60423448329359|       34.104899308059714|          28.279976054787063|     25.839493512422642|           39.6187058603061|    38.94738724924405|             29.790575240671814|          29.812062791127975|            35.377905635916555| 451.2574072718081|        13|\n",
       "| 50315283629|lawn and garden s...|                      30| 41.386297823233676|         24.046322753302128|            45.9756661473744|          42.24028183700362|        30.35276439838577|          28.958172649880012|      28.42169649604201|          42.24028183700362|    42.20600233899415|             33.391973416232815|            31.8100674900831|             28.92905234421992| 449.9585795317552|        14|\n",
       "| 90918180829|jewelry, watch, c...|                      30|   41.0960568207942|          48.93140892503064|            42.1056878760878|         31.034551476088858|       40.938993841989934|           19.67357974624276|     35.690733416358306|          31.06730613039688|    32.54887399308117|             24.961928436556633|          27.631532092135682|            43.865376487355235|449.54602924211804|        15|\n",
       "| 15043504837|jewelry, watch, c...|                      20| 41.213533213322805|          48.26565278725761|           41.14249035717753|           28.2762328022426|        43.03975201579331|          18.022582737926914|     32.148090023689996|         28.287460375323544|   27.514151842953783|             38.138757983284215|           37.12115235752187|             45.81242252003619| 448.9822790165303|        16|\n",
       "| 27093785141|stationery, offic...|                      30|  42.27500197246281|          28.32483877114252|          43.865376487355235|           41.5699982787024|       30.496323628246664|          29.872930930361367|      29.45695727358747|          41.59722781762685|    41.54302575869148|             25.029877553692586|            33.4047598099523|            31.187711868392658|448.62403015021437|        17|\n",
       "| 77590625261|computer programm...|                      20| 42.493333928661855|         31.103740903412337|          43.285508944157826|          41.48983038979789|       30.037581018011384|          29.561132180758154|     27.078343131152682|          41.46359726857943|    41.70883037385366|              33.60735171141407|           35.31723414537313|             31.23894777698769| 448.3854317721601|        18|\n",
       "| 20269486864|motor vehicle sup...|                      30| 41.005302962321224|         26.671709407243892|           41.88498389142028|          33.62043371071621|        37.53215656838552|           30.89298777395254|     27.252137181350818|          33.60735171141407|   26.760186699789827|             42.172151245899556|          36.229700287615046|             40.05123615926409| 447.6803375993731|        19|\n",
       "| 68216911708|computers, comput...|                      30|  41.62471994335686|          38.58150877350802|          42.418553239399245|          46.15290073650031|        20.64643510194185|          29.600607299577312|     27.855747293430987|          46.15290073650031|    46.15290073650031|             26.172084801427598|          29.150457648568523|             22.90957024407355|447.41838655478495|        20|\n",
       "+------------+--------------------+------------------------+-------------------+---------------------------+----------------------------+---------------------------+-------------------------+----------------------------+-----------------------+---------------------------+---------------------+-------------------------------+----------------------------+------------------------------+------------------+----------+\n",
       "only showing top 20 rows"
      ]
     },
     "execution_count": 22,
     "metadata": {},
     "output_type": "execute_result"
    }
   ],
   "source": [
    "\n",
    "study_score = final_study_score(final)\n",
    "study_score"
   ]
  },
  {
   "cell_type": "markdown",
   "metadata": {},
   "source": [
    "# Compare two models"
   ]
  },
  {
   "cell_type": "code",
   "execution_count": 23,
   "metadata": {},
   "outputs": [],
   "source": [
    "# The function for combining the rankings of the entropy model and study score model\n",
    "def combine_two_models(entropy_score, study_score):\n",
    "    study_score_rank = study_score.select(study_score.merchant_abn, study_score.study_rank)\n",
    "    compare_rank = entropy_score.join(study_score_rank, entropy_score.merchant_abn == study_score_rank.merchant_abn).drop(study_score_rank.merchant_abn)\n",
    "    compare_rank_final = compare_rank.withColumn('final_rank_score', (compare_rank.entropy_rank+compare_rank.study_rank)/2)\n",
    "    compare_rank_final = compare_rank_final.sort(compare_rank_final.final_rank_score)\n",
    "\n",
    "    compare_rank_final_pd = compare_rank_final.toPandas()\n",
    "    compare_rank_final_pd['final_rank'] = compare_rank_final_pd.final_rank_score.rank(axis=0,method='min')\n",
    "    compare_rank_final_pd['final_rank'] = compare_rank_final_pd.final_rank.astype(int)\n",
    "    unsorted_compare_rank_final = spark.createDataFrame(compare_rank_final_pd)\n",
    "    sorted_compare_rank_final= unsorted_compare_rank_final.sort(unsorted_compare_rank_final.final_rank)\n",
    "    return sorted_compare_rank_final\n"
   ]
  },
  {
   "cell_type": "code",
   "execution_count": 24,
   "metadata": {},
   "outputs": [
    {
     "data": {
      "text/html": [
       "<table border='1'>\n",
       "<tr><th>merchant_abn</th><th>entropy_rank</th><th>study_rank</th><th>final_rank</th></tr>\n",
       "<tr><td>64203420245</td><td>1</td><td>7</td><td>1</td></tr>\n",
       "<tr><td>24852446429</td><td>4</td><td>9</td><td>2</td></tr>\n",
       "<tr><td>60956456424</td><td>15</td><td>2</td><td>3</td></tr>\n",
       "<tr><td>19492220327</td><td>13</td><td>8</td><td>4</td></tr>\n",
       "<tr><td>68216911708</td><td>10</td><td>20</td><td>5</td></tr>\n",
       "<tr><td>90918180829</td><td>16</td><td>15</td><td>6</td></tr>\n",
       "<tr><td>90543168331</td><td>33</td><td>4</td><td>7</td></tr>\n",
       "<tr><td>15043504837</td><td>22</td><td>16</td><td>8</td></tr>\n",
       "<tr><td>64403598239</td><td>12</td><td>33</td><td>9</td></tr>\n",
       "<tr><td>50315283629</td><td>37</td><td>14</td><td>10</td></tr>\n",
       "<tr><td>80324045558</td><td>9</td><td>44</td><td>11</td></tr>\n",
       "<tr><td>28057731482</td><td>42</td><td>13</td><td>12</td></tr>\n",
       "<tr><td>79417999332</td><td>17</td><td>38</td><td>12</td></tr>\n",
       "<tr><td>27093785141</td><td>44</td><td>17</td><td>14</td></tr>\n",
       "<tr><td>18158387243</td><td>60</td><td>3</td><td>15</td></tr>\n",
       "<tr><td>90173050473</td><td>45</td><td>21</td><td>16</td></tr>\n",
       "<tr><td>31334588839</td><td>23</td><td>49</td><td>17</td></tr>\n",
       "<tr><td>45433476494</td><td>35</td><td>37</td><td>17</td></tr>\n",
       "<tr><td>96680767841</td><td>30</td><td>43</td><td>19</td></tr>\n",
       "<tr><td>67978471888</td><td>34</td><td>40</td><td>20</td></tr>\n",
       "</table>\n",
       "only showing top 20 rows\n"
      ],
      "text/plain": [
       "+------------+------------+----------+----------+\n",
       "|merchant_abn|entropy_rank|study_rank|final_rank|\n",
       "+------------+------------+----------+----------+\n",
       "| 64203420245|           1|         7|         1|\n",
       "| 24852446429|           4|         9|         2|\n",
       "| 60956456424|          15|         2|         3|\n",
       "| 19492220327|          13|         8|         4|\n",
       "| 68216911708|          10|        20|         5|\n",
       "| 90918180829|          16|        15|         6|\n",
       "| 90543168331|          33|         4|         7|\n",
       "| 15043504837|          22|        16|         8|\n",
       "| 64403598239|          12|        33|         9|\n",
       "| 50315283629|          37|        14|        10|\n",
       "| 80324045558|           9|        44|        11|\n",
       "| 28057731482|          42|        13|        12|\n",
       "| 79417999332|          17|        38|        12|\n",
       "| 27093785141|          44|        17|        14|\n",
       "| 18158387243|          60|         3|        15|\n",
       "| 90173050473|          45|        21|        16|\n",
       "| 31334588839|          23|        49|        17|\n",
       "| 45433476494|          35|        37|        17|\n",
       "| 96680767841|          30|        43|        19|\n",
       "| 67978471888|          34|        40|        20|\n",
       "+------------+------------+----------+----------+\n",
       "only showing top 20 rows"
      ]
     },
     "execution_count": 24,
     "metadata": {},
     "output_type": "execute_result"
    }
   ],
   "source": [
    "# Combine the rankings of the entropy model and study score model and select the merchants with high rankings for both as the final top100\n",
    "compare_rank_final = combine_two_models(entropy_score, study_score)\n",
    "top_100 = compare_rank_final.limit(100)\n",
    "top_100.select(top_100.merchant_abn, top_100.entropy_rank, top_100.study_rank, top_100.final_rank)"
   ]
  },
  {
   "cell_type": "markdown",
   "metadata": {},
   "source": [
    "# Five Segments"
   ]
  },
  {
   "cell_type": "code",
   "execution_count": 25,
   "metadata": {},
   "outputs": [
    {
     "data": {
      "text/plain": [
       "[['opticians, optical goods, and eyeglasses'],\n",
       " ['watch, clock, and jewelry repair shops'],\n",
       " ['computer programming , data processing, and integrated systems design services'],\n",
       " ['digital goods: books, movies, music'],\n",
       " ['books, periodicals, and newspapers'],\n",
       " ['florists supplies, nursery stock, and flowers'],\n",
       " ['art dealers and galleries'],\n",
       " ['antique shops - sales, repairs, and restoration services'],\n",
       " ['gift, card, novelty, and souvenir shops'],\n",
       " ['equipment, tool, furniture, and appliance rent al and leasing'],\n",
       " ['cable, satellite, and other pay television and radio services'],\n",
       " ['tent and awning shops'],\n",
       " ['artist supply and craft shops'],\n",
       " ['stationery, office supplies and printing and writing paper'],\n",
       " ['furniture, home furnishings and equipment shops, and manufacturers, except appliances'],\n",
       " ['telecom'],\n",
       " ['jewelry, watch, clock, and silverware shops'],\n",
       " ['shoe shops'],\n",
       " ['hobby, toy and game shops'],\n",
       " ['computers, computer peripheral equipment, and software'],\n",
       " ['music shops - musical instruments, pianos, and sheet music'],\n",
       " ['health and beauty spas'],\n",
       " ['lawn and garden supply outlets, including nurseries'],\n",
       " ['motor vehicle supplies and new parts'],\n",
       " ['bicycle shops - sales and service']]"
      ]
     },
     "execution_count": 25,
     "metadata": {},
     "output_type": "execute_result"
    }
   ],
   "source": [
    "# Check all the store types\n",
    "final.select('Store_type').distinct().toPandas().values.tolist()"
   ]
  },
  {
   "cell_type": "markdown",
   "metadata": {},
   "source": [
    "### Manually divide store types into 5 categories"
   ]
  },
  {
   "cell_type": "code",
   "execution_count": 26,
   "metadata": {},
   "outputs": [],
   "source": [
    "art = final.filter((final.Store_type == 'antique shops - sales, repairs, and restoration services') \n",
    "                    | (final.Store_type == 'art dealers and galleries')\n",
    "                    | (final.Store_type == 'watch, clock, and jewelry repair shops')\n",
    "                    | (final.Store_type == 'artist supply and craft shops')\n",
    "                    | (final.Store_type == 'jewelry, watch, clock, and silverware shops')\n",
    "                    | (final.Store_type == 'music shops - musical instruments, pianos, and sheet music'))\n"
   ]
  },
  {
   "cell_type": "code",
   "execution_count": 27,
   "metadata": {},
   "outputs": [],
   "source": [
    "sports = final.filter((final.Store_type == 'bicycle shops - sales and service') \n",
    "                    | (final.Store_type == 'motor vehicle supplies and new parts')\n",
    "                    | (final.Store_type == 'tent and awning shops'))"
   ]
  },
  {
   "cell_type": "code",
   "execution_count": 28,
   "metadata": {},
   "outputs": [],
   "source": [
    "\n",
    "technology = final.filter((final.Store_type == 'cable, satellite, and other pay television and radio services') \n",
    "                    | (final.Store_type == 'computer programming , data processing, and integrated systems design services')\n",
    "                    | (final.Store_type == 'computers, computer peripheral equipment, and software')\n",
    "                    | (final.Store_type == 'digital goods: books, movies, music')\n",
    "                    | (final.Store_type == 'equipment, tool, furniture, and appliance rent al and leasing')\n",
    "                    | (final.Store_type == 'telecom'))"
   ]
  },
  {
   "cell_type": "code",
   "execution_count": 29,
   "metadata": {},
   "outputs": [],
   "source": [
    "\n",
    "home = final.filter((final.Store_type == 'books, periodicals, and newspapers') \n",
    "                    | (final.Store_type == 'florists supplies, nursery stock, and flowers')\n",
    "                    | (final.Store_type == 'furniture, home furnishings and equipment shops, and manufacturers, except appliances')\n",
    "                    | (final.Store_type == 'gift, card, novelty, and souvenir shops')\n",
    "                    | (final.Store_type == 'hobby, toy and game shops')\n",
    "                    | (final.Store_type == 'lawn and garden supply outlets, including nurseries')\n",
    "                    | (final.Store_type == 'shoe shops')\n",
    "                    | (final.Store_type == 'stationery, office supplies and printing and writing paper'))"
   ]
  },
  {
   "cell_type": "code",
   "execution_count": 30,
   "metadata": {},
   "outputs": [],
   "source": [
    "health = final.filter((final.Store_type == 'health and beauty spas') \n",
    "                    | (final.Store_type == 'opticians, optical goods, and eyeglasses'))"
   ]
  },
  {
   "cell_type": "markdown",
   "metadata": {},
   "source": [
    "### Find top10 merchants in each segment\n"
   ]
  },
  {
   "cell_type": "code",
   "execution_count": 31,
   "metadata": {},
   "outputs": [
    {
     "name": "stderr",
     "output_type": "stream",
     "text": [
      "/var/folders/4w/p31d1t_x5pqbppcsm7p9kxt00000gn/T/ipykernel_51877/4003237133.py:12: SettingWithCopyWarning: \n",
      "A value is trying to be set on a copy of a slice from a DataFrame.\n",
      "Try using .loc[row_indexer,col_indexer] = value instead\n",
      "\n",
      "See the caveats in the documentation: https://pandas.pydata.org/pandas-docs/stable/user_guide/indexing.html#returning-a-view-versus-a-copy\n",
      "  reve[['Revenue_levels_raw_score']] = reve[['Revenue_levels']].replace(to_replace = ['a', 'b', 'c', 'd', 'e'], value = [10, 20, 30, 40, 50])\n"
     ]
    },
    {
     "data": {
      "text/html": [
       "<table border='1'>\n",
       "<tr><th>merchant_abn</th><th>entropy_rank</th><th>study_rank</th><th>final_rank</th></tr>\n",
       "<tr><td>19492220327</td><td>4</td><td>3</td><td>1</td></tr>\n",
       "<tr><td>90918180829</td><td>6</td><td>4</td><td>2</td></tr>\n",
       "<tr><td>15043504837</td><td>10</td><td>6</td><td>3</td></tr>\n",
       "<tr><td>28057731482</td><td>11</td><td>5</td><td>3</td></tr>\n",
       "<tr><td>64403598239</td><td>3</td><td>13</td><td>3</td></tr>\n",
       "<tr><td>68559320474</td><td>9</td><td>15</td><td>6</td></tr>\n",
       "<tr><td>39649557865</td><td>15</td><td>14</td><td>7</td></tr>\n",
       "<tr><td>63123845164</td><td>14</td><td>16</td><td>8</td></tr>\n",
       "<tr><td>86578477987</td><td>1</td><td>29</td><td>8</td></tr>\n",
       "<tr><td>66228393506</td><td>32</td><td>1</td><td>10</td></tr>\n",
       "</table>\n"
      ],
      "text/plain": [
       "+------------+------------+----------+----------+\n",
       "|merchant_abn|entropy_rank|study_rank|final_rank|\n",
       "+------------+------------+----------+----------+\n",
       "| 19492220327|           4|         3|         1|\n",
       "| 90918180829|           6|         4|         2|\n",
       "| 15043504837|          10|         6|         3|\n",
       "| 28057731482|          11|         5|         3|\n",
       "| 64403598239|           3|        13|         3|\n",
       "| 68559320474|           9|        15|         6|\n",
       "| 39649557865|          15|        14|         7|\n",
       "| 63123845164|          14|        16|         8|\n",
       "| 86578477987|           1|        29|         8|\n",
       "| 66228393506|          32|         1|        10|\n",
       "+------------+------------+----------+----------+"
      ]
     },
     "execution_count": 31,
     "metadata": {},
     "output_type": "execute_result"
    }
   ],
   "source": [
    "from pyspark.sql.functions import col\n",
    "art_entropy_df = get_rank_df(art,col_list_1,col_list_2)\n",
    "art_study_df =  final_study_score(art)\n",
    "art_combine = combine_two_models(art_entropy_df, art_study_df)\n",
    "art_combine.select(art_combine.merchant_abn, art_combine.entropy_rank, art_combine.study_rank, art_combine.final_rank).limit(10)"
   ]
  },
  {
   "cell_type": "code",
   "execution_count": 32,
   "metadata": {},
   "outputs": [
    {
     "name": "stderr",
     "output_type": "stream",
     "text": [
      "/var/folders/4w/p31d1t_x5pqbppcsm7p9kxt00000gn/T/ipykernel_51877/4003237133.py:12: SettingWithCopyWarning: \n",
      "A value is trying to be set on a copy of a slice from a DataFrame.\n",
      "Try using .loc[row_indexer,col_indexer] = value instead\n",
      "\n",
      "See the caveats in the documentation: https://pandas.pydata.org/pandas-docs/stable/user_guide/indexing.html#returning-a-view-versus-a-copy\n",
      "  reve[['Revenue_levels_raw_score']] = reve[['Revenue_levels']].replace(to_replace = ['a', 'b', 'c', 'd', 'e'], value = [10, 20, 30, 40, 50])\n"
     ]
    },
    {
     "data": {
      "text/html": [
       "<table border='1'>\n",
       "<tr><th>merchant_abn</th><th>entropy_rank</th><th>study_rank</th><th>final_rank</th></tr>\n",
       "<tr><td>64203420245</td><td>1</td><td>1</td><td>1</td></tr>\n",
       "<tr><td>96680767841</td><td>4</td><td>11</td><td>2</td></tr>\n",
       "<tr><td>90568944804</td><td>11</td><td>7</td><td>3</td></tr>\n",
       "<tr><td>38700038932</td><td>6</td><td>14</td><td>4</td></tr>\n",
       "<tr><td>75454398468</td><td>18</td><td>3</td><td>5</td></tr>\n",
       "<tr><td>80551528183</td><td>13</td><td>8</td><td>5</td></tr>\n",
       "<tr><td>89726005175</td><td>3</td><td>21</td><td>7</td></tr>\n",
       "<tr><td>31385641294</td><td>21</td><td>4</td><td>8</td></tr>\n",
       "<tr><td>22033359776</td><td>7</td><td>19</td><td>9</td></tr>\n",
       "<tr><td>49891706470</td><td>2</td><td>32</td><td>10</td></tr>\n",
       "</table>\n"
      ],
      "text/plain": [
       "+------------+------------+----------+----------+\n",
       "|merchant_abn|entropy_rank|study_rank|final_rank|\n",
       "+------------+------------+----------+----------+\n",
       "| 64203420245|           1|         1|         1|\n",
       "| 96680767841|           4|        11|         2|\n",
       "| 90568944804|          11|         7|         3|\n",
       "| 38700038932|           6|        14|         4|\n",
       "| 75454398468|          18|         3|         5|\n",
       "| 80551528183|          13|         8|         5|\n",
       "| 89726005175|           3|        21|         7|\n",
       "| 31385641294|          21|         4|         8|\n",
       "| 22033359776|           7|        19|         9|\n",
       "| 49891706470|           2|        32|        10|\n",
       "+------------+------------+----------+----------+"
      ]
     },
     "execution_count": 32,
     "metadata": {},
     "output_type": "execute_result"
    }
   ],
   "source": [
    "sports_entropy_df = get_rank_df(sports,col_list_1,col_list_2)\n",
    "sports_study_df =  final_study_score(sports)\n",
    "sports_combine = combine_two_models(sports_entropy_df, sports_study_df)\n",
    "sports_combine.select(sports_combine.merchant_abn, sports_combine.entropy_rank, sports_combine.study_rank, sports_combine.final_rank).limit(10)"
   ]
  },
  {
   "cell_type": "code",
   "execution_count": 33,
   "metadata": {},
   "outputs": [
    {
     "name": "stderr",
     "output_type": "stream",
     "text": [
      "/var/folders/4w/p31d1t_x5pqbppcsm7p9kxt00000gn/T/ipykernel_51877/4003237133.py:12: SettingWithCopyWarning: \n",
      "A value is trying to be set on a copy of a slice from a DataFrame.\n",
      "Try using .loc[row_indexer,col_indexer] = value instead\n",
      "\n",
      "See the caveats in the documentation: https://pandas.pydata.org/pandas-docs/stable/user_guide/indexing.html#returning-a-view-versus-a-copy\n",
      "  reve[['Revenue_levels_raw_score']] = reve[['Revenue_levels']].replace(to_replace = ['a', 'b', 'c', 'd', 'e'], value = [10, 20, 30, 40, 50])\n"
     ]
    },
    {
     "data": {
      "text/html": [
       "<table border='1'>\n",
       "<tr><th>merchant_abn</th><th>entropy_rank</th><th>study_rank</th><th>final_rank</th></tr>\n",
       "<tr><td>68216911708</td><td>1</td><td>4</td><td>1</td></tr>\n",
       "<tr><td>77590625261</td><td>9</td><td>1</td><td>2</td></tr>\n",
       "<tr><td>72472909171</td><td>3</td><td>13</td><td>3</td></tr>\n",
       "<tr><td>35909341340</td><td>5</td><td>12</td><td>4</td></tr>\n",
       "<tr><td>45433476494</td><td>6</td><td>11</td><td>4</td></tr>\n",
       "<tr><td>82368304209</td><td>13</td><td>8</td><td>6</td></tr>\n",
       "<tr><td>80518954462</td><td>7</td><td>14</td><td>6</td></tr>\n",
       "<tr><td>84703983173</td><td>12</td><td>9</td><td>6</td></tr>\n",
       "<tr><td>77338620996</td><td>19</td><td>5</td><td>9</td></tr>\n",
       "<tr><td>93260930990</td><td>16</td><td>10</td><td>10</td></tr>\n",
       "</table>\n"
      ],
      "text/plain": [
       "+------------+------------+----------+----------+\n",
       "|merchant_abn|entropy_rank|study_rank|final_rank|\n",
       "+------------+------------+----------+----------+\n",
       "| 68216911708|           1|         4|         1|\n",
       "| 77590625261|           9|         1|         2|\n",
       "| 72472909171|           3|        13|         3|\n",
       "| 35909341340|           5|        12|         4|\n",
       "| 45433476494|           6|        11|         4|\n",
       "| 82368304209|          13|         8|         6|\n",
       "| 80518954462|           7|        14|         6|\n",
       "| 84703983173|          12|         9|         6|\n",
       "| 77338620996|          19|         5|         9|\n",
       "| 93260930990|          16|        10|        10|\n",
       "+------------+------------+----------+----------+"
      ]
     },
     "execution_count": 33,
     "metadata": {},
     "output_type": "execute_result"
    }
   ],
   "source": [
    "technology_entropy_df = get_rank_df(technology,col_list_1,col_list_2)\n",
    "technology_study_df =  final_study_score(technology)\n",
    "technology_combine = combine_two_models(technology_entropy_df, technology_study_df)\n",
    "technology_combine.select(technology_combine.merchant_abn, technology_combine.entropy_rank, technology_combine.study_rank, technology_combine.final_rank).limit(10)"
   ]
  },
  {
   "cell_type": "code",
   "execution_count": 34,
   "metadata": {},
   "outputs": [
    {
     "name": "stderr",
     "output_type": "stream",
     "text": [
      "/var/folders/4w/p31d1t_x5pqbppcsm7p9kxt00000gn/T/ipykernel_51877/4003237133.py:12: SettingWithCopyWarning: \n",
      "A value is trying to be set on a copy of a slice from a DataFrame.\n",
      "Try using .loc[row_indexer,col_indexer] = value instead\n",
      "\n",
      "See the caveats in the documentation: https://pandas.pydata.org/pandas-docs/stable/user_guide/indexing.html#returning-a-view-versus-a-copy\n",
      "  reve[['Revenue_levels_raw_score']] = reve[['Revenue_levels']].replace(to_replace = ['a', 'b', 'c', 'd', 'e'], value = [10, 20, 30, 40, 50])\n",
      "                                                                                \r"
     ]
    },
    {
     "data": {
      "text/html": [
       "<table border='1'>\n",
       "<tr><th>merchant_abn</th><th>entropy_rank</th><th>study_rank</th><th>final_rank</th></tr>\n",
       "<tr><td>24852446429</td><td>1</td><td>5</td><td>1</td></tr>\n",
       "<tr><td>60956456424</td><td>5</td><td>3</td><td>2</td></tr>\n",
       "<tr><td>90543168331</td><td>13</td><td>2</td><td>3</td></tr>\n",
       "<tr><td>50315283629</td><td>14</td><td>7</td><td>4</td></tr>\n",
       "<tr><td>79417999332</td><td>6</td><td>17</td><td>5</td></tr>\n",
       "<tr><td>27093785141</td><td>18</td><td>6</td><td>6</td></tr>\n",
       "<tr><td>76767266140</td><td>9</td><td>16</td><td>7</td></tr>\n",
       "<tr><td>90173050473</td><td>20</td><td>9</td><td>8</td></tr>\n",
       "<tr><td>99291944648</td><td>25</td><td>4</td><td>8</td></tr>\n",
       "<tr><td>80324045558</td><td>4</td><td>27</td><td>10</td></tr>\n",
       "</table>\n"
      ],
      "text/plain": [
       "+------------+------------+----------+----------+\n",
       "|merchant_abn|entropy_rank|study_rank|final_rank|\n",
       "+------------+------------+----------+----------+\n",
       "| 24852446429|           1|         5|         1|\n",
       "| 60956456424|           5|         3|         2|\n",
       "| 90543168331|          13|         2|         3|\n",
       "| 50315283629|          14|         7|         4|\n",
       "| 79417999332|           6|        17|         5|\n",
       "| 27093785141|          18|         6|         6|\n",
       "| 76767266140|           9|        16|         7|\n",
       "| 90173050473|          20|         9|         8|\n",
       "| 99291944648|          25|         4|         8|\n",
       "| 80324045558|           4|        27|        10|\n",
       "+------------+------------+----------+----------+"
      ]
     },
     "execution_count": 34,
     "metadata": {},
     "output_type": "execute_result"
    }
   ],
   "source": [
    "home_entropy_df = get_rank_df(home,col_list_1,col_list_2)\n",
    "home_study_df =  final_study_score(home)\n",
    "home_combine = combine_two_models(home_entropy_df, home_study_df)\n",
    "home_combine.select(home_combine.merchant_abn, home_combine.entropy_rank, home_combine.study_rank, home_combine.final_rank).limit(10)"
   ]
  },
  {
   "cell_type": "code",
   "execution_count": 35,
   "metadata": {},
   "outputs": [
    {
     "name": "stderr",
     "output_type": "stream",
     "text": [
      "/var/folders/4w/p31d1t_x5pqbppcsm7p9kxt00000gn/T/ipykernel_51877/4003237133.py:12: SettingWithCopyWarning: \n",
      "A value is trying to be set on a copy of a slice from a DataFrame.\n",
      "Try using .loc[row_indexer,col_indexer] = value instead\n",
      "\n",
      "See the caveats in the documentation: https://pandas.pydata.org/pandas-docs/stable/user_guide/indexing.html#returning-a-view-versus-a-copy\n",
      "  reve[['Revenue_levels_raw_score']] = reve[['Revenue_levels']].replace(to_replace = ['a', 'b', 'c', 'd', 'e'], value = [10, 20, 30, 40, 50])\n"
     ]
    },
    {
     "data": {
      "text/html": [
       "<table border='1'>\n",
       "<tr><th>merchant_abn</th><th>entropy_rank</th><th>study_rank</th><th>final_rank</th></tr>\n",
       "<tr><td>18158387243</td><td>3</td><td>1</td><td>1</td></tr>\n",
       "<tr><td>11237511112</td><td>6</td><td>4</td><td>2</td></tr>\n",
       "<tr><td>88699453206</td><td>7</td><td>3</td><td>2</td></tr>\n",
       "<tr><td>46804135891</td><td>1</td><td>12</td><td>4</td></tr>\n",
       "<tr><td>71674475255</td><td>9</td><td>5</td><td>5</td></tr>\n",
       "<tr><td>48534649627</td><td>2</td><td>15</td><td>6</td></tr>\n",
       "<tr><td>88358066529</td><td>17</td><td>6</td><td>7</td></tr>\n",
       "<tr><td>95574756848</td><td>8</td><td>20</td><td>8</td></tr>\n",
       "<tr><td>92065881715</td><td>14</td><td>16</td><td>9</td></tr>\n",
       "<tr><td>88547577701</td><td>13</td><td>19</td><td>10</td></tr>\n",
       "</table>\n"
      ],
      "text/plain": [
       "+------------+------------+----------+----------+\n",
       "|merchant_abn|entropy_rank|study_rank|final_rank|\n",
       "+------------+------------+----------+----------+\n",
       "| 18158387243|           3|         1|         1|\n",
       "| 11237511112|           6|         4|         2|\n",
       "| 88699453206|           7|         3|         2|\n",
       "| 46804135891|           1|        12|         4|\n",
       "| 71674475255|           9|         5|         5|\n",
       "| 48534649627|           2|        15|         6|\n",
       "| 88358066529|          17|         6|         7|\n",
       "| 95574756848|           8|        20|         8|\n",
       "| 92065881715|          14|        16|         9|\n",
       "| 88547577701|          13|        19|        10|\n",
       "+------------+------------+----------+----------+"
      ]
     },
     "execution_count": 35,
     "metadata": {},
     "output_type": "execute_result"
    }
   ],
   "source": [
    "health_entropy_df = get_rank_df(health,col_list_1,col_list_2)\n",
    "health_study_df =  final_study_score(health)\n",
    "health_combine = combine_two_models(health_entropy_df, health_study_df)\n",
    "health_combine.select(health_combine.merchant_abn, health_combine.entropy_rank, health_combine.study_rank, health_combine.final_rank).limit(10)"
   ]
  },
  {
   "cell_type": "code",
   "execution_count": 36,
   "metadata": {},
   "outputs": [
    {
     "name": "stderr",
     "output_type": "stream",
     "text": [
      "                                                                                \r"
     ]
    },
    {
     "name": "stdout",
     "output_type": "stream",
     "text": [
      "22/10/18 15:31:04 WARN WindowExec: No Partition Defined for Window operation! Moving all data to a single partition, this can cause serious performance degradation.\n",
      "22/10/18 15:31:04 WARN WindowExec: No Partition Defined for Window operation! Moving all data to a single partition, this can cause serious performance degradation.\n",
      "22/10/18 15:31:04 WARN WindowExec: No Partition Defined for Window operation! Moving all data to a single partition, this can cause serious performance degradation.\n",
      "22/10/18 15:31:04 WARN WindowExec: No Partition Defined for Window operation! Moving all data to a single partition, this can cause serious performance degradation.\n",
      "22/10/18 15:31:04 WARN WindowExec: No Partition Defined for Window operation! Moving all data to a single partition, this can cause serious performance degradation.\n",
      "22/10/18 15:31:04 WARN WindowExec: No Partition Defined for Window operation! Moving all data to a single partition, this can cause serious performance degradation.\n",
      "22/10/18 15:31:04 WARN WindowExec: No Partition Defined for Window operation! Moving all data to a single partition, this can cause serious performance degradation.\n",
      "22/10/18 15:31:04 WARN WindowExec: No Partition Defined for Window operation! Moving all data to a single partition, this can cause serious performance degradation.\n",
      "22/10/18 15:31:04 WARN WindowExec: No Partition Defined for Window operation! Moving all data to a single partition, this can cause serious performance degradation.\n",
      "22/10/18 15:31:04 WARN WindowExec: No Partition Defined for Window operation! Moving all data to a single partition, this can cause serious performance degradation.\n",
      "22/10/18 15:31:04 WARN WindowExec: No Partition Defined for Window operation! Moving all data to a single partition, this can cause serious performance degradation.\n",
      "22/10/18 15:31:04 WARN WindowExec: No Partition Defined for Window operation! Moving all data to a single partition, this can cause serious performance degradation.\n",
      "22/10/18 15:31:04 WARN WindowExec: No Partition Defined for Window operation! Moving all data to a single partition, this can cause serious performance degradation.\n",
      "22/10/18 15:31:04 WARN WindowExec: No Partition Defined for Window operation! Moving all data to a single partition, this can cause serious performance degradation.\n",
      "22/10/18 15:31:04 WARN WindowExec: No Partition Defined for Window operation! Moving all data to a single partition, this can cause serious performance degradation.\n",
      "22/10/18 15:31:04 WARN WindowExec: No Partition Defined for Window operation! Moving all data to a single partition, this can cause serious performance degradation.\n",
      "22/10/18 15:31:04 WARN WindowExec: No Partition Defined for Window operation! Moving all data to a single partition, this can cause serious performance degradation.\n",
      "22/10/18 15:31:04 WARN WindowExec: No Partition Defined for Window operation! Moving all data to a single partition, this can cause serious performance degradation.\n",
      "22/10/18 15:31:04 WARN WindowExec: No Partition Defined for Window operation! Moving all data to a single partition, this can cause serious performance degradation.\n",
      "22/10/18 15:31:04 WARN WindowExec: No Partition Defined for Window operation! Moving all data to a single partition, this can cause serious performance degradation.\n",
      "22/10/18 15:31:04 WARN WindowExec: No Partition Defined for Window operation! Moving all data to a single partition, this can cause serious performance degradation.\n",
      "22/10/18 15:31:04 WARN WindowExec: No Partition Defined for Window operation! Moving all data to a single partition, this can cause serious performance degradation.\n",
      "22/10/18 15:31:04 WARN WindowExec: No Partition Defined for Window operation! Moving all data to a single partition, this can cause serious performance degradation.\n",
      "22/10/18 15:31:04 WARN WindowExec: No Partition Defined for Window operation! Moving all data to a single partition, this can cause serious performance degradation.\n",
      "22/10/18 15:31:04 WARN WindowExec: No Partition Defined for Window operation! Moving all data to a single partition, this can cause serious performance degradation.\n",
      "22/10/18 15:31:04 WARN WindowExec: No Partition Defined for Window operation! Moving all data to a single partition, this can cause serious performance degradation.\n",
      "22/10/18 15:31:04 WARN WindowExec: No Partition Defined for Window operation! Moving all data to a single partition, this can cause serious performance degradation.\n",
      "22/10/18 15:31:04 WARN WindowExec: No Partition Defined for Window operation! Moving all data to a single partition, this can cause serious performance degradation.\n",
      "22/10/18 15:31:04 WARN WindowExec: No Partition Defined for Window operation! Moving all data to a single partition, this can cause serious performance degradation.\n",
      "22/10/18 15:31:04 WARN WindowExec: No Partition Defined for Window operation! Moving all data to a single partition, this can cause serious performance degradation.\n",
      "22/10/18 15:31:04 WARN WindowExec: No Partition Defined for Window operation! Moving all data to a single partition, this can cause serious performance degradation.\n",
      "22/10/18 15:31:04 WARN WindowExec: No Partition Defined for Window operation! Moving all data to a single partition, this can cause serious performance degradation.\n",
      "22/10/18 15:31:04 WARN WindowExec: No Partition Defined for Window operation! Moving all data to a single partition, this can cause serious performance degradation.\n",
      "22/10/18 15:31:04 WARN WindowExec: No Partition Defined for Window operation! Moving all data to a single partition, this can cause serious performance degradation.\n",
      "22/10/18 15:31:04 WARN WindowExec: No Partition Defined for Window operation! Moving all data to a single partition, this can cause serious performance degradation.\n",
      "22/10/18 15:31:04 WARN WindowExec: No Partition Defined for Window operation! Moving all data to a single partition, this can cause serious performance degradation.\n",
      "22/10/18 15:31:04 WARN WindowExec: No Partition Defined for Window operation! Moving all data to a single partition, this can cause serious performance degradation.\n",
      "22/10/18 15:31:04 WARN WindowExec: No Partition Defined for Window operation! Moving all data to a single partition, this can cause serious performance degradation.\n",
      "22/10/18 15:31:04 WARN WindowExec: No Partition Defined for Window operation! Moving all data to a single partition, this can cause serious performance degradation.\n",
      "22/10/18 15:31:04 WARN WindowExec: No Partition Defined for Window operation! Moving all data to a single partition, this can cause serious performance degradation.\n",
      "22/10/18 15:31:04 WARN WindowExec: No Partition Defined for Window operation! Moving all data to a single partition, this can cause serious performance degradation.\n",
      "22/10/18 15:31:04 WARN WindowExec: No Partition Defined for Window operation! Moving all data to a single partition, this can cause serious performance degradation.\n",
      "22/10/18 15:31:04 WARN WindowExec: No Partition Defined for Window operation! Moving all data to a single partition, this can cause serious performance degradation.\n",
      "22/10/18 15:31:04 WARN WindowExec: No Partition Defined for Window operation! Moving all data to a single partition, this can cause serious performance degradation.\n",
      "22/10/18 15:31:04 WARN WindowExec: No Partition Defined for Window operation! Moving all data to a single partition, this can cause serious performance degradation.\n",
      "22/10/18 15:31:04 WARN WindowExec: No Partition Defined for Window operation! Moving all data to a single partition, this can cause serious performance degradation.\n",
      "22/10/18 15:31:04 WARN WindowExec: No Partition Defined for Window operation! Moving all data to a single partition, this can cause serious performance degradation.\n",
      "22/10/18 15:31:04 WARN WindowExec: No Partition Defined for Window operation! Moving all data to a single partition, this can cause serious performance degradation.\n"
     ]
    },
    {
     "name": "stderr",
     "output_type": "stream",
     "text": [
      "                                                                                \r"
     ]
    }
   ],
   "source": [
    "pure_add_rank.write.mode('overwrite').parquet('../data/curated/baseline.parquet')\n",
    "sorted_self_weight_score.write.mode('overwrite').parquet('../data/curated/self_weight.parquet')\n",
    "entropy_score.write.mode('overwrite').parquet('../data/curated/entropy_weight.parquet')\n",
    "sum_rank.write.mode('overwrite').parquet('../data/curated/sum_rank.parquet')\n",
    "top_100.write.mode('overwrite').parquet('../data/curated/top_100.parquet')\n",
    "art_combine.write.mode('overwrite').parquet('../data/curated/art_combine.parquet')\n",
    "sports_combine.write.mode('overwrite').parquet('../data/curated/sports_combine.parquet')\n",
    "technology_combine.write.mode('overwrite').parquet('../data/curated/technology_combine.parquet')\n",
    "home_combine.write.mode('overwrite').parquet('../data/curated/home_combine.parquet')\n",
    "health_combine.write.mode('overwrite').parquet('../data/curated/health_combine.parquet')\n",
    "study_score.write.mode('overwrite').parquet('../data/curated/study_score_rank.parquet')"
   ]
  },
  {
   "cell_type": "markdown",
   "metadata": {},
   "source": [
    "#### Features rank compare to the final rank\n"
   ]
  },
  {
   "cell_type": "code",
   "execution_count": 37,
   "metadata": {},
   "outputs": [],
   "source": [
    "final_pd = final.toPandas()"
   ]
  },
  {
   "cell_type": "code",
   "execution_count": 38,
   "metadata": {},
   "outputs": [],
   "source": [
    "# Rank each feature \n",
    "def feature_rank(table_name, col_name):\n",
    "    table_name[col_name+'_rank'] = table_name[col_name].rank(axis=0,method='min', ascending=False)\n",
    "    table_name[col_name+'_rank'] = table_name[col_name+'_rank'].astype(int)\n",
    "    return table_name[['merchant_abn', col_name+'_rank']]"
   ]
  },
  {
   "cell_type": "code",
   "execution_count": 39,
   "metadata": {},
   "outputs": [
    {
     "data": {
      "text/html": [
       "<div>\n",
       "<style scoped>\n",
       "    .dataframe tbody tr th:only-of-type {\n",
       "        vertical-align: middle;\n",
       "    }\n",
       "\n",
       "    .dataframe tbody tr th {\n",
       "        vertical-align: top;\n",
       "    }\n",
       "\n",
       "    .dataframe thead th {\n",
       "        text-align: right;\n",
       "    }\n",
       "</style>\n",
       "<table border=\"1\" class=\"dataframe\">\n",
       "  <thead>\n",
       "    <tr style=\"text-align: right;\">\n",
       "      <th></th>\n",
       "      <th>merchant_abn</th>\n",
       "      <th>Take_rate_rank</th>\n",
       "      <th>count_of_bigorder_rank</th>\n",
       "      <th>Avg_amount_monthly_rank</th>\n",
       "      <th>Avg_count_monthly_rank</th>\n",
       "      <th>Order_avg_value_rank</th>\n",
       "      <th>avg_prob_fraud_cus_rank</th>\n",
       "      <th>prob_of_fraud_rank</th>\n",
       "      <th>count_cus_per_mon_rank</th>\n",
       "      <th>fix_cus_num_rank</th>\n",
       "      <th>avg_income_percentage_rank</th>\n",
       "      <th>avg_age_percentage_rank</th>\n",
       "      <th>predict_dollar_value_rank</th>\n",
       "    </tr>\n",
       "  </thead>\n",
       "  <tbody>\n",
       "    <tr>\n",
       "      <th>0</th>\n",
       "      <td>10023283211</td>\n",
       "      <td>3134</td>\n",
       "      <td>153</td>\n",
       "      <td>893</td>\n",
       "      <td>753</td>\n",
       "      <td>2396</td>\n",
       "      <td>2508</td>\n",
       "      <td>2535</td>\n",
       "      <td>760</td>\n",
       "      <td>280</td>\n",
       "      <td>2628</td>\n",
       "      <td>2565</td>\n",
       "      <td>2638</td>\n",
       "    </tr>\n",
       "    <tr>\n",
       "      <th>1</th>\n",
       "      <td>10142254217</td>\n",
       "      <td>2174</td>\n",
       "      <td>153</td>\n",
       "      <td>2263</td>\n",
       "      <td>823</td>\n",
       "      <td>3865</td>\n",
       "      <td>2994</td>\n",
       "      <td>3124</td>\n",
       "      <td>828</td>\n",
       "      <td>280</td>\n",
       "      <td>1275</td>\n",
       "      <td>457</td>\n",
       "      <td>3963</td>\n",
       "    </tr>\n",
       "    <tr>\n",
       "      <th>2</th>\n",
       "      <td>10165489824</td>\n",
       "      <td>2366</td>\n",
       "      <td>96</td>\n",
       "      <td>2431</td>\n",
       "      <td>3945</td>\n",
       "      <td>58</td>\n",
       "      <td>3977</td>\n",
       "      <td>1</td>\n",
       "      <td>3945</td>\n",
       "      <td>280</td>\n",
       "      <td>1562</td>\n",
       "      <td>1718</td>\n",
       "      <td>3971</td>\n",
       "    </tr>\n",
       "    <tr>\n",
       "      <th>3</th>\n",
       "      <td>10187291046</td>\n",
       "      <td>3155</td>\n",
       "      <td>153</td>\n",
       "      <td>2936</td>\n",
       "      <td>2204</td>\n",
       "      <td>2974</td>\n",
       "      <td>491</td>\n",
       "      <td>3052</td>\n",
       "      <td>2203</td>\n",
       "      <td>280</td>\n",
       "      <td>3405</td>\n",
       "      <td>3308</td>\n",
       "      <td>3922</td>\n",
       "    </tr>\n",
       "    <tr>\n",
       "      <th>4</th>\n",
       "      <td>10192359162</td>\n",
       "      <td>1541</td>\n",
       "      <td>153</td>\n",
       "      <td>1917</td>\n",
       "      <td>2100</td>\n",
       "      <td>1607</td>\n",
       "      <td>2518</td>\n",
       "      <td>2673</td>\n",
       "      <td>2098</td>\n",
       "      <td>280</td>\n",
       "      <td>830</td>\n",
       "      <td>320</td>\n",
       "      <td>2421</td>\n",
       "    </tr>\n",
       "    <tr>\n",
       "      <th>...</th>\n",
       "      <td>...</td>\n",
       "      <td>...</td>\n",
       "      <td>...</td>\n",
       "      <td>...</td>\n",
       "      <td>...</td>\n",
       "      <td>...</td>\n",
       "      <td>...</td>\n",
       "      <td>...</td>\n",
       "      <td>...</td>\n",
       "      <td>...</td>\n",
       "      <td>...</td>\n",
       "      <td>...</td>\n",
       "      <td>...</td>\n",
       "    </tr>\n",
       "    <tr>\n",
       "      <th>4021</th>\n",
       "      <td>99938978285</td>\n",
       "      <td>1114</td>\n",
       "      <td>153</td>\n",
       "      <td>1235</td>\n",
       "      <td>151</td>\n",
       "      <td>3962</td>\n",
       "      <td>2098</td>\n",
       "      <td>2084</td>\n",
       "      <td>152</td>\n",
       "      <td>164</td>\n",
       "      <td>1935</td>\n",
       "      <td>3655</td>\n",
       "      <td>3528</td>\n",
       "    </tr>\n",
       "    <tr>\n",
       "      <th>4022</th>\n",
       "      <td>99974311662</td>\n",
       "      <td>3235</td>\n",
       "      <td>153</td>\n",
       "      <td>2999</td>\n",
       "      <td>2804</td>\n",
       "      <td>2116</td>\n",
       "      <td>514</td>\n",
       "      <td>1</td>\n",
       "      <td>2803</td>\n",
       "      <td>280</td>\n",
       "      <td>1325</td>\n",
       "      <td>1153</td>\n",
       "      <td>1775</td>\n",
       "    </tr>\n",
       "    <tr>\n",
       "      <th>4023</th>\n",
       "      <td>99976658299</td>\n",
       "      <td>72</td>\n",
       "      <td>153</td>\n",
       "      <td>103</td>\n",
       "      <td>103</td>\n",
       "      <td>2754</td>\n",
       "      <td>2213</td>\n",
       "      <td>2353</td>\n",
       "      <td>102</td>\n",
       "      <td>111</td>\n",
       "      <td>979</td>\n",
       "      <td>2598</td>\n",
       "      <td>2467</td>\n",
       "    </tr>\n",
       "    <tr>\n",
       "      <th>4024</th>\n",
       "      <td>99987905597</td>\n",
       "      <td>2046</td>\n",
       "      <td>153</td>\n",
       "      <td>2404</td>\n",
       "      <td>2576</td>\n",
       "      <td>1785</td>\n",
       "      <td>709</td>\n",
       "      <td>1</td>\n",
       "      <td>2580</td>\n",
       "      <td>280</td>\n",
       "      <td>830</td>\n",
       "      <td>320</td>\n",
       "      <td>1554</td>\n",
       "    </tr>\n",
       "    <tr>\n",
       "      <th>4025</th>\n",
       "      <td>99990536339</td>\n",
       "      <td>4020</td>\n",
       "      <td>153</td>\n",
       "      <td>3352</td>\n",
       "      <td>3627</td>\n",
       "      <td>833</td>\n",
       "      <td>558</td>\n",
       "      <td>1</td>\n",
       "      <td>3627</td>\n",
       "      <td>280</td>\n",
       "      <td>3166</td>\n",
       "      <td>1440</td>\n",
       "      <td>1872</td>\n",
       "    </tr>\n",
       "  </tbody>\n",
       "</table>\n",
       "<p>4026 rows × 13 columns</p>\n",
       "</div>"
      ],
      "text/plain": [
       "      merchant_abn  Take_rate_rank  count_of_bigorder_rank  \\\n",
       "0      10023283211            3134                     153   \n",
       "1      10142254217            2174                     153   \n",
       "2      10165489824            2366                      96   \n",
       "3      10187291046            3155                     153   \n",
       "4      10192359162            1541                     153   \n",
       "...            ...             ...                     ...   \n",
       "4021   99938978285            1114                     153   \n",
       "4022   99974311662            3235                     153   \n",
       "4023   99976658299              72                     153   \n",
       "4024   99987905597            2046                     153   \n",
       "4025   99990536339            4020                     153   \n",
       "\n",
       "      Avg_amount_monthly_rank  Avg_count_monthly_rank  Order_avg_value_rank  \\\n",
       "0                         893                     753                  2396   \n",
       "1                        2263                     823                  3865   \n",
       "2                        2431                    3945                    58   \n",
       "3                        2936                    2204                  2974   \n",
       "4                        1917                    2100                  1607   \n",
       "...                       ...                     ...                   ...   \n",
       "4021                     1235                     151                  3962   \n",
       "4022                     2999                    2804                  2116   \n",
       "4023                      103                     103                  2754   \n",
       "4024                     2404                    2576                  1785   \n",
       "4025                     3352                    3627                   833   \n",
       "\n",
       "      avg_prob_fraud_cus_rank  prob_of_fraud_rank  count_cus_per_mon_rank  \\\n",
       "0                        2508                2535                     760   \n",
       "1                        2994                3124                     828   \n",
       "2                        3977                   1                    3945   \n",
       "3                         491                3052                    2203   \n",
       "4                        2518                2673                    2098   \n",
       "...                       ...                 ...                     ...   \n",
       "4021                     2098                2084                     152   \n",
       "4022                      514                   1                    2803   \n",
       "4023                     2213                2353                     102   \n",
       "4024                      709                   1                    2580   \n",
       "4025                      558                   1                    3627   \n",
       "\n",
       "      fix_cus_num_rank  avg_income_percentage_rank  avg_age_percentage_rank  \\\n",
       "0                  280                        2628                     2565   \n",
       "1                  280                        1275                      457   \n",
       "2                  280                        1562                     1718   \n",
       "3                  280                        3405                     3308   \n",
       "4                  280                         830                      320   \n",
       "...                ...                         ...                      ...   \n",
       "4021               164                        1935                     3655   \n",
       "4022               280                        1325                     1153   \n",
       "4023               111                         979                     2598   \n",
       "4024               280                         830                      320   \n",
       "4025               280                        3166                     1440   \n",
       "\n",
       "      predict_dollar_value_rank  \n",
       "0                          2638  \n",
       "1                          3963  \n",
       "2                          3971  \n",
       "3                          3922  \n",
       "4                          2421  \n",
       "...                         ...  \n",
       "4021                       3528  \n",
       "4022                       1775  \n",
       "4023                       2467  \n",
       "4024                       1554  \n",
       "4025                       1872  \n",
       "\n",
       "[4026 rows x 13 columns]"
      ]
     },
     "execution_count": 39,
     "metadata": {},
     "output_type": "execute_result"
    }
   ],
   "source": [
    "# Combine all the features' ranking together\n",
    "def all_feature_rank(table_name):\n",
    "    numeric_features_list = ['Take_rate','count_of_bigorder','Avg_amount_monthly', 'Avg_count_monthly', 'Order_avg_value', \n",
    "    'avg_prob_fraud_cus', 'prob_of_fraud', 'count_cus_per_mon','fix_cus_num','avg_income_percentage', 'avg_age_percentage', 'predict_dollar_value']\n",
    "    table_name[['prob_of_fraud']] = -abs(table_name[['prob_of_fraud']])\n",
    "    table_name[['avg_prob_fraud_cus']] = -abs(table_name[['avg_prob_fraud_cus']])\n",
    "    feature_df = table_name[['merchant_abn']]\n",
    "\n",
    "    for feature in numeric_features_list:\n",
    "        features_rank = feature_rank(table_name, feature)\n",
    "        feature_df = pd.merge(feature_df, features_rank, how='inner', on = 'merchant_abn')\n",
    "\n",
    "    return feature_df\n",
    "\n",
    "all_feature_rank(final_pd)"
   ]
  },
  {
   "cell_type": "code",
   "execution_count": 40,
   "metadata": {},
   "outputs": [
    {
     "data": {
      "text/html": [
       "<div>\n",
       "<style scoped>\n",
       "    .dataframe tbody tr th:only-of-type {\n",
       "        vertical-align: middle;\n",
       "    }\n",
       "\n",
       "    .dataframe tbody tr th {\n",
       "        vertical-align: top;\n",
       "    }\n",
       "\n",
       "    .dataframe thead th {\n",
       "        text-align: right;\n",
       "    }\n",
       "</style>\n",
       "<table border=\"1\" class=\"dataframe\">\n",
       "  <thead>\n",
       "    <tr style=\"text-align: right;\">\n",
       "      <th></th>\n",
       "      <th>merchant_abn</th>\n",
       "      <th>final_rank</th>\n",
       "      <th>Take_rate_rank</th>\n",
       "      <th>count_of_bigorder_rank</th>\n",
       "      <th>Avg_amount_monthly_rank</th>\n",
       "      <th>Avg_count_monthly_rank</th>\n",
       "      <th>Order_avg_value_rank</th>\n",
       "      <th>avg_prob_fraud_cus_rank</th>\n",
       "      <th>prob_of_fraud_rank</th>\n",
       "      <th>count_cus_per_mon_rank</th>\n",
       "      <th>fix_cus_num_rank</th>\n",
       "      <th>avg_income_percentage_rank</th>\n",
       "      <th>avg_age_percentage_rank</th>\n",
       "      <th>predict_dollar_value_rank</th>\n",
       "    </tr>\n",
       "  </thead>\n",
       "  <tbody>\n",
       "    <tr>\n",
       "      <th>0</th>\n",
       "      <td>64203420245</td>\n",
       "      <td>1</td>\n",
       "      <td>48</td>\n",
       "      <td>153</td>\n",
       "      <td>6</td>\n",
       "      <td>1</td>\n",
       "      <td>3815</td>\n",
       "      <td>2088</td>\n",
       "      <td>2579</td>\n",
       "      <td>1</td>\n",
       "      <td>1</td>\n",
       "      <td>2917</td>\n",
       "      <td>2173</td>\n",
       "      <td>3870</td>\n",
       "    </tr>\n",
       "    <tr>\n",
       "      <th>1</th>\n",
       "      <td>24852446429</td>\n",
       "      <td>2</td>\n",
       "      <td>63</td>\n",
       "      <td>153</td>\n",
       "      <td>36</td>\n",
       "      <td>2</td>\n",
       "      <td>3911</td>\n",
       "      <td>2085</td>\n",
       "      <td>2582</td>\n",
       "      <td>3</td>\n",
       "      <td>2</td>\n",
       "      <td>1058</td>\n",
       "      <td>709</td>\n",
       "      <td>3874</td>\n",
       "    </tr>\n",
       "    <tr>\n",
       "      <th>2</th>\n",
       "      <td>60956456424</td>\n",
       "      <td>3</td>\n",
       "      <td>14</td>\n",
       "      <td>153</td>\n",
       "      <td>3</td>\n",
       "      <td>14</td>\n",
       "      <td>3111</td>\n",
       "      <td>2000</td>\n",
       "      <td>2578</td>\n",
       "      <td>14</td>\n",
       "      <td>14</td>\n",
       "      <td>1058</td>\n",
       "      <td>709</td>\n",
       "      <td>2987</td>\n",
       "    </tr>\n",
       "    <tr>\n",
       "      <th>3</th>\n",
       "      <td>19492220327</td>\n",
       "      <td>4</td>\n",
       "      <td>28</td>\n",
       "      <td>1</td>\n",
       "      <td>38</td>\n",
       "      <td>1493</td>\n",
       "      <td>117</td>\n",
       "      <td>3834</td>\n",
       "      <td>1</td>\n",
       "      <td>1497</td>\n",
       "      <td>280</td>\n",
       "      <td>830</td>\n",
       "      <td>320</td>\n",
       "      <td>28</td>\n",
       "    </tr>\n",
       "    <tr>\n",
       "      <th>4</th>\n",
       "      <td>68216911708</td>\n",
       "      <td>5</td>\n",
       "      <td>87</td>\n",
       "      <td>153</td>\n",
       "      <td>62</td>\n",
       "      <td>10</td>\n",
       "      <td>3818</td>\n",
       "      <td>2125</td>\n",
       "      <td>2599</td>\n",
       "      <td>10</td>\n",
       "      <td>10</td>\n",
       "      <td>2917</td>\n",
       "      <td>2173</td>\n",
       "      <td>3589</td>\n",
       "    </tr>\n",
       "    <tr>\n",
       "      <th>...</th>\n",
       "      <td>...</td>\n",
       "      <td>...</td>\n",
       "      <td>...</td>\n",
       "      <td>...</td>\n",
       "      <td>...</td>\n",
       "      <td>...</td>\n",
       "      <td>...</td>\n",
       "      <td>...</td>\n",
       "      <td>...</td>\n",
       "      <td>...</td>\n",
       "      <td>...</td>\n",
       "      <td>...</td>\n",
       "      <td>...</td>\n",
       "      <td>...</td>\n",
       "    </tr>\n",
       "    <tr>\n",
       "      <th>4021</th>\n",
       "      <td>88987269041</td>\n",
       "      <td>4022</td>\n",
       "      <td>3632</td>\n",
       "      <td>153</td>\n",
       "      <td>3927</td>\n",
       "      <td>2307</td>\n",
       "      <td>3768</td>\n",
       "      <td>3211</td>\n",
       "      <td>3785</td>\n",
       "      <td>2306</td>\n",
       "      <td>280</td>\n",
       "      <td>3854</td>\n",
       "      <td>3999</td>\n",
       "      <td>3368</td>\n",
       "    </tr>\n",
       "    <tr>\n",
       "      <th>4022</th>\n",
       "      <td>85684792409</td>\n",
       "      <td>4023</td>\n",
       "      <td>3460</td>\n",
       "      <td>153</td>\n",
       "      <td>3876</td>\n",
       "      <td>3684</td>\n",
       "      <td>1237</td>\n",
       "      <td>3964</td>\n",
       "      <td>4012</td>\n",
       "      <td>3684</td>\n",
       "      <td>280</td>\n",
       "      <td>762</td>\n",
       "      <td>1726</td>\n",
       "      <td>3431</td>\n",
       "    </tr>\n",
       "    <tr>\n",
       "      <th>4023</th>\n",
       "      <td>33783846300</td>\n",
       "      <td>4024</td>\n",
       "      <td>3503</td>\n",
       "      <td>153</td>\n",
       "      <td>3830</td>\n",
       "      <td>3059</td>\n",
       "      <td>2696</td>\n",
       "      <td>2559</td>\n",
       "      <td>3898</td>\n",
       "      <td>3057</td>\n",
       "      <td>280</td>\n",
       "      <td>3291</td>\n",
       "      <td>3168</td>\n",
       "      <td>2505</td>\n",
       "    </tr>\n",
       "    <tr>\n",
       "      <th>4024</th>\n",
       "      <td>62379298278</td>\n",
       "      <td>4025</td>\n",
       "      <td>3610</td>\n",
       "      <td>153</td>\n",
       "      <td>3923</td>\n",
       "      <td>3572</td>\n",
       "      <td>1755</td>\n",
       "      <td>3985</td>\n",
       "      <td>4000</td>\n",
       "      <td>3572</td>\n",
       "      <td>280</td>\n",
       "      <td>3487</td>\n",
       "      <td>2776</td>\n",
       "      <td>2874</td>\n",
       "    </tr>\n",
       "    <tr>\n",
       "      <th>4025</th>\n",
       "      <td>20415536115</td>\n",
       "      <td>4026</td>\n",
       "      <td>3877</td>\n",
       "      <td>153</td>\n",
       "      <td>4021</td>\n",
       "      <td>3669</td>\n",
       "      <td>2082</td>\n",
       "      <td>3963</td>\n",
       "      <td>4019</td>\n",
       "      <td>3669</td>\n",
       "      <td>280</td>\n",
       "      <td>999</td>\n",
       "      <td>787</td>\n",
       "      <td>2438</td>\n",
       "    </tr>\n",
       "  </tbody>\n",
       "</table>\n",
       "<p>4026 rows × 14 columns</p>\n",
       "</div>"
      ],
      "text/plain": [
       "      merchant_abn  final_rank  Take_rate_rank  count_of_bigorder_rank  \\\n",
       "0      64203420245           1              48                     153   \n",
       "1      24852446429           2              63                     153   \n",
       "2      60956456424           3              14                     153   \n",
       "3      19492220327           4              28                       1   \n",
       "4      68216911708           5              87                     153   \n",
       "...            ...         ...             ...                     ...   \n",
       "4021   88987269041        4022            3632                     153   \n",
       "4022   85684792409        4023            3460                     153   \n",
       "4023   33783846300        4024            3503                     153   \n",
       "4024   62379298278        4025            3610                     153   \n",
       "4025   20415536115        4026            3877                     153   \n",
       "\n",
       "      Avg_amount_monthly_rank  Avg_count_monthly_rank  Order_avg_value_rank  \\\n",
       "0                           6                       1                  3815   \n",
       "1                          36                       2                  3911   \n",
       "2                           3                      14                  3111   \n",
       "3                          38                    1493                   117   \n",
       "4                          62                      10                  3818   \n",
       "...                       ...                     ...                   ...   \n",
       "4021                     3927                    2307                  3768   \n",
       "4022                     3876                    3684                  1237   \n",
       "4023                     3830                    3059                  2696   \n",
       "4024                     3923                    3572                  1755   \n",
       "4025                     4021                    3669                  2082   \n",
       "\n",
       "      avg_prob_fraud_cus_rank  prob_of_fraud_rank  count_cus_per_mon_rank  \\\n",
       "0                        2088                2579                       1   \n",
       "1                        2085                2582                       3   \n",
       "2                        2000                2578                      14   \n",
       "3                        3834                   1                    1497   \n",
       "4                        2125                2599                      10   \n",
       "...                       ...                 ...                     ...   \n",
       "4021                     3211                3785                    2306   \n",
       "4022                     3964                4012                    3684   \n",
       "4023                     2559                3898                    3057   \n",
       "4024                     3985                4000                    3572   \n",
       "4025                     3963                4019                    3669   \n",
       "\n",
       "      fix_cus_num_rank  avg_income_percentage_rank  avg_age_percentage_rank  \\\n",
       "0                    1                        2917                     2173   \n",
       "1                    2                        1058                      709   \n",
       "2                   14                        1058                      709   \n",
       "3                  280                         830                      320   \n",
       "4                   10                        2917                     2173   \n",
       "...                ...                         ...                      ...   \n",
       "4021               280                        3854                     3999   \n",
       "4022               280                         762                     1726   \n",
       "4023               280                        3291                     3168   \n",
       "4024               280                        3487                     2776   \n",
       "4025               280                         999                      787   \n",
       "\n",
       "      predict_dollar_value_rank  \n",
       "0                          3870  \n",
       "1                          3874  \n",
       "2                          2987  \n",
       "3                            28  \n",
       "4                          3589  \n",
       "...                         ...  \n",
       "4021                       3368  \n",
       "4022                       3431  \n",
       "4023                       2505  \n",
       "4024                       2874  \n",
       "4025                       2438  \n",
       "\n",
       "[4026 rows x 14 columns]"
      ]
     },
     "execution_count": 40,
     "metadata": {},
     "output_type": "execute_result"
    }
   ],
   "source": [
    "# Only select the ranking columns and combine with the final rank column to do the comparision\n",
    "select_compare_col = compare_rank_final.select(compare_rank_final.merchant_abn, compare_rank_final.final_rank)\n",
    "select_compare_col = select_compare_col.toPandas()\n",
    "final_feature_rank = all_feature_rank(final_pd)\n",
    "compare_feature_rank = pd.merge(select_compare_col, final_feature_rank)\n",
    "compare_feature_rank"
   ]
  },
  {
   "cell_type": "code",
   "execution_count": 41,
   "metadata": {},
   "outputs": [],
   "source": [
    "# Select the features for drawing the correlation\n",
    "compare_feature_rank_pic = compare_feature_rank.drop(['merchant_abn'], axis = 1)"
   ]
  },
  {
   "cell_type": "code",
   "execution_count": 42,
   "metadata": {},
   "outputs": [],
   "source": [
    "# Find merchants that are in the top 100\n",
    "final_100 = compare_feature_rank[['merchant_abn']].head(100)"
   ]
  },
  {
   "cell_type": "code",
   "execution_count": 43,
   "metadata": {},
   "outputs": [],
   "source": [
    "# The function of how to find how many of the top 100 merchants in each feature ranking are the same as the final top 100\n",
    "def exist_merchant(col_name):\n",
    "    feature_100 = compare_feature_rank[compare_feature_rank[col_name] <= 100]\n",
    "    feature_100 = feature_100[['merchant_abn']].head(100)\n",
    "    same_merchant = pd.merge(feature_100, final_100, how='inner', on=['merchant_abn', 'merchant_abn'])\n",
    "    same_merchant_num = len(same_merchant)\n",
    "    return same_merchant_num"
   ]
  },
  {
   "cell_type": "code",
   "execution_count": 44,
   "metadata": {},
   "outputs": [
    {
     "name": "stdout",
     "output_type": "stream",
     "text": [
      "[64, 15, 77, 48, 9, 0, 14, 48, 48, 4, 2, 14]\n"
     ]
    }
   ],
   "source": [
    "# Use the function to count the number of the same merchants\n",
    "same_merchant_num_list = []\n",
    "for col_name in compare_feature_rank.columns[2:]:\n",
    "    num = exist_merchant(col_name)\n",
    "    same_merchant_num_list.append(num)\n",
    "print(same_merchant_num_list)"
   ]
  },
  {
   "cell_type": "code",
   "execution_count": 45,
   "metadata": {},
   "outputs": [
    {
     "data": {
      "image/png": "[encoded data removed]",
      "text/plain": [
       "<Figure size 1152x576 with 2 Axes>"
      ]
     },
     "metadata": {
      "needs_background": "light"
     },
     "output_type": "display_data"
    }
   ],
   "source": [
    "# Plot the heatmap to find the correlation\n",
    "plt.figure(figsize=(16,8))\n",
    "cor = compare_feature_rank_pic.corr()\n",
    "heatmap = sns.heatmap(cor, annot=True, cmap=plt.cm.Blues)\n",
    "heatmap.set_title('Correlation between features')\n",
    "#plt.show()\n",
    "plt.savefig('../plots/heatmap.jpg', bbox_inches='tight')"
   ]
  },
  {
   "cell_type": "code",
   "execution_count": 46,
   "metadata": {},
   "outputs": [],
   "source": [
    "compare_feature_rank.to_parquet('../data/curated/compare_feature_rank.parquet')"
   ]
  }
 ],
 "metadata": {
  "kernelspec": {
   "display_name": "Python 3.8.13 ('ads')",
   "language": "python",
   "name": "python3"
  },
  "language_info": {
   "codemirror_mode": {
    "name": "ipython",
    "version": 3
   },
   "file_extension": ".py",
   "mimetype": "text/x-python",
   "name": "python",
   "nbconvert_exporter": "python",
   "pygments_lexer": "ipython3",
   "version": "3.8.13"
  },
  "orig_nbformat": 4,
  "vscode": {
   "interpreter": {
    "hash": "6e45bdfcba1031802b2f7a315f02d536e51553942a60e4ee4be74aec82814bfa"
   }
  }
 },
 "nbformat": 4,
 "nbformat_minor": 2
}
