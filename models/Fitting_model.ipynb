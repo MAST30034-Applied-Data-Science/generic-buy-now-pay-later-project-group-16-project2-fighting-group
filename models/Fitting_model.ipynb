{
 "cells": [
  {
   "cell_type": "code",
   "execution_count": 1,
   "metadata": {},
   "outputs": [
    {
     "name": "stdout",
     "output_type": "stream",
     "text": [
      "22/10/14 13:32:01 WARN Utils: Your hostname, Zhangs-MacBook-Pro.local resolves to a loopback address: 127.0.0.1; using 10.12.6.181 instead (on interface en0)\n",
      "22/10/14 13:32:01 WARN Utils: Set SPARK_LOCAL_IP if you need to bind to another address\n"
     ]
    },
    {
     "name": "stderr",
     "output_type": "stream",
     "text": [
      "Setting default log level to \"WARN\".\n",
      "To adjust logging level use sc.setLogLevel(newLevel). For SparkR, use setLogLevel(newLevel).\n"
     ]
    },
    {
     "name": "stdout",
     "output_type": "stream",
     "text": [
      "22/10/14 13:32:02 WARN NativeCodeLoader: Unable to load native-hadoop library for your platform... using builtin-java classes where applicable\n",
      "22/10/14 13:32:02 WARN Utils: Service 'SparkUI' could not bind on port 4040. Attempting port 4041.\n"
     ]
    }
   ],
   "source": [
    "from pyspark.sql import SparkSession\n",
    "from pyspark.sql import functions as F\n",
    "import numpy as np\n",
    "from pyspark.sql.functions import round\n",
    "from pyspark.sql import Window\n",
    "from pyspark.sql.functions import col\n",
    "from pyspark.sql.functions import when\n",
    "from pyspark.sql.functions import log\n",
    "from pyspark.sql.functions import regexp_replace\n",
    "import matplotlib.pyplot as plt  \n",
    "import scipy.stats as st\n",
    "import seaborn as sns\n",
    "import pandas as pd\n",
    "from operator import add\n",
    "from functools import reduce\n",
    "\n",
    "# Create a spark session (which will run spark jobs)\n",
    "spark = (\n",
    "    SparkSession.builder.appName(\"MAST30034 Tutorial 1\")\n",
    "    .config(\"spark.sql.repl.eagerEval.enabled\", True) \n",
    "    .config(\"spark.sql.parquet.cacheMetadata\", \"true\")\n",
    "    .config(\"spark.sql.session.timeZone\", \"Etc/UTC\")\n",
    "    .getOrCreate()\n",
    ")"
   ]
  },
  {
   "cell_type": "code",
   "execution_count": 2,
   "metadata": {},
   "outputs": [
    {
     "name": "stderr",
     "output_type": "stream",
     "text": [
      "                                                                                \r"
     ]
    }
   ],
   "source": [
    "# Read processed Dataframe for ranking\n",
    "final = spark.read.parquet('../data/curated/merchant_info.parquet')\n",
    "final_pd = final.toPandas()"
   ]
  },
  {
   "cell_type": "code",
   "execution_count": 3,
   "metadata": {},
   "outputs": [],
   "source": [
    "# Select all the numeric features\n",
    "col_list_1 = final.columns\n",
    "\n",
    "del_col_list = ['Store_type', 'Revenue_levels', 'merchant_abn','postcode']\n",
    "\n",
    "for i in del_col_list:\n",
    "    col_list_1.remove(i)"
   ]
  },
  {
   "cell_type": "code",
   "execution_count": 4,
   "metadata": {},
   "outputs": [
    {
     "data": {
      "text/html": [
       "<table border='1'>\n",
       "<tr><th>Store_type</th><th>Revenue_levels</th><th>Take_rate</th><th>count_of_bigorder</th><th>Avg_amount_monthly</th><th>Avg_count_monthly</th><th>Order_avg_value</th><th>postcode</th><th>avg_prob_fraud_cus</th><th>prob_of_fraud</th><th>count_cus_per_mon</th><th>merchant_abn</th><th>fix_cus_num</th><th>avg_income_percentage</th><th>avg_age_percentage</th><th>predict_dollar_value</th></tr>\n",
       "<tr><td>shoe shops</td><td>b</td><td>5088.108</td><td>0</td><td>1169.68</td><td>3.28</td><td>356.85</td><td>1660</td><td>16.41769282602561</td><td>0.0</td><td>3.28</td><td>42330360779</td><td>0</td><td>0.3924226684563543</td><td>0.5395286144327325</td><td>391.16650390625</td></tr>\n",
       "<tr><td>opticians, optica...</td><td>a</td><td>8020.69</td><td>0</td><td>1289.5</td><td>21.56</td><td>59.82</td><td>1660</td><td>15.594208059208613</td><td>0.0</td><td>21.28</td><td>73221370757</td><td>0</td><td>0.3924226684563543</td><td>0.5395286144327325</td><td>115.49871063232422</td></tr>\n",
       "<tr><td>art dealers and g...</td><td>c</td><td>5908.3479</td><td>0</td><td>3126.11</td><td>2.44</td><td>1278.86</td><td>2482</td><td>14.965341864244008</td><td>0.0</td><td>2.44</td><td>97598804219</td><td>0</td><td>0.19071467244179752</td><td>0.5701438848920863</td><td>927.2828369140625</td></tr>\n",
       "</table>\n"
      ],
      "text/plain": [
       "+--------------------+--------------+---------+-----------------+------------------+-----------------+---------------+--------+------------------+-------------+-----------------+------------+-----------+---------------------+------------------+--------------------+\n",
       "|          Store_type|Revenue_levels|Take_rate|count_of_bigorder|Avg_amount_monthly|Avg_count_monthly|Order_avg_value|postcode|avg_prob_fraud_cus|prob_of_fraud|count_cus_per_mon|merchant_abn|fix_cus_num|avg_income_percentage|avg_age_percentage|predict_dollar_value|\n",
       "+--------------------+--------------+---------+-----------------+------------------+-----------------+---------------+--------+------------------+-------------+-----------------+------------+-----------+---------------------+------------------+--------------------+\n",
       "|          shoe shops|             b| 5088.108|                0|           1169.68|             3.28|         356.85|    1660| 16.41769282602561|          0.0|             3.28| 42330360779|          0|   0.3924226684563543|0.5395286144327325|     391.16650390625|\n",
       "|opticians, optica...|             a|  8020.69|                0|            1289.5|            21.56|          59.82|    1660|15.594208059208613|          0.0|            21.28| 73221370757|          0|   0.3924226684563543|0.5395286144327325|  115.49871063232422|\n",
       "|art dealers and g...|             c|5908.3479|                0|           3126.11|             2.44|        1278.86|    2482|14.965341864244008|          0.0|             2.44| 97598804219|          0|  0.19071467244179752|0.5701438848920863|   927.2828369140625|\n",
       "+--------------------+--------------+---------+-----------------+------------------+-----------------+---------------+--------+------------------+-------------+-----------------+------------+-----------+---------------------+------------------+--------------------+"
      ]
     },
     "execution_count": 4,
     "metadata": {},
     "output_type": "execute_result"
    }
   ],
   "source": [
    "final.limit(3)"
   ]
  },
  {
   "cell_type": "code",
   "execution_count": 5,
   "metadata": {},
   "outputs": [],
   "source": [
    "# Input origginal dataframe, return new dataframe that mapping numeric and ordinal data to 0-100 \n",
    "# in order to make all the features in same scale for calculating the score\n",
    "def get_map_df(unsort_df, col_list_1):\n",
    "    max_list = []\n",
    "    min_list = []\n",
    "    # Calculate max and min value in each numeric features\n",
    "    for i in col_list_1:\n",
    "        max_num = float(final.agg({i: \"max\"}).collect()[0][0])\n",
    "        min_num = float(final.agg({i: \"min\"}).collect()[0][0])\n",
    "        max_list.append(max_num)\n",
    "        min_list.append(min_num)\n",
    "    # Map each feature to 0-100\n",
    "    for i in range(0,12):\n",
    "        unsort_df = unsort_df.withColumn(col_list_1[i], (col(col_list_1[i]) - min_list[i])*100/(max_list[i]-min_list[i]))\n",
    "    # Times -1 to fraud features because for fraud less is better\n",
    "    unsort_df = unsort_df.withColumn('avg_prob_fraud_cus', (unsort_df.avg_prob_fraud_cus *(-1))) \\\n",
    "        .withColumn('prob_of_fraud', (unsort_df.prob_of_fraud*(-1)))\n",
    "    unsort_df = unsort_df.select('merchant_abn','Store_type', 'Revenue_levels', 'Take_rate', \\\n",
    "        'count_of_bigorder', 'Avg_amount_monthly', 'Avg_count_monthly', 'Order_avg_value',\t\\\n",
    "        'avg_prob_fraud_cus', 'prob_of_fraud', 'count_cus_per_mon', 'fix_cus_num', \\\n",
    "        'avg_income_percentage', 'avg_age_percentage','predict_dollar_value')\n",
    "    # Assign a value to the each revenue level, also in the range 0-100\n",
    "    reve_list = ['a', 'b', 'c', 'd', 'e']\n",
    "    reve_num = [0, 25, 50, 75, 100]\n",
    "    for i in range(len(reve_list)):\n",
    "        unsort_df = unsort_df.withColumn('Revenue_levels', when(col('Revenue_levels') == reve_list[i], reve_num[i]).otherwise(col('Revenue_levels')))\n",
    "    return unsort_df"
   ]
  },
  {
   "cell_type": "code",
   "execution_count": 6,
   "metadata": {},
   "outputs": [],
   "source": [
    "# final_1 is the dataframe after mapping\n",
    "final_1 = get_map_df(final, col_list_1)"
   ]
  },
  {
   "cell_type": "markdown",
   "metadata": {},
   "source": [
    "### Baseline Model"
   ]
  },
  {
   "cell_type": "code",
   "execution_count": 7,
   "metadata": {},
   "outputs": [],
   "source": [
    "# purely add all the scores together without weighting as baseline\n",
    "pure_add = final_1.withColumn('pure_add_score',reduce(add, [F.col(x) for x in final_1.columns[2:15]]))\n",
    "pure_add_rank = pure_add.sort(pure_add.pure_add_score.desc())"
   ]
  },
  {
   "cell_type": "code",
   "execution_count": 8,
   "metadata": {},
   "outputs": [
    {
     "data": {
      "text/html": [
       "<table border='1'>\n",
       "<tr><th>merchant_abn</th><th>Store_type</th><th>Revenue_levels</th><th>Take_rate</th><th>count_of_bigorder</th><th>Avg_amount_monthly</th><th>Avg_count_monthly</th><th>Order_avg_value</th><th>avg_prob_fraud_cus</th><th>prob_of_fraud</th><th>count_cus_per_mon</th><th>fix_cus_num</th><th>avg_income_percentage</th><th>avg_age_percentage</th><th>predict_dollar_value</th><th>pure_add_score</th></tr>\n",
       "<tr><td>24852446429</td><td>florists supplies...</td><td>50</td><td>31.6241113540929</td><td>0.0</td><td>64.92189809702175</td><td>96.6141888009075</td><td>0.036050652902386016</td><td>-8.51575702950217</td><td>-0.4074534161490683</td><td>99.98569077770622</td><td>99.15389774544704</td><td>52.02931741035037</td><td>67.15831110113018</td><td>5.704521267340093</td><td>558.3047767612471</td></tr>\n",
       "<tr><td>64203420245</td><td>tent and awning s...</td><td>50</td><td>38.592482711596126</td><td>0.0</td><td>81.45014114096124</td><td>100.0</td><td>0.045805535452443404</td><td>-8.515942727507575</td><td>-0.4073926868044515</td><td>100.0</td><td>100.0</td><td>32.77999166601939</td><td>56.78988503398783</td><td>5.706711918291284</td><td>556.4416825919963</td></tr>\n",
       "<tr><td>49891706470</td><td>tent and awning s...</td><td>0</td><td>74.0823790594097</td><td>0.0</td><td>77.09522885693747</td><td>94.72761636801923</td><td>0.045766978604419466</td><td>-8.51644543703198</td><td>-0.4074534161490683</td><td>99.98569077770622</td><td>98.38518289222515</td><td>32.77999166601939</td><td>56.78988503398783</td><td>5.723079183129754</td><td>530.690921962858</td></tr>\n",
       "<tr><td>86578477987</td><td>watch, clock, and...</td><td>0</td><td>75.48557998999027</td><td>0.0</td><td>70.85649450777649</td><td>90.94896748337601</td><td>0.043376454026935046</td><td>-8.514694327550009</td><td>-0.4074331710225578</td><td>99.99016240967303</td><td>97.41526079554248</td><td>32.77999166601939</td><td>56.78988503398783</td><td>5.824660754111644</td><td>521.2122515959314</td></tr>\n",
       "<tr><td>43186523025</td><td>florists supplies...</td><td>25</td><td>53.20267651000336</td><td>0.0</td><td>71.83857338887455</td><td>67.5402819550275</td><td>0.06288621912704982</td><td>-8.518055429014124</td><td>-0.4080007960991143</td><td>99.85154181870215</td><td>80.42614662332973</td><td>36.9926513640861</td><td>54.332438369538686</td><td>5.81587419744553</td><td>486.1370142210214</td></tr>\n",
       "<tr><td>89726005175</td><td>tent and awning s...</td><td>0</td><td>70.55981677308753</td><td>0.0</td><td>70.86145820281202</td><td>72.62189069578261</td><td>0.05685207241130286</td><td>-8.513617942528448</td><td>-0.4076762454012131</td><td>99.93024254131788</td><td>85.62657999277718</td><td>32.77999166601939</td><td>56.78988503398783</td><td>5.78488757486859</td><td>486.0903103651347</td></tr>\n",
       "<tr><td>64403598239</td><td>music shops - mus...</td><td>0</td><td>100.0</td><td>0.0</td><td>95.66210084636779</td><td>43.50143291067443</td><td>0.14063610316732938</td><td>-8.508302420256898</td><td>-0.403368123834014</td><td>98.5341990412821</td><td>42.07295052365475</td><td>36.9926513640861</td><td>54.332438369538686</td><td>5.8530141215530325</td><td>468.1777527362333</td></tr>\n",
       "<tr><td>46804135891</td><td>opticians, optica...</td><td>50</td><td>21.274756869700635</td><td>0.0</td><td>43.816245795664955</td><td>77.02463934683155</td><td>0.02899474971400458</td><td>-8.517276461187082</td><td>-0.40769651469199025</td><td>99.92577090935109</td><td>89.2431512149822</td><td>32.77999166601939</td><td>56.78988503398783</td><td>5.728513805708602</td><td>467.6869764160812</td></tr>\n",
       "<tr><td>45629217853</td><td>gift, card, novel...</td><td>0</td><td>60.573237755587236</td><td>0.0</td><td>52.37130550405759</td><td>74.99402953885651</td><td>0.0378628247595113</td><td>-8.51413612938103</td><td>-0.40759518838850783</td><td>99.95081204836518</td><td>87.90176959191044</td><td>30.615285941352266</td><td>62.39168007180277</td><td>5.739301974271463</td><td>465.6535539331935</td></tr>\n",
       "<tr><td>60956456424</td><td>gift, card, novel...</td><td>25</td><td>67.18551883563603</td><td>0.0</td><td>86.4691327896888</td><td>34.70741008858671</td><td>0.1606663857157674</td><td>-8.497809581724692</td><td>-0.40732147460685747</td><td>96.35830292623595</td><td>25.09415467161946</td><td>52.02931741035037</td><td>67.15831110113018</td><td>5.886602830284622</td><td>451.1442859829163</td></tr>\n",
       "<tr><td>68216911708</td><td>computers, comput...</td><td>50</td><td>24.619604280542607</td><td>0.0</td><td>48.712896806382254</td><td>59.91702924779652</td><td>0.04570914333238355</td><td>-8.522728900994153</td><td>-0.4086107235399641</td><td>99.70218931101095</td><td>70.77851725739049</td><td>32.77999166601939</td><td>56.78988503398783</td><td>5.778495862059169</td><td>440.1929789839875</td></tr>\n",
       "<tr><td>80324045558</td><td>gift, card, novel...</td><td>50</td><td>10.903412378830907</td><td>0.0</td><td>44.76220000733787</td><td>64.5519728642541</td><td>0.03753509155130779</td><td>-8.519085740653178</td><td>-0.40812263587497516</td><td>99.82113472132791</td><td>76.9333952432544</td><td>32.77999166601939</td><td>56.78988503398783</td><td>5.861219920262084</td><td>433.51353855029765</td></tr>\n",
       "<tr><td>19492220327</td><td>jewelry, watch, c...</td><td>25</td><td>52.79157317229449</td><td>100.0</td><td>64.6294891861439</td><td>0.29227273066503473</td><td>15.110660081671115</td><td>-11.590796562369432</td><td>-0.0</td><td>2.7518423123703224</td><td>0.0</td><td>54.94475276974021</td><td>80.54845980465815</td><td>32.48272732864141</td><td>416.9609808238152</td></tr>\n",
       "<tr><td>21439773999</td><td>cable, satellite,...</td><td>0</td><td>71.20953460429264</td><td>0.0</td><td>70.45866091641419</td><td>40.306303314352235</td><td>0.10977134632416362</td><td>-8.491235945703567</td><td>-0.4064834103958132</td><td>97.77938756528583</td><td>35.87679925708095</td><td>32.77999166601939</td><td>56.78988503398783</td><td>5.660617546349071</td><td>402.0732318940069</td></tr>\n",
       "<tr><td>79417999332</td><td>gift, card, novel...</td><td>25</td><td>57.83086491644781</td><td>0.0</td><td>70.51513148289759</td><td>33.26666318389766</td><td>0.13521886601996547</td><td>-8.535702430933135</td><td>-0.4079735591819872</td><td>96.20447878657794</td><td>22.638394469380383</td><td>30.615285941352266</td><td>62.39168007180277</td><td>5.871626006933598</td><td>395.5256677351949</td></tr>\n",
       "<tr><td>94493496784</td><td>gift, card, novel...</td><td>0</td><td>65.87173570160247</td><td>0.0</td><td>70.36830328271213</td><td>33.15313113371594</td><td>0.13541165026008523</td><td>-8.522154605805971</td><td>-0.4097510373443984</td><td>95.78682836087857</td><td>22.297889903523707</td><td>32.77999166601939</td><td>56.78988503398783</td><td>5.894176752976819</td><td>374.14544784252655</td></tr>\n",
       "<tr><td>63290521567</td><td>artist supply and...</td><td>0</td><td>29.208751886182267</td><td>0.0</td><td>27.189493102473016</td><td>59.55376400259715</td><td>0.0213026585332281</td><td>-8.523476351034862</td><td>-0.4089775561097257</td><td>99.6127566716749</td><td>70.36578445029149</td><td>32.77999166601939</td><td>56.78988503398783</td><td>5.743176262303037</td><td>372.33245182691775</td></tr>\n",
       "<tr><td>49322182190</td><td>watch, clock, and...</td><td>0</td><td>88.95310196995996</td><td>0.0</td><td>84.55526592497158</td><td>19.86726918570373</td><td>0.2815421042708264</td><td>-8.542628727268344</td><td>-0.4195559699318221</td><td>85.25881805823853</td><td>4.560697518443997</td><td>32.77999166601939</td><td>56.78988503398783</td><td>6.098086716758567</td><td>370.18247348115426</td></tr>\n",
       "<tr><td>32361057556</td><td>gift, card, novel...</td><td>0</td><td>82.1488344177972</td><td>0.0</td><td>75.01282222226833</td><td>28.86447426358093</td><td>0.16803074368834037</td><td>-8.544890537022937</td><td>-0.42386351594786476</td><td>93.7701223438506</td><td>15.147294020533456</td><td>23.555263724420485</td><td>52.166716822148665</td><td>5.746709553769096</td><td>367.6115140590864</td></tr>\n",
       "<tr><td>72472909171</td><td>digital goods: bo...</td><td>0</td><td>55.64738196980537</td><td>0.0</td><td>53.05334346487397</td><td>33.91548439097565</td><td>0.09718253544434646</td><td>-8.482098812527237</td><td>-0.39713239465676414</td><td>96.32879015525506</td><td>23.59799824588557</td><td>32.77999166601939</td><td>56.78988503398783</td><td>5.8610389120503665</td><td>349.19186516711363</td></tr>\n",
       "</table>\n",
       "only showing top 20 rows\n"
      ],
      "text/plain": [
       "+------------+--------------------+--------------+------------------+-----------------+------------------+-------------------+--------------------+-------------------+--------------------+------------------+------------------+---------------------+------------------+--------------------+------------------+\n",
       "|merchant_abn|          Store_type|Revenue_levels|         Take_rate|count_of_bigorder|Avg_amount_monthly|  Avg_count_monthly|     Order_avg_value| avg_prob_fraud_cus|       prob_of_fraud| count_cus_per_mon|       fix_cus_num|avg_income_percentage|avg_age_percentage|predict_dollar_value|    pure_add_score|\n",
       "+------------+--------------------+--------------+------------------+-----------------+------------------+-------------------+--------------------+-------------------+--------------------+------------------+------------------+---------------------+------------------+--------------------+------------------+\n",
       "| 24852446429|florists supplies...|            50|  31.6241113540929|              0.0| 64.92189809702175|   96.6141888009075|0.036050652902386016|  -8.51575702950217| -0.4074534161490683| 99.98569077770622| 99.15389774544704|    52.02931741035037| 67.15831110113018|   5.704521267340093| 558.3047767612471|\n",
       "| 64203420245|tent and awning s...|            50|38.592482711596126|              0.0| 81.45014114096124|              100.0|0.045805535452443404| -8.515942727507575| -0.4073926868044515|             100.0|             100.0|    32.77999166601939| 56.78988503398783|   5.706711918291284| 556.4416825919963|\n",
       "| 49891706470|tent and awning s...|             0|  74.0823790594097|              0.0| 77.09522885693747|  94.72761636801923|0.045766978604419466|  -8.51644543703198| -0.4074534161490683| 99.98569077770622| 98.38518289222515|    32.77999166601939| 56.78988503398783|   5.723079183129754|  530.690921962858|\n",
       "| 86578477987|watch, clock, and...|             0| 75.48557998999027|              0.0| 70.85649450777649|  90.94896748337601|0.043376454026935046| -8.514694327550009| -0.4074331710225578| 99.99016240967303| 97.41526079554248|    32.77999166601939| 56.78988503398783|   5.824660754111644| 521.2122515959314|\n",
       "| 43186523025|florists supplies...|            25| 53.20267651000336|              0.0| 71.83857338887455|   67.5402819550275| 0.06288621912704982| -8.518055429014124| -0.4080007960991143| 99.85154181870215| 80.42614662332973|     36.9926513640861|54.332438369538686|    5.81587419744553| 486.1370142210214|\n",
       "| 89726005175|tent and awning s...|             0| 70.55981677308753|              0.0| 70.86145820281202|  72.62189069578261| 0.05685207241130286| -8.513617942528448| -0.4076762454012131| 99.93024254131788| 85.62657999277718|    32.77999166601939| 56.78988503398783|    5.78488757486859| 486.0903103651347|\n",
       "| 64403598239|music shops - mus...|             0|             100.0|              0.0| 95.66210084636779|  43.50143291067443| 0.14063610316732938| -8.508302420256898|  -0.403368123834014|  98.5341990412821| 42.07295052365475|     36.9926513640861|54.332438369538686|  5.8530141215530325| 468.1777527362333|\n",
       "| 46804135891|opticians, optica...|            50|21.274756869700635|              0.0|43.816245795664955|  77.02463934683155| 0.02899474971400458| -8.517276461187082|-0.40769651469199025| 99.92577090935109|  89.2431512149822|    32.77999166601939| 56.78988503398783|   5.728513805708602| 467.6869764160812|\n",
       "| 45629217853|gift, card, novel...|             0|60.573237755587236|              0.0| 52.37130550405759|  74.99402953885651|  0.0378628247595113|  -8.51413612938103|-0.40759518838850783| 99.95081204836518| 87.90176959191044|   30.615285941352266| 62.39168007180277|   5.739301974271463| 465.6535539331935|\n",
       "| 60956456424|gift, card, novel...|            25| 67.18551883563603|              0.0|  86.4691327896888|  34.70741008858671|  0.1606663857157674| -8.497809581724692|-0.40732147460685747| 96.35830292623595| 25.09415467161946|    52.02931741035037| 67.15831110113018|   5.886602830284622| 451.1442859829163|\n",
       "| 68216911708|computers, comput...|            50|24.619604280542607|              0.0|48.712896806382254|  59.91702924779652| 0.04570914333238355| -8.522728900994153| -0.4086107235399641| 99.70218931101095| 70.77851725739049|    32.77999166601939| 56.78988503398783|   5.778495862059169| 440.1929789839875|\n",
       "| 80324045558|gift, card, novel...|            50|10.903412378830907|              0.0| 44.76220000733787|   64.5519728642541| 0.03753509155130779| -8.519085740653178|-0.40812263587497516| 99.82113472132791|  76.9333952432544|    32.77999166601939| 56.78988503398783|   5.861219920262084|433.51353855029765|\n",
       "| 19492220327|jewelry, watch, c...|            25| 52.79157317229449|            100.0|  64.6294891861439|0.29227273066503473|  15.110660081671115|-11.590796562369432|                -0.0|2.7518423123703224|               0.0|    54.94475276974021| 80.54845980465815|   32.48272732864141| 416.9609808238152|\n",
       "| 21439773999|cable, satellite,...|             0| 71.20953460429264|              0.0| 70.45866091641419| 40.306303314352235| 0.10977134632416362| -8.491235945703567| -0.4064834103958132| 97.77938756528583| 35.87679925708095|    32.77999166601939| 56.78988503398783|   5.660617546349071| 402.0732318940069|\n",
       "| 79417999332|gift, card, novel...|            25| 57.83086491644781|              0.0| 70.51513148289759|  33.26666318389766| 0.13521886601996547| -8.535702430933135| -0.4079735591819872| 96.20447878657794|22.638394469380383|   30.615285941352266| 62.39168007180277|   5.871626006933598| 395.5256677351949|\n",
       "| 94493496784|gift, card, novel...|             0| 65.87173570160247|              0.0| 70.36830328271213|  33.15313113371594| 0.13541165026008523| -8.522154605805971| -0.4097510373443984| 95.78682836087857|22.297889903523707|    32.77999166601939| 56.78988503398783|   5.894176752976819|374.14544784252655|\n",
       "| 63290521567|artist supply and...|             0|29.208751886182267|              0.0|27.189493102473016|  59.55376400259715|  0.0213026585332281| -8.523476351034862| -0.4089775561097257|  99.6127566716749| 70.36578445029149|    32.77999166601939| 56.78988503398783|   5.743176262303037|372.33245182691775|\n",
       "| 49322182190|watch, clock, and...|             0| 88.95310196995996|              0.0| 84.55526592497158|  19.86726918570373|  0.2815421042708264| -8.542628727268344| -0.4195559699318221| 85.25881805823853| 4.560697518443997|    32.77999166601939| 56.78988503398783|   6.098086716758567|370.18247348115426|\n",
       "| 32361057556|gift, card, novel...|             0|  82.1488344177972|              0.0| 75.01282222226833|  28.86447426358093| 0.16803074368834037| -8.544890537022937|-0.42386351594786476|  93.7701223438506|15.147294020533456|   23.555263724420485|52.166716822148665|   5.746709553769096| 367.6115140590864|\n",
       "| 72472909171|digital goods: bo...|             0| 55.64738196980537|              0.0| 53.05334346487397|  33.91548439097565| 0.09718253544434646| -8.482098812527237|-0.39713239465676414| 96.32879015525506| 23.59799824588557|    32.77999166601939| 56.78988503398783|  5.8610389120503665|349.19186516711363|\n",
       "+------------+--------------------+--------------+------------------+-----------------+------------------+-------------------+--------------------+-------------------+--------------------+------------------+------------------+---------------------+------------------+--------------------+------------------+\n",
       "only showing top 20 rows"
      ]
     },
     "execution_count": 8,
     "metadata": {},
     "output_type": "execute_result"
    }
   ],
   "source": [
    "pure_add_rank"
   ]
  },
  {
   "cell_type": "markdown",
   "metadata": {},
   "source": [
    "### Entropy Model"
   ]
  },
  {
   "cell_type": "code",
   "execution_count": 9,
   "metadata": {},
   "outputs": [],
   "source": [
    "# All the features' name list without 2 categorical features which are useless for ranking\n",
    "col_list_2 = final_1.columns\n",
    "del_col_list = ['Store_type', 'merchant_abn']\n",
    "\n",
    "for i in del_col_list:\n",
    "    col_list_2.remove(i)"
   ]
  },
  {
   "cell_type": "code",
   "execution_count": 10,
   "metadata": {},
   "outputs": [],
   "source": [
    "# Input the mapped dataframe and return the entropy of each feature as list\n",
    "def get_entropy(df,col_list_2):\n",
    "    sum_num_list = []\n",
    "    for i in col_list_2:\n",
    "        sum_num = float(df.agg({i: \"sum\"}).collect()[0][0])\n",
    "        sum_num_list.append(sum_num)\n",
    "    for i in range(0,len(sum_num_list)):\n",
    "        df = df.withColumn(col_list_2[i], (col(col_list_2[i])/sum_num_list[i]))\n",
    "\n",
    "    k = 1/np.log(df.count())\n",
    "\n",
    "    for i in col_list_2:\n",
    "        df = df.withColumn(i, when((col(i) != 0), (col(i) * log(col(i)) *(-k))).otherwise(0))\n",
    "    \n",
    "    weight_num = []\n",
    "    for i in col_list_2:\n",
    "        a = 1 - float(df.agg({i: \"sum\"}).collect()[0][0])\n",
    "        weight_num.append(a)\n",
    "\n",
    "    entropy = []\n",
    "    total = sum(weight_num)\n",
    "    for i in weight_num:\n",
    "        a = i/total\n",
    "        entropy.append(a)\n",
    "    return entropy"
   ]
  },
  {
   "cell_type": "code",
   "execution_count": 11,
   "metadata": {},
   "outputs": [],
   "source": [
    "# Return the the dataframe with the scores sorted of 4026 companies that weighted by entropy\n",
    "# Link about how to calculate the entropy https://www.hindawi.com/journals/mpe/2020/3564835/\n",
    "def get_rank_df(unsort_df,col_list_1,col_list_2):\n",
    "    unsort_map = get_map_df(unsort_df, col_list_1)\n",
    "    unsort_entropy = unsort_map.withColumn('avg_prob_fraud_cus', (unsort_map.avg_prob_fraud_cus *(-1)))\\\n",
    "    .withColumn('prob_of_fraud', (unsort_map.prob_of_fraud*(-1)))\n",
    "    entropy = get_entropy(unsort_entropy,col_list_2)\n",
    "    # Use the entropy weight to add the sum scores\n",
    "    unsorted_entropy_score = unsort_map.withColumn('entropy_score', unsort_map.Revenue_levels * entropy[0]*13+unsort_map.Take_rate * entropy[1]*13 + unsort_map.count_of_bigorder * entropy[2]*13 +\\\n",
    "                            unsort_map.Avg_amount_monthly *entropy[3]*13+ unsort_map.Avg_count_monthly *entropy[4]*13 +\\\n",
    "                            unsort_map.Order_avg_value *entropy[5]*13 + unsort_map.avg_prob_fraud_cus * entropy[6]*13+ unsort_map.prob_of_fraud * entropy[7]*13+\\\n",
    "                            unsort_map.count_cus_per_mon * entropy[8]*13 + unsort_map.fix_cus_num  * entropy[9]*13+\\\n",
    "                            unsort_map.avg_income_percentage * entropy[10]*13 + unsort_map.avg_age_percentage * entropy[11]*13 +\\\n",
    "                                unsort_map.predict_dollar_value * entropy[12]*13)\n",
    "    # Rank all the scores\n",
    "    sorted_entropy_rank_pd = unsorted_entropy_score.toPandas()\n",
    "    sorted_entropy_rank_pd['entropy_rank'] = sorted_entropy_rank_pd.entropy_score.rank(axis=0,method='min', ascending=False)\n",
    "    sorted_entropy_rank_pd['entropy_rank'] = sorted_entropy_rank_pd.entropy_rank.astype(int)\n",
    "    sorted_entropy = spark.createDataFrame(sorted_entropy_rank_pd)\n",
    "    sorted_entropy = sorted_entropy.sort(sorted_entropy.entropy_rank)\n",
    "    return sorted_entropy"
   ]
  },
  {
   "cell_type": "code",
   "execution_count": 12,
   "metadata": {},
   "outputs": [
    {
     "data": {
      "text/html": [
       "<table border='1'>\n",
       "<tr><th>merchant_abn</th><th>Store_type</th><th>Revenue_levels</th><th>Take_rate</th><th>count_of_bigorder</th><th>Avg_amount_monthly</th><th>Avg_count_monthly</th><th>Order_avg_value</th><th>avg_prob_fraud_cus</th><th>prob_of_fraud</th><th>count_cus_per_mon</th><th>fix_cus_num</th><th>avg_income_percentage</th><th>avg_age_percentage</th><th>predict_dollar_value</th><th>entropy_score</th><th>entropy_rank</th></tr>\n",
       "<tr><td>64203420245</td><td>tent and awning s...</td><td>50</td><td>38.592482711596126</td><td>0.0</td><td>81.45014114096124</td><td>100.0</td><td>0.045805535452443404</td><td>-8.515942727507575</td><td>-0.4073926868044515</td><td>100.0</td><td>100.0</td><td>32.77999166601939</td><td>56.78988503398783</td><td>5.706711918291284</td><td>700.9654304204133</td><td>1</td></tr>\n",
       "<tr><td>49891706470</td><td>tent and awning s...</td><td>0</td><td>74.0823790594097</td><td>0.0</td><td>77.09522885693747</td><td>94.72761636801923</td><td>0.045766978604419466</td><td>-8.51644543703198</td><td>-0.4074534161490683</td><td>99.98569077770622</td><td>98.38518289222515</td><td>32.77999166601939</td><td>56.78988503398783</td><td>5.723079183129754</td><td>694.6179115467577</td><td>2</td></tr>\n",
       "<tr><td>86578477987</td><td>watch, clock, and...</td><td>0</td><td>75.48557998999027</td><td>0.0</td><td>70.85649450777649</td><td>90.94896748337601</td><td>0.043376454026935046</td><td>-8.514694327550009</td><td>-0.4074331710225578</td><td>99.99016240967303</td><td>97.41526079554248</td><td>32.77999166601939</td><td>56.78988503398783</td><td>5.824660754111644</td><td>682.3251933471851</td><td>3</td></tr>\n",
       "<tr><td>24852446429</td><td>florists supplies...</td><td>50</td><td>31.6241113540929</td><td>0.0</td><td>64.92189809702175</td><td>96.6141888009075</td><td>0.036050652902386016</td><td>-8.51575702950217</td><td>-0.4074534161490683</td><td>99.98569077770622</td><td>99.15389774544704</td><td>52.02931741035037</td><td>67.15831110113018</td><td>5.704521267340093</td><td>674.7081255563534</td><td>4</td></tr>\n",
       "<tr><td>89726005175</td><td>tent and awning s...</td><td>0</td><td>70.55981677308753</td><td>0.0</td><td>70.86145820281202</td><td>72.62189069578261</td><td>0.05685207241130286</td><td>-8.513617942528448</td><td>-0.4076762454012131</td><td>99.93024254131788</td><td>85.62657999277718</td><td>32.77999166601939</td><td>56.78988503398783</td><td>5.78488757486859</td><td>611.3441335732097</td><td>5</td></tr>\n",
       "<tr><td>45629217853</td><td>gift, card, novel...</td><td>0</td><td>60.573237755587236</td><td>0.0</td><td>52.37130550405759</td><td>74.99402953885651</td><td>0.0378628247595113</td><td>-8.51413612938103</td><td>-0.40759518838850783</td><td>99.95081204836518</td><td>87.90176959191044</td><td>30.615285941352266</td><td>62.39168007180277</td><td>5.739301974271463</td><td>598.6444046506132</td><td>6</td></tr>\n",
       "<tr><td>46804135891</td><td>opticians, optica...</td><td>50</td><td>21.274756869700635</td><td>0.0</td><td>43.816245795664955</td><td>77.02463934683155</td><td>0.02899474971400458</td><td>-8.517276461187082</td><td>-0.40769651469199025</td><td>99.92577090935109</td><td>89.2431512149822</td><td>32.77999166601939</td><td>56.78988503398783</td><td>5.728513805708602</td><td>585.8410645516377</td><td>7</td></tr>\n",
       "<tr><td>43186523025</td><td>florists supplies...</td><td>25</td><td>53.20267651000336</td><td>0.0</td><td>71.83857338887455</td><td>67.5402819550275</td><td>0.06288621912704982</td><td>-8.518055429014124</td><td>-0.4080007960991143</td><td>99.85154181870215</td><td>80.42614662332973</td><td>36.9926513640861</td><td>54.332438369538686</td><td>5.81587419744553</td><td>582.0938682268543</td><td>8</td></tr>\n",
       "<tr><td>80324045558</td><td>gift, card, novel...</td><td>50</td><td>10.903412378830907</td><td>0.0</td><td>44.76220000733787</td><td>64.5519728642541</td><td>0.03753509155130779</td><td>-8.519085740653178</td><td>-0.40812263587497516</td><td>99.82113472132791</td><td>76.9333952432544</td><td>32.77999166601939</td><td>56.78988503398783</td><td>5.861219920262084</td><td>516.4143122217869</td><td>9</td></tr>\n",
       "<tr><td>68216911708</td><td>computers, comput...</td><td>50</td><td>24.619604280542607</td><td>0.0</td><td>48.712896806382254</td><td>59.91702924779652</td><td>0.04570914333238355</td><td>-8.522728900994153</td><td>-0.4086107235399641</td><td>99.70218931101095</td><td>70.77851725739049</td><td>32.77999166601939</td><td>56.78988503398783</td><td>5.778495862059169</td><td>503.17142593495606</td><td>10</td></tr>\n",
       "<tr><td>63290521567</td><td>artist supply and...</td><td>0</td><td>29.208751886182267</td><td>0.0</td><td>27.189493102473016</td><td>59.55376400259715</td><td>0.0213026585332281</td><td>-8.523476351034862</td><td>-0.4089775561097257</td><td>99.6127566716749</td><td>70.36578445029149</td><td>32.77999166601939</td><td>56.78988503398783</td><td>5.743176262303037</td><td>466.1076740850282</td><td>11</td></tr>\n",
       "<tr><td>64403598239</td><td>music shops - mus...</td><td>0</td><td>100.0</td><td>0.0</td><td>95.66210084636779</td><td>43.50143291067443</td><td>0.14063610316732938</td><td>-8.508302420256898</td><td>-0.403368123834014</td><td>98.5341990412821</td><td>42.07295052365475</td><td>36.9926513640861</td><td>54.332438369538686</td><td>5.8530141215530325</td><td>460.0908715307214</td><td>12</td></tr>\n",
       "<tr><td>19492220327</td><td>jewelry, watch, c...</td><td>25</td><td>52.79157317229449</td><td>100.0</td><td>64.6294891861439</td><td>0.29227273066503473</td><td>15.110660081671115</td><td>-11.590796562369432</td><td>-0.0</td><td>2.7518423123703224</td><td>0.0</td><td>54.94475276974021</td><td>80.54845980465815</td><td>32.48272732864141</td><td>429.3037685876001</td><td>13</td></tr>\n",
       "<tr><td>21439773999</td><td>cable, satellite,...</td><td>0</td><td>71.20953460429264</td><td>0.0</td><td>70.45866091641419</td><td>40.306303314352235</td><td>0.10977134632416362</td><td>-8.491235945703567</td><td>-0.4064834103958132</td><td>97.77938756528583</td><td>35.87679925708095</td><td>32.77999166601939</td><td>56.78988503398783</td><td>5.660617546349071</td><td>386.411042596472</td><td>14</td></tr>\n",
       "<tr><td>60956456424</td><td>gift, card, novel...</td><td>25</td><td>67.18551883563603</td><td>0.0</td><td>86.4691327896888</td><td>34.70741008858671</td><td>0.1606663857157674</td><td>-8.497809581724692</td><td>-0.40732147460685747</td><td>96.35830292623595</td><td>25.09415467161946</td><td>52.02931741035037</td><td>67.15831110113018</td><td>5.886602830284622</td><td>359.92392825624006</td><td>15</td></tr>\n",
       "<tr><td>90918180829</td><td>jewelry, watch, c...</td><td>50</td><td>19.592858781693046</td><td>78.48837209302326</td><td>45.1278588749541</td><td>0.19795810228892557</td><td>15.568117805051179</td><td>-12.658051003867609</td><td>-0.0</td><td>1.8977606067110255</td><td>0.0</td><td>30.6008409687829</td><td>55.513972055888225</td><td>28.789647325462514</td><td>328.8422987542144</td><td>16</td></tr>\n",
       "<tr><td>79417999332</td><td>gift, card, novel...</td><td>25</td><td>57.83086491644781</td><td>0.0</td><td>70.51513148289759</td><td>33.26666318389766</td><td>0.13521886601996547</td><td>-8.535702430933135</td><td>-0.4079735591819872</td><td>96.20447878657794</td><td>22.638394469380383</td><td>30.615285941352266</td><td>62.39168007180277</td><td>5.871626006933598</td><td>326.5741533170337</td><td>17</td></tr>\n",
       "<tr><td>94493496784</td><td>gift, card, novel...</td><td>0</td><td>65.87173570160247</td><td>0.0</td><td>70.36830328271213</td><td>33.15313113371594</td><td>0.13541165026008523</td><td>-8.522154605805971</td><td>-0.4097510373443984</td><td>95.78682836087857</td><td>22.297889903523707</td><td>32.77999166601939</td><td>56.78988503398783</td><td>5.894176752976819</td><td>321.1826946909321</td><td>18</td></tr>\n",
       "<tr><td>32361057556</td><td>gift, card, novel...</td><td>0</td><td>82.1488344177972</td><td>0.0</td><td>75.01282222226833</td><td>28.86447426358093</td><td>0.16803074368834037</td><td>-8.544890537022937</td><td>-0.42386351594786476</td><td>93.7701223438506</td><td>15.147294020533456</td><td>23.555263724420485</td><td>52.166716822148665</td><td>5.746709553769096</td><td>305.5442927837874</td><td>19</td></tr>\n",
       "<tr><td>72472909171</td><td>digital goods: bo...</td><td>0</td><td>55.64738196980537</td><td>0.0</td><td>53.05334346487397</td><td>33.91548439097565</td><td>0.09718253544434646</td><td>-8.482098812527237</td><td>-0.39713239465676414</td><td>96.32879015525506</td><td>23.59799824588557</td><td>32.77999166601939</td><td>56.78988503398783</td><td>5.8610389120503665</td><td>304.0773017773722</td><td>20</td></tr>\n",
       "</table>\n",
       "only showing top 20 rows\n"
      ],
      "text/plain": [
       "+------------+--------------------+--------------+------------------+-----------------+------------------+-------------------+--------------------+-------------------+--------------------+------------------+------------------+---------------------+------------------+--------------------+------------------+------------+\n",
       "|merchant_abn|          Store_type|Revenue_levels|         Take_rate|count_of_bigorder|Avg_amount_monthly|  Avg_count_monthly|     Order_avg_value| avg_prob_fraud_cus|       prob_of_fraud| count_cus_per_mon|       fix_cus_num|avg_income_percentage|avg_age_percentage|predict_dollar_value|     entropy_score|entropy_rank|\n",
       "+------------+--------------------+--------------+------------------+-----------------+------------------+-------------------+--------------------+-------------------+--------------------+------------------+------------------+---------------------+------------------+--------------------+------------------+------------+\n",
       "| 64203420245|tent and awning s...|            50|38.592482711596126|              0.0| 81.45014114096124|              100.0|0.045805535452443404| -8.515942727507575| -0.4073926868044515|             100.0|             100.0|    32.77999166601939| 56.78988503398783|   5.706711918291284| 700.9654304204133|           1|\n",
       "| 49891706470|tent and awning s...|             0|  74.0823790594097|              0.0| 77.09522885693747|  94.72761636801923|0.045766978604419466|  -8.51644543703198| -0.4074534161490683| 99.98569077770622| 98.38518289222515|    32.77999166601939| 56.78988503398783|   5.723079183129754| 694.6179115467577|           2|\n",
       "| 86578477987|watch, clock, and...|             0| 75.48557998999027|              0.0| 70.85649450777649|  90.94896748337601|0.043376454026935046| -8.514694327550009| -0.4074331710225578| 99.99016240967303| 97.41526079554248|    32.77999166601939| 56.78988503398783|   5.824660754111644| 682.3251933471851|           3|\n",
       "| 24852446429|florists supplies...|            50|  31.6241113540929|              0.0| 64.92189809702175|   96.6141888009075|0.036050652902386016|  -8.51575702950217| -0.4074534161490683| 99.98569077770622| 99.15389774544704|    52.02931741035037| 67.15831110113018|   5.704521267340093| 674.7081255563534|           4|\n",
       "| 89726005175|tent and awning s...|             0| 70.55981677308753|              0.0| 70.86145820281202|  72.62189069578261| 0.05685207241130286| -8.513617942528448| -0.4076762454012131| 99.93024254131788| 85.62657999277718|    32.77999166601939| 56.78988503398783|    5.78488757486859| 611.3441335732097|           5|\n",
       "| 45629217853|gift, card, novel...|             0|60.573237755587236|              0.0| 52.37130550405759|  74.99402953885651|  0.0378628247595113|  -8.51413612938103|-0.40759518838850783| 99.95081204836518| 87.90176959191044|   30.615285941352266| 62.39168007180277|   5.739301974271463| 598.6444046506132|           6|\n",
       "| 46804135891|opticians, optica...|            50|21.274756869700635|              0.0|43.816245795664955|  77.02463934683155| 0.02899474971400458| -8.517276461187082|-0.40769651469199025| 99.92577090935109|  89.2431512149822|    32.77999166601939| 56.78988503398783|   5.728513805708602| 585.8410645516377|           7|\n",
       "| 43186523025|florists supplies...|            25| 53.20267651000336|              0.0| 71.83857338887455|   67.5402819550275| 0.06288621912704982| -8.518055429014124| -0.4080007960991143| 99.85154181870215| 80.42614662332973|     36.9926513640861|54.332438369538686|    5.81587419744553| 582.0938682268543|           8|\n",
       "| 80324045558|gift, card, novel...|            50|10.903412378830907|              0.0| 44.76220000733787|   64.5519728642541| 0.03753509155130779| -8.519085740653178|-0.40812263587497516| 99.82113472132791|  76.9333952432544|    32.77999166601939| 56.78988503398783|   5.861219920262084| 516.4143122217869|           9|\n",
       "| 68216911708|computers, comput...|            50|24.619604280542607|              0.0|48.712896806382254|  59.91702924779652| 0.04570914333238355| -8.522728900994153| -0.4086107235399641| 99.70218931101095| 70.77851725739049|    32.77999166601939| 56.78988503398783|   5.778495862059169|503.17142593495606|          10|\n",
       "| 63290521567|artist supply and...|             0|29.208751886182267|              0.0|27.189493102473016|  59.55376400259715|  0.0213026585332281| -8.523476351034862| -0.4089775561097257|  99.6127566716749| 70.36578445029149|    32.77999166601939| 56.78988503398783|   5.743176262303037| 466.1076740850282|          11|\n",
       "| 64403598239|music shops - mus...|             0|             100.0|              0.0| 95.66210084636779|  43.50143291067443| 0.14063610316732938| -8.508302420256898|  -0.403368123834014|  98.5341990412821| 42.07295052365475|     36.9926513640861|54.332438369538686|  5.8530141215530325| 460.0908715307214|          12|\n",
       "| 19492220327|jewelry, watch, c...|            25| 52.79157317229449|            100.0|  64.6294891861439|0.29227273066503473|  15.110660081671115|-11.590796562369432|                -0.0|2.7518423123703224|               0.0|    54.94475276974021| 80.54845980465815|   32.48272732864141| 429.3037685876001|          13|\n",
       "| 21439773999|cable, satellite,...|             0| 71.20953460429264|              0.0| 70.45866091641419| 40.306303314352235| 0.10977134632416362| -8.491235945703567| -0.4064834103958132| 97.77938756528583| 35.87679925708095|    32.77999166601939| 56.78988503398783|   5.660617546349071|  386.411042596472|          14|\n",
       "| 60956456424|gift, card, novel...|            25| 67.18551883563603|              0.0|  86.4691327896888|  34.70741008858671|  0.1606663857157674| -8.497809581724692|-0.40732147460685747| 96.35830292623595| 25.09415467161946|    52.02931741035037| 67.15831110113018|   5.886602830284622|359.92392825624006|          15|\n",
       "| 90918180829|jewelry, watch, c...|            50|19.592858781693046|78.48837209302326|  45.1278588749541|0.19795810228892557|  15.568117805051179|-12.658051003867609|                -0.0|1.8977606067110255|               0.0|     30.6008409687829|55.513972055888225|  28.789647325462514| 328.8422987542144|          16|\n",
       "| 79417999332|gift, card, novel...|            25| 57.83086491644781|              0.0| 70.51513148289759|  33.26666318389766| 0.13521886601996547| -8.535702430933135| -0.4079735591819872| 96.20447878657794|22.638394469380383|   30.615285941352266| 62.39168007180277|   5.871626006933598| 326.5741533170337|          17|\n",
       "| 94493496784|gift, card, novel...|             0| 65.87173570160247|              0.0| 70.36830328271213|  33.15313113371594| 0.13541165026008523| -8.522154605805971| -0.4097510373443984| 95.78682836087857|22.297889903523707|    32.77999166601939| 56.78988503398783|   5.894176752976819| 321.1826946909321|          18|\n",
       "| 32361057556|gift, card, novel...|             0|  82.1488344177972|              0.0| 75.01282222226833|  28.86447426358093| 0.16803074368834037| -8.544890537022937|-0.42386351594786476|  93.7701223438506|15.147294020533456|   23.555263724420485|52.166716822148665|   5.746709553769096| 305.5442927837874|          19|\n",
       "| 72472909171|digital goods: bo...|             0| 55.64738196980537|              0.0| 53.05334346487397|  33.91548439097565| 0.09718253544434646| -8.482098812527237|-0.39713239465676414| 96.32879015525506| 23.59799824588557|    32.77999166601939| 56.78988503398783|  5.8610389120503665| 304.0773017773722|          20|\n",
       "+------------+--------------------+--------------+------------------+-----------------+------------------+-------------------+--------------------+-------------------+--------------------+------------------+------------------+---------------------+------------------+--------------------+------------------+------------+\n",
       "only showing top 20 rows"
      ]
     },
     "execution_count": 12,
     "metadata": {},
     "output_type": "execute_result"
    }
   ],
   "source": [
    "# Sort the original dataframe use entropy weight method and the mapping method is min_max 0-100\n",
    "entropy_score = get_rank_df(final,col_list_1,col_list_2)\n",
    "entropy_score"
   ]
  },
  {
   "cell_type": "code",
   "execution_count": 13,
   "metadata": {},
   "outputs": [],
   "source": [
    "# Sort the original dataframe use subjective weight method and the mapping method is min_max 0-100\n",
    "# Subjective weighting\n",
    "self_weight_score = final_1.withColumn('weight_score', 0.05*13*final_1.Revenue_levels + 0.05*13*final_1.Take_rate + 0.025*13*final_1.count_of_bigorder +\\\n",
    "                            0.1*13*final_1.Avg_amount_monthly + 0.1*13*final_1.Avg_count_monthly +\\\n",
    "                            0.015*13*final_1.Order_avg_value + 0.25*13*final_1.avg_prob_fraud_cus + 0.25*13*final_1.prob_of_fraud +\\\n",
    "                            0.02*13*final_1.count_cus_per_mon + 0.09*13*final_1.fix_cus_num +\\\n",
    "                            0.01*13*final_1.avg_income_percentage + 0.01*13*final_1.avg_age_percentage + 0.03*13*final_1.predict_dollar_value )\n",
    "\n",
    "self_weight_score_pd = self_weight_score.toPandas()\n",
    "self_weight_score_pd['weight_score'] = self_weight_score_pd.weight_score.rank(axis=0,method='min', ascending=False)\n",
    "self_weight_score_pd['weight_score'] = self_weight_score_pd.weight_score.astype(int)\n",
    "unsorted_self_weight_score = spark.createDataFrame(self_weight_score_pd)\n",
    "sorted_self_weight_score= unsorted_self_weight_score.sort(unsorted_self_weight_score.weight_score)"
   ]
  },
  {
   "cell_type": "code",
   "execution_count": 14,
   "metadata": {},
   "outputs": [
    {
     "data": {
      "text/html": [
       "<table border='1'>\n",
       "<tr><th>merchant_abn</th><th>Store_type</th><th>Revenue_levels</th><th>Take_rate</th><th>count_of_bigorder</th><th>Avg_amount_monthly</th><th>Avg_count_monthly</th><th>Order_avg_value</th><th>avg_prob_fraud_cus</th><th>prob_of_fraud</th><th>count_cus_per_mon</th><th>fix_cus_num</th><th>avg_income_percentage</th><th>avg_age_percentage</th><th>predict_dollar_value</th><th>weight_score</th></tr>\n",
       "<tr><td>64203420245</td><td>tent and awning s...</td><td>50</td><td>38.592482711596126</td><td>0.0</td><td>81.45014114096124</td><td>100.0</td><td>0.045805535452443404</td><td>-8.515942727507575</td><td>-0.4073926868044515</td><td>100.0</td><td>100.0</td><td>32.77999166601939</td><td>56.78988503398783</td><td>5.706711918291284</td><td>1</td></tr>\n",
       "<tr><td>49891706470</td><td>tent and awning s...</td><td>0</td><td>74.0823790594097</td><td>0.0</td><td>77.09522885693747</td><td>94.72761636801923</td><td>0.045766978604419466</td><td>-8.51644543703198</td><td>-0.4074534161490683</td><td>99.98569077770622</td><td>98.38518289222515</td><td>32.77999166601939</td><td>56.78988503398783</td><td>5.723079183129754</td><td>2</td></tr>\n",
       "<tr><td>24852446429</td><td>florists supplies...</td><td>50</td><td>31.6241113540929</td><td>0.0</td><td>64.92189809702175</td><td>96.6141888009075</td><td>0.036050652902386016</td><td>-8.51575702950217</td><td>-0.4074534161490683</td><td>99.98569077770622</td><td>99.15389774544704</td><td>52.02931741035037</td><td>67.15831110113018</td><td>5.704521267340093</td><td>3</td></tr>\n",
       "<tr><td>86578477987</td><td>watch, clock, and...</td><td>0</td><td>75.48557998999027</td><td>0.0</td><td>70.85649450777649</td><td>90.94896748337601</td><td>0.043376454026935046</td><td>-8.514694327550009</td><td>-0.4074331710225578</td><td>99.99016240967303</td><td>97.41526079554248</td><td>32.77999166601939</td><td>56.78988503398783</td><td>5.824660754111644</td><td>4</td></tr>\n",
       "<tr><td>89726005175</td><td>tent and awning s...</td><td>0</td><td>70.55981677308753</td><td>0.0</td><td>70.86145820281202</td><td>72.62189069578261</td><td>0.05685207241130286</td><td>-8.513617942528448</td><td>-0.4076762454012131</td><td>99.93024254131788</td><td>85.62657999277718</td><td>32.77999166601939</td><td>56.78988503398783</td><td>5.78488757486859</td><td>5</td></tr>\n",
       "<tr><td>43186523025</td><td>florists supplies...</td><td>25</td><td>53.20267651000336</td><td>0.0</td><td>71.83857338887455</td><td>67.5402819550275</td><td>0.06288621912704982</td><td>-8.518055429014124</td><td>-0.4080007960991143</td><td>99.85154181870215</td><td>80.42614662332973</td><td>36.9926513640861</td><td>54.332438369538686</td><td>5.81587419744553</td><td>6</td></tr>\n",
       "<tr><td>45629217853</td><td>gift, card, novel...</td><td>0</td><td>60.573237755587236</td><td>0.0</td><td>52.37130550405759</td><td>74.99402953885651</td><td>0.0378628247595113</td><td>-8.51413612938103</td><td>-0.40759518838850783</td><td>99.95081204836518</td><td>87.90176959191044</td><td>30.615285941352266</td><td>62.39168007180277</td><td>5.739301974271463</td><td>7</td></tr>\n",
       "<tr><td>46804135891</td><td>opticians, optica...</td><td>50</td><td>21.274756869700635</td><td>0.0</td><td>43.816245795664955</td><td>77.02463934683155</td><td>0.02899474971400458</td><td>-8.517276461187082</td><td>-0.40769651469199025</td><td>99.92577090935109</td><td>89.2431512149822</td><td>32.77999166601939</td><td>56.78988503398783</td><td>5.728513805708602</td><td>8</td></tr>\n",
       "<tr><td>64403598239</td><td>music shops - mus...</td><td>0</td><td>100.0</td><td>0.0</td><td>95.66210084636779</td><td>43.50143291067443</td><td>0.14063610316732938</td><td>-8.508302420256898</td><td>-0.403368123834014</td><td>98.5341990412821</td><td>42.07295052365475</td><td>36.9926513640861</td><td>54.332438369538686</td><td>5.8530141215530325</td><td>9</td></tr>\n",
       "<tr><td>68216911708</td><td>computers, comput...</td><td>50</td><td>24.619604280542607</td><td>0.0</td><td>48.712896806382254</td><td>59.91702924779652</td><td>0.04570914333238355</td><td>-8.522728900994153</td><td>-0.4086107235399641</td><td>99.70218931101095</td><td>70.77851725739049</td><td>32.77999166601939</td><td>56.78988503398783</td><td>5.778495862059169</td><td>10</td></tr>\n",
       "<tr><td>80324045558</td><td>gift, card, novel...</td><td>50</td><td>10.903412378830907</td><td>0.0</td><td>44.76220000733787</td><td>64.5519728642541</td><td>0.03753509155130779</td><td>-8.519085740653178</td><td>-0.40812263587497516</td><td>99.82113472132791</td><td>76.9333952432544</td><td>32.77999166601939</td><td>56.78988503398783</td><td>5.861219920262084</td><td>11</td></tr>\n",
       "<tr><td>60956456424</td><td>gift, card, novel...</td><td>25</td><td>67.18551883563603</td><td>0.0</td><td>86.4691327896888</td><td>34.70741008858671</td><td>0.1606663857157674</td><td>-8.497809581724692</td><td>-0.40732147460685747</td><td>96.35830292623595</td><td>25.09415467161946</td><td>52.02931741035037</td><td>67.15831110113018</td><td>5.886602830284622</td><td>12</td></tr>\n",
       "<tr><td>21439773999</td><td>cable, satellite,...</td><td>0</td><td>71.20953460429264</td><td>0.0</td><td>70.45866091641419</td><td>40.306303314352235</td><td>0.10977134632416362</td><td>-8.491235945703567</td><td>-0.4064834103958132</td><td>97.77938756528583</td><td>35.87679925708095</td><td>32.77999166601939</td><td>56.78988503398783</td><td>5.660617546349071</td><td>13</td></tr>\n",
       "<tr><td>79417999332</td><td>gift, card, novel...</td><td>25</td><td>57.83086491644781</td><td>0.0</td><td>70.51513148289759</td><td>33.26666318389766</td><td>0.13521886601996547</td><td>-8.535702430933135</td><td>-0.4079735591819872</td><td>96.20447878657794</td><td>22.638394469380383</td><td>30.615285941352266</td><td>62.39168007180277</td><td>5.871626006933598</td><td>14</td></tr>\n",
       "<tr><td>63290521567</td><td>artist supply and...</td><td>0</td><td>29.208751886182267</td><td>0.0</td><td>27.189493102473016</td><td>59.55376400259715</td><td>0.0213026585332281</td><td>-8.523476351034862</td><td>-0.4089775561097257</td><td>99.6127566716749</td><td>70.36578445029149</td><td>32.77999166601939</td><td>56.78988503398783</td><td>5.743176262303037</td><td>15</td></tr>\n",
       "<tr><td>32361057556</td><td>gift, card, novel...</td><td>0</td><td>82.1488344177972</td><td>0.0</td><td>75.01282222226833</td><td>28.86447426358093</td><td>0.16803074368834037</td><td>-8.544890537022937</td><td>-0.42386351594786476</td><td>93.7701223438506</td><td>15.147294020533456</td><td>23.555263724420485</td><td>52.166716822148665</td><td>5.746709553769096</td><td>16</td></tr>\n",
       "<tr><td>94493496784</td><td>gift, card, novel...</td><td>0</td><td>65.87173570160247</td><td>0.0</td><td>70.36830328271213</td><td>33.15313113371594</td><td>0.13541165026008523</td><td>-8.522154605805971</td><td>-0.4097510373443984</td><td>95.78682836087857</td><td>22.297889903523707</td><td>32.77999166601939</td><td>56.78988503398783</td><td>5.894176752976819</td><td>17</td></tr>\n",
       "<tr><td>49322182190</td><td>watch, clock, and...</td><td>0</td><td>88.95310196995996</td><td>0.0</td><td>84.55526592497158</td><td>19.86726918570373</td><td>0.2815421042708264</td><td>-8.542628727268344</td><td>-0.4195559699318221</td><td>85.25881805823853</td><td>4.560697518443997</td><td>32.77999166601939</td><td>56.78988503398783</td><td>6.098086716758567</td><td>18</td></tr>\n",
       "<tr><td>72472909171</td><td>digital goods: bo...</td><td>0</td><td>55.64738196980537</td><td>0.0</td><td>53.05334346487397</td><td>33.91548439097565</td><td>0.09718253544434646</td><td>-8.482098812527237</td><td>-0.39713239465676414</td><td>96.32879015525506</td><td>23.59799824588557</td><td>32.77999166601939</td><td>56.78988503398783</td><td>5.8610389120503665</td><td>19</td></tr>\n",
       "<tr><td>28057731482</td><td>music shops - mus...</td><td>50</td><td>24.35157608877529</td><td>0.0</td><td>100.0</td><td>4.8017433746539</td><td>1.416366533735507</td><td>-8.609865358443713</td><td>-0.49267643142476697</td><td>37.30771982542748</td><td>0.005159160088737553</td><td>40.50693581048101</td><td>56.93166458767364</td><td>7.651751567674505</td><td>20</td></tr>\n",
       "</table>\n",
       "only showing top 20 rows\n"
      ],
      "text/plain": [
       "+------------+--------------------+--------------+------------------+-----------------+------------------+------------------+--------------------+------------------+--------------------+-----------------+--------------------+---------------------+------------------+--------------------+------------+\n",
       "|merchant_abn|          Store_type|Revenue_levels|         Take_rate|count_of_bigorder|Avg_amount_monthly| Avg_count_monthly|     Order_avg_value|avg_prob_fraud_cus|       prob_of_fraud|count_cus_per_mon|         fix_cus_num|avg_income_percentage|avg_age_percentage|predict_dollar_value|weight_score|\n",
       "+------------+--------------------+--------------+------------------+-----------------+------------------+------------------+--------------------+------------------+--------------------+-----------------+--------------------+---------------------+------------------+--------------------+------------+\n",
       "| 64203420245|tent and awning s...|            50|38.592482711596126|              0.0| 81.45014114096124|             100.0|0.045805535452443404|-8.515942727507575| -0.4073926868044515|            100.0|               100.0|    32.77999166601939| 56.78988503398783|   5.706711918291284|           1|\n",
       "| 49891706470|tent and awning s...|             0|  74.0823790594097|              0.0| 77.09522885693747| 94.72761636801923|0.045766978604419466| -8.51644543703198| -0.4074534161490683|99.98569077770622|   98.38518289222515|    32.77999166601939| 56.78988503398783|   5.723079183129754|           2|\n",
       "| 24852446429|florists supplies...|            50|  31.6241113540929|              0.0| 64.92189809702175|  96.6141888009075|0.036050652902386016| -8.51575702950217| -0.4074534161490683|99.98569077770622|   99.15389774544704|    52.02931741035037| 67.15831110113018|   5.704521267340093|           3|\n",
       "| 86578477987|watch, clock, and...|             0| 75.48557998999027|              0.0| 70.85649450777649| 90.94896748337601|0.043376454026935046|-8.514694327550009| -0.4074331710225578|99.99016240967303|   97.41526079554248|    32.77999166601939| 56.78988503398783|   5.824660754111644|           4|\n",
       "| 89726005175|tent and awning s...|             0| 70.55981677308753|              0.0| 70.86145820281202| 72.62189069578261| 0.05685207241130286|-8.513617942528448| -0.4076762454012131|99.93024254131788|   85.62657999277718|    32.77999166601939| 56.78988503398783|    5.78488757486859|           5|\n",
       "| 43186523025|florists supplies...|            25| 53.20267651000336|              0.0| 71.83857338887455|  67.5402819550275| 0.06288621912704982|-8.518055429014124| -0.4080007960991143|99.85154181870215|   80.42614662332973|     36.9926513640861|54.332438369538686|    5.81587419744553|           6|\n",
       "| 45629217853|gift, card, novel...|             0|60.573237755587236|              0.0| 52.37130550405759| 74.99402953885651|  0.0378628247595113| -8.51413612938103|-0.40759518838850783|99.95081204836518|   87.90176959191044|   30.615285941352266| 62.39168007180277|   5.739301974271463|           7|\n",
       "| 46804135891|opticians, optica...|            50|21.274756869700635|              0.0|43.816245795664955| 77.02463934683155| 0.02899474971400458|-8.517276461187082|-0.40769651469199025|99.92577090935109|    89.2431512149822|    32.77999166601939| 56.78988503398783|   5.728513805708602|           8|\n",
       "| 64403598239|music shops - mus...|             0|             100.0|              0.0| 95.66210084636779| 43.50143291067443| 0.14063610316732938|-8.508302420256898|  -0.403368123834014| 98.5341990412821|   42.07295052365475|     36.9926513640861|54.332438369538686|  5.8530141215530325|           9|\n",
       "| 68216911708|computers, comput...|            50|24.619604280542607|              0.0|48.712896806382254| 59.91702924779652| 0.04570914333238355|-8.522728900994153| -0.4086107235399641|99.70218931101095|   70.77851725739049|    32.77999166601939| 56.78988503398783|   5.778495862059169|          10|\n",
       "| 80324045558|gift, card, novel...|            50|10.903412378830907|              0.0| 44.76220000733787|  64.5519728642541| 0.03753509155130779|-8.519085740653178|-0.40812263587497516|99.82113472132791|    76.9333952432544|    32.77999166601939| 56.78988503398783|   5.861219920262084|          11|\n",
       "| 60956456424|gift, card, novel...|            25| 67.18551883563603|              0.0|  86.4691327896888| 34.70741008858671|  0.1606663857157674|-8.497809581724692|-0.40732147460685747|96.35830292623595|   25.09415467161946|    52.02931741035037| 67.15831110113018|   5.886602830284622|          12|\n",
       "| 21439773999|cable, satellite,...|             0| 71.20953460429264|              0.0| 70.45866091641419|40.306303314352235| 0.10977134632416362|-8.491235945703567| -0.4064834103958132|97.77938756528583|   35.87679925708095|    32.77999166601939| 56.78988503398783|   5.660617546349071|          13|\n",
       "| 79417999332|gift, card, novel...|            25| 57.83086491644781|              0.0| 70.51513148289759| 33.26666318389766| 0.13521886601996547|-8.535702430933135| -0.4079735591819872|96.20447878657794|  22.638394469380383|   30.615285941352266| 62.39168007180277|   5.871626006933598|          14|\n",
       "| 63290521567|artist supply and...|             0|29.208751886182267|              0.0|27.189493102473016| 59.55376400259715|  0.0213026585332281|-8.523476351034862| -0.4089775561097257| 99.6127566716749|   70.36578445029149|    32.77999166601939| 56.78988503398783|   5.743176262303037|          15|\n",
       "| 32361057556|gift, card, novel...|             0|  82.1488344177972|              0.0| 75.01282222226833| 28.86447426358093| 0.16803074368834037|-8.544890537022937|-0.42386351594786476| 93.7701223438506|  15.147294020533456|   23.555263724420485|52.166716822148665|   5.746709553769096|          16|\n",
       "| 94493496784|gift, card, novel...|             0| 65.87173570160247|              0.0| 70.36830328271213| 33.15313113371594| 0.13541165026008523|-8.522154605805971| -0.4097510373443984|95.78682836087857|  22.297889903523707|    32.77999166601939| 56.78988503398783|   5.894176752976819|          17|\n",
       "| 49322182190|watch, clock, and...|             0| 88.95310196995996|              0.0| 84.55526592497158| 19.86726918570373|  0.2815421042708264|-8.542628727268344| -0.4195559699318221|85.25881805823853|   4.560697518443997|    32.77999166601939| 56.78988503398783|   6.098086716758567|          18|\n",
       "| 72472909171|digital goods: bo...|             0| 55.64738196980537|              0.0| 53.05334346487397| 33.91548439097565| 0.09718253544434646|-8.482098812527237|-0.39713239465676414|96.32879015525506|   23.59799824588557|    32.77999166601939| 56.78988503398783|  5.8610389120503665|          19|\n",
       "| 28057731482|music shops - mus...|            50| 24.35157608877529|              0.0|             100.0|   4.8017433746539|   1.416366533735507|-8.609865358443713|-0.49267643142476697|37.30771982542748|0.005159160088737553|    40.50693581048101| 56.93166458767364|   7.651751567674505|          20|\n",
       "+------------+--------------------+--------------+------------------+-----------------+------------------+------------------+--------------------+------------------+--------------------+-----------------+--------------------+---------------------+------------------+--------------------+------------+\n",
       "only showing top 20 rows"
      ]
     },
     "execution_count": 14,
     "metadata": {},
     "output_type": "execute_result"
    }
   ],
   "source": [
    "sorted_self_weight_score"
   ]
  },
  {
   "cell_type": "markdown",
   "metadata": {},
   "source": [
    "### Z-score Model"
   ]
  },
  {
   "cell_type": "code",
   "execution_count": 15,
   "metadata": {},
   "outputs": [],
   "source": [
    "# Calculate the mean and standard deviation for each feature as list\n",
    "mean_num_list = []\n",
    "sd_num_list = []\n",
    "\n",
    "for i in col_list_1:\n",
    "    mean_num = float(final.agg({i: \"mean\"}).collect()[0][0])\n",
    "    sd_num = float(final.agg({i: \"stddev_pop\"}).collect()[0][0])\n",
    "    mean_num_list.append(mean_num)\n",
    "    sd_num_list.append(sd_num)\n"
   ]
  },
  {
   "cell_type": "code",
   "execution_count": 16,
   "metadata": {},
   "outputs": [],
   "source": [
    "# Use z-score to map the data\n",
    "final_3 = final\n",
    "\n",
    "for i in range(0,len(mean_num_list)):\n",
    "    final_3 = final_3.withColumn(col_list_1[i], (col(col_list_1[i]) - mean_num_list[i])/(sd_num_list[i]))\n",
    "\n",
    "\n",
    "final_3 = final_3.withColumn('avg_prob_fraud_cus', (final_3.avg_prob_fraud_cus *(-1)))\\\n",
    "    .withColumn('prob_of_fraud', (final_3.prob_of_fraud*(-1)))\n",
    "    \n",
    "final_3 = final_3.select('merchant_abn','Store_type', 'Revenue_levels', 'Take_rate', 'count_of_bigorder', 'Avg_amount_monthly',\\\n",
    "    'Avg_count_monthly', 'Order_avg_value',\t'avg_prob_fraud_cus', 'prob_of_fraud', 'count_cus_per_mon',\\\n",
    "     'fix_cus_num', 'avg_income_percentage', 'avg_age_percentage', 'predict_dollar_value')"
   ]
  },
  {
   "cell_type": "code",
   "execution_count": 17,
   "metadata": {},
   "outputs": [],
   "source": [
    "# Use pure add method to calculate the scores and sort\n",
    "z_score = final_3.withColumn('z_score',reduce(add, [F.col(x) for x in final_1.columns[3:15]]))\n",
    "z_score = z_score.sort(z_score.z_score.desc())"
   ]
  },
  {
   "cell_type": "code",
   "execution_count": 18,
   "metadata": {},
   "outputs": [
    {
     "data": {
      "text/html": [
       "<table border='1'>\n",
       "<tr><th>merchant_abn</th><th>Store_type</th><th>Revenue_levels</th><th>Take_rate</th><th>count_of_bigorder</th><th>Avg_amount_monthly</th><th>Avg_count_monthly</th><th>Order_avg_value</th><th>avg_prob_fraud_cus</th><th>prob_of_fraud</th><th>count_cus_per_mon</th><th>fix_cus_num</th><th>avg_income_percentage</th><th>avg_age_percentage</th><th>predict_dollar_value</th><th>z_score</th></tr>\n",
       "<tr><td>49891706470</td><td>tent and awning s...</td><td>a</td><td>9.33481161786612</td><td>-0.09290122799666227</td><td>7.657264972302665</td><td>19.308062623301318</td><td>-0.34818660205849644</td><td>0.08392176799091584</td><td>0.024964503888413626</td><td>6.571638453541412</td><td>20.74092998441094</td><td>-0.7131009734685743</td><td>-0.3578390827175586</td><td>-0.34638153487955764</td><td>61.86318450218093</td></tr>\n",
       "<tr><td>86578477987</td><td>watch, clock, and...</td><td>a</td><td>9.519187553495637</td><td>-0.09290122799666227</td><td>7.002987630588029</td><td>18.52848393365726</td><td>-0.3486286467859195</td><td>0.08447665816725088</td><td>0.024972449195492536</td><td>6.571954339146765</td><td>20.535802186846144</td><td>-0.7131009734685743</td><td>-0.3578390827175586</td><td>-0.32375645282159704</td><td>60.431638367306256</td></tr>\n",
       "<tr><td>64203420245</td><td>tent and awning s...</td><td>c</td><td>4.671557267104336</td><td>-0.09290122799666227</td><td>8.113979471289896</td><td>20.39581595752211</td><td>-0.34817947230482826</td><td>0.08408106618415512</td><td>0.024988337441216178</td><td>6.572649287478543</td><td>21.0824459452502</td><td>-0.7131009734685743</td><td>-0.3578390827175586</td><td>-0.3500269865737511</td><td>59.08346958920907</td></tr>\n",
       "<tr><td>24852446429</td><td>florists supplies...</td><td>c</td><td>3.755936445557399</td><td>-0.09290122799666227</td><td>6.380606271410584</td><td>19.697284196950786</td><td>-0.34998329998286115</td><td>0.08413991002003487</td><td>0.024964503888413626</td><td>6.571638453541412</td><td>20.903504675034103</td><td>0.5448776576748561</td><td>0.6485445991974287</td><td>-0.35051490635144267</td><td>57.818097278944045</td></tr>\n",
       "<tr><td>19492220327</td><td>jewelry, watch, c...</td><td>b</td><td>6.537270531487849</td><td>34.94604166596016</td><td>6.349940351979575</td><td>-0.17503403277924393</td><td>2.437543621393389</td><td>-0.890276165158527</td><td>0.18487175415833693</td><td>-0.29716768062367666</td><td>-0.06644820474142699</td><td>0.7354066887331253</td><td>1.9482237468696166</td><td>5.613747150689724</td><td>57.3241194279689</td></tr>\n",
       "<tr><td>89726005175</td><td>tent and awning s...</td><td>a</td><td>8.871958648487603</td><td>-0.09290122799666227</td><td>7.003508190209767</td><td>14.7473973751407</td><td>-0.3461367978789136</td><td>0.08481774219458743</td><td>0.024877053368727368</td><td>6.567721472035032</td><td>18.042626562188925</td><td>-0.7131009734685743</td><td>-0.3578390827175586</td><td>-0.3326150620691396</td><td>53.50031389949449</td></tr>\n",
       "<tr><td>45629217853</td><td>gift, card, novel...</td><td>a</td><td>7.559755378120666</td><td>-0.09290122799666227</td><td>5.064382835839501</td><td>15.236796879406077</td><td>-0.3496482015604598</td><td>0.08465353955793727</td><td>0.0249088646224881</td><td>6.569174545819657</td><td>18.52380400222124</td><td>-0.8545684503305668</td><td>0.18588424413865257</td><td>-0.34276826155406687</td><td>51.60947414828446</td></tr>\n",
       "<tr><td>43186523025</td><td>florists supplies...</td><td>b</td><td>6.591288142849559</td><td>-0.09290122799666227</td><td>7.105981591176419</td><td>13.699003093390516</td><td>-0.34502099142985376</td><td>0.08341159501540063</td><td>0.024749681729129714</td><td>6.562161885380814</td><td>16.942792413543643</td><td>-0.4377959601484187</td><td>-0.5963646030099223</td><td>-0.32571346691043407</td><td>49.21159215359019</td></tr>\n",
       "<tr><td>46804135891</td><td>opticians, optica...</td><td>c</td><td>2.3960656853292863</td><td>-0.09290122799666227</td><td>4.167184556356759</td><td>15.65573501883287</td><td>-0.351288044904126</td><td>0.0836584337192946</td><td>0.02486909857825407</td><td>6.567405586429679</td><td>18.807491381832126</td><td>-0.7131009734685743</td><td>-0.3578390827175586</td><td>-0.34517109108929206</td><td>45.84210934090204</td></tr>\n",
       "<tr><td>64403598239</td><td>music shops - mus...</td><td>a</td><td>12.740300814794926</td><td>-0.09290122799666227</td><td>9.604436140255041</td><td>8.739512277847988</td><td>-0.3306438431581016</td><td>0.08650212065346811</td><td>0.026567798485433728</td><td>6.469101986043735</td><td>8.831515567284665</td><td>-0.4377959601484187</td><td>-0.5963646030099223</td><td>-0.3174413578808495</td><td>44.72278971317129</td></tr>\n",
       "<tr><td>80324045558</td><td>gift, card, novel...</td><td>c</td><td>1.0333055113825667</td><td>-0.09290122799666227</td><td>4.2663899996980605</td><td>13.082480585913213</td><td>-0.34970880446663877</td><td>0.08308511068477445</td><td>0.02470186506406026</td><td>6.560013863264412</td><td>16.20411412124914</td><td>-0.7131009734685743</td><td>-0.3578390827175586</td><td>-0.3156136949755723</td><td>39.42492727363121</td></tr>\n",
       "<tr><td>68216911708</td><td>computers, comput...</td><td>c</td><td>2.8355675110990317</td><td>-0.09290122799666227</td><td>4.680713042631745</td><td>12.126238452441408</td><td>-0.34819729668899857</td><td>0.0819306689409345</td><td>0.024510312475946736</td><td>6.551611306162014</td><td>14.902425490957649</td><td>-0.7131009734685743</td><td>-0.3578390827175586</td><td>-0.33403867685877364</td><td>39.35691952697815</td></tr>\n",
       "<tr><td>15043504837</td><td>jewelry, watch, c...</td><td>b</td><td>2.297237287034585</td><td>20.278577198722417</td><td>2.38211400204314</td><td>-0.22080216323162197</td><td>4.425147829975574</td><td>-2.2729377637793062</td><td>0.18487175415833693</td><td>-0.4438649557497432</td><td>-0.06644820474142699</td><td>1.5923942796120494</td><td>1.5297096915654986</td><td>8.832528949787541</td><td>38.518527905397036</td></tr>\n",
       "<tr><td>90918180829</td><td>jewelry, watch, c...</td><td>c</td><td>2.175069870081646</td><td>27.408594648074097</td><td>4.304737891832706</td><td>-0.1944922244896536</td><td>2.5221345837887292</td><td>-1.228466901565698</td><td>0.18487175415833693</td><td>-0.3575018312461545</td><td>-0.06644820474142699</td><td>-0.8555124556978749</td><td>-0.48168218025115506</td><td>4.791194030956693</td><td>38.20249898090025</td></tr>\n",
       "<tr><td>63290521567</td><td>artist supply and...</td><td>a</td><td>3.438566244275257</td><td>-0.09290122799666227</td><td>2.423480313698747</td><td>12.051292657663629</td><td>-0.3527104307609148</td><td>0.0816938175680418</td><td>0.02436634709189272</td><td>6.545293594054949</td><td>14.81513706646199</td><td>-0.7131009734685743</td><td>-0.3578390827175586</td><td>-0.3419053482934897</td><td>37.5213729775773</td></tr>\n",
       "<tr><td>21439773999</td><td>cable, satellite,...</td><td>a</td><td>8.957329410730516</td><td>-0.09290122799666227</td><td>6.961265465476716</td><td>8.08032032326685</td><td>-0.33635121096942694</td><td>0.09191013150134378</td><td>0.02534518778159342</td><td>6.415780495860101</td><td>7.521098094543605</td><td>-0.7131009734685743</td><td>-0.3578390827175586</td><td>-0.3602935037925945</td><td>36.1925631102159</td></tr>\n",
       "<tr><td>60956456424</td><td>gift, card, novel...</td><td>b</td><td>8.428587121465474</td><td>-0.09290122799666227</td><td>8.640338237384665</td><td>6.92520430755601</td><td>-0.3269399361275163</td><td>0.08982708296070165</td><td>0.025016285045167</td><td>6.315392050478826</td><td>5.240688004594552</td><td>0.5448776576748561</td><td>0.6485445991974287</td><td>-0.3099602047156889</td><td>36.12867397751781</td></tr>\n",
       "<tr><td>94493496784</td><td>gift, card, novel...</td><td>a</td><td>8.25596038692397</td><td>-0.09290122799666227</td><td>6.951789352362499</td><td>6.604538697182978</td><td>-0.33160992478013107</td><td>0.08211265114223024</td><td>0.02406279028645255</td><td>6.275021870114675</td><td>4.649308928636472</td><td>-0.7131009734685743</td><td>-0.3578390827175586</td><td>-0.3082732784282212</td><td>31.03907018925813</td></tr>\n",
       "<tr><td>79417999332</td><td>gift, card, novel...</td><td>b</td><td>7.19941670741289</td><td>-0.09290122799666227</td><td>6.967187726316184</td><td>6.627961663861087</td><td>-0.33164557354847163</td><td>0.07781962711879362</td><td>0.02476037100145144</td><td>6.304525585654672</td><td>4.721321878845389</td><td>-0.8545684503305668</td><td>0.18588424413865257</td><td>-0.3132959658582777</td><td>30.516466586615145</td></tr>\n",
       "<tr><td>32361057556</td><td>gift, card, novel...</td><td>a</td><td>10.39471702521295</td><td>-0.09290122799666227</td><td>7.438875888708574</td><td>5.719739499051472</td><td>-0.32557815317690647</td><td>0.07490810738753287</td><td>0.018524273345542134</td><td>6.132557462100343</td><td>3.1370369742492055</td><td>-1.3159538101223844</td><td>-0.8065746012055017</td><td>-0.3411183845895267</td><td>30.034233052964638</td></tr>\n",
       "</table>\n",
       "only showing top 20 rows\n"
      ],
      "text/plain": [
       "+------------+--------------------+--------------+------------------+--------------------+------------------+--------------------+--------------------+-------------------+--------------------+--------------------+--------------------+---------------------+--------------------+--------------------+------------------+\n",
       "|merchant_abn|          Store_type|Revenue_levels|         Take_rate|   count_of_bigorder|Avg_amount_monthly|   Avg_count_monthly|     Order_avg_value| avg_prob_fraud_cus|       prob_of_fraud|   count_cus_per_mon|         fix_cus_num|avg_income_percentage|  avg_age_percentage|predict_dollar_value|           z_score|\n",
       "+------------+--------------------+--------------+------------------+--------------------+------------------+--------------------+--------------------+-------------------+--------------------+--------------------+--------------------+---------------------+--------------------+--------------------+------------------+\n",
       "| 49891706470|tent and awning s...|             a|  9.33481161786612|-0.09290122799666227| 7.657264972302665|  19.308062623301318|-0.34818660205849644|0.08392176799091584|0.024964503888413626|   6.571638453541412|   20.74092998441094|  -0.7131009734685743| -0.3578390827175586|-0.34638153487955764| 61.86318450218093|\n",
       "| 86578477987|watch, clock, and...|             a| 9.519187553495637|-0.09290122799666227| 7.002987630588029|   18.52848393365726| -0.3486286467859195|0.08447665816725088|0.024972449195492536|   6.571954339146765|  20.535802186846144|  -0.7131009734685743| -0.3578390827175586|-0.32375645282159704|60.431638367306256|\n",
       "| 64203420245|tent and awning s...|             c| 4.671557267104336|-0.09290122799666227| 8.113979471289896|   20.39581595752211|-0.34817947230482826|0.08408106618415512|0.024988337441216178|   6.572649287478543|    21.0824459452502|  -0.7131009734685743| -0.3578390827175586| -0.3500269865737511| 59.08346958920907|\n",
       "| 24852446429|florists supplies...|             c| 3.755936445557399|-0.09290122799666227| 6.380606271410584|  19.697284196950786|-0.34998329998286115|0.08413991002003487|0.024964503888413626|   6.571638453541412|  20.903504675034103|   0.5448776576748561|  0.6485445991974287|-0.35051490635144267|57.818097278944045|\n",
       "| 19492220327|jewelry, watch, c...|             b| 6.537270531487849|   34.94604166596016| 6.349940351979575|-0.17503403277924393|   2.437543621393389| -0.890276165158527| 0.18487175415833693|-0.29716768062367666|-0.06644820474142699|   0.7354066887331253|  1.9482237468696166|   5.613747150689724|  57.3241194279689|\n",
       "| 89726005175|tent and awning s...|             a| 8.871958648487603|-0.09290122799666227| 7.003508190209767|    14.7473973751407| -0.3461367978789136|0.08481774219458743|0.024877053368727368|   6.567721472035032|  18.042626562188925|  -0.7131009734685743| -0.3578390827175586| -0.3326150620691396| 53.50031389949449|\n",
       "| 45629217853|gift, card, novel...|             a| 7.559755378120666|-0.09290122799666227| 5.064382835839501|  15.236796879406077| -0.3496482015604598|0.08465353955793727|  0.0249088646224881|   6.569174545819657|   18.52380400222124|  -0.8545684503305668| 0.18588424413865257|-0.34276826155406687| 51.60947414828446|\n",
       "| 43186523025|florists supplies...|             b| 6.591288142849559|-0.09290122799666227| 7.105981591176419|  13.699003093390516|-0.34502099142985376|0.08341159501540063|0.024749681729129714|   6.562161885380814|  16.942792413543643|  -0.4377959601484187| -0.5963646030099223|-0.32571346691043407| 49.21159215359019|\n",
       "| 46804135891|opticians, optica...|             c|2.3960656853292863|-0.09290122799666227| 4.167184556356759|   15.65573501883287|  -0.351288044904126| 0.0836584337192946| 0.02486909857825407|   6.567405586429679|  18.807491381832126|  -0.7131009734685743| -0.3578390827175586|-0.34517109108929206| 45.84210934090204|\n",
       "| 64403598239|music shops - mus...|             a|12.740300814794926|-0.09290122799666227| 9.604436140255041|   8.739512277847988| -0.3306438431581016|0.08650212065346811|0.026567798485433728|   6.469101986043735|   8.831515567284665|  -0.4377959601484187| -0.5963646030099223| -0.3174413578808495| 44.72278971317129|\n",
       "| 80324045558|gift, card, novel...|             c|1.0333055113825667|-0.09290122799666227|4.2663899996980605|  13.082480585913213|-0.34970880446663877|0.08308511068477445| 0.02470186506406026|   6.560013863264412|   16.20411412124914|  -0.7131009734685743| -0.3578390827175586| -0.3156136949755723| 39.42492727363121|\n",
       "| 68216911708|computers, comput...|             c|2.8355675110990317|-0.09290122799666227| 4.680713042631745|  12.126238452441408|-0.34819729668899857| 0.0819306689409345|0.024510312475946736|   6.551611306162014|  14.902425490957649|  -0.7131009734685743| -0.3578390827175586|-0.33403867685877364| 39.35691952697815|\n",
       "| 15043504837|jewelry, watch, c...|             b| 2.297237287034585|  20.278577198722417|  2.38211400204314|-0.22080216323162197|   4.425147829975574|-2.2729377637793062| 0.18487175415833693| -0.4438649557497432|-0.06644820474142699|   1.5923942796120494|  1.5297096915654986|   8.832528949787541|38.518527905397036|\n",
       "| 90918180829|jewelry, watch, c...|             c| 2.175069870081646|  27.408594648074097| 4.304737891832706| -0.1944922244896536|  2.5221345837887292| -1.228466901565698| 0.18487175415833693| -0.3575018312461545|-0.06644820474142699|  -0.8555124556978749|-0.48168218025115506|   4.791194030956693| 38.20249898090025|\n",
       "| 63290521567|artist supply and...|             a| 3.438566244275257|-0.09290122799666227| 2.423480313698747|  12.051292657663629| -0.3527104307609148| 0.0816938175680418| 0.02436634709189272|   6.545293594054949|   14.81513706646199|  -0.7131009734685743| -0.3578390827175586| -0.3419053482934897|  37.5213729775773|\n",
       "| 21439773999|cable, satellite,...|             a| 8.957329410730516|-0.09290122799666227| 6.961265465476716|    8.08032032326685|-0.33635121096942694|0.09191013150134378| 0.02534518778159342|   6.415780495860101|   7.521098094543605|  -0.7131009734685743| -0.3578390827175586| -0.3602935037925945|  36.1925631102159|\n",
       "| 60956456424|gift, card, novel...|             b| 8.428587121465474|-0.09290122799666227| 8.640338237384665|    6.92520430755601| -0.3269399361275163|0.08982708296070165|   0.025016285045167|   6.315392050478826|   5.240688004594552|   0.5448776576748561|  0.6485445991974287| -0.3099602047156889| 36.12867397751781|\n",
       "| 94493496784|gift, card, novel...|             a|  8.25596038692397|-0.09290122799666227| 6.951789352362499|   6.604538697182978|-0.33160992478013107|0.08211265114223024| 0.02406279028645255|   6.275021870114675|   4.649308928636472|  -0.7131009734685743| -0.3578390827175586| -0.3082732784282212| 31.03907018925813|\n",
       "| 79417999332|gift, card, novel...|             b|  7.19941670741289|-0.09290122799666227| 6.967187726316184|   6.627961663861087|-0.33164557354847163|0.07781962711879362| 0.02476037100145144|   6.304525585654672|   4.721321878845389|  -0.8545684503305668| 0.18588424413865257| -0.3132959658582777|30.516466586615145|\n",
       "| 32361057556|gift, card, novel...|             a| 10.39471702521295|-0.09290122799666227| 7.438875888708574|   5.719739499051472|-0.32557815317690647|0.07490810738753287|0.018524273345542134|   6.132557462100343|  3.1370369742492055|  -1.3159538101223844| -0.8065746012055017| -0.3411183845895267|30.034233052964638|\n",
       "+------------+--------------------+--------------+------------------+--------------------+------------------+--------------------+--------------------+-------------------+--------------------+--------------------+--------------------+---------------------+--------------------+--------------------+------------------+\n",
       "only showing top 20 rows"
      ]
     },
     "execution_count": 18,
     "metadata": {},
     "output_type": "execute_result"
    }
   ],
   "source": [
    "z_score"
   ]
  },
  {
   "cell_type": "markdown",
   "metadata": {},
   "source": [
    "### rank inside each column and add up the rank"
   ]
  },
  {
   "cell_type": "code",
   "execution_count": 19,
   "metadata": {},
   "outputs": [],
   "source": [
    "# Rank each feature individually and summarize their rank as final rank\n",
    "final_rank_coldf = final_1.drop(\"Take_rate\", \"Store_type\", \"Revenue_levels\")\n",
    "for col in final_rank_coldf.columns:\n",
    "    if col == \"merchant_abn\":\n",
    "        continue\n",
    "    else: # Columns that have number bigger = higher rank\n",
    "        final_rank_coldf = final_rank_coldf.withColumn(\"rank_\"+col, F.dense_rank().over(Window.orderBy(F.desc(col)))).drop(col)\n",
    "\n",
    "numeric_col = final_rank_coldf.columns\n",
    "numeric_col.remove(\"merchant_abn\")\n",
    "expression = '+'.join(numeric_col)\n",
    "\n",
    "final_rank_coldf = final_rank_coldf.withColumn(\"sum_of_ranks\", F.expr(expression))\\\n",
    "    .withColumn(\"rank\", F.dense_rank().over(Window.orderBy(\"sum_of_ranks\")))\n",
    "sum_rank = final_rank_coldf.orderBy(\"rank\")\n",
    "\n"
   ]
  },
  {
   "cell_type": "markdown",
   "metadata": {},
   "source": [
    "### Study-score Model"
   ]
  },
  {
   "cell_type": "code",
   "execution_count": 20,
   "metadata": {},
   "outputs": [],
   "source": [
    "\n",
    "def features_score(table_name, col_name):\n",
    "    # sort the columns to give the largest value rank 1\n",
    "    sorted_col = table_name[['merchant_abn', col_name]].sort_values(by=col_name, ascending=False)\n",
    "    # a rank list, from 1 to the length of the table\n",
    "    rank_list = [i for i in range(1, len(table_name)+1)]\n",
    "    # as the target column has been sorted, add the rank list directly will be in the right position\n",
    "    sorted_col['rank'] = rank_list\n",
    "    # get the percentage, which is above % of merchant. Add 1 to the denominator, to avoid the last one get 0, \n",
    "    # z score will become -inifity\n",
    "    sorted_col['percentage above the merchants'] = 1-sorted_col['rank']/(len(table_name)+1)\n",
    "    sorted_col['z score'] = st.norm.ppf(sorted_col['percentage above the merchants'])\n",
    "    mean = 30\n",
    "    # adjust the sd from 7 to 5.75, to let the rank 1 merchant get a 50 study score, if sd = 7, \n",
    "    # the first one will become 54\n",
    "    sd = 5.75\n",
    "    sorted_col[col_name+'_raw_score'] = sorted_col['z score']*sd+mean\n",
    "    return sorted_col[['merchant_abn', col_name+'_raw_score']]"
   ]
  },
  {
   "cell_type": "code",
   "execution_count": 21,
   "metadata": {},
   "outputs": [],
   "source": [
    "\n",
    "def final_study_score(table_name):\n",
    "    table_name = table_name.toPandas()\n",
    "    # take the features that are numeric\n",
    "    numeric_features_list = ['Take_rate', 'count_of_bigorder', 'Avg_amount_monthly', 'Avg_count_monthly', 'Order_avg_value', \n",
    "    'avg_prob_fraud_cus', 'prob_of_fraud', 'count_cus_per_mon', 'fix_cus_num', 'avg_income_percentage', 'avg_age_percentage', 'predict_dollar_value']\n",
    "    # for these two features, if the value is smaller, the merchant is better\n",
    "    table_name[['prob_of_fraud']] = -abs(table_name[['prob_of_fraud']])\n",
    "    table_name[['avg_prob_fraud_cus']] = -abs(table_name[['avg_prob_fraud_cus']])\n",
    "    raw_score_ori = table_name[['merchant_abn', 'Store_type']]\n",
    "    # change the level of revenue Level from character to score\n",
    "    reve = table_name[['merchant_abn', 'Revenue_levels']]\n",
    "    reve[['Revenue_levels_raw_score']] = reve[['Revenue_levels']].replace(to_replace = ['a', 'b', 'c', 'd', 'e'], value = [10, 20, 30, 40, 50])\n",
    "    reve = reve[['merchant_abn', 'Revenue_levels_raw_score']]\n",
    "     # take the identification features\n",
    "    raw_score_ori = pd.merge(raw_score_ori, reve, how='inner', on = 'merchant_abn')\n",
    "    # merge the tables, take each feature's score\n",
    "    for feature in numeric_features_list:\n",
    "        feature_raw_score = features_score(table_name, feature)\n",
    "        raw_score_ori = pd.merge(raw_score_ori, feature_raw_score, how='inner', on = 'merchant_abn')\n",
    "    # sum the scores from numeric features\n",
    "    raw_score_ori['raw_score_sum']= raw_score_ori.iloc[:, 2:].sum(axis=1)\n",
    "    # add the rank column\n",
    "    raw_score_ori['study_rank'] = raw_score_ori.raw_score_sum.rank(axis=0,method='min', ascending=False)\n",
    "    raw_score_ori['study_rank'] = raw_score_ori.study_rank.astype(int)\n",
    "    raw_score_spark = spark.createDataFrame(raw_score_ori)\n",
    "    raw_score_spark= raw_score_spark.sort(raw_score_spark.study_rank)\n",
    "    return raw_score_spark"
   ]
  },
  {
   "cell_type": "code",
   "execution_count": 22,
   "metadata": {},
   "outputs": [
    {
     "name": "stderr",
     "output_type": "stream",
     "text": [
      "/var/folders/yl/c_jps5290ts7ffrhpw6jn1q00000gn/T/ipykernel_14618/4003237133.py:12: SettingWithCopyWarning: \n",
      "A value is trying to be set on a copy of a slice from a DataFrame.\n",
      "Try using .loc[row_indexer,col_indexer] = value instead\n",
      "\n",
      "See the caveats in the documentation: https://pandas.pydata.org/pandas-docs/stable/user_guide/indexing.html#returning-a-view-versus-a-copy\n",
      "  reve[['Revenue_levels_raw_score']] = reve[['Revenue_levels']].replace(to_replace = ['a', 'b', 'c', 'd', 'e'], value = [10, 20, 30, 40, 50])\n"
     ]
    },
    {
     "data": {
      "text/html": [
       "<table border='1'>\n",
       "<tr><th>merchant_abn</th><th>Store_type</th><th>Revenue_levels_raw_score</th><th>Take_rate_raw_score</th><th>count_of_bigorder_raw_score</th><th>Avg_amount_monthly_raw_score</th><th>Avg_count_monthly_raw_score</th><th>Order_avg_value_raw_score</th><th>avg_prob_fraud_cus_raw_score</th><th>prob_of_fraud_raw_score</th><th>count_cus_per_mon_raw_score</th><th>fix_cus_num_raw_score</th><th>avg_income_percentage_raw_score</th><th>avg_age_percentage_raw_score</th><th>predict_dollar_value_raw_score</th><th>raw_score_sum</th><th>study_rank</th></tr>\n",
       "<tr><td>18158387243</td><td>health and beauty...</td><td>30</td><td>41.59722781762685</td><td>26.60802658376718</td><td>45.144468178065836</td><td>40.01841413012835</td><td>32.72381441501778</td><td>30.80253106630412</td><td>29.28772745116895</td><td>40.0021247880924</td><td>40.10109191503977</td><td>39.49059546309951</td><td>34.78041342829845</td><td>34.04050544733956</td><td>464.5969406839488</td><td>1</td></tr>\n",
       "<tr><td>15043504837</td><td>jewelry, watch, c...</td><td>20</td><td>41.213533213322805</td><td>48.26565278725761</td><td>41.14249035717753</td><td>28.261252466541116</td><td>43.03975201579331</td><td>18.022582737926914</td><td>38.09995995862406</td><td>28.279976054787063</td><td>35.72588437380353</td><td>38.138757983284215</td><td>37.10576569953146</td><td>45.81242252003619</td><td>463.1080301680858</td><td>2</td></tr>\n",
       "<tr><td>19492220327</td><td>jewelry, watch, c...</td><td>20</td><td>44.14315419304224</td><td>50.02470848195272</td><td>43.50121689964395</td><td>31.896777482328428</td><td>40.89558294826355</td><td>20.424527126835333</td><td>32.620146433604205</td><td>31.881667021267965</td><td>28.96544852391114</td><td>34.30599898221541</td><td>37.617390800613386</td><td>44.14315419304224</td><td>460.41977308672057</td><td>3</td></tr>\n",
       "<tr><td>60956456424</td><td>gift, card, novel...</td><td>20</td><td>45.51973178482304</td><td>29.327384354107043</td><td>48.26565278725761</td><td>45.51973178482304</td><td>25.703470273655327</td><td>30.048318676388533</td><td>27.93611374281935</td><td>45.51973178482304</td><td>45.51973178482304</td><td>33.55087697287473</td><td>35.31723414537313</td><td>26.26980804803454</td><td>458.4977861398024</td><td>4</td></tr>\n",
       "<tr><td>66228393506</td><td>jewelry, watch, c...</td><td>30</td><td>34.24465540625352</td><td>46.15290073650031</td><td>38.45286475486511</td><td>26.573892017062168</td><td>41.59722781762685</td><td>20.263267794824866</td><td>35.01708955125724</td><td>26.556779424285313</td><td>34.79560014419063</td><td>38.463424087015085</td><td>40.18591243826032</td><td>45.51973178482304</td><td>457.8233459569645</td><td>5</td></tr>\n",
       "<tr><td>45433476494</td><td>computers, comput...</td><td>10</td><td>46.15290073650031</td><td>39.032435756017335</td><td>45.661008008813404</td><td>40.38073746760952</td><td>32.477991040291805</td><td>31.430151255068573</td><td>28.91448193118925</td><td>40.36252885028756</td><td>40.66727010697956</td><td>31.367478590591357</td><td>37.25405138871313</td><td>33.56821710826639</td><td>457.2692522403282</td><td>6</td></tr>\n",
       "<tr><td>82368304209</td><td>telecom</td><td>10</td><td>45.144468178065836</td><td>35.874710348213746</td><td>44.00018293770227</td><td>36.44653239269652</td><td>36.22326744256006</td><td>33.778917134848626</td><td>28.373325330275225</td><td>36.48695120315462</td><td>34.46881099744819</td><td>41.79552347645989</td><td>36.052436255386795</td><td>38.22743539256274</td><td>456.87256108937447</td><td>7</td></tr>\n",
       "<tr><td>24852446429</td><td>florists supplies...</td><td>30</td><td>42.38193686783794</td><td>29.056261207074513</td><td>43.55823638513472</td><td>48.93140892503064</td><td>19.082789387265386</td><td>29.744008445267443</td><td>27.920837378755497</td><td>47.7803208709254</td><td>48.93140892503064</td><td>33.60299519446245</td><td>35.26803072974836</td><td>19.796854802078755</td><td>456.0550891186117</td><td>8</td></tr>\n",
       "<tr><td>90543168331</td><td>furniture, home f...</td><td>30</td><td>42.455680247608214</td><td>24.493258950923277</td><td>44.92601602282011</td><td>42.69012159086522</td><td>29.32378053121853</td><td>30.998196699995525</td><td>28.859779952842576</td><td>42.77318227880038</td><td>42.815732880709604</td><td>32.11741809764459</td><td>31.23894777698769</td><td>31.34171976797985</td><td>454.03383479839556</td><td>9</td></tr>\n",
       "<tr><td>99291944648</td><td>books, periodical...</td><td>20</td><td>42.77318227880038</td><td>29.93378483337151</td><td>43.18430153295259</td><td>39.76688910928258</td><td>32.13658093438183</td><td>28.588299191386078</td><td>28.794000627627142</td><td>39.76688910928258</td><td>40.60782911023898</td><td>40.47337944084353</td><td>33.61607096505719</td><td>33.4047598099523</td><td>453.0459669431767</td><td>10</td></tr>\n",
       "<tr><td>50315283629</td><td>lawn and garden s...</td><td>30</td><td>41.386297823233676</td><td>26.95961757141246</td><td>45.9756661473744</td><td>42.24028183700362</td><td>30.35276439838577</td><td>28.958172649880012</td><td>28.42169649604201</td><td>42.24028183700362</td><td>42.20600233899415</td><td>33.391973416232815</td><td>31.79127251384012</td><td>28.92905234421992</td><td>452.85307937362256</td><td>11</td></tr>\n",
       "<tr><td>38700038932</td><td>tent and awning s...</td><td>10</td><td>47.395914742863795</td><td>32.6439931099728</td><td>46.3469541128586</td><td>37.42376767137258</td><td>35.557913532185125</td><td>29.15407587800422</td><td>25.254893275182283</td><td>37.43201178292286</td><td>32.40748268412843</td><td>46.56162840378316</td><td>35.48978021778668</td><td>37.15207961237677</td><td>452.82049502343733</td><td>12</td></tr>\n",
       "<tr><td>46887242827</td><td>equipment, tool, ...</td><td>30</td><td>32.780002381837676</td><td>34.640242385638544</td><td>33.80560910160383</td><td>30.705059737656047</td><td>35.02232878374058</td><td>35.66160259588902</td><td>39.93775721255277</td><td>30.690637431399285</td><td>33.4775376788285</td><td>38.94738724924405</td><td>39.04474803253016</td><td>36.80091871585653</td><td>451.513831306777</td><td>13</td></tr>\n",
       "<tr><td>57223200264</td><td>art dealers and g...</td><td>50</td><td>30.6546004653252</td><td>33.02804105933133</td><td>40.0021247880924</td><td>30.7700163775165</td><td>37.94833746148449</td><td>35.97820170402947</td><td>34.32972339630153</td><td>30.75557336607406</td><td>32.58446057799084</td><td>26.72657258708235</td><td>27.114934810750015</td><td>41.18966209763083</td><td>451.082248691609</td><td>14</td></tr>\n",
       "<tr><td>64203420245</td><td>tent and awning s...</td><td>30</td><td>42.99334815524945</td><td>27.114934810750015</td><td>47.07638029706966</td><td>50.02470848195272</td><td>20.673212685035853</td><td>29.73325998820788</td><td>27.9322960215154</td><td>50.02470848195272</td><td>50.02470848195272</td><td>26.136274647494158</td><td>29.370610036762834</td><td>19.865244204127453</td><td>450.96968629207083</td><td>15</td></tr>\n",
       "<tr><td>79827781481</td><td>furniture, home f...</td><td>10</td><td>48.26565278725761</td><td>40.01841413012835</td><td>45.51973178482304</td><td>36.261982156103386</td><td>36.624055465234576</td><td>32.48977845578222</td><td>26.000624102703252</td><td>36.22326744256006</td><td>38.01398715964812</td><td>25.27498841380112</td><td>36.99195232560286</td><td>38.89965393205256</td><td>450.5840881556972</td><td>16</td></tr>\n",
       "<tr><td>28057731482</td><td>music shops - mus...</td><td>30</td><td>41.5699982787024</td><td>26.51386370401486</td><td>50.02470848195272</td><td>39.60423448329359</td><td>34.104899308059714</td><td>28.279976054787063</td><td>25.839493512422642</td><td>39.6187058603061</td><td>38.99574525600044</td><td>29.776248600609776</td><td>29.812062791127975</td><td>35.377905635916555</td><td>449.51784196719376</td><td>17</td></tr>\n",
       "<tr><td>93606772530</td><td>stationery, offic...</td><td>40</td><td>32.91758530596435</td><td>34.202468439899334</td><td>37.94833746148449</td><td>34.517380808925296</td><td>31.961144750589483</td><td>33.31560312085902</td><td>30.55742490561991</td><td>34.517380808925296</td><td>34.17446908982172</td><td>35.35025384509184</td><td>35.80278872424362</td><td>33.57689935020548</td><td>448.8417366116298</td><td>18</td></tr>\n",
       "<tr><td>31385641294</td><td>motor vehicle sup...</td><td>20</td><td>43.39100776419617</td><td>34.60562948611075</td><td>42.99334815524945</td><td>35.52374992922335</td><td>36.596334200385584</td><td>30.356350328306995</td><td>26.189934269066775</td><td>35.52943030636763</td><td>33.33675791499345</td><td>30.571810573065004</td><td>40.98303734582977</td><td>38.725901018809004</td><td>448.8032912916039</td><td>19</td></tr>\n",
       "<tr><td>77338620996</td><td>computers, comput...</td><td>20</td><td>41.946262155046</td><td>35.42240910898581</td><td>42.24028183700362</td><td>39.032435756017335</td><td>32.14041634419358</td><td>30.28107274439414</td><td>28.133430456346673</td><td>39.04474803253016</td><td>38.71459764385335</td><td>36.102491625449446</td><td>32.39576669075066</td><td>32.95428238948635</td><td>448.4081947840572</td><td>20</td></tr>\n",
       "</table>\n",
       "only showing top 20 rows\n"
      ],
      "text/plain": [
       "+------------+--------------------+------------------------+-------------------+---------------------------+----------------------------+---------------------------+-------------------------+----------------------------+-----------------------+---------------------------+---------------------+-------------------------------+----------------------------+------------------------------+------------------+----------+\n",
       "|merchant_abn|          Store_type|Revenue_levels_raw_score|Take_rate_raw_score|count_of_bigorder_raw_score|Avg_amount_monthly_raw_score|Avg_count_monthly_raw_score|Order_avg_value_raw_score|avg_prob_fraud_cus_raw_score|prob_of_fraud_raw_score|count_cus_per_mon_raw_score|fix_cus_num_raw_score|avg_income_percentage_raw_score|avg_age_percentage_raw_score|predict_dollar_value_raw_score|     raw_score_sum|study_rank|\n",
       "+------------+--------------------+------------------------+-------------------+---------------------------+----------------------------+---------------------------+-------------------------+----------------------------+-----------------------+---------------------------+---------------------+-------------------------------+----------------------------+------------------------------+------------------+----------+\n",
       "| 18158387243|health and beauty...|                      30|  41.59722781762685|          26.60802658376718|          45.144468178065836|          40.01841413012835|        32.72381441501778|           30.80253106630412|      29.28772745116895|           40.0021247880924|    40.10109191503977|              39.49059546309951|           34.78041342829845|             34.04050544733956| 464.5969406839488|         1|\n",
       "| 15043504837|jewelry, watch, c...|                      20| 41.213533213322805|          48.26565278725761|           41.14249035717753|         28.261252466541116|        43.03975201579331|          18.022582737926914|      38.09995995862406|         28.279976054787063|    35.72588437380353|             38.138757983284215|           37.10576569953146|             45.81242252003619| 463.1080301680858|         2|\n",
       "| 19492220327|jewelry, watch, c...|                      20|  44.14315419304224|          50.02470848195272|           43.50121689964395|         31.896777482328428|        40.89558294826355|          20.424527126835333|     32.620146433604205|         31.881667021267965|    28.96544852391114|              34.30599898221541|          37.617390800613386|             44.14315419304224|460.41977308672057|         3|\n",
       "| 60956456424|gift, card, novel...|                      20|  45.51973178482304|         29.327384354107043|           48.26565278725761|          45.51973178482304|       25.703470273655327|          30.048318676388533|      27.93611374281935|          45.51973178482304|    45.51973178482304|              33.55087697287473|           35.31723414537313|             26.26980804803454| 458.4977861398024|         4|\n",
       "| 66228393506|jewelry, watch, c...|                      30|  34.24465540625352|          46.15290073650031|           38.45286475486511|         26.573892017062168|        41.59722781762685|          20.263267794824866|      35.01708955125724|         26.556779424285313|    34.79560014419063|             38.463424087015085|           40.18591243826032|             45.51973178482304| 457.8233459569645|         5|\n",
       "| 45433476494|computers, comput...|                      10|  46.15290073650031|         39.032435756017335|          45.661008008813404|          40.38073746760952|       32.477991040291805|          31.430151255068573|      28.91448193118925|          40.36252885028756|    40.66727010697956|             31.367478590591357|           37.25405138871313|             33.56821710826639| 457.2692522403282|         6|\n",
       "| 82368304209|             telecom|                      10| 45.144468178065836|         35.874710348213746|           44.00018293770227|          36.44653239269652|        36.22326744256006|          33.778917134848626|     28.373325330275225|          36.48695120315462|    34.46881099744819|              41.79552347645989|          36.052436255386795|             38.22743539256274|456.87256108937447|         7|\n",
       "| 24852446429|florists supplies...|                      30|  42.38193686783794|         29.056261207074513|           43.55823638513472|          48.93140892503064|       19.082789387265386|          29.744008445267443|     27.920837378755497|           47.7803208709254|    48.93140892503064|              33.60299519446245|           35.26803072974836|            19.796854802078755| 456.0550891186117|         8|\n",
       "| 90543168331|furniture, home f...|                      30| 42.455680247608214|         24.493258950923277|           44.92601602282011|          42.69012159086522|        29.32378053121853|          30.998196699995525|     28.859779952842576|          42.77318227880038|   42.815732880709604|              32.11741809764459|           31.23894777698769|             31.34171976797985|454.03383479839556|         9|\n",
       "| 99291944648|books, periodical...|                      20|  42.77318227880038|          29.93378483337151|           43.18430153295259|          39.76688910928258|        32.13658093438183|          28.588299191386078|     28.794000627627142|          39.76688910928258|    40.60782911023898|              40.47337944084353|           33.61607096505719|              33.4047598099523| 453.0459669431767|        10|\n",
       "| 50315283629|lawn and garden s...|                      30| 41.386297823233676|          26.95961757141246|            45.9756661473744|          42.24028183700362|        30.35276439838577|          28.958172649880012|      28.42169649604201|          42.24028183700362|    42.20600233899415|             33.391973416232815|           31.79127251384012|             28.92905234421992|452.85307937362256|        11|\n",
       "| 38700038932|tent and awning s...|                      10| 47.395914742863795|           32.6439931099728|            46.3469541128586|          37.42376767137258|       35.557913532185125|           29.15407587800422|     25.254893275182283|          37.43201178292286|    32.40748268412843|              46.56162840378316|           35.48978021778668|             37.15207961237677|452.82049502343733|        12|\n",
       "| 46887242827|equipment, tool, ...|                      30| 32.780002381837676|         34.640242385638544|           33.80560910160383|         30.705059737656047|        35.02232878374058|           35.66160259588902|      39.93775721255277|         30.690637431399285|     33.4775376788285|              38.94738724924405|           39.04474803253016|             36.80091871585653|  451.513831306777|        13|\n",
       "| 57223200264|art dealers and g...|                      50|   30.6546004653252|          33.02804105933133|            40.0021247880924|           30.7700163775165|        37.94833746148449|           35.97820170402947|      34.32972339630153|          30.75557336607406|    32.58446057799084|              26.72657258708235|          27.114934810750015|             41.18966209763083|  451.082248691609|        14|\n",
       "| 64203420245|tent and awning s...|                      30|  42.99334815524945|         27.114934810750015|           47.07638029706966|          50.02470848195272|       20.673212685035853|           29.73325998820788|       27.9322960215154|          50.02470848195272|    50.02470848195272|             26.136274647494158|          29.370610036762834|            19.865244204127453|450.96968629207083|        15|\n",
       "| 79827781481|furniture, home f...|                      10|  48.26565278725761|          40.01841413012835|           45.51973178482304|         36.261982156103386|       36.624055465234576|           32.48977845578222|     26.000624102703252|          36.22326744256006|    38.01398715964812|              25.27498841380112|           36.99195232560286|             38.89965393205256| 450.5840881556972|        16|\n",
       "| 28057731482|music shops - mus...|                      30|   41.5699982787024|          26.51386370401486|           50.02470848195272|          39.60423448329359|       34.104899308059714|          28.279976054787063|     25.839493512422642|           39.6187058603061|    38.99574525600044|             29.776248600609776|          29.812062791127975|            35.377905635916555|449.51784196719376|        17|\n",
       "| 93606772530|stationery, offic...|                      40|  32.91758530596435|         34.202468439899334|           37.94833746148449|         34.517380808925296|       31.961144750589483|           33.31560312085902|      30.55742490561991|         34.517380808925296|    34.17446908982172|              35.35025384509184|           35.80278872424362|             33.57689935020548| 448.8417366116298|        18|\n",
       "| 31385641294|motor vehicle sup...|                      20|  43.39100776419617|          34.60562948611075|           42.99334815524945|          35.52374992922335|       36.596334200385584|          30.356350328306995|     26.189934269066775|          35.52943030636763|    33.33675791499345|             30.571810573065004|           40.98303734582977|            38.725901018809004| 448.8032912916039|        19|\n",
       "| 77338620996|computers, comput...|                      20|    41.946262155046|          35.42240910898581|           42.24028183700362|         39.032435756017335|        32.14041634419358|           30.28107274439414|     28.133430456346673|          39.04474803253016|    38.71459764385335|             36.102491625449446|           32.39576669075066|             32.95428238948635| 448.4081947840572|        20|\n",
       "+------------+--------------------+------------------------+-------------------+---------------------------+----------------------------+---------------------------+-------------------------+----------------------------+-----------------------+---------------------------+---------------------+-------------------------------+----------------------------+------------------------------+------------------+----------+\n",
       "only showing top 20 rows"
      ]
     },
     "execution_count": 22,
     "metadata": {},
     "output_type": "execute_result"
    }
   ],
   "source": [
    "\n",
    "study_score = final_study_score(final)\n",
    "study_score"
   ]
  },
  {
   "cell_type": "markdown",
   "metadata": {},
   "source": [
    "# Compare two models"
   ]
  },
  {
   "cell_type": "code",
   "execution_count": 23,
   "metadata": {},
   "outputs": [],
   "source": [
    "# The function for combining the rankings of the entropy model and study score model\n",
    "def combine_two_models(entropy_score, study_score):\n",
    "    study_score_rank = study_score.select(study_score.merchant_abn, study_score.study_rank)\n",
    "    compare_rank = entropy_score.join(study_score_rank, entropy_score.merchant_abn == study_score_rank.merchant_abn).drop(study_score_rank.merchant_abn)\n",
    "    compare_rank_final = compare_rank.withColumn('final_rank_score', (compare_rank.entropy_rank+compare_rank.study_rank)/2)\n",
    "    compare_rank_final = compare_rank_final.sort(compare_rank_final.final_rank_score)\n",
    "\n",
    "    compare_rank_final_pd = compare_rank_final.toPandas()\n",
    "    compare_rank_final_pd['final_rank'] = compare_rank_final_pd.final_rank_score.rank(axis=0,method='min')\n",
    "    compare_rank_final_pd['final_rank'] = compare_rank_final_pd.final_rank.astype(int)\n",
    "    unsorted_compare_rank_final = spark.createDataFrame(compare_rank_final_pd)\n",
    "    sorted_compare_rank_final= unsorted_compare_rank_final.sort(unsorted_compare_rank_final.final_rank)\n",
    "    return sorted_compare_rank_final\n"
   ]
  },
  {
   "cell_type": "code",
   "execution_count": 24,
   "metadata": {},
   "outputs": [
    {
     "data": {
      "text/html": [
       "<table border='1'>\n",
       "<tr><th>merchant_abn</th><th>entropy_rank</th><th>study_rank</th><th>final_rank</th></tr>\n",
       "<tr><td>24852446429</td><td>4</td><td>8</td><td>1</td></tr>\n",
       "<tr><td>64203420245</td><td>1</td><td>15</td><td>2</td></tr>\n",
       "<tr><td>19492220327</td><td>13</td><td>3</td><td>2</td></tr>\n",
       "<tr><td>60956456424</td><td>15</td><td>4</td><td>4</td></tr>\n",
       "<tr><td>15043504837</td><td>22</td><td>2</td><td>5</td></tr>\n",
       "<tr><td>45433476494</td><td>35</td><td>6</td><td>6</td></tr>\n",
       "<tr><td>90543168331</td><td>33</td><td>9</td><td>7</td></tr>\n",
       "<tr><td>31334588839</td><td>23</td><td>21</td><td>8</td></tr>\n",
       "<tr><td>90918180829</td><td>16</td><td>28</td><td>8</td></tr>\n",
       "<tr><td>50315283629</td><td>37</td><td>11</td><td>10</td></tr>\n",
       "<tr><td>96680767841</td><td>30</td><td>27</td><td>11</td></tr>\n",
       "<tr><td>38700038932</td><td>46</td><td>12</td><td>12</td></tr>\n",
       "<tr><td>28057731482</td><td>42</td><td>17</td><td>13</td></tr>\n",
       "<tr><td>18158387243</td><td>60</td><td>1</td><td>14</td></tr>\n",
       "<tr><td>35909341340</td><td>28</td><td>37</td><td>15</td></tr>\n",
       "<tr><td>41944909975</td><td>41</td><td>24</td><td>15</td></tr>\n",
       "<tr><td>27093785141</td><td>44</td><td>22</td><td>17</td></tr>\n",
       "<tr><td>79827781481</td><td>51</td><td>16</td><td>18</td></tr>\n",
       "<tr><td>79417999332</td><td>17</td><td>55</td><td>19</td></tr>\n",
       "<tr><td>68216911708</td><td>10</td><td>64</td><td>20</td></tr>\n",
       "</table>\n",
       "only showing top 20 rows\n"
      ],
      "text/plain": [
       "+------------+------------+----------+----------+\n",
       "|merchant_abn|entropy_rank|study_rank|final_rank|\n",
       "+------------+------------+----------+----------+\n",
       "| 24852446429|           4|         8|         1|\n",
       "| 64203420245|           1|        15|         2|\n",
       "| 19492220327|          13|         3|         2|\n",
       "| 60956456424|          15|         4|         4|\n",
       "| 15043504837|          22|         2|         5|\n",
       "| 45433476494|          35|         6|         6|\n",
       "| 90543168331|          33|         9|         7|\n",
       "| 31334588839|          23|        21|         8|\n",
       "| 90918180829|          16|        28|         8|\n",
       "| 50315283629|          37|        11|        10|\n",
       "| 96680767841|          30|        27|        11|\n",
       "| 38700038932|          46|        12|        12|\n",
       "| 28057731482|          42|        17|        13|\n",
       "| 18158387243|          60|         1|        14|\n",
       "| 35909341340|          28|        37|        15|\n",
       "| 41944909975|          41|        24|        15|\n",
       "| 27093785141|          44|        22|        17|\n",
       "| 79827781481|          51|        16|        18|\n",
       "| 79417999332|          17|        55|        19|\n",
       "| 68216911708|          10|        64|        20|\n",
       "+------------+------------+----------+----------+\n",
       "only showing top 20 rows"
      ]
     },
     "execution_count": 24,
     "metadata": {},
     "output_type": "execute_result"
    }
   ],
   "source": [
    "# Combine the rankings of the entropy model and study score model and select the merchants with high rankings for both as the final top100\n",
    "compare_rank_final = combine_two_models(entropy_score, study_score)\n",
    "top_100 = compare_rank_final.limit(100)\n",
    "top_100.select(top_100.merchant_abn, top_100.entropy_rank, top_100.study_rank, top_100.final_rank)"
   ]
  },
  {
   "cell_type": "markdown",
   "metadata": {},
   "source": [
    "# Five Segments"
   ]
  },
  {
   "cell_type": "code",
   "execution_count": 25,
   "metadata": {},
   "outputs": [
    {
     "data": {
      "text/plain": [
       "[['opticians, optical goods, and eyeglasses'],\n",
       " ['watch, clock, and jewelry repair shops'],\n",
       " ['computer programming , data processing, and integrated systems design services'],\n",
       " ['digital goods: books, movies, music'],\n",
       " ['books, periodicals, and newspapers'],\n",
       " ['florists supplies, nursery stock, and flowers'],\n",
       " ['art dealers and galleries'],\n",
       " ['antique shops - sales, repairs, and restoration services'],\n",
       " ['gift, card, novelty, and souvenir shops'],\n",
       " ['equipment, tool, furniture, and appliance rent al and leasing'],\n",
       " ['cable, satellite, and other pay television and radio services'],\n",
       " ['tent and awning shops'],\n",
       " ['artist supply and craft shops'],\n",
       " ['stationery, office supplies and printing and writing paper'],\n",
       " ['furniture, home furnishings and equipment shops, and manufacturers, except appliances'],\n",
       " ['telecom'],\n",
       " ['jewelry, watch, clock, and silverware shops'],\n",
       " ['shoe shops'],\n",
       " ['hobby, toy and game shops'],\n",
       " ['computers, computer peripheral equipment, and software'],\n",
       " ['music shops - musical instruments, pianos, and sheet music'],\n",
       " ['health and beauty spas'],\n",
       " ['lawn and garden supply outlets, including nurseries'],\n",
       " ['motor vehicle supplies and new parts'],\n",
       " ['bicycle shops - sales and service']]"
      ]
     },
     "execution_count": 25,
     "metadata": {},
     "output_type": "execute_result"
    }
   ],
   "source": [
    "# Check all the store types\n",
    "final.select('Store_type').distinct().toPandas().values.tolist()"
   ]
  },
  {
   "cell_type": "markdown",
   "metadata": {},
   "source": [
    "### Manually divide store types into 5 categories"
   ]
  },
  {
   "cell_type": "code",
   "execution_count": 26,
   "metadata": {},
   "outputs": [],
   "source": [
    "art = final.filter((final.Store_type == 'antique shops - sales, repairs, and restoration services') \n",
    "                    | (final.Store_type == 'art dealers and galleries')\n",
    "                    | (final.Store_type == 'watch, clock, and jewelry repair shops')\n",
    "                    | (final.Store_type == 'artist supply and craft shops')\n",
    "                    | (final.Store_type == 'jewelry, watch, clock, and silverware shops')\n",
    "                    | (final.Store_type == 'music shops - musical instruments, pianos, and sheet music'))\n"
   ]
  },
  {
   "cell_type": "code",
   "execution_count": 27,
   "metadata": {},
   "outputs": [],
   "source": [
    "sports = final.filter((final.Store_type == 'bicycle shops - sales and service') \n",
    "                    | (final.Store_type == 'motor vehicle supplies and new parts')\n",
    "                    | (final.Store_type == 'tent and awning shops'))"
   ]
  },
  {
   "cell_type": "code",
   "execution_count": 28,
   "metadata": {},
   "outputs": [],
   "source": [
    "\n",
    "technology = final.filter((final.Store_type == 'cable, satellite, and other pay television and radio services') \n",
    "                    | (final.Store_type == 'computer programming , data processing, and integrated systems design services')\n",
    "                    | (final.Store_type == 'computers, computer peripheral equipment, and software')\n",
    "                    | (final.Store_type == 'digital goods: books, movies, music')\n",
    "                    | (final.Store_type == 'equipment, tool, furniture, and appliance rent al and leasing')\n",
    "                    | (final.Store_type == 'telecom'))"
   ]
  },
  {
   "cell_type": "code",
   "execution_count": 29,
   "metadata": {},
   "outputs": [],
   "source": [
    "\n",
    "home = final.filter((final.Store_type == 'books, periodicals, and newspapers') \n",
    "                    | (final.Store_type == 'florists supplies, nursery stock, and flowers')\n",
    "                    | (final.Store_type == 'furniture, home furnishings and equipment shops, and manufacturers, except appliances')\n",
    "                    | (final.Store_type == 'gift, card, novelty, and souvenir shops')\n",
    "                    | (final.Store_type == 'hobby, toy and game shops')\n",
    "                    | (final.Store_type == 'lawn and garden supply outlets, including nurseries')\n",
    "                    | (final.Store_type == 'shoe shops')\n",
    "                    | (final.Store_type == 'stationery, office supplies and printing and writing paper'))"
   ]
  },
  {
   "cell_type": "code",
   "execution_count": 30,
   "metadata": {},
   "outputs": [],
   "source": [
    "health = final.filter((final.Store_type == 'health and beauty spas') \n",
    "                    | (final.Store_type == 'opticians, optical goods, and eyeglasses'))"
   ]
  },
  {
   "cell_type": "markdown",
   "metadata": {},
   "source": [
    "### Find top10 merchants in each segment\n"
   ]
  },
  {
   "cell_type": "code",
   "execution_count": 31,
   "metadata": {},
   "outputs": [
    {
     "name": "stderr",
     "output_type": "stream",
     "text": [
      "/var/folders/yl/c_jps5290ts7ffrhpw6jn1q00000gn/T/ipykernel_14618/4003237133.py:12: SettingWithCopyWarning: \n",
      "A value is trying to be set on a copy of a slice from a DataFrame.\n",
      "Try using .loc[row_indexer,col_indexer] = value instead\n",
      "\n",
      "See the caveats in the documentation: https://pandas.pydata.org/pandas-docs/stable/user_guide/indexing.html#returning-a-view-versus-a-copy\n",
      "  reve[['Revenue_levels_raw_score']] = reve[['Revenue_levels']].replace(to_replace = ['a', 'b', 'c', 'd', 'e'], value = [10, 20, 30, 40, 50])\n"
     ]
    },
    {
     "data": {
      "text/html": [
       "<table border='1'>\n",
       "<tr><th>merchant_abn</th><th>entropy_rank</th><th>study_rank</th><th>final_rank</th></tr>\n",
       "<tr><td>19492220327</td><td>4</td><td>3</td><td>1</td></tr>\n",
       "<tr><td>15043504837</td><td>10</td><td>1</td><td>2</td></tr>\n",
       "<tr><td>90918180829</td><td>6</td><td>6</td><td>3</td></tr>\n",
       "<tr><td>28057731482</td><td>11</td><td>5</td><td>4</td></tr>\n",
       "<tr><td>31334588839</td><td>7</td><td>9</td><td>4</td></tr>\n",
       "<tr><td>39649557865</td><td>15</td><td>12</td><td>6</td></tr>\n",
       "<tr><td>49322182190</td><td>5</td><td>24</td><td>7</td></tr>\n",
       "<tr><td>67978471888</td><td>8</td><td>23</td><td>8</td></tr>\n",
       "<tr><td>66228393506</td><td>32</td><td>2</td><td>9</td></tr>\n",
       "<tr><td>86578477987</td><td>1</td><td>38</td><td>10</td></tr>\n",
       "</table>\n"
      ],
      "text/plain": [
       "+------------+------------+----------+----------+\n",
       "|merchant_abn|entropy_rank|study_rank|final_rank|\n",
       "+------------+------------+----------+----------+\n",
       "| 19492220327|           4|         3|         1|\n",
       "| 15043504837|          10|         1|         2|\n",
       "| 90918180829|           6|         6|         3|\n",
       "| 28057731482|          11|         5|         4|\n",
       "| 31334588839|           7|         9|         4|\n",
       "| 39649557865|          15|        12|         6|\n",
       "| 49322182190|           5|        24|         7|\n",
       "| 67978471888|           8|        23|         8|\n",
       "| 66228393506|          32|         2|         9|\n",
       "| 86578477987|           1|        38|        10|\n",
       "+------------+------------+----------+----------+"
      ]
     },
     "execution_count": 31,
     "metadata": {},
     "output_type": "execute_result"
    }
   ],
   "source": [
    "from pyspark.sql.functions import col\n",
    "art_entropy_df = get_rank_df(art,col_list_1,col_list_2)\n",
    "art_study_df =  final_study_score(art)\n",
    "art_combine = combine_two_models(art_entropy_df, art_study_df)\n",
    "art_combine.select(art_combine.merchant_abn, art_combine.entropy_rank, art_combine.study_rank, art_combine.final_rank).limit(10)"
   ]
  },
  {
   "cell_type": "code",
   "execution_count": 32,
   "metadata": {},
   "outputs": [
    {
     "name": "stderr",
     "output_type": "stream",
     "text": [
      "/var/folders/yl/c_jps5290ts7ffrhpw6jn1q00000gn/T/ipykernel_14618/4003237133.py:12: SettingWithCopyWarning: \n",
      "A value is trying to be set on a copy of a slice from a DataFrame.\n",
      "Try using .loc[row_indexer,col_indexer] = value instead\n",
      "\n",
      "See the caveats in the documentation: https://pandas.pydata.org/pandas-docs/stable/user_guide/indexing.html#returning-a-view-versus-a-copy\n",
      "  reve[['Revenue_levels_raw_score']] = reve[['Revenue_levels']].replace(to_replace = ['a', 'b', 'c', 'd', 'e'], value = [10, 20, 30, 40, 50])\n"
     ]
    },
    {
     "data": {
      "text/html": [
       "<table border='1'>\n",
       "<tr><th>merchant_abn</th><th>entropy_rank</th><th>study_rank</th><th>final_rank</th></tr>\n",
       "<tr><td>64203420245</td><td>1</td><td>4</td><td>1</td></tr>\n",
       "<tr><td>49891706470</td><td>2</td><td>6</td><td>2</td></tr>\n",
       "<tr><td>38700038932</td><td>6</td><td>2</td><td>2</td></tr>\n",
       "<tr><td>96680767841</td><td>4</td><td>9</td><td>4</td></tr>\n",
       "<tr><td>31385641294</td><td>21</td><td>1</td><td>5</td></tr>\n",
       "<tr><td>22033359776</td><td>7</td><td>16</td><td>6</td></tr>\n",
       "<tr><td>90568944804</td><td>11</td><td>18</td><td>7</td></tr>\n",
       "<tr><td>89726005175</td><td>3</td><td>31</td><td>8</td></tr>\n",
       "<tr><td>75454398468</td><td>18</td><td>19</td><td>9</td></tr>\n",
       "<tr><td>85529538986</td><td>29</td><td>11</td><td>10</td></tr>\n",
       "</table>\n"
      ],
      "text/plain": [
       "+------------+------------+----------+----------+\n",
       "|merchant_abn|entropy_rank|study_rank|final_rank|\n",
       "+------------+------------+----------+----------+\n",
       "| 64203420245|           1|         4|         1|\n",
       "| 49891706470|           2|         6|         2|\n",
       "| 38700038932|           6|         2|         2|\n",
       "| 96680767841|           4|         9|         4|\n",
       "| 31385641294|          21|         1|         5|\n",
       "| 22033359776|           7|        16|         6|\n",
       "| 90568944804|          11|        18|         7|\n",
       "| 89726005175|           3|        31|         8|\n",
       "| 75454398468|          18|        19|         9|\n",
       "| 85529538986|          29|        11|        10|\n",
       "+------------+------------+----------+----------+"
      ]
     },
     "execution_count": 32,
     "metadata": {},
     "output_type": "execute_result"
    }
   ],
   "source": [
    "sports_entropy_df = get_rank_df(sports,col_list_1,col_list_2)\n",
    "sports_study_df =  final_study_score(sports)\n",
    "sports_combine = combine_two_models(sports_entropy_df, sports_study_df)\n",
    "sports_combine.select(sports_combine.merchant_abn, sports_combine.entropy_rank, sports_combine.study_rank, sports_combine.final_rank).limit(10)"
   ]
  },
  {
   "cell_type": "code",
   "execution_count": 33,
   "metadata": {},
   "outputs": [
    {
     "name": "stderr",
     "output_type": "stream",
     "text": [
      "/var/folders/yl/c_jps5290ts7ffrhpw6jn1q00000gn/T/ipykernel_14618/4003237133.py:12: SettingWithCopyWarning: \n",
      "A value is trying to be set on a copy of a slice from a DataFrame.\n",
      "Try using .loc[row_indexer,col_indexer] = value instead\n",
      "\n",
      "See the caveats in the documentation: https://pandas.pydata.org/pandas-docs/stable/user_guide/indexing.html#returning-a-view-versus-a-copy\n",
      "  reve[['Revenue_levels_raw_score']] = reve[['Revenue_levels']].replace(to_replace = ['a', 'b', 'c', 'd', 'e'], value = [10, 20, 30, 40, 50])\n"
     ]
    },
    {
     "data": {
      "text/html": [
       "<table border='1'>\n",
       "<tr><th>merchant_abn</th><th>entropy_rank</th><th>study_rank</th><th>final_rank</th></tr>\n",
       "<tr><td>45433476494</td><td>6</td><td>1</td><td>1</td></tr>\n",
       "<tr><td>68216911708</td><td>1</td><td>8</td><td>2</td></tr>\n",
       "<tr><td>35909341340</td><td>5</td><td>7</td><td>3</td></tr>\n",
       "<tr><td>77590625261</td><td>9</td><td>4</td><td>4</td></tr>\n",
       "<tr><td>82368304209</td><td>13</td><td>2</td><td>5</td></tr>\n",
       "<tr><td>80518954462</td><td>7</td><td>13</td><td>6</td></tr>\n",
       "<tr><td>77338620996</td><td>19</td><td>6</td><td>7</td></tr>\n",
       "<tr><td>84703983173</td><td>12</td><td>14</td><td>8</td></tr>\n",
       "<tr><td>93260930990</td><td>16</td><td>11</td><td>9</td></tr>\n",
       "<tr><td>49505931725</td><td>4</td><td>29</td><td>10</td></tr>\n",
       "</table>\n"
      ],
      "text/plain": [
       "+------------+------------+----------+----------+\n",
       "|merchant_abn|entropy_rank|study_rank|final_rank|\n",
       "+------------+------------+----------+----------+\n",
       "| 45433476494|           6|         1|         1|\n",
       "| 68216911708|           1|         8|         2|\n",
       "| 35909341340|           5|         7|         3|\n",
       "| 77590625261|           9|         4|         4|\n",
       "| 82368304209|          13|         2|         5|\n",
       "| 80518954462|           7|        13|         6|\n",
       "| 77338620996|          19|         6|         7|\n",
       "| 84703983173|          12|        14|         8|\n",
       "| 93260930990|          16|        11|         9|\n",
       "| 49505931725|           4|        29|        10|\n",
       "+------------+------------+----------+----------+"
      ]
     },
     "execution_count": 33,
     "metadata": {},
     "output_type": "execute_result"
    }
   ],
   "source": [
    "technology_entropy_df = get_rank_df(technology,col_list_1,col_list_2)\n",
    "technology_study_df =  final_study_score(technology)\n",
    "technology_combine = combine_two_models(technology_entropy_df, technology_study_df)\n",
    "technology_combine.select(technology_combine.merchant_abn, technology_combine.entropy_rank, technology_combine.study_rank, technology_combine.final_rank).limit(10)"
   ]
  },
  {
   "cell_type": "code",
   "execution_count": 34,
   "metadata": {},
   "outputs": [
    {
     "name": "stderr",
     "output_type": "stream",
     "text": [
      "/var/folders/yl/c_jps5290ts7ffrhpw6jn1q00000gn/T/ipykernel_14618/4003237133.py:12: SettingWithCopyWarning: \n",
      "A value is trying to be set on a copy of a slice from a DataFrame.\n",
      "Try using .loc[row_indexer,col_indexer] = value instead\n",
      "\n",
      "See the caveats in the documentation: https://pandas.pydata.org/pandas-docs/stable/user_guide/indexing.html#returning-a-view-versus-a-copy\n",
      "  reve[['Revenue_levels_raw_score']] = reve[['Revenue_levels']].replace(to_replace = ['a', 'b', 'c', 'd', 'e'], value = [10, 20, 30, 40, 50])\n"
     ]
    },
    {
     "data": {
      "text/html": [
       "<table border='1'>\n",
       "<tr><th>merchant_abn</th><th>entropy_rank</th><th>study_rank</th><th>final_rank</th></tr>\n",
       "<tr><td>60956456424</td><td>5</td><td>4</td><td>1</td></tr>\n",
       "<tr><td>24852446429</td><td>1</td><td>8</td><td>1</td></tr>\n",
       "<tr><td>90543168331</td><td>13</td><td>5</td><td>3</td></tr>\n",
       "<tr><td>50315283629</td><td>14</td><td>6</td><td>4</td></tr>\n",
       "<tr><td>79827781481</td><td>23</td><td>1</td><td>5</td></tr>\n",
       "<tr><td>99291944648</td><td>25</td><td>3</td><td>6</td></tr>\n",
       "<tr><td>27093785141</td><td>18</td><td>11</td><td>7</td></tr>\n",
       "<tr><td>41944909975</td><td>16</td><td>16</td><td>8</td></tr>\n",
       "<tr><td>76767266140</td><td>9</td><td>26</td><td>9</td></tr>\n",
       "<tr><td>32709545238</td><td>21</td><td>20</td><td>10</td></tr>\n",
       "</table>\n"
      ],
      "text/plain": [
       "+------------+------------+----------+----------+\n",
       "|merchant_abn|entropy_rank|study_rank|final_rank|\n",
       "+------------+------------+----------+----------+\n",
       "| 60956456424|           5|         4|         1|\n",
       "| 24852446429|           1|         8|         1|\n",
       "| 90543168331|          13|         5|         3|\n",
       "| 50315283629|          14|         6|         4|\n",
       "| 79827781481|          23|         1|         5|\n",
       "| 99291944648|          25|         3|         6|\n",
       "| 27093785141|          18|        11|         7|\n",
       "| 41944909975|          16|        16|         8|\n",
       "| 76767266140|           9|        26|         9|\n",
       "| 32709545238|          21|        20|        10|\n",
       "+------------+------------+----------+----------+"
      ]
     },
     "execution_count": 34,
     "metadata": {},
     "output_type": "execute_result"
    }
   ],
   "source": [
    "home_entropy_df = get_rank_df(home,col_list_1,col_list_2)\n",
    "home_study_df =  final_study_score(home)\n",
    "home_combine = combine_two_models(home_entropy_df, home_study_df)\n",
    "home_combine.select(home_combine.merchant_abn, home_combine.entropy_rank, home_combine.study_rank, home_combine.final_rank).limit(10)"
   ]
  },
  {
   "cell_type": "code",
   "execution_count": 35,
   "metadata": {},
   "outputs": [
    {
     "name": "stderr",
     "output_type": "stream",
     "text": [
      "/var/folders/yl/c_jps5290ts7ffrhpw6jn1q00000gn/T/ipykernel_14618/4003237133.py:12: SettingWithCopyWarning: \n",
      "A value is trying to be set on a copy of a slice from a DataFrame.\n",
      "Try using .loc[row_indexer,col_indexer] = value instead\n",
      "\n",
      "See the caveats in the documentation: https://pandas.pydata.org/pandas-docs/stable/user_guide/indexing.html#returning-a-view-versus-a-copy\n",
      "  reve[['Revenue_levels_raw_score']] = reve[['Revenue_levels']].replace(to_replace = ['a', 'b', 'c', 'd', 'e'], value = [10, 20, 30, 40, 50])\n"
     ]
    },
    {
     "data": {
      "text/html": [
       "<table border='1'>\n",
       "<tr><th>merchant_abn</th><th>entropy_rank</th><th>study_rank</th><th>final_rank</th></tr>\n",
       "<tr><td>18158387243</td><td>3</td><td>1</td><td>1</td></tr>\n",
       "<tr><td>46804135891</td><td>1</td><td>7</td><td>2</td></tr>\n",
       "<tr><td>88699453206</td><td>7</td><td>2</td><td>3</td></tr>\n",
       "<tr><td>11237511112</td><td>6</td><td>4</td><td>4</td></tr>\n",
       "<tr><td>48534649627</td><td>2</td><td>9</td><td>5</td></tr>\n",
       "<tr><td>95574756848</td><td>8</td><td>8</td><td>6</td></tr>\n",
       "<tr><td>71674475255</td><td>9</td><td>16</td><td>7</td></tr>\n",
       "<tr><td>88358066529</td><td>17</td><td>12</td><td>8</td></tr>\n",
       "<tr><td>88547577701</td><td>13</td><td>19</td><td>9</td></tr>\n",
       "<tr><td>25674631453</td><td>12</td><td>21</td><td>10</td></tr>\n",
       "</table>\n"
      ],
      "text/plain": [
       "+------------+------------+----------+----------+\n",
       "|merchant_abn|entropy_rank|study_rank|final_rank|\n",
       "+------------+------------+----------+----------+\n",
       "| 18158387243|           3|         1|         1|\n",
       "| 46804135891|           1|         7|         2|\n",
       "| 88699453206|           7|         2|         3|\n",
       "| 11237511112|           6|         4|         4|\n",
       "| 48534649627|           2|         9|         5|\n",
       "| 95574756848|           8|         8|         6|\n",
       "| 71674475255|           9|        16|         7|\n",
       "| 88358066529|          17|        12|         8|\n",
       "| 88547577701|          13|        19|         9|\n",
       "| 25674631453|          12|        21|        10|\n",
       "+------------+------------+----------+----------+"
      ]
     },
     "execution_count": 35,
     "metadata": {},
     "output_type": "execute_result"
    }
   ],
   "source": [
    "health_entropy_df = get_rank_df(health,col_list_1,col_list_2)\n",
    "health_study_df =  final_study_score(health)\n",
    "health_combine = combine_two_models(health_entropy_df, health_study_df)\n",
    "health_combine.select(health_combine.merchant_abn, health_combine.entropy_rank, health_combine.study_rank, health_combine.final_rank).limit(10)"
   ]
  },
  {
   "cell_type": "code",
   "execution_count": 36,
   "metadata": {},
   "outputs": [
    {
     "name": "stdout",
     "output_type": "stream",
     "text": [
      "22/10/14 13:32:53 WARN WindowExec: No Partition Defined for Window operation! Moving all data to a single partition, this can cause serious performance degradation.\n",
      "22/10/14 13:32:53 WARN WindowExec: No Partition Defined for Window operation! Moving all data to a single partition, this can cause serious performance degradation.\n",
      "22/10/14 13:32:53 WARN WindowExec: No Partition Defined for Window operation! Moving all data to a single partition, this can cause serious performance degradation.\n",
      "22/10/14 13:32:53 WARN WindowExec: No Partition Defined for Window operation! Moving all data to a single partition, this can cause serious performance degradation.\n",
      "22/10/14 13:32:53 WARN WindowExec: No Partition Defined for Window operation! Moving all data to a single partition, this can cause serious performance degradation.\n",
      "22/10/14 13:32:53 WARN WindowExec: No Partition Defined for Window operation! Moving all data to a single partition, this can cause serious performance degradation.\n",
      "22/10/14 13:32:53 WARN WindowExec: No Partition Defined for Window operation! Moving all data to a single partition, this can cause serious performance degradation.\n",
      "22/10/14 13:32:53 WARN WindowExec: No Partition Defined for Window operation! Moving all data to a single partition, this can cause serious performance degradation.\n",
      "22/10/14 13:32:53 WARN WindowExec: No Partition Defined for Window operation! Moving all data to a single partition, this can cause serious performance degradation.\n",
      "22/10/14 13:32:53 WARN WindowExec: No Partition Defined for Window operation! Moving all data to a single partition, this can cause serious performance degradation.\n",
      "22/10/14 13:32:53 WARN WindowExec: No Partition Defined for Window operation! Moving all data to a single partition, this can cause serious performance degradation.\n",
      "22/10/14 13:32:53 WARN WindowExec: No Partition Defined for Window operation! Moving all data to a single partition, this can cause serious performance degradation.\n",
      "22/10/14 13:32:53 WARN WindowExec: No Partition Defined for Window operation! Moving all data to a single partition, this can cause serious performance degradation.\n",
      "22/10/14 13:32:53 WARN WindowExec: No Partition Defined for Window operation! Moving all data to a single partition, this can cause serious performance degradation.\n",
      "22/10/14 13:32:53 WARN WindowExec: No Partition Defined for Window operation! Moving all data to a single partition, this can cause serious performance degradation.\n",
      "22/10/14 13:32:53 WARN WindowExec: No Partition Defined for Window operation! Moving all data to a single partition, this can cause serious performance degradation.\n",
      "22/10/14 13:32:53 WARN WindowExec: No Partition Defined for Window operation! Moving all data to a single partition, this can cause serious performance degradation.\n",
      "22/10/14 13:32:53 WARN WindowExec: No Partition Defined for Window operation! Moving all data to a single partition, this can cause serious performance degradation.\n",
      "22/10/14 13:32:53 WARN WindowExec: No Partition Defined for Window operation! Moving all data to a single partition, this can cause serious performance degradation.\n",
      "22/10/14 13:32:53 WARN WindowExec: No Partition Defined for Window operation! Moving all data to a single partition, this can cause serious performance degradation.\n",
      "22/10/14 13:32:53 WARN WindowExec: No Partition Defined for Window operation! Moving all data to a single partition, this can cause serious performance degradation.\n",
      "22/10/14 13:32:53 WARN WindowExec: No Partition Defined for Window operation! Moving all data to a single partition, this can cause serious performance degradation.\n",
      "22/10/14 13:32:53 WARN WindowExec: No Partition Defined for Window operation! Moving all data to a single partition, this can cause serious performance degradation.\n",
      "22/10/14 13:32:53 WARN WindowExec: No Partition Defined for Window operation! Moving all data to a single partition, this can cause serious performance degradation.\n",
      "22/10/14 13:32:53 WARN WindowExec: No Partition Defined for Window operation! Moving all data to a single partition, this can cause serious performance degradation.\n",
      "22/10/14 13:32:53 WARN WindowExec: No Partition Defined for Window operation! Moving all data to a single partition, this can cause serious performance degradation.\n",
      "22/10/14 13:32:53 WARN WindowExec: No Partition Defined for Window operation! Moving all data to a single partition, this can cause serious performance degradation.\n",
      "22/10/14 13:32:53 WARN WindowExec: No Partition Defined for Window operation! Moving all data to a single partition, this can cause serious performance degradation.\n",
      "22/10/14 13:32:53 WARN WindowExec: No Partition Defined for Window operation! Moving all data to a single partition, this can cause serious performance degradation.\n",
      "22/10/14 13:32:53 WARN WindowExec: No Partition Defined for Window operation! Moving all data to a single partition, this can cause serious performance degradation.\n",
      "22/10/14 13:32:53 WARN WindowExec: No Partition Defined for Window operation! Moving all data to a single partition, this can cause serious performance degradation.\n",
      "22/10/14 13:32:53 WARN WindowExec: No Partition Defined for Window operation! Moving all data to a single partition, this can cause serious performance degradation.\n",
      "22/10/14 13:32:53 WARN WindowExec: No Partition Defined for Window operation! Moving all data to a single partition, this can cause serious performance degradation.\n",
      "22/10/14 13:32:53 WARN WindowExec: No Partition Defined for Window operation! Moving all data to a single partition, this can cause serious performance degradation.\n",
      "22/10/14 13:32:53 WARN WindowExec: No Partition Defined for Window operation! Moving all data to a single partition, this can cause serious performance degradation.\n",
      "22/10/14 13:32:53 WARN WindowExec: No Partition Defined for Window operation! Moving all data to a single partition, this can cause serious performance degradation.\n",
      "22/10/14 13:32:53 WARN WindowExec: No Partition Defined for Window operation! Moving all data to a single partition, this can cause serious performance degradation.\n",
      "22/10/14 13:32:53 WARN WindowExec: No Partition Defined for Window operation! Moving all data to a single partition, this can cause serious performance degradation.\n",
      "22/10/14 13:32:53 WARN WindowExec: No Partition Defined for Window operation! Moving all data to a single partition, this can cause serious performance degradation.\n",
      "22/10/14 13:32:53 WARN WindowExec: No Partition Defined for Window operation! Moving all data to a single partition, this can cause serious performance degradation.\n",
      "22/10/14 13:32:53 WARN WindowExec: No Partition Defined for Window operation! Moving all data to a single partition, this can cause serious performance degradation.\n",
      "22/10/14 13:32:53 WARN WindowExec: No Partition Defined for Window operation! Moving all data to a single partition, this can cause serious performance degradation.\n",
      "22/10/14 13:32:53 WARN WindowExec: No Partition Defined for Window operation! Moving all data to a single partition, this can cause serious performance degradation.\n",
      "22/10/14 13:32:53 WARN WindowExec: No Partition Defined for Window operation! Moving all data to a single partition, this can cause serious performance degradation.\n",
      "22/10/14 13:32:53 WARN WindowExec: No Partition Defined for Window operation! Moving all data to a single partition, this can cause serious performance degradation.\n",
      "22/10/14 13:32:53 WARN WindowExec: No Partition Defined for Window operation! Moving all data to a single partition, this can cause serious performance degradation.\n",
      "22/10/14 13:32:53 WARN WindowExec: No Partition Defined for Window operation! Moving all data to a single partition, this can cause serious performance degradation.\n",
      "22/10/14 13:32:53 WARN WindowExec: No Partition Defined for Window operation! Moving all data to a single partition, this can cause serious performance degradation.\n"
     ]
    }
   ],
   "source": [
    "pure_add_rank.write.parquet('../data/curated/baseline.parquet')\n",
    "sorted_self_weight_score.write.parquet('../data/curated/self_weight.parquet')\n",
    "entropy_score.write.parquet('../data/curated/entropy_weight.parquet')\n",
    "sum_rank.write.parquet('../data/curated/sum_rank.parquet')\n",
    "top_100.write.parquet('../data/curated/top_100.parquet')\n",
    "art_combine.write.parquet('../data/curated/art_combine.parquet')\n",
    "sports_combine.write.parquet('../data/curated/sports_combine.parquet')\n",
    "technology_combine.write.parquet('../data/curated/technology_combine.parquet')\n",
    "home_combine.write.parquet('../data/curated/home_combine.parquet')\n",
    "health_combine.write.parquet('../data/curated/health_combine.parquet')\n",
    "study_score.write.parquet('../data/curated/study_score_rank.parquet')"
   ]
  },
  {
   "cell_type": "markdown",
   "metadata": {},
   "source": [
    "#### Features rank compare to the final rank\n"
   ]
  },
  {
   "cell_type": "code",
   "execution_count": 37,
   "metadata": {},
   "outputs": [],
   "source": [
    "final_pd = final.toPandas()"
   ]
  },
  {
   "cell_type": "code",
   "execution_count": 38,
   "metadata": {},
   "outputs": [],
   "source": [
    "# Rank each feature \n",
    "def feature_rank(table_name, col_name):\n",
    "    table_name[col_name+'_rank'] = table_name[col_name].rank(axis=0,method='min', ascending=False)\n",
    "    table_name[col_name+'_rank'] = table_name[col_name+'_rank'].astype(int)\n",
    "    return table_name[['merchant_abn', col_name+'_rank']]"
   ]
  },
  {
   "cell_type": "code",
   "execution_count": 39,
   "metadata": {},
   "outputs": [
    {
     "data": {
      "text/html": [
       "<div>\n",
       "<style scoped>\n",
       "    .dataframe tbody tr th:only-of-type {\n",
       "        vertical-align: middle;\n",
       "    }\n",
       "\n",
       "    .dataframe tbody tr th {\n",
       "        vertical-align: top;\n",
       "    }\n",
       "\n",
       "    .dataframe thead th {\n",
       "        text-align: right;\n",
       "    }\n",
       "</style>\n",
       "<table border=\"1\" class=\"dataframe\">\n",
       "  <thead>\n",
       "    <tr style=\"text-align: right;\">\n",
       "      <th></th>\n",
       "      <th>merchant_abn</th>\n",
       "      <th>Take_rate_rank</th>\n",
       "      <th>count_of_bigorder_rank</th>\n",
       "      <th>Avg_amount_monthly_rank</th>\n",
       "      <th>Avg_count_monthly_rank</th>\n",
       "      <th>Order_avg_value_rank</th>\n",
       "      <th>avg_prob_fraud_cus_rank</th>\n",
       "      <th>prob_of_fraud_rank</th>\n",
       "      <th>count_cus_per_mon_rank</th>\n",
       "      <th>fix_cus_num_rank</th>\n",
       "      <th>avg_income_percentage_rank</th>\n",
       "      <th>avg_age_percentage_rank</th>\n",
       "      <th>predict_dollar_value_rank</th>\n",
       "    </tr>\n",
       "  </thead>\n",
       "  <tbody>\n",
       "    <tr>\n",
       "      <th>0</th>\n",
       "      <td>42330360779</td>\n",
       "      <td>2866</td>\n",
       "      <td>153</td>\n",
       "      <td>2885</td>\n",
       "      <td>3041</td>\n",
       "      <td>1588</td>\n",
       "      <td>3425</td>\n",
       "      <td>1</td>\n",
       "      <td>3040</td>\n",
       "      <td>280</td>\n",
       "      <td>515</td>\n",
       "      <td>3138</td>\n",
       "      <td>1188</td>\n",
       "    </tr>\n",
       "    <tr>\n",
       "      <th>1</th>\n",
       "      <td>73221370757</td>\n",
       "      <td>2442</td>\n",
       "      <td>153</td>\n",
       "      <td>2756</td>\n",
       "      <td>1714</td>\n",
       "      <td>3480</td>\n",
       "      <td>1740</td>\n",
       "      <td>1</td>\n",
       "      <td>1717</td>\n",
       "      <td>280</td>\n",
       "      <td>515</td>\n",
       "      <td>3138</td>\n",
       "      <td>3065</td>\n",
       "    </tr>\n",
       "    <tr>\n",
       "      <th>2</th>\n",
       "      <td>97598804219</td>\n",
       "      <td>2712</td>\n",
       "      <td>153</td>\n",
       "      <td>2178</td>\n",
       "      <td>3195</td>\n",
       "      <td>620</td>\n",
       "      <td>661</td>\n",
       "      <td>1</td>\n",
       "      <td>3194</td>\n",
       "      <td>280</td>\n",
       "      <td>3228</td>\n",
       "      <td>2047</td>\n",
       "      <td>530</td>\n",
       "    </tr>\n",
       "    <tr>\n",
       "      <th>3</th>\n",
       "      <td>66030670083</td>\n",
       "      <td>710</td>\n",
       "      <td>153</td>\n",
       "      <td>585</td>\n",
       "      <td>571</td>\n",
       "      <td>2410</td>\n",
       "      <td>2366</td>\n",
       "      <td>2504</td>\n",
       "      <td>571</td>\n",
       "      <td>280</td>\n",
       "      <td>3769</td>\n",
       "      <td>4008</td>\n",
       "      <td>2964</td>\n",
       "    </tr>\n",
       "    <tr>\n",
       "      <th>4</th>\n",
       "      <td>86028994742</td>\n",
       "      <td>3257</td>\n",
       "      <td>153</td>\n",
       "      <td>3761</td>\n",
       "      <td>2204</td>\n",
       "      <td>3655</td>\n",
       "      <td>2468</td>\n",
       "      <td>3078</td>\n",
       "      <td>2217</td>\n",
       "      <td>280</td>\n",
       "      <td>3347</td>\n",
       "      <td>441</td>\n",
       "      <td>3245</td>\n",
       "    </tr>\n",
       "    <tr>\n",
       "      <th>...</th>\n",
       "      <td>...</td>\n",
       "      <td>...</td>\n",
       "      <td>...</td>\n",
       "      <td>...</td>\n",
       "      <td>...</td>\n",
       "      <td>...</td>\n",
       "      <td>...</td>\n",
       "      <td>...</td>\n",
       "      <td>...</td>\n",
       "      <td>...</td>\n",
       "      <td>...</td>\n",
       "      <td>...</td>\n",
       "      <td>...</td>\n",
       "    </tr>\n",
       "    <tr>\n",
       "      <th>4021</th>\n",
       "      <td>61213731974</td>\n",
       "      <td>324</td>\n",
       "      <td>153</td>\n",
       "      <td>516</td>\n",
       "      <td>1511</td>\n",
       "      <td>719</td>\n",
       "      <td>1638</td>\n",
       "      <td>3255</td>\n",
       "      <td>1509</td>\n",
       "      <td>280</td>\n",
       "      <td>579</td>\n",
       "      <td>1275</td>\n",
       "      <td>507</td>\n",
       "    </tr>\n",
       "    <tr>\n",
       "      <th>4022</th>\n",
       "      <td>83878211395</td>\n",
       "      <td>2095</td>\n",
       "      <td>153</td>\n",
       "      <td>2204</td>\n",
       "      <td>3041</td>\n",
       "      <td>773</td>\n",
       "      <td>3607</td>\n",
       "      <td>3977</td>\n",
       "      <td>3040</td>\n",
       "      <td>280</td>\n",
       "      <td>3794</td>\n",
       "      <td>1312</td>\n",
       "      <td>717</td>\n",
       "    </tr>\n",
       "    <tr>\n",
       "      <th>4023</th>\n",
       "      <td>52441951858</td>\n",
       "      <td>3518</td>\n",
       "      <td>153</td>\n",
       "      <td>3564</td>\n",
       "      <td>3477</td>\n",
       "      <td>1326</td>\n",
       "      <td>937</td>\n",
       "      <td>1</td>\n",
       "      <td>3477</td>\n",
       "      <td>280</td>\n",
       "      <td>2656</td>\n",
       "      <td>2901</td>\n",
       "      <td>3019</td>\n",
       "    </tr>\n",
       "    <tr>\n",
       "      <th>4024</th>\n",
       "      <td>91455531890</td>\n",
       "      <td>1503</td>\n",
       "      <td>153</td>\n",
       "      <td>1453</td>\n",
       "      <td>1729</td>\n",
       "      <td>1585</td>\n",
       "      <td>2812</td>\n",
       "      <td>3192</td>\n",
       "      <td>1723</td>\n",
       "      <td>280</td>\n",
       "      <td>2662</td>\n",
       "      <td>3895</td>\n",
       "      <td>1269</td>\n",
       "    </tr>\n",
       "    <tr>\n",
       "      <th>4025</th>\n",
       "      <td>20717993088</td>\n",
       "      <td>928</td>\n",
       "      <td>153</td>\n",
       "      <td>1280</td>\n",
       "      <td>965</td>\n",
       "      <td>2655</td>\n",
       "      <td>1751</td>\n",
       "      <td>1799</td>\n",
       "      <td>965</td>\n",
       "      <td>280</td>\n",
       "      <td>472</td>\n",
       "      <td>2845</td>\n",
       "      <td>2268</td>\n",
       "    </tr>\n",
       "  </tbody>\n",
       "</table>\n",
       "<p>4026 rows × 13 columns</p>\n",
       "</div>"
      ],
      "text/plain": [
       "      merchant_abn  Take_rate_rank  count_of_bigorder_rank  \\\n",
       "0      42330360779            2866                     153   \n",
       "1      73221370757            2442                     153   \n",
       "2      97598804219            2712                     153   \n",
       "3      66030670083             710                     153   \n",
       "4      86028994742            3257                     153   \n",
       "...            ...             ...                     ...   \n",
       "4021   61213731974             324                     153   \n",
       "4022   83878211395            2095                     153   \n",
       "4023   52441951858            3518                     153   \n",
       "4024   91455531890            1503                     153   \n",
       "4025   20717993088             928                     153   \n",
       "\n",
       "      Avg_amount_monthly_rank  Avg_count_monthly_rank  Order_avg_value_rank  \\\n",
       "0                        2885                    3041                  1588   \n",
       "1                        2756                    1714                  3480   \n",
       "2                        2178                    3195                   620   \n",
       "3                         585                     571                  2410   \n",
       "4                        3761                    2204                  3655   \n",
       "...                       ...                     ...                   ...   \n",
       "4021                      516                    1511                   719   \n",
       "4022                     2204                    3041                   773   \n",
       "4023                     3564                    3477                  1326   \n",
       "4024                     1453                    1729                  1585   \n",
       "4025                     1280                     965                  2655   \n",
       "\n",
       "      avg_prob_fraud_cus_rank  prob_of_fraud_rank  count_cus_per_mon_rank  \\\n",
       "0                        3425                   1                    3040   \n",
       "1                        1740                   1                    1717   \n",
       "2                         661                   1                    3194   \n",
       "3                        2366                2504                     571   \n",
       "4                        2468                3078                    2217   \n",
       "...                       ...                 ...                     ...   \n",
       "4021                     1638                3255                    1509   \n",
       "4022                     3607                3977                    3040   \n",
       "4023                      937                   1                    3477   \n",
       "4024                     2812                3192                    1723   \n",
       "4025                     1751                1799                     965   \n",
       "\n",
       "      fix_cus_num_rank  avg_income_percentage_rank  avg_age_percentage_rank  \\\n",
       "0                  280                         515                     3138   \n",
       "1                  280                         515                     3138   \n",
       "2                  280                        3228                     2047   \n",
       "3                  280                        3769                     4008   \n",
       "4                  280                        3347                      441   \n",
       "...                ...                         ...                      ...   \n",
       "4021               280                         579                     1275   \n",
       "4022               280                        3794                     1312   \n",
       "4023               280                        2656                     2901   \n",
       "4024               280                        2662                     3895   \n",
       "4025               280                         472                     2845   \n",
       "\n",
       "      predict_dollar_value_rank  \n",
       "0                          1188  \n",
       "1                          3065  \n",
       "2                           530  \n",
       "3                          2964  \n",
       "4                          3245  \n",
       "...                         ...  \n",
       "4021                        507  \n",
       "4022                        717  \n",
       "4023                       3019  \n",
       "4024                       1269  \n",
       "4025                       2268  \n",
       "\n",
       "[4026 rows x 13 columns]"
      ]
     },
     "execution_count": 39,
     "metadata": {},
     "output_type": "execute_result"
    }
   ],
   "source": [
    "# Combine all the features' ranking together\n",
    "def all_feature_rank(table_name):\n",
    "    numeric_features_list = ['Take_rate','count_of_bigorder','Avg_amount_monthly', 'Avg_count_monthly', 'Order_avg_value', \n",
    "    'avg_prob_fraud_cus', 'prob_of_fraud', 'count_cus_per_mon','fix_cus_num','avg_income_percentage', 'avg_age_percentage', 'predict_dollar_value']\n",
    "    table_name[['prob_of_fraud']] = -abs(table_name[['prob_of_fraud']])\n",
    "    table_name[['avg_prob_fraud_cus']] = -abs(table_name[['avg_prob_fraud_cus']])\n",
    "    feature_df = table_name[['merchant_abn']]\n",
    "\n",
    "    for feature in numeric_features_list:\n",
    "        features_rank = feature_rank(table_name, feature)\n",
    "        feature_df = pd.merge(feature_df, features_rank, how='inner', on = 'merchant_abn')\n",
    "\n",
    "    return feature_df\n",
    "\n",
    "all_feature_rank(final_pd)"
   ]
  },
  {
   "cell_type": "code",
   "execution_count": 40,
   "metadata": {},
   "outputs": [
    {
     "data": {
      "text/html": [
       "<div>\n",
       "<style scoped>\n",
       "    .dataframe tbody tr th:only-of-type {\n",
       "        vertical-align: middle;\n",
       "    }\n",
       "\n",
       "    .dataframe tbody tr th {\n",
       "        vertical-align: top;\n",
       "    }\n",
       "\n",
       "    .dataframe thead th {\n",
       "        text-align: right;\n",
       "    }\n",
       "</style>\n",
       "<table border=\"1\" class=\"dataframe\">\n",
       "  <thead>\n",
       "    <tr style=\"text-align: right;\">\n",
       "      <th></th>\n",
       "      <th>merchant_abn</th>\n",
       "      <th>final_rank</th>\n",
       "      <th>Take_rate_rank</th>\n",
       "      <th>count_of_bigorder_rank</th>\n",
       "      <th>Avg_amount_monthly_rank</th>\n",
       "      <th>Avg_count_monthly_rank</th>\n",
       "      <th>Order_avg_value_rank</th>\n",
       "      <th>avg_prob_fraud_cus_rank</th>\n",
       "      <th>prob_of_fraud_rank</th>\n",
       "      <th>count_cus_per_mon_rank</th>\n",
       "      <th>fix_cus_num_rank</th>\n",
       "      <th>avg_income_percentage_rank</th>\n",
       "      <th>avg_age_percentage_rank</th>\n",
       "      <th>predict_dollar_value_rank</th>\n",
       "    </tr>\n",
       "  </thead>\n",
       "  <tbody>\n",
       "    <tr>\n",
       "      <th>0</th>\n",
       "      <td>24852446429</td>\n",
       "      <td>1</td>\n",
       "      <td>63</td>\n",
       "      <td>153</td>\n",
       "      <td>37</td>\n",
       "      <td>2</td>\n",
       "      <td>3911</td>\n",
       "      <td>2085</td>\n",
       "      <td>2582</td>\n",
       "      <td>3</td>\n",
       "      <td>2</td>\n",
       "      <td>1058</td>\n",
       "      <td>709</td>\n",
       "      <td>3874</td>\n",
       "    </tr>\n",
       "    <tr>\n",
       "      <th>1</th>\n",
       "      <td>64203420245</td>\n",
       "      <td>2</td>\n",
       "      <td>48</td>\n",
       "      <td>153</td>\n",
       "      <td>6</td>\n",
       "      <td>1</td>\n",
       "      <td>3815</td>\n",
       "      <td>2088</td>\n",
       "      <td>2579</td>\n",
       "      <td>1</td>\n",
       "      <td>1</td>\n",
       "      <td>2917</td>\n",
       "      <td>2173</td>\n",
       "      <td>3870</td>\n",
       "    </tr>\n",
       "    <tr>\n",
       "      <th>2</th>\n",
       "      <td>19492220327</td>\n",
       "      <td>2</td>\n",
       "      <td>28</td>\n",
       "      <td>1</td>\n",
       "      <td>38</td>\n",
       "      <td>1493</td>\n",
       "      <td>117</td>\n",
       "      <td>3834</td>\n",
       "      <td>1</td>\n",
       "      <td>1497</td>\n",
       "      <td>280</td>\n",
       "      <td>830</td>\n",
       "      <td>320</td>\n",
       "      <td>28</td>\n",
       "    </tr>\n",
       "    <tr>\n",
       "      <th>3</th>\n",
       "      <td>60956456424</td>\n",
       "      <td>4</td>\n",
       "      <td>14</td>\n",
       "      <td>153</td>\n",
       "      <td>3</td>\n",
       "      <td>14</td>\n",
       "      <td>3111</td>\n",
       "      <td>2000</td>\n",
       "      <td>2578</td>\n",
       "      <td>14</td>\n",
       "      <td>14</td>\n",
       "      <td>1058</td>\n",
       "      <td>709</td>\n",
       "      <td>2987</td>\n",
       "    </tr>\n",
       "    <tr>\n",
       "      <th>4</th>\n",
       "      <td>15043504837</td>\n",
       "      <td>5</td>\n",
       "      <td>103</td>\n",
       "      <td>3</td>\n",
       "      <td>106</td>\n",
       "      <td>2486</td>\n",
       "      <td>47</td>\n",
       "      <td>3952</td>\n",
       "      <td>1</td>\n",
       "      <td>2484</td>\n",
       "      <td>280</td>\n",
       "      <td>314</td>\n",
       "      <td>434</td>\n",
       "      <td>12</td>\n",
       "    </tr>\n",
       "    <tr>\n",
       "      <th>...</th>\n",
       "      <td>...</td>\n",
       "      <td>...</td>\n",
       "      <td>...</td>\n",
       "      <td>...</td>\n",
       "      <td>...</td>\n",
       "      <td>...</td>\n",
       "      <td>...</td>\n",
       "      <td>...</td>\n",
       "      <td>...</td>\n",
       "      <td>...</td>\n",
       "      <td>...</td>\n",
       "      <td>...</td>\n",
       "      <td>...</td>\n",
       "      <td>...</td>\n",
       "    </tr>\n",
       "    <tr>\n",
       "      <th>4021</th>\n",
       "      <td>88987269041</td>\n",
       "      <td>4022</td>\n",
       "      <td>3632</td>\n",
       "      <td>153</td>\n",
       "      <td>3927</td>\n",
       "      <td>2307</td>\n",
       "      <td>3768</td>\n",
       "      <td>3211</td>\n",
       "      <td>3785</td>\n",
       "      <td>2306</td>\n",
       "      <td>280</td>\n",
       "      <td>3854</td>\n",
       "      <td>3999</td>\n",
       "      <td>3368</td>\n",
       "    </tr>\n",
       "    <tr>\n",
       "      <th>4022</th>\n",
       "      <td>73046248717</td>\n",
       "      <td>4023</td>\n",
       "      <td>3687</td>\n",
       "      <td>153</td>\n",
       "      <td>3989</td>\n",
       "      <td>2905</td>\n",
       "      <td>3361</td>\n",
       "      <td>3314</td>\n",
       "      <td>3834</td>\n",
       "      <td>2905</td>\n",
       "      <td>280</td>\n",
       "      <td>2917</td>\n",
       "      <td>2173</td>\n",
       "      <td>3753</td>\n",
       "    </tr>\n",
       "    <tr>\n",
       "      <th>4023</th>\n",
       "      <td>26788127465</td>\n",
       "      <td>4024</td>\n",
       "      <td>3849</td>\n",
       "      <td>153</td>\n",
       "      <td>3895</td>\n",
       "      <td>3848</td>\n",
       "      <td>759</td>\n",
       "      <td>3957</td>\n",
       "      <td>4020</td>\n",
       "      <td>3848</td>\n",
       "      <td>280</td>\n",
       "      <td>4006</td>\n",
       "      <td>1</td>\n",
       "      <td>1388</td>\n",
       "    </tr>\n",
       "    <tr>\n",
       "      <th>4024</th>\n",
       "      <td>62379298278</td>\n",
       "      <td>4025</td>\n",
       "      <td>3610</td>\n",
       "      <td>153</td>\n",
       "      <td>3923</td>\n",
       "      <td>3572</td>\n",
       "      <td>1755</td>\n",
       "      <td>3985</td>\n",
       "      <td>4000</td>\n",
       "      <td>3572</td>\n",
       "      <td>280</td>\n",
       "      <td>3487</td>\n",
       "      <td>2776</td>\n",
       "      <td>2874</td>\n",
       "    </tr>\n",
       "    <tr>\n",
       "      <th>4025</th>\n",
       "      <td>20415536115</td>\n",
       "      <td>4026</td>\n",
       "      <td>3877</td>\n",
       "      <td>153</td>\n",
       "      <td>4021</td>\n",
       "      <td>3669</td>\n",
       "      <td>2082</td>\n",
       "      <td>3963</td>\n",
       "      <td>4019</td>\n",
       "      <td>3669</td>\n",
       "      <td>280</td>\n",
       "      <td>999</td>\n",
       "      <td>787</td>\n",
       "      <td>2438</td>\n",
       "    </tr>\n",
       "  </tbody>\n",
       "</table>\n",
       "<p>4026 rows × 14 columns</p>\n",
       "</div>"
      ],
      "text/plain": [
       "      merchant_abn  final_rank  Take_rate_rank  count_of_bigorder_rank  \\\n",
       "0      24852446429           1              63                     153   \n",
       "1      64203420245           2              48                     153   \n",
       "2      19492220327           2              28                       1   \n",
       "3      60956456424           4              14                     153   \n",
       "4      15043504837           5             103                       3   \n",
       "...            ...         ...             ...                     ...   \n",
       "4021   88987269041        4022            3632                     153   \n",
       "4022   73046248717        4023            3687                     153   \n",
       "4023   26788127465        4024            3849                     153   \n",
       "4024   62379298278        4025            3610                     153   \n",
       "4025   20415536115        4026            3877                     153   \n",
       "\n",
       "      Avg_amount_monthly_rank  Avg_count_monthly_rank  Order_avg_value_rank  \\\n",
       "0                          37                       2                  3911   \n",
       "1                           6                       1                  3815   \n",
       "2                          38                    1493                   117   \n",
       "3                           3                      14                  3111   \n",
       "4                         106                    2486                    47   \n",
       "...                       ...                     ...                   ...   \n",
       "4021                     3927                    2307                  3768   \n",
       "4022                     3989                    2905                  3361   \n",
       "4023                     3895                    3848                   759   \n",
       "4024                     3923                    3572                  1755   \n",
       "4025                     4021                    3669                  2082   \n",
       "\n",
       "      avg_prob_fraud_cus_rank  prob_of_fraud_rank  count_cus_per_mon_rank  \\\n",
       "0                        2085                2582                       3   \n",
       "1                        2088                2579                       1   \n",
       "2                        3834                   1                    1497   \n",
       "3                        2000                2578                      14   \n",
       "4                        3952                   1                    2484   \n",
       "...                       ...                 ...                     ...   \n",
       "4021                     3211                3785                    2306   \n",
       "4022                     3314                3834                    2905   \n",
       "4023                     3957                4020                    3848   \n",
       "4024                     3985                4000                    3572   \n",
       "4025                     3963                4019                    3669   \n",
       "\n",
       "      fix_cus_num_rank  avg_income_percentage_rank  avg_age_percentage_rank  \\\n",
       "0                    2                        1058                      709   \n",
       "1                    1                        2917                     2173   \n",
       "2                  280                         830                      320   \n",
       "3                   14                        1058                      709   \n",
       "4                  280                         314                      434   \n",
       "...                ...                         ...                      ...   \n",
       "4021               280                        3854                     3999   \n",
       "4022               280                        2917                     2173   \n",
       "4023               280                        4006                        1   \n",
       "4024               280                        3487                     2776   \n",
       "4025               280                         999                      787   \n",
       "\n",
       "      predict_dollar_value_rank  \n",
       "0                          3874  \n",
       "1                          3870  \n",
       "2                            28  \n",
       "3                          2987  \n",
       "4                            12  \n",
       "...                         ...  \n",
       "4021                       3368  \n",
       "4022                       3753  \n",
       "4023                       1388  \n",
       "4024                       2874  \n",
       "4025                       2438  \n",
       "\n",
       "[4026 rows x 14 columns]"
      ]
     },
     "execution_count": 40,
     "metadata": {},
     "output_type": "execute_result"
    }
   ],
   "source": [
    "# Only select the ranking columns and combine with the final rank column to do the comparision\n",
    "select_compare_col = compare_rank_final.select(compare_rank_final.merchant_abn, compare_rank_final.final_rank)\n",
    "select_compare_col = select_compare_col.toPandas()\n",
    "final_feature_rank = all_feature_rank(final_pd)\n",
    "compare_feature_rank = pd.merge(select_compare_col, final_feature_rank)\n",
    "compare_feature_rank"
   ]
  },
  {
   "cell_type": "code",
   "execution_count": 41,
   "metadata": {},
   "outputs": [],
   "source": [
    "# Select the features for drawing the correlation\n",
    "compare_feature_rank_pic = compare_feature_rank.drop(['merchant_abn'], axis = 1)"
   ]
  },
  {
   "cell_type": "code",
   "execution_count": 42,
   "metadata": {},
   "outputs": [],
   "source": [
    "# Find merchants that are in the top 100\n",
    "final_100 = compare_feature_rank[['merchant_abn']].head(100)"
   ]
  },
  {
   "cell_type": "code",
   "execution_count": 43,
   "metadata": {},
   "outputs": [],
   "source": [
    "# The function of how to find how many of the top 100 merchants in each feature ranking are the same as the final top 100\n",
    "def exist_merchant(col_name):\n",
    "    feature_100 = compare_feature_rank[compare_feature_rank[col_name] <= 100]\n",
    "    feature_100 = feature_100[['merchant_abn']].head(100)\n",
    "    same_merchant = pd.merge(feature_100, final_100, how='inner', on=['merchant_abn', 'merchant_abn'])\n",
    "    same_merchant_num = len(same_merchant)\n",
    "    return same_merchant_num"
   ]
  },
  {
   "cell_type": "code",
   "execution_count": 44,
   "metadata": {},
   "outputs": [
    {
     "name": "stdout",
     "output_type": "stream",
     "text": [
      "[62, 18, 72, 45, 11, 1, 16, 45, 46, 5, 2, 17]\n"
     ]
    }
   ],
   "source": [
    "# Use the function to count the number of the same merchants\n",
    "same_merchant_num_list = []\n",
    "for col_name in compare_feature_rank.columns[2:]:\n",
    "    num = exist_merchant(col_name)\n",
    "    same_merchant_num_list.append(num)\n",
    "print(same_merchant_num_list)"
   ]
  },
  {
   "cell_type": "code",
   "execution_count": 47,
   "metadata": {},
   "outputs": [
    {
     "data": {
      "image/png": "[encoded data removed]",
      "text/plain": [
       "<Figure size 1600x800 with 2 Axes>"
      ]
     },
     "metadata": {},
     "output_type": "display_data"
    }
   ],
   "source": [
    "# Plot the heatmap to find the correlation\n",
    "plt.figure(figsize=(16,8))\n",
    "cor = compare_feature_rank_pic.corr()\n",
    "heatmap = sns.heatmap(cor, annot=True, cmap=plt.cm.Blues)\n",
    "heatmap.set_title('Correlation between features')\n",
    "#plt.show()\n",
    "plt.savefig('../plots/heatmap.jpg', bbox_inches='tight')"
   ]
  },
  {
   "cell_type": "code",
   "execution_count": 46,
   "metadata": {},
   "outputs": [],
   "source": [
    "compare_feature_rank.to_parquet('../data/curated/compare_feature_rank.parquet')"
   ]
  }
 ],
 "metadata": {
  "kernelspec": {
   "display_name": "Python 3.10.6 64-bit",
   "language": "python",
   "name": "python3"
  },
  "language_info": {
   "codemirror_mode": {
    "name": "ipython",
    "version": 3
   },
   "file_extension": ".py",
   "mimetype": "text/x-python",
   "name": "python",
   "nbconvert_exporter": "python",
   "pygments_lexer": "ipython3",
   "version": "3.10.6"
  },
  "orig_nbformat": 4,
  "vscode": {
   "interpreter": {
    "hash": "b0fa6594d8f4cbf19f97940f81e996739fb7646882a419484c72d19e05852a7e"
   }
  }
 },
 "nbformat": 4,
 "nbformat_minor": 2
}
